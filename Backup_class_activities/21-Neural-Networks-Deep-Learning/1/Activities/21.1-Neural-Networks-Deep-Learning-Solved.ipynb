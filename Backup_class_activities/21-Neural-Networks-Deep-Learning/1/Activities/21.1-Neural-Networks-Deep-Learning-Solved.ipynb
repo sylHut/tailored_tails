{
 "cells": [
  {
   "cell_type": "markdown",
   "metadata": {},
   "source": [
    "@channel **Hello Everyone,**"
   ]
  },
  {
   "cell_type": "markdown",
   "metadata": {},
   "source": [
    "**2024-01-30 `21.1-Neural-Networks-Deep-Learning-Introduction to Advanced Machine Learning`**"
   ]
  },
  {
   "cell_type": "markdown",
   "metadata": {},
   "source": [
    "Now we learn one of the most interesting and groundbreaking models out there 'tensorflow'.  Basically, tensorflow attempts to work like the human brain!  While it really isn't nearly as powerful as a human brain, it does provide amazing results.  We will interact with Tensorflow models using 'Keras'.\n",
    "\n",
    "* [Great PBS video on Neural Networks](https://www.youtube.com/watch?time_continue=11&v=oV3ZY6tJiA0&feature=emb_title)\n",
    "* [Tensorflow Playground](https://playground.tensorflow.org/#activation=sigmoid&batchSize=10&dataset=gauss&regDataset=reg-plane&learningRate=0.03&regularizationRate=0&noise=0&networkShape=1&seed=0.10587&showTestData=false&discretize=true&percTrainData=50&x=true&y=true&xTimesY=false&xSquared=false&ySquared=false&cosX=false&sinX=false&cosY=false&sinY=false&collectStats=false&problem=classification&initZero=false&hideText=false&discretize_hide=true&regularization_hide=true&learningRate_hide=true&regularizationRate_hide=true&percTrainData_hide=true&showTestData_hide=true&noise_hide=true&batchSize_hide=true)\n",
    "* [Google Colaboratory](https://colab.research.google.com/notebooks/welcome.ipynb)\n",
    "* [Nice Neural Network explanation](https://www.explainthatstuff.com/introduction-to-neural-networks.html)\n",
    "* [Very nice (kind of long) Keras Tutorial](https://elitedatascience.com/keras-tutorial-deep-learning-in-python)\n",
    "* [Shorter Keras tutorial and example](https://victorzhou.com/blog/keras-neural-network-tutorial/)\n",
    "* [But what is a neural network? | Chapter 1, Deep learning](https://www.youtube.com/watch?v=aircAruvnKk)\n",
    "* [Deep Learning Lecture 3: Hands-On in the Playground](https://www.youtube.com/watch?v=ru9dXF04iSE)"
   ]
  },
  {
   "cell_type": "markdown",
   "metadata": {},
   "source": [
    "**Objectives**\n",
    "\n",
    "* Compare the differences between the traditional machine learning classification and regression models and the neural network models.\n",
    "* Describe the perceptron model and its components.\n",
    "* Implement neural network models using TensorFlow."
   ]
  },
  {
   "cell_type": "markdown",
   "metadata": {},
   "source": [
    "**Presentation**\n",
    "* [21.1 Introduction to Advanced Machine Learning](https://git.bootcampcontent.com/University-of-California---Berkeley/UCB-VIRT-DATA-PT-08-2023-U-LOLC/-/blob/main/Slides/Data-21.1-Introduction_to_Advanced_Machine_Learning.pdf)"
   ]
  },
  {
   "cell_type": "markdown",
   "metadata": {},
   "source": [
    "**Install**\n",
    "```\n",
    "# Requires the latest pip\n",
    "python.exe -m pip install --upgrade pip\n",
    "\n",
    "# Current stable release for CPU and GPU\n",
    "pip install tensorflow\n",
    "```\n",
    "\n",
    "[Install TensorFlow 2](https://www.tensorflow.org/install/)"
   ]
  },
  {
   "cell_type": "markdown",
   "metadata": {},
   "source": [
    "**Best wishes.**"
   ]
  },
  {
   "cell_type": "markdown",
   "metadata": {},
   "source": [
    "# =========================================="
   ]
  },
  {
   "cell_type": "markdown",
   "metadata": {},
   "source": [
    "### Instructor Do: Surfing the Neural Net (0:05)"
   ]
  },
  {
   "cell_type": "markdown",
   "metadata": {},
   "source": []
  },
  {
   "cell_type": "markdown",
   "metadata": {},
   "source": [
    "---\n",
    "### Instructor Do: What is a Neural Network? (0:15)"
   ]
  },
  {
   "cell_type": "markdown",
   "metadata": {},
   "source": [
    "# =========================================="
   ]
  },
  {
   "cell_type": "markdown",
   "metadata": {},
   "source": [
    "### 1.01 Students Do: Working Through the Logistics (15 min)"
   ]
  },
  {
   "cell_type": "markdown",
   "metadata": {},
   "source": [
    "# Work Through Logistics\n",
    "In this activity, you'll use a logistic regression to categorize data from the `make_blobs` function from scikit-learn to create data.\n",
    "## Instructions\n",
    "* Use the starter code provided to create your `make_blobs` dataset from scikit-learn.\n",
    "* Split your dataset into training and testing sets using scikit-learn's `train_test_split` module.\n",
    "* Create a LogisticRegression instance from scikit-learn's `LogisticRegression` model.\n",
    "## Hint\n",
    "  * If you need a reminder on how to create a `LogisticRegression` model, review the [Scikit-learn documentation](https://scikit-learn.org/stable/modules/generated/sklearn.linear_model.LogisticRegression.html).\n",
    "* Train your `LogisticRegression` model on the training dataset.\n",
    "* Evaluate your trained `LogisticRegression` model using the `accuracy_score` metric from scikit-learn.\n",
    "\n",
    "---"
   ]
  },
  {
   "cell_type": "code",
   "execution_count": 30,
   "metadata": {},
   "outputs": [
    {
     "data": {
      "text/plain": [
       "<matplotlib.collections.PathCollection at 0x208856cf9c8>"
      ]
     },
     "execution_count": 30,
     "metadata": {},
     "output_type": "execute_result"
    },
    {
     "data": {
      "image/png": "[encoded data removed]",
      "text/plain": [
       "<Figure size 640x480 with 1 Axes>"
      ]
     },
     "metadata": {},
     "output_type": "display_data"
    }
   ],
   "source": [
    "# Import dependencies\n",
    "import matplotlib.pyplot as plt\n",
    "import pandas as pd\n",
    "\n",
    "# Generate dummy dataset\n",
    "from sklearn.datasets import make_blobs\n",
    "X, y = make_blobs(centers=2, random_state=42)\n",
    "\n",
    "plt.scatter(X[:, 0], X[:, 1], c=y)"
   ]
  },
  {
   "cell_type": "code",
   "execution_count": 31,
   "metadata": {},
   "outputs": [],
   "source": [
    "# Use sklearn to split dataset\n",
    "from sklearn.model_selection import train_test_split\n",
    "X_train, X_test, y_train, y_test = train_test_split(X, y, random_state=78)"
   ]
  },
  {
   "cell_type": "code",
   "execution_count": 3,
   "metadata": {},
   "outputs": [
    {
     "data": {
      "text/plain": [
       "LogisticRegression(max_iter=200)"
      ]
     },
     "execution_count": 3,
     "metadata": {},
     "output_type": "execute_result"
    }
   ],
   "source": [
    "# Create a logistic regression model\n",
    "from sklearn.linear_model import LogisticRegression\n",
    "classifier = LogisticRegression(solver='lbfgs', random_state=1)\n",
    "\n",
    "# Define the logistic regression model\n",
    "log_classifier = LogisticRegression(solver=\"lbfgs\",max_iter=200)\n",
    "\n",
    "# Train the model\n",
    "log_classifier.fit(X_train,y_train)"
   ]
  },
  {
   "cell_type": "code",
   "execution_count": 32,
   "metadata": {},
   "outputs": [
    {
     "name": "stdout",
     "output_type": "stream",
     "text": [
      " Logistic regression model accuracy: 1.000\n"
     ]
    }
   ],
   "source": [
    "from sklearn.metrics import accuracy_score\n",
    "y_pred = log_classifier.predict(X_test)\n",
    "print(f\" Logistic regression model accuracy: {accuracy_score(y_test,y_pred):.3f}\")"
   ]
  },
  {
   "cell_type": "markdown",
   "metadata": {},
   "source": [
    "# =========================================="
   ]
  },
  {
   "cell_type": "markdown",
   "metadata": {},
   "source": [
    "### 1.02 Everyone Do: Work Through a Neural Network Workflow (0:20)"
   ]
  },
  {
   "cell_type": "markdown",
   "metadata": {},
   "source": []
  },
  {
   "cell_type": "code",
   "execution_count": 5,
   "metadata": {},
   "outputs": [],
   "source": [
    "# !python.exe -m pip install --upgrade pip\n",
    "# !pip install tensorflow"
   ]
  },
  {
   "cell_type": "code",
   "execution_count": 6,
   "metadata": {
    "executionInfo": {
     "elapsed": 3773,
     "status": "ok",
     "timestamp": 1676475308224,
     "user": {
      "displayName": "Sean Morey",
      "userId": "09649124933964159109"
     },
     "user_tz": 360
    },
    "id": "81Tj1ajPtFJg"
   },
   "outputs": [],
   "source": [
    "# Import our dependencies\n",
    "import pandas as pd\n",
    "import matplotlib.pyplot as plt\n",
    "from sklearn.datasets import make_blobs\n",
    "import sklearn as skl\n",
    "import tensorflow as tf"
   ]
  },
  {
   "cell_type": "code",
   "execution_count": 7,
   "metadata": {
    "colab": {
     "base_uri": "https://localhost:8080/",
     "height": 258
    },
    "executionInfo": {
     "elapsed": 1351,
     "status": "ok",
     "timestamp": 1676475309574,
     "user": {
      "displayName": "Sean Morey",
      "userId": "09649124933964159109"
     },
     "user_tz": 360
    },
    "id": "XeSjaj_CtFJi",
    "outputId": "2cfcd704-b1c9-4b8b-d566-f4bf8d10ad0c"
   },
   "outputs": [
    {
     "data": {
      "image/png": "[encoded data removed]",
      "text/plain": [
       "<Figure size 640x480 with 2 Axes>"
      ]
     },
     "metadata": {},
     "output_type": "display_data"
    }
   ],
   "source": [
    "# Generate dummy dataset\n",
    "X, y = make_blobs(n_samples=1000, centers=2, n_features=2, random_state=78)\n",
    "\n",
    "# Creating a DataFrame with the dummy data\n",
    "df = pd.DataFrame(X, columns=[\"Feature 1\", \"Feature 2\"])\n",
    "df[\"Target\"] = y\n",
    "\n",
    "# Plotting the dummy data\n",
    "df.plot.scatter(x=\"Feature 1\", y=\"Feature 2\", c=\"Target\", colormap=\"winter\")\n",
    "plt.show()"
   ]
  },
  {
   "cell_type": "code",
   "execution_count": 8,
   "metadata": {
    "executionInfo": {
     "elapsed": 7,
     "status": "ok",
     "timestamp": 1676475309574,
     "user": {
      "displayName": "Sean Morey",
      "userId": "09649124933964159109"
     },
     "user_tz": 360
    },
    "id": "OsXCTQXutFJj"
   },
   "outputs": [],
   "source": [
    "# Use sklearn to split dataset\n",
    "from sklearn.model_selection import train_test_split\n",
    "X_train, X_test, y_train, y_test = train_test_split(X, y, random_state=78)"
   ]
  },
  {
   "cell_type": "code",
   "execution_count": 9,
   "metadata": {
    "executionInfo": {
     "elapsed": 7,
     "status": "ok",
     "timestamp": 1676475309575,
     "user": {
      "displayName": "Sean Morey",
      "userId": "09649124933964159109"
     },
     "user_tz": 360
    },
    "id": "bRLOgkXetFJj"
   },
   "outputs": [],
   "source": [
    "# Create scaler instance\n",
    "X_scaler = skl.preprocessing.StandardScaler()\n",
    "\n",
    "# Fit the scaler\n",
    "X_scaler.fit(X_train)\n",
    "\n",
    "# Scale the data\n",
    "X_train_scaled = X_scaler.transform(X_train)\n",
    "X_test_scaled = X_scaler.transform(X_test)"
   ]
  },
  {
   "cell_type": "code",
   "execution_count": 10,
   "metadata": {
    "executionInfo": {
     "elapsed": 7,
     "status": "ok",
     "timestamp": 1676475309575,
     "user": {
      "displayName": "Sean Morey",
      "userId": "09649124933964159109"
     },
     "user_tz": 360
    },
    "id": "MUjwJzKWtFJj"
   },
   "outputs": [],
   "source": [
    "# Create the Keras Sequential model\n",
    "nn_model = tf.keras.models.Sequential()"
   ]
  },
  {
   "cell_type": "code",
   "execution_count": 11,
   "metadata": {
    "executionInfo": {
     "elapsed": 7,
     "status": "ok",
     "timestamp": 1676475309575,
     "user": {
      "displayName": "Sean Morey",
      "userId": "09649124933964159109"
     },
     "user_tz": 360
    },
    "id": "BkUyAE0CtFJj"
   },
   "outputs": [],
   "source": [
    "# Add our first Dense layer, including the input layer\n",
    "nn_model.add(tf.keras.layers.Dense(units=5, activation=\"relu\", input_dim=2))"
   ]
  },
  {
   "cell_type": "code",
   "execution_count": 12,
   "metadata": {
    "executionInfo": {
     "elapsed": 7,
     "status": "ok",
     "timestamp": 1676475309575,
     "user": {
      "displayName": "Sean Morey",
      "userId": "09649124933964159109"
     },
     "user_tz": 360
    },
    "id": "hAmxQdVCtFJj"
   },
   "outputs": [],
   "source": [
    "# Add the output layer that uses a probability activation function\n",
    "nn_model.add(tf.keras.layers.Dense(units=1, activation=\"sigmoid\"))"
   ]
  },
  {
   "cell_type": "code",
   "execution_count": 13,
   "metadata": {
    "colab": {
     "base_uri": "https://localhost:8080/"
    },
    "executionInfo": {
     "elapsed": 7,
     "status": "ok",
     "timestamp": 1676475309575,
     "user": {
      "displayName": "Sean Morey",
      "userId": "09649124933964159109"
     },
     "user_tz": 360
    },
    "id": "Z1KmRfoJtFJk",
    "outputId": "1e7acd2f-bc5b-453e-a151-19adcf3ef9c6"
   },
   "outputs": [
    {
     "name": "stdout",
     "output_type": "stream",
     "text": [
      "Model: \"sequential\"\n",
      "_________________________________________________________________\n",
      " Layer (type)                Output Shape              Param #   \n",
      "=================================================================\n",
      " dense (Dense)               (None, 5)                 15        \n",
      "                                                                 \n",
      " dense_1 (Dense)             (None, 1)                 6         \n",
      "                                                                 \n",
      "=================================================================\n",
      "Total params: 21\n",
      "Trainable params: 21\n",
      "Non-trainable params: 0\n",
      "_________________________________________________________________\n"
     ]
    }
   ],
   "source": [
    "# Check the structure of the Sequential model\n",
    "nn_model.summary()"
   ]
  },
  {
   "cell_type": "code",
   "execution_count": 14,
   "metadata": {
    "colab": {
     "base_uri": "https://localhost:8080/"
    },
    "executionInfo": {
     "elapsed": 11285,
     "status": "ok",
     "timestamp": 1676475320855,
     "user": {
      "displayName": "Sean Morey",
      "userId": "09649124933964159109"
     },
     "user_tz": 360
    },
    "id": "m0zzhvO4tFJk",
    "outputId": "bbf56546-c0bd-465e-9c1a-5547fd944c7a"
   },
   "outputs": [
    {
     "name": "stdout",
     "output_type": "stream",
     "text": [
      "Epoch 1/100\n",
      "24/24 [==============================] - 1s 2ms/step - loss: 0.7621 - accuracy: 0.3293\n",
      "Epoch 2/100\n",
      "24/24 [==============================] - 0s 2ms/step - loss: 0.7278 - accuracy: 0.5120\n",
      "Epoch 3/100\n",
      "24/24 [==============================] - 0s 2ms/step - loss: 0.6973 - accuracy: 0.5587\n",
      "Epoch 4/100\n",
      "24/24 [==============================] - 0s 1ms/step - loss: 0.6690 - accuracy: 0.6120\n",
      "Epoch 5/100\n",
      "24/24 [==============================] - 0s 1ms/step - loss: 0.6402 - accuracy: 0.6680\n",
      "Epoch 6/100\n",
      "24/24 [==============================] - 0s 2ms/step - loss: 0.6112 - accuracy: 0.7187\n",
      "Epoch 7/100\n",
      "24/24 [==============================] - 0s 2ms/step - loss: 0.5800 - accuracy: 0.7733\n",
      "Epoch 8/100\n",
      "24/24 [==============================] - 0s 1ms/step - loss: 0.5464 - accuracy: 0.8400\n",
      "Epoch 9/100\n",
      "24/24 [==============================] - 0s 1ms/step - loss: 0.5106 - accuracy: 0.8933\n",
      "Epoch 10/100\n",
      "24/24 [==============================] - 0s 1ms/step - loss: 0.4722 - accuracy: 0.9280\n",
      "Epoch 11/100\n",
      "24/24 [==============================] - 0s 1ms/step - loss: 0.4324 - accuracy: 0.9533\n",
      "Epoch 12/100\n",
      "24/24 [==============================] - 0s 1ms/step - loss: 0.3919 - accuracy: 0.9773\n",
      "Epoch 13/100\n",
      "24/24 [==============================] - 0s 1ms/step - loss: 0.3528 - accuracy: 0.9867\n",
      "Epoch 14/100\n",
      "24/24 [==============================] - 0s 2ms/step - loss: 0.3157 - accuracy: 0.9947\n",
      "Epoch 15/100\n",
      "24/24 [==============================] - 0s 2ms/step - loss: 0.2812 - accuracy: 0.9960\n",
      "Epoch 16/100\n",
      "24/24 [==============================] - 0s 2ms/step - loss: 0.2500 - accuracy: 0.9987\n",
      "Epoch 17/100\n",
      "24/24 [==============================] - 0s 2ms/step - loss: 0.2221 - accuracy: 1.0000\n",
      "Epoch 18/100\n",
      "24/24 [==============================] - 0s 2ms/step - loss: 0.1975 - accuracy: 1.0000\n",
      "Epoch 19/100\n",
      "24/24 [==============================] - 0s 1ms/step - loss: 0.1762 - accuracy: 1.0000\n",
      "Epoch 20/100\n",
      "24/24 [==============================] - 0s 1ms/step - loss: 0.1575 - accuracy: 1.0000\n",
      "Epoch 21/100\n",
      "24/24 [==============================] - 0s 1ms/step - loss: 0.1413 - accuracy: 1.0000\n",
      "Epoch 22/100\n",
      "24/24 [==============================] - 0s 1ms/step - loss: 0.1272 - accuracy: 1.0000\n",
      "Epoch 23/100\n",
      "24/24 [==============================] - 0s 1ms/step - loss: 0.1150 - accuracy: 1.0000\n",
      "Epoch 24/100\n",
      "24/24 [==============================] - 0s 1ms/step - loss: 0.1043 - accuracy: 1.0000\n",
      "Epoch 25/100\n",
      "24/24 [==============================] - 0s 1ms/step - loss: 0.0949 - accuracy: 1.0000\n",
      "Epoch 26/100\n",
      "24/24 [==============================] - 0s 2ms/step - loss: 0.0867 - accuracy: 1.0000\n",
      "Epoch 27/100\n",
      "24/24 [==============================] - 0s 2ms/step - loss: 0.0794 - accuracy: 1.0000\n",
      "Epoch 28/100\n",
      "24/24 [==============================] - 0s 2ms/step - loss: 0.0730 - accuracy: 1.0000\n",
      "Epoch 29/100\n",
      "24/24 [==============================] - 0s 2ms/step - loss: 0.0672 - accuracy: 1.0000\n",
      "Epoch 30/100\n",
      "24/24 [==============================] - 0s 2ms/step - loss: 0.0621 - accuracy: 1.0000\n",
      "Epoch 31/100\n",
      "24/24 [==============================] - 0s 2ms/step - loss: 0.0575 - accuracy: 1.0000\n",
      "Epoch 32/100\n",
      "24/24 [==============================] - 0s 1ms/step - loss: 0.0533 - accuracy: 1.0000\n",
      "Epoch 33/100\n",
      "24/24 [==============================] - 0s 1ms/step - loss: 0.0496 - accuracy: 1.0000\n",
      "Epoch 34/100\n",
      "24/24 [==============================] - 0s 1ms/step - loss: 0.0463 - accuracy: 1.0000\n",
      "Epoch 35/100\n",
      "24/24 [==============================] - 0s 1ms/step - loss: 0.0432 - accuracy: 1.0000\n",
      "Epoch 36/100\n",
      "24/24 [==============================] - 0s 1ms/step - loss: 0.0404 - accuracy: 1.0000\n",
      "Epoch 37/100\n",
      "24/24 [==============================] - 0s 1ms/step - loss: 0.0379 - accuracy: 1.0000\n",
      "Epoch 38/100\n",
      "24/24 [==============================] - 0s 1ms/step - loss: 0.0356 - accuracy: 1.0000\n",
      "Epoch 39/100\n",
      "24/24 [==============================] - 0s 1ms/step - loss: 0.0335 - accuracy: 1.0000\n",
      "Epoch 40/100\n",
      "24/24 [==============================] - 0s 1ms/step - loss: 0.0316 - accuracy: 1.0000\n",
      "Epoch 41/100\n",
      "24/24 [==============================] - 0s 1ms/step - loss: 0.0298 - accuracy: 1.0000\n",
      "Epoch 42/100\n",
      "24/24 [==============================] - 0s 1ms/step - loss: 0.0282 - accuracy: 1.0000\n",
      "Epoch 43/100\n",
      "24/24 [==============================] - 0s 1ms/step - loss: 0.0267 - accuracy: 1.0000\n",
      "Epoch 44/100\n",
      "24/24 [==============================] - 0s 1ms/step - loss: 0.0253 - accuracy: 1.0000\n",
      "Epoch 45/100\n",
      "24/24 [==============================] - 0s 1ms/step - loss: 0.0240 - accuracy: 1.0000\n",
      "Epoch 46/100\n",
      "24/24 [==============================] - 0s 1ms/step - loss: 0.0228 - accuracy: 1.0000\n",
      "Epoch 47/100\n",
      "24/24 [==============================] - 0s 1ms/step - loss: 0.0217 - accuracy: 1.0000\n",
      "Epoch 48/100\n",
      "24/24 [==============================] - 0s 1ms/step - loss: 0.0206 - accuracy: 1.0000\n",
      "Epoch 49/100\n",
      "24/24 [==============================] - 0s 1ms/step - loss: 0.0197 - accuracy: 1.0000\n",
      "Epoch 50/100\n",
      "24/24 [==============================] - 0s 1ms/step - loss: 0.0187 - accuracy: 1.0000\n",
      "Epoch 51/100\n",
      "24/24 [==============================] - 0s 1ms/step - loss: 0.0179 - accuracy: 1.0000\n",
      "Epoch 52/100\n",
      "24/24 [==============================] - 0s 1ms/step - loss: 0.0171 - accuracy: 1.0000\n",
      "Epoch 53/100\n",
      "24/24 [==============================] - 0s 1ms/step - loss: 0.0164 - accuracy: 1.0000\n",
      "Epoch 54/100\n",
      "24/24 [==============================] - 0s 1ms/step - loss: 0.0157 - accuracy: 1.0000\n",
      "Epoch 55/100\n",
      "24/24 [==============================] - 0s 1ms/step - loss: 0.0150 - accuracy: 1.0000\n",
      "Epoch 56/100\n",
      "24/24 [==============================] - 0s 1ms/step - loss: 0.0144 - accuracy: 1.0000\n",
      "Epoch 57/100\n",
      "24/24 [==============================] - 0s 1ms/step - loss: 0.0138 - accuracy: 1.0000\n",
      "Epoch 58/100\n",
      "24/24 [==============================] - 0s 2ms/step - loss: 0.0133 - accuracy: 1.0000\n",
      "Epoch 59/100\n",
      "24/24 [==============================] - 0s 1ms/step - loss: 0.0128 - accuracy: 1.0000\n",
      "Epoch 60/100\n",
      "24/24 [==============================] - 0s 1ms/step - loss: 0.0123 - accuracy: 1.0000\n",
      "Epoch 61/100\n",
      "24/24 [==============================] - 0s 1ms/step - loss: 0.0118 - accuracy: 1.0000\n",
      "Epoch 62/100\n",
      "24/24 [==============================] - 0s 1ms/step - loss: 0.0113 - accuracy: 1.0000\n",
      "Epoch 63/100\n",
      "24/24 [==============================] - 0s 1ms/step - loss: 0.0109 - accuracy: 1.0000\n",
      "Epoch 64/100\n",
      "24/24 [==============================] - 0s 1ms/step - loss: 0.0105 - accuracy: 1.0000\n",
      "Epoch 65/100\n",
      "24/24 [==============================] - 0s 1ms/step - loss: 0.0101 - accuracy: 1.0000\n",
      "Epoch 66/100\n",
      "24/24 [==============================] - 0s 1ms/step - loss: 0.0098 - accuracy: 1.0000\n",
      "Epoch 67/100\n",
      "24/24 [==============================] - 0s 1ms/step - loss: 0.0094 - accuracy: 1.0000\n",
      "Epoch 68/100\n",
      "24/24 [==============================] - 0s 1ms/step - loss: 0.0091 - accuracy: 1.0000\n",
      "Epoch 69/100\n",
      "24/24 [==============================] - 0s 1ms/step - loss: 0.0088 - accuracy: 1.0000\n",
      "Epoch 70/100\n",
      "24/24 [==============================] - 0s 1ms/step - loss: 0.0085 - accuracy: 1.0000\n",
      "Epoch 71/100\n",
      "24/24 [==============================] - 0s 1ms/step - loss: 0.0082 - accuracy: 1.0000\n",
      "Epoch 72/100\n",
      "24/24 [==============================] - 0s 1ms/step - loss: 0.0079 - accuracy: 1.0000\n",
      "Epoch 73/100\n",
      "24/24 [==============================] - 0s 1ms/step - loss: 0.0077 - accuracy: 1.0000\n",
      "Epoch 74/100\n",
      "24/24 [==============================] - 0s 1ms/step - loss: 0.0074 - accuracy: 1.0000\n",
      "Epoch 75/100\n",
      "24/24 [==============================] - 0s 1ms/step - loss: 0.0072 - accuracy: 1.0000\n",
      "Epoch 76/100\n",
      "24/24 [==============================] - 0s 1ms/step - loss: 0.0070 - accuracy: 1.0000\n",
      "Epoch 77/100\n",
      "24/24 [==============================] - 0s 1ms/step - loss: 0.0067 - accuracy: 1.0000\n",
      "Epoch 78/100\n",
      "24/24 [==============================] - 0s 1ms/step - loss: 0.0065 - accuracy: 1.0000\n",
      "Epoch 79/100\n",
      "24/24 [==============================] - 0s 1ms/step - loss: 0.0063 - accuracy: 1.0000\n",
      "Epoch 80/100\n",
      "24/24 [==============================] - 0s 1ms/step - loss: 0.0062 - accuracy: 1.0000\n",
      "Epoch 81/100\n",
      "24/24 [==============================] - 0s 1ms/step - loss: 0.0060 - accuracy: 1.0000\n",
      "Epoch 82/100\n",
      "24/24 [==============================] - 0s 1ms/step - loss: 0.0058 - accuracy: 1.0000\n",
      "Epoch 83/100\n",
      "24/24 [==============================] - 0s 1ms/step - loss: 0.0056 - accuracy: 1.0000\n",
      "Epoch 84/100\n",
      "24/24 [==============================] - 0s 1ms/step - loss: 0.0055 - accuracy: 1.0000\n",
      "Epoch 85/100\n",
      "24/24 [==============================] - 0s 1ms/step - loss: 0.0053 - accuracy: 1.0000\n",
      "Epoch 86/100\n",
      "24/24 [==============================] - 0s 1ms/step - loss: 0.0052 - accuracy: 1.0000\n",
      "Epoch 87/100\n",
      "24/24 [==============================] - 0s 1ms/step - loss: 0.0050 - accuracy: 1.0000\n",
      "Epoch 88/100\n",
      "24/24 [==============================] - 0s 1ms/step - loss: 0.0049 - accuracy: 1.0000\n",
      "Epoch 89/100\n",
      "24/24 [==============================] - 0s 1ms/step - loss: 0.0047 - accuracy: 1.0000\n",
      "Epoch 90/100\n",
      "24/24 [==============================] - 0s 1ms/step - loss: 0.0046 - accuracy: 1.0000\n",
      "Epoch 91/100\n",
      "24/24 [==============================] - 0s 1ms/step - loss: 0.0045 - accuracy: 1.0000\n",
      "Epoch 92/100\n",
      "24/24 [==============================] - 0s 1ms/step - loss: 0.0044 - accuracy: 1.0000\n",
      "Epoch 93/100\n",
      "24/24 [==============================] - 0s 1ms/step - loss: 0.0042 - accuracy: 1.0000\n",
      "Epoch 94/100\n",
      "24/24 [==============================] - 0s 1ms/step - loss: 0.0041 - accuracy: 1.0000\n",
      "Epoch 95/100\n",
      "24/24 [==============================] - 0s 1ms/step - loss: 0.0040 - accuracy: 1.0000\n",
      "Epoch 96/100\n",
      "24/24 [==============================] - 0s 1ms/step - loss: 0.0039 - accuracy: 1.0000\n",
      "Epoch 97/100\n",
      "24/24 [==============================] - 0s 1ms/step - loss: 0.0038 - accuracy: 1.0000\n",
      "Epoch 98/100\n",
      "24/24 [==============================] - 0s 1ms/step - loss: 0.0037 - accuracy: 1.0000\n",
      "Epoch 99/100\n",
      "24/24 [==============================] - 0s 1ms/step - loss: 0.0036 - accuracy: 1.0000\n",
      "Epoch 100/100\n",
      "24/24 [==============================] - 0s 1ms/step - loss: 0.0035 - accuracy: 1.0000\n"
     ]
    }
   ],
   "source": [
    "# Compile the Sequential model together and customize metrics\n",
    "nn_model.compile(loss=\"binary_crossentropy\", optimizer=\"adam\", metrics=[\"accuracy\"])\n",
    "\n",
    "# Fit the model to the training data\n",
    "fit_model = nn_model.fit(X_train_scaled, y_train, epochs=100)"
   ]
  },
  {
   "cell_type": "code",
   "execution_count": 15,
   "metadata": {
    "colab": {
     "base_uri": "https://localhost:8080/",
     "height": 265
    },
    "executionInfo": {
     "elapsed": 186,
     "status": "ok",
     "timestamp": 1676475321032,
     "user": {
      "displayName": "Sean Morey",
      "userId": "09649124933964159109"
     },
     "user_tz": 360
    },
    "id": "pPtmHLRutFJk",
    "outputId": "be803544-623c-41c2-ac40-751e6ed0d01d"
   },
   "outputs": [
    {
     "data": {
      "image/png": "[encoded data removed]",
      "text/plain": [
       "<Figure size 640x480 with 1 Axes>"
      ]
     },
     "metadata": {},
     "output_type": "display_data"
    }
   ],
   "source": [
    "# Create a DataFrame containing training history\n",
    "history_df = pd.DataFrame(fit_model.history)\n",
    "\n",
    "# Increase the index by 1 to match the number of epochs\n",
    "history_df.index += 1\n",
    "\n",
    "# Plot the loss\n",
    "history_df.plot(y=\"loss\")\n",
    "plt.show()"
   ]
  },
  {
   "cell_type": "code",
   "execution_count": 16,
   "metadata": {
    "colab": {
     "base_uri": "https://localhost:8080/",
     "height": 265
    },
    "executionInfo": {
     "elapsed": 429,
     "status": "ok",
     "timestamp": 1676475321459,
     "user": {
      "displayName": "Sean Morey",
      "userId": "09649124933964159109"
     },
     "user_tz": 360
    },
    "id": "ijvAVCfhtFJk",
    "outputId": "d2bdf3db-ea17-4783-f7c5-fea21c65fb9c"
   },
   "outputs": [
    {
     "data": {
      "image/png": "[encoded data removed]",
      "text/plain": [
       "<Figure size 640x480 with 1 Axes>"
      ]
     },
     "metadata": {},
     "output_type": "display_data"
    }
   ],
   "source": [
    "# Plot the accuracy\n",
    "history_df.plot(y=\"accuracy\")\n",
    "plt.show()"
   ]
  },
  {
   "cell_type": "code",
   "execution_count": 17,
   "metadata": {
    "colab": {
     "base_uri": "https://localhost:8080/"
    },
    "executionInfo": {
     "elapsed": 764,
     "status": "ok",
     "timestamp": 1676475322220,
     "user": {
      "displayName": "Sean Morey",
      "userId": "09649124933964159109"
     },
     "user_tz": 360
    },
    "id": "GBvatzq0tFJl",
    "outputId": "8e4abd1b-c287-49ca-ae76-f7febed168d3"
   },
   "outputs": [
    {
     "name": "stdout",
     "output_type": "stream",
     "text": [
      "8/8 - 0s - loss: 0.0032 - accuracy: 1.0000 - 117ms/epoch - 15ms/step\n",
      "Loss: 0.003173678880557418, Accuracy: 1.0\n"
     ]
    }
   ],
   "source": [
    "# Evaluate the model using the test data\n",
    "model_loss, model_accuracy = nn_model.evaluate(X_test_scaled,y_test,verbose=2)\n",
    "print(f\"Loss: {model_loss}, Accuracy: {model_accuracy}\")"
   ]
  },
  {
   "cell_type": "markdown",
   "metadata": {},
   "source": [
    "# =========================================="
   ]
  },
  {
   "cell_type": "markdown",
   "metadata": {},
   "source": [
    "### 1.03 Student Do: BYONNM - Build Your Own Neural Network Model (0:20)"
   ]
  },
  {
   "cell_type": "markdown",
   "metadata": {},
   "source": [
    "# Bring Your Own Neural Network Model\n",
    "In this activity, you'll use a neural network model to classify the data from `make_blobs`.\n",
    "## Instructions\n",
    "  * Using the starter code provided, visualize the blobs dummy dataset using a Pandas scatter plot.\n",
    "  * Randomly split the dummy data into training and test datasets using scikit-learn's `train_test_split` method.\n",
    "  * Normalize both datasets using scikit-learn's `StandardScaler` class.\n",
    "  * Using the Keras module, create a basic neural network with five neurons in the hidden layer.\n",
    "    * **Note:** Your neural network should use two inputs and produce one classification output.\n",
    "  * Compile your basic neural network model.\n",
    "  * Train the neural network model over 50 epochs.\n",
    "  * Evaluate the performance of your model by printing your test loss metric and determining the predictive accuracy of the model on the test dataset.\n",
    "## Bonus\n",
    "* Create a new neural network with a different number of neurons.\n",
    "* Train the new neural network model on the same training data and test the performance on the same testing dataset.\n",
    "* Create a line plot that visualizes the neural network predictive accuracy over each epoch.\n",
    "\n",
    "---"
   ]
  },
  {
   "cell_type": "code",
   "execution_count": 33,
   "metadata": {
    "executionInfo": {
     "elapsed": 13041,
     "status": "ok",
     "timestamp": 1676475603053,
     "user": {
      "displayName": "Sean Morey",
      "userId": "09649124933964159109"
     },
     "user_tz": 360
    },
    "id": "1f4FViTSumj7"
   },
   "outputs": [],
   "source": [
    "# Import our dependencies\n",
    "import pandas as pd\n",
    "import matplotlib.pyplot as plt\n",
    "from sklearn.datasets import make_blobs\n",
    "import sklearn as skl\n",
    "import tensorflow as tf"
   ]
  },
  {
   "cell_type": "code",
   "execution_count": 34,
   "metadata": {
    "colab": {
     "base_uri": "https://localhost:8080/",
     "height": 258
    },
    "executionInfo": {
     "elapsed": 2105,
     "status": "ok",
     "timestamp": 1676475605144,
     "user": {
      "displayName": "Sean Morey",
      "userId": "09649124933964159109"
     },
     "user_tz": 360
    },
    "id": "fCo-4G1zumj8",
    "outputId": "5e5f745d-3aba-4b54-8e38-0b646a99c191"
   },
   "outputs": [
    {
     "data": {
      "image/png": "[encoded data removed]",
      "text/plain": [
       "<Figure size 640x480 with 2 Axes>"
      ]
     },
     "metadata": {},
     "output_type": "display_data"
    }
   ],
   "source": [
    "# Generate dummy dataset\n",
    "X, y = make_blobs(n_samples=5000, centers=2, n_features=2, random_state=42, cluster_std=3)\n",
    "\n",
    "# Creating a DataFrame with the dummy data\n",
    "df = pd.DataFrame(X, columns=[\"Feature 1\", \"Feature 2\"])\n",
    "df[\"Target\"] = y\n",
    "\n",
    "# Plotting the dummy data\n",
    "df.plot.scatter(x=\"Feature 1\", y=\"Feature 2\", c=\"Target\", colormap=\"winter\")\n",
    "plt.show()"
   ]
  },
  {
   "cell_type": "code",
   "execution_count": 35,
   "metadata": {
    "executionInfo": {
     "elapsed": 214,
     "status": "ok",
     "timestamp": 1676475605355,
     "user": {
      "displayName": "Sean Morey",
      "userId": "09649124933964159109"
     },
     "user_tz": 360
    },
    "id": "WzwghFMKumj8"
   },
   "outputs": [],
   "source": [
    "# Use sklearn to split dataset\n",
    "from sklearn.model_selection import train_test_split\n",
    "X_train, X_test, y_train, y_test = train_test_split(X, y, random_state=78)"
   ]
  },
  {
   "cell_type": "code",
   "execution_count": 36,
   "metadata": {
    "executionInfo": {
     "elapsed": 2,
     "status": "ok",
     "timestamp": 1676475605355,
     "user": {
      "displayName": "Sean Morey",
      "userId": "09649124933964159109"
     },
     "user_tz": 360
    },
    "id": "4K8kECfHumj8"
   },
   "outputs": [],
   "source": [
    "# Create scaler instance\n",
    "X_scaler = skl.preprocessing.StandardScaler()\n",
    "\n",
    "# Fit the scaler\n",
    "X_scaler.fit(X_train)\n",
    "\n",
    "# Scale the data\n",
    "X_train_scaled = X_scaler.transform(X_train)\n",
    "X_test_scaled = X_scaler.transform(X_test)"
   ]
  },
  {
   "cell_type": "code",
   "execution_count": 55,
   "metadata": {
    "executionInfo": {
     "elapsed": 767,
     "status": "ok",
     "timestamp": 1676475606120,
     "user": {
      "displayName": "Sean Morey",
      "userId": "09649124933964159109"
     },
     "user_tz": 360
    },
    "id": "jFS6nKVzumj8"
   },
   "outputs": [],
   "source": [
    "# Create the Keras Sequential model\n",
    "nn_model = tf.keras.models.Sequential()"
   ]
  },
  {
   "cell_type": "code",
   "execution_count": 56,
   "metadata": {
    "executionInfo": {
     "elapsed": 203,
     "status": "ok",
     "timestamp": 1676475606322,
     "user": {
      "displayName": "Sean Morey",
      "userId": "09649124933964159109"
     },
     "user_tz": 360
    },
    "id": "uBMHKBRQumj9"
   },
   "outputs": [],
   "source": [
    "# Add our first Dense layer, including the input layer\n",
    "nn_model.add(tf.keras.layers.Dense(units=5, activation=\"relu\", input_dim=2))"
   ]
  },
  {
   "cell_type": "code",
   "execution_count": 57,
   "metadata": {
    "executionInfo": {
     "elapsed": 6,
     "status": "ok",
     "timestamp": 1676475606322,
     "user": {
      "displayName": "Sean Morey",
      "userId": "09649124933964159109"
     },
     "user_tz": 360
    },
    "id": "eRCyTSakumj9"
   },
   "outputs": [],
   "source": [
    "# Add the output layer that uses a probability activation function\n",
    "nn_model.add(tf.keras.layers.Dense(units=4, activation=\"relu\"))\n",
    "nn_model.add(tf.keras.layers.Dense(units=3, activation=\"relu\"))\n",
    "nn_model.add(tf.keras.layers.Dense(units=1, activation=\"sigmoid\"))"
   ]
  },
  {
   "cell_type": "code",
   "execution_count": 58,
   "metadata": {
    "colab": {
     "base_uri": "https://localhost:8080/"
    },
    "executionInfo": {
     "elapsed": 5,
     "status": "ok",
     "timestamp": 1676475606322,
     "user": {
      "displayName": "Sean Morey",
      "userId": "09649124933964159109"
     },
     "user_tz": 360
    },
    "id": "QchORD7Xumj9",
    "outputId": "c4584747-12eb-4636-b52f-e12e6884481b"
   },
   "outputs": [
    {
     "name": "stdout",
     "output_type": "stream",
     "text": [
      "Model: \"sequential_4\"\n",
      "_________________________________________________________________\n",
      " Layer (type)                Output Shape              Param #   \n",
      "=================================================================\n",
      " dense_12 (Dense)            (None, 5)                 15        \n",
      "                                                                 \n",
      " dense_13 (Dense)            (None, 4)                 24        \n",
      "                                                                 \n",
      " dense_14 (Dense)            (None, 3)                 15        \n",
      "                                                                 \n",
      " dense_15 (Dense)            (None, 1)                 4         \n",
      "                                                                 \n",
      "=================================================================\n",
      "Total params: 58\n",
      "Trainable params: 58\n",
      "Non-trainable params: 0\n",
      "_________________________________________________________________\n"
     ]
    }
   ],
   "source": [
    "# Check the structure of the Sequential model\n",
    "nn_model.summary()"
   ]
  },
  {
   "cell_type": "code",
   "execution_count": 59,
   "metadata": {
    "executionInfo": {
     "elapsed": 4,
     "status": "ok",
     "timestamp": 1676475606323,
     "user": {
      "displayName": "Sean Morey",
      "userId": "09649124933964159109"
     },
     "user_tz": 360
    },
    "id": "XaNBPyU3umj9"
   },
   "outputs": [],
   "source": [
    "# Compile the Sequential model together and customize metrics\n",
    "nn_model.compile(loss=\"binary_crossentropy\", optimizer=\"adam\", metrics=[\"accuracy\"])"
   ]
  },
  {
   "cell_type": "code",
   "execution_count": 60,
   "metadata": {
    "colab": {
     "base_uri": "https://localhost:8080/"
    },
    "executionInfo": {
     "elapsed": 44367,
     "status": "ok",
     "timestamp": 1676475650686,
     "user": {
      "displayName": "Sean Morey",
      "userId": "09649124933964159109"
     },
     "user_tz": 360
    },
    "id": "SwVsMHquumj9",
    "outputId": "c72dacf3-bb9d-42d5-d533-1848ddbebd0f"
   },
   "outputs": [
    {
     "name": "stdout",
     "output_type": "stream",
     "text": [
      "Epoch 1/50\n",
      "118/118 [==============================] - 2s 3ms/step - loss: 0.6292 - accuracy: 0.6427\n",
      "Epoch 2/50\n",
      "118/118 [==============================] - 0s 3ms/step - loss: 0.4695 - accuracy: 0.8731\n",
      "Epoch 3/50\n",
      "118/118 [==============================] - 0s 3ms/step - loss: 0.3859 - accuracy: 0.9424\n",
      "Epoch 4/50\n",
      "118/118 [==============================] - 0s 2ms/step - loss: 0.3438 - accuracy: 0.9480\n",
      "Epoch 5/50\n",
      "118/118 [==============================] - 0s 3ms/step - loss: 0.3161 - accuracy: 0.9504\n",
      "Epoch 6/50\n",
      "118/118 [==============================] - 0s 4ms/step - loss: 0.2797 - accuracy: 0.9507\n",
      "Epoch 7/50\n",
      "118/118 [==============================] - 0s 4ms/step - loss: 0.1714 - accuracy: 0.9504\n",
      "Epoch 8/50\n",
      "118/118 [==============================] - 0s 3ms/step - loss: 0.1320 - accuracy: 0.9509\n",
      "Epoch 9/50\n",
      "118/118 [==============================] - 0s 4ms/step - loss: 0.1304 - accuracy: 0.9504\n",
      "Epoch 10/50\n",
      "118/118 [==============================] - 0s 3ms/step - loss: 0.1290 - accuracy: 0.9509\n",
      "Epoch 11/50\n",
      "118/118 [==============================] - 0s 3ms/step - loss: 0.1288 - accuracy: 0.9515\n",
      "Epoch 12/50\n",
      "118/118 [==============================] - 0s 3ms/step - loss: 0.1285 - accuracy: 0.9509\n",
      "Epoch 13/50\n",
      "118/118 [==============================] - 0s 3ms/step - loss: 0.1281 - accuracy: 0.9507\n",
      "Epoch 14/50\n",
      "118/118 [==============================] - 0s 3ms/step - loss: 0.1279 - accuracy: 0.9509\n",
      "Epoch 15/50\n",
      "118/118 [==============================] - 0s 3ms/step - loss: 0.1280 - accuracy: 0.9520\n",
      "Epoch 16/50\n",
      "118/118 [==============================] - 0s 3ms/step - loss: 0.1276 - accuracy: 0.9504\n",
      "Epoch 17/50\n",
      "118/118 [==============================] - 0s 3ms/step - loss: 0.1273 - accuracy: 0.9509\n",
      "Epoch 18/50\n",
      "118/118 [==============================] - 0s 2ms/step - loss: 0.1273 - accuracy: 0.9509\n",
      "Epoch 19/50\n",
      "118/118 [==============================] - 0s 3ms/step - loss: 0.1269 - accuracy: 0.9507\n",
      "Epoch 20/50\n",
      "118/118 [==============================] - 0s 3ms/step - loss: 0.1268 - accuracy: 0.9509\n",
      "Epoch 21/50\n",
      "118/118 [==============================] - 0s 3ms/step - loss: 0.1266 - accuracy: 0.9499\n",
      "Epoch 22/50\n",
      "118/118 [==============================] - 0s 3ms/step - loss: 0.1267 - accuracy: 0.9512\n",
      "Epoch 23/50\n",
      "118/118 [==============================] - 0s 2ms/step - loss: 0.1269 - accuracy: 0.9499\n",
      "Epoch 24/50\n",
      "118/118 [==============================] - 0s 2ms/step - loss: 0.1263 - accuracy: 0.9515\n",
      "Epoch 25/50\n",
      "118/118 [==============================] - 0s 3ms/step - loss: 0.1263 - accuracy: 0.9499\n",
      "Epoch 26/50\n",
      "118/118 [==============================] - 0s 3ms/step - loss: 0.1263 - accuracy: 0.9507\n",
      "Epoch 27/50\n",
      "118/118 [==============================] - 0s 3ms/step - loss: 0.1259 - accuracy: 0.9509\n",
      "Epoch 28/50\n",
      "118/118 [==============================] - 0s 3ms/step - loss: 0.1258 - accuracy: 0.9509\n",
      "Epoch 29/50\n",
      "118/118 [==============================] - 0s 4ms/step - loss: 0.1258 - accuracy: 0.9501\n",
      "Epoch 30/50\n",
      "118/118 [==============================] - 0s 4ms/step - loss: 0.1257 - accuracy: 0.9504\n",
      "Epoch 31/50\n",
      "118/118 [==============================] - 0s 3ms/step - loss: 0.1255 - accuracy: 0.9509\n",
      "Epoch 32/50\n",
      "118/118 [==============================] - 0s 3ms/step - loss: 0.1255 - accuracy: 0.9507\n",
      "Epoch 33/50\n",
      "118/118 [==============================] - 0s 3ms/step - loss: 0.1256 - accuracy: 0.9504\n",
      "Epoch 34/50\n",
      "118/118 [==============================] - 0s 3ms/step - loss: 0.1251 - accuracy: 0.9509\n",
      "Epoch 35/50\n",
      "118/118 [==============================] - 0s 3ms/step - loss: 0.1250 - accuracy: 0.9509\n",
      "Epoch 36/50\n",
      "118/118 [==============================] - 0s 3ms/step - loss: 0.1251 - accuracy: 0.9504\n",
      "Epoch 37/50\n",
      "118/118 [==============================] - 0s 3ms/step - loss: 0.1248 - accuracy: 0.9507\n",
      "Epoch 38/50\n",
      "118/118 [==============================] - 0s 4ms/step - loss: 0.1249 - accuracy: 0.9501\n",
      "Epoch 39/50\n",
      "118/118 [==============================] - 0s 3ms/step - loss: 0.1246 - accuracy: 0.9504\n",
      "Epoch 40/50\n",
      "118/118 [==============================] - 0s 3ms/step - loss: 0.1246 - accuracy: 0.9501\n",
      "Epoch 41/50\n",
      "118/118 [==============================] - 0s 3ms/step - loss: 0.1246 - accuracy: 0.9507\n",
      "Epoch 42/50\n",
      "118/118 [==============================] - 0s 3ms/step - loss: 0.1244 - accuracy: 0.9512\n",
      "Epoch 43/50\n",
      "118/118 [==============================] - 0s 3ms/step - loss: 0.1246 - accuracy: 0.9499\n",
      "Epoch 44/50\n",
      "118/118 [==============================] - 0s 4ms/step - loss: 0.1244 - accuracy: 0.9507\n",
      "Epoch 45/50\n",
      "118/118 [==============================] - 0s 4ms/step - loss: 0.1242 - accuracy: 0.9496\n",
      "Epoch 46/50\n",
      "118/118 [==============================] - 0s 4ms/step - loss: 0.1241 - accuracy: 0.9512\n",
      "Epoch 47/50\n",
      "118/118 [==============================] - 0s 3ms/step - loss: 0.1240 - accuracy: 0.9504\n",
      "Epoch 48/50\n",
      "118/118 [==============================] - 0s 3ms/step - loss: 0.1239 - accuracy: 0.9507\n",
      "Epoch 49/50\n",
      "118/118 [==============================] - 0s 4ms/step - loss: 0.1237 - accuracy: 0.9499\n",
      "Epoch 50/50\n",
      "118/118 [==============================] - 0s 3ms/step - loss: 0.1238 - accuracy: 0.9504\n"
     ]
    }
   ],
   "source": [
    "# Fit the model to the training data\n",
    "fit_model = nn_model.fit(X_train_scaled, y_train, epochs=50)"
   ]
  },
  {
   "cell_type": "code",
   "execution_count": 61,
   "metadata": {
    "colab": {
     "base_uri": "https://localhost:8080/"
    },
    "executionInfo": {
     "elapsed": 382,
     "status": "ok",
     "timestamp": 1676475651065,
     "user": {
      "displayName": "Sean Morey",
      "userId": "09649124933964159109"
     },
     "user_tz": 360
    },
    "id": "6lw_AdUNumj9",
    "outputId": "565206ee-9a3c-4b1c-b229-bed56767eb46"
   },
   "outputs": [
    {
     "name": "stdout",
     "output_type": "stream",
     "text": [
      "40/40 - 0s - loss: 0.1235 - accuracy: 0.9544 - 320ms/epoch - 8ms/step\n",
      "Loss: 0.12353236228227615, Accuracy: 0.9544000029563904\n"
     ]
    }
   ],
   "source": [
    "# Evaluate the model using the test data\n",
    "model_loss, model_accuracy = nn_model.evaluate(X_test_scaled,y_test,verbose=2)\n",
    "print(f\"Loss: {model_loss}, Accuracy: {model_accuracy}\")"
   ]
  },
  {
   "cell_type": "code",
   "execution_count": 70,
   "metadata": {},
   "outputs": [
    {
     "data": {
      "text/plain": [
       "array([0.00926339], dtype=float32)"
      ]
     },
     "execution_count": 70,
     "metadata": {},
     "output_type": "execute_result"
    }
   ],
   "source": [
    "y_hat"
   ]
  },
  {
   "cell_type": "code",
   "execution_count": 72,
   "metadata": {
    "tags": []
   },
   "outputs": [
    {
     "data": {
      "text/plain": [
       "[0.009263387,\n",
       " 0.9999978,\n",
       " 0.0034713023,\n",
       " 0.08122968,\n",
       " 0.99955094,\n",
       " 0.96115863,\n",
       " 0.8943219,\n",
       " 0.0033830453,\n",
       " 0.01665544,\n",
       " 0.9988147,\n",
       " 0.8528537,\n",
       " 0.005472502,\n",
       " 0.8672493,\n",
       " 0.042453773,\n",
       " 0.9937258,\n",
       " 0.86793333,\n",
       " 0.9951625,\n",
       " 0.99949884,\n",
       " 0.9576639,\n",
       " 0.029548531,\n",
       " 0.8621815,\n",
       " 0.9999847,\n",
       " 0.6724859,\n",
       " 0.011484907,\n",
       " 0.014533572,\n",
       " 0.9947137,\n",
       " 0.9985162,\n",
       " 0.98553693,\n",
       " 0.24102153,\n",
       " 0.99963343,\n",
       " 0.9709878,\n",
       " 0.00023711316,\n",
       " 0.9907354,\n",
       " 0.9338529,\n",
       " 0.0006829994,\n",
       " 0.9983184,\n",
       " 0.013556658,\n",
       " 0.023325652,\n",
       " 0.9124776,\n",
       " 0.0009734589,\n",
       " 0.74502516,\n",
       " 0.0031033696,\n",
       " 0.0022343157,\n",
       " 0.96544665,\n",
       " 0.992084,\n",
       " 0.0021272204,\n",
       " 0.9998545,\n",
       " 0.0035795595,\n",
       " 0.8922546,\n",
       " 0.0008157398,\n",
       " 0.9992949,\n",
       " 0.00024599093,\n",
       " 0.9650629,\n",
       " 0.99921435,\n",
       " 0.00096127205,\n",
       " 0.007369924,\n",
       " 0.88470554,\n",
       " 0.2687568,\n",
       " 0.99771374,\n",
       " 0.8604735,\n",
       " 0.6870737,\n",
       " 0.9955624,\n",
       " 0.03168371,\n",
       " 0.0007042026,\n",
       " 0.0050349934,\n",
       " 0.0004177106,\n",
       " 0.0020947312,\n",
       " 0.04671058,\n",
       " 0.9764545,\n",
       " 0.002698611,\n",
       " 0.9241252,\n",
       " 0.98261267,\n",
       " 0.9998176,\n",
       " 0.9969598,\n",
       " 0.0054323766,\n",
       " 0.98369384,\n",
       " 0.012884861,\n",
       " 0.0021446715,\n",
       " 0.7323192,\n",
       " 0.97659045,\n",
       " 0.87500507,\n",
       " 0.9978968,\n",
       " 0.039253246,\n",
       " 0.9978263,\n",
       " 0.6323108,\n",
       " 0.12486992,\n",
       " 0.09551865,\n",
       " 0.0022327683,\n",
       " 0.9989021,\n",
       " 0.018127866,\n",
       " 0.9993296,\n",
       " 0.9939841,\n",
       " 0.0041660424,\n",
       " 0.0018457385,\n",
       " 0.99919707,\n",
       " 0.9517418,\n",
       " 0.9513036,\n",
       " 0.99340725,\n",
       " 0.019757712,\n",
       " 0.93517756,\n",
       " 0.006848524,\n",
       " 0.99972624,\n",
       " 0.0150021035,\n",
       " 0.9623301,\n",
       " 0.9994431,\n",
       " 0.6910735,\n",
       " 0.0057683303,\n",
       " 0.99413365,\n",
       " 0.67925143,\n",
       " 0.9996388,\n",
       " 0.00041314357,\n",
       " 0.3162236,\n",
       " 0.49042833,\n",
       " 0.057901297,\n",
       " 0.012532475,\n",
       " 0.0122075165,\n",
       " 0.99928933,\n",
       " 0.9884612,\n",
       " 0.99909526,\n",
       " 0.020841952,\n",
       " 0.99465716,\n",
       " 0.9991657,\n",
       " 0.9816023,\n",
       " 0.036593877,\n",
       " 0.003152662,\n",
       " 0.4569655,\n",
       " 0.020619087,\n",
       " 0.0003370375,\n",
       " 0.005743738,\n",
       " 0.9885976,\n",
       " 0.0033614424,\n",
       " 0.005332145,\n",
       " 0.002256391,\n",
       " 0.49570298,\n",
       " 0.003197993,\n",
       " 0.99208814,\n",
       " 0.9825972,\n",
       " 0.0019944697,\n",
       " 0.99610764,\n",
       " 0.010953789,\n",
       " 0.90955186,\n",
       " 0.065748274,\n",
       " 0.9893139,\n",
       " 0.009147291,\n",
       " 0.87785757,\n",
       " 0.97770876,\n",
       " 0.1748766,\n",
       " 0.9992124,\n",
       " 0.0006426757,\n",
       " 0.14847451,\n",
       " 0.95664084,\n",
       " 0.008808682,\n",
       " 0.99992627,\n",
       " 0.99785143,\n",
       " 0.0077882847,\n",
       " 0.99539626,\n",
       " 0.96148515,\n",
       " 0.005918728,\n",
       " 0.000539101,\n",
       " 0.8100812,\n",
       " 0.9992398,\n",
       " 0.009024036,\n",
       " 0.9979804,\n",
       " 0.0005987741,\n",
       " 0.99987763,\n",
       " 0.99992573,\n",
       " 0.0052784537,\n",
       " 0.011671505,\n",
       " 0.9965677,\n",
       " 0.9207293,\n",
       " 0.99221116,\n",
       " 0.033623416,\n",
       " 0.90284806,\n",
       " 0.9746912,\n",
       " 0.99922985,\n",
       " 0.99799234,\n",
       " 0.99697626,\n",
       " 0.7258588,\n",
       " 0.36045724,\n",
       " 0.9936842,\n",
       " 0.0057375,\n",
       " 0.001829589,\n",
       " 0.069383115,\n",
       " 0.3531346,\n",
       " 0.0020546936,\n",
       " 0.054856773,\n",
       " 0.98918724,\n",
       " 0.95384306,\n",
       " 0.0073827333,\n",
       " 0.9358343,\n",
       " 0.0047623906,\n",
       " 0.99840426,\n",
       " 0.0009118284,\n",
       " 0.9997954,\n",
       " 0.0030597479,\n",
       " 0.0074319704,\n",
       " 1.0090518e-05,\n",
       " 0.0017332209,\n",
       " 0.99999124,\n",
       " 0.005184457,\n",
       " 0.9979293,\n",
       " 0.9999654,\n",
       " 0.362964,\n",
       " 0.99912214,\n",
       " 0.99989736,\n",
       " 0.9766461,\n",
       " 0.021723606,\n",
       " 0.009508257,\n",
       " 0.99962246,\n",
       " 0.7755145,\n",
       " 0.9407251,\n",
       " 0.10297709,\n",
       " 0.0017266383,\n",
       " 0.98403496,\n",
       " 0.99456716,\n",
       " 0.0051804846,\n",
       " 0.0013497594,\n",
       " 0.010074719,\n",
       " 0.0038351712,\n",
       " 0.0012802639,\n",
       " 0.9955097,\n",
       " 0.0066710166,\n",
       " 0.99995035,\n",
       " 0.9902815,\n",
       " 0.026692208,\n",
       " 0.9925667,\n",
       " 0.9059362,\n",
       " 0.033895127,\n",
       " 0.96367276,\n",
       " 0.7585735,\n",
       " 0.9798231,\n",
       " 0.07458501,\n",
       " 0.12253484,\n",
       " 0.04682878,\n",
       " 0.99854267,\n",
       " 0.006329735,\n",
       " 0.99473935,\n",
       " 0.98655427,\n",
       " 0.041827053,\n",
       " 0.98708713,\n",
       " 0.62970984,\n",
       " 0.051655725,\n",
       " 0.0019734127,\n",
       " 0.89977884,\n",
       " 0.999837,\n",
       " 0.00027016652,\n",
       " 0.93570447,\n",
       " 0.37755775,\n",
       " 0.013512806,\n",
       " 0.00082357525,\n",
       " 0.9982867,\n",
       " 0.0210674,\n",
       " 0.002541377,\n",
       " 0.024231965,\n",
       " 0.0060944166,\n",
       " 0.009850609,\n",
       " 0.9980668,\n",
       " 0.27058598,\n",
       " 0.005801049,\n",
       " 0.9908202,\n",
       " 0.0033244388,\n",
       " 0.45974934,\n",
       " 0.0030439345,\n",
       " 0.9998082,\n",
       " 0.99964494,\n",
       " 1.851354e-05,\n",
       " 0.9978967,\n",
       " 0.0067231106,\n",
       " 0.0016997488,\n",
       " 0.9904512,\n",
       " 0.022133673,\n",
       " 0.0015325719,\n",
       " 0.74047124,\n",
       " 0.04402499,\n",
       " 0.65626645,\n",
       " 0.9586801,\n",
       " 0.001734715,\n",
       " 0.99959004,\n",
       " 0.9963793,\n",
       " 0.042627987,\n",
       " 0.04505106,\n",
       " 0.98940074,\n",
       " 0.96849746,\n",
       " 0.0038557868,\n",
       " 0.014176537,\n",
       " 0.000645108,\n",
       " 0.9737591,\n",
       " 0.0029151845,\n",
       " 0.9995596,\n",
       " 0.9801253,\n",
       " 0.8546428,\n",
       " 0.9993786,\n",
       " 0.15215014,\n",
       " 0.95807457,\n",
       " 0.006423731,\n",
       " 0.83191496,\n",
       " 0.9248576,\n",
       " 0.99162227,\n",
       " 0.00018494057,\n",
       " 0.9993614,\n",
       " 0.99464226,\n",
       " 0.05810038,\n",
       " 0.00064550096,\n",
       " 0.9996156,\n",
       " 0.99615663,\n",
       " 0.0007197789,\n",
       " 0.9420736,\n",
       " 0.0045818654,\n",
       " 0.962891,\n",
       " 0.9987612,\n",
       " 0.9997289,\n",
       " 0.03898171,\n",
       " 0.9986754,\n",
       " 0.99745977,\n",
       " 0.99994284,\n",
       " 0.0005747684,\n",
       " 0.07217534,\n",
       " 0.16273664,\n",
       " 0.0014351727,\n",
       " 0.088107415,\n",
       " 0.9714053,\n",
       " 0.0027367102,\n",
       " 0.9542098,\n",
       " 0.9841962,\n",
       " 0.3041061,\n",
       " 0.009316176,\n",
       " 0.0006831182,\n",
       " 0.35381943,\n",
       " 0.9999551,\n",
       " 0.91632354,\n",
       " 0.9998271,\n",
       " 0.07860305,\n",
       " 0.7767558,\n",
       " 0.96892315,\n",
       " 0.9049573,\n",
       " 0.78821385,\n",
       " 0.008203968,\n",
       " 0.7454317,\n",
       " 0.995905,\n",
       " 0.03412253,\n",
       " 0.0033055234,\n",
       " 0.8526166,\n",
       " 0.9871339,\n",
       " 0.99866,\n",
       " 0.0036617406,\n",
       " 0.9811323,\n",
       " 0.004422355,\n",
       " 0.0001522682,\n",
       " 0.99994177,\n",
       " 0.9986417,\n",
       " 0.98264384,\n",
       " 0.99678934,\n",
       " 0.999884,\n",
       " 0.98294485,\n",
       " 0.24375516,\n",
       " 0.007731136,\n",
       " 0.99977744,\n",
       " 0.99822307,\n",
       " 0.010654678,\n",
       " 0.9950938,\n",
       " 0.02332265,\n",
       " 0.0042574103,\n",
       " 0.31631166,\n",
       " 0.08455199,\n",
       " 0.9833638,\n",
       " 0.036225732,\n",
       " 0.9995507,\n",
       " 0.99994487,\n",
       " 0.9940097,\n",
       " 0.46293086,\n",
       " 0.97832716,\n",
       " 0.024361938,\n",
       " 0.0059824055,\n",
       " 0.9987562,\n",
       " 0.98224914,\n",
       " 0.0044468655,\n",
       " 0.007450256,\n",
       " 0.14951782,\n",
       " 0.32866278,\n",
       " 0.0009568695,\n",
       " 0.98798317,\n",
       " 0.0055174516,\n",
       " 0.0054887696,\n",
       " 0.9897447,\n",
       " 0.00799661,\n",
       " 0.9915793,\n",
       " 0.9982697,\n",
       " 0.044781383,\n",
       " 0.9999776,\n",
       " 0.9991719,\n",
       " 0.9871659,\n",
       " 0.008259328,\n",
       " 0.00012959933,\n",
       " 0.63967884,\n",
       " 0.9997975,\n",
       " 0.23121676,\n",
       " 0.008883754,\n",
       " 0.3934093,\n",
       " 0.99973935,\n",
       " 0.99961096,\n",
       " 0.0012377163,\n",
       " 0.012746149,\n",
       " 0.058537774,\n",
       " 0.010978304,\n",
       " 0.0011931112,\n",
       " 0.33361703,\n",
       " 0.43775862,\n",
       " 0.6092039,\n",
       " 0.9650397,\n",
       " 0.9976927,\n",
       " 0.99281687,\n",
       " 0.105129495,\n",
       " 0.7221295,\n",
       " 0.005459456,\n",
       " 0.0044110413,\n",
       " 0.0050531086,\n",
       " 0.003830287,\n",
       " 0.021904564,\n",
       " 0.09319545,\n",
       " 0.00048607145,\n",
       " 0.00025926897,\n",
       " 0.0011407281,\n",
       " 0.9996021,\n",
       " 0.038869556,\n",
       " 0.998559,\n",
       " 0.017157689,\n",
       " 0.07225678,\n",
       " 0.0034144463,\n",
       " 0.0007627485,\n",
       " 0.0043868492,\n",
       " 0.9568905,\n",
       " 0.0031157315,\n",
       " 0.9394833,\n",
       " 0.9993705,\n",
       " 0.8949328,\n",
       " 0.9983365,\n",
       " 0.9999837,\n",
       " 0.0021035522,\n",
       " 0.99939203,\n",
       " 0.99931455,\n",
       " 0.9957035,\n",
       " 0.002652733,\n",
       " 0.83031285,\n",
       " 0.29319227,\n",
       " 0.9845736,\n",
       " 0.99859184,\n",
       " 0.05731259,\n",
       " 0.008479441,\n",
       " 0.17959593,\n",
       " 0.027404996,\n",
       " 0.99999696,\n",
       " 0.9970081,\n",
       " 0.0019925286,\n",
       " 0.015977975,\n",
       " 0.90414244,\n",
       " 0.0024683082,\n",
       " 0.0017457171,\n",
       " 0.12905928,\n",
       " 0.050515786,\n",
       " 0.0013352928,\n",
       " 0.007045728,\n",
       " 0.99177897,\n",
       " 0.98191863,\n",
       " 0.99783677,\n",
       " 0.840683,\n",
       " 0.052522566,\n",
       " 0.002106468,\n",
       " 0.9952262,\n",
       " 0.9998956,\n",
       " 0.07396043,\n",
       " 0.9999965,\n",
       " 0.04159715,\n",
       " 0.907645,\n",
       " 0.9503638,\n",
       " 0.026034694,\n",
       " 0.014393541,\n",
       " 0.9995343,\n",
       " 0.021890797,\n",
       " 0.99929297,\n",
       " 0.0028256637,\n",
       " 0.2738141,\n",
       " 0.98701453,\n",
       " 0.99999225,\n",
       " 0.0040668976,\n",
       " 0.980792,\n",
       " 0.9678685,\n",
       " 0.06519025,\n",
       " 0.6697163,\n",
       " 0.99364495,\n",
       " 0.9997451,\n",
       " 0.9103517,\n",
       " 0.0029443873,\n",
       " 0.98120964,\n",
       " 0.9474624,\n",
       " 0.997673,\n",
       " 0.029476728,\n",
       " 0.9894281,\n",
       " 0.0043776976,\n",
       " 0.99402225,\n",
       " 0.9852052,\n",
       " 0.9749579,\n",
       " 0.0009229902,\n",
       " 0.0033883015,\n",
       " 0.97284085,\n",
       " 0.002571955,\n",
       " 0.0033353393,\n",
       " 0.9994682,\n",
       " 0.9950612,\n",
       " 0.0011581389,\n",
       " 0.99887997,\n",
       " 0.037905853,\n",
       " 0.0028603384,\n",
       " 0.9999036,\n",
       " 0.000464681,\n",
       " 0.000640115,\n",
       " 0.9996487,\n",
       " 0.03548337,\n",
       " 0.028883886,\n",
       " 0.14620455,\n",
       " 0.99946,\n",
       " 0.02221335,\n",
       " 0.0033261215,\n",
       " 0.9999789,\n",
       " 0.99855435,\n",
       " 0.031478547,\n",
       " 0.9994196,\n",
       " 0.007243393,\n",
       " 0.9952148,\n",
       " 0.99941796,\n",
       " 0.98908406,\n",
       " 0.0009850459,\n",
       " 0.9972791,\n",
       " 0.95854264,\n",
       " 0.0018558042,\n",
       " 0.99949926,\n",
       " 0.9985181,\n",
       " 0.0030566687,\n",
       " 0.0019859099,\n",
       " 0.03206753,\n",
       " 0.9991592,\n",
       " 0.99849284,\n",
       " 0.7961725,\n",
       " 0.9968216,\n",
       " 0.0014458472,\n",
       " 0.026400939,\n",
       " 0.061289754,\n",
       " 0.9986723,\n",
       " 0.9641771,\n",
       " 0.016105467,\n",
       " 0.015940927,\n",
       " 0.008701241,\n",
       " 0.010568459,\n",
       " 0.0071406183,\n",
       " 0.032520946,\n",
       " 0.008791724,\n",
       " 0.00739054,\n",
       " 0.0013044408,\n",
       " 0.9998147,\n",
       " 0.9395215,\n",
       " 0.9963712,\n",
       " 0.50896424,\n",
       " 0.94680625,\n",
       " 0.9980755,\n",
       " 0.04322895,\n",
       " 0.998884,\n",
       " 0.84404564,\n",
       " 0.0028966046,\n",
       " 0.98202276,\n",
       " 0.07282552,\n",
       " 0.0011080386,\n",
       " 0.3792236,\n",
       " 0.00055394566,\n",
       " 0.021414317,\n",
       " 0.9670707,\n",
       " 0.0026051581,\n",
       " 0.9593707,\n",
       " 0.009805779,\n",
       " 0.014510307,\n",
       " 0.041027833,\n",
       " 0.028777776,\n",
       " 0.072315045,\n",
       " 0.018479027,\n",
       " 0.9992285,\n",
       " 0.9930677,\n",
       " 0.08466243,\n",
       " 0.053404212,\n",
       " 0.9997334,\n",
       " 0.02840383,\n",
       " 0.99956185,\n",
       " 0.96679854,\n",
       " 0.0054935818,\n",
       " 0.9993388,\n",
       " 0.99992025,\n",
       " 0.040336568,\n",
       " 0.9960493,\n",
       " 0.013209583,\n",
       " 0.40782183,\n",
       " 0.007304278,\n",
       " 0.9720005,\n",
       " 0.61846536,\n",
       " 0.00070289755,\n",
       " 0.96549916,\n",
       " 0.9994573,\n",
       " 0.99998707,\n",
       " 0.024484921,\n",
       " 0.23020683,\n",
       " 0.011308613,\n",
       " 0.9969998,\n",
       " 0.014051896,\n",
       " 0.999998,\n",
       " 0.0074836724,\n",
       " 0.0010442382,\n",
       " 0.99997556,\n",
       " 0.9630601,\n",
       " 0.007105526,\n",
       " 0.003464118,\n",
       " 0.00024722746,\n",
       " 0.96531665,\n",
       " 0.0010422068,\n",
       " 0.83581537,\n",
       " 0.13103731,\n",
       " 0.9785982,\n",
       " 0.0011048587,\n",
       " 0.96929747,\n",
       " 0.9784988,\n",
       " 0.99833924,\n",
       " 0.0016649234,\n",
       " 0.99347425,\n",
       " 0.9738948,\n",
       " 0.99570143,\n",
       " 0.008772228,\n",
       " 0.99956095,\n",
       " 0.99933654,\n",
       " 0.98661065,\n",
       " 0.9998253,\n",
       " 0.025731182,\n",
       " 0.99136555,\n",
       " 0.9990048,\n",
       " 0.99862814,\n",
       " 0.011422592,\n",
       " 0.9946764,\n",
       " 0.80034035,\n",
       " 0.82063246,\n",
       " 0.982102,\n",
       " 0.5967811,\n",
       " 0.9949612,\n",
       " 0.0028472238,\n",
       " 0.9891414,\n",
       " 0.999695,\n",
       " 0.0033916072,\n",
       " 0.032844875,\n",
       " 0.016505606,\n",
       " 0.014295628,\n",
       " 0.9996551,\n",
       " 0.3932129,\n",
       " 0.9984871,\n",
       " 0.0022740967,\n",
       " 0.55002564,\n",
       " 0.000667546,\n",
       " 0.08948296,\n",
       " 0.013889801,\n",
       " 0.022794625,\n",
       " 0.9987164,\n",
       " 0.97497606,\n",
       " 0.99809736,\n",
       " 0.6479438,\n",
       " 0.001837933,\n",
       " 0.99597836,\n",
       " 0.11520171,\n",
       " 0.9976621,\n",
       " 0.80856967,\n",
       " 0.9934789,\n",
       " 0.016076809,\n",
       " 0.02800115,\n",
       " 0.011156631,\n",
       " 0.0049504894,\n",
       " 0.9899223,\n",
       " 0.8158115,\n",
       " 0.9620312,\n",
       " 0.9374227,\n",
       " 0.99819905,\n",
       " 0.9998163,\n",
       " 0.0002571079,\n",
       " 0.999781,\n",
       " 0.9851851,\n",
       " 0.9995033,\n",
       " 0.97815347,\n",
       " 0.06290412,\n",
       " 0.9950041,\n",
       " 0.0064310664,\n",
       " 0.044327106,\n",
       " 0.005145203,\n",
       " 0.0007999708,\n",
       " 0.969248,\n",
       " 0.9996011,\n",
       " 0.0028964628,\n",
       " 0.97483724,\n",
       " 0.9558436,\n",
       " 0.9955966,\n",
       " 0.6961101,\n",
       " 0.9964675,\n",
       " 0.9600187,\n",
       " 0.99929476,\n",
       " 0.010297502,\n",
       " 0.9998123,\n",
       " 0.9979385,\n",
       " 0.060446106,\n",
       " 0.018504927,\n",
       " 0.0063518113,\n",
       " 0.9998045,\n",
       " 0.019659368,\n",
       " 0.0077897077,\n",
       " 0.8923484,\n",
       " 0.0022041963,\n",
       " 0.037508164,\n",
       " 0.017076785,\n",
       " 0.9999983,\n",
       " 0.0020015629,\n",
       " 0.024612967,\n",
       " 0.010912786,\n",
       " 0.9944962,\n",
       " 0.6857725,\n",
       " 0.024388535,\n",
       " 0.99939996,\n",
       " 0.03457209,\n",
       " 0.9959872,\n",
       " 0.56139976,\n",
       " 0.99010575,\n",
       " 0.00853653,\n",
       " 0.99830514,\n",
       " 0.033058487,\n",
       " 0.9165978,\n",
       " 0.07217795,\n",
       " 0.996629,\n",
       " 0.66923064,\n",
       " 0.075935215,\n",
       " 0.24267177,\n",
       " 0.99404776,\n",
       " 0.014308811,\n",
       " 0.03019783,\n",
       " 0.96266633,\n",
       " 0.0037698257,\n",
       " 0.9986156,\n",
       " 0.80984324,\n",
       " 0.0065087457,\n",
       " 0.007310504,\n",
       " 0.9897854,\n",
       " 0.9993666,\n",
       " 0.004879982,\n",
       " 0.0008996299,\n",
       " 0.97438735,\n",
       " 0.99230665,\n",
       " 0.98814386,\n",
       " 0.008398729,\n",
       " 0.03321814,\n",
       " 0.021284139,\n",
       " 0.0053844447,\n",
       " 0.76251495,\n",
       " 0.00065567537,\n",
       " 0.0071769324,\n",
       " 0.97587043,\n",
       " 0.0043851174,\n",
       " 0.7525842,\n",
       " 0.8137373,\n",
       " 0.005618811,\n",
       " 0.999507,\n",
       " 0.9999875,\n",
       " 0.89119357,\n",
       " 0.010584862,\n",
       " 0.26113763,\n",
       " 0.9868303,\n",
       " 0.9515773,\n",
       " 0.02033274,\n",
       " 0.99975175,\n",
       " 0.9992347,\n",
       " 0.028024869,\n",
       " 0.0005864582,\n",
       " 0.00689294,\n",
       " 0.9888833,\n",
       " 0.99997026,\n",
       " 0.26556528,\n",
       " 0.99569684,\n",
       " 0.049900167,\n",
       " 0.00477016,\n",
       " 0.012748412,\n",
       " 0.0006916754,\n",
       " 0.99415326,\n",
       " 0.9994252,\n",
       " 0.9995148,\n",
       " 0.9991743,\n",
       " 0.0006880206,\n",
       " 0.63903946,\n",
       " 0.9998834,\n",
       " 0.006465395,\n",
       " 0.9901432,\n",
       " 0.99946874,\n",
       " 0.9998843,\n",
       " 0.9909303,\n",
       " 0.005015486,\n",
       " 0.031617388,\n",
       " 0.99935436,\n",
       " 0.9999656,\n",
       " 0.99851346,\n",
       " 0.17587994,\n",
       " 0.003150464,\n",
       " 0.0028909182,\n",
       " 0.9999778,\n",
       " 0.02423851,\n",
       " 0.99999005,\n",
       " 0.008534981,\n",
       " 0.8715805,\n",
       " 0.1102151,\n",
       " 0.06639772,\n",
       " 0.06902443,\n",
       " 0.9999626,\n",
       " 0.684245,\n",
       " 0.99874,\n",
       " 0.0027744926,\n",
       " 0.013396504,\n",
       " 0.46086112,\n",
       " 0.0036159428,\n",
       " 0.0015966228,\n",
       " 0.039815005,\n",
       " 0.97593987,\n",
       " 0.046156485,\n",
       " 0.9995628,\n",
       " 0.031251535,\n",
       " 0.9977028,\n",
       " 0.9999775,\n",
       " 0.02508123,\n",
       " 0.00514095,\n",
       " 0.9846443,\n",
       " 0.9568106,\n",
       " 0.0066599096,\n",
       " 0.99140596,\n",
       " 0.9983042,\n",
       " 0.9852064,\n",
       " 0.99986273,\n",
       " 0.99914104,\n",
       " 0.9918178,\n",
       " 0.018931344,\n",
       " 0.99625874,\n",
       " 0.99722695,\n",
       " 0.99337673,\n",
       " 0.9736259,\n",
       " 0.006924311,\n",
       " 0.00080590125,\n",
       " 0.99796337,\n",
       " 0.9678842,\n",
       " 0.03179369,\n",
       " 0.00023570281,\n",
       " 0.061278354,\n",
       " 0.99851537,\n",
       " 0.9644825,\n",
       " 0.8769999,\n",
       " 0.9964678,\n",
       " 0.00033603067,\n",
       " 0.99998647,\n",
       " 0.41766557,\n",
       " 0.98931456,\n",
       " 0.9965625,\n",
       " 0.0021636086,\n",
       " 0.99997073,\n",
       " 0.0019458041,\n",
       " 0.042909972,\n",
       " 0.96295184,\n",
       " 0.8504146,\n",
       " 0.0017443125,\n",
       " 0.99959993,\n",
       " 0.054706585,\n",
       " 0.48379725,\n",
       " 0.99998134,\n",
       " 0.00046608527,\n",
       " 0.0028184552,\n",
       " 0.0008144121,\n",
       " 0.018495413,\n",
       " 0.9942733,\n",
       " 0.9892324,\n",
       " 0.9939374,\n",
       " 0.999155,\n",
       " 0.0012189199,\n",
       " 0.0037918917,\n",
       " 0.9998705,\n",
       " 0.96550626,\n",
       " 0.98731524,\n",
       " 0.0031466181,\n",
       " 0.9832667,\n",
       " 0.004640551,\n",
       " 0.0013545804,\n",
       " 0.0066504464,\n",
       " 0.99987835,\n",
       " 0.99994755,\n",
       " 0.9997821,\n",
       " 0.999983,\n",
       " 0.91472805,\n",
       " 0.0004270601,\n",
       " 0.9832446,\n",
       " 0.008033503,\n",
       " 0.9866731,\n",
       " 0.9993572,\n",
       " 0.6030609,\n",
       " 0.9961737,\n",
       " 0.5977362,\n",
       " 0.0055900128,\n",
       " 0.999286,\n",
       " 0.9969284,\n",
       " 0.97081083,\n",
       " 0.797237,\n",
       " 0.9964526,\n",
       " 0.006185092,\n",
       " 0.0016185421,\n",
       " 0.99982476,\n",
       " 0.99892515,\n",
       " 0.8868823,\n",
       " 0.01949883,\n",
       " 0.049371243,\n",
       " 0.034183685,\n",
       " 0.01988549,\n",
       " 0.0017291871,\n",
       " 0.9625273,\n",
       " 0.9978094,\n",
       " 0.99999565,\n",
       " 0.9909646,\n",
       " 0.99785227,\n",
       " 0.00038654162,\n",
       " 0.0014009798,\n",
       " 0.99993235,\n",
       " 0.9991242,\n",
       " 0.9807074,\n",
       " 0.27354518,\n",
       " 0.015199681,\n",
       " 0.9997429,\n",
       " 0.9981999,\n",
       " 0.99965656,\n",
       " 0.9999973,\n",
       " 0.9060743,\n",
       " 0.99991304,\n",
       " 0.65221775,\n",
       " 0.004367546,\n",
       " 0.93703514,\n",
       " 0.99753714,\n",
       " 0.5651098,\n",
       " 0.9576774,\n",
       " 0.06629527,\n",
       " 0.9909997,\n",
       " 0.9993787,\n",
       " 0.02984198,\n",
       " 0.9704292,\n",
       " 0.9993209,\n",
       " 0.984732,\n",
       " 0.9996445,\n",
       " 0.0031531937,\n",
       " 0.99982023,\n",
       " 0.44001776,\n",
       " 0.0014368453,\n",
       " 0.9402893,\n",
       " 0.029617494,\n",
       " 0.048294958,\n",
       " 0.0081048235,\n",
       " 0.9047707,\n",
       " 0.07053002,\n",
       " 0.993729,\n",
       " 0.98214775,\n",
       " 0.00042152166,\n",
       " 0.99811023,\n",
       " 0.9682804,\n",
       " 0.003159443,\n",
       " 0.99192417,\n",
       " 0.07588762,\n",
       " 0.050682098,\n",
       " 0.00034663276,\n",
       " 0.005163563,\n",
       " 0.0013949503,\n",
       " 0.5512458,\n",
       " 0.011719401,\n",
       " 0.0009182102,\n",
       " 0.013033181,\n",
       " 0.070975766,\n",
       " 0.9496684,\n",
       " 0.8180186,\n",
       " 0.0016863075,\n",
       " 0.99200416,\n",
       " 0.99971116,\n",
       " 0.97703624,\n",
       " 0.008205261,\n",
       " 0.9621269,\n",
       " 0.9666229,\n",
       " 0.00094648666,\n",
       " 0.030490242,\n",
       " 0.0017750348,\n",
       " 0.9875524,\n",
       " 0.00016062697,\n",
       " 0.28261724,\n",
       " 0.12309003,\n",
       " 0.0050549954,\n",
       " 0.9964299,\n",
       " 0.98488295,\n",
       " 0.046349104,\n",
       " 0.021829208,\n",
       " 0.023745213,\n",
       " ...]"
      ]
     },
     "execution_count": 72,
     "metadata": {},
     "output_type": "execute_result"
    }
   ],
   "source": [
    "[x[0] for x in y_hat]"
   ]
  },
  {
   "cell_type": "code",
   "execution_count": 71,
   "metadata": {},
   "outputs": [
    {
     "name": "stdout",
     "output_type": "stream",
     "text": [
      "40/40 - 0s - 98ms/epoch - 2ms/step\n"
     ]
    },
    {
     "data": {
      "text/plain": [
       "array([[False],\n",
       "       [ True],\n",
       "       [False],\n",
       "       ...,\n",
       "       [False],\n",
       "       [ True],\n",
       "       [False]])"
      ]
     },
     "execution_count": 71,
     "metadata": {},
     "output_type": "execute_result"
    }
   ],
   "source": [
    "y_hat = nn_model.predict(X_test_scaled, verbose=2)\n",
    "y_preds = (y_hat > 0.5)\n",
    "y_preds"
   ]
  },
  {
   "cell_type": "code",
   "execution_count": 53,
   "metadata": {
    "colab": {
     "base_uri": "https://localhost:8080/",
     "height": 265
    },
    "executionInfo": {
     "elapsed": 111,
     "status": "ok",
     "timestamp": 1676475651335,
     "user": {
      "displayName": "Sean Morey",
      "userId": "09649124933964159109"
     },
     "user_tz": 360
    },
    "id": "fP4LkO6mumj9",
    "outputId": "3c9a3c5d-ae62-41a2-bed7-2b460684e9b3"
   },
   "outputs": [
    {
     "data": {
      "image/png": "[encoded data removed]",
      "text/plain": [
       "<Figure size 640x480 with 1 Axes>"
      ]
     },
     "metadata": {},
     "output_type": "display_data"
    }
   ],
   "source": [
    "# Create a DataFrame containing training history\n",
    "history_df = pd.DataFrame(fit_model.history, index=range(1,len(fit_model.history[\"loss\"])+1))\n",
    "\n",
    "# Plot the accuracy\n",
    "history_df.plot(y=\"accuracy\")\n",
    "plt.show()"
   ]
  },
  {
   "cell_type": "markdown",
   "metadata": {},
   "source": [
    "# =========================================="
   ]
  },
  {
   "cell_type": "markdown",
   "metadata": {},
   "source": [
    "### Rating Class Objectives\n",
    "\n",
    "* rate your understanding using 1-5 method in each objective"
   ]
  },
  {
   "cell_type": "code",
   "execution_count": null,
   "metadata": {},
   "outputs": [],
   "source": [
    "title = \"21.1-Neural-Networks-Deep-Learning-Introduction to Advanced Machine Learning\"\n",
    "objectives = [\n",
    "    \"Compare the differences between the traditional machine learning classification and regression models and the neural network models\",\n",
    "    \"Describe the perceptron model and its components\",\n",
    "    \"Implement neural network models using TensorFlow\",\n",
    "]\n",
    "rating = []\n",
    "total = 0\n",
    "for i in range(len(objectives)):\n",
    "    rate = input(objectives[i]+\"? \")\n",
    "    total += int(rate)\n",
    "    rating.append(objectives[i] + \". (\" + rate + \"/5)\")\n",
    "print(\"=\"*96)\n",
    "print(f\"Self Evaluation for: {title}\")\n",
    "print(\"-\"*24)\n",
    "for i in rating:\n",
    "    print(i)\n",
    "print(\"-\"*64)\n",
    "print(\"Average: \" + str(total/len(objectives)))"
   ]
  },
  {
   "cell_type": "code",
   "execution_count": null,
   "metadata": {},
   "outputs": [],
   "source": []
  },
  {
   "cell_type": "code",
   "execution_count": null,
   "metadata": {},
   "outputs": [],
   "source": []
  }
 ],
 "metadata": {
  "kernelspec": {
   "display_name": "Python [conda env:PythonData]",
   "language": "python",
   "name": "conda-env-PythonData-py"
  },
  "language_info": {
   "codemirror_mode": {
    "name": "ipython",
    "version": 3
   },
   "file_extension": ".py",
   "mimetype": "text/x-python",
   "name": "python",
   "nbconvert_exporter": "python",
   "pygments_lexer": "ipython3",
   "version": "3.7.16"
  }
 },
 "nbformat": 4,
 "nbformat_minor": 4
}
