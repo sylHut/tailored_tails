{
 "cells": [
  {
   "cell_type": "markdown",
   "metadata": {},
   "source": [
    "@channel **Hello All,**"
   ]
  },
  {
   "cell_type": "markdown",
   "metadata": {},
   "source": [
    "**2024-01-22 `20.2-Unsupervised-Learning-Machine Learning in Practice`**"
   ]
  },
  {
   "cell_type": "markdown",
   "metadata": {},
   "source": [
    "Unsupervised learning follows the same pattern (model, fit, predict).\n",
    "\n",
    "* [scikit learn User Guid](https://scikit-learn.org/stable/user_guide.html)\n",
    "* [Standardization, or mean removal and variance scaling](https://scikit-learn.org/stable/modules/preprocessing.html#preprocessing-scaler)\n",
    "* [pandas.get_dummies](https://pandas.pydata.org/docs/reference/api/pandas.get_dummies.html)\n",
    "* [pandas.concat](https://pandas.pydata.org/pandas-docs/stable/reference/api/pandas.concat.html)\n",
    "* [sklearn.cluster.Birch](https://scikit-learn.org/stable/modules/generated/sklearn.cluster.Birch.html)\n",
    "* [sklearn.cluster.AgglomerativeClustering](https://scikit-learn.org/stable/modules/generated/sklearn.cluster.AgglomerativeClustering.html)\n",
    "* [Clustering performance evaluation](https://scikit-learn.org/stable/modules/clustering.html#clustering-performance-evaluation)\n"
   ]
  },
  {
   "cell_type": "markdown",
   "metadata": {},
   "source": [
    "**Objectives**\n",
    "\n",
    "* Segment data.\n",
    "* Prepare data for complex algorithms.\n",
    "* Explain the importance of preprocessing data for unsupervised learning.\n",
    "* Transform categorical variables into a numerical representation using Pandas.\n",
    "* Scale data by using the `StandardScaler` module from `scikit-learn`."
   ]
  },
  {
   "cell_type": "markdown",
   "metadata": {},
   "source": [
    "**Presentation**\n",
    "* [19.2-Machine Learning in Practice](https://git.bootcampcontent.com/University-of-California---Berkeley/UCB-VIRT-DATA-PT-08-2023-U-LOLC/-/blob/main/Slides/Data-19.2-Machine_Learning_in_Practice.pdf)"
   ]
  },
  {
   "cell_type": "markdown",
   "metadata": {},
   "source": [
    "**Best wishes.**"
   ]
  },
  {
   "cell_type": "markdown",
   "metadata": {},
   "source": [
    "---\n",
    "**Definition**\n",
    "\n",
    "* **AgglomerativeClustering** Agglomerative Clustering. Recursively merges pair of clusters of sample data; uses linkage distance.\n",
    "* **BIRCH** BIRCH clustering algorithm. It is a memory-efficient, online-learning algorithm provided as an alternative to MiniBatchKMeans. It constructs a tree data structure with the cluster centroids being read off the leaf. These can be either the final cluster centroids or can be provided as input to another clustering algorithm such as AgglomerativeClustering.\n",
    "* **DBSCAN** Perform DBSCAN clustering from vector array or distance matrix..\n",
    "* **dendrogram** Plot the hierarchical clustering as a dendrogram.\n",
    "* **fcluster** Form flat clusters from the hierarchical clustering defined by the given linkage matrix.\n",
    "* **GridSearchCV** Exhaustive search over specified parameter values for an estimator.\n",
    "* **linkage** Perform hierarchical/agglomerative clustering.\n",
    "* **load_breast_cancer** Load and return the breast cancer wisconsin dataset (classification).\n",
    "* **load_wine** Load and return the wine dataset (classification).\n",
    "* **LogisticRegression** Logistic Regression (aka logit, MaxEnt) classifier.\n",
    "* **make_moons** Make two interleaving half circles..\n",
    "* **normalize** Scale input vectors individually to unit norm (vector length).\n",
    "* **PCA** Principal Component Analysis\n",
    "* **Pipeline** Pipeline of transforms with a final estimator.\n",
    "* **StandardScaler** Standardize features by removing the mean and scaling to unit variance\n",
    "* **SVC** Support Vector Classifier\n",
    "* **train_test_split** Split arrays or matrices into random train and test subsets\n",
    "* **TSNE** t-distributed Stochastic Neighbor Embedding.\n",
    "* **calinski_harabasz_score**: Compute the Calinski and Harabasz score. It is also known as the Variance Ratio Criterion. The score is defined as ratio of the sum of between-cluster dispersion and of within-cluster dispersion."
   ]
  },
  {
   "cell_type": "markdown",
   "metadata": {},
   "source": [
    "# =========================================="
   ]
  },
  {
   "cell_type": "markdown",
   "metadata": {},
   "source": [
    "### 2.01 Instructor Do: Warmup (0:10) "
   ]
  },
  {
   "cell_type": "markdown",
   "metadata": {},
   "source": []
  },
  {
   "cell_type": "code",
   "execution_count": 1,
   "metadata": {},
   "outputs": [
    {
     "data": {
      "application/javascript": [
       "(function(root) {\n",
       "  function now() {\n",
       "    return new Date();\n",
       "  }\n",
       "\n",
       "  var force = true;\n",
       "\n",
       "  if (typeof root._bokeh_onload_callbacks === \"undefined\" || force === true) {\n",
       "    root._bokeh_onload_callbacks = [];\n",
       "    root._bokeh_is_loading = undefined;\n",
       "  }\n",
       "\n",
       "  if (typeof (root._bokeh_timeout) === \"undefined\" || force === true) {\n",
       "    root._bokeh_timeout = Date.now() + 5000;\n",
       "    root._bokeh_failed_load = false;\n",
       "  }\n",
       "\n",
       "  function run_callbacks() {\n",
       "    try {\n",
       "      root._bokeh_onload_callbacks.forEach(function(callback) {\n",
       "        if (callback != null)\n",
       "          callback();\n",
       "      });\n",
       "    } finally {\n",
       "      delete root._bokeh_onload_callbacks\n",
       "    }\n",
       "    console.debug(\"Bokeh: all callbacks have finished\");\n",
       "  }\n",
       "\n",
       "  function load_libs(css_urls, js_urls, js_modules, callback) {\n",
       "    if (css_urls == null) css_urls = [];\n",
       "    if (js_urls == null) js_urls = [];\n",
       "    if (js_modules == null) js_modules = [];\n",
       "\n",
       "    root._bokeh_onload_callbacks.push(callback);\n",
       "    if (root._bokeh_is_loading > 0) {\n",
       "      console.debug(\"Bokeh: BokehJS is being loaded, scheduling callback at\", now());\n",
       "      return null;\n",
       "    }\n",
       "    if (js_urls.length === 0 && js_modules.length === 0) {\n",
       "      run_callbacks();\n",
       "      return null;\n",
       "    }\n",
       "    console.debug(\"Bokeh: BokehJS not loaded, scheduling load and callback at\", now());\n",
       "\n",
       "    function on_load() {\n",
       "      root._bokeh_is_loading--;\n",
       "      if (root._bokeh_is_loading === 0) {\n",
       "        console.debug(\"Bokeh: all BokehJS libraries/stylesheets loaded\");\n",
       "        run_callbacks()\n",
       "      }\n",
       "    }\n",
       "\n",
       "    function on_error() {\n",
       "      console.error(\"failed to load \" + url);\n",
       "    }\n",
       "\n",
       "    for (var i = 0; i < css_urls.length; i++) {\n",
       "      var url = css_urls[i];\n",
       "      const element = document.createElement(\"link\");\n",
       "      element.onload = on_load;\n",
       "      element.onerror = on_error;\n",
       "      element.rel = \"stylesheet\";\n",
       "      element.type = \"text/css\";\n",
       "      element.href = url;\n",
       "      console.debug(\"Bokeh: injecting link tag for BokehJS stylesheet: \", url);\n",
       "      document.body.appendChild(element);\n",
       "    }\n",
       "\n",
       "    var skip = [];\n",
       "    if (window.requirejs) {\n",
       "      window.requirejs.config({'packages': {}, 'paths': {'gridstack': 'https://cdn.jsdelivr.net/npm/gridstack@4.2.5/dist/gridstack-h5', 'notyf': 'https://cdn.jsdelivr.net/npm/notyf@3/notyf.min'}, 'shim': {'gridstack': {'exports': 'GridStack'}}});\n",
       "      require([\"gridstack\"], function(GridStack) {\n",
       "\twindow.GridStack = GridStack\n",
       "\ton_load()\n",
       "      })\n",
       "      require([\"notyf\"], function() {\n",
       "\ton_load()\n",
       "      })\n",
       "      root._bokeh_is_loading = css_urls.length + 2;\n",
       "    } else {\n",
       "      root._bokeh_is_loading = css_urls.length + js_urls.length + js_modules.length;\n",
       "    }    if (((window['GridStack'] !== undefined) && (!(window['GridStack'] instanceof HTMLElement))) || window.requirejs) {\n",
       "      var urls = ['https://cdn.holoviz.org/panel/0.14.4/dist/bundled/gridstack/gridstack@4.2.5/dist/gridstack-h5.js'];\n",
       "      for (var i = 0; i < urls.length; i++) {\n",
       "        skip.push(urls[i])\n",
       "      }\n",
       "    }    if (((window['Notyf'] !== undefined) && (!(window['Notyf'] instanceof HTMLElement))) || window.requirejs) {\n",
       "      var urls = ['https://cdn.holoviz.org/panel/0.14.4/dist/bundled/notificationarea/notyf@3/notyf.min.js'];\n",
       "      for (var i = 0; i < urls.length; i++) {\n",
       "        skip.push(urls[i])\n",
       "      }\n",
       "    }    for (var i = 0; i < js_urls.length; i++) {\n",
       "      var url = js_urls[i];\n",
       "      if (skip.indexOf(url) >= 0) {\n",
       "\tif (!window.requirejs) {\n",
       "\t  on_load();\n",
       "\t}\n",
       "\tcontinue;\n",
       "      }\n",
       "      var element = document.createElement('script');\n",
       "      element.onload = on_load;\n",
       "      element.onerror = on_error;\n",
       "      element.async = false;\n",
       "      element.src = url;\n",
       "      console.debug(\"Bokeh: injecting script tag for BokehJS library: \", url);\n",
       "      document.head.appendChild(element);\n",
       "    }\n",
       "    for (var i = 0; i < js_modules.length; i++) {\n",
       "      var url = js_modules[i];\n",
       "      if (skip.indexOf(url) >= 0) {\n",
       "\tif (!window.requirejs) {\n",
       "\t  on_load();\n",
       "\t}\n",
       "\tcontinue;\n",
       "      }\n",
       "      var element = document.createElement('script');\n",
       "      element.onload = on_load;\n",
       "      element.onerror = on_error;\n",
       "      element.async = false;\n",
       "      element.src = url;\n",
       "      element.type = \"module\";\n",
       "      console.debug(\"Bokeh: injecting script tag for BokehJS library: \", url);\n",
       "      document.head.appendChild(element);\n",
       "    }\n",
       "    if (!js_urls.length && !js_modules.length) {\n",
       "      on_load()\n",
       "    }\n",
       "  };\n",
       "\n",
       "  function inject_raw_css(css) {\n",
       "    const element = document.createElement(\"style\");\n",
       "    element.appendChild(document.createTextNode(css));\n",
       "    document.body.appendChild(element);\n",
       "  }\n",
       "\n",
       "  var js_urls = [\"https://cdn.bokeh.org/bokeh/release/bokeh-2.4.3.min.js\", \"https://cdn.bokeh.org/bokeh/release/bokeh-gl-2.4.3.min.js\", \"https://cdn.bokeh.org/bokeh/release/bokeh-widgets-2.4.3.min.js\", \"https://cdn.bokeh.org/bokeh/release/bokeh-tables-2.4.3.min.js\", \"https://cdn.bokeh.org/bokeh/release/bokeh-mathjax-2.4.3.min.js\", \"https://unpkg.com/@holoviz/panel@0.14.4/dist/panel.min.js\"];\n",
       "  var js_modules = [];\n",
       "  var css_urls = [\"https://cdn.holoviz.org/panel/0.14.4/dist/css/alerts.css\", \"https://cdn.holoviz.org/panel/0.14.4/dist/css/card.css\", \"https://cdn.holoviz.org/panel/0.14.4/dist/css/dataframe.css\", \"https://cdn.holoviz.org/panel/0.14.4/dist/css/debugger.css\", \"https://cdn.holoviz.org/panel/0.14.4/dist/css/json.css\", \"https://cdn.holoviz.org/panel/0.14.4/dist/css/loading.css\", \"https://cdn.holoviz.org/panel/0.14.4/dist/css/markdown.css\", \"https://cdn.holoviz.org/panel/0.14.4/dist/css/widgets.css\"];\n",
       "  var inline_js = [    function(Bokeh) {\n",
       "      inject_raw_css(\"\\n    .bk.pn-loading.arc:before {\\n      background-image: url(\\\"data:image/svg+xml;base64,PHN2ZyB4bWxucz0iaHR0cDovL3d3dy53My5vcmcvMjAwMC9zdmciIHN0eWxlPSJtYXJnaW46IGF1dG87IGJhY2tncm91bmQ6IG5vbmU7IGRpc3BsYXk6IGJsb2NrOyBzaGFwZS1yZW5kZXJpbmc6IGF1dG87IiB2aWV3Qm94PSIwIDAgMTAwIDEwMCIgcHJlc2VydmVBc3BlY3RSYXRpbz0ieE1pZFlNaWQiPiAgPGNpcmNsZSBjeD0iNTAiIGN5PSI1MCIgZmlsbD0ibm9uZSIgc3Ryb2tlPSIjYzNjM2MzIiBzdHJva2Utd2lkdGg9IjEwIiByPSIzNSIgc3Ryb2tlLWRhc2hhcnJheT0iMTY0LjkzMzYxNDMxMzQ2NDE1IDU2Ljk3Nzg3MTQzNzgyMTM4Ij4gICAgPGFuaW1hdGVUcmFuc2Zvcm0gYXR0cmlidXRlTmFtZT0idHJhbnNmb3JtIiB0eXBlPSJyb3RhdGUiIHJlcGVhdENvdW50PSJpbmRlZmluaXRlIiBkdXI9IjFzIiB2YWx1ZXM9IjAgNTAgNTA7MzYwIDUwIDUwIiBrZXlUaW1lcz0iMDsxIj48L2FuaW1hdGVUcmFuc2Zvcm0+ICA8L2NpcmNsZT48L3N2Zz4=\\\");\\n      background-size: auto calc(min(50%, 400px));\\n    }\\n    \");\n",
       "    },    function(Bokeh) {\n",
       "      Bokeh.set_log_level(\"info\");\n",
       "    },\n",
       "function(Bokeh) {} // ensure no trailing comma for IE\n",
       "  ];\n",
       "\n",
       "  function run_inline_js() {\n",
       "    if ((root.Bokeh !== undefined) || (force === true)) {\n",
       "      for (var i = 0; i < inline_js.length; i++) {\n",
       "        inline_js[i].call(root, root.Bokeh);\n",
       "      }} else if (Date.now() < root._bokeh_timeout) {\n",
       "      setTimeout(run_inline_js, 100);\n",
       "    } else if (!root._bokeh_failed_load) {\n",
       "      console.log(\"Bokeh: BokehJS failed to load within specified timeout.\");\n",
       "      root._bokeh_failed_load = true;\n",
       "    }\n",
       "  }\n",
       "\n",
       "  if (root._bokeh_is_loading === 0) {\n",
       "    console.debug(\"Bokeh: BokehJS loaded, going straight to plotting\");\n",
       "    run_inline_js();\n",
       "  } else {\n",
       "    load_libs(css_urls, js_urls, js_modules, function() {\n",
       "      console.debug(\"Bokeh: BokehJS plotting callback run at\", now());\n",
       "      run_inline_js();\n",
       "    });\n",
       "  }\n",
       "}(window));"
      ],
      "application/vnd.holoviews_load.v0+json": "(function(root) {\n  function now() {\n    return new Date();\n  }\n\n  var force = true;\n\n  if (typeof root._bokeh_onload_callbacks === \"undefined\" || force === true) {\n    root._bokeh_onload_callbacks = [];\n    root._bokeh_is_loading = undefined;\n  }\n\n  if (typeof (root._bokeh_timeout) === \"undefined\" || force === true) {\n    root._bokeh_timeout = Date.now() + 5000;\n    root._bokeh_failed_load = false;\n  }\n\n  function run_callbacks() {\n    try {\n      root._bokeh_onload_callbacks.forEach(function(callback) {\n        if (callback != null)\n          callback();\n      });\n    } finally {\n      delete root._bokeh_onload_callbacks\n    }\n    console.debug(\"Bokeh: all callbacks have finished\");\n  }\n\n  function load_libs(css_urls, js_urls, js_modules, callback) {\n    if (css_urls == null) css_urls = [];\n    if (js_urls == null) js_urls = [];\n    if (js_modules == null) js_modules = [];\n\n    root._bokeh_onload_callbacks.push(callback);\n    if (root._bokeh_is_loading > 0) {\n      console.debug(\"Bokeh: BokehJS is being loaded, scheduling callback at\", now());\n      return null;\n    }\n    if (js_urls.length === 0 && js_modules.length === 0) {\n      run_callbacks();\n      return null;\n    }\n    console.debug(\"Bokeh: BokehJS not loaded, scheduling load and callback at\", now());\n\n    function on_load() {\n      root._bokeh_is_loading--;\n      if (root._bokeh_is_loading === 0) {\n        console.debug(\"Bokeh: all BokehJS libraries/stylesheets loaded\");\n        run_callbacks()\n      }\n    }\n\n    function on_error() {\n      console.error(\"failed to load \" + url);\n    }\n\n    for (var i = 0; i < css_urls.length; i++) {\n      var url = css_urls[i];\n      const element = document.createElement(\"link\");\n      element.onload = on_load;\n      element.onerror = on_error;\n      element.rel = \"stylesheet\";\n      element.type = \"text/css\";\n      element.href = url;\n      console.debug(\"Bokeh: injecting link tag for BokehJS stylesheet: \", url);\n      document.body.appendChild(element);\n    }\n\n    var skip = [];\n    if (window.requirejs) {\n      window.requirejs.config({'packages': {}, 'paths': {'gridstack': 'https://cdn.jsdelivr.net/npm/gridstack@4.2.5/dist/gridstack-h5', 'notyf': 'https://cdn.jsdelivr.net/npm/notyf@3/notyf.min'}, 'shim': {'gridstack': {'exports': 'GridStack'}}});\n      require([\"gridstack\"], function(GridStack) {\n\twindow.GridStack = GridStack\n\ton_load()\n      })\n      require([\"notyf\"], function() {\n\ton_load()\n      })\n      root._bokeh_is_loading = css_urls.length + 2;\n    } else {\n      root._bokeh_is_loading = css_urls.length + js_urls.length + js_modules.length;\n    }    if (((window['GridStack'] !== undefined) && (!(window['GridStack'] instanceof HTMLElement))) || window.requirejs) {\n      var urls = ['https://cdn.holoviz.org/panel/0.14.4/dist/bundled/gridstack/gridstack@4.2.5/dist/gridstack-h5.js'];\n      for (var i = 0; i < urls.length; i++) {\n        skip.push(urls[i])\n      }\n    }    if (((window['Notyf'] !== undefined) && (!(window['Notyf'] instanceof HTMLElement))) || window.requirejs) {\n      var urls = ['https://cdn.holoviz.org/panel/0.14.4/dist/bundled/notificationarea/notyf@3/notyf.min.js'];\n      for (var i = 0; i < urls.length; i++) {\n        skip.push(urls[i])\n      }\n    }    for (var i = 0; i < js_urls.length; i++) {\n      var url = js_urls[i];\n      if (skip.indexOf(url) >= 0) {\n\tif (!window.requirejs) {\n\t  on_load();\n\t}\n\tcontinue;\n      }\n      var element = document.createElement('script');\n      element.onload = on_load;\n      element.onerror = on_error;\n      element.async = false;\n      element.src = url;\n      console.debug(\"Bokeh: injecting script tag for BokehJS library: \", url);\n      document.head.appendChild(element);\n    }\n    for (var i = 0; i < js_modules.length; i++) {\n      var url = js_modules[i];\n      if (skip.indexOf(url) >= 0) {\n\tif (!window.requirejs) {\n\t  on_load();\n\t}\n\tcontinue;\n      }\n      var element = document.createElement('script');\n      element.onload = on_load;\n      element.onerror = on_error;\n      element.async = false;\n      element.src = url;\n      element.type = \"module\";\n      console.debug(\"Bokeh: injecting script tag for BokehJS library: \", url);\n      document.head.appendChild(element);\n    }\n    if (!js_urls.length && !js_modules.length) {\n      on_load()\n    }\n  };\n\n  function inject_raw_css(css) {\n    const element = document.createElement(\"style\");\n    element.appendChild(document.createTextNode(css));\n    document.body.appendChild(element);\n  }\n\n  var js_urls = [\"https://cdn.bokeh.org/bokeh/release/bokeh-2.4.3.min.js\", \"https://cdn.bokeh.org/bokeh/release/bokeh-gl-2.4.3.min.js\", \"https://cdn.bokeh.org/bokeh/release/bokeh-widgets-2.4.3.min.js\", \"https://cdn.bokeh.org/bokeh/release/bokeh-tables-2.4.3.min.js\", \"https://cdn.bokeh.org/bokeh/release/bokeh-mathjax-2.4.3.min.js\", \"https://unpkg.com/@holoviz/panel@0.14.4/dist/panel.min.js\"];\n  var js_modules = [];\n  var css_urls = [\"https://cdn.holoviz.org/panel/0.14.4/dist/css/alerts.css\", \"https://cdn.holoviz.org/panel/0.14.4/dist/css/card.css\", \"https://cdn.holoviz.org/panel/0.14.4/dist/css/dataframe.css\", \"https://cdn.holoviz.org/panel/0.14.4/dist/css/debugger.css\", \"https://cdn.holoviz.org/panel/0.14.4/dist/css/json.css\", \"https://cdn.holoviz.org/panel/0.14.4/dist/css/loading.css\", \"https://cdn.holoviz.org/panel/0.14.4/dist/css/markdown.css\", \"https://cdn.holoviz.org/panel/0.14.4/dist/css/widgets.css\"];\n  var inline_js = [    function(Bokeh) {\n      inject_raw_css(\"\\n    .bk.pn-loading.arc:before {\\n      background-image: url(\\\"data:image/svg+xml;base64,PHN2ZyB4bWxucz0iaHR0cDovL3d3dy53My5vcmcvMjAwMC9zdmciIHN0eWxlPSJtYXJnaW46IGF1dG87IGJhY2tncm91bmQ6IG5vbmU7IGRpc3BsYXk6IGJsb2NrOyBzaGFwZS1yZW5kZXJpbmc6IGF1dG87IiB2aWV3Qm94PSIwIDAgMTAwIDEwMCIgcHJlc2VydmVBc3BlY3RSYXRpbz0ieE1pZFlNaWQiPiAgPGNpcmNsZSBjeD0iNTAiIGN5PSI1MCIgZmlsbD0ibm9uZSIgc3Ryb2tlPSIjYzNjM2MzIiBzdHJva2Utd2lkdGg9IjEwIiByPSIzNSIgc3Ryb2tlLWRhc2hhcnJheT0iMTY0LjkzMzYxNDMxMzQ2NDE1IDU2Ljk3Nzg3MTQzNzgyMTM4Ij4gICAgPGFuaW1hdGVUcmFuc2Zvcm0gYXR0cmlidXRlTmFtZT0idHJhbnNmb3JtIiB0eXBlPSJyb3RhdGUiIHJlcGVhdENvdW50PSJpbmRlZmluaXRlIiBkdXI9IjFzIiB2YWx1ZXM9IjAgNTAgNTA7MzYwIDUwIDUwIiBrZXlUaW1lcz0iMDsxIj48L2FuaW1hdGVUcmFuc2Zvcm0+ICA8L2NpcmNsZT48L3N2Zz4=\\\");\\n      background-size: auto calc(min(50%, 400px));\\n    }\\n    \");\n    },    function(Bokeh) {\n      Bokeh.set_log_level(\"info\");\n    },\nfunction(Bokeh) {} // ensure no trailing comma for IE\n  ];\n\n  function run_inline_js() {\n    if ((root.Bokeh !== undefined) || (force === true)) {\n      for (var i = 0; i < inline_js.length; i++) {\n        inline_js[i].call(root, root.Bokeh);\n      }} else if (Date.now() < root._bokeh_timeout) {\n      setTimeout(run_inline_js, 100);\n    } else if (!root._bokeh_failed_load) {\n      console.log(\"Bokeh: BokehJS failed to load within specified timeout.\");\n      root._bokeh_failed_load = true;\n    }\n  }\n\n  if (root._bokeh_is_loading === 0) {\n    console.debug(\"Bokeh: BokehJS loaded, going straight to plotting\");\n    run_inline_js();\n  } else {\n    load_libs(css_urls, js_urls, js_modules, function() {\n      console.debug(\"Bokeh: BokehJS plotting callback run at\", now());\n      run_inline_js();\n    });\n  }\n}(window));"
     },
     "metadata": {},
     "output_type": "display_data"
    },
    {
     "data": {
      "application/javascript": [
       "\n",
       "if ((window.PyViz === undefined) || (window.PyViz instanceof HTMLElement)) {\n",
       "  window.PyViz = {comms: {}, comm_status:{}, kernels:{}, receivers: {}, plot_index: []}\n",
       "}\n",
       "\n",
       "\n",
       "    function JupyterCommManager() {\n",
       "    }\n",
       "\n",
       "    JupyterCommManager.prototype.register_target = function(plot_id, comm_id, msg_handler) {\n",
       "      if (window.comm_manager || ((window.Jupyter !== undefined) && (Jupyter.notebook.kernel != null))) {\n",
       "        var comm_manager = window.comm_manager || Jupyter.notebook.kernel.comm_manager;\n",
       "        comm_manager.register_target(comm_id, function(comm) {\n",
       "          comm.on_msg(msg_handler);\n",
       "        });\n",
       "      } else if ((plot_id in window.PyViz.kernels) && (window.PyViz.kernels[plot_id])) {\n",
       "        window.PyViz.kernels[plot_id].registerCommTarget(comm_id, function(comm) {\n",
       "          comm.onMsg = msg_handler;\n",
       "        });\n",
       "      } else if (typeof google != 'undefined' && google.colab.kernel != null) {\n",
       "        google.colab.kernel.comms.registerTarget(comm_id, (comm) => {\n",
       "          var messages = comm.messages[Symbol.asyncIterator]();\n",
       "          function processIteratorResult(result) {\n",
       "            var message = result.value;\n",
       "            console.log(message)\n",
       "            var content = {data: message.data, comm_id};\n",
       "            var buffers = []\n",
       "            for (var buffer of message.buffers || []) {\n",
       "              buffers.push(new DataView(buffer))\n",
       "            }\n",
       "            var metadata = message.metadata || {};\n",
       "            var msg = {content, buffers, metadata}\n",
       "            msg_handler(msg);\n",
       "            return messages.next().then(processIteratorResult);\n",
       "          }\n",
       "          return messages.next().then(processIteratorResult);\n",
       "        })\n",
       "      }\n",
       "    }\n",
       "\n",
       "    JupyterCommManager.prototype.get_client_comm = function(plot_id, comm_id, msg_handler) {\n",
       "      if (comm_id in window.PyViz.comms) {\n",
       "        return window.PyViz.comms[comm_id];\n",
       "      } else if (window.comm_manager || ((window.Jupyter !== undefined) && (Jupyter.notebook.kernel != null))) {\n",
       "        var comm_manager = window.comm_manager || Jupyter.notebook.kernel.comm_manager;\n",
       "        var comm = comm_manager.new_comm(comm_id, {}, {}, {}, comm_id);\n",
       "        if (msg_handler) {\n",
       "          comm.on_msg(msg_handler);\n",
       "        }\n",
       "      } else if ((plot_id in window.PyViz.kernels) && (window.PyViz.kernels[plot_id])) {\n",
       "        var comm = window.PyViz.kernels[plot_id].connectToComm(comm_id);\n",
       "        comm.open();\n",
       "        if (msg_handler) {\n",
       "          comm.onMsg = msg_handler;\n",
       "        }\n",
       "      } else if (typeof google != 'undefined' && google.colab.kernel != null) {\n",
       "        var comm_promise = google.colab.kernel.comms.open(comm_id)\n",
       "        comm_promise.then((comm) => {\n",
       "          window.PyViz.comms[comm_id] = comm;\n",
       "          if (msg_handler) {\n",
       "            var messages = comm.messages[Symbol.asyncIterator]();\n",
       "            function processIteratorResult(result) {\n",
       "              var message = result.value;\n",
       "              var content = {data: message.data};\n",
       "              var metadata = message.metadata || {comm_id};\n",
       "              var msg = {content, metadata}\n",
       "              msg_handler(msg);\n",
       "              return messages.next().then(processIteratorResult);\n",
       "            }\n",
       "            return messages.next().then(processIteratorResult);\n",
       "          }\n",
       "        }) \n",
       "        var sendClosure = (data, metadata, buffers, disposeOnDone) => {\n",
       "          return comm_promise.then((comm) => {\n",
       "            comm.send(data, metadata, buffers, disposeOnDone);\n",
       "          });\n",
       "        };\n",
       "        var comm = {\n",
       "          send: sendClosure\n",
       "        };\n",
       "      }\n",
       "      window.PyViz.comms[comm_id] = comm;\n",
       "      return comm;\n",
       "    }\n",
       "    window.PyViz.comm_manager = new JupyterCommManager();\n",
       "    \n",
       "\n",
       "\n",
       "var JS_MIME_TYPE = 'application/javascript';\n",
       "var HTML_MIME_TYPE = 'text/html';\n",
       "var EXEC_MIME_TYPE = 'application/vnd.holoviews_exec.v0+json';\n",
       "var CLASS_NAME = 'output';\n",
       "\n",
       "/**\n",
       " * Render data to the DOM node\n",
       " */\n",
       "function render(props, node) {\n",
       "  var div = document.createElement(\"div\");\n",
       "  var script = document.createElement(\"script\");\n",
       "  node.appendChild(div);\n",
       "  node.appendChild(script);\n",
       "}\n",
       "\n",
       "/**\n",
       " * Handle when a new output is added\n",
       " */\n",
       "function handle_add_output(event, handle) {\n",
       "  var output_area = handle.output_area;\n",
       "  var output = handle.output;\n",
       "  if ((output.data == undefined) || (!output.data.hasOwnProperty(EXEC_MIME_TYPE))) {\n",
       "    return\n",
       "  }\n",
       "  var id = output.metadata[EXEC_MIME_TYPE][\"id\"];\n",
       "  var toinsert = output_area.element.find(\".\" + CLASS_NAME.split(' ')[0]);\n",
       "  if (id !== undefined) {\n",
       "    var nchildren = toinsert.length;\n",
       "    var html_node = toinsert[nchildren-1].children[0];\n",
       "    html_node.innerHTML = output.data[HTML_MIME_TYPE];\n",
       "    var scripts = [];\n",
       "    var nodelist = html_node.querySelectorAll(\"script\");\n",
       "    for (var i in nodelist) {\n",
       "      if (nodelist.hasOwnProperty(i)) {\n",
       "        scripts.push(nodelist[i])\n",
       "      }\n",
       "    }\n",
       "\n",
       "    scripts.forEach( function (oldScript) {\n",
       "      var newScript = document.createElement(\"script\");\n",
       "      var attrs = [];\n",
       "      var nodemap = oldScript.attributes;\n",
       "      for (var j in nodemap) {\n",
       "        if (nodemap.hasOwnProperty(j)) {\n",
       "          attrs.push(nodemap[j])\n",
       "        }\n",
       "      }\n",
       "      attrs.forEach(function(attr) { newScript.setAttribute(attr.name, attr.value) });\n",
       "      newScript.appendChild(document.createTextNode(oldScript.innerHTML));\n",
       "      oldScript.parentNode.replaceChild(newScript, oldScript);\n",
       "    });\n",
       "    if (JS_MIME_TYPE in output.data) {\n",
       "      toinsert[nchildren-1].children[1].textContent = output.data[JS_MIME_TYPE];\n",
       "    }\n",
       "    output_area._hv_plot_id = id;\n",
       "    if ((window.Bokeh !== undefined) && (id in Bokeh.index)) {\n",
       "      window.PyViz.plot_index[id] = Bokeh.index[id];\n",
       "    } else {\n",
       "      window.PyViz.plot_index[id] = null;\n",
       "    }\n",
       "  } else if (output.metadata[EXEC_MIME_TYPE][\"server_id\"] !== undefined) {\n",
       "    var bk_div = document.createElement(\"div\");\n",
       "    bk_div.innerHTML = output.data[HTML_MIME_TYPE];\n",
       "    var script_attrs = bk_div.children[0].attributes;\n",
       "    for (var i = 0; i < script_attrs.length; i++) {\n",
       "      toinsert[toinsert.length - 1].childNodes[1].setAttribute(script_attrs[i].name, script_attrs[i].value);\n",
       "    }\n",
       "    // store reference to server id on output_area\n",
       "    output_area._bokeh_server_id = output.metadata[EXEC_MIME_TYPE][\"server_id\"];\n",
       "  }\n",
       "}\n",
       "\n",
       "/**\n",
       " * Handle when an output is cleared or removed\n",
       " */\n",
       "function handle_clear_output(event, handle) {\n",
       "  var id = handle.cell.output_area._hv_plot_id;\n",
       "  var server_id = handle.cell.output_area._bokeh_server_id;\n",
       "  if (((id === undefined) || !(id in PyViz.plot_index)) && (server_id !== undefined)) { return; }\n",
       "  var comm = window.PyViz.comm_manager.get_client_comm(\"hv-extension-comm\", \"hv-extension-comm\", function () {});\n",
       "  if (server_id !== null) {\n",
       "    comm.send({event_type: 'server_delete', 'id': server_id});\n",
       "    return;\n",
       "  } else if (comm !== null) {\n",
       "    comm.send({event_type: 'delete', 'id': id});\n",
       "  }\n",
       "  delete PyViz.plot_index[id];\n",
       "  if ((window.Bokeh !== undefined) & (id in window.Bokeh.index)) {\n",
       "    var doc = window.Bokeh.index[id].model.document\n",
       "    doc.clear();\n",
       "    const i = window.Bokeh.documents.indexOf(doc);\n",
       "    if (i > -1) {\n",
       "      window.Bokeh.documents.splice(i, 1);\n",
       "    }\n",
       "  }\n",
       "}\n",
       "\n",
       "/**\n",
       " * Handle kernel restart event\n",
       " */\n",
       "function handle_kernel_cleanup(event, handle) {\n",
       "  delete PyViz.comms[\"hv-extension-comm\"];\n",
       "  window.PyViz.plot_index = {}\n",
       "}\n",
       "\n",
       "/**\n",
       " * Handle update_display_data messages\n",
       " */\n",
       "function handle_update_output(event, handle) {\n",
       "  handle_clear_output(event, {cell: {output_area: handle.output_area}})\n",
       "  handle_add_output(event, handle)\n",
       "}\n",
       "\n",
       "function register_renderer(events, OutputArea) {\n",
       "  function append_mime(data, metadata, element) {\n",
       "    // create a DOM node to render to\n",
       "    var toinsert = this.create_output_subarea(\n",
       "    metadata,\n",
       "    CLASS_NAME,\n",
       "    EXEC_MIME_TYPE\n",
       "    );\n",
       "    this.keyboard_manager.register_events(toinsert);\n",
       "    // Render to node\n",
       "    var props = {data: data, metadata: metadata[EXEC_MIME_TYPE]};\n",
       "    render(props, toinsert[0]);\n",
       "    element.append(toinsert);\n",
       "    return toinsert\n",
       "  }\n",
       "\n",
       "  events.on('output_added.OutputArea', handle_add_output);\n",
       "  events.on('output_updated.OutputArea', handle_update_output);\n",
       "  events.on('clear_output.CodeCell', handle_clear_output);\n",
       "  events.on('delete.Cell', handle_clear_output);\n",
       "  events.on('kernel_ready.Kernel', handle_kernel_cleanup);\n",
       "\n",
       "  OutputArea.prototype.register_mime_type(EXEC_MIME_TYPE, append_mime, {\n",
       "    safe: true,\n",
       "    index: 0\n",
       "  });\n",
       "}\n",
       "\n",
       "if (window.Jupyter !== undefined) {\n",
       "  try {\n",
       "    var events = require('base/js/events');\n",
       "    var OutputArea = require('notebook/js/outputarea').OutputArea;\n",
       "    if (OutputArea.prototype.mime_types().indexOf(EXEC_MIME_TYPE) == -1) {\n",
       "      register_renderer(events, OutputArea);\n",
       "    }\n",
       "  } catch(err) {\n",
       "  }\n",
       "}\n"
      ],
      "application/vnd.holoviews_load.v0+json": "\nif ((window.PyViz === undefined) || (window.PyViz instanceof HTMLElement)) {\n  window.PyViz = {comms: {}, comm_status:{}, kernels:{}, receivers: {}, plot_index: []}\n}\n\n\n    function JupyterCommManager() {\n    }\n\n    JupyterCommManager.prototype.register_target = function(plot_id, comm_id, msg_handler) {\n      if (window.comm_manager || ((window.Jupyter !== undefined) && (Jupyter.notebook.kernel != null))) {\n        var comm_manager = window.comm_manager || Jupyter.notebook.kernel.comm_manager;\n        comm_manager.register_target(comm_id, function(comm) {\n          comm.on_msg(msg_handler);\n        });\n      } else if ((plot_id in window.PyViz.kernels) && (window.PyViz.kernels[plot_id])) {\n        window.PyViz.kernels[plot_id].registerCommTarget(comm_id, function(comm) {\n          comm.onMsg = msg_handler;\n        });\n      } else if (typeof google != 'undefined' && google.colab.kernel != null) {\n        google.colab.kernel.comms.registerTarget(comm_id, (comm) => {\n          var messages = comm.messages[Symbol.asyncIterator]();\n          function processIteratorResult(result) {\n            var message = result.value;\n            console.log(message)\n            var content = {data: message.data, comm_id};\n            var buffers = []\n            for (var buffer of message.buffers || []) {\n              buffers.push(new DataView(buffer))\n            }\n            var metadata = message.metadata || {};\n            var msg = {content, buffers, metadata}\n            msg_handler(msg);\n            return messages.next().then(processIteratorResult);\n          }\n          return messages.next().then(processIteratorResult);\n        })\n      }\n    }\n\n    JupyterCommManager.prototype.get_client_comm = function(plot_id, comm_id, msg_handler) {\n      if (comm_id in window.PyViz.comms) {\n        return window.PyViz.comms[comm_id];\n      } else if (window.comm_manager || ((window.Jupyter !== undefined) && (Jupyter.notebook.kernel != null))) {\n        var comm_manager = window.comm_manager || Jupyter.notebook.kernel.comm_manager;\n        var comm = comm_manager.new_comm(comm_id, {}, {}, {}, comm_id);\n        if (msg_handler) {\n          comm.on_msg(msg_handler);\n        }\n      } else if ((plot_id in window.PyViz.kernels) && (window.PyViz.kernels[plot_id])) {\n        var comm = window.PyViz.kernels[plot_id].connectToComm(comm_id);\n        comm.open();\n        if (msg_handler) {\n          comm.onMsg = msg_handler;\n        }\n      } else if (typeof google != 'undefined' && google.colab.kernel != null) {\n        var comm_promise = google.colab.kernel.comms.open(comm_id)\n        comm_promise.then((comm) => {\n          window.PyViz.comms[comm_id] = comm;\n          if (msg_handler) {\n            var messages = comm.messages[Symbol.asyncIterator]();\n            function processIteratorResult(result) {\n              var message = result.value;\n              var content = {data: message.data};\n              var metadata = message.metadata || {comm_id};\n              var msg = {content, metadata}\n              msg_handler(msg);\n              return messages.next().then(processIteratorResult);\n            }\n            return messages.next().then(processIteratorResult);\n          }\n        }) \n        var sendClosure = (data, metadata, buffers, disposeOnDone) => {\n          return comm_promise.then((comm) => {\n            comm.send(data, metadata, buffers, disposeOnDone);\n          });\n        };\n        var comm = {\n          send: sendClosure\n        };\n      }\n      window.PyViz.comms[comm_id] = comm;\n      return comm;\n    }\n    window.PyViz.comm_manager = new JupyterCommManager();\n    \n\n\nvar JS_MIME_TYPE = 'application/javascript';\nvar HTML_MIME_TYPE = 'text/html';\nvar EXEC_MIME_TYPE = 'application/vnd.holoviews_exec.v0+json';\nvar CLASS_NAME = 'output';\n\n/**\n * Render data to the DOM node\n */\nfunction render(props, node) {\n  var div = document.createElement(\"div\");\n  var script = document.createElement(\"script\");\n  node.appendChild(div);\n  node.appendChild(script);\n}\n\n/**\n * Handle when a new output is added\n */\nfunction handle_add_output(event, handle) {\n  var output_area = handle.output_area;\n  var output = handle.output;\n  if ((output.data == undefined) || (!output.data.hasOwnProperty(EXEC_MIME_TYPE))) {\n    return\n  }\n  var id = output.metadata[EXEC_MIME_TYPE][\"id\"];\n  var toinsert = output_area.element.find(\".\" + CLASS_NAME.split(' ')[0]);\n  if (id !== undefined) {\n    var nchildren = toinsert.length;\n    var html_node = toinsert[nchildren-1].children[0];\n    html_node.innerHTML = output.data[HTML_MIME_TYPE];\n    var scripts = [];\n    var nodelist = html_node.querySelectorAll(\"script\");\n    for (var i in nodelist) {\n      if (nodelist.hasOwnProperty(i)) {\n        scripts.push(nodelist[i])\n      }\n    }\n\n    scripts.forEach( function (oldScript) {\n      var newScript = document.createElement(\"script\");\n      var attrs = [];\n      var nodemap = oldScript.attributes;\n      for (var j in nodemap) {\n        if (nodemap.hasOwnProperty(j)) {\n          attrs.push(nodemap[j])\n        }\n      }\n      attrs.forEach(function(attr) { newScript.setAttribute(attr.name, attr.value) });\n      newScript.appendChild(document.createTextNode(oldScript.innerHTML));\n      oldScript.parentNode.replaceChild(newScript, oldScript);\n    });\n    if (JS_MIME_TYPE in output.data) {\n      toinsert[nchildren-1].children[1].textContent = output.data[JS_MIME_TYPE];\n    }\n    output_area._hv_plot_id = id;\n    if ((window.Bokeh !== undefined) && (id in Bokeh.index)) {\n      window.PyViz.plot_index[id] = Bokeh.index[id];\n    } else {\n      window.PyViz.plot_index[id] = null;\n    }\n  } else if (output.metadata[EXEC_MIME_TYPE][\"server_id\"] !== undefined) {\n    var bk_div = document.createElement(\"div\");\n    bk_div.innerHTML = output.data[HTML_MIME_TYPE];\n    var script_attrs = bk_div.children[0].attributes;\n    for (var i = 0; i < script_attrs.length; i++) {\n      toinsert[toinsert.length - 1].childNodes[1].setAttribute(script_attrs[i].name, script_attrs[i].value);\n    }\n    // store reference to server id on output_area\n    output_area._bokeh_server_id = output.metadata[EXEC_MIME_TYPE][\"server_id\"];\n  }\n}\n\n/**\n * Handle when an output is cleared or removed\n */\nfunction handle_clear_output(event, handle) {\n  var id = handle.cell.output_area._hv_plot_id;\n  var server_id = handle.cell.output_area._bokeh_server_id;\n  if (((id === undefined) || !(id in PyViz.plot_index)) && (server_id !== undefined)) { return; }\n  var comm = window.PyViz.comm_manager.get_client_comm(\"hv-extension-comm\", \"hv-extension-comm\", function () {});\n  if (server_id !== null) {\n    comm.send({event_type: 'server_delete', 'id': server_id});\n    return;\n  } else if (comm !== null) {\n    comm.send({event_type: 'delete', 'id': id});\n  }\n  delete PyViz.plot_index[id];\n  if ((window.Bokeh !== undefined) & (id in window.Bokeh.index)) {\n    var doc = window.Bokeh.index[id].model.document\n    doc.clear();\n    const i = window.Bokeh.documents.indexOf(doc);\n    if (i > -1) {\n      window.Bokeh.documents.splice(i, 1);\n    }\n  }\n}\n\n/**\n * Handle kernel restart event\n */\nfunction handle_kernel_cleanup(event, handle) {\n  delete PyViz.comms[\"hv-extension-comm\"];\n  window.PyViz.plot_index = {}\n}\n\n/**\n * Handle update_display_data messages\n */\nfunction handle_update_output(event, handle) {\n  handle_clear_output(event, {cell: {output_area: handle.output_area}})\n  handle_add_output(event, handle)\n}\n\nfunction register_renderer(events, OutputArea) {\n  function append_mime(data, metadata, element) {\n    // create a DOM node to render to\n    var toinsert = this.create_output_subarea(\n    metadata,\n    CLASS_NAME,\n    EXEC_MIME_TYPE\n    );\n    this.keyboard_manager.register_events(toinsert);\n    // Render to node\n    var props = {data: data, metadata: metadata[EXEC_MIME_TYPE]};\n    render(props, toinsert[0]);\n    element.append(toinsert);\n    return toinsert\n  }\n\n  events.on('output_added.OutputArea', handle_add_output);\n  events.on('output_updated.OutputArea', handle_update_output);\n  events.on('clear_output.CodeCell', handle_clear_output);\n  events.on('delete.Cell', handle_clear_output);\n  events.on('kernel_ready.Kernel', handle_kernel_cleanup);\n\n  OutputArea.prototype.register_mime_type(EXEC_MIME_TYPE, append_mime, {\n    safe: true,\n    index: 0\n  });\n}\n\nif (window.Jupyter !== undefined) {\n  try {\n    var events = require('base/js/events');\n    var OutputArea = require('notebook/js/outputarea').OutputArea;\n    if (OutputArea.prototype.mime_types().indexOf(EXEC_MIME_TYPE) == -1) {\n      register_renderer(events, OutputArea);\n    }\n  } catch(err) {\n  }\n}\n"
     },
     "metadata": {},
     "output_type": "display_data"
    },
    {
     "data": {
      "text/html": [
       "<style>.bk-root, .bk-root .bk:before, .bk-root .bk:after {\n",
       "  font-family: var(--jp-ui-font-size1);\n",
       "  font-size: var(--jp-ui-font-size1);\n",
       "  color: var(--jp-ui-font-color1);\n",
       "}\n",
       "</style>"
      ]
     },
     "metadata": {},
     "output_type": "display_data"
    },
    {
     "data": {
      "text/html": [
       "<div>\n",
       "<style scoped>\n",
       "    .dataframe tbody tr th:only-of-type {\n",
       "        vertical-align: middle;\n",
       "    }\n",
       "\n",
       "    .dataframe tbody tr th {\n",
       "        vertical-align: top;\n",
       "    }\n",
       "\n",
       "    .dataframe thead th {\n",
       "        text-align: right;\n",
       "    }\n",
       "</style>\n",
       "<table border=\"1\" class=\"dataframe\">\n",
       "  <thead>\n",
       "    <tr style=\"text-align: right;\">\n",
       "      <th></th>\n",
       "      <th>close</th>\n",
       "      <th>volume</th>\n",
       "      <th>open</th>\n",
       "      <th>high</th>\n",
       "      <th>low</th>\n",
       "      <th>returns</th>\n",
       "      <th>hi_low_spread</th>\n",
       "    </tr>\n",
       "    <tr>\n",
       "      <th>date</th>\n",
       "      <th></th>\n",
       "      <th></th>\n",
       "      <th></th>\n",
       "      <th></th>\n",
       "      <th></th>\n",
       "      <th></th>\n",
       "      <th></th>\n",
       "    </tr>\n",
       "  </thead>\n",
       "  <tbody>\n",
       "    <tr>\n",
       "      <th>2009-04-30</th>\n",
       "      <td>3.61</td>\n",
       "      <td>18193730</td>\n",
       "      <td>3.55</td>\n",
       "      <td>3.73</td>\n",
       "      <td>3.53</td>\n",
       "      <td>0.028490</td>\n",
       "      <td>0.20</td>\n",
       "    </tr>\n",
       "    <tr>\n",
       "      <th>2009-05-01</th>\n",
       "      <td>3.82</td>\n",
       "      <td>16233940</td>\n",
       "      <td>3.55</td>\n",
       "      <td>3.90</td>\n",
       "      <td>3.55</td>\n",
       "      <td>0.058172</td>\n",
       "      <td>0.35</td>\n",
       "    </tr>\n",
       "    <tr>\n",
       "      <th>2009-05-04</th>\n",
       "      <td>4.26</td>\n",
       "      <td>21236940</td>\n",
       "      <td>3.90</td>\n",
       "      <td>4.30</td>\n",
       "      <td>3.83</td>\n",
       "      <td>0.115183</td>\n",
       "      <td>0.47</td>\n",
       "    </tr>\n",
       "    <tr>\n",
       "      <th>2009-05-05</th>\n",
       "      <td>4.32</td>\n",
       "      <td>16369170</td>\n",
       "      <td>4.36</td>\n",
       "      <td>4.39</td>\n",
       "      <td>4.11</td>\n",
       "      <td>0.014085</td>\n",
       "      <td>0.28</td>\n",
       "    </tr>\n",
       "    <tr>\n",
       "      <th>2009-05-06</th>\n",
       "      <td>4.31</td>\n",
       "      <td>15075630</td>\n",
       "      <td>4.45</td>\n",
       "      <td>4.45</td>\n",
       "      <td>4.12</td>\n",
       "      <td>-0.002315</td>\n",
       "      <td>0.33</td>\n",
       "    </tr>\n",
       "  </tbody>\n",
       "</table>\n",
       "</div>"
      ],
      "text/plain": [
       "            close    volume  open  high   low   returns  hi_low_spread\n",
       "date                                                                  \n",
       "2009-04-30   3.61  18193730  3.55  3.73  3.53  0.028490           0.20\n",
       "2009-05-01   3.82  16233940  3.55  3.90  3.55  0.058172           0.35\n",
       "2009-05-04   4.26  21236940  3.90  4.30  3.83  0.115183           0.47\n",
       "2009-05-05   4.32  16369170  4.36  4.39  4.11  0.014085           0.28\n",
       "2009-05-06   4.31  15075630  4.45  4.45  4.12 -0.002315           0.33"
      ]
     },
     "execution_count": 1,
     "metadata": {},
     "output_type": "execute_result"
    }
   ],
   "source": [
    "# Import the modules\n",
    "import pandas as pd\n",
    "import hvplot.pandas\n",
    "from pathlib import Path\n",
    "from sklearn.cluster import KMeans\n",
    "from sklearn.preprocessing import StandardScaler\n",
    "\n",
    "# Read in the CSV file as a Pandas DataFrame\n",
    "spread_df = pd.read_csv(\n",
    "    Path(\"01-Ins_Elbow_Warm_Up/Resources/stock_data.csv\"),\n",
    "    index_col=\"date\", \n",
    "    parse_dates=True, \n",
    "    infer_datetime_format=True\n",
    ")\n",
    "\n",
    "# Review the DataFrame\n",
    "spread_df.head()"
   ]
  },
  {
   "cell_type": "code",
   "execution_count": 2,
   "metadata": {},
   "outputs": [
    {
     "data": {},
     "metadata": {},
     "output_type": "display_data"
    },
    {
     "data": {
      "application/vnd.holoviews_exec.v0+json": "",
      "text/html": [
       "<div id='1002'>\n",
       "  <div class=\"bk-root\" id=\"60c5b63d-e405-4531-8707-7b8a72a22f60\" data-root-id=\"1002\"></div>\n",
       "</div>\n",
       "<script type=\"application/javascript\">(function(root) {\n",
       "  function embed_document(root) {\n",
       "    var docs_json = {\"7dc40df8-c102-4935-81f8-98fe7064ac79\":{\"defs\":[{\"extends\":null,\"module\":null,\"name\":\"ReactiveHTML1\",\"overrides\":[],\"properties\":[]},{\"extends\":null,\"module\":null,\"name\":\"FlexBox1\",\"overrides\":[],\"properties\":[{\"default\":\"flex-start\",\"kind\":null,\"name\":\"align_content\"},{\"default\":\"flex-start\",\"kind\":null,\"name\":\"align_items\"},{\"default\":\"row\",\"kind\":null,\"name\":\"flex_direction\"},{\"default\":\"wrap\",\"kind\":null,\"name\":\"flex_wrap\"},{\"default\":\"flex-start\",\"kind\":null,\"name\":\"justify_content\"}]},{\"extends\":null,\"module\":null,\"name\":\"GridStack1\",\"overrides\":[],\"properties\":[{\"default\":\"warn\",\"kind\":null,\"name\":\"mode\"},{\"default\":null,\"kind\":null,\"name\":\"ncols\"},{\"default\":null,\"kind\":null,\"name\":\"nrows\"},{\"default\":true,\"kind\":null,\"name\":\"allow_resize\"},{\"default\":true,\"kind\":null,\"name\":\"allow_drag\"},{\"default\":[],\"kind\":null,\"name\":\"state\"}]},{\"extends\":null,\"module\":null,\"name\":\"click1\",\"overrides\":[],\"properties\":[{\"default\":\"\",\"kind\":null,\"name\":\"terminal_output\"},{\"default\":\"\",\"kind\":null,\"name\":\"debug_name\"},{\"default\":0,\"kind\":null,\"name\":\"clears\"}]},{\"extends\":null,\"module\":null,\"name\":\"NotificationAreaBase1\",\"overrides\":[],\"properties\":[{\"default\":\"bottom-right\",\"kind\":null,\"name\":\"position\"},{\"default\":0,\"kind\":null,\"name\":\"_clear\"}]},{\"extends\":null,\"module\":null,\"name\":\"NotificationArea1\",\"overrides\":[],\"properties\":[{\"default\":[],\"kind\":null,\"name\":\"notifications\"},{\"default\":\"bottom-right\",\"kind\":null,\"name\":\"position\"},{\"default\":0,\"kind\":null,\"name\":\"_clear\"},{\"default\":[{\"background\":\"#ffc107\",\"icon\":{\"className\":\"fas fa-exclamation-triangle\",\"color\":\"white\",\"tagName\":\"i\"},\"type\":\"warning\"},{\"background\":\"#007bff\",\"icon\":{\"className\":\"fas fa-info-circle\",\"color\":\"white\",\"tagName\":\"i\"},\"type\":\"info\"}],\"kind\":null,\"name\":\"types\"}]},{\"extends\":null,\"module\":null,\"name\":\"Notification\",\"overrides\":[],\"properties\":[{\"default\":null,\"kind\":null,\"name\":\"background\"},{\"default\":3000,\"kind\":null,\"name\":\"duration\"},{\"default\":null,\"kind\":null,\"name\":\"icon\"},{\"default\":\"\",\"kind\":null,\"name\":\"message\"},{\"default\":null,\"kind\":null,\"name\":\"notification_type\"},{\"default\":false,\"kind\":null,\"name\":\"_destroyed\"}]},{\"extends\":null,\"module\":null,\"name\":\"TemplateActions1\",\"overrides\":[],\"properties\":[{\"default\":0,\"kind\":null,\"name\":\"open_modal\"},{\"default\":0,\"kind\":null,\"name\":\"close_modal\"}]},{\"extends\":null,\"module\":null,\"name\":\"MaterialTemplateActions1\",\"overrides\":[],\"properties\":[{\"default\":0,\"kind\":null,\"name\":\"open_modal\"},{\"default\":0,\"kind\":null,\"name\":\"close_modal\"}]}],\"roots\":{\"references\":[{\"attributes\":{\"bottom_units\":\"screen\",\"coordinates\":null,\"fill_alpha\":0.5,\"fill_color\":\"lightgrey\",\"group\":null,\"left_units\":\"screen\",\"level\":\"overlay\",\"line_alpha\":1.0,\"line_color\":\"black\",\"line_dash\":[4,4],\"line_width\":2,\"right_units\":\"screen\",\"syncable\":false,\"top_units\":\"screen\"},\"id\":\"1028\",\"type\":\"BoxAnnotation\"},{\"attributes\":{},\"id\":\"1011\",\"type\":\"LinearScale\"},{\"attributes\":{\"axis\":{\"id\":\"1015\"},\"coordinates\":null,\"grid_line_color\":null,\"group\":null,\"ticker\":null},\"id\":\"1018\",\"type\":\"Grid\"},{\"attributes\":{\"axis_label\":\"inertia\",\"coordinates\":null,\"formatter\":{\"id\":\"1052\"},\"group\":null,\"major_label_policy\":{\"id\":\"1053\"},\"ticker\":{\"id\":\"1020\"}},\"id\":\"1019\",\"type\":\"LinearAxis\"},{\"attributes\":{\"children\":[{\"id\":\"1006\"}],\"height\":300,\"margin\":[0,0,0,0],\"name\":\"Row00860\",\"sizing_mode\":\"fixed\",\"tags\":[\"embedded\"],\"width\":700},\"id\":\"1002\",\"type\":\"Row\"},{\"attributes\":{},\"id\":\"1020\",\"type\":\"BasicTicker\"},{\"attributes\":{},\"id\":\"1053\",\"type\":\"AllLabels\"},{\"attributes\":{\"end\":10.0,\"reset_end\":10.0,\"reset_start\":1.0,\"start\":1.0,\"tags\":[[[\"k\",\"k\",null]]]},\"id\":\"1003\",\"type\":\"Range1d\"},{\"attributes\":{\"line_color\":\"#30a2da\",\"line_width\":2,\"tags\":[\"apply_ranges\"],\"x\":{\"field\":\"k\"},\"y\":{\"field\":\"inertia\"}},\"id\":\"1039\",\"type\":\"Line\"},{\"attributes\":{\"line_color\":\"#30a2da\",\"line_width\":2,\"tags\":[\"apply_ranges\"],\"x\":{\"field\":\"k\"},\"y\":{\"field\":\"inertia\"}},\"id\":\"1044\",\"type\":\"Line\"},{\"attributes\":{},\"id\":\"1047\",\"type\":\"BasicTickFormatter\"},{\"attributes\":{\"axis\":{\"id\":\"1019\"},\"coordinates\":null,\"dimension\":1,\"grid_line_color\":null,\"group\":null,\"ticker\":null},\"id\":\"1022\",\"type\":\"Grid\"},{\"attributes\":{\"ticks\":[1,2,3,4,5,6,7,8,9,10]},\"id\":\"1045\",\"type\":\"FixedTicker\"},{\"attributes\":{\"below\":[{\"id\":\"1015\"}],\"center\":[{\"id\":\"1018\"},{\"id\":\"1022\"}],\"height\":300,\"left\":[{\"id\":\"1019\"}],\"margin\":[5,5,5,5],\"min_border_bottom\":10,\"min_border_left\":10,\"min_border_right\":10,\"min_border_top\":10,\"output_backend\":\"webgl\",\"renderers\":[{\"id\":\"1042\"}],\"sizing_mode\":\"fixed\",\"title\":{\"id\":\"1007\"},\"toolbar\":{\"id\":\"1029\"},\"width\":700,\"x_range\":{\"id\":\"1003\"},\"x_scale\":{\"id\":\"1011\"},\"y_range\":{\"id\":\"1004\"},\"y_scale\":{\"id\":\"1013\"}},\"id\":\"1006\",\"subtype\":\"Figure\",\"type\":\"Plot\"},{\"attributes\":{\"end\":3.1140526198993725e+18,\"reset_end\":3.1140526198993725e+18,\"reset_start\":-2.2614839632361024e+17,\"start\":-2.2614839632361024e+17,\"tags\":[[[\"inertia\",\"inertia\",null]]]},\"id\":\"1004\",\"type\":\"Range1d\"},{\"attributes\":{\"coordinates\":null,\"data_source\":{\"id\":\"1036\"},\"glyph\":{\"id\":\"1039\"},\"group\":null,\"hover_glyph\":null,\"muted_glyph\":{\"id\":\"1041\"},\"nonselection_glyph\":{\"id\":\"1040\"},\"selection_glyph\":{\"id\":\"1044\"},\"view\":{\"id\":\"1043\"}},\"id\":\"1042\",\"type\":\"GlyphRenderer\"},{\"attributes\":{\"source\":{\"id\":\"1036\"}},\"id\":\"1043\",\"type\":\"CDSView\"},{\"attributes\":{\"line_alpha\":0.2,\"line_color\":\"#30a2da\",\"line_width\":2,\"tags\":[\"apply_ranges\"],\"x\":{\"field\":\"k\"},\"y\":{\"field\":\"inertia\"}},\"id\":\"1041\",\"type\":\"Line\"},{\"attributes\":{},\"id\":\"1023\",\"type\":\"SaveTool\"},{\"attributes\":{},\"id\":\"1024\",\"type\":\"PanTool\"},{\"attributes\":{},\"id\":\"1027\",\"type\":\"ResetTool\"},{\"attributes\":{},\"id\":\"1025\",\"type\":\"WheelZoomTool\"},{\"attributes\":{\"overlay\":{\"id\":\"1028\"}},\"id\":\"1026\",\"type\":\"BoxZoomTool\"},{\"attributes\":{},\"id\":\"1048\",\"type\":\"AllLabels\"},{\"attributes\":{\"line_alpha\":0.1,\"line_color\":\"#30a2da\",\"line_width\":2,\"tags\":[\"apply_ranges\"],\"x\":{\"field\":\"k\"},\"y\":{\"field\":\"inertia\"}},\"id\":\"1040\",\"type\":\"Line\"},{\"attributes\":{},\"id\":\"1064\",\"type\":\"UnionRenderers\"},{\"attributes\":{},\"id\":\"1013\",\"type\":\"LinearScale\"},{\"attributes\":{\"axis_label\":\"k\",\"coordinates\":null,\"formatter\":{\"id\":\"1047\"},\"group\":null,\"major_label_policy\":{\"id\":\"1048\"},\"ticker\":{\"id\":\"1045\"}},\"id\":\"1015\",\"type\":\"LinearAxis\"},{\"attributes\":{\"data\":{\"inertia\":{\"__ndarray__\":\"Zg4+Nzitw0P2XjVVm3yrQ1pqCnbmwJtDroBYmYH/kEMqcRiUmFWHQ49zPOu7GYFDEtY1a6RzeEMq/2Wtyr1yQ6qoIlc7kW1DOhNvFqUuZ0M=\",\"dtype\":\"float64\",\"order\":\"little\",\"shape\":[10]},\"k\":[1,2,3,4,5,6,7,8,9,10]},\"selected\":{\"id\":\"1037\"},\"selection_policy\":{\"id\":\"1064\"}},\"id\":\"1036\",\"type\":\"ColumnDataSource\"},{\"attributes\":{},\"id\":\"1037\",\"type\":\"Selection\"},{\"attributes\":{\"active_drag\":{\"id\":\"1024\"},\"active_scroll\":{\"id\":\"1025\"},\"tools\":[{\"id\":\"1005\"},{\"id\":\"1023\"},{\"id\":\"1024\"},{\"id\":\"1025\"},{\"id\":\"1026\"},{\"id\":\"1027\"}]},\"id\":\"1029\",\"type\":\"Toolbar\"},{\"attributes\":{},\"id\":\"1052\",\"type\":\"BasicTickFormatter\"},{\"attributes\":{\"coordinates\":null,\"group\":null,\"text\":\"Elbow Curve\",\"text_color\":\"black\",\"text_font_size\":\"12pt\"},\"id\":\"1007\",\"type\":\"Title\"},{\"attributes\":{\"callback\":null,\"renderers\":[{\"id\":\"1042\"}],\"tags\":[\"hv_created\"],\"tooltips\":[[\"k\",\"@{k}\"],[\"inertia\",\"@{inertia}\"]]},\"id\":\"1005\",\"type\":\"HoverTool\"}],\"root_ids\":[\"1002\"]},\"title\":\"Bokeh Application\",\"version\":\"2.4.3\"}};\n",
       "    var render_items = [{\"docid\":\"7dc40df8-c102-4935-81f8-98fe7064ac79\",\"root_ids\":[\"1002\"],\"roots\":{\"1002\":\"60c5b63d-e405-4531-8707-7b8a72a22f60\"}}];\n",
       "    root.Bokeh.embed.embed_items_notebook(docs_json, render_items);\n",
       "    for (const render_item of render_items) {\n",
       "      for (const root_id of render_item.root_ids) {\n",
       "\tconst id_el = document.getElementById(root_id)\n",
       "\tif (id_el.children.length && (id_el.children[0].className === 'bk-root')) {\n",
       "\t  const root_el = id_el.children[0]\n",
       "\t  root_el.id = root_el.id + '-rendered'\n",
       "\t}\n",
       "      }\n",
       "    }\n",
       "  }\n",
       "  if (root.Bokeh !== undefined && root.Bokeh.Panel !== undefined) {\n",
       "    embed_document(root);\n",
       "  } else {\n",
       "    var attempts = 0;\n",
       "    var timer = setInterval(function(root) {\n",
       "      if (root.Bokeh !== undefined && root.Bokeh.Panel !== undefined) {\n",
       "        clearInterval(timer);\n",
       "        embed_document(root);\n",
       "      } else if (document.readyState == \"complete\") {\n",
       "        attempts++;\n",
       "        if (attempts > 200) {\n",
       "          clearInterval(timer);\n",
       "          console.log(\"Bokeh: ERROR: Unable to run BokehJS code because BokehJS library is missing\");\n",
       "        }\n",
       "      }\n",
       "    }, 25, root)\n",
       "  }\n",
       "})(window);</script>"
      ],
      "text/plain": [
       ":Curve   [k]   (inertia)"
      ]
     },
     "execution_count": 2,
     "metadata": {
      "application/vnd.holoviews_exec.v0+json": {
       "id": "1002"
      }
     },
     "output_type": "execute_result"
    }
   ],
   "source": [
    "# Create a a list to store inertia values\n",
    "inertia = []\n",
    "\n",
    "# Create a a list to store the values of k\n",
    "k = list(range(1, 11))\n",
    "\n",
    "# Create a for loop where each value of k is evaluated using the K-means algorithm\n",
    "# Fit the model using the home_sales_df DataFrame\n",
    "# Append the value of the computed inertia from the `inertia_` attribute of the K-means model instance\n",
    "for i in k:\n",
    "    k_model = KMeans(n_clusters=i, random_state=1)\n",
    "    k_model.fit(spread_df)\n",
    "    inertia.append(k_model.inertia_)\n",
    "\n",
    "# Create a dictionary that holds the list values for k and inertia\n",
    "elbow_data = {\"k\": k, \"inertia\": inertia}\n",
    "\n",
    "# Create a DataFrame using the elbow_data dictionary\n",
    "df_elbow = pd.DataFrame(elbow_data)\n",
    "\n",
    "# Plot the DataFrame\n",
    "df_elbow.hvplot.line(\n",
    "    x=\"k\", \n",
    "    y=\"inertia\", \n",
    "    title=\"Elbow Curve\", \n",
    "    xticks=k\n",
    ")"
   ]
  },
  {
   "cell_type": "markdown",
   "metadata": {},
   "source": [
    "# =========================================="
   ]
  },
  {
   "cell_type": "markdown",
   "metadata": {},
   "source": [
    "### 2.02 Students Do: Warm Up (0:15) "
   ]
  },
  {
   "cell_type": "markdown",
   "metadata": {},
   "source": [
    "# Clustering National Home Markets\n",
    "In this activity, you will use the K-means algorithm to identify trends within a dataset of residential house prices in the US.\n",
    "## Background\n",
    "You work for a large national bank with a large lending business that provides loans to people who want to buy homes in the United States. The bank wants to have a model that can identify how similar the national real estate market is at any point in time in comparison to real estate periods in the past. Quantifying today's real estate market against the past will help the bank better understand its lending risk as well as the potential for new growth.\n",
    "\n",
    "You've decided to use the K-means algorithm to segment different periods in the US market for national residential house prices.\n",
    "## Instructions\n",
    "1. Review the Pandas DataFrame and plot associated with `national-home-sales.csv`.\n",
    "2. Run the K-means algorithm identifying three clusters in the data. To do so, complete these steps: \n",
    "   - Create and initialize the K-means model for three clusters. Use a `random_state` value of 1 for the model.\n",
    "   - Fit, or train, the model by using the `home_sales_df` DataFrame.\n",
    "   - Make predictions about the clustering by using the trained model. Save the predictions to a variable called `home_segment_3`, and print that variable.\n",
    "   - Create a copy of the DataFrame and name it `home_sales_predictions_df`.\n",
    "   - Add a column to the `home_sales_predictions_df` DataFrame called \"home_segment_3\", and add the `home_segment_3` information to the column.\n",
    "   - Plot the data by using the DataFrame adjusted to include home market segment information for three clusters.\n",
    "3. Run the K-means algorithm identifying four clusters in the data. To do so, complete these steps:\n",
    "   - Create and initialize the K-means model for four clusters. Use a `random_state` value of 1 for the model.\n",
    "   - Fit, or train, the model by using the `home_sales_df` DataFrame.\n",
    "   - Make predictions about the clustering by using the trained model. Save the predictions to a variable called `home_segment_4`, and print that variable.\n",
    "   - Add a column to the `home_sales_predictions_df` DataFrame called \"customer_segment_4\", and add the `home_segment_4` information to the column.\n",
    "   - Plot the data by using the DataFrame adjusted to include customer segment information for four clusters.\n",
    "4. Answer the following question: Can any additional information be gleaned from the customer segmentation data when clusters of three and four are applied?\n",
    "\n",
    "---"
   ]
  },
  {
   "cell_type": "code",
   "execution_count": 89,
   "metadata": {},
   "outputs": [],
   "source": [
    "# Import the modules\n",
    "import pandas as pd\n",
    "import hvplot.pandas\n",
    "from pathlib import Path\n",
    "from sklearn.cluster import KMeans"
   ]
  },
  {
   "cell_type": "code",
   "execution_count": 90,
   "metadata": {},
   "outputs": [
    {
     "data": {
      "text/html": [
       "<div>\n",
       "<style scoped>\n",
       "    .dataframe tbody tr th:only-of-type {\n",
       "        vertical-align: middle;\n",
       "    }\n",
       "\n",
       "    .dataframe tbody tr th {\n",
       "        vertical-align: top;\n",
       "    }\n",
       "\n",
       "    .dataframe thead th {\n",
       "        text-align: right;\n",
       "    }\n",
       "</style>\n",
       "<table border=\"1\" class=\"dataframe\">\n",
       "  <thead>\n",
       "    <tr style=\"text-align: right;\">\n",
       "      <th></th>\n",
       "      <th>inventory</th>\n",
       "      <th>homes_sold</th>\n",
       "      <th>median_sale_price</th>\n",
       "    </tr>\n",
       "    <tr>\n",
       "      <th>date</th>\n",
       "      <th></th>\n",
       "      <th></th>\n",
       "      <th></th>\n",
       "    </tr>\n",
       "  </thead>\n",
       "  <tbody>\n",
       "    <tr>\n",
       "      <th>2020-01-01</th>\n",
       "      <td>1250798</td>\n",
       "      <td>377964</td>\n",
       "      <td>289000</td>\n",
       "    </tr>\n",
       "    <tr>\n",
       "      <th>2020-02-01</th>\n",
       "      <td>1265253</td>\n",
       "      <td>405992</td>\n",
       "      <td>294000</td>\n",
       "    </tr>\n",
       "    <tr>\n",
       "      <th>2020-03-01</th>\n",
       "      <td>1316823</td>\n",
       "      <td>507324</td>\n",
       "      <td>303000</td>\n",
       "    </tr>\n",
       "    <tr>\n",
       "      <th>2020-04-01</th>\n",
       "      <td>1297460</td>\n",
       "      <td>436855</td>\n",
       "      <td>304000</td>\n",
       "    </tr>\n",
       "    <tr>\n",
       "      <th>2020-05-01</th>\n",
       "      <td>1289500</td>\n",
       "      <td>421351</td>\n",
       "      <td>299000</td>\n",
       "    </tr>\n",
       "  </tbody>\n",
       "</table>\n",
       "</div>"
      ],
      "text/plain": [
       "            inventory  homes_sold  median_sale_price\n",
       "date                                                \n",
       "2020-01-01    1250798      377964             289000\n",
       "2020-02-01    1265253      405992             294000\n",
       "2020-03-01    1316823      507324             303000\n",
       "2020-04-01    1297460      436855             304000\n",
       "2020-05-01    1289500      421351             299000"
      ]
     },
     "execution_count": 90,
     "metadata": {},
     "output_type": "execute_result"
    }
   ],
   "source": [
    "# Read in the CSV file as a Pandas DataFrame\n",
    "home_sales_df = pd.read_csv(\n",
    "  Path(\"02-Stu_Warm_Up/Resources/national-home-sales.csv\"),\n",
    "  index_col=\"date\", \n",
    "  parse_dates=True, \n",
    "  infer_datetime_format=True \n",
    ")\n",
    "\n",
    "# Review the DataFrame\n",
    "home_sales_df.head()"
   ]
  },
  {
   "cell_type": "code",
   "execution_count": 91,
   "metadata": {},
   "outputs": [],
   "source": [
    "# Create a a list to store inertia values\n",
    "inertia = []\n",
    "\n",
    "# Create a a list to store the values of k\n",
    "k = list(range(1, 11))"
   ]
  },
  {
   "cell_type": "code",
   "execution_count": 92,
   "metadata": {},
   "outputs": [],
   "source": [
    "# Create a for-loop where each value of k is evaluated using the K-means algorithm\n",
    "# Fit the model using the spread_df DataFrame\n",
    "# Append the value of the computed inertia from the `inertia_` attribute of the KMeans model instance\n",
    "for i in k:\n",
    "    k_model = KMeans(n_clusters=i, random_state=2)\n",
    "    k_model.fit(home_sales_df)\n",
    "    inertia.append(k_model.inertia_)"
   ]
  },
  {
   "cell_type": "code",
   "execution_count": 93,
   "metadata": {},
   "outputs": [
    {
     "data": {
      "text/html": [
       "<div>\n",
       "<style scoped>\n",
       "    .dataframe tbody tr th:only-of-type {\n",
       "        vertical-align: middle;\n",
       "    }\n",
       "\n",
       "    .dataframe tbody tr th {\n",
       "        vertical-align: top;\n",
       "    }\n",
       "\n",
       "    .dataframe thead th {\n",
       "        text-align: right;\n",
       "    }\n",
       "</style>\n",
       "<table border=\"1\" class=\"dataframe\">\n",
       "  <thead>\n",
       "    <tr style=\"text-align: right;\">\n",
       "      <th></th>\n",
       "      <th>k</th>\n",
       "      <th>inertia</th>\n",
       "    </tr>\n",
       "  </thead>\n",
       "  <tbody>\n",
       "    <tr>\n",
       "      <th>0</th>\n",
       "      <td>1</td>\n",
       "      <td>8.048111e+12</td>\n",
       "    </tr>\n",
       "    <tr>\n",
       "      <th>1</th>\n",
       "      <td>2</td>\n",
       "      <td>3.460149e+12</td>\n",
       "    </tr>\n",
       "    <tr>\n",
       "      <th>2</th>\n",
       "      <td>3</td>\n",
       "      <td>1.894158e+12</td>\n",
       "    </tr>\n",
       "    <tr>\n",
       "      <th>3</th>\n",
       "      <td>4</td>\n",
       "      <td>1.356238e+12</td>\n",
       "    </tr>\n",
       "    <tr>\n",
       "      <th>4</th>\n",
       "      <td>5</td>\n",
       "      <td>1.119878e+12</td>\n",
       "    </tr>\n",
       "  </tbody>\n",
       "</table>\n",
       "</div>"
      ],
      "text/plain": [
       "   k       inertia\n",
       "0  1  8.048111e+12\n",
       "1  2  3.460149e+12\n",
       "2  3  1.894158e+12\n",
       "3  4  1.356238e+12\n",
       "4  5  1.119878e+12"
      ]
     },
     "execution_count": 93,
     "metadata": {},
     "output_type": "execute_result"
    }
   ],
   "source": [
    "# Create a Dictionary that holds the list values for k and inertia\n",
    "elbow_data = {\"k\": k, \"inertia\": inertia}\n",
    "\n",
    "# Create a DataFrame using the elbow_data Dictionary\n",
    "df_elbow = pd.DataFrame(elbow_data)\n",
    "\n",
    "# Review the DataFrame\n",
    "df_elbow.head()"
   ]
  },
  {
   "cell_type": "code",
   "execution_count": 94,
   "metadata": {},
   "outputs": [
    {
     "data": {},
     "metadata": {},
     "output_type": "display_data"
    },
    {
     "data": {
      "application/vnd.holoviews_exec.v0+json": "",
      "text/html": [
       "<div id='4405'>\n",
       "  <div class=\"bk-root\" id=\"4d75a46f-0f5d-4e4d-8b37-6ebfdcd68c5d\" data-root-id=\"4405\"></div>\n",
       "</div>\n",
       "<script type=\"application/javascript\">(function(root) {\n",
       "  function embed_document(root) {\n",
       "    var docs_json = {\"f4cb9eac-7a40-4a4d-aa55-e81f0d24a74a\":{\"defs\":[{\"extends\":null,\"module\":null,\"name\":\"ReactiveHTML1\",\"overrides\":[],\"properties\":[]},{\"extends\":null,\"module\":null,\"name\":\"FlexBox1\",\"overrides\":[],\"properties\":[{\"default\":\"flex-start\",\"kind\":null,\"name\":\"align_content\"},{\"default\":\"flex-start\",\"kind\":null,\"name\":\"align_items\"},{\"default\":\"row\",\"kind\":null,\"name\":\"flex_direction\"},{\"default\":\"wrap\",\"kind\":null,\"name\":\"flex_wrap\"},{\"default\":\"flex-start\",\"kind\":null,\"name\":\"justify_content\"}]},{\"extends\":null,\"module\":null,\"name\":\"GridStack1\",\"overrides\":[],\"properties\":[{\"default\":\"warn\",\"kind\":null,\"name\":\"mode\"},{\"default\":null,\"kind\":null,\"name\":\"ncols\"},{\"default\":null,\"kind\":null,\"name\":\"nrows\"},{\"default\":true,\"kind\":null,\"name\":\"allow_resize\"},{\"default\":true,\"kind\":null,\"name\":\"allow_drag\"},{\"default\":[],\"kind\":null,\"name\":\"state\"}]},{\"extends\":null,\"module\":null,\"name\":\"click1\",\"overrides\":[],\"properties\":[{\"default\":\"\",\"kind\":null,\"name\":\"terminal_output\"},{\"default\":\"\",\"kind\":null,\"name\":\"debug_name\"},{\"default\":0,\"kind\":null,\"name\":\"clears\"}]},{\"extends\":null,\"module\":null,\"name\":\"NotificationAreaBase1\",\"overrides\":[],\"properties\":[{\"default\":\"bottom-right\",\"kind\":null,\"name\":\"position\"},{\"default\":0,\"kind\":null,\"name\":\"_clear\"}]},{\"extends\":null,\"module\":null,\"name\":\"NotificationArea1\",\"overrides\":[],\"properties\":[{\"default\":[],\"kind\":null,\"name\":\"notifications\"},{\"default\":\"bottom-right\",\"kind\":null,\"name\":\"position\"},{\"default\":0,\"kind\":null,\"name\":\"_clear\"},{\"default\":[{\"background\":\"#ffc107\",\"icon\":{\"className\":\"fas fa-exclamation-triangle\",\"color\":\"white\",\"tagName\":\"i\"},\"type\":\"warning\"},{\"background\":\"#007bff\",\"icon\":{\"className\":\"fas fa-info-circle\",\"color\":\"white\",\"tagName\":\"i\"},\"type\":\"info\"}],\"kind\":null,\"name\":\"types\"}]},{\"extends\":null,\"module\":null,\"name\":\"Notification\",\"overrides\":[],\"properties\":[{\"default\":null,\"kind\":null,\"name\":\"background\"},{\"default\":3000,\"kind\":null,\"name\":\"duration\"},{\"default\":null,\"kind\":null,\"name\":\"icon\"},{\"default\":\"\",\"kind\":null,\"name\":\"message\"},{\"default\":null,\"kind\":null,\"name\":\"notification_type\"},{\"default\":false,\"kind\":null,\"name\":\"_destroyed\"}]},{\"extends\":null,\"module\":null,\"name\":\"TemplateActions1\",\"overrides\":[],\"properties\":[{\"default\":0,\"kind\":null,\"name\":\"open_modal\"},{\"default\":0,\"kind\":null,\"name\":\"close_modal\"}]},{\"extends\":null,\"module\":null,\"name\":\"MaterialTemplateActions1\",\"overrides\":[],\"properties\":[{\"default\":0,\"kind\":null,\"name\":\"open_modal\"},{\"default\":0,\"kind\":null,\"name\":\"close_modal\"}]}],\"roots\":{\"references\":[{\"attributes\":{\"coordinates\":null,\"group\":null,\"text\":\"Elbow Curve\",\"text_color\":\"black\",\"text_font_size\":\"12pt\"},\"id\":\"4410\",\"type\":\"Title\"},{\"attributes\":{\"ticks\":[1,2,3,4,5,6,7,8,9,10]},\"id\":\"4448\",\"type\":\"FixedTicker\"},{\"attributes\":{},\"id\":\"4416\",\"type\":\"LinearScale\"},{\"attributes\":{\"axis\":{\"id\":\"4422\"},\"coordinates\":null,\"dimension\":1,\"grid_line_color\":null,\"group\":null,\"ticker\":null},\"id\":\"4425\",\"type\":\"Grid\"},{\"attributes\":{},\"id\":\"4414\",\"type\":\"LinearScale\"},{\"attributes\":{\"line_alpha\":0.2,\"line_color\":\"#30a2da\",\"line_width\":2,\"tags\":[\"apply_ranges\"],\"x\":{\"field\":\"k\"},\"y\":{\"field\":\"inertia\"}},\"id\":\"4444\",\"type\":\"Line\"},{\"attributes\":{\"axis_label\":\"inertia\",\"coordinates\":null,\"formatter\":{\"id\":\"4455\"},\"group\":null,\"major_label_policy\":{\"id\":\"4456\"},\"ticker\":{\"id\":\"4423\"}},\"id\":\"4422\",\"type\":\"LinearAxis\"},{\"attributes\":{\"line_color\":\"#30a2da\",\"line_width\":2,\"tags\":[\"apply_ranges\"],\"x\":{\"field\":\"k\"},\"y\":{\"field\":\"inertia\"}},\"id\":\"4447\",\"type\":\"Line\"},{\"attributes\":{\"axis\":{\"id\":\"4418\"},\"coordinates\":null,\"grid_line_color\":null,\"group\":null,\"ticker\":null},\"id\":\"4421\",\"type\":\"Grid\"},{\"attributes\":{},\"id\":\"4455\",\"type\":\"BasicTickFormatter\"},{\"attributes\":{},\"id\":\"4450\",\"type\":\"BasicTickFormatter\"},{\"attributes\":{},\"id\":\"4467\",\"type\":\"UnionRenderers\"},{\"attributes\":{\"coordinates\":null,\"data_source\":{\"id\":\"4439\"},\"glyph\":{\"id\":\"4442\"},\"group\":null,\"hover_glyph\":null,\"muted_glyph\":{\"id\":\"4444\"},\"nonselection_glyph\":{\"id\":\"4443\"},\"selection_glyph\":{\"id\":\"4447\"},\"view\":{\"id\":\"4446\"}},\"id\":\"4445\",\"type\":\"GlyphRenderer\"},{\"attributes\":{\"line_color\":\"#30a2da\",\"line_width\":2,\"tags\":[\"apply_ranges\"],\"x\":{\"field\":\"k\"},\"y\":{\"field\":\"inertia\"}},\"id\":\"4442\",\"type\":\"Line\"},{\"attributes\":{},\"id\":\"4451\",\"type\":\"AllLabels\"},{\"attributes\":{\"data\":{\"inertia\":{\"__ndarray__\":\"D75AOmNHnULumCaqBy2JQuXptDlKkHtCANrHhWG8c0IO84Fp3ktwQjxcW/aP82lCNslGVaBxZkKFNis5qsJiQkfshgwdRGBCJ8hnwpEHXEI=\",\"dtype\":\"float64\",\"order\":\"little\",\"shape\":[10]},\"k\":[1,2,3,4,5,6,7,8,9,10]},\"selected\":{\"id\":\"4440\"},\"selection_policy\":{\"id\":\"4467\"}},\"id\":\"4439\",\"type\":\"ColumnDataSource\"},{\"attributes\":{\"children\":[{\"id\":\"4409\"}],\"height\":300,\"margin\":[0,0,0,0],\"name\":\"Row04160\",\"sizing_mode\":\"fixed\",\"tags\":[\"embedded\"],\"width\":700},\"id\":\"4405\",\"type\":\"Row\"},{\"attributes\":{\"overlay\":{\"id\":\"4431\"}},\"id\":\"4429\",\"type\":\"BoxZoomTool\"},{\"attributes\":{},\"id\":\"4456\",\"type\":\"AllLabels\"},{\"attributes\":{\"axis_label\":\"k\",\"coordinates\":null,\"formatter\":{\"id\":\"4450\"},\"group\":null,\"major_label_policy\":{\"id\":\"4451\"},\"ticker\":{\"id\":\"4448\"}},\"id\":\"4418\",\"type\":\"LinearAxis\"},{\"attributes\":{},\"id\":\"4426\",\"type\":\"SaveTool\"},{\"attributes\":{},\"id\":\"4440\",\"type\":\"Selection\"},{\"attributes\":{},\"id\":\"4428\",\"type\":\"WheelZoomTool\"},{\"attributes\":{\"end\":10.0,\"reset_end\":10.0,\"reset_start\":1.0,\"start\":1.0,\"tags\":[[[\"k\",\"k\",null]]]},\"id\":\"4406\",\"type\":\"Range1d\"},{\"attributes\":{\"active_drag\":{\"id\":\"4427\"},\"active_scroll\":{\"id\":\"4428\"},\"tools\":[{\"id\":\"4408\"},{\"id\":\"4426\"},{\"id\":\"4427\"},{\"id\":\"4428\"},{\"id\":\"4429\"},{\"id\":\"4430\"}]},\"id\":\"4432\",\"type\":\"Toolbar\"},{\"attributes\":{},\"id\":\"4427\",\"type\":\"PanTool\"},{\"attributes\":{},\"id\":\"4430\",\"type\":\"ResetTool\"},{\"attributes\":{\"callback\":null,\"renderers\":[{\"id\":\"4445\"}],\"tags\":[\"hv_created\"],\"tooltips\":[[\"k\",\"@{k}\"],[\"inertia\",\"@{inertia}\"]]},\"id\":\"4408\",\"type\":\"HoverTool\"},{\"attributes\":{\"bottom_units\":\"screen\",\"coordinates\":null,\"fill_alpha\":0.5,\"fill_color\":\"lightgrey\",\"group\":null,\"left_units\":\"screen\",\"level\":\"overlay\",\"line_alpha\":1.0,\"line_color\":\"black\",\"line_dash\":[4,4],\"line_width\":2,\"right_units\":\"screen\",\"syncable\":false,\"top_units\":\"screen\"},\"id\":\"4431\",\"type\":\"BoxAnnotation\"},{\"attributes\":{\"end\":8804767846615.553,\"reset_end\":8804767846615.553,\"reset_start\":-275112376072.91144,\"start\":-275112376072.91144,\"tags\":[[[\"inertia\",\"inertia\",null]]]},\"id\":\"4407\",\"type\":\"Range1d\"},{\"attributes\":{\"source\":{\"id\":\"4439\"}},\"id\":\"4446\",\"type\":\"CDSView\"},{\"attributes\":{\"line_alpha\":0.1,\"line_color\":\"#30a2da\",\"line_width\":2,\"tags\":[\"apply_ranges\"],\"x\":{\"field\":\"k\"},\"y\":{\"field\":\"inertia\"}},\"id\":\"4443\",\"type\":\"Line\"},{\"attributes\":{},\"id\":\"4423\",\"type\":\"BasicTicker\"},{\"attributes\":{\"below\":[{\"id\":\"4418\"}],\"center\":[{\"id\":\"4421\"},{\"id\":\"4425\"}],\"height\":300,\"left\":[{\"id\":\"4422\"}],\"margin\":[5,5,5,5],\"min_border_bottom\":10,\"min_border_left\":10,\"min_border_right\":10,\"min_border_top\":10,\"output_backend\":\"webgl\",\"renderers\":[{\"id\":\"4445\"}],\"sizing_mode\":\"fixed\",\"title\":{\"id\":\"4410\"},\"toolbar\":{\"id\":\"4432\"},\"width\":700,\"x_range\":{\"id\":\"4406\"},\"x_scale\":{\"id\":\"4414\"},\"y_range\":{\"id\":\"4407\"},\"y_scale\":{\"id\":\"4416\"}},\"id\":\"4409\",\"subtype\":\"Figure\",\"type\":\"Plot\"}],\"root_ids\":[\"4405\"]},\"title\":\"Bokeh Application\",\"version\":\"2.4.3\"}};\n",
       "    var render_items = [{\"docid\":\"f4cb9eac-7a40-4a4d-aa55-e81f0d24a74a\",\"root_ids\":[\"4405\"],\"roots\":{\"4405\":\"4d75a46f-0f5d-4e4d-8b37-6ebfdcd68c5d\"}}];\n",
       "    root.Bokeh.embed.embed_items_notebook(docs_json, render_items);\n",
       "    for (const render_item of render_items) {\n",
       "      for (const root_id of render_item.root_ids) {\n",
       "\tconst id_el = document.getElementById(root_id)\n",
       "\tif (id_el.children.length && (id_el.children[0].className === 'bk-root')) {\n",
       "\t  const root_el = id_el.children[0]\n",
       "\t  root_el.id = root_el.id + '-rendered'\n",
       "\t}\n",
       "      }\n",
       "    }\n",
       "  }\n",
       "  if (root.Bokeh !== undefined && root.Bokeh.Panel !== undefined) {\n",
       "    embed_document(root);\n",
       "  } else {\n",
       "    var attempts = 0;\n",
       "    var timer = setInterval(function(root) {\n",
       "      if (root.Bokeh !== undefined && root.Bokeh.Panel !== undefined) {\n",
       "        clearInterval(timer);\n",
       "        embed_document(root);\n",
       "      } else if (document.readyState == \"complete\") {\n",
       "        attempts++;\n",
       "        if (attempts > 200) {\n",
       "          clearInterval(timer);\n",
       "          console.log(\"Bokeh: ERROR: Unable to run BokehJS code because BokehJS library is missing\");\n",
       "        }\n",
       "      }\n",
       "    }, 25, root)\n",
       "  }\n",
       "})(window);</script>"
      ],
      "text/plain": [
       ":Curve   [k]   (inertia)"
      ]
     },
     "execution_count": 94,
     "metadata": {
      "application/vnd.holoviews_exec.v0+json": {
       "id": "4405"
      }
     },
     "output_type": "execute_result"
    }
   ],
   "source": [
    "# Plot the DataFrame\n",
    "df_elbow.hvplot.line(\n",
    "    x=\"k\", \n",
    "    y=\"inertia\", \n",
    "    title=\"Elbow Curve\", \n",
    "    xticks=k\n",
    ")"
   ]
  },
  {
   "cell_type": "markdown",
   "metadata": {},
   "source": [
    "## Perform the following tasks for each of the two most likely values of `k`:\n",
    "\n",
    "* Define a K-means model using `k` to define the clusters, fit the model, make predictions, and add the prediction values to a copy of the scaled DataFrame and call it `spread_predictions_df`.\n",
    "\n",
    "* Plot the clusters. The x-axis should reflect home \"inventory\", and the y-axis should reflect either the \"median_sale_price\" or \"homes_sold\" variable."
   ]
  },
  {
   "cell_type": "code",
   "execution_count": 9,
   "metadata": {},
   "outputs": [],
   "source": [
    "# Define the model with the lower value of k clusters\n",
    "# Use a random_state of 1 to generate the model\n",
    "model = KMeans(n_clusters=3, random_state=1)\n",
    "\n",
    "# Fit the model\n",
    "model.fit(home_sales_df)\n",
    "\n",
    "# Make predictions\n",
    "k_lower = model.predict(home_sales_df)\n",
    "\n",
    "# Create a copy of the DataFrame and name it as spread_df_predictions\n",
    "home_sales_predictions_df = home_sales_df.copy()\n",
    "\n",
    "# Add a class column with the labels to the spread_df_predictions DataFrame\n",
    "home_sales_predictions_df['clusters_lower'] = k_lower"
   ]
  },
  {
   "cell_type": "code",
   "execution_count": 10,
   "metadata": {},
   "outputs": [
    {
     "data": {
      "text/html": [
       "<div>\n",
       "<style scoped>\n",
       "    .dataframe tbody tr th:only-of-type {\n",
       "        vertical-align: middle;\n",
       "    }\n",
       "\n",
       "    .dataframe tbody tr th {\n",
       "        vertical-align: top;\n",
       "    }\n",
       "\n",
       "    .dataframe thead th {\n",
       "        text-align: right;\n",
       "    }\n",
       "</style>\n",
       "<table border=\"1\" class=\"dataframe\">\n",
       "  <thead>\n",
       "    <tr style=\"text-align: right;\">\n",
       "      <th></th>\n",
       "      <th>inventory</th>\n",
       "      <th>homes_sold</th>\n",
       "      <th>median_sale_price</th>\n",
       "      <th>clusters_lower</th>\n",
       "    </tr>\n",
       "    <tr>\n",
       "      <th>date</th>\n",
       "      <th></th>\n",
       "      <th></th>\n",
       "      <th></th>\n",
       "      <th></th>\n",
       "    </tr>\n",
       "  </thead>\n",
       "  <tbody>\n",
       "    <tr>\n",
       "      <th>2020-01-01</th>\n",
       "      <td>1250798</td>\n",
       "      <td>377964</td>\n",
       "      <td>289000</td>\n",
       "      <td>2</td>\n",
       "    </tr>\n",
       "    <tr>\n",
       "      <th>2020-02-01</th>\n",
       "      <td>1265253</td>\n",
       "      <td>405992</td>\n",
       "      <td>294000</td>\n",
       "      <td>2</td>\n",
       "    </tr>\n",
       "    <tr>\n",
       "      <th>2020-03-01</th>\n",
       "      <td>1316823</td>\n",
       "      <td>507324</td>\n",
       "      <td>303000</td>\n",
       "      <td>2</td>\n",
       "    </tr>\n",
       "  </tbody>\n",
       "</table>\n",
       "</div>"
      ],
      "text/plain": [
       "            inventory  homes_sold  median_sale_price  clusters_lower\n",
       "date                                                                \n",
       "2020-01-01    1250798      377964             289000               2\n",
       "2020-02-01    1265253      405992             294000               2\n",
       "2020-03-01    1316823      507324             303000               2"
      ]
     },
     "execution_count": 10,
     "metadata": {},
     "output_type": "execute_result"
    }
   ],
   "source": [
    "home_sales_predictions_df.head(3)"
   ]
  },
  {
   "cell_type": "code",
   "execution_count": 99,
   "metadata": {},
   "outputs": [
    {
     "data": {},
     "metadata": {},
     "output_type": "display_data"
    },
    {
     "data": {
      "application/vnd.holoviews_exec.v0+json": "",
      "text/html": [
       "<div id='5161'>\n",
       "  <div class=\"bk-root\" id=\"75fe080a-0c2a-4458-8137-a8738528ab37\" data-root-id=\"5161\"></div>\n",
       "</div>\n",
       "<script type=\"application/javascript\">(function(root) {\n",
       "  function embed_document(root) {\n",
       "    var docs_json = {\"d00ce2c2-a32a-4071-9d57-6681b1aca7cb\":{\"defs\":[{\"extends\":null,\"module\":null,\"name\":\"ReactiveHTML1\",\"overrides\":[],\"properties\":[]},{\"extends\":null,\"module\":null,\"name\":\"FlexBox1\",\"overrides\":[],\"properties\":[{\"default\":\"flex-start\",\"kind\":null,\"name\":\"align_content\"},{\"default\":\"flex-start\",\"kind\":null,\"name\":\"align_items\"},{\"default\":\"row\",\"kind\":null,\"name\":\"flex_direction\"},{\"default\":\"wrap\",\"kind\":null,\"name\":\"flex_wrap\"},{\"default\":\"flex-start\",\"kind\":null,\"name\":\"justify_content\"}]},{\"extends\":null,\"module\":null,\"name\":\"GridStack1\",\"overrides\":[],\"properties\":[{\"default\":\"warn\",\"kind\":null,\"name\":\"mode\"},{\"default\":null,\"kind\":null,\"name\":\"ncols\"},{\"default\":null,\"kind\":null,\"name\":\"nrows\"},{\"default\":true,\"kind\":null,\"name\":\"allow_resize\"},{\"default\":true,\"kind\":null,\"name\":\"allow_drag\"},{\"default\":[],\"kind\":null,\"name\":\"state\"}]},{\"extends\":null,\"module\":null,\"name\":\"click1\",\"overrides\":[],\"properties\":[{\"default\":\"\",\"kind\":null,\"name\":\"terminal_output\"},{\"default\":\"\",\"kind\":null,\"name\":\"debug_name\"},{\"default\":0,\"kind\":null,\"name\":\"clears\"}]},{\"extends\":null,\"module\":null,\"name\":\"NotificationAreaBase1\",\"overrides\":[],\"properties\":[{\"default\":\"bottom-right\",\"kind\":null,\"name\":\"position\"},{\"default\":0,\"kind\":null,\"name\":\"_clear\"}]},{\"extends\":null,\"module\":null,\"name\":\"NotificationArea1\",\"overrides\":[],\"properties\":[{\"default\":[],\"kind\":null,\"name\":\"notifications\"},{\"default\":\"bottom-right\",\"kind\":null,\"name\":\"position\"},{\"default\":0,\"kind\":null,\"name\":\"_clear\"},{\"default\":[{\"background\":\"#ffc107\",\"icon\":{\"className\":\"fas fa-exclamation-triangle\",\"color\":\"white\",\"tagName\":\"i\"},\"type\":\"warning\"},{\"background\":\"#007bff\",\"icon\":{\"className\":\"fas fa-info-circle\",\"color\":\"white\",\"tagName\":\"i\"},\"type\":\"info\"}],\"kind\":null,\"name\":\"types\"}]},{\"extends\":null,\"module\":null,\"name\":\"Notification\",\"overrides\":[],\"properties\":[{\"default\":null,\"kind\":null,\"name\":\"background\"},{\"default\":3000,\"kind\":null,\"name\":\"duration\"},{\"default\":null,\"kind\":null,\"name\":\"icon\"},{\"default\":\"\",\"kind\":null,\"name\":\"message\"},{\"default\":null,\"kind\":null,\"name\":\"notification_type\"},{\"default\":false,\"kind\":null,\"name\":\"_destroyed\"}]},{\"extends\":null,\"module\":null,\"name\":\"TemplateActions1\",\"overrides\":[],\"properties\":[{\"default\":0,\"kind\":null,\"name\":\"open_modal\"},{\"default\":0,\"kind\":null,\"name\":\"close_modal\"}]},{\"extends\":null,\"module\":null,\"name\":\"MaterialTemplateActions1\",\"overrides\":[],\"properties\":[{\"default\":0,\"kind\":null,\"name\":\"open_modal\"},{\"default\":0,\"kind\":null,\"name\":\"close_modal\"}]}],\"roots\":{\"references\":[{\"attributes\":{\"active_drag\":{\"id\":\"5185\"},\"active_scroll\":{\"id\":\"5186\"},\"tools\":[{\"id\":\"5164\"},{\"id\":\"5184\"},{\"id\":\"5185\"},{\"id\":\"5186\"},{\"id\":\"5187\"},{\"id\":\"5188\"}]},\"id\":\"5190\",\"type\":\"Toolbar\"},{\"attributes\":{\"label\":{\"value\":\"2\"},\"renderers\":[{\"id\":\"5254\"}]},\"id\":\"5268\",\"type\":\"LegendItem\"},{\"attributes\":{\"below\":[{\"id\":\"5176\"}],\"center\":[{\"id\":\"5179\"},{\"id\":\"5183\"}],\"height\":300,\"left\":[{\"id\":\"5180\"}],\"margin\":[5,5,5,5],\"min_border_bottom\":10,\"min_border_left\":10,\"min_border_right\":10,\"min_border_top\":10,\"output_backend\":\"webgl\",\"renderers\":[{\"id\":\"5215\"},{\"id\":\"5234\"},{\"id\":\"5254\"}],\"right\":[{\"id\":\"5225\"}],\"sizing_mode\":\"fixed\",\"title\":{\"id\":\"5168\"},\"toolbar\":{\"id\":\"5190\"},\"width\":700,\"x_range\":{\"id\":\"5162\"},\"x_scale\":{\"id\":\"5172\"},\"y_range\":{\"id\":\"5163\"},\"y_scale\":{\"id\":\"5174\"}},\"id\":\"5167\",\"subtype\":\"Figure\",\"type\":\"Plot\"},{\"attributes\":{\"fill_color\":{\"value\":\"#30a2da\"},\"hatch_color\":{\"value\":\"#30a2da\"},\"line_color\":{\"value\":\"#30a2da\"},\"size\":{\"value\":5.477225575051661},\"tags\":[\"apply_ranges\"],\"x\":{\"field\":\"inventory\"},\"y\":{\"field\":\"homes_sold\"}},\"id\":\"5212\",\"type\":\"Scatter\"},{\"attributes\":{\"fill_alpha\":{\"value\":0.2},\"fill_color\":{\"value\":\"#30a2da\"},\"hatch_alpha\":{\"value\":0.2},\"hatch_color\":{\"value\":\"#30a2da\"},\"line_alpha\":{\"value\":0.2},\"line_color\":{\"value\":\"#30a2da\"},\"size\":{\"value\":5.477225575051661},\"tags\":[\"apply_ranges\"],\"x\":{\"field\":\"inventory\"},\"y\":{\"field\":\"homes_sold\"}},\"id\":\"5214\",\"type\":\"Scatter\"},{\"attributes\":{},\"id\":\"5174\",\"type\":\"LinearScale\"},{\"attributes\":{\"bottom_units\":\"screen\",\"coordinates\":null,\"fill_alpha\":0.5,\"fill_color\":\"lightgrey\",\"group\":null,\"left_units\":\"screen\",\"level\":\"overlay\",\"line_alpha\":1.0,\"line_color\":\"black\",\"line_dash\":[4,4],\"line_width\":2,\"right_units\":\"screen\",\"syncable\":false,\"top_units\":\"screen\"},\"id\":\"5189\",\"type\":\"BoxAnnotation\"},{\"attributes\":{\"axis_label\":\"homes_sold\",\"coordinates\":null,\"formatter\":{\"id\":\"5198\"},\"group\":null,\"major_label_policy\":{\"id\":\"5206\"},\"ticker\":{\"id\":\"5181\"}},\"id\":\"5180\",\"type\":\"LinearAxis\"},{\"attributes\":{\"fill_color\":{\"value\":\"#fc4f30\"},\"hatch_color\":{\"value\":\"#fc4f30\"},\"line_color\":{\"value\":\"#fc4f30\"},\"size\":{\"value\":5.477225575051661},\"tags\":[\"apply_ranges\"],\"x\":{\"field\":\"inventory\"},\"y\":{\"field\":\"homes_sold\"}},\"id\":\"5231\",\"type\":\"Scatter\"},{\"attributes\":{\"fill_color\":{\"value\":\"#e5ae38\"},\"hatch_color\":{\"value\":\"#e5ae38\"},\"line_color\":{\"value\":\"#e5ae38\"},\"size\":{\"value\":5.477225575051661},\"tags\":[\"apply_ranges\"],\"x\":{\"field\":\"inventory\"},\"y\":{\"field\":\"homes_sold\"}},\"id\":\"5251\",\"type\":\"Scatter\"},{\"attributes\":{},\"id\":\"5243\",\"type\":\"UnionRenderers\"},{\"attributes\":{\"axis_label\":\"inventory\",\"coordinates\":null,\"formatter\":{\"id\":\"5197\"},\"group\":null,\"major_label_policy\":{\"id\":\"5201\"},\"ticker\":{\"id\":\"5177\"}},\"id\":\"5176\",\"type\":\"LinearAxis\"},{\"attributes\":{\"angle\":{\"value\":0.0},\"fill_alpha\":{\"value\":1.0},\"fill_color\":{\"value\":\"#e5ae38\"},\"hatch_alpha\":{\"value\":1.0},\"hatch_color\":{\"value\":\"#e5ae38\"},\"hatch_scale\":{\"value\":12.0},\"hatch_weight\":{\"value\":1.0},\"line_alpha\":{\"value\":1.0},\"line_cap\":{\"value\":\"butt\"},\"line_color\":{\"value\":\"#e5ae38\"},\"line_dash\":{\"value\":[]},\"line_dash_offset\":{\"value\":0},\"line_join\":{\"value\":\"bevel\"},\"line_width\":{\"value\":1},\"marker\":{\"value\":\"circle\"},\"size\":{\"value\":5.477225575051661},\"tags\":[\"apply_ranges\"],\"x\":{\"field\":\"inventory\"},\"y\":{\"field\":\"homes_sold\"}},\"id\":\"5269\",\"type\":\"Scatter\"},{\"attributes\":{\"axis\":{\"id\":\"5180\"},\"coordinates\":null,\"dimension\":1,\"grid_line_color\":null,\"group\":null,\"ticker\":null},\"id\":\"5183\",\"type\":\"Grid\"},{\"attributes\":{\"fill_alpha\":{\"value\":0.2},\"fill_color\":{\"value\":\"#fc4f30\"},\"hatch_alpha\":{\"value\":0.2},\"hatch_color\":{\"value\":\"#fc4f30\"},\"line_alpha\":{\"value\":0.2},\"line_color\":{\"value\":\"#fc4f30\"},\"size\":{\"value\":5.477225575051661},\"tags\":[\"apply_ranges\"],\"x\":{\"field\":\"inventory\"},\"y\":{\"field\":\"homes_sold\"}},\"id\":\"5233\",\"type\":\"Scatter\"},{\"attributes\":{\"data\":{\"clusters_lower\":[2,2,2,2,2,2,2,2,2,2,2,2,2,2,2,2,2,2,2,2,2,2,2],\"homes_sold\":[377964,405992,507324,436855,421351,587635,700733,652878,497955,361174,369326,495462,499650,366414,377871,520689,544884,445037,336063,374990,490722,480575,511937],\"inventory\":[1250798,1265253,1316823,1297460,1289500,1219863,1165359,1066903,1426958,1415212,1446179,1479362,1299249,1286362,1327008,1385696,1465347,1406298,1421187,1439784,1494395,1459546,1260286]},\"selected\":{\"id\":\"5249\"},\"selection_policy\":{\"id\":\"5265\"}},\"id\":\"5248\",\"type\":\"ColumnDataSource\"},{\"attributes\":{\"label\":{\"value\":\"1\"},\"renderers\":[{\"id\":\"5234\"}]},\"id\":\"5246\",\"type\":\"LegendItem\"},{\"attributes\":{},\"id\":\"5249\",\"type\":\"Selection\"},{\"attributes\":{\"source\":{\"id\":\"5228\"}},\"id\":\"5235\",\"type\":\"CDSView\"},{\"attributes\":{},\"id\":\"5210\",\"type\":\"Selection\"},{\"attributes\":{\"angle\":{\"value\":0.0},\"fill_alpha\":{\"value\":1.0},\"fill_color\":{\"value\":\"#fc4f30\"},\"hatch_alpha\":{\"value\":1.0},\"hatch_color\":{\"value\":\"#fc4f30\"},\"hatch_scale\":{\"value\":12.0},\"hatch_weight\":{\"value\":1.0},\"line_alpha\":{\"value\":1.0},\"line_cap\":{\"value\":\"butt\"},\"line_color\":{\"value\":\"#fc4f30\"},\"line_dash\":{\"value\":[]},\"line_dash_offset\":{\"value\":0},\"line_join\":{\"value\":\"bevel\"},\"line_width\":{\"value\":1},\"marker\":{\"value\":\"circle\"},\"size\":{\"value\":5.477225575051661},\"tags\":[\"apply_ranges\"],\"x\":{\"field\":\"inventory\"},\"y\":{\"field\":\"homes_sold\"}},\"id\":\"5247\",\"type\":\"Scatter\"},{\"attributes\":{\"coordinates\":null,\"data_source\":{\"id\":\"5209\"},\"glyph\":{\"id\":\"5212\"},\"group\":null,\"hover_glyph\":null,\"muted_glyph\":{\"id\":\"5214\"},\"nonselection_glyph\":{\"id\":\"5213\"},\"selection_glyph\":{\"id\":\"5227\"},\"view\":{\"id\":\"5216\"}},\"id\":\"5215\",\"type\":\"GlyphRenderer\"},{\"attributes\":{\"source\":{\"id\":\"5248\"}},\"id\":\"5255\",\"type\":\"CDSView\"},{\"attributes\":{\"format\":\"%.0f\"},\"id\":\"5198\",\"type\":\"PrintfTickFormatter\"},{\"attributes\":{\"fill_alpha\":{\"value\":0.1},\"fill_color\":{\"value\":\"#e5ae38\"},\"hatch_alpha\":{\"value\":0.1},\"hatch_color\":{\"value\":\"#e5ae38\"},\"line_alpha\":{\"value\":0.1},\"line_color\":{\"value\":\"#e5ae38\"},\"size\":{\"value\":5.477225575051661},\"tags\":[\"apply_ranges\"],\"x\":{\"field\":\"inventory\"},\"y\":{\"field\":\"homes_sold\"}},\"id\":\"5252\",\"type\":\"Scatter\"},{\"attributes\":{\"data\":{\"clusters_lower\":[0,0,0,0,0,0,0,0,0,0,0,0,0,0,0,0,0,0,0,0,0,0,0,0,0,0,0,0,0,0,0,0,0],\"homes_sold\":[304737,394034,404927,464281,487959,451243,485480,392397,423079,534797,526615,548495,537397,448002,447647,384211,444227,507516,542753,534616,514686,469975,480451,378599,496899,545672,633602,624705,564118,525632,496814,661162,584704],\"inventory\":[2078931,2120173,2155803,2163303,2145658,2109202,2048712,2010080,1936114,1911782,1953106,1983624,1984408,1990299,1963663,1863258,1889755,1963564,2040323,2114760,2104706,2090802,2030677,1905627,1925430,2011729,2047119,2062443,2032207,2002245,1930467,1871580,1890218]},\"selected\":{\"id\":\"5210\"},\"selection_policy\":{\"id\":\"5222\"}},\"id\":\"5209\",\"type\":\"ColumnDataSource\"},{\"attributes\":{\"fill_alpha\":{\"value\":0.2},\"fill_color\":{\"value\":\"#e5ae38\"},\"hatch_alpha\":{\"value\":0.2},\"hatch_color\":{\"value\":\"#e5ae38\"},\"line_alpha\":{\"value\":0.2},\"line_color\":{\"value\":\"#e5ae38\"},\"size\":{\"value\":5.477225575051661},\"tags\":[\"apply_ranges\"],\"x\":{\"field\":\"inventory\"},\"y\":{\"field\":\"homes_sold\"}},\"id\":\"5253\",\"type\":\"Scatter\"},{\"attributes\":{},\"id\":\"5222\",\"type\":\"UnionRenderers\"},{\"attributes\":{},\"id\":\"5265\",\"type\":\"UnionRenderers\"},{\"attributes\":{\"coordinates\":null,\"data_source\":{\"id\":\"5248\"},\"glyph\":{\"id\":\"5251\"},\"group\":null,\"hover_glyph\":null,\"muted_glyph\":{\"id\":\"5253\"},\"nonselection_glyph\":{\"id\":\"5252\"},\"selection_glyph\":{\"id\":\"5269\"},\"view\":{\"id\":\"5255\"}},\"id\":\"5254\",\"type\":\"GlyphRenderer\"},{\"attributes\":{\"fill_alpha\":{\"value\":0.1},\"fill_color\":{\"value\":\"#30a2da\"},\"hatch_alpha\":{\"value\":0.1},\"hatch_color\":{\"value\":\"#30a2da\"},\"line_alpha\":{\"value\":0.1},\"line_color\":{\"value\":\"#30a2da\"},\"size\":{\"value\":5.477225575051661},\"tags\":[\"apply_ranges\"],\"x\":{\"field\":\"inventory\"},\"y\":{\"field\":\"homes_sold\"}},\"id\":\"5213\",\"type\":\"Scatter\"},{\"attributes\":{\"click_policy\":\"mute\",\"coordinates\":null,\"group\":null,\"items\":[{\"id\":\"5226\"},{\"id\":\"5246\"},{\"id\":\"5268\"}],\"location\":[0,0],\"title\":\"clusters_lower\"},\"id\":\"5225\",\"type\":\"Legend\"},{\"attributes\":{},\"id\":\"5185\",\"type\":\"PanTool\"},{\"attributes\":{\"end\":2210291.5714285714,\"reset_end\":2210291.5714285714,\"reset_start\":1019914.4285714285,\"start\":1019914.4285714285,\"tags\":[[[\"inventory\",\"inventory\",null]]]},\"id\":\"5162\",\"type\":\"Range1d\"},{\"attributes\":{},\"id\":\"5181\",\"type\":\"BasicTicker\"},{\"attributes\":{},\"id\":\"5184\",\"type\":\"SaveTool\"},{\"attributes\":{\"label\":{\"value\":\"0\"},\"renderers\":[{\"id\":\"5215\"}]},\"id\":\"5226\",\"type\":\"LegendItem\"},{\"attributes\":{\"end\":740460.9,\"reset_end\":740460.9,\"reset_start\":263726.1,\"start\":263726.1,\"tags\":[[[\"homes_sold\",\"homes_sold\",null]]]},\"id\":\"5163\",\"type\":\"Range1d\"},{\"attributes\":{\"angle\":{\"value\":0.0},\"fill_alpha\":{\"value\":1.0},\"fill_color\":{\"value\":\"#30a2da\"},\"hatch_alpha\":{\"value\":1.0},\"hatch_color\":{\"value\":\"#30a2da\"},\"hatch_scale\":{\"value\":12.0},\"hatch_weight\":{\"value\":1.0},\"line_alpha\":{\"value\":1.0},\"line_cap\":{\"value\":\"butt\"},\"line_color\":{\"value\":\"#30a2da\"},\"line_dash\":{\"value\":[]},\"line_dash_offset\":{\"value\":0},\"line_join\":{\"value\":\"bevel\"},\"line_width\":{\"value\":1},\"marker\":{\"value\":\"circle\"},\"size\":{\"value\":5.477225575051661},\"tags\":[\"apply_ranges\"],\"x\":{\"field\":\"inventory\"},\"y\":{\"field\":\"homes_sold\"}},\"id\":\"5227\",\"type\":\"Scatter\"},{\"attributes\":{\"fill_alpha\":{\"value\":0.1},\"fill_color\":{\"value\":\"#fc4f30\"},\"hatch_alpha\":{\"value\":0.1},\"hatch_color\":{\"value\":\"#fc4f30\"},\"line_alpha\":{\"value\":0.1},\"line_color\":{\"value\":\"#fc4f30\"},\"size\":{\"value\":5.477225575051661},\"tags\":[\"apply_ranges\"],\"x\":{\"field\":\"inventory\"},\"y\":{\"field\":\"homes_sold\"}},\"id\":\"5232\",\"type\":\"Scatter\"},{\"attributes\":{},\"id\":\"5186\",\"type\":\"WheelZoomTool\"},{\"attributes\":{\"source\":{\"id\":\"5209\"}},\"id\":\"5216\",\"type\":\"CDSView\"},{\"attributes\":{\"children\":[{\"id\":\"5167\"}],\"height\":300,\"margin\":[0,0,0,0],\"name\":\"Row04997\",\"sizing_mode\":\"fixed\",\"tags\":[\"embedded\"],\"width\":700},\"id\":\"5161\",\"type\":\"Row\"},{\"attributes\":{},\"id\":\"5188\",\"type\":\"ResetTool\"},{\"attributes\":{\"callback\":null,\"renderers\":[{\"id\":\"5215\"},{\"id\":\"5234\"},{\"id\":\"5254\"}],\"tags\":[\"hv_created\"],\"tooltips\":[[\"clusters_lower\",\"@{clusters_lower}\"],[\"inventory\",\"@{inventory}\"],[\"homes_sold\",\"@{homes_sold}\"]]},\"id\":\"5164\",\"type\":\"HoverTool\"},{\"attributes\":{\"overlay\":{\"id\":\"5189\"}},\"id\":\"5187\",\"type\":\"BoxZoomTool\"},{\"attributes\":{},\"id\":\"5206\",\"type\":\"AllLabels\"},{\"attributes\":{},\"id\":\"5172\",\"type\":\"LinearScale\"},{\"attributes\":{\"coordinates\":null,\"data_source\":{\"id\":\"5228\"},\"glyph\":{\"id\":\"5231\"},\"group\":null,\"hover_glyph\":null,\"muted_glyph\":{\"id\":\"5233\"},\"nonselection_glyph\":{\"id\":\"5232\"},\"selection_glyph\":{\"id\":\"5247\"},\"view\":{\"id\":\"5235\"}},\"id\":\"5234\",\"type\":\"GlyphRenderer\"},{\"attributes\":{},\"id\":\"5201\",\"type\":\"AllLabels\"},{\"attributes\":{},\"id\":\"5229\",\"type\":\"Selection\"},{\"attributes\":{\"coordinates\":null,\"group\":null,\"text_color\":\"black\",\"text_font_size\":\"12pt\"},\"id\":\"5168\",\"type\":\"Title\"},{\"attributes\":{\"data\":{\"clusters_lower\":[1,1,1,1,1,1,1,1,1,1,1,1,1,1,1,1,1,1,1,1,1,1,1,1,1,1,1,1,1,1,1,1,1,1,1,1,1,1,1,1,1,1,1,1,1,1,1],\"homes_sold\":[398471,391200,311458,322111,419901,459989,408673,303454,310918,392509,445766,309723,336264,459391,393948,489030,341903,365754,486821,526883,591629,614179,552047,502638,476043,534054,516942,631410,692914,592302,629131,535338,526858,633938,670694,623847,640299,499189,528733,479668,550804,647282,624623,636452,627929,532688,543858],\"inventory\":[1823542,1666931,1680276,1715241,1758071,1842873,1698019,1713791,1748964,1820559,1734475,1738614,1751581,1811084,1803188,1615706,1604314,1639331,1719652,1793818,1831656,1850571,1830744,1746324,1611721,1522912,1586017,1645405,1704387,1716298,1696710,1676769,1606239,1570615,1645582,1668224,1691330,1711008,1679657,1577743,1563284,1657511,1696761,1681451,1660309,1651469,1598498]},\"selected\":{\"id\":\"5229\"},\"selection_policy\":{\"id\":\"5243\"}},\"id\":\"5228\",\"type\":\"ColumnDataSource\"},{\"attributes\":{},\"id\":\"5177\",\"type\":\"BasicTicker\"},{\"attributes\":{\"axis\":{\"id\":\"5176\"},\"coordinates\":null,\"grid_line_color\":null,\"group\":null,\"ticker\":null},\"id\":\"5179\",\"type\":\"Grid\"},{\"attributes\":{\"format\":\"%.0f\"},\"id\":\"5197\",\"type\":\"PrintfTickFormatter\"}],\"root_ids\":[\"5161\"]},\"title\":\"Bokeh Application\",\"version\":\"2.4.3\"}};\n",
       "    var render_items = [{\"docid\":\"d00ce2c2-a32a-4071-9d57-6681b1aca7cb\",\"root_ids\":[\"5161\"],\"roots\":{\"5161\":\"75fe080a-0c2a-4458-8137-a8738528ab37\"}}];\n",
       "    root.Bokeh.embed.embed_items_notebook(docs_json, render_items);\n",
       "    for (const render_item of render_items) {\n",
       "      for (const root_id of render_item.root_ids) {\n",
       "\tconst id_el = document.getElementById(root_id)\n",
       "\tif (id_el.children.length && (id_el.children[0].className === 'bk-root')) {\n",
       "\t  const root_el = id_el.children[0]\n",
       "\t  root_el.id = root_el.id + '-rendered'\n",
       "\t}\n",
       "      }\n",
       "    }\n",
       "  }\n",
       "  if (root.Bokeh !== undefined && root.Bokeh.Panel !== undefined) {\n",
       "    embed_document(root);\n",
       "  } else {\n",
       "    var attempts = 0;\n",
       "    var timer = setInterval(function(root) {\n",
       "      if (root.Bokeh !== undefined && root.Bokeh.Panel !== undefined) {\n",
       "        clearInterval(timer);\n",
       "        embed_document(root);\n",
       "      } else if (document.readyState == \"complete\") {\n",
       "        attempts++;\n",
       "        if (attempts > 200) {\n",
       "          clearInterval(timer);\n",
       "          console.log(\"Bokeh: ERROR: Unable to run BokehJS code because BokehJS library is missing\");\n",
       "        }\n",
       "      }\n",
       "    }, 25, root)\n",
       "  }\n",
       "})(window);</script>"
      ],
      "text/plain": [
       ":NdOverlay   [clusters_lower]\n",
       "   :Scatter   [inventory]   (homes_sold)"
      ]
     },
     "execution_count": 99,
     "metadata": {
      "application/vnd.holoviews_exec.v0+json": {
       "id": "5161"
      }
     },
     "output_type": "execute_result"
    }
   ],
   "source": [
    "# Plot the clusters\n",
    "home_sales_predictions_df.hvplot.scatter(\n",
    "    x=\"inventory\",\n",
    "    y=\"homes_sold\",\n",
    "    by=\"clusters_lower\"\n",
    ").opts(yformatter=\"%.0f\", xformatter=\"%.0f\")"
   ]
  },
  {
   "cell_type": "code",
   "execution_count": 96,
   "metadata": {},
   "outputs": [],
   "source": [
    "# Define the model with the higher value of k clusters\n",
    "# Use a random_state of 1 to generate the model\n",
    "model = KMeans(n_clusters=4, random_state=1)\n",
    "\n",
    "# Fit the model\n",
    "model.fit(home_sales_df)\n",
    "\n",
    "# Make predictions\n",
    "k_higher = model.predict(home_sales_df)\n",
    "\n",
    "# Add a class column with the labels to the spread_df_predictions DataFrame\n",
    "home_sales_predictions_df['clusters_higher'] = k_higher"
   ]
  },
  {
   "cell_type": "code",
   "execution_count": 98,
   "metadata": {},
   "outputs": [
    {
     "data": {},
     "metadata": {},
     "output_type": "display_data"
    },
    {
     "data": {
      "application/vnd.holoviews_exec.v0+json": "",
      "text/html": [
       "<div id='4938'>\n",
       "  <div class=\"bk-root\" id=\"07615a75-6d10-4782-9fbb-7b83ec811491\" data-root-id=\"4938\"></div>\n",
       "</div>\n",
       "<script type=\"application/javascript\">(function(root) {\n",
       "  function embed_document(root) {\n",
       "    var docs_json = {\"60833a48-58f1-4257-8773-f7030d63a00c\":{\"defs\":[{\"extends\":null,\"module\":null,\"name\":\"ReactiveHTML1\",\"overrides\":[],\"properties\":[]},{\"extends\":null,\"module\":null,\"name\":\"FlexBox1\",\"overrides\":[],\"properties\":[{\"default\":\"flex-start\",\"kind\":null,\"name\":\"align_content\"},{\"default\":\"flex-start\",\"kind\":null,\"name\":\"align_items\"},{\"default\":\"row\",\"kind\":null,\"name\":\"flex_direction\"},{\"default\":\"wrap\",\"kind\":null,\"name\":\"flex_wrap\"},{\"default\":\"flex-start\",\"kind\":null,\"name\":\"justify_content\"}]},{\"extends\":null,\"module\":null,\"name\":\"GridStack1\",\"overrides\":[],\"properties\":[{\"default\":\"warn\",\"kind\":null,\"name\":\"mode\"},{\"default\":null,\"kind\":null,\"name\":\"ncols\"},{\"default\":null,\"kind\":null,\"name\":\"nrows\"},{\"default\":true,\"kind\":null,\"name\":\"allow_resize\"},{\"default\":true,\"kind\":null,\"name\":\"allow_drag\"},{\"default\":[],\"kind\":null,\"name\":\"state\"}]},{\"extends\":null,\"module\":null,\"name\":\"click1\",\"overrides\":[],\"properties\":[{\"default\":\"\",\"kind\":null,\"name\":\"terminal_output\"},{\"default\":\"\",\"kind\":null,\"name\":\"debug_name\"},{\"default\":0,\"kind\":null,\"name\":\"clears\"}]},{\"extends\":null,\"module\":null,\"name\":\"NotificationAreaBase1\",\"overrides\":[],\"properties\":[{\"default\":\"bottom-right\",\"kind\":null,\"name\":\"position\"},{\"default\":0,\"kind\":null,\"name\":\"_clear\"}]},{\"extends\":null,\"module\":null,\"name\":\"NotificationArea1\",\"overrides\":[],\"properties\":[{\"default\":[],\"kind\":null,\"name\":\"notifications\"},{\"default\":\"bottom-right\",\"kind\":null,\"name\":\"position\"},{\"default\":0,\"kind\":null,\"name\":\"_clear\"},{\"default\":[{\"background\":\"#ffc107\",\"icon\":{\"className\":\"fas fa-exclamation-triangle\",\"color\":\"white\",\"tagName\":\"i\"},\"type\":\"warning\"},{\"background\":\"#007bff\",\"icon\":{\"className\":\"fas fa-info-circle\",\"color\":\"white\",\"tagName\":\"i\"},\"type\":\"info\"}],\"kind\":null,\"name\":\"types\"}]},{\"extends\":null,\"module\":null,\"name\":\"Notification\",\"overrides\":[],\"properties\":[{\"default\":null,\"kind\":null,\"name\":\"background\"},{\"default\":3000,\"kind\":null,\"name\":\"duration\"},{\"default\":null,\"kind\":null,\"name\":\"icon\"},{\"default\":\"\",\"kind\":null,\"name\":\"message\"},{\"default\":null,\"kind\":null,\"name\":\"notification_type\"},{\"default\":false,\"kind\":null,\"name\":\"_destroyed\"}]},{\"extends\":null,\"module\":null,\"name\":\"TemplateActions1\",\"overrides\":[],\"properties\":[{\"default\":0,\"kind\":null,\"name\":\"open_modal\"},{\"default\":0,\"kind\":null,\"name\":\"close_modal\"}]},{\"extends\":null,\"module\":null,\"name\":\"MaterialTemplateActions1\",\"overrides\":[],\"properties\":[{\"default\":0,\"kind\":null,\"name\":\"open_modal\"},{\"default\":0,\"kind\":null,\"name\":\"close_modal\"}]}],\"roots\":{\"references\":[{\"attributes\":{\"fill_alpha\":{\"value\":0.2},\"fill_color\":{\"value\":\"#e5ae38\"},\"hatch_alpha\":{\"value\":0.2},\"hatch_color\":{\"value\":\"#e5ae38\"},\"line_alpha\":{\"value\":0.2},\"line_color\":{\"value\":\"#e5ae38\"},\"size\":{\"value\":5.477225575051661},\"tags\":[\"apply_ranges\"],\"x\":{\"field\":\"inventory\"},\"y\":{\"field\":\"homes_sold\"}},\"id\":\"5031\",\"type\":\"Scatter\"},{\"attributes\":{\"coordinates\":null,\"data_source\":{\"id\":\"5006\"},\"glyph\":{\"id\":\"5009\"},\"group\":null,\"hover_glyph\":null,\"muted_glyph\":{\"id\":\"5011\"},\"nonselection_glyph\":{\"id\":\"5010\"},\"selection_glyph\":{\"id\":\"5025\"},\"view\":{\"id\":\"5013\"}},\"id\":\"5012\",\"type\":\"GlyphRenderer\"},{\"attributes\":{\"coordinates\":null,\"data_source\":{\"id\":\"5048\"},\"glyph\":{\"id\":\"5051\"},\"group\":null,\"hover_glyph\":null,\"muted_glyph\":{\"id\":\"5053\"},\"nonselection_glyph\":{\"id\":\"5052\"},\"selection_glyph\":{\"id\":\"5071\"},\"view\":{\"id\":\"5055\"}},\"id\":\"5054\",\"type\":\"GlyphRenderer\"},{\"attributes\":{},\"id\":\"4959\",\"type\":\"BasicTicker\"},{\"attributes\":{},\"id\":\"5067\",\"type\":\"UnionRenderers\"},{\"attributes\":{\"source\":{\"id\":\"5006\"}},\"id\":\"5013\",\"type\":\"CDSView\"},{\"attributes\":{\"format\":\"%.0f\"},\"id\":\"4976\",\"type\":\"PrintfTickFormatter\"},{\"attributes\":{\"label\":{\"value\":\"3\"},\"renderers\":[{\"id\":\"5054\"}]},\"id\":\"5070\",\"type\":\"LegendItem\"},{\"attributes\":{\"end\":2210291.5714285714,\"reset_end\":2210291.5714285714,\"reset_start\":1019914.4285714285,\"start\":1019914.4285714285,\"tags\":[[[\"inventory\",\"inventory\",null]]]},\"id\":\"4939\",\"type\":\"Range1d\"},{\"attributes\":{\"data\":{\"clusters_higher\":[0,0,0,0,0,0,0,0,0,0,0,0,0,0,0,0,0,0,0,0,0,0,0,0,0,0,0,0,0,0],\"homes_sold\":[304737,394034,404927,464281,487959,451243,485480,392397,423079,534797,526615,548495,537397,448002,447647,444227,507516,542753,534616,514686,469975,480451,496899,545672,633602,624705,564118,525632,496814,584704],\"inventory\":[2078931,2120173,2155803,2163303,2145658,2109202,2048712,2010080,1936114,1911782,1953106,1983624,1984408,1990299,1963663,1889755,1963564,2040323,2114760,2104706,2090802,2030677,1925430,2011729,2047119,2062443,2032207,2002245,1930467,1890218]},\"selected\":{\"id\":\"4988\"},\"selection_policy\":{\"id\":\"5000\"}},\"id\":\"4987\",\"type\":\"ColumnDataSource\"},{\"attributes\":{\"coordinates\":null,\"data_source\":{\"id\":\"4987\"},\"glyph\":{\"id\":\"4990\"},\"group\":null,\"hover_glyph\":null,\"muted_glyph\":{\"id\":\"4992\"},\"nonselection_glyph\":{\"id\":\"4991\"},\"selection_glyph\":{\"id\":\"5005\"},\"view\":{\"id\":\"4994\"}},\"id\":\"4993\",\"type\":\"GlyphRenderer\"},{\"attributes\":{\"angle\":{\"value\":0.0},\"fill_alpha\":{\"value\":1.0},\"fill_color\":{\"value\":\"#6d904f\"},\"hatch_alpha\":{\"value\":1.0},\"hatch_color\":{\"value\":\"#6d904f\"},\"hatch_scale\":{\"value\":12.0},\"hatch_weight\":{\"value\":1.0},\"line_alpha\":{\"value\":1.0},\"line_cap\":{\"value\":\"butt\"},\"line_color\":{\"value\":\"#6d904f\"},\"line_dash\":{\"value\":[]},\"line_dash_offset\":{\"value\":0},\"line_join\":{\"value\":\"bevel\"},\"line_width\":{\"value\":1},\"marker\":{\"value\":\"circle\"},\"size\":{\"value\":5.477225575051661},\"tags\":[\"apply_ranges\"],\"x\":{\"field\":\"inventory\"},\"y\":{\"field\":\"homes_sold\"}},\"id\":\"5071\",\"type\":\"Scatter\"},{\"attributes\":{},\"id\":\"5000\",\"type\":\"UnionRenderers\"},{\"attributes\":{\"source\":{\"id\":\"4987\"}},\"id\":\"4994\",\"type\":\"CDSView\"},{\"attributes\":{\"angle\":{\"value\":0.0},\"fill_alpha\":{\"value\":1.0},\"fill_color\":{\"value\":\"#e5ae38\"},\"hatch_alpha\":{\"value\":1.0},\"hatch_color\":{\"value\":\"#e5ae38\"},\"hatch_scale\":{\"value\":12.0},\"hatch_weight\":{\"value\":1.0},\"line_alpha\":{\"value\":1.0},\"line_cap\":{\"value\":\"butt\"},\"line_color\":{\"value\":\"#e5ae38\"},\"line_dash\":{\"value\":[]},\"line_dash_offset\":{\"value\":0},\"line_join\":{\"value\":\"bevel\"},\"line_width\":{\"value\":1},\"marker\":{\"value\":\"circle\"},\"size\":{\"value\":5.477225575051661},\"tags\":[\"apply_ranges\"],\"x\":{\"field\":\"inventory\"},\"y\":{\"field\":\"homes_sold\"}},\"id\":\"5047\",\"type\":\"Scatter\"},{\"attributes\":{\"source\":{\"id\":\"5026\"}},\"id\":\"5033\",\"type\":\"CDSView\"},{\"attributes\":{\"fill_alpha\":{\"value\":0.1},\"fill_color\":{\"value\":\"#6d904f\"},\"hatch_alpha\":{\"value\":0.1},\"hatch_color\":{\"value\":\"#6d904f\"},\"line_alpha\":{\"value\":0.1},\"line_color\":{\"value\":\"#6d904f\"},\"size\":{\"value\":5.477225575051661},\"tags\":[\"apply_ranges\"],\"x\":{\"field\":\"inventory\"},\"y\":{\"field\":\"homes_sold\"}},\"id\":\"5052\",\"type\":\"Scatter\"},{\"attributes\":{},\"id\":\"4955\",\"type\":\"BasicTicker\"},{\"attributes\":{\"axis\":{\"id\":\"4954\"},\"coordinates\":null,\"grid_line_color\":null,\"group\":null,\"ticker\":null},\"id\":\"4957\",\"type\":\"Grid\"},{\"attributes\":{},\"id\":\"5021\",\"type\":\"UnionRenderers\"},{\"attributes\":{},\"id\":\"4950\",\"type\":\"LinearScale\"},{\"attributes\":{\"coordinates\":null,\"group\":null,\"text_color\":\"black\",\"text_font_size\":\"12pt\"},\"id\":\"4946\",\"type\":\"Title\"},{\"attributes\":{\"fill_color\":{\"value\":\"#6d904f\"},\"hatch_color\":{\"value\":\"#6d904f\"},\"line_color\":{\"value\":\"#6d904f\"},\"size\":{\"value\":5.477225575051661},\"tags\":[\"apply_ranges\"],\"x\":{\"field\":\"inventory\"},\"y\":{\"field\":\"homes_sold\"}},\"id\":\"5051\",\"type\":\"Scatter\"},{\"attributes\":{\"data\":{\"clusters_higher\":[2,2,2,2,2,2,2,2,2,2,2,2,2,2,2,2,2,2,2,2,2,2,2],\"homes_sold\":[377964,405992,507324,436855,421351,587635,700733,652878,497955,361174,369326,495462,499650,366414,377871,520689,544884,445037,336063,374990,490722,480575,511937],\"inventory\":[1250798,1265253,1316823,1297460,1289500,1219863,1165359,1066903,1426958,1415212,1446179,1479362,1299249,1286362,1327008,1385696,1465347,1406298,1421187,1439784,1494395,1459546,1260286]},\"selected\":{\"id\":\"5027\"},\"selection_policy\":{\"id\":\"5043\"}},\"id\":\"5026\",\"type\":\"ColumnDataSource\"},{\"attributes\":{\"label\":{\"value\":\"1\"},\"renderers\":[{\"id\":\"5012\"}]},\"id\":\"5024\",\"type\":\"LegendItem\"},{\"attributes\":{\"fill_alpha\":{\"value\":0.1},\"fill_color\":{\"value\":\"#e5ae38\"},\"hatch_alpha\":{\"value\":0.1},\"hatch_color\":{\"value\":\"#e5ae38\"},\"line_alpha\":{\"value\":0.1},\"line_color\":{\"value\":\"#e5ae38\"},\"size\":{\"value\":5.477225575051661},\"tags\":[\"apply_ranges\"],\"x\":{\"field\":\"inventory\"},\"y\":{\"field\":\"homes_sold\"}},\"id\":\"5030\",\"type\":\"Scatter\"},{\"attributes\":{},\"id\":\"4952\",\"type\":\"LinearScale\"},{\"attributes\":{\"angle\":{\"value\":0.0},\"fill_alpha\":{\"value\":1.0},\"fill_color\":{\"value\":\"#fc4f30\"},\"hatch_alpha\":{\"value\":1.0},\"hatch_color\":{\"value\":\"#fc4f30\"},\"hatch_scale\":{\"value\":12.0},\"hatch_weight\":{\"value\":1.0},\"line_alpha\":{\"value\":1.0},\"line_cap\":{\"value\":\"butt\"},\"line_color\":{\"value\":\"#fc4f30\"},\"line_dash\":{\"value\":[]},\"line_dash_offset\":{\"value\":0},\"line_join\":{\"value\":\"bevel\"},\"line_width\":{\"value\":1},\"marker\":{\"value\":\"circle\"},\"size\":{\"value\":5.477225575051661},\"tags\":[\"apply_ranges\"],\"x\":{\"field\":\"inventory\"},\"y\":{\"field\":\"homes_sold\"}},\"id\":\"5025\",\"type\":\"Scatter\"},{\"attributes\":{\"axis_label\":\"homes_sold\",\"coordinates\":null,\"formatter\":{\"id\":\"4976\"},\"group\":null,\"major_label_policy\":{\"id\":\"4984\"},\"ticker\":{\"id\":\"4959\"}},\"id\":\"4958\",\"type\":\"LinearAxis\"},{\"attributes\":{\"axis_label\":\"inventory\",\"coordinates\":null,\"formatter\":{\"id\":\"4975\"},\"group\":null,\"major_label_policy\":{\"id\":\"4979\"},\"ticker\":{\"id\":\"4955\"}},\"id\":\"4954\",\"type\":\"LinearAxis\"},{\"attributes\":{\"fill_color\":{\"value\":\"#fc4f30\"},\"hatch_color\":{\"value\":\"#fc4f30\"},\"line_color\":{\"value\":\"#fc4f30\"},\"size\":{\"value\":5.477225575051661},\"tags\":[\"apply_ranges\"],\"x\":{\"field\":\"inventory\"},\"y\":{\"field\":\"homes_sold\"}},\"id\":\"5009\",\"type\":\"Scatter\"},{\"attributes\":{\"click_policy\":\"mute\",\"coordinates\":null,\"group\":null,\"items\":[{\"id\":\"5004\"},{\"id\":\"5024\"},{\"id\":\"5046\"},{\"id\":\"5070\"}],\"location\":[0,0],\"title\":\"clusters_higher\"},\"id\":\"5003\",\"type\":\"Legend\"},{\"attributes\":{\"fill_color\":{\"value\":\"#e5ae38\"},\"hatch_color\":{\"value\":\"#e5ae38\"},\"line_color\":{\"value\":\"#e5ae38\"},\"size\":{\"value\":5.477225575051661},\"tags\":[\"apply_ranges\"],\"x\":{\"field\":\"inventory\"},\"y\":{\"field\":\"homes_sold\"}},\"id\":\"5029\",\"type\":\"Scatter\"},{\"attributes\":{},\"id\":\"4984\",\"type\":\"AllLabels\"},{\"attributes\":{\"children\":[{\"id\":\"4945\"}],\"height\":300,\"margin\":[0,0,0,0],\"name\":\"Row04784\",\"sizing_mode\":\"fixed\",\"tags\":[\"embedded\"],\"width\":700},\"id\":\"4938\",\"type\":\"Row\"},{\"attributes\":{\"axis\":{\"id\":\"4958\"},\"coordinates\":null,\"dimension\":1,\"grid_line_color\":null,\"group\":null,\"ticker\":null},\"id\":\"4961\",\"type\":\"Grid\"},{\"attributes\":{\"fill_alpha\":{\"value\":0.2},\"fill_color\":{\"value\":\"#fc4f30\"},\"hatch_alpha\":{\"value\":0.2},\"hatch_color\":{\"value\":\"#fc4f30\"},\"line_alpha\":{\"value\":0.2},\"line_color\":{\"value\":\"#fc4f30\"},\"size\":{\"value\":5.477225575051661},\"tags\":[\"apply_ranges\"],\"x\":{\"field\":\"inventory\"},\"y\":{\"field\":\"homes_sold\"}},\"id\":\"5011\",\"type\":\"Scatter\"},{\"attributes\":{\"fill_alpha\":{\"value\":0.2},\"fill_color\":{\"value\":\"#6d904f\"},\"hatch_alpha\":{\"value\":0.2},\"hatch_color\":{\"value\":\"#6d904f\"},\"line_alpha\":{\"value\":0.2},\"line_color\":{\"value\":\"#6d904f\"},\"size\":{\"value\":5.477225575051661},\"tags\":[\"apply_ranges\"],\"x\":{\"field\":\"inventory\"},\"y\":{\"field\":\"homes_sold\"}},\"id\":\"5053\",\"type\":\"Scatter\"},{\"attributes\":{\"format\":\"%.0f\"},\"id\":\"4975\",\"type\":\"PrintfTickFormatter\"},{\"attributes\":{},\"id\":\"5007\",\"type\":\"Selection\"},{\"attributes\":{\"label\":{\"value\":\"0\"},\"renderers\":[{\"id\":\"4993\"}]},\"id\":\"5004\",\"type\":\"LegendItem\"},{\"attributes\":{\"callback\":null,\"renderers\":[{\"id\":\"4993\"},{\"id\":\"5012\"},{\"id\":\"5032\"},{\"id\":\"5054\"}],\"tags\":[\"hv_created\"],\"tooltips\":[[\"clusters_higher\",\"@{clusters_higher}\"],[\"inventory\",\"@{inventory}\"],[\"homes_sold\",\"@{homes_sold}\"]]},\"id\":\"4941\",\"type\":\"HoverTool\"},{\"attributes\":{},\"id\":\"5043\",\"type\":\"UnionRenderers\"},{\"attributes\":{},\"id\":\"5049\",\"type\":\"Selection\"},{\"attributes\":{\"label\":{\"value\":\"2\"},\"renderers\":[{\"id\":\"5032\"}]},\"id\":\"5046\",\"type\":\"LegendItem\"},{\"attributes\":{\"active_drag\":{\"id\":\"4963\"},\"active_scroll\":{\"id\":\"4964\"},\"tools\":[{\"id\":\"4941\"},{\"id\":\"4962\"},{\"id\":\"4963\"},{\"id\":\"4964\"},{\"id\":\"4965\"},{\"id\":\"4966\"}]},\"id\":\"4968\",\"type\":\"Toolbar\"},{\"attributes\":{\"end\":740460.9,\"reset_end\":740460.9,\"reset_start\":263726.1,\"start\":263726.1,\"tags\":[[[\"homes_sold\",\"homes_sold\",null]]]},\"id\":\"4940\",\"type\":\"Range1d\"},{\"attributes\":{\"bottom_units\":\"screen\",\"coordinates\":null,\"fill_alpha\":0.5,\"fill_color\":\"lightgrey\",\"group\":null,\"left_units\":\"screen\",\"level\":\"overlay\",\"line_alpha\":1.0,\"line_color\":\"black\",\"line_dash\":[4,4],\"line_width\":2,\"right_units\":\"screen\",\"syncable\":false,\"top_units\":\"screen\"},\"id\":\"4967\",\"type\":\"BoxAnnotation\"},{\"attributes\":{},\"id\":\"4962\",\"type\":\"SaveTool\"},{\"attributes\":{},\"id\":\"5027\",\"type\":\"Selection\"},{\"attributes\":{},\"id\":\"4963\",\"type\":\"PanTool\"},{\"attributes\":{},\"id\":\"4966\",\"type\":\"ResetTool\"},{\"attributes\":{\"coordinates\":null,\"data_source\":{\"id\":\"5026\"},\"glyph\":{\"id\":\"5029\"},\"group\":null,\"hover_glyph\":null,\"muted_glyph\":{\"id\":\"5031\"},\"nonselection_glyph\":{\"id\":\"5030\"},\"selection_glyph\":{\"id\":\"5047\"},\"view\":{\"id\":\"5033\"}},\"id\":\"5032\",\"type\":\"GlyphRenderer\"},{\"attributes\":{},\"id\":\"4964\",\"type\":\"WheelZoomTool\"},{\"attributes\":{\"below\":[{\"id\":\"4954\"}],\"center\":[{\"id\":\"4957\"},{\"id\":\"4961\"}],\"height\":300,\"left\":[{\"id\":\"4958\"}],\"margin\":[5,5,5,5],\"min_border_bottom\":10,\"min_border_left\":10,\"min_border_right\":10,\"min_border_top\":10,\"output_backend\":\"webgl\",\"renderers\":[{\"id\":\"4993\"},{\"id\":\"5012\"},{\"id\":\"5032\"},{\"id\":\"5054\"}],\"right\":[{\"id\":\"5003\"}],\"sizing_mode\":\"fixed\",\"title\":{\"id\":\"4946\"},\"toolbar\":{\"id\":\"4968\"},\"width\":700,\"x_range\":{\"id\":\"4939\"},\"x_scale\":{\"id\":\"4950\"},\"y_range\":{\"id\":\"4940\"},\"y_scale\":{\"id\":\"4952\"}},\"id\":\"4945\",\"subtype\":\"Figure\",\"type\":\"Plot\"},{\"attributes\":{\"overlay\":{\"id\":\"4967\"}},\"id\":\"4965\",\"type\":\"BoxZoomTool\"},{\"attributes\":{\"fill_color\":{\"value\":\"#30a2da\"},\"hatch_color\":{\"value\":\"#30a2da\"},\"line_color\":{\"value\":\"#30a2da\"},\"size\":{\"value\":5.477225575051661},\"tags\":[\"apply_ranges\"],\"x\":{\"field\":\"inventory\"},\"y\":{\"field\":\"homes_sold\"}},\"id\":\"4990\",\"type\":\"Scatter\"},{\"attributes\":{},\"id\":\"4988\",\"type\":\"Selection\"},{\"attributes\":{\"fill_alpha\":{\"value\":0.1},\"fill_color\":{\"value\":\"#30a2da\"},\"hatch_alpha\":{\"value\":0.1},\"hatch_color\":{\"value\":\"#30a2da\"},\"line_alpha\":{\"value\":0.1},\"line_color\":{\"value\":\"#30a2da\"},\"size\":{\"value\":5.477225575051661},\"tags\":[\"apply_ranges\"],\"x\":{\"field\":\"inventory\"},\"y\":{\"field\":\"homes_sold\"}},\"id\":\"4991\",\"type\":\"Scatter\"},{\"attributes\":{\"fill_alpha\":{\"value\":0.2},\"fill_color\":{\"value\":\"#30a2da\"},\"hatch_alpha\":{\"value\":0.2},\"hatch_color\":{\"value\":\"#30a2da\"},\"line_alpha\":{\"value\":0.2},\"line_color\":{\"value\":\"#30a2da\"},\"size\":{\"value\":5.477225575051661},\"tags\":[\"apply_ranges\"],\"x\":{\"field\":\"inventory\"},\"y\":{\"field\":\"homes_sold\"}},\"id\":\"4992\",\"type\":\"Scatter\"},{\"attributes\":{\"source\":{\"id\":\"5048\"}},\"id\":\"5055\",\"type\":\"CDSView\"},{\"attributes\":{\"fill_alpha\":{\"value\":0.1},\"fill_color\":{\"value\":\"#fc4f30\"},\"hatch_alpha\":{\"value\":0.1},\"hatch_color\":{\"value\":\"#fc4f30\"},\"line_alpha\":{\"value\":0.1},\"line_color\":{\"value\":\"#fc4f30\"},\"size\":{\"value\":5.477225575051661},\"tags\":[\"apply_ranges\"],\"x\":{\"field\":\"inventory\"},\"y\":{\"field\":\"homes_sold\"}},\"id\":\"5010\",\"type\":\"Scatter\"},{\"attributes\":{\"angle\":{\"value\":0.0},\"fill_alpha\":{\"value\":1.0},\"fill_color\":{\"value\":\"#30a2da\"},\"hatch_alpha\":{\"value\":1.0},\"hatch_color\":{\"value\":\"#30a2da\"},\"hatch_scale\":{\"value\":12.0},\"hatch_weight\":{\"value\":1.0},\"line_alpha\":{\"value\":1.0},\"line_cap\":{\"value\":\"butt\"},\"line_color\":{\"value\":\"#30a2da\"},\"line_dash\":{\"value\":[]},\"line_dash_offset\":{\"value\":0},\"line_join\":{\"value\":\"bevel\"},\"line_width\":{\"value\":1},\"marker\":{\"value\":\"circle\"},\"size\":{\"value\":5.477225575051661},\"tags\":[\"apply_ranges\"],\"x\":{\"field\":\"inventory\"},\"y\":{\"field\":\"homes_sold\"}},\"id\":\"5005\",\"type\":\"Scatter\"},{\"attributes\":{\"data\":{\"clusters_higher\":[3,3,3,3,3,3,3,3,3,3,3,3,3,3,3,3,3,3,3],\"homes_sold\":[398471,391200,311458,322111,419901,459989,384211,408673,303454,310918,392509,378599,445766,309723,336264,459391,393948,341903,365754],\"inventory\":[1823542,1666931,1680276,1715241,1758071,1842873,1863258,1698019,1713791,1748964,1820559,1905627,1734475,1738614,1751581,1811084,1803188,1604314,1639331]},\"selected\":{\"id\":\"5049\"},\"selection_policy\":{\"id\":\"5067\"}},\"id\":\"5048\",\"type\":\"ColumnDataSource\"},{\"attributes\":{\"data\":{\"clusters_higher\":[1,1,1,1,1,1,1,1,1,1,1,1,1,1,1,1,1,1,1,1,1,1,1,1,1,1,1,1,1,1,1],\"homes_sold\":[489030,486821,526883,591629,661162,614179,552047,502638,476043,534054,516942,631410,692914,592302,629131,535338,526858,633938,670694,623847,640299,499189,528733,479668,550804,647282,624623,636452,627929,532688,543858],\"inventory\":[1615706,1719652,1793818,1831656,1871580,1850571,1830744,1746324,1611721,1522912,1586017,1645405,1704387,1716298,1696710,1676769,1606239,1570615,1645582,1668224,1691330,1711008,1679657,1577743,1563284,1657511,1696761,1681451,1660309,1651469,1598498]},\"selected\":{\"id\":\"5007\"},\"selection_policy\":{\"id\":\"5021\"}},\"id\":\"5006\",\"type\":\"ColumnDataSource\"},{\"attributes\":{},\"id\":\"4979\",\"type\":\"AllLabels\"}],\"root_ids\":[\"4938\"]},\"title\":\"Bokeh Application\",\"version\":\"2.4.3\"}};\n",
       "    var render_items = [{\"docid\":\"60833a48-58f1-4257-8773-f7030d63a00c\",\"root_ids\":[\"4938\"],\"roots\":{\"4938\":\"07615a75-6d10-4782-9fbb-7b83ec811491\"}}];\n",
       "    root.Bokeh.embed.embed_items_notebook(docs_json, render_items);\n",
       "    for (const render_item of render_items) {\n",
       "      for (const root_id of render_item.root_ids) {\n",
       "\tconst id_el = document.getElementById(root_id)\n",
       "\tif (id_el.children.length && (id_el.children[0].className === 'bk-root')) {\n",
       "\t  const root_el = id_el.children[0]\n",
       "\t  root_el.id = root_el.id + '-rendered'\n",
       "\t}\n",
       "      }\n",
       "    }\n",
       "  }\n",
       "  if (root.Bokeh !== undefined && root.Bokeh.Panel !== undefined) {\n",
       "    embed_document(root);\n",
       "  } else {\n",
       "    var attempts = 0;\n",
       "    var timer = setInterval(function(root) {\n",
       "      if (root.Bokeh !== undefined && root.Bokeh.Panel !== undefined) {\n",
       "        clearInterval(timer);\n",
       "        embed_document(root);\n",
       "      } else if (document.readyState == \"complete\") {\n",
       "        attempts++;\n",
       "        if (attempts > 200) {\n",
       "          clearInterval(timer);\n",
       "          console.log(\"Bokeh: ERROR: Unable to run BokehJS code because BokehJS library is missing\");\n",
       "        }\n",
       "      }\n",
       "    }, 25, root)\n",
       "  }\n",
       "})(window);</script>"
      ],
      "text/plain": [
       ":NdOverlay   [clusters_higher]\n",
       "   :Scatter   [inventory]   (homes_sold)"
      ]
     },
     "execution_count": 98,
     "metadata": {
      "application/vnd.holoviews_exec.v0+json": {
       "id": "4938"
      }
     },
     "output_type": "execute_result"
    }
   ],
   "source": [
    "# Plot the clusters\n",
    "home_sales_predictions_df.hvplot.scatter(\n",
    "    x=\"inventory\",\n",
    "    y=\"homes_sold\",\n",
    "    by=\"clusters_higher\"\n",
    ").opts(yformatter=\"%.0f\", xformatter=\"%.0f\")"
   ]
  },
  {
   "cell_type": "markdown",
   "metadata": {},
   "source": [
    "## Answer the following question\n",
    "\n",
    "* Considering the plot, what’s the best number of clusters to choose, or value of k? "
   ]
  },
  {
   "cell_type": "markdown",
   "metadata": {},
   "source": [
    "From the scatter plots, it appears that the optimal value for k, the nubmer of clusters is probably 3. It appears to better group the monthly housing trends among different levels of inventory. However, 4 clusters is probably not wrong either as, for a certain range of inventory, it appears to identify two unique clusters according to the number of homes sold. Overall, the best differention across multiple variables though would likely be 3 clusters."
   ]
  },
  {
   "cell_type": "markdown",
   "metadata": {},
   "source": [
    "# =========================================="
   ]
  },
  {
   "cell_type": "markdown",
   "metadata": {},
   "source": [
    "### 2.03 Instructor Do: Scaling Data (0:20) "
   ]
  },
  {
   "cell_type": "markdown",
   "metadata": {},
   "source": []
  },
  {
   "cell_type": "code",
   "execution_count": 14,
   "metadata": {},
   "outputs": [],
   "source": [
    "# Import the modules\n",
    "import pandas as pd\n",
    "import hvplot.pandas\n",
    "from pathlib import Path\n",
    "from sklearn.cluster import KMeans\n",
    "from sklearn.preprocessing import StandardScaler"
   ]
  },
  {
   "cell_type": "code",
   "execution_count": 15,
   "metadata": {},
   "outputs": [
    {
     "data": {
      "text/html": [
       "<div>\n",
       "<style scoped>\n",
       "    .dataframe tbody tr th:only-of-type {\n",
       "        vertical-align: middle;\n",
       "    }\n",
       "\n",
       "    .dataframe tbody tr th {\n",
       "        vertical-align: top;\n",
       "    }\n",
       "\n",
       "    .dataframe thead th {\n",
       "        text-align: right;\n",
       "    }\n",
       "</style>\n",
       "<table border=\"1\" class=\"dataframe\">\n",
       "  <thead>\n",
       "    <tr style=\"text-align: right;\">\n",
       "      <th></th>\n",
       "      <th>CustomerID</th>\n",
       "      <th>Card Type</th>\n",
       "      <th>Age</th>\n",
       "      <th>Annual Income</th>\n",
       "      <th>Spending Score</th>\n",
       "    </tr>\n",
       "  </thead>\n",
       "  <tbody>\n",
       "    <tr>\n",
       "      <th>0</th>\n",
       "      <td>1</td>\n",
       "      <td>Credit</td>\n",
       "      <td>19</td>\n",
       "      <td>15000</td>\n",
       "      <td>39</td>\n",
       "    </tr>\n",
       "    <tr>\n",
       "      <th>1</th>\n",
       "      <td>2</td>\n",
       "      <td>Credit</td>\n",
       "      <td>21</td>\n",
       "      <td>15000</td>\n",
       "      <td>81</td>\n",
       "    </tr>\n",
       "    <tr>\n",
       "      <th>2</th>\n",
       "      <td>3</td>\n",
       "      <td>Debit</td>\n",
       "      <td>20</td>\n",
       "      <td>16000</td>\n",
       "      <td>6</td>\n",
       "    </tr>\n",
       "    <tr>\n",
       "      <th>3</th>\n",
       "      <td>4</td>\n",
       "      <td>Debit</td>\n",
       "      <td>23</td>\n",
       "      <td>16000</td>\n",
       "      <td>77</td>\n",
       "    </tr>\n",
       "    <tr>\n",
       "      <th>4</th>\n",
       "      <td>5</td>\n",
       "      <td>Debit</td>\n",
       "      <td>31</td>\n",
       "      <td>17000</td>\n",
       "      <td>40</td>\n",
       "    </tr>\n",
       "  </tbody>\n",
       "</table>\n",
       "</div>"
      ],
      "text/plain": [
       "   CustomerID Card Type  Age  Annual Income  Spending Score\n",
       "0           1    Credit   19          15000              39\n",
       "1           2    Credit   21          15000              81\n",
       "2           3     Debit   20          16000               6\n",
       "3           4     Debit   23          16000              77\n",
       "4           5     Debit   31          17000              40"
      ]
     },
     "execution_count": 15,
     "metadata": {},
     "output_type": "execute_result"
    }
   ],
   "source": [
    "# Read in the CSV file and create the Pandas DataFrame\n",
    "df_shopping = pd.read_csv(\n",
    "    Path(\"03-Ins_Scaling_Data/Resources/shopping_data.csv\")\n",
    ")\n",
    "\n",
    "# Review the DataFrame\n",
    "df_shopping.head()"
   ]
  },
  {
   "cell_type": "code",
   "execution_count": 16,
   "metadata": {},
   "outputs": [
    {
     "data": {
      "text/plain": [
       "CustomerID         int64\n",
       "Card Type         object\n",
       "Age                int64\n",
       "Annual Income      int64\n",
       "Spending Score     int64\n",
       "dtype: object"
      ]
     },
     "execution_count": 16,
     "metadata": {},
     "output_type": "execute_result"
    }
   ],
   "source": [
    "# Check the DataFrame data types\n",
    "df_shopping.dtypes"
   ]
  },
  {
   "cell_type": "code",
   "execution_count": 17,
   "metadata": {},
   "outputs": [
    {
     "data": {
      "text/html": [
       "<div>\n",
       "<style scoped>\n",
       "    .dataframe tbody tr th:only-of-type {\n",
       "        vertical-align: middle;\n",
       "    }\n",
       "\n",
       "    .dataframe tbody tr th {\n",
       "        vertical-align: top;\n",
       "    }\n",
       "\n",
       "    .dataframe thead th {\n",
       "        text-align: right;\n",
       "    }\n",
       "</style>\n",
       "<table border=\"1\" class=\"dataframe\">\n",
       "  <thead>\n",
       "    <tr style=\"text-align: right;\">\n",
       "      <th></th>\n",
       "      <th>Age</th>\n",
       "      <th>Annual Income</th>\n",
       "      <th>Spending Score</th>\n",
       "    </tr>\n",
       "  </thead>\n",
       "  <tbody>\n",
       "    <tr>\n",
       "      <th>0</th>\n",
       "      <td>-1.424569</td>\n",
       "      <td>-1.738999</td>\n",
       "      <td>-0.434801</td>\n",
       "    </tr>\n",
       "    <tr>\n",
       "      <th>1</th>\n",
       "      <td>-1.281035</td>\n",
       "      <td>-1.738999</td>\n",
       "      <td>1.195704</td>\n",
       "    </tr>\n",
       "    <tr>\n",
       "      <th>2</th>\n",
       "      <td>-1.352802</td>\n",
       "      <td>-1.700830</td>\n",
       "      <td>-1.715913</td>\n",
       "    </tr>\n",
       "    <tr>\n",
       "      <th>3</th>\n",
       "      <td>-1.137502</td>\n",
       "      <td>-1.700830</td>\n",
       "      <td>1.040418</td>\n",
       "    </tr>\n",
       "    <tr>\n",
       "      <th>4</th>\n",
       "      <td>-0.563369</td>\n",
       "      <td>-1.662660</td>\n",
       "      <td>-0.395980</td>\n",
       "    </tr>\n",
       "  </tbody>\n",
       "</table>\n",
       "</div>"
      ],
      "text/plain": [
       "        Age  Annual Income  Spending Score\n",
       "0 -1.424569      -1.738999       -0.434801\n",
       "1 -1.281035      -1.738999        1.195704\n",
       "2 -1.352802      -1.700830       -1.715913\n",
       "3 -1.137502      -1.700830        1.040418\n",
       "4 -0.563369      -1.662660       -0.395980"
      ]
     },
     "execution_count": 17,
     "metadata": {},
     "output_type": "execute_result"
    }
   ],
   "source": [
    "# Scaling the numeric columns\n",
    "shopping_data_scaled = StandardScaler().fit_transform(df_shopping[[\"Age\", \"Annual Income\", \"Spending Score\"]])\n",
    "\n",
    "# Creating a DataFrame with with the scaled data\n",
    "df_shopping_transformed = pd.DataFrame(shopping_data_scaled, columns=[\"Age\", \"Annual Income\", \"Spending Score\"])\n",
    "\n",
    "# Display sample data\n",
    "df_shopping_transformed.head()"
   ]
  },
  {
   "cell_type": "code",
   "execution_count": 18,
   "metadata": {},
   "outputs": [
    {
     "data": {
      "text/html": [
       "<div>\n",
       "<style scoped>\n",
       "    .dataframe tbody tr th:only-of-type {\n",
       "        vertical-align: middle;\n",
       "    }\n",
       "\n",
       "    .dataframe tbody tr th {\n",
       "        vertical-align: top;\n",
       "    }\n",
       "\n",
       "    .dataframe thead th {\n",
       "        text-align: right;\n",
       "    }\n",
       "</style>\n",
       "<table border=\"1\" class=\"dataframe\">\n",
       "  <thead>\n",
       "    <tr style=\"text-align: right;\">\n",
       "      <th></th>\n",
       "      <th>Credit</th>\n",
       "      <th>Debit</th>\n",
       "    </tr>\n",
       "  </thead>\n",
       "  <tbody>\n",
       "    <tr>\n",
       "      <th>0</th>\n",
       "      <td>1</td>\n",
       "      <td>0</td>\n",
       "    </tr>\n",
       "    <tr>\n",
       "      <th>1</th>\n",
       "      <td>1</td>\n",
       "      <td>0</td>\n",
       "    </tr>\n",
       "    <tr>\n",
       "      <th>2</th>\n",
       "      <td>0</td>\n",
       "      <td>1</td>\n",
       "    </tr>\n",
       "    <tr>\n",
       "      <th>3</th>\n",
       "      <td>0</td>\n",
       "      <td>1</td>\n",
       "    </tr>\n",
       "    <tr>\n",
       "      <th>4</th>\n",
       "      <td>0</td>\n",
       "      <td>1</td>\n",
       "    </tr>\n",
       "  </tbody>\n",
       "</table>\n",
       "</div>"
      ],
      "text/plain": [
       "   Credit  Debit\n",
       "0       1      0\n",
       "1       1      0\n",
       "2       0      1\n",
       "3       0      1\n",
       "4       0      1"
      ]
     },
     "execution_count": 18,
     "metadata": {},
     "output_type": "execute_result"
    }
   ],
   "source": [
    "# Transform the Card Type column using get_dummies()\n",
    "card_dummies = pd.get_dummies(df_shopping[\"Card Type\"])\n",
    "\n",
    "# Display sample data\n",
    "card_dummies.head()"
   ]
  },
  {
   "cell_type": "code",
   "execution_count": 19,
   "metadata": {},
   "outputs": [
    {
     "data": {
      "text/html": [
       "<div>\n",
       "<style scoped>\n",
       "    .dataframe tbody tr th:only-of-type {\n",
       "        vertical-align: middle;\n",
       "    }\n",
       "\n",
       "    .dataframe tbody tr th {\n",
       "        vertical-align: top;\n",
       "    }\n",
       "\n",
       "    .dataframe thead th {\n",
       "        text-align: right;\n",
       "    }\n",
       "</style>\n",
       "<table border=\"1\" class=\"dataframe\">\n",
       "  <thead>\n",
       "    <tr style=\"text-align: right;\">\n",
       "      <th></th>\n",
       "      <th>Age</th>\n",
       "      <th>Annual Income</th>\n",
       "      <th>Spending Score</th>\n",
       "      <th>Credit</th>\n",
       "      <th>Debit</th>\n",
       "    </tr>\n",
       "  </thead>\n",
       "  <tbody>\n",
       "    <tr>\n",
       "      <th>0</th>\n",
       "      <td>-1.424569</td>\n",
       "      <td>-1.738999</td>\n",
       "      <td>-0.434801</td>\n",
       "      <td>1</td>\n",
       "      <td>0</td>\n",
       "    </tr>\n",
       "    <tr>\n",
       "      <th>1</th>\n",
       "      <td>-1.281035</td>\n",
       "      <td>-1.738999</td>\n",
       "      <td>1.195704</td>\n",
       "      <td>1</td>\n",
       "      <td>0</td>\n",
       "    </tr>\n",
       "    <tr>\n",
       "      <th>2</th>\n",
       "      <td>-1.352802</td>\n",
       "      <td>-1.700830</td>\n",
       "      <td>-1.715913</td>\n",
       "      <td>0</td>\n",
       "      <td>1</td>\n",
       "    </tr>\n",
       "    <tr>\n",
       "      <th>3</th>\n",
       "      <td>-1.137502</td>\n",
       "      <td>-1.700830</td>\n",
       "      <td>1.040418</td>\n",
       "      <td>0</td>\n",
       "      <td>1</td>\n",
       "    </tr>\n",
       "    <tr>\n",
       "      <th>4</th>\n",
       "      <td>-0.563369</td>\n",
       "      <td>-1.662660</td>\n",
       "      <td>-0.395980</td>\n",
       "      <td>0</td>\n",
       "      <td>1</td>\n",
       "    </tr>\n",
       "  </tbody>\n",
       "</table>\n",
       "</div>"
      ],
      "text/plain": [
       "        Age  Annual Income  Spending Score  Credit  Debit\n",
       "0 -1.424569      -1.738999       -0.434801       1      0\n",
       "1 -1.281035      -1.738999        1.195704       1      0\n",
       "2 -1.352802      -1.700830       -1.715913       0      1\n",
       "3 -1.137502      -1.700830        1.040418       0      1\n",
       "4 -0.563369      -1.662660       -0.395980       0      1"
      ]
     },
     "execution_count": 19,
     "metadata": {},
     "output_type": "execute_result"
    }
   ],
   "source": [
    "# Concatenate the df_shopping_transformed and the card_dummies DataFrames\n",
    "df_shopping_transformed = pd.concat([df_shopping_transformed, card_dummies], axis=1)\n",
    "\n",
    "# Display sample data\n",
    "df_shopping_transformed.head()"
   ]
  },
  {
   "cell_type": "markdown",
   "metadata": {},
   "source": [
    "# =========================================="
   ]
  },
  {
   "cell_type": "markdown",
   "metadata": {},
   "source": [
    "### 2.04 Everyone Do: Preprocessing Data (0:15) "
   ]
  },
  {
   "cell_type": "markdown",
   "metadata": {},
   "source": []
  },
  {
   "cell_type": "code",
   "execution_count": 20,
   "metadata": {},
   "outputs": [],
   "source": [
    "# Import the required modules\n",
    "import pandas as pd\n",
    "from pathlib import Path\n",
    "import hvplot.pandas"
   ]
  },
  {
   "cell_type": "markdown",
   "metadata": {},
   "source": [
    "## Load the Credit Card Data into a Pandas DataFrame"
   ]
  },
  {
   "cell_type": "code",
   "execution_count": 21,
   "metadata": {},
   "outputs": [],
   "source": [
    "# Read in the CSV file as a Pandas Dataframe\n",
    "ccinfo_df = pd.read_csv(\n",
    "    Path(\"04-Evr_Preprocessing/Resources/cc_info_default.csv\")\n",
    ")"
   ]
  },
  {
   "cell_type": "code",
   "execution_count": 22,
   "metadata": {},
   "outputs": [
    {
     "data": {
      "text/html": [
       "<div>\n",
       "<style scoped>\n",
       "    .dataframe tbody tr th:only-of-type {\n",
       "        vertical-align: middle;\n",
       "    }\n",
       "\n",
       "    .dataframe tbody tr th {\n",
       "        vertical-align: top;\n",
       "    }\n",
       "\n",
       "    .dataframe thead th {\n",
       "        text-align: right;\n",
       "    }\n",
       "</style>\n",
       "<table border=\"1\" class=\"dataframe\">\n",
       "  <thead>\n",
       "    <tr style=\"text-align: right;\">\n",
       "      <th></th>\n",
       "      <th>limit_bal</th>\n",
       "      <th>education</th>\n",
       "      <th>marriage</th>\n",
       "      <th>age</th>\n",
       "      <th>bill_amt</th>\n",
       "      <th>pay_amt</th>\n",
       "      <th>default</th>\n",
       "    </tr>\n",
       "  </thead>\n",
       "  <tbody>\n",
       "    <tr>\n",
       "      <th>4994</th>\n",
       "      <td>20000</td>\n",
       "      <td>secondary</td>\n",
       "      <td>yes</td>\n",
       "      <td>36</td>\n",
       "      <td>110994</td>\n",
       "      <td>7293</td>\n",
       "      <td>0</td>\n",
       "    </tr>\n",
       "    <tr>\n",
       "      <th>4995</th>\n",
       "      <td>180000</td>\n",
       "      <td>other</td>\n",
       "      <td>yes</td>\n",
       "      <td>34</td>\n",
       "      <td>35240</td>\n",
       "      <td>22066</td>\n",
       "      <td>0</td>\n",
       "    </tr>\n",
       "    <tr>\n",
       "      <th>4996</th>\n",
       "      <td>200000</td>\n",
       "      <td>secondary</td>\n",
       "      <td>yes</td>\n",
       "      <td>45</td>\n",
       "      <td>691806</td>\n",
       "      <td>21443</td>\n",
       "      <td>1</td>\n",
       "    </tr>\n",
       "    <tr>\n",
       "      <th>4997</th>\n",
       "      <td>310000</td>\n",
       "      <td>post-grad</td>\n",
       "      <td>yes</td>\n",
       "      <td>44</td>\n",
       "      <td>1548067</td>\n",
       "      <td>72000</td>\n",
       "      <td>0</td>\n",
       "    </tr>\n",
       "    <tr>\n",
       "      <th>4998</th>\n",
       "      <td>160000</td>\n",
       "      <td>primary</td>\n",
       "      <td>no</td>\n",
       "      <td>40</td>\n",
       "      <td>4440</td>\n",
       "      <td>3725</td>\n",
       "      <td>0</td>\n",
       "    </tr>\n",
       "  </tbody>\n",
       "</table>\n",
       "</div>"
      ],
      "text/plain": [
       "      limit_bal  education marriage  age  bill_amt  pay_amt  default\n",
       "4994      20000  secondary      yes   36    110994     7293        0\n",
       "4995     180000      other      yes   34     35240    22066        0\n",
       "4996     200000  secondary      yes   45    691806    21443        1\n",
       "4997     310000  post-grad      yes   44   1548067    72000        0\n",
       "4998     160000    primary       no   40      4440     3725        0"
      ]
     },
     "execution_count": 22,
     "metadata": {},
     "output_type": "execute_result"
    }
   ],
   "source": [
    "# Review the DataFrame\n",
    "ccinfo_df.tail()"
   ]
  },
  {
   "cell_type": "code",
   "execution_count": 23,
   "metadata": {},
   "outputs": [
    {
     "name": "stdout",
     "output_type": "stream",
     "text": [
      "<class 'pandas.core.frame.DataFrame'>\n",
      "RangeIndex: 4999 entries, 0 to 4998\n",
      "Data columns (total 7 columns):\n",
      " #   Column     Non-Null Count  Dtype \n",
      "---  ------     --------------  ----- \n",
      " 0   limit_bal  4999 non-null   int64 \n",
      " 1   education  4999 non-null   object\n",
      " 2   marriage   4999 non-null   object\n",
      " 3   age        4999 non-null   int64 \n",
      " 4   bill_amt   4999 non-null   int64 \n",
      " 5   pay_amt    4999 non-null   int64 \n",
      " 6   default    4999 non-null   int64 \n",
      "dtypes: int64(5), object(2)\n",
      "memory usage: 273.5+ KB\n"
     ]
    }
   ],
   "source": [
    "# Review the info\n",
    "ccinfo_df.info()"
   ]
  },
  {
   "cell_type": "markdown",
   "metadata": {},
   "source": [
    "## Transform \"education\" column with get_dummies"
   ]
  },
  {
   "cell_type": "code",
   "execution_count": 24,
   "metadata": {},
   "outputs": [
    {
     "data": {
      "text/plain": [
       "secondary    2267\n",
       "primary      1862\n",
       "post-grad     822\n",
       "other          48\n",
       "Name: education, dtype: int64"
      ]
     },
     "execution_count": 24,
     "metadata": {},
     "output_type": "execute_result"
    }
   ],
   "source": [
    "# Verify the categories of the \"education\" column\n",
    "ccinfo_df[\"education\"].value_counts()"
   ]
  },
  {
   "cell_type": "code",
   "execution_count": 25,
   "metadata": {},
   "outputs": [
    {
     "data": {
      "text/html": [
       "<div>\n",
       "<style scoped>\n",
       "    .dataframe tbody tr th:only-of-type {\n",
       "        vertical-align: middle;\n",
       "    }\n",
       "\n",
       "    .dataframe tbody tr th {\n",
       "        vertical-align: top;\n",
       "    }\n",
       "\n",
       "    .dataframe thead th {\n",
       "        text-align: right;\n",
       "    }\n",
       "</style>\n",
       "<table border=\"1\" class=\"dataframe\">\n",
       "  <thead>\n",
       "    <tr style=\"text-align: right;\">\n",
       "      <th></th>\n",
       "      <th>other</th>\n",
       "      <th>post-grad</th>\n",
       "      <th>primary</th>\n",
       "      <th>secondary</th>\n",
       "    </tr>\n",
       "  </thead>\n",
       "  <tbody>\n",
       "    <tr>\n",
       "      <th>4994</th>\n",
       "      <td>0</td>\n",
       "      <td>0</td>\n",
       "      <td>0</td>\n",
       "      <td>1</td>\n",
       "    </tr>\n",
       "    <tr>\n",
       "      <th>4995</th>\n",
       "      <td>1</td>\n",
       "      <td>0</td>\n",
       "      <td>0</td>\n",
       "      <td>0</td>\n",
       "    </tr>\n",
       "    <tr>\n",
       "      <th>4996</th>\n",
       "      <td>0</td>\n",
       "      <td>0</td>\n",
       "      <td>0</td>\n",
       "      <td>1</td>\n",
       "    </tr>\n",
       "    <tr>\n",
       "      <th>4997</th>\n",
       "      <td>0</td>\n",
       "      <td>1</td>\n",
       "      <td>0</td>\n",
       "      <td>0</td>\n",
       "    </tr>\n",
       "    <tr>\n",
       "      <th>4998</th>\n",
       "      <td>0</td>\n",
       "      <td>0</td>\n",
       "      <td>1</td>\n",
       "      <td>0</td>\n",
       "    </tr>\n",
       "  </tbody>\n",
       "</table>\n",
       "</div>"
      ],
      "text/plain": [
       "      other  post-grad  primary  secondary\n",
       "4994      0          0        0          1\n",
       "4995      1          0        0          0\n",
       "4996      0          0        0          1\n",
       "4997      0          1        0          0\n",
       "4998      0          0        1          0"
      ]
     },
     "execution_count": 25,
     "metadata": {},
     "output_type": "execute_result"
    }
   ],
   "source": [
    "# Transform the education column using get_dummies\n",
    "education_dummies = pd.get_dummies(ccinfo_df[\"education\"])\n",
    "\n",
    "# Display the transformed data\n",
    "education_dummies.tail()"
   ]
  },
  {
   "cell_type": "code",
   "execution_count": 26,
   "metadata": {},
   "outputs": [
    {
     "data": {
      "text/html": [
       "<div>\n",
       "<style scoped>\n",
       "    .dataframe tbody tr th:only-of-type {\n",
       "        vertical-align: middle;\n",
       "    }\n",
       "\n",
       "    .dataframe tbody tr th {\n",
       "        vertical-align: top;\n",
       "    }\n",
       "\n",
       "    .dataframe thead th {\n",
       "        text-align: right;\n",
       "    }\n",
       "</style>\n",
       "<table border=\"1\" class=\"dataframe\">\n",
       "  <thead>\n",
       "    <tr style=\"text-align: right;\">\n",
       "      <th></th>\n",
       "      <th>limit_bal</th>\n",
       "      <th>marriage</th>\n",
       "      <th>age</th>\n",
       "      <th>bill_amt</th>\n",
       "      <th>pay_amt</th>\n",
       "      <th>default</th>\n",
       "      <th>other</th>\n",
       "      <th>post-grad</th>\n",
       "      <th>primary</th>\n",
       "      <th>secondary</th>\n",
       "    </tr>\n",
       "  </thead>\n",
       "  <tbody>\n",
       "    <tr>\n",
       "      <th>0</th>\n",
       "      <td>20000</td>\n",
       "      <td>yes</td>\n",
       "      <td>24</td>\n",
       "      <td>7704</td>\n",
       "      <td>689</td>\n",
       "      <td>1</td>\n",
       "      <td>0</td>\n",
       "      <td>0</td>\n",
       "      <td>0</td>\n",
       "      <td>1</td>\n",
       "    </tr>\n",
       "    <tr>\n",
       "      <th>1</th>\n",
       "      <td>120000</td>\n",
       "      <td>no</td>\n",
       "      <td>26</td>\n",
       "      <td>17077</td>\n",
       "      <td>5000</td>\n",
       "      <td>1</td>\n",
       "      <td>0</td>\n",
       "      <td>0</td>\n",
       "      <td>0</td>\n",
       "      <td>1</td>\n",
       "    </tr>\n",
       "    <tr>\n",
       "      <th>2</th>\n",
       "      <td>90000</td>\n",
       "      <td>no</td>\n",
       "      <td>34</td>\n",
       "      <td>101653</td>\n",
       "      <td>11018</td>\n",
       "      <td>0</td>\n",
       "      <td>0</td>\n",
       "      <td>0</td>\n",
       "      <td>0</td>\n",
       "      <td>1</td>\n",
       "    </tr>\n",
       "    <tr>\n",
       "      <th>3</th>\n",
       "      <td>50000</td>\n",
       "      <td>yes</td>\n",
       "      <td>37</td>\n",
       "      <td>231334</td>\n",
       "      <td>8388</td>\n",
       "      <td>0</td>\n",
       "      <td>0</td>\n",
       "      <td>0</td>\n",
       "      <td>0</td>\n",
       "      <td>1</td>\n",
       "    </tr>\n",
       "    <tr>\n",
       "      <th>4</th>\n",
       "      <td>50000</td>\n",
       "      <td>yes</td>\n",
       "      <td>57</td>\n",
       "      <td>109339</td>\n",
       "      <td>59049</td>\n",
       "      <td>0</td>\n",
       "      <td>0</td>\n",
       "      <td>0</td>\n",
       "      <td>0</td>\n",
       "      <td>1</td>\n",
       "    </tr>\n",
       "  </tbody>\n",
       "</table>\n",
       "</div>"
      ],
      "text/plain": [
       "   limit_bal marriage  age  bill_amt  pay_amt  default  other  post-grad  \\\n",
       "0      20000      yes   24      7704      689        1      0          0   \n",
       "1     120000       no   26     17077     5000        1      0          0   \n",
       "2      90000       no   34    101653    11018        0      0          0   \n",
       "3      50000      yes   37    231334     8388        0      0          0   \n",
       "4      50000      yes   57    109339    59049        0      0          0   \n",
       "\n",
       "   primary  secondary  \n",
       "0        0          1  \n",
       "1        0          1  \n",
       "2        0          1  \n",
       "3        0          1  \n",
       "4        0          1  "
      ]
     },
     "execution_count": 26,
     "metadata": {},
     "output_type": "execute_result"
    }
   ],
   "source": [
    "# Concatenate the df_shopping_transformed and the card_dummies DataFrames\n",
    "ccinfo_df = pd.concat([ccinfo_df, education_dummies], axis=1)\n",
    "\n",
    "# Drop the original education column\n",
    "ccinfo_df = ccinfo_df.drop(columns=[\"education\"])\n",
    "\n",
    "# Display the DataFrame\n",
    "ccinfo_df.head()"
   ]
  },
  {
   "cell_type": "markdown",
   "metadata": {},
   "source": [
    "## Transform \"marriage\" column with encoding function"
   ]
  },
  {
   "cell_type": "code",
   "execution_count": 27,
   "metadata": {},
   "outputs": [
    {
     "data": {
      "text/html": [
       "<div>\n",
       "<style scoped>\n",
       "    .dataframe tbody tr th:only-of-type {\n",
       "        vertical-align: middle;\n",
       "    }\n",
       "\n",
       "    .dataframe tbody tr th {\n",
       "        vertical-align: top;\n",
       "    }\n",
       "\n",
       "    .dataframe thead th {\n",
       "        text-align: right;\n",
       "    }\n",
       "</style>\n",
       "<table border=\"1\" class=\"dataframe\">\n",
       "  <thead>\n",
       "    <tr style=\"text-align: right;\">\n",
       "      <th></th>\n",
       "      <th>limit_bal</th>\n",
       "      <th>marriage</th>\n",
       "      <th>age</th>\n",
       "      <th>bill_amt</th>\n",
       "      <th>pay_amt</th>\n",
       "      <th>default</th>\n",
       "      <th>other</th>\n",
       "      <th>post-grad</th>\n",
       "      <th>primary</th>\n",
       "      <th>secondary</th>\n",
       "    </tr>\n",
       "  </thead>\n",
       "  <tbody>\n",
       "    <tr>\n",
       "      <th>0</th>\n",
       "      <td>20000</td>\n",
       "      <td>1</td>\n",
       "      <td>24</td>\n",
       "      <td>7704</td>\n",
       "      <td>689</td>\n",
       "      <td>1</td>\n",
       "      <td>0</td>\n",
       "      <td>0</td>\n",
       "      <td>0</td>\n",
       "      <td>1</td>\n",
       "    </tr>\n",
       "    <tr>\n",
       "      <th>1</th>\n",
       "      <td>120000</td>\n",
       "      <td>0</td>\n",
       "      <td>26</td>\n",
       "      <td>17077</td>\n",
       "      <td>5000</td>\n",
       "      <td>1</td>\n",
       "      <td>0</td>\n",
       "      <td>0</td>\n",
       "      <td>0</td>\n",
       "      <td>1</td>\n",
       "    </tr>\n",
       "    <tr>\n",
       "      <th>2</th>\n",
       "      <td>90000</td>\n",
       "      <td>0</td>\n",
       "      <td>34</td>\n",
       "      <td>101653</td>\n",
       "      <td>11018</td>\n",
       "      <td>0</td>\n",
       "      <td>0</td>\n",
       "      <td>0</td>\n",
       "      <td>0</td>\n",
       "      <td>1</td>\n",
       "    </tr>\n",
       "    <tr>\n",
       "      <th>3</th>\n",
       "      <td>50000</td>\n",
       "      <td>1</td>\n",
       "      <td>37</td>\n",
       "      <td>231334</td>\n",
       "      <td>8388</td>\n",
       "      <td>0</td>\n",
       "      <td>0</td>\n",
       "      <td>0</td>\n",
       "      <td>0</td>\n",
       "      <td>1</td>\n",
       "    </tr>\n",
       "    <tr>\n",
       "      <th>4</th>\n",
       "      <td>50000</td>\n",
       "      <td>1</td>\n",
       "      <td>57</td>\n",
       "      <td>109339</td>\n",
       "      <td>59049</td>\n",
       "      <td>0</td>\n",
       "      <td>0</td>\n",
       "      <td>0</td>\n",
       "      <td>0</td>\n",
       "      <td>1</td>\n",
       "    </tr>\n",
       "  </tbody>\n",
       "</table>\n",
       "</div>"
      ],
      "text/plain": [
       "   limit_bal  marriage  age  bill_amt  pay_amt  default  other  post-grad  \\\n",
       "0      20000         1   24      7704      689        1      0          0   \n",
       "1     120000         0   26     17077     5000        1      0          0   \n",
       "2      90000         0   34    101653    11018        0      0          0   \n",
       "3      50000         1   37    231334     8388        0      0          0   \n",
       "4      50000         1   57    109339    59049        0      0          0   \n",
       "\n",
       "   primary  secondary  \n",
       "0        0          1  \n",
       "1        0          1  \n",
       "2        0          1  \n",
       "3        0          1  \n",
       "4        0          1  "
      ]
     },
     "execution_count": 27,
     "metadata": {},
     "output_type": "execute_result"
    }
   ],
   "source": [
    "# Encoding the marriage column using a custom function\n",
    "def encode_marriage(marriage):\n",
    "    \"\"\"\n",
    "    This function encodes marital status by setting yes as 1 and no as 0.\n",
    "    \"\"\"\n",
    "    if marriage == \"yes\":\n",
    "        return 1\n",
    "    else:\n",
    "        return 0\n",
    "\n",
    "# Call the encode_marriage function on the marriage column\n",
    "ccinfo_df[\"marriage\"] = ccinfo_df[\"marriage\"].apply(encode_marriage)\n",
    "\n",
    "# Review the DataFrame \n",
    "ccinfo_df.head()"
   ]
  },
  {
   "cell_type": "markdown",
   "metadata": {},
   "source": [
    "## Apply the Standard Scaler to \"limit_bal\", \"bill_amt\", \"pay_amt\""
   ]
  },
  {
   "cell_type": "code",
   "execution_count": 28,
   "metadata": {},
   "outputs": [],
   "source": [
    "# Import the module\n",
    "from sklearn.preprocessing import StandardScaler"
   ]
  },
  {
   "cell_type": "code",
   "execution_count": 29,
   "metadata": {},
   "outputs": [
    {
     "data": {
      "text/plain": [
       "array([[-1.1173411 , -0.66070266, -0.5427793 ],\n",
       "       [-0.3499424 , -0.63637003, -0.46399421],\n",
       "       [-0.58016201, -0.41680786, -0.35401308],\n",
       "       ...,\n",
       "       [ 0.26397655,  1.1152494 , -0.16349243],\n",
       "       [ 1.10811512,  3.33813208,  0.76045505],\n",
       "       [-0.04298292, -0.66917611, -0.4872953 ]])"
      ]
     },
     "execution_count": 29,
     "metadata": {},
     "output_type": "execute_result"
    }
   ],
   "source": [
    "# Scaling the numeric columns\n",
    "ccinfo_data_scaled = StandardScaler().fit_transform(ccinfo_df[[\"limit_bal\", \"bill_amt\", \"pay_amt\"]])\n",
    "\n",
    "# Review the scaled data\n",
    "ccinfo_data_scaled"
   ]
  },
  {
   "cell_type": "code",
   "execution_count": 30,
   "metadata": {},
   "outputs": [
    {
     "data": {
      "text/html": [
       "<div>\n",
       "<style scoped>\n",
       "    .dataframe tbody tr th:only-of-type {\n",
       "        vertical-align: middle;\n",
       "    }\n",
       "\n",
       "    .dataframe tbody tr th {\n",
       "        vertical-align: top;\n",
       "    }\n",
       "\n",
       "    .dataframe thead th {\n",
       "        text-align: right;\n",
       "    }\n",
       "</style>\n",
       "<table border=\"1\" class=\"dataframe\">\n",
       "  <thead>\n",
       "    <tr style=\"text-align: right;\">\n",
       "      <th></th>\n",
       "      <th>limit_bal</th>\n",
       "      <th>marriage</th>\n",
       "      <th>age</th>\n",
       "      <th>bill_amt</th>\n",
       "      <th>pay_amt</th>\n",
       "      <th>default</th>\n",
       "      <th>other</th>\n",
       "      <th>post-grad</th>\n",
       "      <th>primary</th>\n",
       "      <th>secondary</th>\n",
       "    </tr>\n",
       "  </thead>\n",
       "  <tbody>\n",
       "    <tr>\n",
       "      <th>0</th>\n",
       "      <td>-1.117341</td>\n",
       "      <td>1</td>\n",
       "      <td>24</td>\n",
       "      <td>-0.660703</td>\n",
       "      <td>-0.542779</td>\n",
       "      <td>1</td>\n",
       "      <td>0</td>\n",
       "      <td>0</td>\n",
       "      <td>0</td>\n",
       "      <td>1</td>\n",
       "    </tr>\n",
       "    <tr>\n",
       "      <th>1</th>\n",
       "      <td>-0.349942</td>\n",
       "      <td>0</td>\n",
       "      <td>26</td>\n",
       "      <td>-0.636370</td>\n",
       "      <td>-0.463994</td>\n",
       "      <td>1</td>\n",
       "      <td>0</td>\n",
       "      <td>0</td>\n",
       "      <td>0</td>\n",
       "      <td>1</td>\n",
       "    </tr>\n",
       "    <tr>\n",
       "      <th>2</th>\n",
       "      <td>-0.580162</td>\n",
       "      <td>0</td>\n",
       "      <td>34</td>\n",
       "      <td>-0.416808</td>\n",
       "      <td>-0.354013</td>\n",
       "      <td>0</td>\n",
       "      <td>0</td>\n",
       "      <td>0</td>\n",
       "      <td>0</td>\n",
       "      <td>1</td>\n",
       "    </tr>\n",
       "    <tr>\n",
       "      <th>3</th>\n",
       "      <td>-0.887121</td>\n",
       "      <td>1</td>\n",
       "      <td>37</td>\n",
       "      <td>-0.080152</td>\n",
       "      <td>-0.402077</td>\n",
       "      <td>0</td>\n",
       "      <td>0</td>\n",
       "      <td>0</td>\n",
       "      <td>0</td>\n",
       "      <td>1</td>\n",
       "    </tr>\n",
       "    <tr>\n",
       "      <th>4</th>\n",
       "      <td>-0.887121</td>\n",
       "      <td>1</td>\n",
       "      <td>57</td>\n",
       "      <td>-0.396855</td>\n",
       "      <td>0.523771</td>\n",
       "      <td>0</td>\n",
       "      <td>0</td>\n",
       "      <td>0</td>\n",
       "      <td>0</td>\n",
       "      <td>1</td>\n",
       "    </tr>\n",
       "  </tbody>\n",
       "</table>\n",
       "</div>"
      ],
      "text/plain": [
       "   limit_bal  marriage  age  bill_amt   pay_amt  default  other  post-grad  \\\n",
       "0  -1.117341         1   24 -0.660703 -0.542779        1      0          0   \n",
       "1  -0.349942         0   26 -0.636370 -0.463994        1      0          0   \n",
       "2  -0.580162         0   34 -0.416808 -0.354013        0      0          0   \n",
       "3  -0.887121         1   37 -0.080152 -0.402077        0      0          0   \n",
       "4  -0.887121         1   57 -0.396855  0.523771        0      0          0   \n",
       "\n",
       "   primary  secondary  \n",
       "0        0          1  \n",
       "1        0          1  \n",
       "2        0          1  \n",
       "3        0          1  \n",
       "4        0          1  "
      ]
     },
     "execution_count": 30,
     "metadata": {},
     "output_type": "execute_result"
    }
   ],
   "source": [
    "# Create a DataFrame of the scaled data\n",
    "ccinfo_data_scaled = pd.DataFrame(ccinfo_data_scaled, columns=[\"limit_bal\", \"bill_amt\", \"pay_amt\"])\n",
    "\n",
    "# Replace the original data with the columns of information from the scaled Data\n",
    "ccinfo_df[\"limit_bal\"] = ccinfo_data_scaled[\"limit_bal\"]\n",
    "ccinfo_df[\"bill_amt\"] = ccinfo_data_scaled[\"bill_amt\"]\n",
    "ccinfo_df[\"pay_amt\"] = ccinfo_data_scaled[\"pay_amt\"]\n",
    "\n",
    "# Review the DataFrame\n",
    "ccinfo_df.head()"
   ]
  },
  {
   "cell_type": "markdown",
   "metadata": {},
   "source": [
    "## Elbow Method to find k"
   ]
  },
  {
   "cell_type": "code",
   "execution_count": 31,
   "metadata": {},
   "outputs": [],
   "source": [
    "# Import the KMeans module from SKLearn\n",
    "from sklearn.cluster import KMeans"
   ]
  },
  {
   "cell_type": "code",
   "execution_count": 32,
   "metadata": {},
   "outputs": [],
   "source": [
    "# Create a a list to store inertia values and the values of k\n",
    "inertia = []\n",
    "k = list(range(1, 11))"
   ]
  },
  {
   "cell_type": "code",
   "execution_count": 33,
   "metadata": {},
   "outputs": [],
   "source": [
    "# Create a for-loop where each value of k is evaluated using the K-means algorithm\n",
    "# Fit the model using the service_ratings DataFrame\n",
    "# Append the value of the computed inertia from the `inertia_` attribute of the KMeans model instance\n",
    "for i in k:\n",
    "    k_model = KMeans(n_clusters=i, random_state=0)\n",
    "    k_model.fit(ccinfo_df)\n",
    "    inertia.append(k_model.inertia_)\n",
    "    "
   ]
  },
  {
   "cell_type": "code",
   "execution_count": 34,
   "metadata": {},
   "outputs": [
    {
     "data": {
      "text/html": [
       "<div>\n",
       "<style scoped>\n",
       "    .dataframe tbody tr th:only-of-type {\n",
       "        vertical-align: middle;\n",
       "    }\n",
       "\n",
       "    .dataframe tbody tr th {\n",
       "        vertical-align: top;\n",
       "    }\n",
       "\n",
       "    .dataframe thead th {\n",
       "        text-align: right;\n",
       "    }\n",
       "</style>\n",
       "<table border=\"1\" class=\"dataframe\">\n",
       "  <thead>\n",
       "    <tr style=\"text-align: right;\">\n",
       "      <th></th>\n",
       "      <th>k</th>\n",
       "      <th>inertia</th>\n",
       "    </tr>\n",
       "  </thead>\n",
       "  <tbody>\n",
       "    <tr>\n",
       "      <th>0</th>\n",
       "      <td>1</td>\n",
       "      <td>449413.376075</td>\n",
       "    </tr>\n",
       "    <tr>\n",
       "      <th>1</th>\n",
       "      <td>2</td>\n",
       "      <td>152036.470987</td>\n",
       "    </tr>\n",
       "    <tr>\n",
       "      <th>2</th>\n",
       "      <td>3</td>\n",
       "      <td>83362.744848</td>\n",
       "    </tr>\n",
       "    <tr>\n",
       "      <th>3</th>\n",
       "      <td>4</td>\n",
       "      <td>58548.383261</td>\n",
       "    </tr>\n",
       "    <tr>\n",
       "      <th>4</th>\n",
       "      <td>5</td>\n",
       "      <td>45451.282971</td>\n",
       "    </tr>\n",
       "  </tbody>\n",
       "</table>\n",
       "</div>"
      ],
      "text/plain": [
       "   k        inertia\n",
       "0  1  449413.376075\n",
       "1  2  152036.470987\n",
       "2  3   83362.744848\n",
       "3  4   58548.383261\n",
       "4  5   45451.282971"
      ]
     },
     "execution_count": 34,
     "metadata": {},
     "output_type": "execute_result"
    }
   ],
   "source": [
    "# Define a DataFrame to hold the values for k and the corresponding inertia\n",
    "elbow_data = {\"k\": k, \"inertia\": inertia}\n",
    "df_elbow = pd.DataFrame(elbow_data)\n",
    "\n",
    "# Review the DataFrame\n",
    "df_elbow.head()"
   ]
  },
  {
   "cell_type": "code",
   "execution_count": 35,
   "metadata": {
    "scrolled": true
   },
   "outputs": [
    {
     "data": {},
     "metadata": {},
     "output_type": "display_data"
    },
    {
     "data": {
      "application/vnd.holoviews_exec.v0+json": "",
      "text/html": [
       "<div id='1646'>\n",
       "  <div class=\"bk-root\" id=\"3b60e93a-58d9-4d48-808f-15ddbfe8de5d\" data-root-id=\"1646\"></div>\n",
       "</div>\n",
       "<script type=\"application/javascript\">(function(root) {\n",
       "  function embed_document(root) {\n",
       "    var docs_json = {\"b2ac39b8-001f-4427-96b3-4cb4e92a11b3\":{\"defs\":[{\"extends\":null,\"module\":null,\"name\":\"ReactiveHTML1\",\"overrides\":[],\"properties\":[]},{\"extends\":null,\"module\":null,\"name\":\"FlexBox1\",\"overrides\":[],\"properties\":[{\"default\":\"flex-start\",\"kind\":null,\"name\":\"align_content\"},{\"default\":\"flex-start\",\"kind\":null,\"name\":\"align_items\"},{\"default\":\"row\",\"kind\":null,\"name\":\"flex_direction\"},{\"default\":\"wrap\",\"kind\":null,\"name\":\"flex_wrap\"},{\"default\":\"flex-start\",\"kind\":null,\"name\":\"justify_content\"}]},{\"extends\":null,\"module\":null,\"name\":\"GridStack1\",\"overrides\":[],\"properties\":[{\"default\":\"warn\",\"kind\":null,\"name\":\"mode\"},{\"default\":null,\"kind\":null,\"name\":\"ncols\"},{\"default\":null,\"kind\":null,\"name\":\"nrows\"},{\"default\":true,\"kind\":null,\"name\":\"allow_resize\"},{\"default\":true,\"kind\":null,\"name\":\"allow_drag\"},{\"default\":[],\"kind\":null,\"name\":\"state\"}]},{\"extends\":null,\"module\":null,\"name\":\"click1\",\"overrides\":[],\"properties\":[{\"default\":\"\",\"kind\":null,\"name\":\"terminal_output\"},{\"default\":\"\",\"kind\":null,\"name\":\"debug_name\"},{\"default\":0,\"kind\":null,\"name\":\"clears\"}]},{\"extends\":null,\"module\":null,\"name\":\"NotificationAreaBase1\",\"overrides\":[],\"properties\":[{\"default\":\"bottom-right\",\"kind\":null,\"name\":\"position\"},{\"default\":0,\"kind\":null,\"name\":\"_clear\"}]},{\"extends\":null,\"module\":null,\"name\":\"NotificationArea1\",\"overrides\":[],\"properties\":[{\"default\":[],\"kind\":null,\"name\":\"notifications\"},{\"default\":\"bottom-right\",\"kind\":null,\"name\":\"position\"},{\"default\":0,\"kind\":null,\"name\":\"_clear\"},{\"default\":[{\"background\":\"#ffc107\",\"icon\":{\"className\":\"fas fa-exclamation-triangle\",\"color\":\"white\",\"tagName\":\"i\"},\"type\":\"warning\"},{\"background\":\"#007bff\",\"icon\":{\"className\":\"fas fa-info-circle\",\"color\":\"white\",\"tagName\":\"i\"},\"type\":\"info\"}],\"kind\":null,\"name\":\"types\"}]},{\"extends\":null,\"module\":null,\"name\":\"Notification\",\"overrides\":[],\"properties\":[{\"default\":null,\"kind\":null,\"name\":\"background\"},{\"default\":3000,\"kind\":null,\"name\":\"duration\"},{\"default\":null,\"kind\":null,\"name\":\"icon\"},{\"default\":\"\",\"kind\":null,\"name\":\"message\"},{\"default\":null,\"kind\":null,\"name\":\"notification_type\"},{\"default\":false,\"kind\":null,\"name\":\"_destroyed\"}]},{\"extends\":null,\"module\":null,\"name\":\"TemplateActions1\",\"overrides\":[],\"properties\":[{\"default\":0,\"kind\":null,\"name\":\"open_modal\"},{\"default\":0,\"kind\":null,\"name\":\"close_modal\"}]},{\"extends\":null,\"module\":null,\"name\":\"MaterialTemplateActions1\",\"overrides\":[],\"properties\":[{\"default\":0,\"kind\":null,\"name\":\"open_modal\"},{\"default\":0,\"kind\":null,\"name\":\"close_modal\"}]}],\"roots\":{\"references\":[{\"attributes\":{\"ticks\":[1,2,3,4,5,6,7,8,9,10]},\"id\":\"1689\",\"type\":\"FixedTicker\"},{\"attributes\":{\"active_drag\":{\"id\":\"1668\"},\"active_scroll\":{\"id\":\"1669\"},\"tools\":[{\"id\":\"1649\"},{\"id\":\"1667\"},{\"id\":\"1668\"},{\"id\":\"1669\"},{\"id\":\"1670\"},{\"id\":\"1671\"}]},\"id\":\"1673\",\"type\":\"Toolbar\"},{\"attributes\":{},\"id\":\"1697\",\"type\":\"AllLabels\"},{\"attributes\":{\"data\":{\"inertia\":{\"__ndarray__\":\"dNwZgRVuG0EvypTEI48CQas85eorWvRANX6tQ4yW7EC7XxkOaTHmQP/RMBVxZuJAB4X5jpAa4EBKOyD+EFHdQD4UmLyGONtAofWzFkmS2UA=\",\"dtype\":\"float64\",\"order\":\"little\",\"shape\":[10]},\"k\":[1,2,3,4,5,6,7,8,9,10]},\"selected\":{\"id\":\"1681\"},\"selection_policy\":{\"id\":\"1708\"}},\"id\":\"1680\",\"type\":\"ColumnDataSource\"},{\"attributes\":{\"bottom_units\":\"screen\",\"coordinates\":null,\"fill_alpha\":0.5,\"fill_color\":\"lightgrey\",\"group\":null,\"left_units\":\"screen\",\"level\":\"overlay\",\"line_alpha\":1.0,\"line_color\":\"black\",\"line_dash\":[4,4],\"line_width\":2,\"right_units\":\"screen\",\"syncable\":false,\"top_units\":\"screen\"},\"id\":\"1672\",\"type\":\"BoxAnnotation\"},{\"attributes\":{},\"id\":\"1667\",\"type\":\"SaveTool\"},{\"attributes\":{\"line_alpha\":0.1,\"line_color\":\"#30a2da\",\"line_width\":2,\"tags\":[\"apply_ranges\"],\"x\":{\"field\":\"k\"},\"y\":{\"field\":\"inertia\"}},\"id\":\"1684\",\"type\":\"Line\"},{\"attributes\":{},\"id\":\"1668\",\"type\":\"PanTool\"},{\"attributes\":{\"source\":{\"id\":\"1680\"}},\"id\":\"1687\",\"type\":\"CDSView\"},{\"attributes\":{},\"id\":\"1671\",\"type\":\"ResetTool\"},{\"attributes\":{},\"id\":\"1669\",\"type\":\"WheelZoomTool\"},{\"attributes\":{},\"id\":\"1708\",\"type\":\"UnionRenderers\"},{\"attributes\":{\"coordinates\":null,\"data_source\":{\"id\":\"1680\"},\"glyph\":{\"id\":\"1683\"},\"group\":null,\"hover_glyph\":null,\"muted_glyph\":{\"id\":\"1685\"},\"nonselection_glyph\":{\"id\":\"1684\"},\"selection_glyph\":{\"id\":\"1688\"},\"view\":{\"id\":\"1687\"}},\"id\":\"1686\",\"type\":\"GlyphRenderer\"},{\"attributes\":{\"end\":10.0,\"reset_end\":10.0,\"reset_start\":1.0,\"start\":1.0,\"tags\":[[[\"k\",\"k\",null]]]},\"id\":\"1647\",\"type\":\"Range1d\"},{\"attributes\":{\"callback\":null,\"renderers\":[{\"id\":\"1686\"}],\"tags\":[\"hv_created\"],\"tooltips\":[[\"k\",\"@{k}\"],[\"inertia\",\"@{inertia}\"]]},\"id\":\"1649\",\"type\":\"HoverTool\"},{\"attributes\":{\"overlay\":{\"id\":\"1672\"}},\"id\":\"1670\",\"type\":\"BoxZoomTool\"},{\"attributes\":{},\"id\":\"1681\",\"type\":\"Selection\"},{\"attributes\":{\"axis\":{\"id\":\"1659\"},\"coordinates\":null,\"grid_line_color\":null,\"group\":null,\"ticker\":null},\"id\":\"1662\",\"type\":\"Grid\"},{\"attributes\":{},\"id\":\"1664\",\"type\":\"BasicTicker\"},{\"attributes\":{\"coordinates\":null,\"group\":null,\"text\":\"Elbow Curve\",\"text_color\":\"black\",\"text_font_size\":\"12pt\"},\"id\":\"1651\",\"type\":\"Title\"},{\"attributes\":{\"line_color\":\"#30a2da\",\"line_width\":2,\"tags\":[\"apply_ranges\"],\"x\":{\"field\":\"k\"},\"y\":{\"field\":\"inertia\"}},\"id\":\"1688\",\"type\":\"Line\"},{\"attributes\":{\"below\":[{\"id\":\"1659\"}],\"center\":[{\"id\":\"1662\"},{\"id\":\"1666\"}],\"height\":300,\"left\":[{\"id\":\"1663\"}],\"margin\":[5,5,5,5],\"min_border_bottom\":10,\"min_border_left\":10,\"min_border_right\":10,\"min_border_top\":10,\"output_backend\":\"webgl\",\"renderers\":[{\"id\":\"1686\"}],\"sizing_mode\":\"fixed\",\"title\":{\"id\":\"1651\"},\"toolbar\":{\"id\":\"1673\"},\"width\":700,\"x_range\":{\"id\":\"1647\"},\"x_scale\":{\"id\":\"1655\"},\"y_range\":{\"id\":\"1648\"},\"y_scale\":{\"id\":\"1657\"}},\"id\":\"1650\",\"subtype\":\"Figure\",\"type\":\"Plot\"},{\"attributes\":{},\"id\":\"1657\",\"type\":\"LinearScale\"},{\"attributes\":{\"axis_label\":\"inertia\",\"coordinates\":null,\"formatter\":{\"id\":\"1696\"},\"group\":null,\"major_label_policy\":{\"id\":\"1697\"},\"ticker\":{\"id\":\"1664\"}},\"id\":\"1663\",\"type\":\"LinearAxis\"},{\"attributes\":{\"axis_label\":\"k\",\"coordinates\":null,\"formatter\":{\"id\":\"1691\"},\"group\":null,\"major_label_policy\":{\"id\":\"1692\"},\"ticker\":{\"id\":\"1689\"}},\"id\":\"1659\",\"type\":\"LinearAxis\"},{\"attributes\":{\"end\":491736.19948166853,\"reset_end\":491736.19948166853,\"reset_start\":-16137.681395774463,\"start\":-16137.681395774463,\"tags\":[[[\"inertia\",\"inertia\",null]]]},\"id\":\"1648\",\"type\":\"Range1d\"},{\"attributes\":{},\"id\":\"1696\",\"type\":\"BasicTickFormatter\"},{\"attributes\":{\"line_color\":\"#30a2da\",\"line_width\":2,\"tags\":[\"apply_ranges\"],\"x\":{\"field\":\"k\"},\"y\":{\"field\":\"inertia\"}},\"id\":\"1683\",\"type\":\"Line\"},{\"attributes\":{\"axis\":{\"id\":\"1663\"},\"coordinates\":null,\"dimension\":1,\"grid_line_color\":null,\"group\":null,\"ticker\":null},\"id\":\"1666\",\"type\":\"Grid\"},{\"attributes\":{},\"id\":\"1692\",\"type\":\"AllLabels\"},{\"attributes\":{},\"id\":\"1655\",\"type\":\"LinearScale\"},{\"attributes\":{\"children\":[{\"id\":\"1650\"}],\"height\":300,\"margin\":[0,0,0,0],\"name\":\"Row01502\",\"sizing_mode\":\"fixed\",\"tags\":[\"embedded\"],\"width\":700},\"id\":\"1646\",\"type\":\"Row\"},{\"attributes\":{},\"id\":\"1691\",\"type\":\"BasicTickFormatter\"},{\"attributes\":{\"line_alpha\":0.2,\"line_color\":\"#30a2da\",\"line_width\":2,\"tags\":[\"apply_ranges\"],\"x\":{\"field\":\"k\"},\"y\":{\"field\":\"inertia\"}},\"id\":\"1685\",\"type\":\"Line\"}],\"root_ids\":[\"1646\"]},\"title\":\"Bokeh Application\",\"version\":\"2.4.3\"}};\n",
       "    var render_items = [{\"docid\":\"b2ac39b8-001f-4427-96b3-4cb4e92a11b3\",\"root_ids\":[\"1646\"],\"roots\":{\"1646\":\"3b60e93a-58d9-4d48-808f-15ddbfe8de5d\"}}];\n",
       "    root.Bokeh.embed.embed_items_notebook(docs_json, render_items);\n",
       "    for (const render_item of render_items) {\n",
       "      for (const root_id of render_item.root_ids) {\n",
       "\tconst id_el = document.getElementById(root_id)\n",
       "\tif (id_el.children.length && (id_el.children[0].className === 'bk-root')) {\n",
       "\t  const root_el = id_el.children[0]\n",
       "\t  root_el.id = root_el.id + '-rendered'\n",
       "\t}\n",
       "      }\n",
       "    }\n",
       "  }\n",
       "  if (root.Bokeh !== undefined && root.Bokeh.Panel !== undefined) {\n",
       "    embed_document(root);\n",
       "  } else {\n",
       "    var attempts = 0;\n",
       "    var timer = setInterval(function(root) {\n",
       "      if (root.Bokeh !== undefined && root.Bokeh.Panel !== undefined) {\n",
       "        clearInterval(timer);\n",
       "        embed_document(root);\n",
       "      } else if (document.readyState == \"complete\") {\n",
       "        attempts++;\n",
       "        if (attempts > 200) {\n",
       "          clearInterval(timer);\n",
       "          console.log(\"Bokeh: ERROR: Unable to run BokehJS code because BokehJS library is missing\");\n",
       "        }\n",
       "      }\n",
       "    }, 25, root)\n",
       "  }\n",
       "})(window);</script>"
      ],
      "text/plain": [
       ":Curve   [k]   (inertia)"
      ]
     },
     "execution_count": 35,
     "metadata": {
      "application/vnd.holoviews_exec.v0+json": {
       "id": "1646"
      }
     },
     "output_type": "execute_result"
    }
   ],
   "source": [
    "# Plot the DataFrame\n",
    "df_elbow.hvplot.line(\n",
    "    x=\"k\", \n",
    "    y=\"inertia\", \n",
    "    title=\"Elbow Curve\", \n",
    "    xticks=k\n",
    ")"
   ]
  },
  {
   "cell_type": "markdown",
   "metadata": {},
   "source": [
    "## Kmeans algo to cluster data"
   ]
  },
  {
   "cell_type": "code",
   "execution_count": 36,
   "metadata": {},
   "outputs": [],
   "source": [
    "# Define the model with 3 clusters\n",
    "model = KMeans(n_clusters=3, random_state=3)\n",
    "\n",
    "# Fit the model\n",
    "model.fit(ccinfo_df)\n",
    "\n",
    "# Make predictions\n",
    "k_3 = model.predict(ccinfo_df)\n",
    "\n",
    "# Create a copy of the preprocessed data\n",
    "ccinfo_predictions_df = ccinfo_df.copy()\n",
    "\n",
    "# Add a class column with the labels\n",
    "ccinfo_predictions_df['customer_segments'] = k_3"
   ]
  },
  {
   "cell_type": "code",
   "execution_count": 37,
   "metadata": {
    "scrolled": true
   },
   "outputs": [
    {
     "data": {},
     "metadata": {},
     "output_type": "display_data"
    },
    {
     "data": {
      "application/vnd.holoviews_exec.v0+json": "",
      "text/html": [
       "<div id='1757'>\n",
       "  <div class=\"bk-root\" id=\"eb62d0a0-a192-44c5-8189-4764dc05a05c\" data-root-id=\"1757\"></div>\n",
       "</div>\n",
       "<script type=\"application/javascript\">(function(root) {\n",
       "  function embed_document(root) {\n",
       "    var docs_json = {\"397e1beb-38cf-4ae8-92de-1485f7785c32\":{\"defs\":[{\"extends\":null,\"module\":null,\"name\":\"ReactiveHTML1\",\"overrides\":[],\"properties\":[]},{\"extends\":null,\"module\":null,\"name\":\"FlexBox1\",\"overrides\":[],\"properties\":[{\"default\":\"flex-start\",\"kind\":null,\"name\":\"align_content\"},{\"default\":\"flex-start\",\"kind\":null,\"name\":\"align_items\"},{\"default\":\"row\",\"kind\":null,\"name\":\"flex_direction\"},{\"default\":\"wrap\",\"kind\":null,\"name\":\"flex_wrap\"},{\"default\":\"flex-start\",\"kind\":null,\"name\":\"justify_content\"}]},{\"extends\":null,\"module\":null,\"name\":\"GridStack1\",\"overrides\":[],\"properties\":[{\"default\":\"warn\",\"kind\":null,\"name\":\"mode\"},{\"default\":null,\"kind\":null,\"name\":\"ncols\"},{\"default\":null,\"kind\":null,\"name\":\"nrows\"},{\"default\":true,\"kind\":null,\"name\":\"allow_resize\"},{\"default\":true,\"kind\":null,\"name\":\"allow_drag\"},{\"default\":[],\"kind\":null,\"name\":\"state\"}]},{\"extends\":null,\"module\":null,\"name\":\"click1\",\"overrides\":[],\"properties\":[{\"default\":\"\",\"kind\":null,\"name\":\"terminal_output\"},{\"default\":\"\",\"kind\":null,\"name\":\"debug_name\"},{\"default\":0,\"kind\":null,\"name\":\"clears\"}]},{\"extends\":null,\"module\":null,\"name\":\"NotificationAreaBase1\",\"overrides\":[],\"properties\":[{\"default\":\"bottom-right\",\"kind\":null,\"name\":\"position\"},{\"default\":0,\"kind\":null,\"name\":\"_clear\"}]},{\"extends\":null,\"module\":null,\"name\":\"NotificationArea1\",\"overrides\":[],\"properties\":[{\"default\":[],\"kind\":null,\"name\":\"notifications\"},{\"default\":\"bottom-right\",\"kind\":null,\"name\":\"position\"},{\"default\":0,\"kind\":null,\"name\":\"_clear\"},{\"default\":[{\"background\":\"#ffc107\",\"icon\":{\"className\":\"fas fa-exclamation-triangle\",\"color\":\"white\",\"tagName\":\"i\"},\"type\":\"warning\"},{\"background\":\"#007bff\",\"icon\":{\"className\":\"fas fa-info-circle\",\"color\":\"white\",\"tagName\":\"i\"},\"type\":\"info\"}],\"kind\":null,\"name\":\"types\"}]},{\"extends\":null,\"module\":null,\"name\":\"Notification\",\"overrides\":[],\"properties\":[{\"default\":null,\"kind\":null,\"name\":\"background\"},{\"default\":3000,\"kind\":null,\"name\":\"duration\"},{\"default\":null,\"kind\":null,\"name\":\"icon\"},{\"default\":\"\",\"kind\":null,\"name\":\"message\"},{\"default\":null,\"kind\":null,\"name\":\"notification_type\"},{\"default\":false,\"kind\":null,\"name\":\"_destroyed\"}]},{\"extends\":null,\"module\":null,\"name\":\"TemplateActions1\",\"overrides\":[],\"properties\":[{\"default\":0,\"kind\":null,\"name\":\"open_modal\"},{\"default\":0,\"kind\":null,\"name\":\"close_modal\"}]},{\"extends\":null,\"module\":null,\"name\":\"MaterialTemplateActions1\",\"overrides\":[],\"properties\":[{\"default\":0,\"kind\":null,\"name\":\"open_modal\"},{\"default\":0,\"kind\":null,\"name\":\"close_modal\"}]}],\"roots\":{\"references\":[{\"attributes\":{\"fill_alpha\":{\"value\":0.1},\"fill_color\":{\"value\":\"#fc4f30\"},\"hatch_alpha\":{\"value\":0.1},\"hatch_color\":{\"value\":\"#fc4f30\"},\"line_alpha\":{\"value\":0.1},\"line_color\":{\"value\":\"#fc4f30\"},\"size\":{\"value\":5.477225575051661},\"tags\":[\"apply_ranges\"],\"x\":{\"field\":\"limit_bal\"},\"y\":{\"field\":\"age\"}},\"id\":\"1824\",\"type\":\"Scatter\"},{\"attributes\":{\"source\":{\"id\":\"1842\"}},\"id\":\"1849\",\"type\":\"CDSView\"},{\"attributes\":{\"coordinates\":null,\"data_source\":{\"id\":\"1799\"},\"glyph\":{\"id\":\"1802\"},\"group\":null,\"hover_glyph\":null,\"muted_glyph\":{\"id\":\"1804\"},\"nonselection_glyph\":{\"id\":\"1803\"},\"selection_glyph\":{\"id\":\"1819\"},\"view\":{\"id\":\"1806\"}},\"id\":\"1805\",\"type\":\"GlyphRenderer\"},{\"attributes\":{\"axis\":{\"id\":\"1776\"},\"coordinates\":null,\"dimension\":1,\"grid_line_color\":null,\"group\":null,\"ticker\":null},\"id\":\"1779\",\"type\":\"Grid\"},{\"attributes\":{\"label\":{\"value\":\"2\"},\"renderers\":[{\"id\":\"1848\"}]},\"id\":\"1864\",\"type\":\"LegendItem\"},{\"attributes\":{},\"id\":\"1795\",\"type\":\"AllLabels\"},{\"attributes\":{},\"id\":\"1800\",\"type\":\"Selection\"},{\"attributes\":{},\"id\":\"1794\",\"type\":\"BasicTickFormatter\"},{\"attributes\":{},\"id\":\"1861\",\"type\":\"UnionRenderers\"},{\"attributes\":{},\"id\":\"1798\",\"type\":\"AllLabels\"},{\"attributes\":{\"coordinates\":null,\"data_source\":{\"id\":\"1842\"},\"glyph\":{\"id\":\"1845\"},\"group\":null,\"hover_glyph\":null,\"muted_glyph\":{\"id\":\"1847\"},\"nonselection_glyph\":{\"id\":\"1846\"},\"selection_glyph\":{\"id\":\"1865\"},\"view\":{\"id\":\"1849\"}},\"id\":\"1848\",\"type\":\"GlyphRenderer\"},{\"attributes\":{},\"id\":\"1814\",\"type\":\"UnionRenderers\"},{\"attributes\":{\"end\":80.4,\"reset_end\":80.4,\"reset_start\":15.6,\"start\":15.6,\"tags\":[[[\"age\",\"age\",null]]]},\"id\":\"1759\",\"type\":\"Range1d\"},{\"attributes\":{\"data\":{\"age\":[24,26,29,23,28,30,29,23,24,29,26,23,23,27,30,26,27,32,30,22,25,31,25,22,30,29,22,32,24,25,29,29,28,29,30,29,22,31,29,32,32,24,25,22,26,30,32,27,23,27,22,32,30,22,26,24,31,24,24,28,26,27,23,23,22,27,24,28,23,29,29,28,27,23,32,25,26,30,27,27,27,22,30,22,24,29,30,30,22,29,24,25,32,31,32,27,29,24,24,22,22,31,26,26,24,24,27,31,28,23,24,24,23,26,27,31,28,27,32,27,25,26,28,26,28,29,25,29,29,25,23,27,32,28,26,31,27,30,28,32,25,22,27,29,31,29,25,27,26,27,27,27,23,29,29,27,24,28,32,28,27,28,30,31,31,30,29,26,29,26,29,31,26,26,30,26,24,23,30,32,24,32,30,28,30,31,29,28,25,29,30,29,27,22,30,25,29,29,25,27,31,23,32,27,31,30,24,29,30,32,31,27,25,27,29,32,27,25,23,23,32,26,27,28,30,26,32,26,28,32,32,29,31,26,28,31,32,30,28,28,23,28,30,26,31,28,23,23,32,22,31,27,28,32,27,27,26,21,23,30,26,25,28,24,31,25,28,27,24,32,29,24,28,26,29,23,28,31,28,26,25,25,29,31,30,32,29,31,24,28,31,24,29,23,25,28,27,24,24,23,25,31,28,32,28,31,31,24,32,26,22,27,28,23,28,22,32,27,30,28,25,28,31,29,28,27,32,27,29,30,29,31,27,22,30,22,26,24,30,31,27,22,22,27,29,29,26,28,31,25,25,30,31,25,26,25,26,26,30,31,24,24,29,28,32,26,26,26,32,31,29,27,28,32,26,29,29,27,32,30,29,22,25,28,29,23,26,24,29,24,30,24,22,27,24,28,24,27,30,23,23,22,31,32,23,32,23,25,29,29,27,26,31,32,25,27,30,23,30,30,24,28,32,27,31,28,30,25,27,30,26,27,27,25,32,30,32,23,24,24,24,27,22,24,29,32,30,29,32,32,25,24,23,29,27,32,30,31,30,24,28,27,32,30,30,22,25,28,26,24,29,23,25,27,25,29,23,25,29,28,30,29,27,31,31,26,25,31,31,27,23,23,24,26,22,23,30,24,31,23,29,25,30,27,29,32,30,25,23,28,31,29,31,29,26,29,24,28,29,24,27,24,30,26,29,29,23,28,31,31,25,25,24,32,31,30,30,30,29,23,26,24,25,23,28,32,29,25,27,24,29,27,29,29,23,30,24,29,29,23,29,23,26,30,26,32,30,22,24,24,26,21,22,23,22,30,27,32,26,29,22,30,28,26,28,24,29,27,32,32,26,26,26,31,30,31,26,29,24,23,30,29,29,22,30,26,25,23,28,24,31,24,32,31,31,25,28,28,29,32,26,31,23,22,26,29,30,28,27,29,22,32,30,29,25,22,27,30,28,24,26,31,27,22,22,30,26,23,23,24,23,25,26,25,31,30,25,25,24,29,27,31,28,24,27,27,32,29,32,31,29,23,24,24,25,23,25,25,26,32,24,26,27,24,27,23,29,21,29,26,30,31,25,32,22,32,28,29,28,25,27,30,24,30,27,24,31,25,27,27,27,25,27,32,25,29,24,27,25,28,22,22,30,32,23,29,28,31,30,29,23,27,23,24,25,32,31,29,29,30,27,31,26,26,23,30,32,25,26,29,26,31,31,32,29,27,29,27,26,30,31,29,28,31,22,27,31,30,32,31,24,31,29,24,30,28,22,23,24,27,25,25,31,30,29,24,32,29,30,26,26,29,27,27,29,26,31,27,29,23,25,29,32,29,22,29,31,24,27,29,27,32,26,27,26,27,24,26,27,26,25,28,26,28,22,25,27,25,26,26,29,27,28,31,31,31,30,27,27,23,32,29,30,23,30,32,24,32,32,24,22,31,26,30,28,30,27,30,32,24,24,23,29,23,31,26,32,22,32,29,31,25,28,31,32,26,30,30,30,31,32,22,32,29,29,31,29,28,26,32,30,28,26,22,26,24,28,24,27,30,26,30,27,31,28,22,31,25,32,26,29,30,26,25,27,31,26,29,24,25,28,24,32,22,23,32,26,27,22,31,30,32,31,24,30,27,25,32,22,29,28,32,26,25,28,27,30,28,30,26,23,26,29,29,27,24,28,31,23,23,28,24,30,23,28,22,31,27,28,27,29,30,31,26,31,27,27,23,22,27,28,26,29,30,24,25,25,29,25,30,30,29,29,31,31,27,24,22,29,23,22,30,30,21,32,27,30,21,25,24,32,32,31,24,29,25,30,26,24,27,22,28,32,32,30,32,30,32,24,25,28,30,26,25,27,26,24,23,29,29,27,28,29,32,27,30,29,32,26,26,30,25,26,28,31,26,24,30,23,28,29,23,26,29,28,27,25,29,30,25,28,27,32,26,25,29,26,24,25,28,23,29,25,30,28,24,29,32,32,24,27,29,29,28,30,29,29,32,31,25,27,24,24,24,24,29,22,24,27,25,24,24,25,29,28,23,25,25,26,26,28,27,29,32,25,31,26,29,29,30,25,27,28,23,23,27,28,23,30,31,32,26,28,26,28,30,30,30,25,28,24,25,28,24,28,29,30,23,25,27,22,24,29,23,26,26,28,25,24,26,32,23,26,28,31,26,30,28,28,28,32,29,32,23,30,31,31,29,28,27,27,22,31,22,25,32,25,22,27,24,25,30,24,26,32,25,31,27,24,23,32,32,30,31,28,25,25,31,25,26,23,27,25,29,22,32,29,30,32,30,31,22,26,23,22,23,22,25,24,26,23,28,31,24,30,25,27,30,31,25,31,28,28,28,27,28,32,22,22,25,31,23,31,30,22,27,24,23,25,30,26,24,27,31,27,25,23,28,28,30,26,24,30,27,26,24,27,31,29,31,24,32,32,30,27,26,31,32,28,29,31,25,28,24,24,25,28,25,28,26,27,25,25,26,23,23,26,23,23,31,24,29,29,32,25,29,29,26,23,23,26,32,27,28,25,27,30,28,24,29,31,31,22,26,30,24,28,26,27,31,24,26,24,22,32,32,30,24,32,25,31,27,30,27,32,32,27,28,27,24,25,25,32,28,28,22,30,25,31,32,30,22,25,29,26,26,29,26,27,26,25,25,23,28,30,31,29,22,29,32,29,24,29,27,28,27,30,32,28,29,28,32,25,27,28,32,30,29,24,28,26,28,25,24,30,25,21,26,25,28,26,28,32,28,31,23,22,23,26,28,29,24,27,22,28,26,23,26,23,25,31,24,26,30,25,28,23,25,30,25,28,31,25,29,24,28,25,32,26,27,29,26,25,29,22,26,26,28,27,30,22,24,32,27,29,29,23,24,23,31,27,21,30,28,24,31,23,26,26,24,23,29,32,21,31,27,27,31,29,27,24,28,31,29,31,24,24,28,28,27,29,25,25,27,27,28,28,26,32,31,26,28,29,23,32,29,22,32,26,30,32,25,22,28,24,30,32,26,30,26,25,30,29,30,24,26,30,22,27,31,26,26,29,30,22,32,28,30,22,28,29,27,27,23,28,29,27,25,27,30,28,30,24,25,23,28,30,26,27,26,27,24,29,28,25,29,30,28,24,24,27,26,23,28,31,25,23,28,28,31,27,29,23,24,27,27,24,24,28,28,32,28,31,26,31,28,27,23,28,29,31,32,28,27,32,29,27,22,25,28,30,30,26,32,26,30,25,31,28,27,30,31,24,29,28,31,29,26,26,25,26,29,30,23,32,26,32,28,23,27,29,29,27,23,28,32,29,29,22,30,27,31,29,27,30,29,30,29,31,23,29,24,28,31,29,28,26,32,27,29,31,26,27,27,27,22,22,30,29,32,26,24,29,28,25,32,23,28,24,22,32,25,27,22,25,27,26,28,32,24,32,24,27,28,22,28,23,25,30,27,22,28,31,24,26,25,29,28,28,32,24,24,28,32,23,31,26,25,23,26,32,24,24,28,29,27,22,25,24,27,30,30,29,24,30,32,27,26,32,26,26,25,25,24,29,27,32,27,32,30,29,31,25,30,28,30,22,23,31,28,23,25,26,26,31,29,25,22,31,26,26,28,30,22,22,23,26,23,29,29,25,24,24,31,29,22,23,27,23,31,24,29,27,26,32,30,23,30,29,32,32,24,26,24,28,24,29,31,25,24,30,28,28,29,31,23,28,24,29,24,23,31,30,32,26,25,23,29,32,29,28,25,26,25,32,32,29,26,27,25,25,26,31,24,26,26,27,30,27,29,25,29,27,27,31,28,30,32,25,22,26,25,32,29,23,25,23,30,24,31,31,30,24,29,30,26,26,30,32,29,29,30,30,32,26,31,25,30,32,27,29,21,28,29,27,25,25,31,31,22,23,25,30,26,23,23,31,31,30,24,32,28,32,28,32,26,24,30,31,31,30,25,24,26,30,30,32,26,27,25,23,25,25,25,27,25,24,25,29,28,31,27,28,29,27,21,29,29,23,25,32,32,26,25,28,27,27,28,28,29,28,29,30,25,27,29,25,29,25,27,22,28,25,32,27,26,26,29,26,32,25,23,21,24,32,27,23,25,26,31,24,31,23,24,27,30,29,25,24,25,25,29,32,25,27,31,23,31,25,29,30,27,30,24,29,26,24,28,32,29,31,32,27,30,27,26,32,23,29,26,22,29,23,22,31,25,28,32,30,24,32,26,29,31,30,23,24,27,23,24,29,30,25,28,26,30,27,27,28,25,28,31,29,25,30,27,26,28,27,23,24,30,26,27,29,29,29,32,26,30,30,25,29,24,28,31,32,32,24,25,30,25,31,32,26,29,23,24,26,24,28,27,24,29,25,27,30,22,22,29,31,23,24,25,23,29,30,30,28,24,25,32,24,22,29,28,27,31,27,31,27,29,31,25,31,28,24,26,22,27,30,23,22,27,30,23,27,32,32,27,32,28,29,29,30,27,27,29,32,30,29,31,29,28,28,29,28,27,22,23,30,29,32,31,26,27,30,29,31,30,28,29,24,22,24,26,31,31,25,32,24,24,27,24,29,30,22,22,25,26,30,26,31,24,30,31,26,29,24,32,28,32],\"customer_segments\":[1,1,1,1,1,1,1,1,1,1,1,1,1,1,1,1,1,1,1,1,1,1,1,1,1,1,1,1,1,1,1,1,1,1,1,1,1,1,1,1,1,1,1,1,1,1,1,1,1,1,1,1,1,1,1,1,1,1,1,1,1,1,1,1,1,1,1,1,1,1,1,1,1,1,1,1,1,1,1,1,1,1,1,1,1,1,1,1,1,1,1,1,1,1,1,1,1,1,1,1,1,1,1,1,1,1,1,1,1,1,1,1,1,1,1,1,1,1,1,1,1,1,1,1,1,1,1,1,1,1,1,1,1,1,1,1,1,1,1,1,1,1,1,1,1,1,1,1,1,1,1,1,1,1,1,1,1,1,1,1,1,1,1,1,1,1,1,1,1,1,1,1,1,1,1,1,1,1,1,1,1,1,1,1,1,1,1,1,1,1,1,1,1,1,1,1,1,1,1,1,1,1,1,1,1,1,1,1,1,1,1,1,1,1,1,1,1,1,1,1,1,1,1,1,1,1,1,1,1,1,1,1,1,1,1,1,1,1,1,1,1,1,1,1,1,1,1,1,1,1,1,1,1,1,1,1,1,1,1,1,1,1,1,1,1,1,1,1,1,1,1,1,1,1,1,1,1,1,1,1,1,1,1,1,1,1,1,1,1,1,1,1,1,1,1,1,1,1,1,1,1,1,1,1,1,1,1,1,1,1,1,1,1,1,1,1,1,1,1,1,1,1,1,1,1,1,1,1,1,1,1,1,1,1,1,1,1,1,1,1,1,1,1,1,1,1,1,1,1,1,1,1,1,1,1,1,1,1,1,1,1,1,1,1,1,1,1,1,1,1,1,1,1,1,1,1,1,1,1,1,1,1,1,1,1,1,1,1,1,1,1,1,1,1,1,1,1,1,1,1,1,1,1,1,1,1,1,1,1,1,1,1,1,1,1,1,1,1,1,1,1,1,1,1,1,1,1,1,1,1,1,1,1,1,1,1,1,1,1,1,1,1,1,1,1,1,1,1,1,1,1,1,1,1,1,1,1,1,1,1,1,1,1,1,1,1,1,1,1,1,1,1,1,1,1,1,1,1,1,1,1,1,1,1,1,1,1,1,1,1,1,1,1,1,1,1,1,1,1,1,1,1,1,1,1,1,1,1,1,1,1,1,1,1,1,1,1,1,1,1,1,1,1,1,1,1,1,1,1,1,1,1,1,1,1,1,1,1,1,1,1,1,1,1,1,1,1,1,1,1,1,1,1,1,1,1,1,1,1,1,1,1,1,1,1,1,1,1,1,1,1,1,1,1,1,1,1,1,1,1,1,1,1,1,1,1,1,1,1,1,1,1,1,1,1,1,1,1,1,1,1,1,1,1,1,1,1,1,1,1,1,1,1,1,1,1,1,1,1,1,1,1,1,1,1,1,1,1,1,1,1,1,1,1,1,1,1,1,1,1,1,1,1,1,1,1,1,1,1,1,1,1,1,1,1,1,1,1,1,1,1,1,1,1,1,1,1,1,1,1,1,1,1,1,1,1,1,1,1,1,1,1,1,1,1,1,1,1,1,1,1,1,1,1,1,1,1,1,1,1,1,1,1,1,1,1,1,1,1,1,1,1,1,1,1,1,1,1,1,1,1,1,1,1,1,1,1,1,1,1,1,1,1,1,1,1,1,1,1,1,1,1,1,1,1,1,1,1,1,1,1,1,1,1,1,1,1,1,1,1,1,1,1,1,1,1,1,1,1,1,1,1,1,1,1,1,1,1,1,1,1,1,1,1,1,1,1,1,1,1,1,1,1,1,1,1,1,1,1,1,1,1,1,1,1,1,1,1,1,1,1,1,1,1,1,1,1,1,1,1,1,1,1,1,1,1,1,1,1,1,1,1,1,1,1,1,1,1,1,1,1,1,1,1,1,1,1,1,1,1,1,1,1,1,1,1,1,1,1,1,1,1,1,1,1,1,1,1,1,1,1,1,1,1,1,1,1,1,1,1,1,1,1,1,1,1,1,1,1,1,1,1,1,1,1,1,1,1,1,1,1,1,1,1,1,1,1,1,1,1,1,1,1,1,1,1,1,1,1,1,1,1,1,1,1,1,1,1,1,1,1,1,1,1,1,1,1,1,1,1,1,1,1,1,1,1,1,1,1,1,1,1,1,1,1,1,1,1,1,1,1,1,1,1,1,1,1,1,1,1,1,1,1,1,1,1,1,1,1,1,1,1,1,1,1,1,1,1,1,1,1,1,1,1,1,1,1,1,1,1,1,1,1,1,1,1,1,1,1,1,1,1,1,1,1,1,1,1,1,1,1,1,1,1,1,1,1,1,1,1,1,1,1,1,1,1,1,1,1,1,1,1,1,1,1,1,1,1,1,1,1,1,1,1,1,1,1,1,1,1,1,1,1,1,1,1,1,1,1,1,1,1,1,1,1,1,1,1,1,1,1,1,1,1,1,1,1,1,1,1,1,1,1,1,1,1,1,1,1,1,1,1,1,1,1,1,1,1,1,1,1,1,1,1,1,1,1,1,1,1,1,1,1,1,1,1,1,1,1,1,1,1,1,1,1,1,1,1,1,1,1,1,1,1,1,1,1,1,1,1,1,1,1,1,1,1,1,1,1,1,1,1,1,1,1,1,1,1,1,1,1,1,1,1,1,1,1,1,1,1,1,1,1,1,1,1,1,1,1,1,1,1,1,1,1,1,1,1,1,1,1,1,1,1,1,1,1,1,1,1,1,1,1,1,1,1,1,1,1,1,1,1,1,1,1,1,1,1,1,1,1,1,1,1,1,1,1,1,1,1,1,1,1,1,1,1,1,1,1,1,1,1,1,1,1,1,1,1,1,1,1,1,1,1,1,1,1,1,1,1,1,1,1,1,1,1,1,1,1,1,1,1,1,1,1,1,1,1,1,1,1,1,1,1,1,1,1,1,1,1,1,1,1,1,1,1,1,1,1,1,1,1,1,1,1,1,1,1,1,1,1,1,1,1,1,1,1,1,1,1,1,1,1,1,1,1,1,1,1,1,1,1,1,1,1,1,1,1,1,1,1,1,1,1,1,1,1,1,1,1,1,1,1,1,1,1,1,1,1,1,1,1,1,1,1,1,1,1,1,1,1,1,1,1,1,1,1,1,1,1,1,1,1,1,1,1,1,1,1,1,1,1,1,1,1,1,1,1,1,1,1,1,1,1,1,1,1,1,1,1,1,1,1,1,1,1,1,1,1,1,1,1,1,1,1,1,1,1,1,1,1,1,1,1,1,1,1,1,1,1,1,1,1,1,1,1,1,1,1,1,1,1,1,1,1,1,1,1,1,1,1,1,1,1,1,1,1,1,1,1,1,1,1,1,1,1,1,1,1,1,1,1,1,1,1,1,1,1,1,1,1,1,1,1,1,1,1,1,1,1,1,1,1,1,1,1,1,1,1,1,1,1,1,1,1,1,1,1,1,1,1,1,1,1,1,1,1,1,1,1,1,1,1,1,1,1,1,1,1,1,1,1,1,1,1,1,1,1,1,1,1,1,1,1,1,1,1,1,1,1,1,1,1,1,1,1,1,1,1,1,1,1,1,1,1,1,1,1,1,1,1,1,1,1,1,1,1,1,1,1,1,1,1,1,1,1,1,1,1,1,1,1,1,1,1,1,1,1,1,1,1,1,1,1,1,1,1,1,1,1,1,1,1,1,1,1,1,1,1,1,1,1,1,1,1,1,1,1,1,1,1,1,1,1,1,1,1,1,1,1,1,1,1,1,1,1,1,1,1,1,1,1,1,1,1,1,1,1,1,1,1,1,1,1,1,1,1,1,1,1,1,1,1,1,1,1,1,1,1,1,1,1,1,1,1,1,1,1,1,1,1,1,1,1,1,1,1,1,1,1,1,1,1,1,1,1,1,1,1,1,1,1,1,1,1,1,1,1,1,1,1,1,1,1,1,1,1,1,1,1,1,1,1,1,1,1,1,1,1,1,1,1,1,1,1,1,1,1,1,1,1,1,1,1,1,1,1,1,1,1,1,1,1,1,1,1,1,1,1,1,1,1,1,1,1,1,1,1,1,1,1,1,1,1,1,1,1,1,1,1,1,1,1,1,1,1,1,1,1,1,1,1,1,1,1,1,1,1,1,1,1,1,1,1,1,1,1,1,1,1,1,1,1,1,1,1,1,1,1,1,1,1,1,1,1,1,1,1,1,1,1,1,1,1,1,1,1,1,1,1,1,1,1,1,1,1,1,1,1,1,1,1,1,1,1,1,1,1,1,1,1,1,1,1,1,1,1,1,1,1,1,1,1,1,1,1,1,1,1,1,1,1,1,1,1,1,1,1,1,1,1,1,1,1,1,1,1,1,1,1,1,1,1,1,1,1,1,1,1,1,1,1,1,1,1,1,1,1,1,1,1,1,1,1,1,1,1,1,1,1,1,1,1,1,1,1,1,1,1,1,1,1,1,1,1,1,1,1,1,1,1,1,1,1,1,1,1,1,1,1,1,1,1,1,1,1,1,1,1,1,1,1,1,1,1,1,1,1,1,1,1,1,1,1,1,1,1,1,1,1,1,1,1,1,1,1,1,1,1,1,1,1,1,1,1,1,1,1,1,1,1,1,1,1,1,1,1,1,1,1,1,1,1,1,1,1,1,1,1,1,1,1,1,1,1,1,1,1,1,1,1,1,1,1,1,1,1,1,1,1,1,1,1,1,1,1,1,1,1,1,1,1,1,1,1,1,1,1,1,1,1,1,1,1,1,1,1,1,1,1,1,1,1,1,1,1,1,1,1,1,1,1,1,1,1,1,1,1,1,1,1,1,1,1,1,1,1,1,1,1,1,1,1,1,1,1,1,1,1,1,1,1,1,1,1,1,1,1,1,1,1,1,1,1,1,1,1,1,1,1,1,1,1,1,1,1,1,1,1,1,1,1,1,1,1,1,1,1,1,1,1,1,1,1,1,1,1,1,1,1,1,1,1,1,1,1,1,1,1,1,1,1,1,1,1,1,1,1,1,1,1,1,1,1,1,1,1,1,1,1,1,1,1,1,1,1,1,1,1,1,1,1,1,1,1,1,1,1,1,1,1,1],\"limit_bal\":{\"__ndarray__\":\"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\",\"dtype\":\"float64\",\"order\":\"little\",\"shape\":[2252]}},\"selected\":{\"id\":\"1821\"},\"selection_policy\":{\"id\":\"1837\"}},\"id\":\"1820\",\"type\":\"ColumnDataSource\"},{\"attributes\":{\"fill_color\":{\"value\":\"#fc4f30\"},\"hatch_color\":{\"value\":\"#fc4f30\"},\"line_color\":{\"value\":\"#fc4f30\"},\"size\":{\"value\":5.477225575051661},\"tags\":[\"apply_ranges\"],\"x\":{\"field\":\"limit_bal\"},\"y\":{\"field\":\"age\"}},\"id\":\"1823\",\"type\":\"Scatter\"},{\"attributes\":{},\"id\":\"1837\",\"type\":\"UnionRenderers\"},{\"attributes\":{\"active_drag\":{\"id\":\"1781\"},\"active_scroll\":{\"id\":\"1782\"},\"tools\":[{\"id\":\"1760\"},{\"id\":\"1780\"},{\"id\":\"1781\"},{\"id\":\"1782\"},{\"id\":\"1783\"},{\"id\":\"1784\"}]},\"id\":\"1786\",\"type\":\"Toolbar\"},{\"attributes\":{\"angle\":{\"value\":0.0},\"fill_alpha\":{\"value\":1.0},\"fill_color\":{\"value\":\"#e5ae38\"},\"hatch_alpha\":{\"value\":1.0},\"hatch_color\":{\"value\":\"#e5ae38\"},\"hatch_scale\":{\"value\":12.0},\"hatch_weight\":{\"value\":1.0},\"line_alpha\":{\"value\":1.0},\"line_cap\":{\"value\":\"butt\"},\"line_color\":{\"value\":\"#e5ae38\"},\"line_dash\":{\"value\":[]},\"line_dash_offset\":{\"value\":0},\"line_join\":{\"value\":\"bevel\"},\"line_width\":{\"value\":1},\"marker\":{\"value\":\"circle\"},\"size\":{\"value\":5.477225575051661},\"tags\":[\"apply_ranges\"],\"x\":{\"field\":\"limit_bal\"},\"y\":{\"field\":\"age\"}},\"id\":\"1865\",\"type\":\"Scatter\"},{\"attributes\":{\"label\":{\"value\":\"0\"},\"renderers\":[{\"id\":\"1805\"}]},\"id\":\"1818\",\"type\":\"LegendItem\"},{\"attributes\":{\"children\":[{\"id\":\"1763\"}],\"height\":300,\"margin\":[0,0,0,0],\"name\":\"Row01662\",\"sizing_mode\":\"fixed\",\"tags\":[\"embedded\"],\"width\":700},\"id\":\"1757\",\"type\":\"Row\"},{\"attributes\":{\"source\":{\"id\":\"1799\"}},\"id\":\"1806\",\"type\":\"CDSView\"},{\"attributes\":{\"label\":{\"value\":\"1\"},\"renderers\":[{\"id\":\"1826\"}]},\"id\":\"1840\",\"type\":\"LegendItem\"},{\"attributes\":{\"bottom_units\":\"screen\",\"coordinates\":null,\"fill_alpha\":0.5,\"fill_color\":\"lightgrey\",\"group\":null,\"left_units\":\"screen\",\"level\":\"overlay\",\"line_alpha\":1.0,\"line_color\":\"black\",\"line_dash\":[4,4],\"line_width\":2,\"right_units\":\"screen\",\"syncable\":false,\"top_units\":\"screen\"},\"id\":\"1785\",\"type\":\"BoxAnnotation\"},{\"attributes\":{},\"id\":\"1780\",\"type\":\"SaveTool\"},{\"attributes\":{\"click_policy\":\"mute\",\"coordinates\":null,\"group\":null,\"items\":[{\"id\":\"1818\"},{\"id\":\"1840\"},{\"id\":\"1864\"}],\"location\":[0,0],\"title\":\"customer_segments\"},\"id\":\"1817\",\"type\":\"Legend\"},{\"attributes\":{\"angle\":{\"value\":0.0},\"fill_alpha\":{\"value\":1.0},\"fill_color\":{\"value\":\"#fc4f30\"},\"hatch_alpha\":{\"value\":1.0},\"hatch_color\":{\"value\":\"#fc4f30\"},\"hatch_scale\":{\"value\":12.0},\"hatch_weight\":{\"value\":1.0},\"line_alpha\":{\"value\":1.0},\"line_cap\":{\"value\":\"butt\"},\"line_color\":{\"value\":\"#fc4f30\"},\"line_dash\":{\"value\":[]},\"line_dash_offset\":{\"value\":0},\"line_join\":{\"value\":\"bevel\"},\"line_width\":{\"value\":1},\"marker\":{\"value\":\"circle\"},\"size\":{\"value\":5.477225575051661},\"tags\":[\"apply_ranges\"],\"x\":{\"field\":\"limit_bal\"},\"y\":{\"field\":\"age\"}},\"id\":\"1841\",\"type\":\"Scatter\"},{\"attributes\":{},\"id\":\"1781\",\"type\":\"PanTool\"},{\"attributes\":{\"callback\":null,\"renderers\":[{\"id\":\"1805\"},{\"id\":\"1826\"},{\"id\":\"1848\"}],\"tags\":[\"hv_created\"],\"tooltips\":[[\"customer_segments\",\"@{customer_segments}\"],[\"limit_bal\",\"@{limit_bal}\"],[\"age\",\"@{age}\"]]},\"id\":\"1760\",\"type\":\"HoverTool\"},{\"attributes\":{},\"id\":\"1784\",\"type\":\"ResetTool\"},{\"attributes\":{\"fill_alpha\":{\"value\":0.2},\"fill_color\":{\"value\":\"#e5ae38\"},\"hatch_alpha\":{\"value\":0.2},\"hatch_color\":{\"value\":\"#e5ae38\"},\"line_alpha\":{\"value\":0.2},\"line_color\":{\"value\":\"#e5ae38\"},\"size\":{\"value\":5.477225575051661},\"tags\":[\"apply_ranges\"],\"x\":{\"field\":\"limit_bal\"},\"y\":{\"field\":\"age\"}},\"id\":\"1847\",\"type\":\"Scatter\"},{\"attributes\":{},\"id\":\"1782\",\"type\":\"WheelZoomTool\"},{\"attributes\":{},\"id\":\"1777\",\"type\":\"BasicTicker\"},{\"attributes\":{\"coordinates\":null,\"data_source\":{\"id\":\"1820\"},\"glyph\":{\"id\":\"1823\"},\"group\":null,\"hover_glyph\":null,\"muted_glyph\":{\"id\":\"1825\"},\"nonselection_glyph\":{\"id\":\"1824\"},\"selection_glyph\":{\"id\":\"1841\"},\"view\":{\"id\":\"1827\"}},\"id\":\"1826\",\"type\":\"GlyphRenderer\"},{\"attributes\":{},\"id\":\"1821\",\"type\":\"Selection\"},{\"attributes\":{\"below\":[{\"id\":\"1772\"}],\"center\":[{\"id\":\"1775\"},{\"id\":\"1779\"}],\"height\":300,\"left\":[{\"id\":\"1776\"}],\"margin\":[5,5,5,5],\"min_border_bottom\":10,\"min_border_left\":10,\"min_border_right\":10,\"min_border_top\":10,\"output_backend\":\"webgl\",\"renderers\":[{\"id\":\"1805\"},{\"id\":\"1826\"},{\"id\":\"1848\"}],\"right\":[{\"id\":\"1817\"}],\"sizing_mode\":\"fixed\",\"title\":{\"id\":\"1764\"},\"toolbar\":{\"id\":\"1786\"},\"width\":700,\"x_range\":{\"id\":\"1758\"},\"x_scale\":{\"id\":\"1768\"},\"y_range\":{\"id\":\"1759\"},\"y_scale\":{\"id\":\"1770\"}},\"id\":\"1763\",\"subtype\":\"Figure\",\"type\":\"Plot\"},{\"attributes\":{\"data\":{\"age\":[57,51,49,47,54,58,46,49,45,46,51,57,56,45,44,44,49,45,44,53,63,52,47,48,52,51,55,46,51,47,60,56,45,57,47,46,50,56,47,47,48,47,50,45,44,50,75,46,48,48,49,48,58,44,46,46,46,55,49,53,46,55,58,45,56,61,54,46,58,73,44,51,48,52,48,49,55,44,53,51,53,48,56,59,44,48,47,49,46,53,56,47,45,46,50,44,52,52,56,47,53,52,45,60,49,53,53,46,59,53,56,46,48,45,49,47,56,44,49,44,46,56,45,47,46,49,49,49,48,47,45,57,50,51,51,46,58,52,53,44,51,48,44,44,51,45,51,50,58,48,53,55,57,49,52,46,52,45,49,57,55,55,51,50,46,45,48,46,46,60,44,59,51,46,47,54,49,53,54,44,45,46,57,45,57,67,54,52,49,53,67,49,56,55,61,44,66,47,47,50,46,46,47,54,44,54,54,52,44,44,47,52,47,48,44,52,59,48,62,55,50,66,45,44,44,48,50,49,51,54,50,46,47,54,57,45,45,50,52,46,50,44,57,46,53,54,48,53,49,47,48,49,45,51,48,48,49,53,49,49,49,46,47,44,50,54,58,52,51,44,45,45,58,44,52,44,54,44,51,50,54,50,45,44,44,52,48,48,54,70,53,48,49,50,44,48,44,48,47,52,50,48,44,56,45,46,47,70,52,49,50,48,44,53,51,44,63,48,47,50,49,47,44,72,48,44,45,55,51,51,49,50,44,61,46,54,53,47,45,51,64,45,44,54,54,53,46,56,56,47,48,48,60,44,47,58,46,53,44,54,61,51,48,53,45,54,46,46,47,65,44,51,49,49,53,45,50,57,53,50,49,65,67,52,59,52,49,51,53,47,55,46,51,48,55,50,50,49,55,54,47,53,71,49,44,44,52,57,66,49,55,49,51,54,62,52,48,49,53,53,55,55,57,50,47,47,45,53,45,58,63,50,49,50,50,45,48,44,56,48,53,56,49,49,54,46,44,44,47,56,47,46,60,53,52,45,50,46,54,52,44,49,66,44,51,47,47,49,47,50,51,47,67,47,49,45,48,55,54,44,57,44,51,44,56,47,53,51,46,47,45,44,48,47,49,46,49,51,48,54,59,48,46,49,49,62,47,51,47,44,44,45,58,46,55,45,49,46,53,45,46,60,51,44,48,44,47,47,47,47,44,49,47,51,47,47,57,53,55,47,46,55,47,49,50,44,46,46,46,44,45,49,49,60,45,57,57,60,47,51,47,46,44,47,48,46,53,49,49,45,50,44,48,53,48,48,46,49,46,47,56,52,52,44,44,50,59,44,45,49,54,48,44,60,47,45,48,45,44,50,48,47,44,46,44,54,49,52,46,51,46,59,49,48,52,49,59,52,44,57,48,59,50,44,56,45,47,65,46,62,45,59,48,52,47,53,52,51,47,46,44,45,59,50,49,44,44,48,51,48,48,45,44,45,46,63,50,54,46,46,48,55,55,58,49,50,44,50,46,51,52,53,45,45,59,56,50,44,50,45,46,53,57,46,45,56,54,48,51,47,51,66,49,57,59,46,55,48,50,64,44,44,51,47,51,44,48,46,47,46,53,52,47,44,47,45,45,57,53,66,48,46,46,45,44,48,59,46,46,48,48,53,54,48,50,48,44,48,49,52,52,51,50,45,49,48,46,44,50,44,45,44,44,49,57,56,53,47,48,44,64,52,47,56,46,47,49,44,48,45,50,60,49,58,45,60,44,50,44,46,49,45,54,46,49,51,63,45,47,47,52,51,48,46,44,44,45,44,51,51,46,48,46,50,45,46,52,51,46,46,44,52,49,49,57,55,44,66,44,57,51,46,50,52,52,49,44,52,48,56,49,51,44,49,49,45,49,58,50,57,44,51,54,52,53,49,44,54,47,52,51,45,59,54,50,48,46,50,48,47,51,49,44,46,49,45,56,44,49,47,52,45,47,45,46,52,54,52,44,45,50,45,65,51,46,56,44,44,64,48,45,60,58,55,50,54,49,45,46,46,45,49,51,52,48,46,44,45,47,50,44,44,50,44,54,46,45,50,47,52,57,44,44,53,47,48,44,58,45,46,44,46,46,45,52,48,45,56,60,58,45,56,44,51,45,44,44,50,48,53,56,52,44,44,49,45,53,49,57,48,52,48,54,55,54,53,52,49,47,50,50,46,57,45,53,49,45,46,59,51,51,46,56,44,45,63,44,50,58,45,44],\"customer_segments\":[0,0,0,0,0,0,0,0,0,0,0,0,0,0,0,0,0,0,0,0,0,0,0,0,0,0,0,0,0,0,0,0,0,0,0,0,0,0,0,0,0,0,0,0,0,0,0,0,0,0,0,0,0,0,0,0,0,0,0,0,0,0,0,0,0,0,0,0,0,0,0,0,0,0,0,0,0,0,0,0,0,0,0,0,0,0,0,0,0,0,0,0,0,0,0,0,0,0,0,0,0,0,0,0,0,0,0,0,0,0,0,0,0,0,0,0,0,0,0,0,0,0,0,0,0,0,0,0,0,0,0,0,0,0,0,0,0,0,0,0,0,0,0,0,0,0,0,0,0,0,0,0,0,0,0,0,0,0,0,0,0,0,0,0,0,0,0,0,0,0,0,0,0,0,0,0,0,0,0,0,0,0,0,0,0,0,0,0,0,0,0,0,0,0,0,0,0,0,0,0,0,0,0,0,0,0,0,0,0,0,0,0,0,0,0,0,0,0,0,0,0,0,0,0,0,0,0,0,0,0,0,0,0,0,0,0,0,0,0,0,0,0,0,0,0,0,0,0,0,0,0,0,0,0,0,0,0,0,0,0,0,0,0,0,0,0,0,0,0,0,0,0,0,0,0,0,0,0,0,0,0,0,0,0,0,0,0,0,0,0,0,0,0,0,0,0,0,0,0,0,0,0,0,0,0,0,0,0,0,0,0,0,0,0,0,0,0,0,0,0,0,0,0,0,0,0,0,0,0,0,0,0,0,0,0,0,0,0,0,0,0,0,0,0,0,0,0,0,0,0,0,0,0,0,0,0,0,0,0,0,0,0,0,0,0,0,0,0,0,0,0,0,0,0,0,0,0,0,0,0,0,0,0,0,0,0,0,0,0,0,0,0,0,0,0,0,0,0,0,0,0,0,0,0,0,0,0,0,0,0,0,0,0,0,0,0,0,0,0,0,0,0,0,0,0,0,0,0,0,0,0,0,0,0,0,0,0,0,0,0,0,0,0,0,0,0,0,0,0,0,0,0,0,0,0,0,0,0,0,0,0,0,0,0,0,0,0,0,0,0,0,0,0,0,0,0,0,0,0,0,0,0,0,0,0,0,0,0,0,0,0,0,0,0,0,0,0,0,0,0,0,0,0,0,0,0,0,0,0,0,0,0,0,0,0,0,0,0,0,0,0,0,0,0,0,0,0,0,0,0,0,0,0,0,0,0,0,0,0,0,0,0,0,0,0,0,0,0,0,0,0,0,0,0,0,0,0,0,0,0,0,0,0,0,0,0,0,0,0,0,0,0,0,0,0,0,0,0,0,0,0,0,0,0,0,0,0,0,0,0,0,0,0,0,0,0,0,0,0,0,0,0,0,0,0,0,0,0,0,0,0,0,0,0,0,0,0,0,0,0,0,0,0,0,0,0,0,0,0,0,0,0,0,0,0,0,0,0,0,0,0,0,0,0,0,0,0,0,0,0,0,0,0,0,0,0,0,0,0,0,0,0,0,0,0,0,0,0,0,0,0,0,0,0,0,0,0,0,0,0,0,0,0,0,0,0,0,0,0,0,0,0,0,0,0,0,0,0,0,0,0,0,0,0,0,0,0,0,0,0,0,0,0,0,0,0,0,0,0,0,0,0,0,0,0,0,0,0,0,0,0,0,0,0,0,0,0,0,0,0,0,0,0,0,0,0,0,0,0,0,0,0,0,0,0,0,0,0,0,0,0,0,0,0,0,0,0,0,0,0,0,0,0,0,0,0,0,0,0,0,0,0,0,0,0,0,0,0,0,0,0,0,0,0,0,0,0,0,0,0,0,0,0,0,0,0,0,0,0,0,0,0,0,0,0,0,0,0,0,0,0,0,0,0,0,0,0,0,0,0,0,0,0,0,0,0,0,0,0,0,0,0,0,0,0,0,0,0,0,0,0,0,0,0,0,0,0,0,0,0,0,0,0,0,0,0,0,0,0,0,0,0,0,0,0,0,0,0,0,0,0,0,0,0,0,0,0,0,0,0,0,0,0,0,0,0,0,0,0,0,0,0,0,0,0,0,0,0,0,0,0,0,0,0,0,0,0,0,0,0,0,0,0,0,0,0,0,0,0,0,0,0,0,0,0,0,0,0,0,0,0,0,0,0,0,0,0,0,0,0,0,0,0,0,0,0,0,0,0,0,0,0,0,0,0,0,0,0,0,0,0,0,0,0,0,0,0,0,0,0,0,0,0,0,0,0,0,0,0,0,0],\"limit_bal\":{\"__ndarray__\":\"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\",\"dtype\":\"float64\",\"order\":\"little\",\"shape\":[991]}},\"selected\":{\"id\":\"1800\"},\"selection_policy\":{\"id\":\"1814\"}},\"id\":\"1799\",\"type\":\"ColumnDataSource\"},{\"attributes\":{\"fill_color\":{\"value\":\"#30a2da\"},\"hatch_color\":{\"value\":\"#30a2da\"},\"line_color\":{\"value\":\"#30a2da\"},\"size\":{\"value\":5.477225575051661},\"tags\":[\"apply_ranges\"],\"x\":{\"field\":\"limit_bal\"},\"y\":{\"field\":\"age\"}},\"id\":\"1802\",\"type\":\"Scatter\"},{\"attributes\":{\"overlay\":{\"id\":\"1785\"}},\"id\":\"1783\",\"type\":\"BoxZoomTool\"},{\"attributes\":{\"fill_color\":{\"value\":\"#e5ae38\"},\"hatch_color\":{\"value\":\"#e5ae38\"},\"line_color\":{\"value\":\"#e5ae38\"},\"size\":{\"value\":5.477225575051661},\"tags\":[\"apply_ranges\"],\"x\":{\"field\":\"limit_bal\"},\"y\":{\"field\":\"age\"}},\"id\":\"1845\",\"type\":\"Scatter\"},{\"attributes\":{},\"id\":\"1797\",\"type\":\"BasicTickFormatter\"},{\"attributes\":{\"fill_alpha\":{\"value\":0.2},\"fill_color\":{\"value\":\"#fc4f30\"},\"hatch_alpha\":{\"value\":0.2},\"hatch_color\":{\"value\":\"#fc4f30\"},\"line_alpha\":{\"value\":0.2},\"line_color\":{\"value\":\"#fc4f30\"},\"size\":{\"value\":5.477225575051661},\"tags\":[\"apply_ranges\"],\"x\":{\"field\":\"limit_bal\"},\"y\":{\"field\":\"age\"}},\"id\":\"1825\",\"type\":\"Scatter\"},{\"attributes\":{},\"id\":\"1773\",\"type\":\"BasicTicker\"},{\"attributes\":{\"axis\":{\"id\":\"1772\"},\"coordinates\":null,\"grid_line_color\":null,\"group\":null,\"ticker\":null},\"id\":\"1775\",\"type\":\"Grid\"},{\"attributes\":{\"source\":{\"id\":\"1820\"}},\"id\":\"1827\",\"type\":\"CDSView\"},{\"attributes\":{},\"id\":\"1768\",\"type\":\"LinearScale\"},{\"attributes\":{\"fill_alpha\":{\"value\":0.2},\"fill_color\":{\"value\":\"#30a2da\"},\"hatch_alpha\":{\"value\":0.2},\"hatch_color\":{\"value\":\"#30a2da\"},\"line_alpha\":{\"value\":0.2},\"line_color\":{\"value\":\"#30a2da\"},\"size\":{\"value\":5.477225575051661},\"tags\":[\"apply_ranges\"],\"x\":{\"field\":\"limit_bal\"},\"y\":{\"field\":\"age\"}},\"id\":\"1804\",\"type\":\"Scatter\"},{\"attributes\":{\"coordinates\":null,\"group\":null,\"text_color\":\"black\",\"text_font_size\":\"12pt\"},\"id\":\"1764\",\"type\":\"Title\"},{\"attributes\":{},\"id\":\"1843\",\"type\":\"Selection\"},{\"attributes\":{\"fill_alpha\":{\"value\":0.1},\"fill_color\":{\"value\":\"#e5ae38\"},\"hatch_alpha\":{\"value\":0.1},\"hatch_color\":{\"value\":\"#e5ae38\"},\"line_alpha\":{\"value\":0.1},\"line_color\":{\"value\":\"#e5ae38\"},\"size\":{\"value\":5.477225575051661},\"tags\":[\"apply_ranges\"],\"x\":{\"field\":\"limit_bal\"},\"y\":{\"field\":\"age\"}},\"id\":\"1846\",\"type\":\"Scatter\"},{\"attributes\":{\"angle\":{\"value\":0.0},\"fill_alpha\":{\"value\":1.0},\"fill_color\":{\"value\":\"#30a2da\"},\"hatch_alpha\":{\"value\":1.0},\"hatch_color\":{\"value\":\"#30a2da\"},\"hatch_scale\":{\"value\":12.0},\"hatch_weight\":{\"value\":1.0},\"line_alpha\":{\"value\":1.0},\"line_cap\":{\"value\":\"butt\"},\"line_color\":{\"value\":\"#30a2da\"},\"line_dash\":{\"value\":[]},\"line_dash_offset\":{\"value\":0},\"line_join\":{\"value\":\"bevel\"},\"line_width\":{\"value\":1},\"marker\":{\"value\":\"circle\"},\"size\":{\"value\":5.477225575051661},\"tags\":[\"apply_ranges\"],\"x\":{\"field\":\"limit_bal\"},\"y\":{\"field\":\"age\"}},\"id\":\"1819\",\"type\":\"Scatter\"},{\"attributes\":{\"fill_alpha\":{\"value\":0.1},\"fill_color\":{\"value\":\"#30a2da\"},\"hatch_alpha\":{\"value\":0.1},\"hatch_color\":{\"value\":\"#30a2da\"},\"line_alpha\":{\"value\":0.1},\"line_color\":{\"value\":\"#30a2da\"},\"size\":{\"value\":5.477225575051661},\"tags\":[\"apply_ranges\"],\"x\":{\"field\":\"limit_bal\"},\"y\":{\"field\":\"age\"}},\"id\":\"1803\",\"type\":\"Scatter\"},{\"attributes\":{\"end\":6.728762411532733,\"reset_end\":6.728762411532733,\"reset_start\":-1.5196772680064357,\"start\":-1.5196772680064357,\"tags\":[[[\"limit_bal\",\"limit_bal\",null]]]},\"id\":\"1758\",\"type\":\"Range1d\"},{\"attributes\":{},\"id\":\"1770\",\"type\":\"LinearScale\"},{\"attributes\":{\"data\":{\"age\":[34,37,37,35,34,41,39,39,40,33,40,33,37,42,43,34,34,34,39,37,33,33,35,39,37,35,43,38,36,38,35,41,41,34,38,37,40,35,36,41,34,34,33,34,41,34,37,41,34,35,37,37,35,38,34,36,34,34,38,43,41,38,43,39,42,36,36,38,40,35,33,37,37,34,33,35,41,39,40,40,33,43,38,37,37,34,33,36,40,33,38,33,43,36,36,34,37,36,40,36,38,34,40,36,43,41,34,40,37,40,43,34,36,39,36,43,34,34,40,35,40,36,34,43,37,36,42,43,38,39,38,42,41,37,38,41,35,36,38,38,33,36,37,34,42,37,42,39,39,41,38,36,38,38,41,35,41,34,38,37,38,40,43,42,39,36,34,43,41,38,38,35,33,35,43,35,34,42,35,40,38,36,34,41,41,42,33,34,42,38,35,40,33,36,35,33,42,43,34,35,43,36,43,34,36,36,34,43,37,37,33,37,39,39,37,39,41,40,42,39,42,33,39,33,40,37,43,35,35,34,34,41,42,40,35,40,41,40,35,37,34,34,41,40,38,42,42,33,35,34,39,33,38,34,37,33,38,34,34,43,36,35,33,35,35,40,35,33,33,42,38,35,40,34,35,37,36,36,37,39,33,39,33,37,34,43,33,39,38,34,42,37,37,43,41,35,35,39,34,40,38,40,33,43,43,38,34,37,37,36,36,40,39,33,40,36,34,36,34,37,37,33,42,39,41,34,35,41,43,36,36,42,33,39,36,43,33,39,39,38,40,36,36,37,34,38,36,36,40,37,35,33,38,41,33,40,33,35,39,42,36,42,33,42,41,33,33,34,42,43,40,35,33,40,35,39,43,41,40,35,38,41,42,35,40,41,33,33,37,34,40,41,38,35,34,34,36,41,39,35,33,36,42,39,33,36,39,38,35,38,38,38,34,37,39,36,40,33,37,43,38,42,41,37,40,33,35,35,39,35,42,35,33,37,43,34,37,34,34,36,34,43,41,34,36,41,34,37,36,37,34,43,35,42,36,41,38,41,34,38,35,40,34,39,38,41,37,42,35,42,37,36,39,36,39,39,37,35,35,36,33,36,41,38,37,33,42,37,42,33,33,37,34,33,43,42,37,36,39,39,36,39,37,40,36,41,43,36,35,34,43,43,39,33,34,33,39,36,40,37,35,38,34,34,34,42,33,41,37,38,34,37,33,40,43,36,36,38,42,40,36,33,35,35,37,33,38,37,42,43,38,35,35,35,33,36,37,34,43,38,40,34,34,39,40,34,43,39,36,40,36,42,40,36,37,40,35,40,35,36,40,33,38,37,40,36,42,42,41,33,33,36,37,41,33,40,38,38,34,34,36,33,33,37,43,41,34,33,37,34,33,36,35,35,36,39,37,40,41,35,39,38,35,37,40,36,39,40,41,39,43,33,34,39,35,35,41,34,38,40,34,33,41,36,38,41,42,42,39,37,36,42,36,38,42,37,33,35,33,33,35,36,39,35,40,34,33,39,36,41,41,41,42,37,37,38,37,43,42,40,41,35,38,40,37,35,34,42,43,43,34,33,35,34,40,33,40,35,38,42,35,36,38,36,39,41,42,39,34,39,39,38,36,40,40,42,37,35,40,40,33,40,37,34,43,33,42,37,39,36,39,41,42,34,36,37,34,35,38,41,43,33,43,39,42,34,36,42,42,36,34,43,41,41,42,38,35,38,37,35,34,36,35,36,33,37,42,39,38,43,35,37,33,37,41,41,38,36,41,38,38,43,38,35,35,34,36,36,35,36,33,37,39,33,39,35,40,37,35,41,37,33,39,35,43,38,37,33,40,43,39,39,40,41,36,38,36,33,34,41,42,34,35,41,34,33,42,39,38,35,33,41,35,42,43,39,38,43,40,35,42,35,38,33,35,39,33,36,34,36,40,35,42,41,40,35,41,38,37,34,39,33,39,36,34,41,37,34,38,36,33,38,33,35,36,42,37,35,34,33,39,40,38,41,42,43,33,34,34,35,42,41,34,43,36,34,39,39,42,37,42,39,38,36,42,34,40,33,35,42,39,41,37,37,40,35,35,41,36,38,34,43,34,38,41,40,37,43,40,36,34,42,35,42,33,36,40,36,36,37,39,35,39,33,41,39,42,40,37,40,34,38,43,43,39,36,38,35,39,35,36,41,35,40,39,39,34,33,36,33,41,33,38,38,36,43,39,38,38,38,42,37,39,34,34,37,39,39,34,41,40,35,37,42,41,36,42,37,33,35,36,37,36,36,37,40,43,37,36,37,39,33,36,38,38,35,40,42,34,34,35,33,42,38,37,36,33,35,42,33,33,38,43,37,42,39,40,33,43,37,43,40,36,33,43,38,38,37,38,34,41,37,35,38,36,34,36,36,37,37,37,34,36,37,39,38,38,40,38,41,38,37,33,40,36,37,42,36,33,38,39,40,33,36,36,33,33,41,39,34,37,41,41,42,33,39,35,35,43,43,36,37,37,33,42,35,34,37,34,40,41,41,40,39,33,39,38,42,37,38,41,37,33,35,35,43,39,38,38,39,33,34,38,34,37,34,39,36,33,33,41,38,40,33,34,33,40,42,33,40,37,39,34,40,35,43,33,39,35,41,36,37,34,39,41,33,39,36,36,36,42,33,39,35,40,42,41,41,33,39,33,41,33,41,34,42,39,37,37,41,35,36,36,34,37,38,36,37,37,43,33,43,40,37,33,43,37,37,35,43,42,40,40,40,34,33,37,35,33,40,42,36,33,34,37,37,35,37,34,40,39,41,35,40,36,42,37,34,40,36,33,41,33,36,34,34,37,33,39,42,33,41,40,35,39,40,39,41,39,37,36,35,35,33,33,42,39,39,39,35,37,37,42,40,38,40,42,37,35,35,34,35,41,38,39,41,33,35,36,36,37,35,38,35,34,34,35,41,37,35,34,34,41,36,34,37,35,35,37,36,33,37,42,36,39,33,33,34,39,39,36,38,41,38,33,36,43,43,33,37,34,39,39,43,37,37,41,36,37,41,40,38,42,40,34,39,39,43,39,37,33,34,35,40,33,42,35,42,41,39,34,38,35,35,37,33,33,38,36,39,39,36,39,43,33,34,43,43,34,35,41,43,37,36,36,33,33,43,37,43,35,42,41,35,40,40,34,38,40,34,34,35,35,42,37,33,42,33,35,36,41,39,34,43,33,43,39,35,38,42,33,33,39,39,36,39,40,35,36,38,42,36,42,34,39,40,35,43,37,35,34,37,42,39,37,34,37,33,33,43,43,36,40,38,43,34,36,41,40,43,41,33,39,33,33,42,42,34,34,34,35,40,39,42,34,33,40,41,34,34,40,33,34,43,41,43,33,41,37,36,41,39,33,33,36,38,42,35,43,41,33,34,35,35,42,39,39,37,37,33,42,34,33,39,36,35,34,43,35,40,34,37,36,34,34,40,34,41,35,37,39,36,39,34,37,38,33,34,34,34,43,35,33,36,34,36,34,42,35,41,36,35,39,37,39,42,39,39,37,42,37,34,41,41,35,38,42,35,36,37,36,39,36,36,38,35,40,39,40,39,39,42,38,36,42,42,34,34,40,39,38,40,39,37,33,36,37,37,33,33,36,38,33,39,38,41,41,43,40,33,35,43,43,35,43,36,38,35,40,42,42,35,39,43,39,41,37,40,40,35,39,36,37,36,34,42,43,35,37,36,39,37,36,33,35,42,41,41,41,36,37,42,35,39,38,33,38,34,42,34,42,43,33,36,43,41,42,37,37,33,37,40,42,36,34,40,36,35,38,40,41,35,41,38,33,43,42,38,37,33,35,43,34,36,42,39,33,33,37,33,34,42,37,33,35,41,41,37,40,34,40,42,41,33,37,43,36,33,33,38,41,42,37,34,34,43,34,33,42,35,39,38,42,38,37,35,37,35,36,34,35,33,34,42,37,36,39,36,35,43,33,36,40,36,34,40],\"customer_segments\":[2,2,2,2,2,2,2,2,2,2,2,2,2,2,2,2,2,2,2,2,2,2,2,2,2,2,2,2,2,2,2,2,2,2,2,2,2,2,2,2,2,2,2,2,2,2,2,2,2,2,2,2,2,2,2,2,2,2,2,2,2,2,2,2,2,2,2,2,2,2,2,2,2,2,2,2,2,2,2,2,2,2,2,2,2,2,2,2,2,2,2,2,2,2,2,2,2,2,2,2,2,2,2,2,2,2,2,2,2,2,2,2,2,2,2,2,2,2,2,2,2,2,2,2,2,2,2,2,2,2,2,2,2,2,2,2,2,2,2,2,2,2,2,2,2,2,2,2,2,2,2,2,2,2,2,2,2,2,2,2,2,2,2,2,2,2,2,2,2,2,2,2,2,2,2,2,2,2,2,2,2,2,2,2,2,2,2,2,2,2,2,2,2,2,2,2,2,2,2,2,2,2,2,2,2,2,2,2,2,2,2,2,2,2,2,2,2,2,2,2,2,2,2,2,2,2,2,2,2,2,2,2,2,2,2,2,2,2,2,2,2,2,2,2,2,2,2,2,2,2,2,2,2,2,2,2,2,2,2,2,2,2,2,2,2,2,2,2,2,2,2,2,2,2,2,2,2,2,2,2,2,2,2,2,2,2,2,2,2,2,2,2,2,2,2,2,2,2,2,2,2,2,2,2,2,2,2,2,2,2,2,2,2,2,2,2,2,2,2,2,2,2,2,2,2,2,2,2,2,2,2,2,2,2,2,2,2,2,2,2,2,2,2,2,2,2,2,2,2,2,2,2,2,2,2,2,2,2,2,2,2,2,2,2,2,2,2,2,2,2,2,2,2,2,2,2,2,2,2,2,2,2,2,2,2,2,2,2,2,2,2,2,2,2,2,2,2,2,2,2,2,2,2,2,2,2,2,2,2,2,2,2,2,2,2,2,2,2,2,2,2,2,2,2,2,2,2,2,2,2,2,2,2,2,2,2,2,2,2,2,2,2,2,2,2,2,2,2,2,2,2,2,2,2,2,2,2,2,2,2,2,2,2,2,2,2,2,2,2,2,2,2,2,2,2,2,2,2,2,2,2,2,2,2,2,2,2,2,2,2,2,2,2,2,2,2,2,2,2,2,2,2,2,2,2,2,2,2,2,2,2,2,2,2,2,2,2,2,2,2,2,2,2,2,2,2,2,2,2,2,2,2,2,2,2,2,2,2,2,2,2,2,2,2,2,2,2,2,2,2,2,2,2,2,2,2,2,2,2,2,2,2,2,2,2,2,2,2,2,2,2,2,2,2,2,2,2,2,2,2,2,2,2,2,2,2,2,2,2,2,2,2,2,2,2,2,2,2,2,2,2,2,2,2,2,2,2,2,2,2,2,2,2,2,2,2,2,2,2,2,2,2,2,2,2,2,2,2,2,2,2,2,2,2,2,2,2,2,2,2,2,2,2,2,2,2,2,2,2,2,2,2,2,2,2,2,2,2,2,2,2,2,2,2,2,2,2,2,2,2,2,2,2,2,2,2,2,2,2,2,2,2,2,2,2,2,2,2,2,2,2,2,2,2,2,2,2,2,2,2,2,2,2,2,2,2,2,2,2,2,2,2,2,2,2,2,2,2,2,2,2,2,2,2,2,2,2,2,2,2,2,2,2,2,2,2,2,2,2,2,2,2,2,2,2,2,2,2,2,2,2,2,2,2,2,2,2,2,2,2,2,2,2,2,2,2,2,2,2,2,2,2,2,2,2,2,2,2,2,2,2,2,2,2,2,2,2,2,2,2,2,2,2,2,2,2,2,2,2,2,2,2,2,2,2,2,2,2,2,2,2,2,2,2,2,2,2,2,2,2,2,2,2,2,2,2,2,2,2,2,2,2,2,2,2,2,2,2,2,2,2,2,2,2,2,2,2,2,2,2,2,2,2,2,2,2,2,2,2,2,2,2,2,2,2,2,2,2,2,2,2,2,2,2,2,2,2,2,2,2,2,2,2,2,2,2,2,2,2,2,2,2,2,2,2,2,2,2,2,2,2,2,2,2,2,2,2,2,2,2,2,2,2,2,2,2,2,2,2,2,2,2,2,2,2,2,2,2,2,2,2,2,2,2,2,2,2,2,2,2,2,2,2,2,2,2,2,2,2,2,2,2,2,2,2,2,2,2,2,2,2,2,2,2,2,2,2,2,2,2,2,2,2,2,2,2,2,2,2,2,2,2,2,2,2,2,2,2,2,2,2,2,2,2,2,2,2,2,2,2,2,2,2,2,2,2,2,2,2,2,2,2,2,2,2,2,2,2,2,2,2,2,2,2,2,2,2,2,2,2,2,2,2,2,2,2,2,2,2,2,2,2,2,2,2,2,2,2,2,2,2,2,2,2,2,2,2,2,2,2,2,2,2,2,2,2,2,2,2,2,2,2,2,2,2,2,2,2,2,2,2,2,2,2,2,2,2,2,2,2,2,2,2,2,2,2,2,2,2,2,2,2,2,2,2,2,2,2,2,2,2,2,2,2,2,2,2,2,2,2,2,2,2,2,2,2,2,2,2,2,2,2,2,2,2,2,2,2,2,2,2,2,2,2,2,2,2,2,2,2,2,2,2,2,2,2,2,2,2,2,2,2,2,2,2,2,2,2,2,2,2,2,2,2,2,2,2,2,2,2,2,2,2,2,2,2,2,2,2,2,2,2,2,2,2,2,2,2,2,2,2,2,2,2,2,2,2,2,2,2,2,2,2,2,2,2,2,2,2,2,2,2,2,2,2,2,2,2,2,2,2,2,2,2,2,2,2,2,2,2,2,2,2,2,2,2,2,2,2,2,2,2,2,2,2,2,2,2,2,2,2,2,2,2,2,2,2,2,2,2,2,2,2,2,2,2,2,2,2,2,2,2,2,2,2,2,2,2,2,2,2,2,2,2,2,2,2,2,2,2,2,2,2,2,2,2,2,2,2,2,2,2,2,2,2,2,2,2,2,2,2,2,2,2,2,2,2,2,2,2,2,2,2,2,2,2,2,2,2,2,2,2,2,2,2,2,2,2,2,2,2,2,2,2,2,2,2,2,2,2,2,2,2,2,2,2,2,2,2,2,2,2,2,2,2,2,2,2,2,2,2,2,2,2,2,2,2,2,2,2,2,2,2,2,2,2,2,2,2,2,2,2,2,2,2,2,2,2,2,2,2,2,2,2,2,2,2,2,2,2,2,2,2,2,2,2,2,2,2,2,2,2,2,2,2,2,2,2,2,2,2,2,2,2,2,2,2,2,2,2,2,2,2,2,2,2,2,2,2,2,2,2,2,2,2,2,2,2,2,2,2,2,2,2,2,2,2,2,2,2,2,2,2,2,2,2,2,2,2,2,2,2,2,2,2,2,2,2,2,2,2,2,2,2,2,2,2,2,2,2,2,2,2,2,2,2,2,2,2,2,2,2,2,2,2,2,2,2,2,2,2,2,2,2,2,2,2,2,2,2,2,2,2,2,2,2,2,2,2,2,2,2,2,2,2,2,2,2,2,2,2,2,2,2,2,2,2,2,2,2,2,2,2,2,2,2,2,2,2,2,2,2,2,2,2,2,2,2,2,2,2,2,2,2,2,2,2,2,2,2,2,2,2,2,2,2,2,2,2,2,2,2,2,2,2,2,2,2,2,2,2,2,2,2,2,2,2,2,2,2,2,2,2,2,2,2,2,2,2,2,2,2,2,2,2,2,2,2,2,2,2,2,2,2,2,2,2,2,2,2,2,2,2,2,2,2,2,2,2,2,2,2,2,2,2,2,2,2,2,2,2,2,2,2,2,2,2,2,2,2,2,2,2,2,2,2,2,2,2,2,2,2,2,2,2,2,2,2,2,2,2,2,2,2,2,2,2,2,2,2,2,2,2,2,2,2,2,2,2,2,2,2,2,2,2,2,2,2,2,2,2,2,2,2,2,2,2,2,2,2,2,2,2,2,2,2],\"limit_bal\":{\"__ndarray__\":\"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\",\"dtype\":\"float64\",\"order\":\"little\",\"shape\":[1756]}},\"selected\":{\"id\":\"1843\"},\"selection_policy\":{\"id\":\"1861\"}},\"id\":\"1842\",\"type\":\"ColumnDataSource\"},{\"attributes\":{\"axis_label\":\"age\",\"coordinates\":null,\"formatter\":{\"id\":\"1797\"},\"group\":null,\"major_label_policy\":{\"id\":\"1798\"},\"ticker\":{\"id\":\"1777\"}},\"id\":\"1776\",\"type\":\"LinearAxis\"},{\"attributes\":{\"axis_label\":\"limit_bal\",\"coordinates\":null,\"formatter\":{\"id\":\"1794\"},\"group\":null,\"major_label_policy\":{\"id\":\"1795\"},\"ticker\":{\"id\":\"1773\"}},\"id\":\"1772\",\"type\":\"LinearAxis\"}],\"root_ids\":[\"1757\"]},\"title\":\"Bokeh Application\",\"version\":\"2.4.3\"}};\n",
       "    var render_items = [{\"docid\":\"397e1beb-38cf-4ae8-92de-1485f7785c32\",\"root_ids\":[\"1757\"],\"roots\":{\"1757\":\"eb62d0a0-a192-44c5-8189-4764dc05a05c\"}}];\n",
       "    root.Bokeh.embed.embed_items_notebook(docs_json, render_items);\n",
       "    for (const render_item of render_items) {\n",
       "      for (const root_id of render_item.root_ids) {\n",
       "\tconst id_el = document.getElementById(root_id)\n",
       "\tif (id_el.children.length && (id_el.children[0].className === 'bk-root')) {\n",
       "\t  const root_el = id_el.children[0]\n",
       "\t  root_el.id = root_el.id + '-rendered'\n",
       "\t}\n",
       "      }\n",
       "    }\n",
       "  }\n",
       "  if (root.Bokeh !== undefined && root.Bokeh.Panel !== undefined) {\n",
       "    embed_document(root);\n",
       "  } else {\n",
       "    var attempts = 0;\n",
       "    var timer = setInterval(function(root) {\n",
       "      if (root.Bokeh !== undefined && root.Bokeh.Panel !== undefined) {\n",
       "        clearInterval(timer);\n",
       "        embed_document(root);\n",
       "      } else if (document.readyState == \"complete\") {\n",
       "        attempts++;\n",
       "        if (attempts > 200) {\n",
       "          clearInterval(timer);\n",
       "          console.log(\"Bokeh: ERROR: Unable to run BokehJS code because BokehJS library is missing\");\n",
       "        }\n",
       "      }\n",
       "    }, 25, root)\n",
       "  }\n",
       "})(window);</script>"
      ],
      "text/plain": [
       ":NdOverlay   [customer_segments]\n",
       "   :Scatter   [limit_bal]   (age)"
      ]
     },
     "execution_count": 37,
     "metadata": {
      "application/vnd.holoviews_exec.v0+json": {
       "id": "1757"
      }
     },
     "output_type": "execute_result"
    }
   ],
   "source": [
    "# Plot the clusters\n",
    "ccinfo_predictions_df.hvplot.scatter(\n",
    "    x=\"limit_bal\",\n",
    "    y=\"age\",\n",
    "    by=\"customer_segments\"\n",
    ")"
   ]
  },
  {
   "cell_type": "markdown",
   "metadata": {},
   "source": [
    "# =========================================="
   ]
  },
  {
   "cell_type": "markdown",
   "metadata": {},
   "source": [
    "### BREAK (0:10)"
   ]
  },
  {
   "cell_type": "markdown",
   "metadata": {},
   "source": [
    "# =========================================="
   ]
  },
  {
   "cell_type": "markdown",
   "metadata": {},
   "source": [
    "### 2.05 Students Do: Standardizing Stock Data (0:15) "
   ]
  },
  {
   "cell_type": "markdown",
   "metadata": {
    "tags": []
   },
   "source": [
    "# Standardizing Stock Data\n",
    "In this activity, you will use the K-means algorithm to segment customer data for mobile versus in-person banking service ratings. Before you’re able to cluster the data, you’ll need to preprocess it by using the techniques that you've learned in this lesson.\n",
    "## Instructions\n",
    "1. Read in the `tsx-energy-2018.csv` file from the `Resources` folder and create the DataFrame. Make sure to set the Ticker column as the DataFrame’s index. Then, review the DataFrame.\n",
    "   > **Note** The stock data that’s provided for this activity contains the yearly mean prices (open, high, low, and close), volume, annual return, and annual variance from companies in the energy sector that the TSX lists.\n",
    "2. To prepare the data, use the `StandardScaler` module and the `fit_transform` function to scale all the columns containing numerical values. Review a five-row sample of the scaled data using bracket notation ([0:5]).\n",
    "3. Create a new DataFrame called `df_stocks_scaled` that contains the scaled data. Make sure to do the following:\n",
    "   * Use the same labels that were referenced in the `StandardScaler` for the column names.\n",
    "   * Add a column to the DataFrame that consists of the tickers from the original DataFrame. (Hint: This column was the index).\n",
    "   * Set the new column of tickers as the index for the new DataFrame.\n",
    "   * Review the resulting DataFrame.\n",
    "4. Encode the “EnergyType” column using `pd.get_dummies`, and save the result in a separate DataFrame called `df_oil_dummies`. Note that because the company name isn’t relevant for clustering, you don’t need to encode the “CompanyName” column.\n",
    "5. Using the `pd.concat` function, concatenate the `df_stocks_scaled` DataFrame with the `df_oil_dummies` DataFrame along an axis value of 1 (`axis=1` tells Pandas to join the data horizontally by columns). Review the concatenated DataFrame.\n",
    "6. Using the concatenated DataFrame, cluster the data by using the K-means algorithm and a k value of 3. Create a copy of the concatenated DataFrame, and add the resulting list of company segment values as a new column.\n",
    "\n",
    "---"
   ]
  },
  {
   "cell_type": "code",
   "execution_count": 100,
   "metadata": {},
   "outputs": [],
   "source": [
    "# Import the required libraries and dependencies\n",
    "import pandas as pd\n",
    "from pathlib import Path\n",
    "from sklearn.cluster import KMeans\n",
    "from sklearn.preprocessing import StandardScaler"
   ]
  },
  {
   "cell_type": "code",
   "execution_count": 101,
   "metadata": {},
   "outputs": [
    {
     "data": {
      "text/html": [
       "<div>\n",
       "<style scoped>\n",
       "    .dataframe tbody tr th:only-of-type {\n",
       "        vertical-align: middle;\n",
       "    }\n",
       "\n",
       "    .dataframe tbody tr th {\n",
       "        vertical-align: top;\n",
       "    }\n",
       "\n",
       "    .dataframe thead th {\n",
       "        text-align: right;\n",
       "    }\n",
       "</style>\n",
       "<table border=\"1\" class=\"dataframe\">\n",
       "  <thead>\n",
       "    <tr style=\"text-align: right;\">\n",
       "      <th></th>\n",
       "      <th>CompanyName</th>\n",
       "      <th>MeanOpen</th>\n",
       "      <th>MeanHigh</th>\n",
       "      <th>MeanLow</th>\n",
       "      <th>MeanClose</th>\n",
       "      <th>MeanVolume</th>\n",
       "      <th>AnnualReturn</th>\n",
       "      <th>AnnualVariance</th>\n",
       "      <th>EnergyType</th>\n",
       "    </tr>\n",
       "    <tr>\n",
       "      <th>Ticker</th>\n",
       "      <th></th>\n",
       "      <th></th>\n",
       "      <th></th>\n",
       "      <th></th>\n",
       "      <th></th>\n",
       "      <th></th>\n",
       "      <th></th>\n",
       "      <th></th>\n",
       "      <th></th>\n",
       "    </tr>\n",
       "  </thead>\n",
       "  <tbody>\n",
       "    <tr>\n",
       "      <th>ARX</th>\n",
       "      <td>ARC Resources Ltd.</td>\n",
       "      <td>13.14</td>\n",
       "      <td>13.34</td>\n",
       "      <td>12.91</td>\n",
       "      <td>13.10</td>\n",
       "      <td>1479913.38</td>\n",
       "      <td>-0.7275</td>\n",
       "      <td>0.3590</td>\n",
       "      <td>Oil</td>\n",
       "    </tr>\n",
       "    <tr>\n",
       "      <th>CCO</th>\n",
       "      <td>Cameco Corporation</td>\n",
       "      <td>13.70</td>\n",
       "      <td>13.92</td>\n",
       "      <td>13.50</td>\n",
       "      <td>13.70</td>\n",
       "      <td>1203788.22</td>\n",
       "      <td>0.2014</td>\n",
       "      <td>0.3693</td>\n",
       "      <td>Other Energy</td>\n",
       "    </tr>\n",
       "    <tr>\n",
       "      <th>CNQ</th>\n",
       "      <td>Canadian Natural Resources Limited</td>\n",
       "      <td>41.97</td>\n",
       "      <td>42.46</td>\n",
       "      <td>41.46</td>\n",
       "      <td>41.91</td>\n",
       "      <td>3218248.68</td>\n",
       "      <td>-0.3461</td>\n",
       "      <td>0.2947</td>\n",
       "      <td>Oil</td>\n",
       "    </tr>\n",
       "    <tr>\n",
       "      <th>CVE</th>\n",
       "      <td>Cenovus Energy Inc.</td>\n",
       "      <td>11.96</td>\n",
       "      <td>12.18</td>\n",
       "      <td>11.75</td>\n",
       "      <td>11.95</td>\n",
       "      <td>4566143.56</td>\n",
       "      <td>-0.3219</td>\n",
       "      <td>0.4500</td>\n",
       "      <td>Oil</td>\n",
       "    </tr>\n",
       "    <tr>\n",
       "      <th>CPG</th>\n",
       "      <td>Crescent Point Energy Corp.</td>\n",
       "      <td>8.53</td>\n",
       "      <td>8.67</td>\n",
       "      <td>8.36</td>\n",
       "      <td>8.50</td>\n",
       "      <td>3919414.03</td>\n",
       "      <td>-1.0103</td>\n",
       "      <td>0.4597</td>\n",
       "      <td>Other Energy</td>\n",
       "    </tr>\n",
       "  </tbody>\n",
       "</table>\n",
       "</div>"
      ],
      "text/plain": [
       "                               CompanyName  MeanOpen  MeanHigh  MeanLow  \\\n",
       "Ticker                                                                    \n",
       "ARX                     ARC Resources Ltd.     13.14     13.34    12.91   \n",
       "CCO                     Cameco Corporation     13.70     13.92    13.50   \n",
       "CNQ     Canadian Natural Resources Limited     41.97     42.46    41.46   \n",
       "CVE                    Cenovus Energy Inc.     11.96     12.18    11.75   \n",
       "CPG            Crescent Point Energy Corp.      8.53      8.67     8.36   \n",
       "\n",
       "        MeanClose  MeanVolume  AnnualReturn  AnnualVariance    EnergyType  \n",
       "Ticker                                                                     \n",
       "ARX         13.10  1479913.38       -0.7275          0.3590           Oil  \n",
       "CCO         13.70  1203788.22        0.2014          0.3693  Other Energy  \n",
       "CNQ         41.91  3218248.68       -0.3461          0.2947           Oil  \n",
       "CVE         11.95  4566143.56       -0.3219          0.4500           Oil  \n",
       "CPG          8.50  3919414.03       -1.0103          0.4597  Other Energy  "
      ]
     },
     "execution_count": 101,
     "metadata": {},
     "output_type": "execute_result"
    }
   ],
   "source": [
    "# Read the CSV file into a Pandas DataFrame\n",
    "# Set the index using the Ticker column\n",
    "df_stocks = pd.read_csv(\n",
    "    Path(\"05-Stu-Standardizing_Stock_Data/Resources/tsx-energy-2018.csv\"), \n",
    "    index_col=\"Ticker\"\n",
    ")\n",
    "\n",
    "# Review the DataFrame\n",
    "df_stocks.head()"
   ]
  },
  {
   "cell_type": "code",
   "execution_count": 102,
   "metadata": {},
   "outputs": [
    {
     "data": {
      "text/plain": [
       "array([[-0.91683187, -0.91721692, -0.91804499, -0.9181346 , -0.15278563,\n",
       "        -1.33244548,  0.46085356],\n",
       "       [-0.88015205, -0.87947182, -0.87906242, -0.87878597, -0.37911694,\n",
       "         1.69574215,  0.55941139],\n",
       "       [ 0.97152411,  0.97784771,  0.96831488,  0.97125524,  1.27207441,\n",
       "        -0.08909231, -0.15441525],\n",
       "       [-0.9941215 , -0.99270713, -0.99468868, -0.9935528 ,  2.37690243,\n",
       "        -0.01020099,  1.33160722],\n",
       "       [-1.21878543, -1.2211301 , -1.21867327, -1.2198074 ,  1.8467981 ,\n",
       "        -2.25436545,  1.42442382]])"
      ]
     },
     "execution_count": 102,
     "metadata": {},
     "output_type": "execute_result"
    }
   ],
   "source": [
    "#  Prepare the data. Use the StandardScaler module and fit_transform function to \n",
    "# scale all columns with numerical values\n",
    "stock_data_scaled = StandardScaler().fit_transform(df_stocks[[\"MeanOpen\", \"MeanHigh\", \"MeanLow\", \"MeanClose\", \"MeanVolume\", \"AnnualReturn\", \"AnnualVariance\"]])\n",
    "\n",
    "# Diplay the first five rows of the scaled data\n",
    "stock_data_scaled[0:5]"
   ]
  },
  {
   "cell_type": "code",
   "execution_count": 103,
   "metadata": {},
   "outputs": [
    {
     "data": {
      "text/html": [
       "<div>\n",
       "<style scoped>\n",
       "    .dataframe tbody tr th:only-of-type {\n",
       "        vertical-align: middle;\n",
       "    }\n",
       "\n",
       "    .dataframe tbody tr th {\n",
       "        vertical-align: top;\n",
       "    }\n",
       "\n",
       "    .dataframe thead th {\n",
       "        text-align: right;\n",
       "    }\n",
       "</style>\n",
       "<table border=\"1\" class=\"dataframe\">\n",
       "  <thead>\n",
       "    <tr style=\"text-align: right;\">\n",
       "      <th></th>\n",
       "      <th>MeanOpen</th>\n",
       "      <th>MeanHigh</th>\n",
       "      <th>MeanLow</th>\n",
       "      <th>MeanClose</th>\n",
       "      <th>MeanVolume</th>\n",
       "      <th>AnnualReturn</th>\n",
       "      <th>AnnualVariance</th>\n",
       "    </tr>\n",
       "    <tr>\n",
       "      <th>Ticker</th>\n",
       "      <th></th>\n",
       "      <th></th>\n",
       "      <th></th>\n",
       "      <th></th>\n",
       "      <th></th>\n",
       "      <th></th>\n",
       "      <th></th>\n",
       "    </tr>\n",
       "  </thead>\n",
       "  <tbody>\n",
       "    <tr>\n",
       "      <th>ARX</th>\n",
       "      <td>-0.916832</td>\n",
       "      <td>-0.917217</td>\n",
       "      <td>-0.918045</td>\n",
       "      <td>-0.918135</td>\n",
       "      <td>-0.152786</td>\n",
       "      <td>-1.332445</td>\n",
       "      <td>0.460854</td>\n",
       "    </tr>\n",
       "    <tr>\n",
       "      <th>CCO</th>\n",
       "      <td>-0.880152</td>\n",
       "      <td>-0.879472</td>\n",
       "      <td>-0.879062</td>\n",
       "      <td>-0.878786</td>\n",
       "      <td>-0.379117</td>\n",
       "      <td>1.695742</td>\n",
       "      <td>0.559411</td>\n",
       "    </tr>\n",
       "    <tr>\n",
       "      <th>CNQ</th>\n",
       "      <td>0.971524</td>\n",
       "      <td>0.977848</td>\n",
       "      <td>0.968315</td>\n",
       "      <td>0.971255</td>\n",
       "      <td>1.272074</td>\n",
       "      <td>-0.089092</td>\n",
       "      <td>-0.154415</td>\n",
       "    </tr>\n",
       "    <tr>\n",
       "      <th>CVE</th>\n",
       "      <td>-0.994122</td>\n",
       "      <td>-0.992707</td>\n",
       "      <td>-0.994689</td>\n",
       "      <td>-0.993553</td>\n",
       "      <td>2.376902</td>\n",
       "      <td>-0.010201</td>\n",
       "      <td>1.331607</td>\n",
       "    </tr>\n",
       "    <tr>\n",
       "      <th>CPG</th>\n",
       "      <td>-1.218785</td>\n",
       "      <td>-1.221130</td>\n",
       "      <td>-1.218673</td>\n",
       "      <td>-1.219807</td>\n",
       "      <td>1.846798</td>\n",
       "      <td>-2.254365</td>\n",
       "      <td>1.424424</td>\n",
       "    </tr>\n",
       "  </tbody>\n",
       "</table>\n",
       "</div>"
      ],
      "text/plain": [
       "        MeanOpen  MeanHigh   MeanLow  MeanClose  MeanVolume  AnnualReturn  \\\n",
       "Ticker                                                                      \n",
       "ARX    -0.916832 -0.917217 -0.918045  -0.918135   -0.152786     -1.332445   \n",
       "CCO    -0.880152 -0.879472 -0.879062  -0.878786   -0.379117      1.695742   \n",
       "CNQ     0.971524  0.977848  0.968315   0.971255    1.272074     -0.089092   \n",
       "CVE    -0.994122 -0.992707 -0.994689  -0.993553    2.376902     -0.010201   \n",
       "CPG    -1.218785 -1.221130 -1.218673  -1.219807    1.846798     -2.254365   \n",
       "\n",
       "        AnnualVariance  \n",
       "Ticker                  \n",
       "ARX           0.460854  \n",
       "CCO           0.559411  \n",
       "CNQ          -0.154415  \n",
       "CVE           1.331607  \n",
       "CPG           1.424424  "
      ]
     },
     "execution_count": 103,
     "metadata": {},
     "output_type": "execute_result"
    }
   ],
   "source": [
    "# Create a DataFrame called with the scaled data\n",
    "# The column names should match those referenced in the StandardScaler step\n",
    "df_stocks_scaled = pd.DataFrame(\n",
    "    stock_data_scaled,\n",
    "    columns=[\"MeanOpen\", \"MeanHigh\", \"MeanLow\", \"MeanClose\", \"MeanVolume\", \"AnnualReturn\", \"AnnualVariance\"]\n",
    ")\n",
    "\n",
    "# Create a Ticker column in the df_stocks_scaled DataFrame\n",
    "# using the index of the original df_stocks DataFrame\n",
    "df_stocks_scaled[\"Ticker\"] = df_stocks.index\n",
    "\n",
    "# Set the newly created Ticker column as index of the df_stocks_scaled DataFrame\n",
    "df_stocks_scaled = df_stocks_scaled.set_index(\"Ticker\")\n",
    "\n",
    "# Review the DataFrame\n",
    "df_stocks_scaled.head()"
   ]
  },
  {
   "cell_type": "code",
   "execution_count": 104,
   "metadata": {},
   "outputs": [
    {
     "data": {
      "text/html": [
       "<div>\n",
       "<style scoped>\n",
       "    .dataframe tbody tr th:only-of-type {\n",
       "        vertical-align: middle;\n",
       "    }\n",
       "\n",
       "    .dataframe tbody tr th {\n",
       "        vertical-align: top;\n",
       "    }\n",
       "\n",
       "    .dataframe thead th {\n",
       "        text-align: right;\n",
       "    }\n",
       "</style>\n",
       "<table border=\"1\" class=\"dataframe\">\n",
       "  <thead>\n",
       "    <tr style=\"text-align: right;\">\n",
       "      <th></th>\n",
       "      <th>Oil</th>\n",
       "      <th>Other Energy</th>\n",
       "    </tr>\n",
       "    <tr>\n",
       "      <th>Ticker</th>\n",
       "      <th></th>\n",
       "      <th></th>\n",
       "    </tr>\n",
       "  </thead>\n",
       "  <tbody>\n",
       "    <tr>\n",
       "      <th>ARX</th>\n",
       "      <td>1</td>\n",
       "      <td>0</td>\n",
       "    </tr>\n",
       "    <tr>\n",
       "      <th>CCO</th>\n",
       "      <td>0</td>\n",
       "      <td>1</td>\n",
       "    </tr>\n",
       "    <tr>\n",
       "      <th>CNQ</th>\n",
       "      <td>1</td>\n",
       "      <td>0</td>\n",
       "    </tr>\n",
       "    <tr>\n",
       "      <th>CVE</th>\n",
       "      <td>1</td>\n",
       "      <td>0</td>\n",
       "    </tr>\n",
       "    <tr>\n",
       "      <th>CPG</th>\n",
       "      <td>0</td>\n",
       "      <td>1</td>\n",
       "    </tr>\n",
       "  </tbody>\n",
       "</table>\n",
       "</div>"
      ],
      "text/plain": [
       "        Oil  Other Energy\n",
       "Ticker                   \n",
       "ARX       1             0\n",
       "CCO       0             1\n",
       "CNQ       1             0\n",
       "CVE       1             0\n",
       "CPG       0             1"
      ]
     },
     "execution_count": 104,
     "metadata": {},
     "output_type": "execute_result"
    }
   ],
   "source": [
    "# Encode (convert to dummy variables) the EnergyType column\n",
    "df_oil_dummies = pd.get_dummies(df_stocks[\"EnergyType\"])\n",
    "\n",
    "# Review the DataFrame\n",
    "df_oil_dummies.head()"
   ]
  },
  {
   "cell_type": "code",
   "execution_count": 105,
   "metadata": {},
   "outputs": [
    {
     "data": {
      "text/html": [
       "<div>\n",
       "<style scoped>\n",
       "    .dataframe tbody tr th:only-of-type {\n",
       "        vertical-align: middle;\n",
       "    }\n",
       "\n",
       "    .dataframe tbody tr th {\n",
       "        vertical-align: top;\n",
       "    }\n",
       "\n",
       "    .dataframe thead th {\n",
       "        text-align: right;\n",
       "    }\n",
       "</style>\n",
       "<table border=\"1\" class=\"dataframe\">\n",
       "  <thead>\n",
       "    <tr style=\"text-align: right;\">\n",
       "      <th></th>\n",
       "      <th>MeanOpen</th>\n",
       "      <th>MeanHigh</th>\n",
       "      <th>MeanLow</th>\n",
       "      <th>MeanClose</th>\n",
       "      <th>MeanVolume</th>\n",
       "      <th>AnnualReturn</th>\n",
       "      <th>AnnualVariance</th>\n",
       "      <th>Oil</th>\n",
       "      <th>Other Energy</th>\n",
       "    </tr>\n",
       "    <tr>\n",
       "      <th>Ticker</th>\n",
       "      <th></th>\n",
       "      <th></th>\n",
       "      <th></th>\n",
       "      <th></th>\n",
       "      <th></th>\n",
       "      <th></th>\n",
       "      <th></th>\n",
       "      <th></th>\n",
       "      <th></th>\n",
       "    </tr>\n",
       "  </thead>\n",
       "  <tbody>\n",
       "    <tr>\n",
       "      <th>ARX</th>\n",
       "      <td>-0.916832</td>\n",
       "      <td>-0.917217</td>\n",
       "      <td>-0.918045</td>\n",
       "      <td>-0.918135</td>\n",
       "      <td>-0.152786</td>\n",
       "      <td>-1.332445</td>\n",
       "      <td>0.460854</td>\n",
       "      <td>1</td>\n",
       "      <td>0</td>\n",
       "    </tr>\n",
       "    <tr>\n",
       "      <th>CCO</th>\n",
       "      <td>-0.880152</td>\n",
       "      <td>-0.879472</td>\n",
       "      <td>-0.879062</td>\n",
       "      <td>-0.878786</td>\n",
       "      <td>-0.379117</td>\n",
       "      <td>1.695742</td>\n",
       "      <td>0.559411</td>\n",
       "      <td>0</td>\n",
       "      <td>1</td>\n",
       "    </tr>\n",
       "    <tr>\n",
       "      <th>CNQ</th>\n",
       "      <td>0.971524</td>\n",
       "      <td>0.977848</td>\n",
       "      <td>0.968315</td>\n",
       "      <td>0.971255</td>\n",
       "      <td>1.272074</td>\n",
       "      <td>-0.089092</td>\n",
       "      <td>-0.154415</td>\n",
       "      <td>1</td>\n",
       "      <td>0</td>\n",
       "    </tr>\n",
       "    <tr>\n",
       "      <th>CVE</th>\n",
       "      <td>-0.994122</td>\n",
       "      <td>-0.992707</td>\n",
       "      <td>-0.994689</td>\n",
       "      <td>-0.993553</td>\n",
       "      <td>2.376902</td>\n",
       "      <td>-0.010201</td>\n",
       "      <td>1.331607</td>\n",
       "      <td>1</td>\n",
       "      <td>0</td>\n",
       "    </tr>\n",
       "    <tr>\n",
       "      <th>CPG</th>\n",
       "      <td>-1.218785</td>\n",
       "      <td>-1.221130</td>\n",
       "      <td>-1.218673</td>\n",
       "      <td>-1.219807</td>\n",
       "      <td>1.846798</td>\n",
       "      <td>-2.254365</td>\n",
       "      <td>1.424424</td>\n",
       "      <td>0</td>\n",
       "      <td>1</td>\n",
       "    </tr>\n",
       "  </tbody>\n",
       "</table>\n",
       "</div>"
      ],
      "text/plain": [
       "        MeanOpen  MeanHigh   MeanLow  MeanClose  MeanVolume  AnnualReturn  \\\n",
       "Ticker                                                                      \n",
       "ARX    -0.916832 -0.917217 -0.918045  -0.918135   -0.152786     -1.332445   \n",
       "CCO    -0.880152 -0.879472 -0.879062  -0.878786   -0.379117      1.695742   \n",
       "CNQ     0.971524  0.977848  0.968315   0.971255    1.272074     -0.089092   \n",
       "CVE    -0.994122 -0.992707 -0.994689  -0.993553    2.376902     -0.010201   \n",
       "CPG    -1.218785 -1.221130 -1.218673  -1.219807    1.846798     -2.254365   \n",
       "\n",
       "        AnnualVariance  Oil  Other Energy  \n",
       "Ticker                                     \n",
       "ARX           0.460854    1             0  \n",
       "CCO           0.559411    0             1  \n",
       "CNQ          -0.154415    1             0  \n",
       "CVE           1.331607    1             0  \n",
       "CPG           1.424424    0             1  "
      ]
     },
     "execution_count": 105,
     "metadata": {},
     "output_type": "execute_result"
    }
   ],
   "source": [
    "# Concatenate the `EnergyType` encoded dummies with the scaled data DataFrame\n",
    "df_stocks_scaled = pd.concat([df_stocks_scaled, df_oil_dummies], axis=1)\n",
    "\n",
    "# Display the sample data\n",
    "df_stocks_scaled.head()"
   ]
  },
  {
   "cell_type": "code",
   "execution_count": 106,
   "metadata": {},
   "outputs": [],
   "source": [
    "# Initialize the K-Means model with n_clusters=3\n",
    "model = KMeans(n_clusters=3)"
   ]
  },
  {
   "cell_type": "code",
   "execution_count": 107,
   "metadata": {},
   "outputs": [
    {
     "data": {
      "text/plain": [
       "KMeans(n_clusters=3)"
      ]
     },
     "execution_count": 107,
     "metadata": {},
     "output_type": "execute_result"
    }
   ],
   "source": [
    "# Fit the model for the df_stocks_scaled DataFrame\n",
    "model.fit(df_stocks_scaled)"
   ]
  },
  {
   "cell_type": "code",
   "execution_count": 108,
   "metadata": {},
   "outputs": [
    {
     "name": "stdout",
     "output_type": "stream",
     "text": [
      "[0 1 2 0 0 2 1 1 1 2 1 1 0 1 1 1 2 1 0 2 2 2 2 0]\n"
     ]
    }
   ],
   "source": [
    "# Predict the model segments (clusters)\n",
    "stock_clusters = model.predict(df_stocks_scaled)\n",
    "\n",
    "# View the stock segments\n",
    "print(stock_clusters)"
   ]
  },
  {
   "cell_type": "code",
   "execution_count": 109,
   "metadata": {},
   "outputs": [],
   "source": [
    "# Create a copy of the concatenated DataFrame\n",
    "df_stocks_scaled_predictions = df_stocks_scaled.copy()"
   ]
  },
  {
   "cell_type": "code",
   "execution_count": 110,
   "metadata": {},
   "outputs": [
    {
     "data": {
      "text/html": [
       "<div>\n",
       "<style scoped>\n",
       "    .dataframe tbody tr th:only-of-type {\n",
       "        vertical-align: middle;\n",
       "    }\n",
       "\n",
       "    .dataframe tbody tr th {\n",
       "        vertical-align: top;\n",
       "    }\n",
       "\n",
       "    .dataframe thead th {\n",
       "        text-align: right;\n",
       "    }\n",
       "</style>\n",
       "<table border=\"1\" class=\"dataframe\">\n",
       "  <thead>\n",
       "    <tr style=\"text-align: right;\">\n",
       "      <th></th>\n",
       "      <th>MeanOpen</th>\n",
       "      <th>MeanHigh</th>\n",
       "      <th>MeanLow</th>\n",
       "      <th>MeanClose</th>\n",
       "      <th>MeanVolume</th>\n",
       "      <th>AnnualReturn</th>\n",
       "      <th>AnnualVariance</th>\n",
       "      <th>Oil</th>\n",
       "      <th>Other Energy</th>\n",
       "      <th>StockCluster</th>\n",
       "    </tr>\n",
       "    <tr>\n",
       "      <th>Ticker</th>\n",
       "      <th></th>\n",
       "      <th></th>\n",
       "      <th></th>\n",
       "      <th></th>\n",
       "      <th></th>\n",
       "      <th></th>\n",
       "      <th></th>\n",
       "      <th></th>\n",
       "      <th></th>\n",
       "      <th></th>\n",
       "    </tr>\n",
       "  </thead>\n",
       "  <tbody>\n",
       "    <tr>\n",
       "      <th>ARX</th>\n",
       "      <td>-0.916832</td>\n",
       "      <td>-0.917217</td>\n",
       "      <td>-0.918045</td>\n",
       "      <td>-0.918135</td>\n",
       "      <td>-0.152786</td>\n",
       "      <td>-1.332445</td>\n",
       "      <td>0.460854</td>\n",
       "      <td>1</td>\n",
       "      <td>0</td>\n",
       "      <td>0</td>\n",
       "    </tr>\n",
       "    <tr>\n",
       "      <th>CCO</th>\n",
       "      <td>-0.880152</td>\n",
       "      <td>-0.879472</td>\n",
       "      <td>-0.879062</td>\n",
       "      <td>-0.878786</td>\n",
       "      <td>-0.379117</td>\n",
       "      <td>1.695742</td>\n",
       "      <td>0.559411</td>\n",
       "      <td>0</td>\n",
       "      <td>1</td>\n",
       "      <td>1</td>\n",
       "    </tr>\n",
       "    <tr>\n",
       "      <th>CNQ</th>\n",
       "      <td>0.971524</td>\n",
       "      <td>0.977848</td>\n",
       "      <td>0.968315</td>\n",
       "      <td>0.971255</td>\n",
       "      <td>1.272074</td>\n",
       "      <td>-0.089092</td>\n",
       "      <td>-0.154415</td>\n",
       "      <td>1</td>\n",
       "      <td>0</td>\n",
       "      <td>2</td>\n",
       "    </tr>\n",
       "    <tr>\n",
       "      <th>CVE</th>\n",
       "      <td>-0.994122</td>\n",
       "      <td>-0.992707</td>\n",
       "      <td>-0.994689</td>\n",
       "      <td>-0.993553</td>\n",
       "      <td>2.376902</td>\n",
       "      <td>-0.010201</td>\n",
       "      <td>1.331607</td>\n",
       "      <td>1</td>\n",
       "      <td>0</td>\n",
       "      <td>0</td>\n",
       "    </tr>\n",
       "    <tr>\n",
       "      <th>CPG</th>\n",
       "      <td>-1.218785</td>\n",
       "      <td>-1.221130</td>\n",
       "      <td>-1.218673</td>\n",
       "      <td>-1.219807</td>\n",
       "      <td>1.846798</td>\n",
       "      <td>-2.254365</td>\n",
       "      <td>1.424424</td>\n",
       "      <td>0</td>\n",
       "      <td>1</td>\n",
       "      <td>0</td>\n",
       "    </tr>\n",
       "  </tbody>\n",
       "</table>\n",
       "</div>"
      ],
      "text/plain": [
       "        MeanOpen  MeanHigh   MeanLow  MeanClose  MeanVolume  AnnualReturn  \\\n",
       "Ticker                                                                      \n",
       "ARX    -0.916832 -0.917217 -0.918045  -0.918135   -0.152786     -1.332445   \n",
       "CCO    -0.880152 -0.879472 -0.879062  -0.878786   -0.379117      1.695742   \n",
       "CNQ     0.971524  0.977848  0.968315   0.971255    1.272074     -0.089092   \n",
       "CVE    -0.994122 -0.992707 -0.994689  -0.993553    2.376902     -0.010201   \n",
       "CPG    -1.218785 -1.221130 -1.218673  -1.219807    1.846798     -2.254365   \n",
       "\n",
       "        AnnualVariance  Oil  Other Energy  StockCluster  \n",
       "Ticker                                                   \n",
       "ARX           0.460854    1             0             0  \n",
       "CCO           0.559411    0             1             1  \n",
       "CNQ          -0.154415    1             0             2  \n",
       "CVE           1.331607    1             0             0  \n",
       "CPG           1.424424    0             1             0  "
      ]
     },
     "execution_count": 110,
     "metadata": {},
     "output_type": "execute_result"
    }
   ],
   "source": [
    "# Create a new column in the copy of the concatenated DataFrame with the predicted clusters\n",
    "df_stocks_scaled_predictions[\"StockCluster\"] = stock_clusters\n",
    "\n",
    "# Review the DataFrame\n",
    "df_stocks_scaled_predictions.head()"
   ]
  },
  {
   "cell_type": "markdown",
   "metadata": {},
   "source": [
    "# =========================================="
   ]
  },
  {
   "cell_type": "markdown",
   "metadata": {},
   "source": [
    "### 2.06 Instructor Do: Clustering Complex Data (0:15) "
   ]
  },
  {
   "cell_type": "markdown",
   "metadata": {},
   "source": [
    "**Definition**\n",
    "\n",
    "* **AgglomerativeClustering** Agglomerative Clustering. Recursively merges pair of clusters of sample data; uses linkage distance.\n",
    "* **BIRCH** BIRCH clustering algorithm. It is a memory-efficient, online-learning algorithm provided as an alternative to MiniBatchKMeans. It constructs a tree data structure with the cluster centroids being read off the leaf. These can be either the final cluster centroids or can be provided as input to another clustering algorithm such as AgglomerativeClustering.\n",
    "* **calinski_harabasz_score**: Compute the Calinski and Harabasz score. It is also known as the Variance Ratio Criterion. The score is defined as ratio of the sum of between-cluster dispersion and of within-cluster dispersion."
   ]
  },
  {
   "cell_type": "code",
   "execution_count": null,
   "metadata": {},
   "outputs": [],
   "source": []
  },
  {
   "cell_type": "code",
   "execution_count": 111,
   "metadata": {},
   "outputs": [],
   "source": [
    "# Import the dependencies\n",
    "import numpy as np\n",
    "np.random.seed(0)\n",
    "import pandas as pd\n",
    "import hvplot.pandas\n",
    "from sklearn import datasets"
   ]
  },
  {
   "cell_type": "markdown",
   "metadata": {},
   "source": [
    "### Build the Dataset"
   ]
  },
  {
   "cell_type": "code",
   "execution_count": 113,
   "metadata": {},
   "outputs": [
    {
     "data": {
      "text/plain": [
       "array([[ 0.26990344, -0.08961617],\n",
       "       [ 0.65960878, -0.44401893],\n",
       "       [ 0.85049952,  0.56270289],\n",
       "       [ 0.60950684,  0.69134729],\n",
       "       [ 2.00353027,  0.19446353],\n",
       "       [ 1.98790193,  0.40053406],\n",
       "       [ 0.24847592, -0.18050231],\n",
       "       [ 0.94871933,  0.37843451],\n",
       "       [-0.96065183, -0.10227327],\n",
       "       [ 0.44418573,  0.90246804]])"
      ]
     },
     "execution_count": 113,
     "metadata": {},
     "output_type": "execute_result"
    }
   ],
   "source": [
    "# Create a simulated dataset for illustration.\n",
    "X, y = datasets.make_moons(n_samples=(500), noise=0.05, random_state=1)\n",
    "X[0:10]"
   ]
  },
  {
   "cell_type": "markdown",
   "metadata": {},
   "source": [
    "### Fit and predict a K-Means Model"
   ]
  },
  {
   "cell_type": "code",
   "execution_count": null,
   "metadata": {},
   "outputs": [],
   "source": [
    "from sklearn.cluster import "
   ]
  },
  {
   "cell_type": "code",
   "execution_count": 114,
   "metadata": {},
   "outputs": [],
   "source": [
    "# Import the alternative algorithms for clustering.\n",
    "from sklearn.cluster import KMeans, AgglomerativeClustering, Birch\n",
    "# Use the Kmeans algorithm.\n",
    "k_model = KMeans(n_clusters=3, random_state=0)\n",
    "k_model.fit(X)\n",
    "predictions = k_model.predict(X)"
   ]
  },
  {
   "cell_type": "markdown",
   "metadata": {},
   "source": [
    "### Fit and Predict Birch and Agglomerative models"
   ]
  },
  {
   "cell_type": "code",
   "execution_count": 115,
   "metadata": {},
   "outputs": [],
   "source": [
    "# Use the Birch algorithm.\n",
    "birch_model = Birch(n_clusters=2)\n",
    "birch_model.fit(X)\n",
    "birch_predictions = birch_model.predict(X)"
   ]
  },
  {
   "cell_type": "code",
   "execution_count": 116,
   "metadata": {},
   "outputs": [],
   "source": [
    "# Use the AgglomerativeClustering algorithm.\n",
    "agglo_model = AgglomerativeClustering(n_clusters=3)\n",
    "agglo_predictions = agglo_model.fit_predict(X)"
   ]
  },
  {
   "cell_type": "markdown",
   "metadata": {},
   "source": [
    "### Plot Model Predictions for Birch"
   ]
  },
  {
   "cell_type": "code",
   "execution_count": 117,
   "metadata": {},
   "outputs": [
    {
     "data": {
      "text/html": [
       "<div>\n",
       "<style scoped>\n",
       "    .dataframe tbody tr th:only-of-type {\n",
       "        vertical-align: middle;\n",
       "    }\n",
       "\n",
       "    .dataframe tbody tr th {\n",
       "        vertical-align: top;\n",
       "    }\n",
       "\n",
       "    .dataframe thead th {\n",
       "        text-align: right;\n",
       "    }\n",
       "</style>\n",
       "<table border=\"1\" class=\"dataframe\">\n",
       "  <thead>\n",
       "    <tr style=\"text-align: right;\">\n",
       "      <th></th>\n",
       "      <th>0</th>\n",
       "      <th>1</th>\n",
       "      <th>birch-labels</th>\n",
       "    </tr>\n",
       "  </thead>\n",
       "  <tbody>\n",
       "    <tr>\n",
       "      <th>0</th>\n",
       "      <td>0.269903</td>\n",
       "      <td>-0.089616</td>\n",
       "      <td>0</td>\n",
       "    </tr>\n",
       "    <tr>\n",
       "      <th>1</th>\n",
       "      <td>0.659609</td>\n",
       "      <td>-0.444019</td>\n",
       "      <td>0</td>\n",
       "    </tr>\n",
       "    <tr>\n",
       "      <th>2</th>\n",
       "      <td>0.850500</td>\n",
       "      <td>0.562703</td>\n",
       "      <td>0</td>\n",
       "    </tr>\n",
       "    <tr>\n",
       "      <th>3</th>\n",
       "      <td>0.609507</td>\n",
       "      <td>0.691347</td>\n",
       "      <td>0</td>\n",
       "    </tr>\n",
       "    <tr>\n",
       "      <th>4</th>\n",
       "      <td>2.003530</td>\n",
       "      <td>0.194464</td>\n",
       "      <td>0</td>\n",
       "    </tr>\n",
       "    <tr>\n",
       "      <th>...</th>\n",
       "      <td>...</td>\n",
       "      <td>...</td>\n",
       "      <td>...</td>\n",
       "    </tr>\n",
       "    <tr>\n",
       "      <th>495</th>\n",
       "      <td>0.024589</td>\n",
       "      <td>0.392571</td>\n",
       "      <td>1</td>\n",
       "    </tr>\n",
       "    <tr>\n",
       "      <th>496</th>\n",
       "      <td>0.673013</td>\n",
       "      <td>0.715418</td>\n",
       "      <td>0</td>\n",
       "    </tr>\n",
       "    <tr>\n",
       "      <th>497</th>\n",
       "      <td>1.277861</td>\n",
       "      <td>-0.457502</td>\n",
       "      <td>0</td>\n",
       "    </tr>\n",
       "    <tr>\n",
       "      <th>498</th>\n",
       "      <td>-0.980544</td>\n",
       "      <td>0.194562</td>\n",
       "      <td>1</td>\n",
       "    </tr>\n",
       "    <tr>\n",
       "      <th>499</th>\n",
       "      <td>0.930210</td>\n",
       "      <td>0.468958</td>\n",
       "      <td>0</td>\n",
       "    </tr>\n",
       "  </tbody>\n",
       "</table>\n",
       "<p>500 rows × 3 columns</p>\n",
       "</div>"
      ],
      "text/plain": [
       "            0         1  birch-labels\n",
       "0    0.269903 -0.089616             0\n",
       "1    0.659609 -0.444019             0\n",
       "2    0.850500  0.562703             0\n",
       "3    0.609507  0.691347             0\n",
       "4    2.003530  0.194464             0\n",
       "..        ...       ...           ...\n",
       "495  0.024589  0.392571             1\n",
       "496  0.673013  0.715418             0\n",
       "497  1.277861 -0.457502             0\n",
       "498 -0.980544  0.194562             1\n",
       "499  0.930210  0.468958             0\n",
       "\n",
       "[500 rows x 3 columns]"
      ]
     },
     "execution_count": 117,
     "metadata": {},
     "output_type": "execute_result"
    }
   ],
   "source": [
    "# Make predictions for the Birch algorithm. \n",
    "predictions_df = pd.DataFrame(X)\n",
    "predictions_df['birch-labels'] = birch_predictions\n",
    "predictions_df"
   ]
  },
  {
   "cell_type": "code",
   "execution_count": 118,
   "metadata": {},
   "outputs": [
    {
     "data": {
      "text/html": [
       "<div>\n",
       "<style scoped>\n",
       "    .dataframe tbody tr th:only-of-type {\n",
       "        vertical-align: middle;\n",
       "    }\n",
       "\n",
       "    .dataframe tbody tr th {\n",
       "        vertical-align: top;\n",
       "    }\n",
       "\n",
       "    .dataframe thead th {\n",
       "        text-align: right;\n",
       "    }\n",
       "</style>\n",
       "<table border=\"1\" class=\"dataframe\">\n",
       "  <thead>\n",
       "    <tr style=\"text-align: right;\">\n",
       "      <th></th>\n",
       "      <th>feature_0</th>\n",
       "      <th>feature_1</th>\n",
       "      <th>birch-labels</th>\n",
       "    </tr>\n",
       "  </thead>\n",
       "  <tbody>\n",
       "    <tr>\n",
       "      <th>0</th>\n",
       "      <td>0.269903</td>\n",
       "      <td>-0.089616</td>\n",
       "      <td>0</td>\n",
       "    </tr>\n",
       "    <tr>\n",
       "      <th>1</th>\n",
       "      <td>0.659609</td>\n",
       "      <td>-0.444019</td>\n",
       "      <td>0</td>\n",
       "    </tr>\n",
       "    <tr>\n",
       "      <th>2</th>\n",
       "      <td>0.850500</td>\n",
       "      <td>0.562703</td>\n",
       "      <td>0</td>\n",
       "    </tr>\n",
       "    <tr>\n",
       "      <th>3</th>\n",
       "      <td>0.609507</td>\n",
       "      <td>0.691347</td>\n",
       "      <td>0</td>\n",
       "    </tr>\n",
       "    <tr>\n",
       "      <th>4</th>\n",
       "      <td>2.003530</td>\n",
       "      <td>0.194464</td>\n",
       "      <td>0</td>\n",
       "    </tr>\n",
       "    <tr>\n",
       "      <th>...</th>\n",
       "      <td>...</td>\n",
       "      <td>...</td>\n",
       "      <td>...</td>\n",
       "    </tr>\n",
       "    <tr>\n",
       "      <th>495</th>\n",
       "      <td>0.024589</td>\n",
       "      <td>0.392571</td>\n",
       "      <td>1</td>\n",
       "    </tr>\n",
       "    <tr>\n",
       "      <th>496</th>\n",
       "      <td>0.673013</td>\n",
       "      <td>0.715418</td>\n",
       "      <td>0</td>\n",
       "    </tr>\n",
       "    <tr>\n",
       "      <th>497</th>\n",
       "      <td>1.277861</td>\n",
       "      <td>-0.457502</td>\n",
       "      <td>0</td>\n",
       "    </tr>\n",
       "    <tr>\n",
       "      <th>498</th>\n",
       "      <td>-0.980544</td>\n",
       "      <td>0.194562</td>\n",
       "      <td>1</td>\n",
       "    </tr>\n",
       "    <tr>\n",
       "      <th>499</th>\n",
       "      <td>0.930210</td>\n",
       "      <td>0.468958</td>\n",
       "      <td>0</td>\n",
       "    </tr>\n",
       "  </tbody>\n",
       "</table>\n",
       "<p>500 rows × 3 columns</p>\n",
       "</div>"
      ],
      "text/plain": [
       "     feature_0  feature_1  birch-labels\n",
       "0     0.269903  -0.089616             0\n",
       "1     0.659609  -0.444019             0\n",
       "2     0.850500   0.562703             0\n",
       "3     0.609507   0.691347             0\n",
       "4     2.003530   0.194464             0\n",
       "..         ...        ...           ...\n",
       "495   0.024589   0.392571             1\n",
       "496   0.673013   0.715418             0\n",
       "497   1.277861  -0.457502             0\n",
       "498  -0.980544   0.194562             1\n",
       "499   0.930210   0.468958             0\n",
       "\n",
       "[500 rows x 3 columns]"
      ]
     },
     "execution_count": 118,
     "metadata": {},
     "output_type": "execute_result"
    }
   ],
   "source": [
    "#  Rename the non-string columns 0 and 1, \"No\" and \"Yes\" to avoid the Holoviews warning for future versions. \n",
    "predictions_df.rename({0: 'feature_0', 1: 'feature_1'}, axis=1, inplace=True)\n",
    "predictions_df"
   ]
  },
  {
   "cell_type": "code",
   "execution_count": 119,
   "metadata": {
    "scrolled": true
   },
   "outputs": [
    {
     "data": {},
     "metadata": {},
     "output_type": "display_data"
    },
    {
     "data": {
      "application/vnd.holoviews_exec.v0+json": "",
      "text/html": [
       "<div id='5347'>\n",
       "  <div class=\"bk-root\" id=\"29624136-42c0-43c3-a809-d424fcc1b8fe\" data-root-id=\"5347\"></div>\n",
       "</div>\n",
       "<script type=\"application/javascript\">(function(root) {\n",
       "  function embed_document(root) {\n",
       "    var docs_json = {\"8f5e540e-982f-48c0-8cc4-88bf1dff0b68\":{\"defs\":[{\"extends\":null,\"module\":null,\"name\":\"ReactiveHTML1\",\"overrides\":[],\"properties\":[]},{\"extends\":null,\"module\":null,\"name\":\"FlexBox1\",\"overrides\":[],\"properties\":[{\"default\":\"flex-start\",\"kind\":null,\"name\":\"align_content\"},{\"default\":\"flex-start\",\"kind\":null,\"name\":\"align_items\"},{\"default\":\"row\",\"kind\":null,\"name\":\"flex_direction\"},{\"default\":\"wrap\",\"kind\":null,\"name\":\"flex_wrap\"},{\"default\":\"flex-start\",\"kind\":null,\"name\":\"justify_content\"}]},{\"extends\":null,\"module\":null,\"name\":\"GridStack1\",\"overrides\":[],\"properties\":[{\"default\":\"warn\",\"kind\":null,\"name\":\"mode\"},{\"default\":null,\"kind\":null,\"name\":\"ncols\"},{\"default\":null,\"kind\":null,\"name\":\"nrows\"},{\"default\":true,\"kind\":null,\"name\":\"allow_resize\"},{\"default\":true,\"kind\":null,\"name\":\"allow_drag\"},{\"default\":[],\"kind\":null,\"name\":\"state\"}]},{\"extends\":null,\"module\":null,\"name\":\"click1\",\"overrides\":[],\"properties\":[{\"default\":\"\",\"kind\":null,\"name\":\"terminal_output\"},{\"default\":\"\",\"kind\":null,\"name\":\"debug_name\"},{\"default\":0,\"kind\":null,\"name\":\"clears\"}]},{\"extends\":null,\"module\":null,\"name\":\"NotificationAreaBase1\",\"overrides\":[],\"properties\":[{\"default\":\"bottom-right\",\"kind\":null,\"name\":\"position\"},{\"default\":0,\"kind\":null,\"name\":\"_clear\"}]},{\"extends\":null,\"module\":null,\"name\":\"NotificationArea1\",\"overrides\":[],\"properties\":[{\"default\":[],\"kind\":null,\"name\":\"notifications\"},{\"default\":\"bottom-right\",\"kind\":null,\"name\":\"position\"},{\"default\":0,\"kind\":null,\"name\":\"_clear\"},{\"default\":[{\"background\":\"#ffc107\",\"icon\":{\"className\":\"fas fa-exclamation-triangle\",\"color\":\"white\",\"tagName\":\"i\"},\"type\":\"warning\"},{\"background\":\"#007bff\",\"icon\":{\"className\":\"fas fa-info-circle\",\"color\":\"white\",\"tagName\":\"i\"},\"type\":\"info\"}],\"kind\":null,\"name\":\"types\"}]},{\"extends\":null,\"module\":null,\"name\":\"Notification\",\"overrides\":[],\"properties\":[{\"default\":null,\"kind\":null,\"name\":\"background\"},{\"default\":3000,\"kind\":null,\"name\":\"duration\"},{\"default\":null,\"kind\":null,\"name\":\"icon\"},{\"default\":\"\",\"kind\":null,\"name\":\"message\"},{\"default\":null,\"kind\":null,\"name\":\"notification_type\"},{\"default\":false,\"kind\":null,\"name\":\"_destroyed\"}]},{\"extends\":null,\"module\":null,\"name\":\"TemplateActions1\",\"overrides\":[],\"properties\":[{\"default\":0,\"kind\":null,\"name\":\"open_modal\"},{\"default\":0,\"kind\":null,\"name\":\"close_modal\"}]},{\"extends\":null,\"module\":null,\"name\":\"MaterialTemplateActions1\",\"overrides\":[],\"properties\":[{\"default\":0,\"kind\":null,\"name\":\"open_modal\"},{\"default\":0,\"kind\":null,\"name\":\"close_modal\"}]}],\"roots\":{\"references\":[{\"attributes\":{\"bottom_units\":\"screen\",\"coordinates\":null,\"fill_alpha\":0.5,\"fill_color\":\"lightgrey\",\"group\":null,\"left_units\":\"screen\",\"level\":\"overlay\",\"line_alpha\":1.0,\"line_color\":\"black\",\"line_dash\":[4,4],\"line_width\":2,\"right_units\":\"screen\",\"syncable\":false,\"top_units\":\"screen\"},\"id\":\"5374\",\"type\":\"BoxAnnotation\"},{\"attributes\":{},\"id\":\"5369\",\"type\":\"SaveTool\"},{\"attributes\":{\"fill_alpha\":{\"value\":0.1},\"fill_color\":{\"value\":\"#30a2da\"},\"hatch_alpha\":{\"value\":0.1},\"hatch_color\":{\"value\":\"#30a2da\"},\"line_alpha\":{\"value\":0.1},\"line_color\":{\"value\":\"#30a2da\"},\"size\":{\"value\":5.477225575051661},\"tags\":[\"apply_ranges\"],\"x\":{\"field\":\"feature_0\"},\"y\":{\"field\":\"feature_1\"}},\"id\":\"5392\",\"type\":\"Scatter\"},{\"attributes\":{},\"id\":\"5370\",\"type\":\"PanTool\"},{\"attributes\":{\"children\":[{\"id\":\"5352\"}],\"height\":300,\"margin\":[0,0,0,0],\"name\":\"Row05163\",\"sizing_mode\":\"fixed\",\"tags\":[\"embedded\"],\"width\":700},\"id\":\"5347\",\"type\":\"Row\"},{\"attributes\":{},\"id\":\"5373\",\"type\":\"ResetTool\"},{\"attributes\":{},\"id\":\"5371\",\"type\":\"WheelZoomTool\"},{\"attributes\":{\"source\":{\"id\":\"5409\"}},\"id\":\"5416\",\"type\":\"CDSView\"},{\"attributes\":{\"overlay\":{\"id\":\"5374\"}},\"id\":\"5372\",\"type\":\"BoxZoomTool\"},{\"attributes\":{},\"id\":\"5362\",\"type\":\"BasicTicker\"},{\"attributes\":{\"coordinates\":null,\"data_source\":{\"id\":\"5388\"},\"glyph\":{\"id\":\"5391\"},\"group\":null,\"hover_glyph\":null,\"muted_glyph\":{\"id\":\"5393\"},\"nonselection_glyph\":{\"id\":\"5392\"},\"selection_glyph\":{\"id\":\"5408\"},\"view\":{\"id\":\"5395\"}},\"id\":\"5394\",\"type\":\"GlyphRenderer\"},{\"attributes\":{},\"id\":\"5384\",\"type\":\"AllLabels\"},{\"attributes\":{},\"id\":\"5410\",\"type\":\"Selection\"},{\"attributes\":{\"fill_alpha\":{\"value\":0.2},\"fill_color\":{\"value\":\"#30a2da\"},\"hatch_alpha\":{\"value\":0.2},\"hatch_color\":{\"value\":\"#30a2da\"},\"line_alpha\":{\"value\":0.2},\"line_color\":{\"value\":\"#30a2da\"},\"size\":{\"value\":5.477225575051661},\"tags\":[\"apply_ranges\"],\"x\":{\"field\":\"feature_0\"},\"y\":{\"field\":\"feature_1\"}},\"id\":\"5393\",\"type\":\"Scatter\"},{\"attributes\":{\"axis\":{\"id\":\"5361\"},\"coordinates\":null,\"grid_line_color\":null,\"group\":null,\"ticker\":null},\"id\":\"5364\",\"type\":\"Grid\"},{\"attributes\":{\"data\":{\"birch_hyphen_minus_labels\":[1,1,1,1,1,1,1,1,1,1,1,1,1,1,1,1,1,1,1,1,1,1,1,1,1,1,1,1,1,1,1,1,1,1,1,1,1,1,1,1,1,1,1,1,1,1,1,1,1,1,1,1,1,1,1,1,1,1,1,1,1,1,1,1,1,1,1,1,1,1,1,1,1,1,1,1,1,1,1,1,1,1,1,1,1,1,1,1,1,1,1,1,1,1,1,1,1,1,1,1,1,1,1,1,1,1,1,1,1,1,1,1,1,1,1,1,1,1,1,1,1,1,1,1,1,1,1,1,1,1,1,1,1,1,1,1,1,1,1,1,1,1,1,1,1,1,1,1,1,1,1,1,1,1,1,1,1,1,1,1,1,1,1,1,1,1,1,1],\"feature_0\":{\"__ndarray__\":\"EGzi6Ki97r9EcIC6nDXev/uJSprPgcg/ziGUD2g46r9Eic2IkOzQv+nHItK5Nc6/YsMalAFd4r+ekqT/8vjqvxCI2nK6huK/pVSwCSyl7L8qDoDw9AGjP9Aq5NBlRuu//LR8LPFk27/Ft1KhfUTrvztuR2id0pc/NRtow4Ja3b/lQK1bLTXPv7Td0H3l+Mg/Ry/TjJatdL+OAMihrezDv88qIx7R+pO/iLiCLAl9rj/A3jAoNQLpv7F9UvhnL+C/YEdFQOvQ6r8lPRupL2Ppv+Vv05KU3/C/DxXxWrnqyT8RDB2wpmrvv1IIFVc/CPC/swx5scfO57/v7B6CipOoP4EBbk3vYuS/95CvB+Qg1L98lTo7nka1v3hrwV2HP++/RkZFDvu/w78gvATQK6/DPwR8fYUbBe+/NO1qutxv7L+3VOg8AB3qv+MUNGOivqw/k98BKDq7tL/EAjIaATnwv3u5l4AuaeC/2g2ZrKet8L9HsTPWFJ6lPyg8fHDqynm//GLqsE6NkT8E5tr2kF/mv6qu2L51E+G/+2KcnR7V3b+qF+HKPWbsv6/PUXPXx7S/CMEh5hvSp78o0TsLcqDCP5aM0iTy96g/ylwVioUo7r/b7lnNasfwv2ycFn132tC/g6CsMyxg57/RTDsDFMDuvwrDkybYvui/Ww0i1nSesL8n3q0/vGWiP8viRryso+K/3ghwjKUO5L/JJHOF1hLyv46bTtyJjok/4toseoh9xL+T4aUS8VHHP54EbKSEBcQ/dlbEjgD+yT+KsxtKpqLVv2k2vuI+aeC/yU87TutZ3r/bgJDB9nfxvxQxnZq2Cem/nRh1vB7n5r+KlMuDYTzTv1jqsyrFdpY/y5bvsJDB3b9Xle+lF7/jv0SaWsQpr+6/FtODJ3y17r+jUNPA65Puv2BiOiVXENa/2I1jwAgbtb8mDqwFFrnbv8NRkOm43J0/DlTj+4j3qz98eCLtvlfsvzp6inv3lMc/QQzhu6/e4r94+3dj4GXrvwUsfTmgT++/YwMWTGOa4r+294ZrCrTsvx3BITVRFfC/+kpDu4Un6b/LXcPdmxXCv7jf4luXFOS/UMlRABLo7L/QBEKONzDBv3KFJRkvvK0/iSXs7WCB7L9wmkV02rruv+GrtXcxl++/waAzWRw36L9Wsc6co0nCP1QC8JdXELE/Es9Zp/RL379PTMIhX2/hv8ytbnwbt+i/yUZeD9WJ6L+XZRL2kHvkv8KsS04SVPC/3SlaXbCGs78CHno1Xy7pv0IX4tQFacq/qSwgQ8KPyr8bojidMgTqvyYX7HcGlde/SvE+oHBxkT80jQQtI2Ttv++lv0Ra9e6/ACFHfLo37L8cx9lFN3mkP3VEhCCCmNK/hvTGCEdqtL+7C3qc3lB0P2rDqqToPKU/Osgwvr4K5r9K7X99TmTQv+klcB547uW/wghoDINh7796Zy4/FFXvv9RWhHELKNW/S/7Putvpqj/z9oX73M/Iv/VPz6d+FeG/VtyGrNdx2r8AuJjhfYsJP4wDfwJ+Iei/j6jIgXi0ur/5yyPRzAzUv4LqNby15O6/VIu6A+Q86L/YS85wQkp6P15t2/fAnL0/a4AmCLeF7b8OTZ05a+iov/4bEUQZr+y/dimel7Qpx7/d/wGj0/Lwv+R4IcLIIuu//+lHZZYE3L/IxJK3E/KtP1tiqIBfV6G/FMO7OweTlb/c+RPRRSXkv3zFs5Sf2O+/Lp5nMKuRrb8GtcYc0q7Ev5tMADFrcLm//OA3kj266r842LbWxi2ZP0FNfqOeYO+/\",\"dtype\":\"float64\",\"order\":\"little\",\"shape\":[168]},\"feature_1\":{\"__ndarray__\":\"x/6Qr5Quur9ZI7UL6SDrPxTo6rfL0fA/8YgOWR864T8W/bohUgnuP5PQDSqbL+8/uhc4rfvU6D9V8hxq5TblP+CZErX08ec/VWZKmajCxz/d5MuZYbvwP/KEQ4WXutk/tynCA74Q7D/3CFWy3ovgP9zVGigthts/Jv6mMcYo7j9Gx0LiCPLuP7OZ4cH84O0/AG4+D5Df4D/7ilr8ZAjvPwkxmXLjcNg/NlPX+2Nz8D9cYDgB4tPpP04mZCm+zOo/10WTlYS30j+wJ3B3r8DjP/rgNT3Iptc/tSdu9J1l7z+zFDVR83WyPzyp1Uh06Yq/bj9CVVhd3z9/Ic9GpcraP/J/Umxvweg/4JX9Gmur6j+7YeVxxdnwP+RKRfS44Nc/vJyBPQUM7j8DEkolAhvwPww/xowPIsk/YZxwhglO4T/FFtOP07riP1z2Zr4BG/A/bMfzVd0g0j8oVt8nsOWev4Ta5ctMUOs/UNM2RA1etz+T7ofYzIXeP6JqKMJ6jPA/n+FWxaIEzz9nSyfsAJjmPxaXkHnUJuk/XF+kYypb6z+hToVzwVDQP2cDgBQ/Eco/oC7kG60k8D9YeUZJn7DSP/Rx8Zj6evA/0qJSSTyk1D/+L5RxS3jGPx7uQWPo2u8/ZODn85gZ5j+KrflVyYfGP9v2CUSwzOA/5l1kVx5t7z/4Z5Pb/6vwP2szYTRoR+o/OpDCPy3E5z//TDZ23Y2jP5CCh7XXyew/RsMLRCsf7j8EocooeljwP0HnM0qPRvI/e+CYAGAm7T9pq+s6UhXvP+YTc1I3y+4/8tfPDLLL6D+wzp1ZqZB6v/QoSWyfid8/sDa1QeIT6D8XqFSEL1DwP5qFfnAslNA/9UnCCX3e6j++bmG1fy/sPzEgu6VSicg/jvKRaYf+wz+M5dyGAjDQP8Yz2d4xEOw/MLMD9A2N3T+sEQhDezjuP86QcDhiKck/GpZKuekR7z+eHIjr+TvfPwYTrlS0ju0/+94nBBde6D9b4EEcf3nXPy04eysqtdA/ISRhevif6T/o5rbhrMfWPymgcTYbTKk/AQjYfaVL4j9FrgtwsNzvPwjG5DktCuc/XjOhErCn4D9hEqYhCLDsPynKHd1RtO0/ghIkkU5I2T8AK95fHf7TP0yyLlMyvtw/61Y05LD56D9Gbs5mK/nwP+GqkA2FGvE/YqtgKE3T6j+7er7yO2fpP9hnKzD8weI/Gc8PefTc4j9+l5kjSvPpP/XSomG1R9Y/oMwi3rSA7j9tf5tbGtrlPwe72MzSae4/T1V+0w+R7T/8NI+lUTLhPxcCaJPFhO0/hr9bVTe3yD9PLRYzx1zaPwiv/c244ME/WqwAFt2+5D8R+vSxQEPQP+25wbZdKe0/E7p8xIzC1j8VfawxYffUP8EbztvRANo/HGZ5DO3U6z8JydP8SgDwPyTHAtI8fec/TFZgXkAkpz99njlGBTC7P1prr6rmO+8/0bI5511i1z+bQjNJT2LvP+xHji1ZpOo/jvwSCXKj7T+fQkEQhmrvP+1TnHUGauU/oezVxpKW0j9Y3nUls5TsP+0Dgn0U99I/rvdu1All4z9iwu8raNvtP8lYsGataew/K8pXIZ3t2T/CQuJhvq/RP7LC5ZAqa90/XWyairCH7z+Va1DgVG7HP+ApO4Hg+do/wCF2GiyK7z/RSPVTr/7ZPzSr+qRmv94/qGAztLAIzj9AuT8tZ9jmP59ZiGQ2Scc/amEuq9cb7z93p4RrU5DtPzBLcDIJjfE/GZ7o24h34j8qTrd34R/ZP3jT7pRq58g/\",\"dtype\":\"float64\",\"order\":\"little\",\"shape\":[168]}},\"selected\":{\"id\":\"5410\"},\"selection_policy\":{\"id\":\"5426\"}},\"id\":\"5409\",\"type\":\"ColumnDataSource\"},{\"attributes\":{},\"id\":\"5366\",\"type\":\"BasicTicker\"},{\"attributes\":{\"coordinates\":null,\"group\":null,\"text_color\":\"black\",\"text_font_size\":\"12pt\"},\"id\":\"5353\",\"type\":\"Title\"},{\"attributes\":{\"fill_color\":{\"value\":\"#30a2da\"},\"hatch_color\":{\"value\":\"#30a2da\"},\"line_color\":{\"value\":\"#30a2da\"},\"size\":{\"value\":5.477225575051661},\"tags\":[\"apply_ranges\"],\"x\":{\"field\":\"feature_0\"},\"y\":{\"field\":\"feature_1\"}},\"id\":\"5391\",\"type\":\"Scatter\"},{\"attributes\":{\"fill_color\":{\"value\":\"#fc4f30\"},\"hatch_color\":{\"value\":\"#fc4f30\"},\"line_color\":{\"value\":\"#fc4f30\"},\"size\":{\"value\":5.477225575051661},\"tags\":[\"apply_ranges\"],\"x\":{\"field\":\"feature_0\"},\"y\":{\"field\":\"feature_1\"}},\"id\":\"5412\",\"type\":\"Scatter\"},{\"attributes\":{\"label\":{\"value\":\"0\"},\"renderers\":[{\"id\":\"5394\"}]},\"id\":\"5407\",\"type\":\"LegendItem\"},{\"attributes\":{},\"id\":\"5359\",\"type\":\"LinearScale\"},{\"attributes\":{},\"id\":\"5383\",\"type\":\"BasicTickFormatter\"},{\"attributes\":{\"end\":2.2271793146736347,\"reset_end\":2.2271793146736347,\"reset_start\":-1.267548913159999,\"start\":-1.267548913159999,\"tags\":[[[\"feature_0\",\"feature_0\",null]]]},\"id\":\"5348\",\"type\":\"Range1d\"},{\"attributes\":{\"data\":{\"birch_hyphen_minus_labels\":[0,0,0,0,0,0,0,0,0,0,0,0,0,0,0,0,0,0,0,0,0,0,0,0,0,0,0,0,0,0,0,0,0,0,0,0,0,0,0,0,0,0,0,0,0,0,0,0,0,0,0,0,0,0,0,0,0,0,0,0,0,0,0,0,0,0,0,0,0,0,0,0,0,0,0,0,0,0,0,0,0,0,0,0,0,0,0,0,0,0,0,0,0,0,0,0,0,0,0,0,0,0,0,0,0,0,0,0,0,0,0,0,0,0,0,0,0,0,0,0,0,0,0,0,0,0,0,0,0,0,0,0,0,0,0,0,0,0,0,0,0,0,0,0,0,0,0,0,0,0,0,0,0,0,0,0,0,0,0,0,0,0,0,0,0,0,0,0,0,0,0,0,0,0,0,0,0,0,0,0,0,0,0,0,0,0,0,0,0,0,0,0,0,0,0,0,0,0,0,0,0,0,0,0,0,0,0,0,0,0,0,0,0,0,0,0,0,0,0,0,0,0,0,0,0,0,0,0,0,0,0,0,0,0,0,0,0,0,0,0,0,0,0,0,0,0,0,0,0,0,0,0,0,0,0,0,0,0,0,0,0,0,0,0,0,0,0,0,0,0,0,0,0,0,0,0,0,0,0,0,0,0,0,0,0,0,0,0,0,0,0,0,0,0,0,0,0,0,0,0,0,0,0,0,0,0,0,0,0,0,0,0,0,0,0,0,0,0,0,0,0,0,0,0,0,0,0,0,0,0,0,0],\"feature_0\":{\"__ndarray__\":\"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\",\"dtype\":\"float64\",\"order\":\"little\",\"shape\":[332]},\"feature_1\":{\"__ndarray__\":\"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\",\"dtype\":\"float64\",\"order\":\"little\",\"shape\":[332]}},\"selected\":{\"id\":\"5389\"},\"selection_policy\":{\"id\":\"5403\"}},\"id\":\"5388\",\"type\":\"ColumnDataSource\"},{\"attributes\":{\"angle\":{\"value\":0.0},\"fill_alpha\":{\"value\":1.0},\"fill_color\":{\"value\":\"#30a2da\"},\"hatch_alpha\":{\"value\":1.0},\"hatch_color\":{\"value\":\"#30a2da\"},\"hatch_scale\":{\"value\":12.0},\"hatch_weight\":{\"value\":1.0},\"line_alpha\":{\"value\":1.0},\"line_cap\":{\"value\":\"butt\"},\"line_color\":{\"value\":\"#30a2da\"},\"line_dash\":{\"value\":[]},\"line_dash_offset\":{\"value\":0},\"line_join\":{\"value\":\"bevel\"},\"line_width\":{\"value\":1},\"marker\":{\"value\":\"circle\"},\"size\":{\"value\":5.477225575051661},\"tags\":[\"apply_ranges\"],\"x\":{\"field\":\"feature_0\"},\"y\":{\"field\":\"feature_1\"}},\"id\":\"5408\",\"type\":\"Scatter\"},{\"attributes\":{\"axis_label\":\"feature_1\",\"coordinates\":null,\"formatter\":{\"id\":\"5386\"},\"group\":null,\"major_label_policy\":{\"id\":\"5387\"},\"ticker\":{\"id\":\"5366\"}},\"id\":\"5365\",\"type\":\"LinearAxis\"},{\"attributes\":{\"fill_alpha\":{\"value\":0.1},\"fill_color\":{\"value\":\"#fc4f30\"},\"hatch_alpha\":{\"value\":0.1},\"hatch_color\":{\"value\":\"#fc4f30\"},\"line_alpha\":{\"value\":0.1},\"line_color\":{\"value\":\"#fc4f30\"},\"size\":{\"value\":5.477225575051661},\"tags\":[\"apply_ranges\"],\"x\":{\"field\":\"feature_0\"},\"y\":{\"field\":\"feature_1\"}},\"id\":\"5413\",\"type\":\"Scatter\"},{\"attributes\":{},\"id\":\"5386\",\"type\":\"BasicTickFormatter\"},{\"attributes\":{\"axis_label\":\"feature_0\",\"coordinates\":null,\"formatter\":{\"id\":\"5383\"},\"group\":null,\"major_label_policy\":{\"id\":\"5384\"},\"ticker\":{\"id\":\"5362\"}},\"id\":\"5361\",\"type\":\"LinearAxis\"},{\"attributes\":{},\"id\":\"5387\",\"type\":\"AllLabels\"},{\"attributes\":{\"coordinates\":null,\"data_source\":{\"id\":\"5409\"},\"glyph\":{\"id\":\"5412\"},\"group\":null,\"hover_glyph\":null,\"muted_glyph\":{\"id\":\"5414\"},\"nonselection_glyph\":{\"id\":\"5413\"},\"selection_glyph\":{\"id\":\"5430\"},\"view\":{\"id\":\"5416\"}},\"id\":\"5415\",\"type\":\"GlyphRenderer\"},{\"attributes\":{},\"id\":\"5426\",\"type\":\"UnionRenderers\"},{\"attributes\":{\"axis\":{\"id\":\"5365\"},\"coordinates\":null,\"dimension\":1,\"grid_line_color\":null,\"group\":null,\"ticker\":null},\"id\":\"5368\",\"type\":\"Grid\"},{\"attributes\":{\"end\":1.3132585541817483,\"reset_end\":1.3132585541817483,\"reset_start\":-0.7391261487509769,\"start\":-0.7391261487509769,\"tags\":[[[\"feature_1\",\"feature_1\",null]]]},\"id\":\"5349\",\"type\":\"Range1d\"},{\"attributes\":{\"label\":{\"value\":\"1\"},\"renderers\":[{\"id\":\"5415\"}]},\"id\":\"5429\",\"type\":\"LegendItem\"},{\"attributes\":{},\"id\":\"5389\",\"type\":\"Selection\"},{\"attributes\":{},\"id\":\"5357\",\"type\":\"LinearScale\"},{\"attributes\":{\"angle\":{\"value\":0.0},\"fill_alpha\":{\"value\":1.0},\"fill_color\":{\"value\":\"#fc4f30\"},\"hatch_alpha\":{\"value\":1.0},\"hatch_color\":{\"value\":\"#fc4f30\"},\"hatch_scale\":{\"value\":12.0},\"hatch_weight\":{\"value\":1.0},\"line_alpha\":{\"value\":1.0},\"line_cap\":{\"value\":\"butt\"},\"line_color\":{\"value\":\"#fc4f30\"},\"line_dash\":{\"value\":[]},\"line_dash_offset\":{\"value\":0},\"line_join\":{\"value\":\"bevel\"},\"line_width\":{\"value\":1},\"marker\":{\"value\":\"circle\"},\"size\":{\"value\":5.477225575051661},\"tags\":[\"apply_ranges\"],\"x\":{\"field\":\"feature_0\"},\"y\":{\"field\":\"feature_1\"}},\"id\":\"5430\",\"type\":\"Scatter\"},{\"attributes\":{},\"id\":\"5403\",\"type\":\"UnionRenderers\"},{\"attributes\":{\"below\":[{\"id\":\"5361\"}],\"center\":[{\"id\":\"5364\"},{\"id\":\"5368\"}],\"height\":300,\"left\":[{\"id\":\"5365\"}],\"margin\":[5,5,5,5],\"min_border_bottom\":10,\"min_border_left\":10,\"min_border_right\":10,\"min_border_top\":10,\"output_backend\":\"webgl\",\"renderers\":[{\"id\":\"5394\"},{\"id\":\"5415\"}],\"right\":[{\"id\":\"5406\"}],\"sizing_mode\":\"fixed\",\"title\":{\"id\":\"5353\"},\"toolbar\":{\"id\":\"5375\"},\"width\":700,\"x_range\":{\"id\":\"5348\"},\"x_scale\":{\"id\":\"5357\"},\"y_range\":{\"id\":\"5349\"},\"y_scale\":{\"id\":\"5359\"}},\"id\":\"5352\",\"subtype\":\"Figure\",\"type\":\"Plot\"},{\"attributes\":{\"click_policy\":\"mute\",\"coordinates\":null,\"group\":null,\"items\":[{\"id\":\"5407\"},{\"id\":\"5429\"}],\"location\":[0,0],\"title\":\"birch-labels\"},\"id\":\"5406\",\"type\":\"Legend\"},{\"attributes\":{\"fill_alpha\":{\"value\":0.2},\"fill_color\":{\"value\":\"#fc4f30\"},\"hatch_alpha\":{\"value\":0.2},\"hatch_color\":{\"value\":\"#fc4f30\"},\"line_alpha\":{\"value\":0.2},\"line_color\":{\"value\":\"#fc4f30\"},\"size\":{\"value\":5.477225575051661},\"tags\":[\"apply_ranges\"],\"x\":{\"field\":\"feature_0\"},\"y\":{\"field\":\"feature_1\"}},\"id\":\"5414\",\"type\":\"Scatter\"},{\"attributes\":{\"callback\":null,\"renderers\":[{\"id\":\"5394\"},{\"id\":\"5415\"}],\"tags\":[\"hv_created\"],\"tooltips\":[[\"birch-labels\",\"@{birch_hyphen_minus_labels}\"],[\"feature_0\",\"@{feature_0}\"],[\"feature_1\",\"@{feature_1}\"]]},\"id\":\"5350\",\"type\":\"HoverTool\"},{\"attributes\":{\"source\":{\"id\":\"5388\"}},\"id\":\"5395\",\"type\":\"CDSView\"},{\"attributes\":{\"active_drag\":{\"id\":\"5370\"},\"active_scroll\":{\"id\":\"5371\"},\"tools\":[{\"id\":\"5350\"},{\"id\":\"5369\"},{\"id\":\"5370\"},{\"id\":\"5371\"},{\"id\":\"5372\"},{\"id\":\"5373\"}]},\"id\":\"5375\",\"type\":\"Toolbar\"}],\"root_ids\":[\"5347\"]},\"title\":\"Bokeh Application\",\"version\":\"2.4.3\"}};\n",
       "    var render_items = [{\"docid\":\"8f5e540e-982f-48c0-8cc4-88bf1dff0b68\",\"root_ids\":[\"5347\"],\"roots\":{\"5347\":\"29624136-42c0-43c3-a809-d424fcc1b8fe\"}}];\n",
       "    root.Bokeh.embed.embed_items_notebook(docs_json, render_items);\n",
       "    for (const render_item of render_items) {\n",
       "      for (const root_id of render_item.root_ids) {\n",
       "\tconst id_el = document.getElementById(root_id)\n",
       "\tif (id_el.children.length && (id_el.children[0].className === 'bk-root')) {\n",
       "\t  const root_el = id_el.children[0]\n",
       "\t  root_el.id = root_el.id + '-rendered'\n",
       "\t}\n",
       "      }\n",
       "    }\n",
       "  }\n",
       "  if (root.Bokeh !== undefined && root.Bokeh.Panel !== undefined) {\n",
       "    embed_document(root);\n",
       "  } else {\n",
       "    var attempts = 0;\n",
       "    var timer = setInterval(function(root) {\n",
       "      if (root.Bokeh !== undefined && root.Bokeh.Panel !== undefined) {\n",
       "        clearInterval(timer);\n",
       "        embed_document(root);\n",
       "      } else if (document.readyState == \"complete\") {\n",
       "        attempts++;\n",
       "        if (attempts > 200) {\n",
       "          clearInterval(timer);\n",
       "          console.log(\"Bokeh: ERROR: Unable to run BokehJS code because BokehJS library is missing\");\n",
       "        }\n",
       "      }\n",
       "    }, 25, root)\n",
       "  }\n",
       "})(window);</script>"
      ],
      "text/plain": [
       ":NdOverlay   [birch-labels]\n",
       "   :Scatter   [feature_0]   (feature_1)"
      ]
     },
     "execution_count": 119,
     "metadata": {
      "application/vnd.holoviews_exec.v0+json": {
       "id": "5347"
      }
     },
     "output_type": "execute_result"
    }
   ],
   "source": [
    "# Plot predictions for the Birch algorithm. \n",
    "predictions_df.hvplot.scatter(\n",
    "    x=\"feature_0\",\n",
    "    y=\"feature_1\",\n",
    "    by=\"birch-labels\"\n",
    ")"
   ]
  },
  {
   "cell_type": "markdown",
   "metadata": {},
   "source": [
    "### Estimate Scores for two Versions of the Birch Model"
   ]
  },
  {
   "cell_type": "code",
   "execution_count": 124,
   "metadata": {},
   "outputs": [],
   "source": [
    "# Estimate scores for two clusters for the Birch model. \n",
    "birch_model_two_clusters = Birch(n_clusters=2)\n",
    "birch_model_two_clusters.fit(X)\n",
    "birch_predictions_2 = birch_model_two_clusters.predict(X)"
   ]
  },
  {
   "cell_type": "code",
   "execution_count": 125,
   "metadata": {},
   "outputs": [],
   "source": [
    "# Estimate scores for 3 clusters for the Birch model. \n",
    "birch_model_three_clusters = Birch(n_clusters=3)\n",
    "birch_model_three_clusters.fit(X)\n",
    "birch_predictions_3 = birch_model_three_clusters.predict(X)"
   ]
  },
  {
   "cell_type": "code",
   "execution_count": 126,
   "metadata": {},
   "outputs": [
    {
     "data": {
      "text/plain": [
       "588.1123857523019"
      ]
     },
     "execution_count": 126,
     "metadata": {},
     "output_type": "execute_result"
    }
   ],
   "source": [
    "# Use the Calinski-Harabasz index or variance ratio criterion to define two clusters. \n",
    "from sklearn import metrics\n",
    "labels = birch_model_two_clusters.labels_\n",
    "score = metrics.calinski_harabasz_score(X, labels)  \n",
    "score"
   ]
  },
  {
   "cell_type": "code",
   "execution_count": 127,
   "metadata": {},
   "outputs": [
    {
     "data": {
      "text/plain": [
       "654.2904571777168"
      ]
     },
     "execution_count": 127,
     "metadata": {},
     "output_type": "execute_result"
    }
   ],
   "source": [
    "# Use the Calinski-Harabasz index or variance ratio criterion to define three clusters. \n",
    "labels = birch_model_three_clusters.labels_\n",
    "score = metrics.calinski_harabasz_score(X, labels)  \n",
    "score"
   ]
  },
  {
   "cell_type": "code",
   "execution_count": 130,
   "metadata": {},
   "outputs": [
    {
     "data": {},
     "metadata": {},
     "output_type": "display_data"
    },
    {
     "data": {
      "application/vnd.holoviews_exec.v0+json": "",
      "text/html": [
       "<div id='6894'>\n",
       "  <div class=\"bk-root\" id=\"e8960c98-d563-45c1-bb53-f1ac1f261892\" data-root-id=\"6894\"></div>\n",
       "</div>\n",
       "<script type=\"application/javascript\">(function(root) {\n",
       "  function embed_document(root) {\n",
       "    var docs_json = {\"6d667206-d0b8-4b44-9b57-baf8f6172218\":{\"defs\":[{\"extends\":null,\"module\":null,\"name\":\"ReactiveHTML1\",\"overrides\":[],\"properties\":[]},{\"extends\":null,\"module\":null,\"name\":\"FlexBox1\",\"overrides\":[],\"properties\":[{\"default\":\"flex-start\",\"kind\":null,\"name\":\"align_content\"},{\"default\":\"flex-start\",\"kind\":null,\"name\":\"align_items\"},{\"default\":\"row\",\"kind\":null,\"name\":\"flex_direction\"},{\"default\":\"wrap\",\"kind\":null,\"name\":\"flex_wrap\"},{\"default\":\"flex-start\",\"kind\":null,\"name\":\"justify_content\"}]},{\"extends\":null,\"module\":null,\"name\":\"GridStack1\",\"overrides\":[],\"properties\":[{\"default\":\"warn\",\"kind\":null,\"name\":\"mode\"},{\"default\":null,\"kind\":null,\"name\":\"ncols\"},{\"default\":null,\"kind\":null,\"name\":\"nrows\"},{\"default\":true,\"kind\":null,\"name\":\"allow_resize\"},{\"default\":true,\"kind\":null,\"name\":\"allow_drag\"},{\"default\":[],\"kind\":null,\"name\":\"state\"}]},{\"extends\":null,\"module\":null,\"name\":\"click1\",\"overrides\":[],\"properties\":[{\"default\":\"\",\"kind\":null,\"name\":\"terminal_output\"},{\"default\":\"\",\"kind\":null,\"name\":\"debug_name\"},{\"default\":0,\"kind\":null,\"name\":\"clears\"}]},{\"extends\":null,\"module\":null,\"name\":\"NotificationAreaBase1\",\"overrides\":[],\"properties\":[{\"default\":\"bottom-right\",\"kind\":null,\"name\":\"position\"},{\"default\":0,\"kind\":null,\"name\":\"_clear\"}]},{\"extends\":null,\"module\":null,\"name\":\"NotificationArea1\",\"overrides\":[],\"properties\":[{\"default\":[],\"kind\":null,\"name\":\"notifications\"},{\"default\":\"bottom-right\",\"kind\":null,\"name\":\"position\"},{\"default\":0,\"kind\":null,\"name\":\"_clear\"},{\"default\":[{\"background\":\"#ffc107\",\"icon\":{\"className\":\"fas fa-exclamation-triangle\",\"color\":\"white\",\"tagName\":\"i\"},\"type\":\"warning\"},{\"background\":\"#007bff\",\"icon\":{\"className\":\"fas fa-info-circle\",\"color\":\"white\",\"tagName\":\"i\"},\"type\":\"info\"}],\"kind\":null,\"name\":\"types\"}]},{\"extends\":null,\"module\":null,\"name\":\"Notification\",\"overrides\":[],\"properties\":[{\"default\":null,\"kind\":null,\"name\":\"background\"},{\"default\":3000,\"kind\":null,\"name\":\"duration\"},{\"default\":null,\"kind\":null,\"name\":\"icon\"},{\"default\":\"\",\"kind\":null,\"name\":\"message\"},{\"default\":null,\"kind\":null,\"name\":\"notification_type\"},{\"default\":false,\"kind\":null,\"name\":\"_destroyed\"}]},{\"extends\":null,\"module\":null,\"name\":\"TemplateActions1\",\"overrides\":[],\"properties\":[{\"default\":0,\"kind\":null,\"name\":\"open_modal\"},{\"default\":0,\"kind\":null,\"name\":\"close_modal\"}]},{\"extends\":null,\"module\":null,\"name\":\"MaterialTemplateActions1\",\"overrides\":[],\"properties\":[{\"default\":0,\"kind\":null,\"name\":\"open_modal\"},{\"default\":0,\"kind\":null,\"name\":\"close_modal\"}]}],\"roots\":{\"references\":[{\"attributes\":{\"source\":{\"id\":\"6957\"}},\"id\":\"6964\",\"type\":\"CDSView\"},{\"attributes\":{\"data\":{\"class\":[0,0,0,0,0,0,0,0,0,0,0,0,0,0,0,0,0,0,0,0,0,0,0,0,0,0,0,0,0,0,0,0,0,0,0,0,0,0,0,0,0,0,0,0,0,0,0,0,0,0,0,0,0,0,0,0,0,0,0,0,0,0,0,0,0,0,0,0,0,0,0,0,0,0,0,0,0,0,0,0,0,0,0,0,0,0,0,0,0,0,0,0,0,0,0,0,0,0,0,0,0,0,0,0,0,0,0,0,0,0,0,0,0,0,0,0,0,0,0,0,0,0,0,0,0,0,0,0,0,0,0,0,0,0,0,0,0,0,0,0,0,0,0,0,0,0,0,0,0,0,0,0,0],\"feature_0\":{\"__ndarray__\":\"lihJ4DoHAECZseQ/cs7/P7I1R0wCEvs/nf6/cV3y/z+ptNBL+njwPzVjBZ3u1fs/yV3famdL8D+acmsmhD71P9OnkuZGYu0/qlxgJycV+z84pQJPOwX+PxewJuP/aPg/J0XvYxWG9j+Ri2yCJCr4P+zBSEV6Yf0//EEEr5su6j/ZaPdL40LyP2t4dKjstfI/dpq7X2Li/j8rumpXf0P/P0v7naQNRfo/GZkI7OyS9j8Z/rt/2wX8P4J/yibc2f8/7htL71u0/z9Lww/glZv/P/oJzCXqTP8/M62WH4jH+T81Y9zgmwfxP64aQxg0pvg/FSUkvNxy+z9Alspj36P+P1WAnD8GZPA/2UOOLZUa8T9oMJRVYozzP9qqHaIepfc/7nIIe7eH/z8Ypzx3jC77P4jWhl4NZfk/hSBi1ogy/j9c2Cy6pxUAQJ/fK4uqPf8/BLS7hKdi/D/Mc03FpAjwP592DPDt9vw/Erl0EC36/T8SHV+LlGHvP6uRis/v4eo/HVkJ5KI58D96DLhXcIj6P/DMY7Wi0P4/JQuvrAcV8j82JRJu+2T4PwmX++Rjs/A/z5EaI5vT7z+d4n3PiZPzPyyJ0SSungBAQngAlvl07D9nQ+yABR/2PwteYc1oIO8/fSE17peH/T9Pcrq+4Vj+PxxTLUY6pfc/NqtQY81X9D+F4Sk8Bbj5PzfheOWSYvA/yp0dMSmu9D/0Q7birIf/P+PWw8gwSPo/0NP1RXwi+T+JV9GJbub6P3ERdV5ref4/GOj33P5G/D8f/1k/dh4AQHz6elmrvPk/61pTKBTA/j/xvHW+kVbtPyRaTbSOufw/xKNTOfMf/z8+xJNcMqb6P21g4sVMUfc/SKZeRKdF9z84nJZ2ribpP87peRK0wf8/XkICpYrQ9D/MgAHhiSz/PyWP7/a9tgBAYMSz1Vvz/j8MaAmztovxPx2CFXwoyPs/SOlMxFFH+D8UDG11bf7zP9KNiX9fMwBAdIxshqqU/z8UfGLPnvH2P4GsNd2bw/0//Wvpj9b36T+RljZVOTb2Pz+fSEEfQgBAaB24Tm4X8j/6dXxgzD38PwP+11a63vo/Jeu1XHzY/j/DNKQZ86D+P0YRtgXtbwBAGgBeD5tW6z9P+zRG68DrP8Zb7eSaMfA/1Ms2Hxjo+j/aUYaSEY3oP4OlxntMCPc/4Nl+mOSz5z/0ler0KqXtPwNNL0Bn+fU/igf54dtN8j/Lj8VRq7rpP8QKPcUBAQBA06Zh00x4+z9yG+d/i1//P2AU2q0/YPs/vn9dVw/g8D+e9IfEdBX8PztCWow40uw/bsR4wj3g/D/Q02vCI24AQD8YotYyOvg/xoYA57da+z8L7ou9CLDqP9pwyEx8O/I/Z3ZtS5e1/z/uZGfIK93zPwpgiQbOOuo/y0phhr1k7j8eZQaUsiP/P3wnRFtWXPM/7O+e4Af18j/vLtDz5gIAQDy/gmM2ZPk/e8mpRfl2/j+SI/r+MI7xP7Fovz5pSf8/7eV74Kkf5z9uTmzQKCr0P46MqxonUPc/pVV15bJW9D/1USzDHGD/P6/xWbObDvU/NOKRm1G16D84yU8R1cryP26KgWix7P0/3FsJ/P61/D8YjNUNdkz0PxgKmIAecvQ/\",\"dtype\":\"float64\",\"order\":\"little\",\"shape\":[153]},\"feature_1\":{\"__ndarray__\":\"GB6rWi7kyD/pO3iYWaLZP5TEyLYF7cW/nGmt8HlL1j9O3Dtpr1nhv3PL6CxkWMG/0ckgDmPGpj8mqFQYP1ncv48rNoAARdy/UrzHyVyvyr8OoIntFX6+P26d1MfPldG/WoiR5QkQ2b9xFZY6EibVv79LCK6z1Ly/mUi5B7FF379WZ9DxXl3cv1mvLOciEOG/BHAMOfdFwD/4x1rOXr7eP0/KfWDCn9i/bbw9R2ur1L9IuAVjq1i4v7hYhV1Q7Ns/AgAOex6P0j9967U7ddXKP54d1g+Y9Mw/geMafW2l078pWRavaA6xP1G3IxIOv9m/wRGATcE20r86qeIpFZXNP9a4azsiM96/vsDKxaMI2b/M6XB5hRbcv5wSrSW0Uta/ib4qMO611j84UP9RN+bKv2/0AyviydK/2pRFLelCwD/mWHW8ZTTgP/gHwKXHYr6/ri6LUSCtt78SUY0tQkThv8Ilwg9P7ra/19OnKxcLsL/Th2ATkOffvzXwgGhlLtm/lcDB2DQc4b/rLZOM4CDSv9xaW1OxDLY/+TMbNn+O3b9tDWeWhnTVvzymU5FR+t+/QtFAnJra4L9tgu+NkIXev83lEJlUhd4//bQrrj1j4b/b1pKu59DZv8vGM9CYg96/CNzH1dfip78Ql9iknTvCP/iuREDMYdi/PTK45lSt3r/mL4D+a7nWv2PII5Eyd0I/I1c43yVP2b/2hNAC/y7LP8yQ7yQlYdO/A1iwybAVzb+YdaWPYFHRv6AErOgvk7u/Gq6B0l1Lvb9b3Kab9ErEP/xMlmeOp8u/dvGf82ylwz+klwy26p7gvyBox+7mmcO/bLU6+6MM0T8QJcnklN/BvyoTbtY78du/Ocl06Q6b2r/d4y5QrpHgv7bc+Ug4Z88/+C7uwTF32r+3fKXzTrS/PyxBNB1K790/wJkAYTIwwT9JiBrm9oq6P8VpJZtzt9G/ofQpfDWk2L9AqC+y6cbYvyCNX9KKLtA/RHOKlpu+0T/4GTvYLu3bvwJJnZXBrME/KssOdXWu2b+bN6S3Vhbhv21uikfrwtM/0RDfE4yT37+EOWoFzBiiv32/w6h0bMq/GXBkZlxLwT9uRmmXoZKhP7yR6czJmto/u0vFC31H3r8I2V0lqC/hv5wcJNwTP9y/YsMFT3b9zL+YG+NrB4Ldv8YBjebvwNi/ix8a74tY4L9QL+4Y7NHbv5sxx7AYWt2/o0IYn49Y3r+7o8icHvzgv+6vf6+uydY/0ev6d4J4xb+h0QNYolHZP05xp2qwBMm/QqdDlY/ho7+/4/ih6RepP4xsR96MX9m/2p9D/JHdrz8GJND/l8HTP9TXyMv99tO/0GSdWEJ8yb82RreIwOXcv25JZlIOXdy/ye/E5pCA2T/BrMROGXDgv/9ePoEn7Nu/iRNSG+HE3b9obWSsruikP2IPVuAGxd+/XaqoOEd14b/BlAR6nkzUP+yXOOSaSMu/gEsaoV1Ybr8ezGLxMTjcvy2ggGhHkdo/GgpLqNMt4r9ucB0EfEHgv/XWAjCocNq/ThEyDs4p3L9oHcSIsBu9P/WeV44JjNi/WcOnqDOR4L9Q32lWlyPhv0DpLLFRrmI/oS2Vn/Efxb+CTfu/4LPXvxxmfje1R92/\",\"dtype\":\"float64\",\"order\":\"little\",\"shape\":[153]}},\"selected\":{\"id\":\"6937\"},\"selection_policy\":{\"id\":\"6951\"}},\"id\":\"6936\",\"type\":\"ColumnDataSource\"},{\"attributes\":{},\"id\":\"6951\",\"type\":\"UnionRenderers\"},{\"attributes\":{\"end\":1.3132585541817483,\"reset_end\":1.3132585541817483,\"reset_start\":-0.7391261487509769,\"start\":-0.7391261487509769,\"tags\":[[[\"feature_1\",\"feature_1\",null]]]},\"id\":\"6896\",\"type\":\"Range1d\"},{\"attributes\":{\"label\":{\"value\":\"2\"},\"renderers\":[{\"id\":\"6985\"}]},\"id\":\"7001\",\"type\":\"LegendItem\"},{\"attributes\":{\"active_drag\":{\"id\":\"6918\"},\"active_scroll\":{\"id\":\"6919\"},\"tools\":[{\"id\":\"6897\"},{\"id\":\"6917\"},{\"id\":\"6918\"},{\"id\":\"6919\"},{\"id\":\"6920\"},{\"id\":\"6921\"}]},\"id\":\"6923\",\"type\":\"Toolbar\"},{\"attributes\":{\"callback\":null,\"renderers\":[{\"id\":\"6942\"},{\"id\":\"6963\"},{\"id\":\"6985\"}],\"tags\":[\"hv_created\"],\"tooltips\":[[\"class\",\"@{class}\"],[\"feature_0\",\"@{feature_0}\"],[\"feature_1\",\"@{feature_1}\"]]},\"id\":\"6897\",\"type\":\"HoverTool\"},{\"attributes\":{\"end\":2.2271793146736347,\"reset_end\":2.2271793146736347,\"reset_start\":-1.267548913159999,\"start\":-1.267548913159999,\"tags\":[[[\"feature_0\",\"feature_0\",null]]]},\"id\":\"6895\",\"type\":\"Range1d\"},{\"attributes\":{\"fill_alpha\":{\"value\":0.2},\"fill_color\":{\"value\":\"#fc4f30\"},\"hatch_alpha\":{\"value\":0.2},\"hatch_color\":{\"value\":\"#fc4f30\"},\"line_alpha\":{\"value\":0.2},\"line_color\":{\"value\":\"#fc4f30\"},\"size\":{\"value\":5.477225575051661},\"tags\":[\"apply_ranges\"],\"x\":{\"field\":\"feature_0\"},\"y\":{\"field\":\"feature_1\"}},\"id\":\"6962\",\"type\":\"Scatter\"},{\"attributes\":{},\"id\":\"6931\",\"type\":\"BasicTickFormatter\"},{\"attributes\":{\"bottom_units\":\"screen\",\"coordinates\":null,\"fill_alpha\":0.5,\"fill_color\":\"lightgrey\",\"group\":null,\"left_units\":\"screen\",\"level\":\"overlay\",\"line_alpha\":1.0,\"line_color\":\"black\",\"line_dash\":[4,4],\"line_width\":2,\"right_units\":\"screen\",\"syncable\":false,\"top_units\":\"screen\"},\"id\":\"6922\",\"type\":\"BoxAnnotation\"},{\"attributes\":{\"click_policy\":\"mute\",\"coordinates\":null,\"group\":null,\"items\":[{\"id\":\"6955\"},{\"id\":\"6977\"},{\"id\":\"7001\"}],\"location\":[0,0],\"title\":\"class\"},\"id\":\"6954\",\"type\":\"Legend\"},{\"attributes\":{\"fill_alpha\":{\"value\":0.2},\"fill_color\":{\"value\":\"#30a2da\"},\"hatch_alpha\":{\"value\":0.2},\"hatch_color\":{\"value\":\"#30a2da\"},\"line_alpha\":{\"value\":0.2},\"line_color\":{\"value\":\"#30a2da\"},\"size\":{\"value\":5.477225575051661},\"tags\":[\"apply_ranges\"],\"x\":{\"field\":\"feature_0\"},\"y\":{\"field\":\"feature_1\"}},\"id\":\"6941\",\"type\":\"Scatter\"},{\"attributes\":{},\"id\":\"6917\",\"type\":\"SaveTool\"},{\"attributes\":{\"fill_alpha\":{\"value\":0.1},\"fill_color\":{\"value\":\"#30a2da\"},\"hatch_alpha\":{\"value\":0.1},\"hatch_color\":{\"value\":\"#30a2da\"},\"line_alpha\":{\"value\":0.1},\"line_color\":{\"value\":\"#30a2da\"},\"size\":{\"value\":5.477225575051661},\"tags\":[\"apply_ranges\"],\"x\":{\"field\":\"feature_0\"},\"y\":{\"field\":\"feature_1\"}},\"id\":\"6940\",\"type\":\"Scatter\"},{\"attributes\":{\"fill_color\":{\"value\":\"#e5ae38\"},\"hatch_color\":{\"value\":\"#e5ae38\"},\"line_color\":{\"value\":\"#e5ae38\"},\"size\":{\"value\":5.477225575051661},\"tags\":[\"apply_ranges\"],\"x\":{\"field\":\"feature_0\"},\"y\":{\"field\":\"feature_1\"}},\"id\":\"6982\",\"type\":\"Scatter\"},{\"attributes\":{},\"id\":\"6918\",\"type\":\"PanTool\"},{\"attributes\":{\"below\":[{\"id\":\"6909\"}],\"center\":[{\"id\":\"6912\"},{\"id\":\"6916\"}],\"height\":300,\"left\":[{\"id\":\"6913\"}],\"margin\":[5,5,5,5],\"min_border_bottom\":10,\"min_border_left\":10,\"min_border_right\":10,\"min_border_top\":10,\"output_backend\":\"webgl\",\"renderers\":[{\"id\":\"6942\"},{\"id\":\"6963\"},{\"id\":\"6985\"}],\"right\":[{\"id\":\"6954\"}],\"sizing_mode\":\"fixed\",\"title\":{\"id\":\"6901\"},\"toolbar\":{\"id\":\"6923\"},\"width\":700,\"x_range\":{\"id\":\"6895\"},\"x_scale\":{\"id\":\"6905\"},\"y_range\":{\"id\":\"6896\"},\"y_scale\":{\"id\":\"6907\"}},\"id\":\"6900\",\"subtype\":\"Figure\",\"type\":\"Plot\"},{\"attributes\":{},\"id\":\"6921\",\"type\":\"ResetTool\"},{\"attributes\":{},\"id\":\"6998\",\"type\":\"UnionRenderers\"},{\"attributes\":{\"fill_color\":{\"value\":\"#fc4f30\"},\"hatch_color\":{\"value\":\"#fc4f30\"},\"line_color\":{\"value\":\"#fc4f30\"},\"size\":{\"value\":5.477225575051661},\"tags\":[\"apply_ranges\"],\"x\":{\"field\":\"feature_0\"},\"y\":{\"field\":\"feature_1\"}},\"id\":\"6960\",\"type\":\"Scatter\"},{\"attributes\":{},\"id\":\"6919\",\"type\":\"WheelZoomTool\"},{\"attributes\":{},\"id\":\"6914\",\"type\":\"BasicTicker\"},{\"attributes\":{},\"id\":\"6932\",\"type\":\"AllLabels\"},{\"attributes\":{\"source\":{\"id\":\"6936\"}},\"id\":\"6943\",\"type\":\"CDSView\"},{\"attributes\":{\"children\":[{\"id\":\"6900\"}],\"height\":300,\"margin\":[0,0,0,0],\"name\":\"Row06641\",\"sizing_mode\":\"fixed\",\"tags\":[\"embedded\"],\"width\":700},\"id\":\"6894\",\"type\":\"Row\"},{\"attributes\":{\"fill_alpha\":{\"value\":0.1},\"fill_color\":{\"value\":\"#fc4f30\"},\"hatch_alpha\":{\"value\":0.1},\"hatch_color\":{\"value\":\"#fc4f30\"},\"line_alpha\":{\"value\":0.1},\"line_color\":{\"value\":\"#fc4f30\"},\"size\":{\"value\":5.477225575051661},\"tags\":[\"apply_ranges\"],\"x\":{\"field\":\"feature_0\"},\"y\":{\"field\":\"feature_1\"}},\"id\":\"6961\",\"type\":\"Scatter\"},{\"attributes\":{\"angle\":{\"value\":0.0},\"fill_alpha\":{\"value\":1.0},\"fill_color\":{\"value\":\"#e5ae38\"},\"hatch_alpha\":{\"value\":1.0},\"hatch_color\":{\"value\":\"#e5ae38\"},\"hatch_scale\":{\"value\":12.0},\"hatch_weight\":{\"value\":1.0},\"line_alpha\":{\"value\":1.0},\"line_cap\":{\"value\":\"butt\"},\"line_color\":{\"value\":\"#e5ae38\"},\"line_dash\":{\"value\":[]},\"line_dash_offset\":{\"value\":0},\"line_join\":{\"value\":\"bevel\"},\"line_width\":{\"value\":1},\"marker\":{\"value\":\"circle\"},\"size\":{\"value\":5.477225575051661},\"tags\":[\"apply_ranges\"],\"x\":{\"field\":\"feature_0\"},\"y\":{\"field\":\"feature_1\"}},\"id\":\"7002\",\"type\":\"Scatter\"},{\"attributes\":{\"fill_alpha\":{\"value\":0.2},\"fill_color\":{\"value\":\"#e5ae38\"},\"hatch_alpha\":{\"value\":0.2},\"hatch_color\":{\"value\":\"#e5ae38\"},\"line_alpha\":{\"value\":0.2},\"line_color\":{\"value\":\"#e5ae38\"},\"size\":{\"value\":5.477225575051661},\"tags\":[\"apply_ranges\"],\"x\":{\"field\":\"feature_0\"},\"y\":{\"field\":\"feature_1\"}},\"id\":\"6984\",\"type\":\"Scatter\"},{\"attributes\":{\"overlay\":{\"id\":\"6922\"}},\"id\":\"6920\",\"type\":\"BoxZoomTool\"},{\"attributes\":{\"coordinates\":null,\"data_source\":{\"id\":\"6957\"},\"glyph\":{\"id\":\"6960\"},\"group\":null,\"hover_glyph\":null,\"muted_glyph\":{\"id\":\"6962\"},\"nonselection_glyph\":{\"id\":\"6961\"},\"selection_glyph\":{\"id\":\"6978\"},\"view\":{\"id\":\"6964\"}},\"id\":\"6963\",\"type\":\"GlyphRenderer\"},{\"attributes\":{},\"id\":\"6974\",\"type\":\"UnionRenderers\"},{\"attributes\":{\"coordinates\":null,\"data_source\":{\"id\":\"6936\"},\"glyph\":{\"id\":\"6939\"},\"group\":null,\"hover_glyph\":null,\"muted_glyph\":{\"id\":\"6941\"},\"nonselection_glyph\":{\"id\":\"6940\"},\"selection_glyph\":{\"id\":\"6956\"},\"view\":{\"id\":\"6943\"}},\"id\":\"6942\",\"type\":\"GlyphRenderer\"},{\"attributes\":{\"source\":{\"id\":\"6979\"}},\"id\":\"6986\",\"type\":\"CDSView\"},{\"attributes\":{\"label\":{\"value\":\"1\"},\"renderers\":[{\"id\":\"6963\"}]},\"id\":\"6977\",\"type\":\"LegendItem\"},{\"attributes\":{\"angle\":{\"value\":0.0},\"fill_alpha\":{\"value\":1.0},\"fill_color\":{\"value\":\"#fc4f30\"},\"hatch_alpha\":{\"value\":1.0},\"hatch_color\":{\"value\":\"#fc4f30\"},\"hatch_scale\":{\"value\":12.0},\"hatch_weight\":{\"value\":1.0},\"line_alpha\":{\"value\":1.0},\"line_cap\":{\"value\":\"butt\"},\"line_color\":{\"value\":\"#fc4f30\"},\"line_dash\":{\"value\":[]},\"line_dash_offset\":{\"value\":0},\"line_join\":{\"value\":\"bevel\"},\"line_width\":{\"value\":1},\"marker\":{\"value\":\"circle\"},\"size\":{\"value\":5.477225575051661},\"tags\":[\"apply_ranges\"],\"x\":{\"field\":\"feature_0\"},\"y\":{\"field\":\"feature_1\"}},\"id\":\"6978\",\"type\":\"Scatter\"},{\"attributes\":{},\"id\":\"6910\",\"type\":\"BasicTicker\"},{\"attributes\":{},\"id\":\"6937\",\"type\":\"Selection\"},{\"attributes\":{\"axis\":{\"id\":\"6909\"},\"coordinates\":null,\"grid_line_color\":null,\"group\":null,\"ticker\":null},\"id\":\"6912\",\"type\":\"Grid\"},{\"attributes\":{},\"id\":\"6934\",\"type\":\"BasicTickFormatter\"},{\"attributes\":{},\"id\":\"6905\",\"type\":\"LinearScale\"},{\"attributes\":{\"coordinates\":null,\"group\":null,\"text\":\"KMeans\",\"text_color\":\"black\",\"text_font_size\":\"12pt\"},\"id\":\"6901\",\"type\":\"Title\"},{\"attributes\":{\"fill_alpha\":{\"value\":0.1},\"fill_color\":{\"value\":\"#e5ae38\"},\"hatch_alpha\":{\"value\":0.1},\"hatch_color\":{\"value\":\"#e5ae38\"},\"line_alpha\":{\"value\":0.1},\"line_color\":{\"value\":\"#e5ae38\"},\"size\":{\"value\":5.477225575051661},\"tags\":[\"apply_ranges\"],\"x\":{\"field\":\"feature_0\"},\"y\":{\"field\":\"feature_1\"}},\"id\":\"6983\",\"type\":\"Scatter\"},{\"attributes\":{\"fill_color\":{\"value\":\"#30a2da\"},\"hatch_color\":{\"value\":\"#30a2da\"},\"line_color\":{\"value\":\"#30a2da\"},\"size\":{\"value\":5.477225575051661},\"tags\":[\"apply_ranges\"],\"x\":{\"field\":\"feature_0\"},\"y\":{\"field\":\"feature_1\"}},\"id\":\"6939\",\"type\":\"Scatter\"},{\"attributes\":{},\"id\":\"6958\",\"type\":\"Selection\"},{\"attributes\":{},\"id\":\"6907\",\"type\":\"LinearScale\"},{\"attributes\":{\"coordinates\":null,\"data_source\":{\"id\":\"6979\"},\"glyph\":{\"id\":\"6982\"},\"group\":null,\"hover_glyph\":null,\"muted_glyph\":{\"id\":\"6984\"},\"nonselection_glyph\":{\"id\":\"6983\"},\"selection_glyph\":{\"id\":\"7002\"},\"view\":{\"id\":\"6986\"}},\"id\":\"6985\",\"type\":\"GlyphRenderer\"},{\"attributes\":{\"axis_label\":\"feature_1\",\"coordinates\":null,\"formatter\":{\"id\":\"6934\"},\"group\":null,\"major_label_policy\":{\"id\":\"6935\"},\"ticker\":{\"id\":\"6914\"}},\"id\":\"6913\",\"type\":\"LinearAxis\"},{\"attributes\":{\"label\":{\"value\":\"0\"},\"renderers\":[{\"id\":\"6942\"}]},\"id\":\"6955\",\"type\":\"LegendItem\"},{\"attributes\":{\"axis_label\":\"feature_0\",\"coordinates\":null,\"formatter\":{\"id\":\"6931\"},\"group\":null,\"major_label_policy\":{\"id\":\"6932\"},\"ticker\":{\"id\":\"6910\"}},\"id\":\"6909\",\"type\":\"LinearAxis\"},{\"attributes\":{\"angle\":{\"value\":0.0},\"fill_alpha\":{\"value\":1.0},\"fill_color\":{\"value\":\"#30a2da\"},\"hatch_alpha\":{\"value\":1.0},\"hatch_color\":{\"value\":\"#30a2da\"},\"hatch_scale\":{\"value\":12.0},\"hatch_weight\":{\"value\":1.0},\"line_alpha\":{\"value\":1.0},\"line_cap\":{\"value\":\"butt\"},\"line_color\":{\"value\":\"#30a2da\"},\"line_dash\":{\"value\":[]},\"line_dash_offset\":{\"value\":0},\"line_join\":{\"value\":\"bevel\"},\"line_width\":{\"value\":1},\"marker\":{\"value\":\"circle\"},\"size\":{\"value\":5.477225575051661},\"tags\":[\"apply_ranges\"],\"x\":{\"field\":\"feature_0\"},\"y\":{\"field\":\"feature_1\"}},\"id\":\"6956\",\"type\":\"Scatter\"},{\"attributes\":{},\"id\":\"6980\",\"type\":\"Selection\"},{\"attributes\":{},\"id\":\"6935\",\"type\":\"AllLabels\"},{\"attributes\":{\"data\":{\"class\":[2,2,2,2,2,2,2,2,2,2,2,2,2,2,2,2,2,2,2,2,2,2,2,2,2,2,2,2,2,2,2,2,2,2,2,2,2,2,2,2,2,2,2,2,2,2,2,2,2,2,2,2,2,2,2,2,2,2,2,2,2,2,2,2,2,2,2,2,2,2,2,2,2,2,2,2,2,2,2,2,2,2,2,2,2,2,2,2,2,2,2,2,2,2,2,2,2,2,2,2,2,2,2,2,2,2,2,2,2,2,2,2,2,2,2,2,2,2,2,2,2,2,2,2,2,2,2,2,2,2,2,2,2,2,2,2,2,2,2,2,2,2,2,2,2,2,2,2,2,2,2,2,2,2,2,2,2,2,2,2,2,2,2,2,2,2,2,2,2,2,2,2,2,2,2,2,2,2,2,2,2,2,2,2,2,2,2,2,2,2,2,2,2,2,2,2,2,2,2,2,2,2,2,2,2,2,2,2,2,2],\"feature_0\":{\"__ndarray__\":\"iiUcDxlG0T/IS/fggxvlP8j2asZKN+s/XG7KfRSB4z+jjBARD87PPxGs46ToW+4/dv8J+4lt3D+udojx2hHcP/uJSprPgcg/2udTZ0Mk5T/4v5t4AX/RP1f2Xp1ME70/fc2DmBM1xD/NrpYXajfYP5Avgd2QsdE/xKGmthIT5j+wglAwPsjtPxJ6eAB5t+I/4FdzPbbZzT8PATiVPjHlPxbH/PyUrsE/sJdpNWBE2j/vyugWFAPePwMWVzFf7ts/+bJYxF0dyz9gddG9EgHYP8qwf8Pn8u8/KEC3Lfpy5j9a1tqWHbXdP2AyeJVW+sw/cW91u5JU7z/ghaqIFDDnPym+w8mQw+E/ZVp9k1wj3j87bkdondKXP7UpfNaTK9k/qrx8jDGS4D+wPL9jhFyfP572vkR0XdQ/xpMc6HD81z9Y7R6aILLtP7Td0H3l+Mg/Ry/TjJatdL/PKiMe0fqTv0l/EHXGz8I//EK8dcIE8D/tRErThuzUPw8V8Vq56sk/OWiGRDEt6D9HzJOX+yPjP2HIEERRH9I/63vrMuc44z/v7B6CipOoP+PD55DUJ+4/4LEmPW+p6z/P+epCF1LsPybXv9QvIcE/RxVdnUNTxT9I5E9/COzjPxm3x0L39uQ/gPc4SL5z6D/l96rDuN/ZP0vf16bVP+I/nvU6PGpi2j8gvATQK6/DP0B1qPmkXsk/RcFtQEtw4D8XUC68s03WPzFxNBN3l+4/RcmA0jzQ7z9QjR5rQUbkP5gmoo3xKcE/cCLN3tHj6z+T3wEoOru0v7YCE6qIOtY/2NpepoMHwj9mOaT/aEPoP+VRUyN8ErQ/R7Ez1hSepT8JnYqmgADdP/xi6rBOjZE/zDUXmS627z/89c4AGUXYP038o+hpqOM/Pg25YVvC5D8SDCsO/CDXP6/PUXPXx7S/KNE7C3Kgwj/igd1XMDXjP1MbVERM2uw/7i5ovg+x0z8SU3uxtXSaP9xRcJwWHuQ/+PneGXCh2z+UN2i3qtvvP5PhpRLxUcc/2Q1JKfTE5z+23dwo31rtP0BumK3nKPA/iyIqEzW57z+ygBJNSP3mP3ZWxI4A/sk/1LfyjzMosD/aIvzMxvnjP2k/1AQLVNw/iKaTM2UWtz+wvQbb7EHqP7C/DcASkL0/WOqzKsV2lj/F8lrek0PkP9awERRniOs/biPehDZg1z8hFQY2p1LSP6in7KQP+eo/w1GQ6bjcnT+BMVLKZwLqP88fwwfO3ss/OnqKe/eUxz//YxDMopfhPzmLhljyWNs/RuF46XxP7T93hVWlBC7UP3zhFp+8Mu4/C4moA57quT/kdnZ68jvoP3aZADJIPes/lvHtCcUe7j+drarjVg3sP1zuqcLFUOc/QnHSS/cIxD8UDrtDMr3pPzquniYUacM/7uPT4m+jxz/5S8O13jPwP8ymwfbaJdE/XYz3vYzY7z89yFbhwiPOP8X0xXk6m+c/KmkttLBK2T8eY1CZ8RW3P44bwDTV/Oo/F+EsnF142j+lyDlaO3bQP/j7khRRquA/w3PbQ1WO5D8o1xU7DknSP7KvwwbUauE/P0abWQzE6z9K8T6gcHGRP/quxPticNo/bZBs6uY45T8+So8Cf0bJP1ibjejBCus/J59y6lOq7j+a9bcOBQ7ZP13IKU8FneU/L9DMZVKJ4T8cx9lFN3mkP1seQLPukuk/hvTGCEdqtL+7C3qc3lB0P2rDqqToPKU//X3+e9yi4D8Xm9QMtCbaP2E+21f5FdQ/QPbNrMYa5j+moeFj47TkPx2NCke04uA/S/7Putvpqj+0ffgJjDzDP3A0zUfHCOE/DZSmI1Wqqz+PqMiBeLS6v9bHJbVDBdM/P0Owq1E0xT82vc+K4WvuPyasUPlcLOQ/l4NYuUjI7T8eiCfLUGy7P5BH+FKnztA/2vx2CvHZ4D/fEzANvFzDP3nj/IRFuu8//ulz+tkP5D+6CfTBXBPpPyZ4ZXcb9bY/khavMwM27j9P7FMU98vrP46FOPxM4es/Xm3b98CcvT8OTZ05a+iovzrj7PVDudc/3ePH/Qnp6z/pTPCJzX3VP2fGR9+SXew/gmLIDL782j9gZlbsqdXTP4bU80d9iu4//Z+bYZjj3T/W3TeSdFflP8SiQsPwM+k/yMSStxPyrT9bYqiAX1ehvxTDuzsHk5W/RGsnYhJ9jT8ULDYu9vDlP5XgQqT4xOA/ONi21sYtmT8gVmMCUonlP4Mi7ltIxO0/\",\"dtype\":\"float64\",\"order\":\"little\",\"shape\":[210]},\"feature_1\":{\"__ndarray__\":\"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\",\"dtype\":\"float64\",\"order\":\"little\",\"shape\":[210]}},\"selected\":{\"id\":\"6980\"},\"selection_policy\":{\"id\":\"6998\"}},\"id\":\"6979\",\"type\":\"ColumnDataSource\"},{\"attributes\":{\"data\":{\"class\":[1,1,1,1,1,1,1,1,1,1,1,1,1,1,1,1,1,1,1,1,1,1,1,1,1,1,1,1,1,1,1,1,1,1,1,1,1,1,1,1,1,1,1,1,1,1,1,1,1,1,1,1,1,1,1,1,1,1,1,1,1,1,1,1,1,1,1,1,1,1,1,1,1,1,1,1,1,1,1,1,1,1,1,1,1,1,1,1,1,1,1,1,1,1,1,1,1,1,1,1,1,1,1,1,1,1,1,1,1,1,1,1,1,1,1,1,1,1,1,1,1,1,1,1,1,1,1,1,1,1,1,1,1,1,1,1,1],\"feature_0\":{\"__ndarray__\":\"EGzi6Ki97r9EcIC6nDXev84hlA9oOOq/RInNiJDs0L/pxyLSuTXOv2LDGpQBXeK/npKk//L46r8QiNpyuobiv6VUsAkspey/Kg6A8PQBoz/QKuTQZUbrv/y0fCzxZNu/xbdSoX1E6781G2jDglrdv+VArVstNc+/jgDIoa3sw7+IuIIsCX2uP8DeMCg1Aum/sX1S+Gcv4L9gR0VA69DqvyU9G6kvY+m/5W/TkpTf8L8RDB2wpmrvv1IIFVc/CPC/swx5scfO57+BAW5N72Lkv/eQrwfkINS/fJU6O55Gtb94a8Fdhz/vv0ZGRQ77v8O/BHx9hRsF77807Wq63G/sv7dU6DwAHeq/4xQ0Y6K+rD/EAjIaATnwv3u5l4AuaeC/2g2ZrKet8L8oPHxw6sp5vwTm2vaQX+a/qq7YvnUT4b/7YpydHtXdv6oX4co9Zuy/CMEh5hvSp7+WjNIk8veoP8pcFYqFKO6/2+5ZzWrH8L9snBZ9d9rQv4OgrDMsYOe/0Uw7AxTA7r8Kw5Mm2L7ov1sNItZ0nrC/J96tP7xloj/L4ka8rKPiv94IcIylDuS/ySRzhdYS8r+Om07ciY6JP+LaLHqIfcS/ngRspIQFxD+KsxtKpqLVv2k2vuI+aeC/yU87TutZ3r/bgJDB9nfxvxQxnZq2Cem/nRh1vB7n5r+KlMuDYTzTv8uW77CQwd2/V5XvpRe/479EmlrEKa/uvxbTgyd8te6/o1DTwOuT7r9gYjolVxDWv9iNY8AIG7W/Jg6sBRa5278OVOP7iPerP3x4Iu2+V+y/QQzhu6/e4r94+3dj4GXrvwUsfTmgT++/YwMWTGOa4r+294ZrCrTsvx3BITVRFfC/+kpDu4Un6b/LXcPdmxXCv7jf4luXFOS/UMlRABLo7L/QBEKONzDBv3KFJRkvvK0/iSXs7WCB7L9wmkV02rruv+GrtXcxl++/waAzWRw36L9Wsc6co0nCP1QC8JdXELE/Es9Zp/RL379PTMIhX2/hv8ytbnwbt+i/yUZeD9WJ6L+XZRL2kHvkv8KsS04SVPC/3SlaXbCGs78CHno1Xy7pv0IX4tQFacq/qSwgQ8KPyr8bojidMgTqvyYX7HcGlde/NI0ELSNk7b/vpb9EWvXuvwAhR3y6N+y/dUSEIIKY0r86yDC+vgrmv0rtf31OZNC/6SVwHnju5b/CCGgMg2Hvv3pnLj8UVe+/1FaEcQso1b/z9oX73M/Iv/VPz6d+FeG/VtyGrNdx2r8AuJjhfYsJP4wDfwJ+Iei/+csj0cwM1L+C6jW8teTuv1SLugPkPOi/2EvOcEJKej9rgCYIt4Xtv/4bEUQZr+y/dimel7Qpx7/d/wGj0/Lwv+R4IcLIIuu//+lHZZYE3L/c+RPRRSXkv3zFs5Sf2O+/Lp5nMKuRrb8GtcYc0q7Ev5tMADFrcLm//OA3kj266r9BTX6jnmDvvw==\",\"dtype\":\"float64\",\"order\":\"little\",\"shape\":[137]},\"feature_1\":{\"__ndarray__\":\"x/6Qr5Quur9ZI7UL6SDrP/GIDlkfOuE/Fv26IVIJ7j+T0A0qmy/vP7oXOK371Og/VfIcauU25T/gmRK19PHnP1VmSpmowsc/3eTLmWG78D/yhEOFl7rZP7cpwgO+EOw/9whVst6L4D8m/qYxxijuP0bHQuII8u4/+4pa/GQI7z82U9f7Y3PwP1xgOAHi0+k/TiZkKb7M6j/XRZOVhLfSP7AncHevwOM/+uA1Pcim1z+zFDVR83WyPzyp1Uh06Yq/bj9CVVhd3z/yf1Jsb8HoP+CV/Rprq+o/u2HlccXZ8D/kSkX0uODXP7ycgT0FDO4/DD/GjA8iyT9hnHCGCU7hP8UW04/TuuI/XPZmvgEb8D8oVt8nsOWev4Ta5ctMUOs/UNM2RA1etz+iaijCeozwP2dLJ+wAmOY/FpeQedQm6T9cX6RjKlvrP6FOhXPBUNA/oC7kG60k8D/0cfGY+nrwP9KiUkk8pNQ//i+UcUt4xj8e7kFj6NrvP2Tg5/OYGeY/iq35VcmHxj/b9glEsMzgP+ZdZFcebe8/+GeT2/+r8D9rM2E0aEfqPzqQwj8txOc//0w2dt2Noz+Qgoe118nsP0bDC0QrH+4/QeczSo9G8j9pq+s6UhXvP+YTc1I3y+4/8tfPDLLL6D+wzp1ZqZB6v/QoSWyfid8/sDa1QeIT6D8XqFSEL1DwP/VJwgl93uo/vm5htX8v7D8xILulUonIP47ykWmH/sM/jOXchgIw0D/GM9neMRDsPzCzA/QNjd0/rBEIQ3s47j8alkq56RHvP54ciOv5O98/+94nBBde6D9b4EEcf3nXPy04eysqtdA/ISRhevif6T/o5rbhrMfWPymgcTYbTKk/AQjYfaVL4j9FrgtwsNzvPwjG5DktCuc/XjOhErCn4D9hEqYhCLDsPynKHd1RtO0/ghIkkU5I2T8AK95fHf7TP0yyLlMyvtw/61Y05LD56D9Gbs5mK/nwP+GqkA2FGvE/YqtgKE3T6j+7er7yO2fpP9hnKzD8weI/Gc8PefTc4j9+l5kjSvPpP/XSomG1R9Y/oMwi3rSA7j9tf5tbGtrlPwe72MzSae4/T1V+0w+R7T/8NI+lUTLhPxcCaJPFhO0/Ty0WM8dc2j8Ir/3NuODBP1qsABbdvuQ/7bnBtl0p7T8cZnkM7dTrPwnJ0/xKAPA/JMcC0jx95z9MVmBeQCSnP32eOUYFMLs/WmuvquY77z+bQjNJT2LvP+xHji1ZpOo/jvwSCXKj7T+fQkEQhmrvP+1TnHUGauU/WN51JbOU7D/tA4J9FPfSP673btQJZeM/YsLvK2jb7T8rylchne3ZP7LC5ZAqa90/XWyairCH7z+Va1DgVG7HP+ApO4Hg+do/wCF2GiyK7z9AuT8tZ9jmP59ZiGQ2Scc/amEuq9cb7z93p4RrU5DtPzBLcDIJjfE/GZ7o24h34j940+6UaufIPw==\",\"dtype\":\"float64\",\"order\":\"little\",\"shape\":[137]}},\"selected\":{\"id\":\"6958\"},\"selection_policy\":{\"id\":\"6974\"}},\"id\":\"6957\",\"type\":\"ColumnDataSource\"},{\"attributes\":{\"axis\":{\"id\":\"6913\"},\"coordinates\":null,\"dimension\":1,\"grid_line_color\":null,\"group\":null,\"ticker\":null},\"id\":\"6916\",\"type\":\"Grid\"}],\"root_ids\":[\"6894\"]},\"title\":\"Bokeh Application\",\"version\":\"2.4.3\"}};\n",
       "    var render_items = [{\"docid\":\"6d667206-d0b8-4b44-9b57-baf8f6172218\",\"root_ids\":[\"6894\"],\"roots\":{\"6894\":\"e8960c98-d563-45c1-bb53-f1ac1f261892\"}}];\n",
       "    root.Bokeh.embed.embed_items_notebook(docs_json, render_items);\n",
       "    for (const render_item of render_items) {\n",
       "      for (const root_id of render_item.root_ids) {\n",
       "\tconst id_el = document.getElementById(root_id)\n",
       "\tif (id_el.children.length && (id_el.children[0].className === 'bk-root')) {\n",
       "\t  const root_el = id_el.children[0]\n",
       "\t  root_el.id = root_el.id + '-rendered'\n",
       "\t}\n",
       "      }\n",
       "    }\n",
       "  }\n",
       "  if (root.Bokeh !== undefined && root.Bokeh.Panel !== undefined) {\n",
       "    embed_document(root);\n",
       "  } else {\n",
       "    var attempts = 0;\n",
       "    var timer = setInterval(function(root) {\n",
       "      if (root.Bokeh !== undefined && root.Bokeh.Panel !== undefined) {\n",
       "        clearInterval(timer);\n",
       "        embed_document(root);\n",
       "      } else if (document.readyState == \"complete\") {\n",
       "        attempts++;\n",
       "        if (attempts > 200) {\n",
       "          clearInterval(timer);\n",
       "          console.log(\"Bokeh: ERROR: Unable to run BokehJS code because BokehJS library is missing\");\n",
       "        }\n",
       "      }\n",
       "    }, 25, root)\n",
       "  }\n",
       "})(window);</script>"
      ],
      "text/plain": [
       ":NdOverlay   [class]\n",
       "   :Scatter   [feature_0]   (feature_1)"
      ]
     },
     "metadata": {
      "application/vnd.holoviews_exec.v0+json": {
       "id": "6894"
      }
     },
     "output_type": "display_data"
    },
    {
     "data": {},
     "metadata": {},
     "output_type": "display_data"
    },
    {
     "data": {
      "application/vnd.holoviews_exec.v0+json": "",
      "text/html": [
       "<div id='7092'>\n",
       "  <div class=\"bk-root\" id=\"85ce9823-486e-42ff-8715-a823ddc4f034\" data-root-id=\"7092\"></div>\n",
       "</div>\n",
       "<script type=\"application/javascript\">(function(root) {\n",
       "  function embed_document(root) {\n",
       "    var docs_json = {\"a793e22b-56af-4179-a391-73f0ce20a431\":{\"defs\":[{\"extends\":null,\"module\":null,\"name\":\"ReactiveHTML1\",\"overrides\":[],\"properties\":[]},{\"extends\":null,\"module\":null,\"name\":\"FlexBox1\",\"overrides\":[],\"properties\":[{\"default\":\"flex-start\",\"kind\":null,\"name\":\"align_content\"},{\"default\":\"flex-start\",\"kind\":null,\"name\":\"align_items\"},{\"default\":\"row\",\"kind\":null,\"name\":\"flex_direction\"},{\"default\":\"wrap\",\"kind\":null,\"name\":\"flex_wrap\"},{\"default\":\"flex-start\",\"kind\":null,\"name\":\"justify_content\"}]},{\"extends\":null,\"module\":null,\"name\":\"GridStack1\",\"overrides\":[],\"properties\":[{\"default\":\"warn\",\"kind\":null,\"name\":\"mode\"},{\"default\":null,\"kind\":null,\"name\":\"ncols\"},{\"default\":null,\"kind\":null,\"name\":\"nrows\"},{\"default\":true,\"kind\":null,\"name\":\"allow_resize\"},{\"default\":true,\"kind\":null,\"name\":\"allow_drag\"},{\"default\":[],\"kind\":null,\"name\":\"state\"}]},{\"extends\":null,\"module\":null,\"name\":\"click1\",\"overrides\":[],\"properties\":[{\"default\":\"\",\"kind\":null,\"name\":\"terminal_output\"},{\"default\":\"\",\"kind\":null,\"name\":\"debug_name\"},{\"default\":0,\"kind\":null,\"name\":\"clears\"}]},{\"extends\":null,\"module\":null,\"name\":\"NotificationAreaBase1\",\"overrides\":[],\"properties\":[{\"default\":\"bottom-right\",\"kind\":null,\"name\":\"position\"},{\"default\":0,\"kind\":null,\"name\":\"_clear\"}]},{\"extends\":null,\"module\":null,\"name\":\"NotificationArea1\",\"overrides\":[],\"properties\":[{\"default\":[],\"kind\":null,\"name\":\"notifications\"},{\"default\":\"bottom-right\",\"kind\":null,\"name\":\"position\"},{\"default\":0,\"kind\":null,\"name\":\"_clear\"},{\"default\":[{\"background\":\"#ffc107\",\"icon\":{\"className\":\"fas fa-exclamation-triangle\",\"color\":\"white\",\"tagName\":\"i\"},\"type\":\"warning\"},{\"background\":\"#007bff\",\"icon\":{\"className\":\"fas fa-info-circle\",\"color\":\"white\",\"tagName\":\"i\"},\"type\":\"info\"}],\"kind\":null,\"name\":\"types\"}]},{\"extends\":null,\"module\":null,\"name\":\"Notification\",\"overrides\":[],\"properties\":[{\"default\":null,\"kind\":null,\"name\":\"background\"},{\"default\":3000,\"kind\":null,\"name\":\"duration\"},{\"default\":null,\"kind\":null,\"name\":\"icon\"},{\"default\":\"\",\"kind\":null,\"name\":\"message\"},{\"default\":null,\"kind\":null,\"name\":\"notification_type\"},{\"default\":false,\"kind\":null,\"name\":\"_destroyed\"}]},{\"extends\":null,\"module\":null,\"name\":\"TemplateActions1\",\"overrides\":[],\"properties\":[{\"default\":0,\"kind\":null,\"name\":\"open_modal\"},{\"default\":0,\"kind\":null,\"name\":\"close_modal\"}]},{\"extends\":null,\"module\":null,\"name\":\"MaterialTemplateActions1\",\"overrides\":[],\"properties\":[{\"default\":0,\"kind\":null,\"name\":\"open_modal\"},{\"default\":0,\"kind\":null,\"name\":\"close_modal\"}]}],\"roots\":{\"references\":[{\"attributes\":{\"end\":1.3132585541817483,\"reset_end\":1.3132585541817483,\"reset_start\":-0.7391261487509769,\"start\":-0.7391261487509769,\"tags\":[[[\"feature_1\",\"feature_1\",null]]]},\"id\":\"7094\",\"type\":\"Range1d\"},{\"attributes\":{\"active_drag\":{\"id\":\"7116\"},\"active_scroll\":{\"id\":\"7117\"},\"tools\":[{\"id\":\"7095\"},{\"id\":\"7115\"},{\"id\":\"7116\"},{\"id\":\"7117\"},{\"id\":\"7118\"},{\"id\":\"7119\"}]},\"id\":\"7121\",\"type\":\"Toolbar\"},{\"attributes\":{},\"id\":\"7178\",\"type\":\"Selection\"},{\"attributes\":{\"bottom_units\":\"screen\",\"coordinates\":null,\"fill_alpha\":0.5,\"fill_color\":\"lightgrey\",\"group\":null,\"left_units\":\"screen\",\"level\":\"overlay\",\"line_alpha\":1.0,\"line_color\":\"black\",\"line_dash\":[4,4],\"line_width\":2,\"right_units\":\"screen\",\"syncable\":false,\"top_units\":\"screen\"},\"id\":\"7120\",\"type\":\"BoxAnnotation\"},{\"attributes\":{\"source\":{\"id\":\"7134\"}},\"id\":\"7141\",\"type\":\"CDSView\"},{\"attributes\":{},\"id\":\"7115\",\"type\":\"SaveTool\"},{\"attributes\":{\"fill_alpha\":{\"value\":0.2},\"fill_color\":{\"value\":\"#30a2da\"},\"hatch_alpha\":{\"value\":0.2},\"hatch_color\":{\"value\":\"#30a2da\"},\"line_alpha\":{\"value\":0.2},\"line_color\":{\"value\":\"#30a2da\"},\"size\":{\"value\":5.477225575051661},\"tags\":[\"apply_ranges\"],\"x\":{\"field\":\"feature_0\"},\"y\":{\"field\":\"feature_1\"}},\"id\":\"7139\",\"type\":\"Scatter\"},{\"attributes\":{\"data\":{\"class\":[2,2,2,2,2,2,2,2,2,2,2,2,2,2,2,2,2,2,2,2,2,2,2,2,2,2,2,2,2,2,2,2,2,2,2,2,2,2,2,2,2,2,2,2,2,2,2,2,2,2,2,2,2,2,2,2,2,2,2,2,2,2,2,2,2,2,2,2,2,2,2,2,2,2,2,2,2,2,2,2,2,2,2,2,2,2,2,2,2,2,2,2,2,2,2,2,2,2,2,2,2,2,2,2,2,2,2,2,2,2,2,2,2],\"feature_0\":{\"__ndarray__\":\"lihJ4DoHAECZseQ/cs7/P7I1R0wCEvs/nf6/cV3y/z81YwWd7tX7P5pyayaEPvU/qlxgJycV+z84pQJPOwX+PxewJuP/aPg/J0XvYxWG9j+Ri2yCJCr4P+zBSEV6Yf0/a3h0qOy18j92mrtfYuL+Pyu6ald/Q/8/S/udpA1F+j8ZmQjs7JL2Pxn+u3/bBfw/gn/KJtzZ/z/uG0vvW7T/P0vDD+CVm/8/+gnMJepM/z8zrZYfiMf5P64aQxg0pvg/FSUkvNxy+z9Alspj36P+P2gwlFVijPM/2qodoh6l9z/ucgh7t4f/PxinPHeMLvs/iNaGXg1l+T+FIGLWiDL+P1zYLLqnFQBAn98ri6o9/z8EtLuEp2L8P592DPDt9vw/Erl0EC36/T96DLhXcIj6P/DMY7Wi0P4/NiUSbvtk+D+d4n3PiZPzPyyJ0SSungBAZ0PsgAUf9j99ITXul4f9P09yur7hWP4/HFMtRjql9z82q1BjzVf0P4XhKTwFuPk/yp0dMSmu9D/0Q7birIf/P+PWw8gwSPo/0NP1RXwi+T+JV9GJbub6P3ERdV5ref4/GOj33P5G/D8f/1k/dh4AQHz6elmrvPk/61pTKBTA/j8kWk20jrn8P8SjUznzH/8/PsSTXDKm+j9tYOLFTFH3P0imXkSnRfc/zul5ErTB/z9eQgKlitD0P8yAAeGJLP8/JY/v9r22AEBgxLPVW/P+Px2CFXwoyPs/SOlMxFFH+D8UDG11bf7zP9KNiX9fMwBAdIxshqqU/z8UfGLPnvH2P4GsNd2bw/0/kZY2VTk29j8/n0hBH0IAQPp1fGDMPfw/A/7XVrre+j8l67VcfNj+P8M0pBnzoP4/RhG2Be1vAEDUyzYfGOj6P4OlxntMCPc/A00vQGf59T/ECj3FAQEAQNOmYdNMePs/chvnf4tf/z9gFNqtP2D7P570h8R0Ffw/bsR4wj3g/D/Q02vCI24AQD8YotYyOvg/xoYA57da+z9ndm1Ll7X/P+5kZ8gr3fM/HmUGlLIj/z98J0RbVlzzP+zvnuAH9fI/7y7Q8+YCAEA8v4JjNmT5P3vJqUX5dv4/sWi/PmlJ/z9uTmzQKCr0P46MqxonUPc/pVV15bJW9D/1USzDHGD/P6/xWbObDvU/OMlPEdXK8j9uioFosez9P9xbCfz+tfw/GIzVDXZM9D8YCpiAHnL0Pw==\",\"dtype\":\"float64\",\"order\":\"little\",\"shape\":[113]},\"feature_1\":{\"__ndarray__\":\"GB6rWi7kyD/pO3iYWaLZP5TEyLYF7cW/nGmt8HlL1j9zy+gsZFjBvyaoVBg/Wdy/UrzHyVyvyr8OoIntFX6+P26d1MfPldG/WoiR5QkQ2b9xFZY6EibVv79LCK6z1Ly/Wa8s5yIQ4b8EcAw590XAP/jHWs5evt4/T8p9YMKf2L9tvD1Ha6vUv0i4BWOrWLi/uFiFXVDs2z8CAA57Ho/SP33rtTt11co/nh3WD5j0zD+B4xp9baXTv1G3IxIOv9m/wRGATcE20r86qeIpFZXNP8zpcHmFFty/nBKtJbRS1r+Jviow7rXWPzhQ/1E35sq/b/QDK+LJ0r/alEUt6ULAP+ZYdbxlNOA/+AfApcdivr+uLotRIK23v8Ilwg9P7ra/19OnKxcLsL/rLZOM4CDSv9xaW1OxDLY/bQ1nloZ01b9tgu+NkIXev83lEJlUhd4/29aSrufQ2b8I3MfV1+KnvxCX2KSdO8I/+K5EQMxh2L89MrjmVK3ev+YvgP5ruda/I1c43yVP2b/2hNAC/y7LP8yQ7yQlYdO/A1iwybAVzb+YdaWPYFHRv6AErOgvk7u/Gq6B0l1Lvb9b3Kab9ErEP/xMlmeOp8u/dvGf82ylwz8gaMfu5pnDv2y1OvujDNE/ECXJ5JTfwb8qE27WO/HbvznJdOkOm9q/ttz5SDhnzz/4Lu7BMXfav7d8pfNOtL8/LEE0HUrv3T/AmQBhMjDBP8VpJZtzt9G/ofQpfDWk2L9AqC+y6cbYvyCNX9KKLtA/RHOKlpu+0T/4GTvYLu3bvwJJnZXBrME/mzekt1YW4b9tbopH68LTP4Q5agXMGKK/fb/DqHRsyr8ZcGRmXEvBP25GaZehkqE/vJHpzMma2j9iwwVPdv3Mv8YBjebvwNi/mzHHsBha3b/ur3+vrsnWP9Hr+neCeMW/odEDWKJR2T9OcadqsATJv7/j+KHpF6k/2p9D/JHdrz8GJND/l8HTP9TXyMv99tO/0GSdWEJ8yb/J78TmkIDZP8GsxE4ZcOC/aG1krK7opD9iD1bgBsXfv12qqDhHdeG/wZQEep5M1D/slzjkmkjLv4BLGqFdWG6/LaCAaEeR2j9ucB0EfEHgv/XWAjCocNq/ThEyDs4p3L9oHcSIsBu9P/WeV44JjNi/UN9pVpcj4b9A6SyxUa5iP6EtlZ/xH8W/gk37v+Cz178cZn43tUfdvw==\",\"dtype\":\"float64\",\"order\":\"little\",\"shape\":[113]}},\"selected\":{\"id\":\"7178\"},\"selection_policy\":{\"id\":\"7196\"}},\"id\":\"7177\",\"type\":\"ColumnDataSource\"},{\"attributes\":{},\"id\":\"7116\",\"type\":\"PanTool\"},{\"attributes\":{},\"id\":\"7130\",\"type\":\"AllLabels\"},{\"attributes\":{},\"id\":\"7119\",\"type\":\"ResetTool\"},{\"attributes\":{},\"id\":\"7132\",\"type\":\"BasicTickFormatter\"},{\"attributes\":{},\"id\":\"7117\",\"type\":\"WheelZoomTool\"},{\"attributes\":{},\"id\":\"7112\",\"type\":\"BasicTicker\"},{\"attributes\":{\"overlay\":{\"id\":\"7120\"}},\"id\":\"7118\",\"type\":\"BoxZoomTool\"},{\"attributes\":{},\"id\":\"7108\",\"type\":\"BasicTicker\"},{\"attributes\":{\"click_policy\":\"mute\",\"coordinates\":null,\"group\":null,\"items\":[{\"id\":\"7153\"},{\"id\":\"7175\"},{\"id\":\"7199\"}],\"location\":[0,0],\"title\":\"class\"},\"id\":\"7152\",\"type\":\"Legend\"},{\"attributes\":{\"axis\":{\"id\":\"7107\"},\"coordinates\":null,\"grid_line_color\":null,\"group\":null,\"ticker\":null},\"id\":\"7110\",\"type\":\"Grid\"},{\"attributes\":{\"fill_alpha\":{\"value\":0.1},\"fill_color\":{\"value\":\"#fc4f30\"},\"hatch_alpha\":{\"value\":0.1},\"hatch_color\":{\"value\":\"#fc4f30\"},\"line_alpha\":{\"value\":0.1},\"line_color\":{\"value\":\"#fc4f30\"},\"size\":{\"value\":5.477225575051661},\"tags\":[\"apply_ranges\"],\"x\":{\"field\":\"feature_0\"},\"y\":{\"field\":\"feature_1\"}},\"id\":\"7159\",\"type\":\"Scatter\"},{\"attributes\":{},\"id\":\"7103\",\"type\":\"LinearScale\"},{\"attributes\":{\"fill_color\":{\"value\":\"#30a2da\"},\"hatch_color\":{\"value\":\"#30a2da\"},\"line_color\":{\"value\":\"#30a2da\"},\"size\":{\"value\":5.477225575051661},\"tags\":[\"apply_ranges\"],\"x\":{\"field\":\"feature_0\"},\"y\":{\"field\":\"feature_1\"}},\"id\":\"7137\",\"type\":\"Scatter\"},{\"attributes\":{\"below\":[{\"id\":\"7107\"}],\"center\":[{\"id\":\"7110\"},{\"id\":\"7114\"}],\"height\":300,\"left\":[{\"id\":\"7111\"}],\"margin\":[5,5,5,5],\"min_border_bottom\":10,\"min_border_left\":10,\"min_border_right\":10,\"min_border_top\":10,\"output_backend\":\"webgl\",\"renderers\":[{\"id\":\"7140\"},{\"id\":\"7161\"},{\"id\":\"7183\"}],\"right\":[{\"id\":\"7152\"}],\"sizing_mode\":\"fixed\",\"title\":{\"id\":\"7099\"},\"toolbar\":{\"id\":\"7121\"},\"width\":700,\"x_range\":{\"id\":\"7093\"},\"x_scale\":{\"id\":\"7103\"},\"y_range\":{\"id\":\"7094\"},\"y_scale\":{\"id\":\"7105\"}},\"id\":\"7098\",\"subtype\":\"Figure\",\"type\":\"Plot\"},{\"attributes\":{\"coordinates\":null,\"group\":null,\"text\":\"Birch\",\"text_color\":\"black\",\"text_font_size\":\"12pt\"},\"id\":\"7099\",\"type\":\"Title\"},{\"attributes\":{\"data\":{\"class\":[1,1,1,1,1,1,1,1,1,1,1,1,1,1,1,1,1,1,1,1,1,1,1,1,1,1,1,1,1,1,1,1,1,1,1,1,1,1,1,1,1,1,1,1,1,1,1,1,1,1,1,1,1,1,1,1,1,1,1,1,1,1,1,1,1,1,1,1,1,1,1,1,1,1,1,1,1,1,1,1,1,1,1,1,1,1,1,1,1,1,1,1,1,1,1,1,1,1,1,1,1,1,1,1,1,1,1,1,1,1,1,1,1,1,1,1,1,1,1,1,1,1,1,1,1,1,1,1,1,1,1,1,1,1,1,1,1,1,1,1,1,1,1,1,1,1,1,1,1,1,1,1,1,1,1,1,1,1,1,1,1,1,1,1,1,1,1,1],\"feature_0\":{\"__ndarray__\":\"EGzi6Ki97r9EcIC6nDXev/uJSprPgcg/ziGUD2g46r9Eic2IkOzQv+nHItK5Nc6/YsMalAFd4r+ekqT/8vjqvxCI2nK6huK/pVSwCSyl7L8qDoDw9AGjP9Aq5NBlRuu//LR8LPFk27/Ft1KhfUTrvztuR2id0pc/NRtow4Ja3b/lQK1bLTXPv7Td0H3l+Mg/Ry/TjJatdL+OAMihrezDv88qIx7R+pO/iLiCLAl9rj/A3jAoNQLpv7F9UvhnL+C/YEdFQOvQ6r8lPRupL2Ppv+Vv05KU3/C/DxXxWrnqyT8RDB2wpmrvv1IIFVc/CPC/swx5scfO57/v7B6CipOoP4EBbk3vYuS/95CvB+Qg1L98lTo7nka1v3hrwV2HP++/RkZFDvu/w78gvATQK6/DPwR8fYUbBe+/NO1qutxv7L+3VOg8AB3qv+MUNGOivqw/k98BKDq7tL/EAjIaATnwv3u5l4AuaeC/2g2ZrKet8L9HsTPWFJ6lPyg8fHDqynm//GLqsE6NkT8E5tr2kF/mv6qu2L51E+G/+2KcnR7V3b+qF+HKPWbsv6/PUXPXx7S/CMEh5hvSp78o0TsLcqDCP5aM0iTy96g/ylwVioUo7r/b7lnNasfwv2ycFn132tC/g6CsMyxg57/RTDsDFMDuvwrDkybYvui/Ww0i1nSesL8n3q0/vGWiP8viRryso+K/3ghwjKUO5L/JJHOF1hLyv46bTtyJjok/4toseoh9xL+T4aUS8VHHP54EbKSEBcQ/dlbEjgD+yT+KsxtKpqLVv2k2vuI+aeC/yU87TutZ3r/bgJDB9nfxvxQxnZq2Cem/nRh1vB7n5r+KlMuDYTzTv1jqsyrFdpY/y5bvsJDB3b9Xle+lF7/jv0SaWsQpr+6/FtODJ3y17r+jUNPA65Puv2BiOiVXENa/2I1jwAgbtb8mDqwFFrnbv8NRkOm43J0/DlTj+4j3qz98eCLtvlfsvzp6inv3lMc/QQzhu6/e4r94+3dj4GXrvwUsfTmgT++/YwMWTGOa4r+294ZrCrTsvx3BITVRFfC/+kpDu4Un6b/LXcPdmxXCv7jf4luXFOS/UMlRABLo7L/QBEKONzDBv3KFJRkvvK0/iSXs7WCB7L9wmkV02rruv+GrtXcxl++/waAzWRw36L9Wsc6co0nCP1QC8JdXELE/Es9Zp/RL379PTMIhX2/hv8ytbnwbt+i/yUZeD9WJ6L+XZRL2kHvkv8KsS04SVPC/3SlaXbCGs78CHno1Xy7pv0IX4tQFacq/qSwgQ8KPyr8bojidMgTqvyYX7HcGlde/SvE+oHBxkT80jQQtI2Ttv++lv0Ra9e6/ACFHfLo37L8cx9lFN3mkP3VEhCCCmNK/hvTGCEdqtL+7C3qc3lB0P2rDqqToPKU/Osgwvr4K5r9K7X99TmTQv+klcB547uW/wghoDINh7796Zy4/FFXvv9RWhHELKNW/S/7Putvpqj/z9oX73M/Iv/VPz6d+FeG/VtyGrNdx2r8AuJjhfYsJP4wDfwJ+Iei/j6jIgXi0ur/5yyPRzAzUv4LqNby15O6/VIu6A+Q86L/YS85wQkp6P15t2/fAnL0/a4AmCLeF7b8OTZ05a+iov/4bEUQZr+y/dimel7Qpx7/d/wGj0/Lwv+R4IcLIIuu//+lHZZYE3L/IxJK3E/KtP1tiqIBfV6G/FMO7OweTlb/c+RPRRSXkv3zFs5Sf2O+/Lp5nMKuRrb8GtcYc0q7Ev5tMADFrcLm//OA3kj266r842LbWxi2ZP0FNfqOeYO+/\",\"dtype\":\"float64\",\"order\":\"little\",\"shape\":[168]},\"feature_1\":{\"__ndarray__\":\"x/6Qr5Quur9ZI7UL6SDrPxTo6rfL0fA/8YgOWR864T8W/bohUgnuP5PQDSqbL+8/uhc4rfvU6D9V8hxq5TblP+CZErX08ec/VWZKmajCxz/d5MuZYbvwP/KEQ4WXutk/tynCA74Q7D/3CFWy3ovgP9zVGigthts/Jv6mMcYo7j9Gx0LiCPLuP7OZ4cH84O0/AG4+D5Df4D/7ilr8ZAjvPwkxmXLjcNg/NlPX+2Nz8D9cYDgB4tPpP04mZCm+zOo/10WTlYS30j+wJ3B3r8DjP/rgNT3Iptc/tSdu9J1l7z+zFDVR83WyPzyp1Uh06Yq/bj9CVVhd3z9/Ic9GpcraP/J/Umxvweg/4JX9Gmur6j+7YeVxxdnwP+RKRfS44Nc/vJyBPQUM7j8DEkolAhvwPww/xowPIsk/YZxwhglO4T/FFtOP07riP1z2Zr4BG/A/bMfzVd0g0j8oVt8nsOWev4Ta5ctMUOs/UNM2RA1etz+T7ofYzIXeP6JqKMJ6jPA/n+FWxaIEzz9nSyfsAJjmPxaXkHnUJuk/XF+kYypb6z+hToVzwVDQP2cDgBQ/Eco/oC7kG60k8D9YeUZJn7DSP/Rx8Zj6evA/0qJSSTyk1D/+L5RxS3jGPx7uQWPo2u8/ZODn85gZ5j+KrflVyYfGP9v2CUSwzOA/5l1kVx5t7z/4Z5Pb/6vwP2szYTRoR+o/OpDCPy3E5z//TDZ23Y2jP5CCh7XXyew/RsMLRCsf7j8EocooeljwP0HnM0qPRvI/e+CYAGAm7T9pq+s6UhXvP+YTc1I3y+4/8tfPDLLL6D+wzp1ZqZB6v/QoSWyfid8/sDa1QeIT6D8XqFSEL1DwP5qFfnAslNA/9UnCCX3e6j++bmG1fy/sPzEgu6VSicg/jvKRaYf+wz+M5dyGAjDQP8Yz2d4xEOw/MLMD9A2N3T+sEQhDezjuP86QcDhiKck/GpZKuekR7z+eHIjr+TvfPwYTrlS0ju0/+94nBBde6D9b4EEcf3nXPy04eysqtdA/ISRhevif6T/o5rbhrMfWPymgcTYbTKk/AQjYfaVL4j9FrgtwsNzvPwjG5DktCuc/XjOhErCn4D9hEqYhCLDsPynKHd1RtO0/ghIkkU5I2T8AK95fHf7TP0yyLlMyvtw/61Y05LD56D9Gbs5mK/nwP+GqkA2FGvE/YqtgKE3T6j+7er7yO2fpP9hnKzD8weI/Gc8PefTc4j9+l5kjSvPpP/XSomG1R9Y/oMwi3rSA7j9tf5tbGtrlPwe72MzSae4/T1V+0w+R7T/8NI+lUTLhPxcCaJPFhO0/hr9bVTe3yD9PLRYzx1zaPwiv/c244ME/WqwAFt2+5D8R+vSxQEPQP+25wbZdKe0/E7p8xIzC1j8VfawxYffUP8EbztvRANo/HGZ5DO3U6z8JydP8SgDwPyTHAtI8fec/TFZgXkAkpz99njlGBTC7P1prr6rmO+8/0bI5511i1z+bQjNJT2LvP+xHji1ZpOo/jvwSCXKj7T+fQkEQhmrvP+1TnHUGauU/oezVxpKW0j9Y3nUls5TsP+0Dgn0U99I/rvdu1All4z9iwu8raNvtP8lYsGataew/K8pXIZ3t2T/CQuJhvq/RP7LC5ZAqa90/XWyairCH7z+Va1DgVG7HP+ApO4Hg+do/wCF2GiyK7z/RSPVTr/7ZPzSr+qRmv94/qGAztLAIzj9AuT8tZ9jmP59ZiGQ2Scc/amEuq9cb7z93p4RrU5DtPzBLcDIJjfE/GZ7o24h34j8qTrd34R/ZP3jT7pRq58g/\",\"dtype\":\"float64\",\"order\":\"little\",\"shape\":[168]}},\"selected\":{\"id\":\"7156\"},\"selection_policy\":{\"id\":\"7172\"}},\"id\":\"7155\",\"type\":\"ColumnDataSource\"},{\"attributes\":{\"source\":{\"id\":\"7155\"}},\"id\":\"7162\",\"type\":\"CDSView\"},{\"attributes\":{\"label\":{\"value\":\"2\"},\"renderers\":[{\"id\":\"7183\"}]},\"id\":\"7199\",\"type\":\"LegendItem\"},{\"attributes\":{},\"id\":\"7135\",\"type\":\"Selection\"},{\"attributes\":{},\"id\":\"7129\",\"type\":\"BasicTickFormatter\"},{\"attributes\":{},\"id\":\"7105\",\"type\":\"LinearScale\"},{\"attributes\":{\"callback\":null,\"renderers\":[{\"id\":\"7140\"},{\"id\":\"7161\"},{\"id\":\"7183\"}],\"tags\":[\"hv_created\"],\"tooltips\":[[\"class\",\"@{class}\"],[\"feature_0\",\"@{feature_0}\"],[\"feature_1\",\"@{feature_1}\"]]},\"id\":\"7095\",\"type\":\"HoverTool\"},{\"attributes\":{\"label\":{\"value\":\"0\"},\"renderers\":[{\"id\":\"7140\"}]},\"id\":\"7153\",\"type\":\"LegendItem\"},{\"attributes\":{\"coordinates\":null,\"data_source\":{\"id\":\"7134\"},\"glyph\":{\"id\":\"7137\"},\"group\":null,\"hover_glyph\":null,\"muted_glyph\":{\"id\":\"7139\"},\"nonselection_glyph\":{\"id\":\"7138\"},\"selection_glyph\":{\"id\":\"7154\"},\"view\":{\"id\":\"7141\"}},\"id\":\"7140\",\"type\":\"GlyphRenderer\"},{\"attributes\":{\"coordinates\":null,\"data_source\":{\"id\":\"7155\"},\"glyph\":{\"id\":\"7158\"},\"group\":null,\"hover_glyph\":null,\"muted_glyph\":{\"id\":\"7160\"},\"nonselection_glyph\":{\"id\":\"7159\"},\"selection_glyph\":{\"id\":\"7176\"},\"view\":{\"id\":\"7162\"}},\"id\":\"7161\",\"type\":\"GlyphRenderer\"},{\"attributes\":{\"coordinates\":null,\"data_source\":{\"id\":\"7177\"},\"glyph\":{\"id\":\"7180\"},\"group\":null,\"hover_glyph\":null,\"muted_glyph\":{\"id\":\"7182\"},\"nonselection_glyph\":{\"id\":\"7181\"},\"selection_glyph\":{\"id\":\"7200\"},\"view\":{\"id\":\"7184\"}},\"id\":\"7183\",\"type\":\"GlyphRenderer\"},{\"attributes\":{\"axis_label\":\"feature_1\",\"coordinates\":null,\"formatter\":{\"id\":\"7132\"},\"group\":null,\"major_label_policy\":{\"id\":\"7133\"},\"ticker\":{\"id\":\"7112\"}},\"id\":\"7111\",\"type\":\"LinearAxis\"},{\"attributes\":{\"axis_label\":\"feature_0\",\"coordinates\":null,\"formatter\":{\"id\":\"7129\"},\"group\":null,\"major_label_policy\":{\"id\":\"7130\"},\"ticker\":{\"id\":\"7108\"}},\"id\":\"7107\",\"type\":\"LinearAxis\"},{\"attributes\":{},\"id\":\"7196\",\"type\":\"UnionRenderers\"},{\"attributes\":{\"children\":[{\"id\":\"7098\"}],\"height\":300,\"margin\":[0,0,0,0],\"name\":\"Row06827\",\"sizing_mode\":\"fixed\",\"tags\":[\"embedded\"],\"width\":700},\"id\":\"7092\",\"type\":\"Row\"},{\"attributes\":{},\"id\":\"7133\",\"type\":\"AllLabels\"},{\"attributes\":{\"angle\":{\"value\":0.0},\"fill_alpha\":{\"value\":1.0},\"fill_color\":{\"value\":\"#e5ae38\"},\"hatch_alpha\":{\"value\":1.0},\"hatch_color\":{\"value\":\"#e5ae38\"},\"hatch_scale\":{\"value\":12.0},\"hatch_weight\":{\"value\":1.0},\"line_alpha\":{\"value\":1.0},\"line_cap\":{\"value\":\"butt\"},\"line_color\":{\"value\":\"#e5ae38\"},\"line_dash\":{\"value\":[]},\"line_dash_offset\":{\"value\":0},\"line_join\":{\"value\":\"bevel\"},\"line_width\":{\"value\":1},\"marker\":{\"value\":\"circle\"},\"size\":{\"value\":5.477225575051661},\"tags\":[\"apply_ranges\"],\"x\":{\"field\":\"feature_0\"},\"y\":{\"field\":\"feature_1\"}},\"id\":\"7200\",\"type\":\"Scatter\"},{\"attributes\":{},\"id\":\"7172\",\"type\":\"UnionRenderers\"},{\"attributes\":{\"fill_alpha\":{\"value\":0.2},\"fill_color\":{\"value\":\"#fc4f30\"},\"hatch_alpha\":{\"value\":0.2},\"hatch_color\":{\"value\":\"#fc4f30\"},\"line_alpha\":{\"value\":0.2},\"line_color\":{\"value\":\"#fc4f30\"},\"size\":{\"value\":5.477225575051661},\"tags\":[\"apply_ranges\"],\"x\":{\"field\":\"feature_0\"},\"y\":{\"field\":\"feature_1\"}},\"id\":\"7160\",\"type\":\"Scatter\"},{\"attributes\":{\"end\":2.2271793146736347,\"reset_end\":2.2271793146736347,\"reset_start\":-1.267548913159999,\"start\":-1.267548913159999,\"tags\":[[[\"feature_0\",\"feature_0\",null]]]},\"id\":\"7093\",\"type\":\"Range1d\"},{\"attributes\":{\"axis\":{\"id\":\"7111\"},\"coordinates\":null,\"dimension\":1,\"grid_line_color\":null,\"group\":null,\"ticker\":null},\"id\":\"7114\",\"type\":\"Grid\"},{\"attributes\":{\"source\":{\"id\":\"7177\"}},\"id\":\"7184\",\"type\":\"CDSView\"},{\"attributes\":{\"label\":{\"value\":\"1\"},\"renderers\":[{\"id\":\"7161\"}]},\"id\":\"7175\",\"type\":\"LegendItem\"},{\"attributes\":{\"fill_color\":{\"value\":\"#fc4f30\"},\"hatch_color\":{\"value\":\"#fc4f30\"},\"line_color\":{\"value\":\"#fc4f30\"},\"size\":{\"value\":5.477225575051661},\"tags\":[\"apply_ranges\"],\"x\":{\"field\":\"feature_0\"},\"y\":{\"field\":\"feature_1\"}},\"id\":\"7158\",\"type\":\"Scatter\"},{\"attributes\":{\"angle\":{\"value\":0.0},\"fill_alpha\":{\"value\":1.0},\"fill_color\":{\"value\":\"#fc4f30\"},\"hatch_alpha\":{\"value\":1.0},\"hatch_color\":{\"value\":\"#fc4f30\"},\"hatch_scale\":{\"value\":12.0},\"hatch_weight\":{\"value\":1.0},\"line_alpha\":{\"value\":1.0},\"line_cap\":{\"value\":\"butt\"},\"line_color\":{\"value\":\"#fc4f30\"},\"line_dash\":{\"value\":[]},\"line_dash_offset\":{\"value\":0},\"line_join\":{\"value\":\"bevel\"},\"line_width\":{\"value\":1},\"marker\":{\"value\":\"circle\"},\"size\":{\"value\":5.477225575051661},\"tags\":[\"apply_ranges\"],\"x\":{\"field\":\"feature_0\"},\"y\":{\"field\":\"feature_1\"}},\"id\":\"7176\",\"type\":\"Scatter\"},{\"attributes\":{\"fill_alpha\":{\"value\":0.1},\"fill_color\":{\"value\":\"#e5ae38\"},\"hatch_alpha\":{\"value\":0.1},\"hatch_color\":{\"value\":\"#e5ae38\"},\"line_alpha\":{\"value\":0.1},\"line_color\":{\"value\":\"#e5ae38\"},\"size\":{\"value\":5.477225575051661},\"tags\":[\"apply_ranges\"],\"x\":{\"field\":\"feature_0\"},\"y\":{\"field\":\"feature_1\"}},\"id\":\"7181\",\"type\":\"Scatter\"},{\"attributes\":{},\"id\":\"7149\",\"type\":\"UnionRenderers\"},{\"attributes\":{},\"id\":\"7156\",\"type\":\"Selection\"},{\"attributes\":{\"data\":{\"class\":[0,0,0,0,0,0,0,0,0,0,0,0,0,0,0,0,0,0,0,0,0,0,0,0,0,0,0,0,0,0,0,0,0,0,0,0,0,0,0,0,0,0,0,0,0,0,0,0,0,0,0,0,0,0,0,0,0,0,0,0,0,0,0,0,0,0,0,0,0,0,0,0,0,0,0,0,0,0,0,0,0,0,0,0,0,0,0,0,0,0,0,0,0,0,0,0,0,0,0,0,0,0,0,0,0,0,0,0,0,0,0,0,0,0,0,0,0,0,0,0,0,0,0,0,0,0,0,0,0,0,0,0,0,0,0,0,0,0,0,0,0,0,0,0,0,0,0,0,0,0,0,0,0,0,0,0,0,0,0,0,0,0,0,0,0,0,0,0,0,0,0,0,0,0,0,0,0,0,0,0,0,0,0,0,0,0,0,0,0,0,0,0,0,0,0,0,0,0,0,0,0,0,0,0,0,0,0,0,0,0,0,0,0,0,0,0,0,0,0],\"feature_0\":{\"__ndarray__\":\"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\",\"dtype\":\"float64\",\"order\":\"little\",\"shape\":[219]},\"feature_1\":{\"__ndarray__\":\"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\",\"dtype\":\"float64\",\"order\":\"little\",\"shape\":[219]}},\"selected\":{\"id\":\"7135\"},\"selection_policy\":{\"id\":\"7149\"}},\"id\":\"7134\",\"type\":\"ColumnDataSource\"},{\"attributes\":{\"fill_alpha\":{\"value\":0.1},\"fill_color\":{\"value\":\"#30a2da\"},\"hatch_alpha\":{\"value\":0.1},\"hatch_color\":{\"value\":\"#30a2da\"},\"line_alpha\":{\"value\":0.1},\"line_color\":{\"value\":\"#30a2da\"},\"size\":{\"value\":5.477225575051661},\"tags\":[\"apply_ranges\"],\"x\":{\"field\":\"feature_0\"},\"y\":{\"field\":\"feature_1\"}},\"id\":\"7138\",\"type\":\"Scatter\"},{\"attributes\":{\"fill_alpha\":{\"value\":0.2},\"fill_color\":{\"value\":\"#e5ae38\"},\"hatch_alpha\":{\"value\":0.2},\"hatch_color\":{\"value\":\"#e5ae38\"},\"line_alpha\":{\"value\":0.2},\"line_color\":{\"value\":\"#e5ae38\"},\"size\":{\"value\":5.477225575051661},\"tags\":[\"apply_ranges\"],\"x\":{\"field\":\"feature_0\"},\"y\":{\"field\":\"feature_1\"}},\"id\":\"7182\",\"type\":\"Scatter\"},{\"attributes\":{\"fill_color\":{\"value\":\"#e5ae38\"},\"hatch_color\":{\"value\":\"#e5ae38\"},\"line_color\":{\"value\":\"#e5ae38\"},\"size\":{\"value\":5.477225575051661},\"tags\":[\"apply_ranges\"],\"x\":{\"field\":\"feature_0\"},\"y\":{\"field\":\"feature_1\"}},\"id\":\"7180\",\"type\":\"Scatter\"},{\"attributes\":{\"angle\":{\"value\":0.0},\"fill_alpha\":{\"value\":1.0},\"fill_color\":{\"value\":\"#30a2da\"},\"hatch_alpha\":{\"value\":1.0},\"hatch_color\":{\"value\":\"#30a2da\"},\"hatch_scale\":{\"value\":12.0},\"hatch_weight\":{\"value\":1.0},\"line_alpha\":{\"value\":1.0},\"line_cap\":{\"value\":\"butt\"},\"line_color\":{\"value\":\"#30a2da\"},\"line_dash\":{\"value\":[]},\"line_dash_offset\":{\"value\":0},\"line_join\":{\"value\":\"bevel\"},\"line_width\":{\"value\":1},\"marker\":{\"value\":\"circle\"},\"size\":{\"value\":5.477225575051661},\"tags\":[\"apply_ranges\"],\"x\":{\"field\":\"feature_0\"},\"y\":{\"field\":\"feature_1\"}},\"id\":\"7154\",\"type\":\"Scatter\"}],\"root_ids\":[\"7092\"]},\"title\":\"Bokeh Application\",\"version\":\"2.4.3\"}};\n",
       "    var render_items = [{\"docid\":\"a793e22b-56af-4179-a391-73f0ce20a431\",\"root_ids\":[\"7092\"],\"roots\":{\"7092\":\"85ce9823-486e-42ff-8715-a823ddc4f034\"}}];\n",
       "    root.Bokeh.embed.embed_items_notebook(docs_json, render_items);\n",
       "    for (const render_item of render_items) {\n",
       "      for (const root_id of render_item.root_ids) {\n",
       "\tconst id_el = document.getElementById(root_id)\n",
       "\tif (id_el.children.length && (id_el.children[0].className === 'bk-root')) {\n",
       "\t  const root_el = id_el.children[0]\n",
       "\t  root_el.id = root_el.id + '-rendered'\n",
       "\t}\n",
       "      }\n",
       "    }\n",
       "  }\n",
       "  if (root.Bokeh !== undefined && root.Bokeh.Panel !== undefined) {\n",
       "    embed_document(root);\n",
       "  } else {\n",
       "    var attempts = 0;\n",
       "    var timer = setInterval(function(root) {\n",
       "      if (root.Bokeh !== undefined && root.Bokeh.Panel !== undefined) {\n",
       "        clearInterval(timer);\n",
       "        embed_document(root);\n",
       "      } else if (document.readyState == \"complete\") {\n",
       "        attempts++;\n",
       "        if (attempts > 200) {\n",
       "          clearInterval(timer);\n",
       "          console.log(\"Bokeh: ERROR: Unable to run BokehJS code because BokehJS library is missing\");\n",
       "        }\n",
       "      }\n",
       "    }, 25, root)\n",
       "  }\n",
       "})(window);</script>"
      ],
      "text/plain": [
       ":NdOverlay   [class]\n",
       "   :Scatter   [feature_0]   (feature_1)"
      ]
     },
     "metadata": {
      "application/vnd.holoviews_exec.v0+json": {
       "id": "7092"
      }
     },
     "output_type": "display_data"
    },
    {
     "data": {},
     "metadata": {},
     "output_type": "display_data"
    },
    {
     "data": {
      "application/vnd.holoviews_exec.v0+json": "",
      "text/html": [
       "<div id='7290'>\n",
       "  <div class=\"bk-root\" id=\"2dd6f4d5-213a-4cb0-9742-422dd2d521dc\" data-root-id=\"7290\"></div>\n",
       "</div>\n",
       "<script type=\"application/javascript\">(function(root) {\n",
       "  function embed_document(root) {\n",
       "    var docs_json = {\"4b86b729-7d1e-4b15-acfb-d4bd7e5a8f34\":{\"defs\":[{\"extends\":null,\"module\":null,\"name\":\"ReactiveHTML1\",\"overrides\":[],\"properties\":[]},{\"extends\":null,\"module\":null,\"name\":\"FlexBox1\",\"overrides\":[],\"properties\":[{\"default\":\"flex-start\",\"kind\":null,\"name\":\"align_content\"},{\"default\":\"flex-start\",\"kind\":null,\"name\":\"align_items\"},{\"default\":\"row\",\"kind\":null,\"name\":\"flex_direction\"},{\"default\":\"wrap\",\"kind\":null,\"name\":\"flex_wrap\"},{\"default\":\"flex-start\",\"kind\":null,\"name\":\"justify_content\"}]},{\"extends\":null,\"module\":null,\"name\":\"GridStack1\",\"overrides\":[],\"properties\":[{\"default\":\"warn\",\"kind\":null,\"name\":\"mode\"},{\"default\":null,\"kind\":null,\"name\":\"ncols\"},{\"default\":null,\"kind\":null,\"name\":\"nrows\"},{\"default\":true,\"kind\":null,\"name\":\"allow_resize\"},{\"default\":true,\"kind\":null,\"name\":\"allow_drag\"},{\"default\":[],\"kind\":null,\"name\":\"state\"}]},{\"extends\":null,\"module\":null,\"name\":\"click1\",\"overrides\":[],\"properties\":[{\"default\":\"\",\"kind\":null,\"name\":\"terminal_output\"},{\"default\":\"\",\"kind\":null,\"name\":\"debug_name\"},{\"default\":0,\"kind\":null,\"name\":\"clears\"}]},{\"extends\":null,\"module\":null,\"name\":\"NotificationAreaBase1\",\"overrides\":[],\"properties\":[{\"default\":\"bottom-right\",\"kind\":null,\"name\":\"position\"},{\"default\":0,\"kind\":null,\"name\":\"_clear\"}]},{\"extends\":null,\"module\":null,\"name\":\"NotificationArea1\",\"overrides\":[],\"properties\":[{\"default\":[],\"kind\":null,\"name\":\"notifications\"},{\"default\":\"bottom-right\",\"kind\":null,\"name\":\"position\"},{\"default\":0,\"kind\":null,\"name\":\"_clear\"},{\"default\":[{\"background\":\"#ffc107\",\"icon\":{\"className\":\"fas fa-exclamation-triangle\",\"color\":\"white\",\"tagName\":\"i\"},\"type\":\"warning\"},{\"background\":\"#007bff\",\"icon\":{\"className\":\"fas fa-info-circle\",\"color\":\"white\",\"tagName\":\"i\"},\"type\":\"info\"}],\"kind\":null,\"name\":\"types\"}]},{\"extends\":null,\"module\":null,\"name\":\"Notification\",\"overrides\":[],\"properties\":[{\"default\":null,\"kind\":null,\"name\":\"background\"},{\"default\":3000,\"kind\":null,\"name\":\"duration\"},{\"default\":null,\"kind\":null,\"name\":\"icon\"},{\"default\":\"\",\"kind\":null,\"name\":\"message\"},{\"default\":null,\"kind\":null,\"name\":\"notification_type\"},{\"default\":false,\"kind\":null,\"name\":\"_destroyed\"}]},{\"extends\":null,\"module\":null,\"name\":\"TemplateActions1\",\"overrides\":[],\"properties\":[{\"default\":0,\"kind\":null,\"name\":\"open_modal\"},{\"default\":0,\"kind\":null,\"name\":\"close_modal\"}]},{\"extends\":null,\"module\":null,\"name\":\"MaterialTemplateActions1\",\"overrides\":[],\"properties\":[{\"default\":0,\"kind\":null,\"name\":\"open_modal\"},{\"default\":0,\"kind\":null,\"name\":\"close_modal\"}]}],\"roots\":{\"references\":[{\"attributes\":{\"source\":{\"id\":\"7353\"}},\"id\":\"7360\",\"type\":\"CDSView\"},{\"attributes\":{\"axis\":{\"id\":\"7309\"},\"coordinates\":null,\"dimension\":1,\"grid_line_color\":null,\"group\":null,\"ticker\":null},\"id\":\"7312\",\"type\":\"Grid\"},{\"attributes\":{},\"id\":\"7394\",\"type\":\"UnionRenderers\"},{\"attributes\":{\"fill_alpha\":{\"value\":0.1},\"fill_color\":{\"value\":\"#30a2da\"},\"hatch_alpha\":{\"value\":0.1},\"hatch_color\":{\"value\":\"#30a2da\"},\"line_alpha\":{\"value\":0.1},\"line_color\":{\"value\":\"#30a2da\"},\"size\":{\"value\":5.477225575051661},\"tags\":[\"apply_ranges\"],\"x\":{\"field\":\"feature_0\"},\"y\":{\"field\":\"feature_1\"}},\"id\":\"7336\",\"type\":\"Scatter\"},{\"attributes\":{\"fill_color\":{\"value\":\"#fc4f30\"},\"hatch_color\":{\"value\":\"#fc4f30\"},\"line_color\":{\"value\":\"#fc4f30\"},\"size\":{\"value\":5.477225575051661},\"tags\":[\"apply_ranges\"],\"x\":{\"field\":\"feature_0\"},\"y\":{\"field\":\"feature_1\"}},\"id\":\"7356\",\"type\":\"Scatter\"},{\"attributes\":{\"data\":{\"class\":[2,2,2,2,2,2,2,2,2,2,2,2,2,2,2,2,2,2,2,2,2,2,2,2,2,2,2,2,2,2,2,2,2,2,2,2,2,2,2,2,2,2,2,2,2,2,2,2,2,2,2,2,2,2,2,2,2,2,2,2,2,2,2,2,2,2,2,2,2,2,2,2,2,2,2,2,2,2,2,2,2,2,2,2,2,2,2,2,2,2,2,2,2],\"feature_0\":{\"__ndarray__\":\"EGzi6Ki97r9EcIC6nDXev84hlA9oOOq/YsMalAFd4r+ekqT/8vjqvxCI2nK6huK/pVSwCSyl7L/QKuTQZUbrv/y0fCzxZNu/xbdSoX1E6781G2jDglrdv8DeMCg1Aum/sX1S+Gcv4L9gR0VA69DqvyU9G6kvY+m/5W/TkpTf8L8RDB2wpmrvv1IIFVc/CPC/swx5scfO57+BAW5N72Lkv3hrwV2HP++/BHx9hRsF77807Wq63G/sv7dU6DwAHeq/xAIyGgE58L97uZeALmngv9oNmaynrfC/BOba9pBf5r+qrti+dRPhv/tinJ0e1d2/qhfhyj1m7L/KXBWKhSjuv9vuWc1qx/C/g6CsMyxg57/RTDsDFMDuvwrDkybYvui/y+JGvKyj4r/eCHCMpQ7kv8kkc4XWEvK/aTa+4j5p4L/JTztO61nev9uAkMH2d/G/FDGdmrYJ6b+dGHW8Hufmv8uW77CQwd2/V5XvpRe/479EmlrEKa/uvxbTgyd8te6/o1DTwOuT7r8mDqwFFrnbv3x4Iu2+V+y/QQzhu6/e4r94+3dj4GXrvwUsfTmgT++/YwMWTGOa4r+294ZrCrTsvx3BITVRFfC/+kpDu4Un6b+43+JblxTkv1DJUQAS6Oy/iSXs7WCB7L9wmkV02rruv+GrtXcxl++/waAzWRw36L8Sz1mn9Evfv09MwiFfb+G/zK1ufBu36L/JRl4P1Ynov5dlEvaQe+S/wqxLThJU8L8CHno1Xy7pvxuiOJ0yBOq/NI0ELSNk7b/vpb9EWvXuvwAhR3y6N+y/Osgwvr4K5r/pJXAeeO7lv8IIaAyDYe+/emcuPxRV77/1T8+nfhXhv1bchqzXcdq/jAN/An4h6L+C6jW8teTuv1SLugPkPOi/a4AmCLeF7b/+GxFEGa/sv93/AaPT8vC/5Hghwsgi67//6UdllgTcv9z5E9FFJeS/fMWzlJ/Y77/84DeSPbrqv0FNfqOeYO+/\",\"dtype\":\"float64\",\"order\":\"little\",\"shape\":[93]},\"feature_1\":{\"__ndarray__\":\"x/6Qr5Quur9ZI7UL6SDrP/GIDlkfOuE/uhc4rfvU6D9V8hxq5TblP+CZErX08ec/VWZKmajCxz/yhEOFl7rZP7cpwgO+EOw/9whVst6L4D8m/qYxxijuP1xgOAHi0+k/TiZkKb7M6j/XRZOVhLfSP7AncHevwOM/+uA1Pcim1z+zFDVR83WyPzyp1Uh06Yq/bj9CVVhd3z/yf1Jsb8HoP+RKRfS44Nc/DD/GjA8iyT9hnHCGCU7hP8UW04/TuuI/KFbfJ7Dlnr+E2uXLTFDrP1DTNkQNXrc/Z0sn7ACY5j8Wl5B51CbpP1xfpGMqW+s/oU6Fc8FQ0D/SolJJPKTUP/4vlHFLeMY/ZODn85gZ5j+KrflVyYfGP9v2CUSwzOA/azNhNGhH6j86kMI/LcTnP/9MNnbdjaM/5hNzUjfL7j/y188MssvoP7DOnVmpkHq/9ChJbJ+J3z+wNrVB4hPoP/VJwgl93uo/vm5htX8v7D8xILulUonIP47ykWmH/sM/jOXchgIw0D+sEQhDezjuP54ciOv5O98/+94nBBde6D9b4EEcf3nXPy04eysqtdA/ISRhevif6T/o5rbhrMfWPymgcTYbTKk/AQjYfaVL4j8IxuQ5LQrnP14zoRKwp+A/ghIkkU5I2T8AK95fHf7TP0yyLlMyvtw/61Y05LD56D9iq2AoTdPqP7t6vvI7Z+k/2GcrMPzB4j8Zzw959NziP36XmSNK8+k/9dKiYbVH1j9tf5tbGtrlP/w0j6VRMuE/Ty0WM8dc2j8Ir/3NuODBP1qsABbdvuQ/HGZ5DO3U6z8kxwLSPH3nP0xWYF5AJKc/fZ45RgUwuz/sR44tWaTqP478Eglyo+0/7VOcdQZq5T/tA4J9FPfSP673btQJZeM/K8pXIZ3t2T+ywuWQKmvdP5VrUOBUbsc/4Ck7geD52j/AIXYaLIrvP0C5Py1n2OY/n1mIZDZJxz8ZnujbiHfiP3jT7pRq58g/\",\"dtype\":\"float64\",\"order\":\"little\",\"shape\":[93]}},\"selected\":{\"id\":\"7376\"},\"selection_policy\":{\"id\":\"7394\"}},\"id\":\"7375\",\"type\":\"ColumnDataSource\"},{\"attributes\":{\"angle\":{\"value\":0.0},\"fill_alpha\":{\"value\":1.0},\"fill_color\":{\"value\":\"#e5ae38\"},\"hatch_alpha\":{\"value\":1.0},\"hatch_color\":{\"value\":\"#e5ae38\"},\"hatch_scale\":{\"value\":12.0},\"hatch_weight\":{\"value\":1.0},\"line_alpha\":{\"value\":1.0},\"line_cap\":{\"value\":\"butt\"},\"line_color\":{\"value\":\"#e5ae38\"},\"line_dash\":{\"value\":[]},\"line_dash_offset\":{\"value\":0},\"line_join\":{\"value\":\"bevel\"},\"line_width\":{\"value\":1},\"marker\":{\"value\":\"circle\"},\"size\":{\"value\":5.477225575051661},\"tags\":[\"apply_ranges\"],\"x\":{\"field\":\"feature_0\"},\"y\":{\"field\":\"feature_1\"}},\"id\":\"7398\",\"type\":\"Scatter\"},{\"attributes\":{},\"id\":\"7354\",\"type\":\"Selection\"},{\"attributes\":{\"data\":{\"class\":[1,1,1,1,1,1,1,1,1,1,1,1,1,1,1,1,1,1,1,1,1,1,1,1,1,1,1,1,1,1,1,1,1,1,1,1,1,1,1,1,1,1,1,1,1,1,1,1,1,1,1,1,1,1,1,1,1,1,1,1,1,1,1,1,1,1,1,1,1,1,1,1,1,1,1,1,1,1,1,1,1,1,1,1,1,1,1,1,1,1,1,1,1,1,1,1,1,1,1,1,1,1,1,1,1,1,1,1,1,1,1,1,1,1,1,1,1,1,1,1,1,1,1,1,1,1,1,1,1,1,1,1,1,1,1,1,1,1,1,1,1,1,1,1,1,1,1,1,1,1,1,1,1,1,1,1,1,1,1,1,1,1,1,1,1,1,1,1,1,1,1,1,1,1,1,1,1,1,1,1,1,1,1,1,1,1,1,1,1,1,1,1,1,1,1,1,1,1,1,1,1,1,1,1,1,1,1,1,1,1,1,1,1,1,1,1,1,1,1,1],\"feature_0\":{\"__ndarray__\":\"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\",\"dtype\":\"float64\",\"order\":\"little\",\"shape\":[220]},\"feature_1\":{\"__ndarray__\":\"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\",\"dtype\":\"float64\",\"order\":\"little\",\"shape\":[220]}},\"selected\":{\"id\":\"7354\"},\"selection_policy\":{\"id\":\"7370\"}},\"id\":\"7353\",\"type\":\"ColumnDataSource\"},{\"attributes\":{},\"id\":\"7370\",\"type\":\"UnionRenderers\"},{\"attributes\":{\"label\":{\"value\":\"1\"},\"renderers\":[{\"id\":\"7359\"}]},\"id\":\"7373\",\"type\":\"LegendItem\"},{\"attributes\":{\"click_policy\":\"mute\",\"coordinates\":null,\"group\":null,\"items\":[{\"id\":\"7351\"},{\"id\":\"7373\"},{\"id\":\"7397\"}],\"location\":[0,0],\"title\":\"class\"},\"id\":\"7350\",\"type\":\"Legend\"},{\"attributes\":{\"fill_color\":{\"value\":\"#e5ae38\"},\"hatch_color\":{\"value\":\"#e5ae38\"},\"line_color\":{\"value\":\"#e5ae38\"},\"size\":{\"value\":5.477225575051661},\"tags\":[\"apply_ranges\"],\"x\":{\"field\":\"feature_0\"},\"y\":{\"field\":\"feature_1\"}},\"id\":\"7378\",\"type\":\"Scatter\"},{\"attributes\":{\"callback\":null,\"renderers\":[{\"id\":\"7338\"},{\"id\":\"7359\"},{\"id\":\"7381\"}],\"tags\":[\"hv_created\"],\"tooltips\":[[\"class\",\"@{class}\"],[\"feature_0\",\"@{feature_0}\"],[\"feature_1\",\"@{feature_1}\"]]},\"id\":\"7293\",\"type\":\"HoverTool\"},{\"attributes\":{\"end\":1.3132585541817483,\"reset_end\":1.3132585541817483,\"reset_start\":-0.7391261487509769,\"start\":-0.7391261487509769,\"tags\":[[[\"feature_1\",\"feature_1\",null]]]},\"id\":\"7292\",\"type\":\"Range1d\"},{\"attributes\":{\"fill_alpha\":{\"value\":0.2},\"fill_color\":{\"value\":\"#e5ae38\"},\"hatch_alpha\":{\"value\":0.2},\"hatch_color\":{\"value\":\"#e5ae38\"},\"line_alpha\":{\"value\":0.2},\"line_color\":{\"value\":\"#e5ae38\"},\"size\":{\"value\":5.477225575051661},\"tags\":[\"apply_ranges\"],\"x\":{\"field\":\"feature_0\"},\"y\":{\"field\":\"feature_1\"}},\"id\":\"7380\",\"type\":\"Scatter\"},{\"attributes\":{\"coordinates\":null,\"data_source\":{\"id\":\"7353\"},\"glyph\":{\"id\":\"7356\"},\"group\":null,\"hover_glyph\":null,\"muted_glyph\":{\"id\":\"7358\"},\"nonselection_glyph\":{\"id\":\"7357\"},\"selection_glyph\":{\"id\":\"7374\"},\"view\":{\"id\":\"7360\"}},\"id\":\"7359\",\"type\":\"GlyphRenderer\"},{\"attributes\":{\"active_drag\":{\"id\":\"7314\"},\"active_scroll\":{\"id\":\"7315\"},\"tools\":[{\"id\":\"7293\"},{\"id\":\"7313\"},{\"id\":\"7314\"},{\"id\":\"7315\"},{\"id\":\"7316\"},{\"id\":\"7317\"}]},\"id\":\"7319\",\"type\":\"Toolbar\"},{\"attributes\":{\"source\":{\"id\":\"7332\"}},\"id\":\"7339\",\"type\":\"CDSView\"},{\"attributes\":{\"coordinates\":null,\"data_source\":{\"id\":\"7375\"},\"glyph\":{\"id\":\"7378\"},\"group\":null,\"hover_glyph\":null,\"muted_glyph\":{\"id\":\"7380\"},\"nonselection_glyph\":{\"id\":\"7379\"},\"selection_glyph\":{\"id\":\"7398\"},\"view\":{\"id\":\"7382\"}},\"id\":\"7381\",\"type\":\"GlyphRenderer\"},{\"attributes\":{},\"id\":\"7333\",\"type\":\"Selection\"},{\"attributes\":{\"bottom_units\":\"screen\",\"coordinates\":null,\"fill_alpha\":0.5,\"fill_color\":\"lightgrey\",\"group\":null,\"left_units\":\"screen\",\"level\":\"overlay\",\"line_alpha\":1.0,\"line_color\":\"black\",\"line_dash\":[4,4],\"line_width\":2,\"right_units\":\"screen\",\"syncable\":false,\"top_units\":\"screen\"},\"id\":\"7318\",\"type\":\"BoxAnnotation\"},{\"attributes\":{},\"id\":\"7313\",\"type\":\"SaveTool\"},{\"attributes\":{},\"id\":\"7314\",\"type\":\"PanTool\"},{\"attributes\":{},\"id\":\"7310\",\"type\":\"BasicTicker\"},{\"attributes\":{},\"id\":\"7347\",\"type\":\"UnionRenderers\"},{\"attributes\":{\"fill_alpha\":{\"value\":0.1},\"fill_color\":{\"value\":\"#e5ae38\"},\"hatch_alpha\":{\"value\":0.1},\"hatch_color\":{\"value\":\"#e5ae38\"},\"line_alpha\":{\"value\":0.1},\"line_color\":{\"value\":\"#e5ae38\"},\"size\":{\"value\":5.477225575051661},\"tags\":[\"apply_ranges\"],\"x\":{\"field\":\"feature_0\"},\"y\":{\"field\":\"feature_1\"}},\"id\":\"7379\",\"type\":\"Scatter\"},{\"attributes\":{},\"id\":\"7317\",\"type\":\"ResetTool\"},{\"attributes\":{\"below\":[{\"id\":\"7305\"}],\"center\":[{\"id\":\"7308\"},{\"id\":\"7312\"}],\"height\":300,\"left\":[{\"id\":\"7309\"}],\"margin\":[5,5,5,5],\"min_border_bottom\":10,\"min_border_left\":10,\"min_border_right\":10,\"min_border_top\":10,\"output_backend\":\"webgl\",\"renderers\":[{\"id\":\"7338\"},{\"id\":\"7359\"},{\"id\":\"7381\"}],\"right\":[{\"id\":\"7350\"}],\"sizing_mode\":\"fixed\",\"title\":{\"id\":\"7297\"},\"toolbar\":{\"id\":\"7319\"},\"width\":700,\"x_range\":{\"id\":\"7291\"},\"x_scale\":{\"id\":\"7301\"},\"y_range\":{\"id\":\"7292\"},\"y_scale\":{\"id\":\"7303\"}},\"id\":\"7296\",\"subtype\":\"Figure\",\"type\":\"Plot\"},{\"attributes\":{},\"id\":\"7315\",\"type\":\"WheelZoomTool\"},{\"attributes\":{},\"id\":\"7328\",\"type\":\"AllLabels\"},{\"attributes\":{\"overlay\":{\"id\":\"7318\"}},\"id\":\"7316\",\"type\":\"BoxZoomTool\"},{\"attributes\":{\"end\":2.2271793146736347,\"reset_end\":2.2271793146736347,\"reset_start\":-1.267548913159999,\"start\":-1.267548913159999,\"tags\":[[[\"feature_0\",\"feature_0\",null]]]},\"id\":\"7291\",\"type\":\"Range1d\"},{\"attributes\":{\"source\":{\"id\":\"7375\"}},\"id\":\"7382\",\"type\":\"CDSView\"},{\"attributes\":{},\"id\":\"7331\",\"type\":\"AllLabels\"},{\"attributes\":{},\"id\":\"7306\",\"type\":\"BasicTicker\"},{\"attributes\":{},\"id\":\"7327\",\"type\":\"BasicTickFormatter\"},{\"attributes\":{\"axis\":{\"id\":\"7305\"},\"coordinates\":null,\"grid_line_color\":null,\"group\":null,\"ticker\":null},\"id\":\"7308\",\"type\":\"Grid\"},{\"attributes\":{\"data\":{\"class\":[0,0,0,0,0,0,0,0,0,0,0,0,0,0,0,0,0,0,0,0,0,0,0,0,0,0,0,0,0,0,0,0,0,0,0,0,0,0,0,0,0,0,0,0,0,0,0,0,0,0,0,0,0,0,0,0,0,0,0,0,0,0,0,0,0,0,0,0,0,0,0,0,0,0,0,0,0,0,0,0,0,0,0,0,0,0,0,0,0,0,0,0,0,0,0,0,0,0,0,0,0,0,0,0,0,0,0,0,0,0,0,0,0,0,0,0,0,0,0,0,0,0,0,0,0,0,0,0,0,0,0,0,0,0,0,0,0,0,0,0,0,0,0,0,0,0,0,0,0,0,0,0,0,0,0,0,0,0,0,0,0,0,0,0,0,0,0,0,0,0,0,0,0,0,0,0,0,0,0,0,0,0,0,0,0,0,0],\"feature_0\":{\"__ndarray__\":\"yEv34IMb5T+WKEngOgcAQJmx5D9yzv8/rnaI8doR3D+yNUdMAhL7P82ulhdqN9g/kC+B3ZCx0T+d/r9xXfL/P6m00Ev6ePA/Enp4AHm34j81YwWd7tX7Pw8BOJU+MeU/mnJrJoQ+9T/Tp5LmRmLtP7CXaTVgRNo/qlxgJycV+z84pQJPOwX+P+/K6BYUA94/AxZXMV/u2z8XsCbj/2j4PydF72MVhvY/kYtsgiQq+D/swUhFemH9P1rW2pYdtd0/4IWqiBQw5z8pvsPJkMPhP/xBBK+bLuo/2Wj3S+NC8j+1KXzWkyvZP2t4dKjstfI/qrx8jDGS4D+e9r5EdF3UP8aTHOhw/Nc/dpq7X2Li/j8rumpXf0P/P0v7naQNRfo/GZkI7OyS9j8Z/rt/2wX8P4J/yibc2f8/7htL71u0/z9Lww/glZv/P/oJzCXqTP8/M62WH4jH+T+uGkMYNKb4PxUlJLzccvs/QJbKY9+j/j9VgJw/BmTwP9lDji2VGvE/63vrMuc44z9oMJRVYozzP9qqHaIepfc/7nIIe7eH/z8Ypzx3jC77P4jWhl4NZfk/hSBi1ogy/j9c2Cy6pxUAQEjkT38I7OM/n98ri6o9/z8EtLuEp2L8P8xzTcWkCPA/nvU6PGpi2j+fdgzw7fb8PxK5dBAt+v0/Eh1fi5Rh7z9FwW1AS3DgP6uRis/v4eo/Zjmk/2hD6D8dWQnkojnwP3oMuFdwiPo/8MxjtaLQ/j8lC6+sBxXyPzYlEm77ZPg/CZf75GOz8D/PkRojm9PvP53ifc+Jk/M/LInRJK6eAEDuLmi+D7HTP0J4AJb5dOw/Z0PsgAUf9j8LXmHNaCDvP30hNe6Xh/0/3FFwnBYe5D9Pcrq+4Vj+PxxTLUY6pfc/NqtQY81X9D+F4Sk8Bbj5P7KAEk1I/eY/yp0dMSmu9D/0Q7birIf/P+PWw8gwSPo/0NP1RXwi+T9pP9QEC1TcP4lX0Ylu5vo/cRF1Xmt5/j8Y6Pfc/kb8Px//WT92HgBAfPp6Wau8+T/rWlMoFMD+P8XyWt6TQ+Q/8bx1vpFW7T8kWk20jrn8P8SjUznzH/8/PsSTXDKm+j9tYOLFTFH3P24j3oQ2YNc/SKZeRKdF9z84nJZ2ribpP87peRK0wf8/XkICpYrQ9D/MgAHhiSz/PyWP7/a9tgBAYMSz1Vvz/j8dghV8KMj7P0jpTMRRR/g/FAxtdW3+8z/SjYl/XzMAQHSMbIaqlP8/FHxiz57x9j+BrDXdm8P9P/1r6Y/W9+k/kZY2VTk29j8/n0hBH0IAQGgduE5uF/I/+nV8YMw9/D8D/tdWut76PyXrtVx82P4/wzSkGfOg/j9GEbYF7W8AQBoAXg+bVus/T/s0RuvA6z/GW+3kmjHwP9TLNh8Y6Po/F+EsnF142j/aUYaSEY3oP4OlxntMCPc/4Nl+mOSz5z/4+5IUUargP/SV6vQqpe0/sq/DBtRq4T8DTS9AZ/n1P4oH+eHbTfI/y4/FUau66T/ECj3FAQEAQNOmYdNMePs/mvW3DgUO2T9yG+d/i1//P2AU2q0/YPs/nvSHxHQV/D/9ff573KLgPztCWow40uw/F5vUDLQm2j9uxHjCPeD8P6ah4WPjtOQ/0NNrwiNuAEA/GKLWMjr4P8aGAOe3Wvs/C+6LvQiw6j/acMhMfDvyP2d2bUuXtf8/7mRnyCvd8z8KYIkGzjrqP8tKYYa9ZO4/2vx2CvHZ4D8eZQaUsiP/P3wnRFtWXPM/7O+e4Af18j/vLtDz5gIAQDy/gmM2ZPk/e8mpRfl2/j864+z1Q7nXP5Ij+v4wjvE/gmLIDL782j9gZlbsqdXTP7Fovz5pSf8/7eV74Kkf5z9uTmzQKCr0P46MqxonUPc/pVV15bJW9D/1USzDHGD/P6/xWbObDvU/NOKRm1G16D84yU8R1cryP26KgWix7P0/3FsJ/P61/D+V4EKk+MTgPxiM1Q12TPQ/GAqYgB5y9D8=\",\"dtype\":\"float64\",\"order\":\"little\",\"shape\":[187]},\"feature_1\":{\"__ndarray__\":\"4/+nZM5q3L8YHqtaLuTIP+k7eJhZotk/xFFHAgOz0L+UxMi2Be3Fv7N43OQa7su/PyqfcPqx0r+caa3weUvWP07cO2mvWeG/ogMyplK43b9zy+gsZFjBv/jrQYTEPti/JqhUGD9Z3L+PKzaAAEXcv8sy5+CvENS/UrzHyVyvyr8OoIntFX6+P65GmMW7/dK//uaQrNYR1b9undTHz5XRv1qIkeUJENm/cRWWOhIm1b+/Swius9S8v4bHX/gikNa/Pab+RL4Y3r8mqNQ7eETcv5lIuQexRd+/VmfQ8V5d3L+sJFeh2fLSv1mvLOciEOG/2yu7DOL62r9yHErrdirVvwqPrxWSw9G/BHAMOfdFwD/4x1rOXr7eP0/KfWDCn9i/bbw9R2ur1L9IuAVjq1i4v7hYhV1Q7Ns/AgAOex6P0j9967U7ddXKP54d1g+Y9Mw/geMafW2l079RtyMSDr/Zv8ERgE3BNtK/OqniKRWVzT/WuGs7IjPev77AysWjCNm/7hqNGpXS1r/M6XB5hRbcv5wSrSW0Uta/ib4qMO611j84UP9RN+bKv2/0AyviydK/2pRFLelCwD/mWHW8ZTTgP4KXcRuUTdi/+AfApcdivr+uLotRIK23vxJRjS1CROG/8SK4fs/S0r/CJcIPT+62v9fTpysXC7C/04dgE5Dn37/sDg9a0WTXvzXwgGhlLtm/hPUaJ3KU1r+VwMHYNBzhv+stk4zgINK/3FpbU7EMtj/5Mxs2f47dv20NZ5aGdNW/PKZTkVH6379C0UCcmtrgv22C742Qhd6/zeUQmVSF3j8OBG3g187Pv/20K649Y+G/29aSrufQ2b/LxjPQmIPevwjcx9XX4qe/toTe4ioP2r8Ql9iknTvCP/iuREDMYdi/PTK45lSt3r/mL4D+a7nWv8SMOqoC0di/I1c43yVP2b/2hNAC/y7LP8yQ7yQlYdO/A1iwybAVzb9LkcvfC4jNv5h1pY9gUdG/oASs6C+Tu78aroHSXUu9v1vcppv0SsQ//EyWZ46ny7928Z/zbKXDP6b1zIJRfd2/pJcMtuqe4L8gaMfu5pnDv2y1OvujDNE/ECXJ5JTfwb8qE27WO/Hbv6eoxN6caNS/Ocl06Q6b2r/d4y5QrpHgv7bc+Ug4Z88/+C7uwTF32r+3fKXzTrS/PyxBNB1K790/wJkAYTIwwT/FaSWbc7fRv6H0KXw1pNi/QKgvsunG2L8gjV/Sii7QP0RzipabvtE/+Bk72C7t278CSZ2VwazBPyrLDnV1rtm/mzekt1YW4b9tbopH68LTP9EQ3xOMk9+/hDlqBcwYor99v8OodGzKvxlwZGZcS8E/bkZpl6GSoT+8kenMyZraP7tLxQt9R96/CNldJagv4b+cHCTcEz/cv2LDBU92/cy/5MIwLq3Hz7+YG+NrB4Ldv8YBjebvwNi/ix8a74tY4L+X9Z/CilDav1Av7hjs0du/tHrZnXut17+bMcewGFrdv6NCGJ+PWN6/u6PInB784L/ur3+vrsnWP9Hr+neCeMW/D9xvzTGl2r+h0QNYolHZP05xp2qwBMm/v+P4oekXqT+H3gfYjeLWv4xsR96MX9m/ogE8w7DP0r/an0P8kd2vP60rHS3jy92/BiTQ/5fB0z/U18jL/fbTv9BknVhCfMm/Nka3iMDl3L9uSWZSDl3cv8nvxOaQgNk/wazEThlw4L//Xj6BJ+zbv4kTUhvhxN2/okXhvmO+1r9obWSsruikP2IPVuAGxd+/XaqoOEd14b/BlAR6nkzUP+yXOOSaSMu/gEsaoV1Ybr8edG5/XiTMvx7MYvExONy/6Wn23bnizL/yaIicOabSvy2ggGhHkdo/GgpLqNMt4r9ucB0EfEHgv/XWAjCocNq/ThEyDs4p3L9oHcSIsBu9P/WeV44JjNi/WcOnqDOR4L9Q32lWlyPhv0DpLLFRrmI/oS2Vn/Efxb/zMpZlWQ3Yv4JN+7/gs9e/HGZ+N7VH3b8=\",\"dtype\":\"float64\",\"order\":\"little\",\"shape\":[187]}},\"selected\":{\"id\":\"7333\"},\"selection_policy\":{\"id\":\"7347\"}},\"id\":\"7332\",\"type\":\"ColumnDataSource\"},{\"attributes\":{\"fill_alpha\":{\"value\":0.1},\"fill_color\":{\"value\":\"#fc4f30\"},\"hatch_alpha\":{\"value\":0.1},\"hatch_color\":{\"value\":\"#fc4f30\"},\"line_alpha\":{\"value\":0.1},\"line_color\":{\"value\":\"#fc4f30\"},\"size\":{\"value\":5.477225575051661},\"tags\":[\"apply_ranges\"],\"x\":{\"field\":\"feature_0\"},\"y\":{\"field\":\"feature_1\"}},\"id\":\"7357\",\"type\":\"Scatter\"},{\"attributes\":{},\"id\":\"7301\",\"type\":\"LinearScale\"},{\"attributes\":{\"coordinates\":null,\"group\":null,\"text\":\"AgglomerativeClustering\",\"text_color\":\"black\",\"text_font_size\":\"12pt\"},\"id\":\"7297\",\"type\":\"Title\"},{\"attributes\":{\"angle\":{\"value\":0.0},\"fill_alpha\":{\"value\":1.0},\"fill_color\":{\"value\":\"#fc4f30\"},\"hatch_alpha\":{\"value\":1.0},\"hatch_color\":{\"value\":\"#fc4f30\"},\"hatch_scale\":{\"value\":12.0},\"hatch_weight\":{\"value\":1.0},\"line_alpha\":{\"value\":1.0},\"line_cap\":{\"value\":\"butt\"},\"line_color\":{\"value\":\"#fc4f30\"},\"line_dash\":{\"value\":[]},\"line_dash_offset\":{\"value\":0},\"line_join\":{\"value\":\"bevel\"},\"line_width\":{\"value\":1},\"marker\":{\"value\":\"circle\"},\"size\":{\"value\":5.477225575051661},\"tags\":[\"apply_ranges\"],\"x\":{\"field\":\"feature_0\"},\"y\":{\"field\":\"feature_1\"}},\"id\":\"7374\",\"type\":\"Scatter\"},{\"attributes\":{\"label\":{\"value\":\"0\"},\"renderers\":[{\"id\":\"7338\"}]},\"id\":\"7351\",\"type\":\"LegendItem\"},{\"attributes\":{\"fill_color\":{\"value\":\"#30a2da\"},\"hatch_color\":{\"value\":\"#30a2da\"},\"line_color\":{\"value\":\"#30a2da\"},\"size\":{\"value\":5.477225575051661},\"tags\":[\"apply_ranges\"],\"x\":{\"field\":\"feature_0\"},\"y\":{\"field\":\"feature_1\"}},\"id\":\"7335\",\"type\":\"Scatter\"},{\"attributes\":{},\"id\":\"7303\",\"type\":\"LinearScale\"},{\"attributes\":{\"coordinates\":null,\"data_source\":{\"id\":\"7332\"},\"glyph\":{\"id\":\"7335\"},\"group\":null,\"hover_glyph\":null,\"muted_glyph\":{\"id\":\"7337\"},\"nonselection_glyph\":{\"id\":\"7336\"},\"selection_glyph\":{\"id\":\"7352\"},\"view\":{\"id\":\"7339\"}},\"id\":\"7338\",\"type\":\"GlyphRenderer\"},{\"attributes\":{\"fill_alpha\":{\"value\":0.2},\"fill_color\":{\"value\":\"#30a2da\"},\"hatch_alpha\":{\"value\":0.2},\"hatch_color\":{\"value\":\"#30a2da\"},\"line_alpha\":{\"value\":0.2},\"line_color\":{\"value\":\"#30a2da\"},\"size\":{\"value\":5.477225575051661},\"tags\":[\"apply_ranges\"],\"x\":{\"field\":\"feature_0\"},\"y\":{\"field\":\"feature_1\"}},\"id\":\"7337\",\"type\":\"Scatter\"},{\"attributes\":{\"axis_label\":\"feature_1\",\"coordinates\":null,\"formatter\":{\"id\":\"7330\"},\"group\":null,\"major_label_policy\":{\"id\":\"7331\"},\"ticker\":{\"id\":\"7310\"}},\"id\":\"7309\",\"type\":\"LinearAxis\"},{\"attributes\":{\"fill_alpha\":{\"value\":0.2},\"fill_color\":{\"value\":\"#fc4f30\"},\"hatch_alpha\":{\"value\":0.2},\"hatch_color\":{\"value\":\"#fc4f30\"},\"line_alpha\":{\"value\":0.2},\"line_color\":{\"value\":\"#fc4f30\"},\"size\":{\"value\":5.477225575051661},\"tags\":[\"apply_ranges\"],\"x\":{\"field\":\"feature_0\"},\"y\":{\"field\":\"feature_1\"}},\"id\":\"7358\",\"type\":\"Scatter\"},{\"attributes\":{\"label\":{\"value\":\"2\"},\"renderers\":[{\"id\":\"7381\"}]},\"id\":\"7397\",\"type\":\"LegendItem\"},{\"attributes\":{\"axis_label\":\"feature_0\",\"coordinates\":null,\"formatter\":{\"id\":\"7327\"},\"group\":null,\"major_label_policy\":{\"id\":\"7328\"},\"ticker\":{\"id\":\"7306\"}},\"id\":\"7305\",\"type\":\"LinearAxis\"},{\"attributes\":{\"angle\":{\"value\":0.0},\"fill_alpha\":{\"value\":1.0},\"fill_color\":{\"value\":\"#30a2da\"},\"hatch_alpha\":{\"value\":1.0},\"hatch_color\":{\"value\":\"#30a2da\"},\"hatch_scale\":{\"value\":12.0},\"hatch_weight\":{\"value\":1.0},\"line_alpha\":{\"value\":1.0},\"line_cap\":{\"value\":\"butt\"},\"line_color\":{\"value\":\"#30a2da\"},\"line_dash\":{\"value\":[]},\"line_dash_offset\":{\"value\":0},\"line_join\":{\"value\":\"bevel\"},\"line_width\":{\"value\":1},\"marker\":{\"value\":\"circle\"},\"size\":{\"value\":5.477225575051661},\"tags\":[\"apply_ranges\"],\"x\":{\"field\":\"feature_0\"},\"y\":{\"field\":\"feature_1\"}},\"id\":\"7352\",\"type\":\"Scatter\"},{\"attributes\":{},\"id\":\"7376\",\"type\":\"Selection\"},{\"attributes\":{},\"id\":\"7330\",\"type\":\"BasicTickFormatter\"},{\"attributes\":{\"children\":[{\"id\":\"7296\"}],\"height\":300,\"margin\":[0,0,0,0],\"name\":\"Row07013\",\"sizing_mode\":\"fixed\",\"tags\":[\"embedded\"],\"width\":700},\"id\":\"7290\",\"type\":\"Row\"}],\"root_ids\":[\"7290\"]},\"title\":\"Bokeh Application\",\"version\":\"2.4.3\"}};\n",
       "    var render_items = [{\"docid\":\"4b86b729-7d1e-4b15-acfb-d4bd7e5a8f34\",\"root_ids\":[\"7290\"],\"roots\":{\"7290\":\"2dd6f4d5-213a-4cb0-9742-422dd2d521dc\"}}];\n",
       "    root.Bokeh.embed.embed_items_notebook(docs_json, render_items);\n",
       "    for (const render_item of render_items) {\n",
       "      for (const root_id of render_item.root_ids) {\n",
       "\tconst id_el = document.getElementById(root_id)\n",
       "\tif (id_el.children.length && (id_el.children[0].className === 'bk-root')) {\n",
       "\t  const root_el = id_el.children[0]\n",
       "\t  root_el.id = root_el.id + '-rendered'\n",
       "\t}\n",
       "      }\n",
       "    }\n",
       "  }\n",
       "  if (root.Bokeh !== undefined && root.Bokeh.Panel !== undefined) {\n",
       "    embed_document(root);\n",
       "  } else {\n",
       "    var attempts = 0;\n",
       "    var timer = setInterval(function(root) {\n",
       "      if (root.Bokeh !== undefined && root.Bokeh.Panel !== undefined) {\n",
       "        clearInterval(timer);\n",
       "        embed_document(root);\n",
       "      } else if (document.readyState == \"complete\") {\n",
       "        attempts++;\n",
       "        if (attempts > 200) {\n",
       "          clearInterval(timer);\n",
       "          console.log(\"Bokeh: ERROR: Unable to run BokehJS code because BokehJS library is missing\");\n",
       "        }\n",
       "      }\n",
       "    }, 25, root)\n",
       "  }\n",
       "})(window);</script>"
      ],
      "text/plain": [
       ":NdOverlay   [class]\n",
       "   :Scatter   [feature_0]   (feature_1)"
      ]
     },
     "metadata": {
      "application/vnd.holoviews_exec.v0+json": {
       "id": "7290"
      }
     },
     "output_type": "display_data"
    },
    {
     "data": {},
     "metadata": {},
     "output_type": "display_data"
    },
    {
     "data": {
      "application/vnd.holoviews_exec.v0+json": "",
      "text/html": [
       "<div id='7488'>\n",
       "  <div class=\"bk-root\" id=\"74867015-be4f-4e76-b420-8801a2c9e93c\" data-root-id=\"7488\"></div>\n",
       "</div>\n",
       "<script type=\"application/javascript\">(function(root) {\n",
       "  function embed_document(root) {\n",
       "    var docs_json = {\"880b38f1-d170-4abb-ab76-fe29be73833c\":{\"defs\":[{\"extends\":null,\"module\":null,\"name\":\"ReactiveHTML1\",\"overrides\":[],\"properties\":[]},{\"extends\":null,\"module\":null,\"name\":\"FlexBox1\",\"overrides\":[],\"properties\":[{\"default\":\"flex-start\",\"kind\":null,\"name\":\"align_content\"},{\"default\":\"flex-start\",\"kind\":null,\"name\":\"align_items\"},{\"default\":\"row\",\"kind\":null,\"name\":\"flex_direction\"},{\"default\":\"wrap\",\"kind\":null,\"name\":\"flex_wrap\"},{\"default\":\"flex-start\",\"kind\":null,\"name\":\"justify_content\"}]},{\"extends\":null,\"module\":null,\"name\":\"GridStack1\",\"overrides\":[],\"properties\":[{\"default\":\"warn\",\"kind\":null,\"name\":\"mode\"},{\"default\":null,\"kind\":null,\"name\":\"ncols\"},{\"default\":null,\"kind\":null,\"name\":\"nrows\"},{\"default\":true,\"kind\":null,\"name\":\"allow_resize\"},{\"default\":true,\"kind\":null,\"name\":\"allow_drag\"},{\"default\":[],\"kind\":null,\"name\":\"state\"}]},{\"extends\":null,\"module\":null,\"name\":\"click1\",\"overrides\":[],\"properties\":[{\"default\":\"\",\"kind\":null,\"name\":\"terminal_output\"},{\"default\":\"\",\"kind\":null,\"name\":\"debug_name\"},{\"default\":0,\"kind\":null,\"name\":\"clears\"}]},{\"extends\":null,\"module\":null,\"name\":\"NotificationAreaBase1\",\"overrides\":[],\"properties\":[{\"default\":\"bottom-right\",\"kind\":null,\"name\":\"position\"},{\"default\":0,\"kind\":null,\"name\":\"_clear\"}]},{\"extends\":null,\"module\":null,\"name\":\"NotificationArea1\",\"overrides\":[],\"properties\":[{\"default\":[],\"kind\":null,\"name\":\"notifications\"},{\"default\":\"bottom-right\",\"kind\":null,\"name\":\"position\"},{\"default\":0,\"kind\":null,\"name\":\"_clear\"},{\"default\":[{\"background\":\"#ffc107\",\"icon\":{\"className\":\"fas fa-exclamation-triangle\",\"color\":\"white\",\"tagName\":\"i\"},\"type\":\"warning\"},{\"background\":\"#007bff\",\"icon\":{\"className\":\"fas fa-info-circle\",\"color\":\"white\",\"tagName\":\"i\"},\"type\":\"info\"}],\"kind\":null,\"name\":\"types\"}]},{\"extends\":null,\"module\":null,\"name\":\"Notification\",\"overrides\":[],\"properties\":[{\"default\":null,\"kind\":null,\"name\":\"background\"},{\"default\":3000,\"kind\":null,\"name\":\"duration\"},{\"default\":null,\"kind\":null,\"name\":\"icon\"},{\"default\":\"\",\"kind\":null,\"name\":\"message\"},{\"default\":null,\"kind\":null,\"name\":\"notification_type\"},{\"default\":false,\"kind\":null,\"name\":\"_destroyed\"}]},{\"extends\":null,\"module\":null,\"name\":\"TemplateActions1\",\"overrides\":[],\"properties\":[{\"default\":0,\"kind\":null,\"name\":\"open_modal\"},{\"default\":0,\"kind\":null,\"name\":\"close_modal\"}]},{\"extends\":null,\"module\":null,\"name\":\"MaterialTemplateActions1\",\"overrides\":[],\"properties\":[{\"default\":0,\"kind\":null,\"name\":\"open_modal\"},{\"default\":0,\"kind\":null,\"name\":\"close_modal\"}]}],\"roots\":{\"references\":[{\"attributes\":{},\"id\":\"7501\",\"type\":\"LinearScale\"},{\"attributes\":{\"fill_color\":{\"value\":\"#30a2da\"},\"hatch_color\":{\"value\":\"#30a2da\"},\"line_color\":{\"value\":\"#30a2da\"},\"size\":{\"value\":5.477225575051661},\"tags\":[\"apply_ranges\"],\"x\":{\"field\":\"feature_0\"},\"y\":{\"field\":\"feature_1\"}},\"id\":\"7533\",\"type\":\"Scatter\"},{\"attributes\":{\"angle\":{\"value\":0.0},\"fill_alpha\":{\"value\":1.0},\"fill_color\":{\"value\":\"#fc4f30\"},\"hatch_alpha\":{\"value\":1.0},\"hatch_color\":{\"value\":\"#fc4f30\"},\"hatch_scale\":{\"value\":12.0},\"hatch_weight\":{\"value\":1.0},\"line_alpha\":{\"value\":1.0},\"line_cap\":{\"value\":\"butt\"},\"line_color\":{\"value\":\"#fc4f30\"},\"line_dash\":{\"value\":[]},\"line_dash_offset\":{\"value\":0},\"line_join\":{\"value\":\"bevel\"},\"line_width\":{\"value\":1},\"marker\":{\"value\":\"circle\"},\"size\":{\"value\":5.477225575051661},\"tags\":[\"apply_ranges\"],\"x\":{\"field\":\"feature_0\"},\"y\":{\"field\":\"feature_1\"}},\"id\":\"7572\",\"type\":\"Scatter\"},{\"attributes\":{\"label\":{\"value\":\"2\"},\"renderers\":[{\"id\":\"7579\"}]},\"id\":\"7595\",\"type\":\"LegendItem\"},{\"attributes\":{\"axis_label\":\"feature_1\",\"coordinates\":null,\"formatter\":{\"id\":\"7528\"},\"group\":null,\"major_label_policy\":{\"id\":\"7529\"},\"ticker\":{\"id\":\"7508\"}},\"id\":\"7507\",\"type\":\"LinearAxis\"},{\"attributes\":{\"fill_color\":{\"value\":\"#fc4f30\"},\"hatch_color\":{\"value\":\"#fc4f30\"},\"line_color\":{\"value\":\"#fc4f30\"},\"size\":{\"value\":5.477225575051661},\"tags\":[\"apply_ranges\"],\"x\":{\"field\":\"feature_0\"},\"y\":{\"field\":\"feature_1\"}},\"id\":\"7554\",\"type\":\"Scatter\"},{\"attributes\":{\"callback\":null,\"renderers\":[{\"id\":\"7536\"},{\"id\":\"7557\"},{\"id\":\"7579\"}],\"tags\":[\"hv_created\"],\"tooltips\":[[\"class\",\"@{class}\"],[\"feature_0\",\"@{feature_0}\"],[\"feature_1\",\"@{feature_1}\"]]},\"id\":\"7491\",\"type\":\"HoverTool\"},{\"attributes\":{},\"id\":\"7545\",\"type\":\"UnionRenderers\"},{\"attributes\":{\"axis_label\":\"feature_0\",\"coordinates\":null,\"formatter\":{\"id\":\"7525\"},\"group\":null,\"major_label_policy\":{\"id\":\"7526\"},\"ticker\":{\"id\":\"7504\"}},\"id\":\"7503\",\"type\":\"LinearAxis\"},{\"attributes\":{\"source\":{\"id\":\"7551\"}},\"id\":\"7558\",\"type\":\"CDSView\"},{\"attributes\":{},\"id\":\"7592\",\"type\":\"UnionRenderers\"},{\"attributes\":{\"bottom_units\":\"screen\",\"coordinates\":null,\"fill_alpha\":0.5,\"fill_color\":\"lightgrey\",\"group\":null,\"left_units\":\"screen\",\"level\":\"overlay\",\"line_alpha\":1.0,\"line_color\":\"black\",\"line_dash\":[4,4],\"line_width\":2,\"right_units\":\"screen\",\"syncable\":false,\"top_units\":\"screen\"},\"id\":\"7516\",\"type\":\"BoxAnnotation\"},{\"attributes\":{\"active_drag\":{\"id\":\"7512\"},\"active_scroll\":{\"id\":\"7513\"},\"tools\":[{\"id\":\"7491\"},{\"id\":\"7511\"},{\"id\":\"7512\"},{\"id\":\"7513\"},{\"id\":\"7514\"},{\"id\":\"7515\"}]},\"id\":\"7517\",\"type\":\"Toolbar\"},{\"attributes\":{\"angle\":{\"value\":0.0},\"fill_alpha\":{\"value\":1.0},\"fill_color\":{\"value\":\"#30a2da\"},\"hatch_alpha\":{\"value\":1.0},\"hatch_color\":{\"value\":\"#30a2da\"},\"hatch_scale\":{\"value\":12.0},\"hatch_weight\":{\"value\":1.0},\"line_alpha\":{\"value\":1.0},\"line_cap\":{\"value\":\"butt\"},\"line_color\":{\"value\":\"#30a2da\"},\"line_dash\":{\"value\":[]},\"line_dash_offset\":{\"value\":0},\"line_join\":{\"value\":\"bevel\"},\"line_width\":{\"value\":1},\"marker\":{\"value\":\"circle\"},\"size\":{\"value\":5.477225575051661},\"tags\":[\"apply_ranges\"],\"x\":{\"field\":\"feature_0\"},\"y\":{\"field\":\"feature_1\"}},\"id\":\"7550\",\"type\":\"Scatter\"},{\"attributes\":{},\"id\":\"7568\",\"type\":\"UnionRenderers\"},{\"attributes\":{\"axis\":{\"id\":\"7507\"},\"coordinates\":null,\"dimension\":1,\"grid_line_color\":null,\"group\":null,\"ticker\":null},\"id\":\"7510\",\"type\":\"Grid\"},{\"attributes\":{\"label\":{\"value\":\"1\"},\"renderers\":[{\"id\":\"7557\"}]},\"id\":\"7571\",\"type\":\"LegendItem\"},{\"attributes\":{\"angle\":{\"value\":0.0},\"fill_alpha\":{\"value\":1.0},\"fill_color\":{\"value\":\"#e5ae38\"},\"hatch_alpha\":{\"value\":1.0},\"hatch_color\":{\"value\":\"#e5ae38\"},\"hatch_scale\":{\"value\":12.0},\"hatch_weight\":{\"value\":1.0},\"line_alpha\":{\"value\":1.0},\"line_cap\":{\"value\":\"butt\"},\"line_color\":{\"value\":\"#e5ae38\"},\"line_dash\":{\"value\":[]},\"line_dash_offset\":{\"value\":0},\"line_join\":{\"value\":\"bevel\"},\"line_width\":{\"value\":1},\"marker\":{\"value\":\"circle\"},\"size\":{\"value\":5.477225575051661},\"tags\":[\"apply_ranges\"],\"x\":{\"field\":\"feature_0\"},\"y\":{\"field\":\"feature_1\"}},\"id\":\"7596\",\"type\":\"Scatter\"},{\"attributes\":{\"fill_alpha\":{\"value\":0.2},\"fill_color\":{\"value\":\"#e5ae38\"},\"hatch_alpha\":{\"value\":0.2},\"hatch_color\":{\"value\":\"#e5ae38\"},\"line_alpha\":{\"value\":0.2},\"line_color\":{\"value\":\"#e5ae38\"},\"size\":{\"value\":5.477225575051661},\"tags\":[\"apply_ranges\"],\"x\":{\"field\":\"feature_0\"},\"y\":{\"field\":\"feature_1\"}},\"id\":\"7578\",\"type\":\"Scatter\"},{\"attributes\":{},\"id\":\"7529\",\"type\":\"AllLabels\"},{\"attributes\":{},\"id\":\"7526\",\"type\":\"AllLabels\"},{\"attributes\":{},\"id\":\"7552\",\"type\":\"Selection\"},{\"attributes\":{\"data\":{\"class\":[0,0,0,0,0,0,0,0,0,0,0,0,0,0,0,0,0,0,0,0,0,0,0,0,0,0,0,0,0,0,0,0,0,0,0,0,0,0,0,0,0,0,0,0,0,0,0,0,0,0,0,0,0,0,0,0,0,0,0,0,0,0,0,0,0,0,0,0,0,0,0,0,0,0,0,0,0,0,0,0,0,0,0,0,0,0,0,0,0,0,0,0,0,0,0,0,0,0,0,0,0,0,0,0,0,0,0,0,0],\"feature_0\":{\"__ndarray__\":\"EGzi6Ki97r9EcIC6nDXev84hlA9oOOq/RInNiJDs0L/pxyLSuTXOv2LDGpQBXeK/npKk//L46r8QiNpyuobiv6VUsAkspey/0Crk0GVG67/8tHws8WTbv8W3UqF9ROu/NRtow4Ja3b/lQK1bLTXPv8DeMCg1Aum/sX1S+Gcv4L9gR0VA69DqvyU9G6kvY+m/5W/TkpTf8L8RDB2wpmrvv1IIFVc/CPC/swx5scfO57+BAW5N72Lkv/eQrwfkINS/eGvBXYc/778EfH2FGwXvvzTtarrcb+y/t1ToPAAd6r/EAjIaATnwv3u5l4AuaeC/2g2ZrKet8L8E5tr2kF/mv6qu2L51E+G/+2KcnR7V3b+qF+HKPWbsv8pcFYqFKO6/2+5ZzWrH8L9snBZ9d9rQv4OgrDMsYOe/0Uw7AxTA7r8Kw5Mm2L7ov8viRryso+K/3ghwjKUO5L/JJHOF1hLyv4qzG0qmotW/aTa+4j5p4L/JTztO61nev9uAkMH2d/G/FDGdmrYJ6b+dGHW8Hufmv4qUy4NhPNO/y5bvsJDB3b9Xle+lF7/jv0SaWsQpr+6/FtODJ3y17r+jUNPA65Puv2BiOiVXENa/Jg6sBRa52798eCLtvlfsv0EM4buv3uK/ePt3Y+Bl678FLH05oE/vv2MDFkxjmuK/tveGawq07L8dwSE1URXwv/pKQ7uFJ+m/uN/iW5cU5L9QyVEAEujsv4kl7O1ggey/cJpFdNq67r/hq7V3MZfvv8GgM1kcN+i/Es9Zp/RL379PTMIhX2/hv8ytbnwbt+i/yUZeD9WJ6L+XZRL2kHvkv8KsS04SVPC/Ah56NV8u6b9CF+LUBWnKv6ksIEPCj8q/G6I4nTIE6r8mF+x3BpXXvzSNBC0jZO2/76W/RFr17r8AIUd8ujfsv3VEhCCCmNK/Osgwvr4K5r9K7X99TmTQv+klcB547uW/wghoDINh7796Zy4/FFXvv9RWhHELKNW/8/aF+9zPyL/1T8+nfhXhv1bchqzXcdq/jAN/An4h6L/5yyPRzAzUv4LqNby15O6/VIu6A+Q86L9rgCYIt4Xtv/4bEUQZr+y/3f8Bo9Py8L/keCHCyCLrv//pR2WWBNy/3PkT0UUl5L98xbOUn9jvv/zgN5I9uuq/QU1+o55g778=\",\"dtype\":\"float64\",\"order\":\"little\",\"shape\":[109]},\"feature_1\":{\"__ndarray__\":\"x/6Qr5Quur9ZI7UL6SDrP/GIDlkfOuE/Fv26IVIJ7j+T0A0qmy/vP7oXOK371Og/VfIcauU25T/gmRK19PHnP1VmSpmowsc/8oRDhZe62T+3KcIDvhDsP/cIVbLei+A/Jv6mMcYo7j9Gx0LiCPLuP1xgOAHi0+k/TiZkKb7M6j/XRZOVhLfSP7AncHevwOM/+uA1Pcim1z+zFDVR83WyPzyp1Uh06Yq/bj9CVVhd3z/yf1Jsb8HoP+CV/Rprq+o/5EpF9Ljg1z8MP8aMDyLJP2GccIYJTuE/xRbTj9O64j8oVt8nsOWev4Ta5ctMUOs/UNM2RA1etz9nSyfsAJjmPxaXkHnUJuk/XF+kYypb6z+hToVzwVDQP9KiUkk8pNQ//i+UcUt4xj8e7kFj6NrvP2Tg5/OYGeY/iq35VcmHxj/b9glEsMzgP2szYTRoR+o/OpDCPy3E5z//TDZ23Y2jP2mr6zpSFe8/5hNzUjfL7j/y188MssvoP7DOnVmpkHq/9ChJbJ+J3z+wNrVB4hPoPxeoVIQvUPA/9UnCCX3e6j++bmG1fy/sPzEgu6VSicg/jvKRaYf+wz+M5dyGAjDQP8Yz2d4xEOw/rBEIQ3s47j+eHIjr+TvfP/veJwQXXug/W+BBHH951z8tOHsrKrXQPyEkYXr4n+k/6Oa24azH1j8poHE2G0ypPwEI2H2lS+I/CMbkOS0K5z9eM6ESsKfgP4ISJJFOSNk/ACveXx3+0z9Msi5TMr7cP+tWNOSw+eg/YqtgKE3T6j+7er7yO2fpP9hnKzD8weI/Gc8PefTc4j9+l5kjSvPpP/XSomG1R9Y/bX+bWxra5T8Hu9jM0mnuP09VftMPke0//DSPpVEy4T8XAmiTxYTtP08tFjPHXNo/CK/9zbjgwT9arAAW3b7kP+25wbZdKe0/HGZ5DO3U6z8JydP8SgDwPyTHAtI8fec/TFZgXkAkpz99njlGBTC7P1prr6rmO+8/m0IzSU9i7z/sR44tWaTqP478Eglyo+0/7VOcdQZq5T9Y3nUls5TsP+0Dgn0U99I/rvdu1All4z8rylchne3ZP7LC5ZAqa90/lWtQ4FRuxz/gKTuB4PnaP8Ahdhosiu8/QLk/LWfY5j+fWYhkNknHPxme6NuId+I/eNPulGrnyD8=\",\"dtype\":\"float64\",\"order\":\"little\",\"shape\":[109]}},\"selected\":{\"id\":\"7531\"},\"selection_policy\":{\"id\":\"7545\"}},\"id\":\"7530\",\"type\":\"ColumnDataSource\"},{\"attributes\":{\"fill_alpha\":{\"value\":0.1},\"fill_color\":{\"value\":\"#fc4f30\"},\"hatch_alpha\":{\"value\":0.1},\"hatch_color\":{\"value\":\"#fc4f30\"},\"line_alpha\":{\"value\":0.1},\"line_color\":{\"value\":\"#fc4f30\"},\"size\":{\"value\":5.477225575051661},\"tags\":[\"apply_ranges\"],\"x\":{\"field\":\"feature_0\"},\"y\":{\"field\":\"feature_1\"}},\"id\":\"7555\",\"type\":\"Scatter\"},{\"attributes\":{\"data\":{\"class\":[2,2,2,2,2,2,2,2,2,2,2,2,2,2,2,2,2,2,2,2,2,2,2,2,2,2,2,2,2,2,2,2,2,2,2,2,2,2,2,2,2,2,2,2,2,2,2,2,2,2,2,2,2,2,2,2,2,2,2,2,2,2,2,2,2,2,2,2,2,2,2,2,2,2,2,2,2,2,2,2,2,2,2,2,2,2,2,2,2,2,2,2,2,2,2,2,2,2,2,2,2,2,2,2,2,2,2,2,2,2,2,2,2,2,2,2,2,2,2,2,2,2,2,2,2,2,2,2,2,2,2,2,2,2,2,2,2,2,2,2,2,2,2,2,2,2,2,2,2,2,2,2,2,2,2,2,2,2,2,2,2,2,2,2,2,2,2,2,2,2,2,2,2,2,2,2,2,2,2,2,2,2,2,2,2,2,2,2,2,2,2,2,2,2,2,2,2,2,2,2,2,2,2,2,2,2,2,2,2,2,2,2,2,2,2,2,2,2,2,2,2,2,2,2,2,2,2,2,2,2,2,2,2,2,2,2,2,2,2,2,2,2,2,2,2,2,2,2,2,2,2,2,2,2,2,2,2,2,2,2,2,2,2,2,2,2,2,2,2,2,2,2,2,2,2,2,2,2,2,2],\"feature_0\":{\"__ndarray__\":\"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\",\"dtype\":\"float64\",\"order\":\"little\",\"shape\":[280]},\"feature_1\":{\"__ndarray__\":\"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\",\"dtype\":\"float64\",\"order\":\"little\",\"shape\":[280]}},\"selected\":{\"id\":\"7574\"},\"selection_policy\":{\"id\":\"7592\"}},\"id\":\"7573\",\"type\":\"ColumnDataSource\"},{\"attributes\":{},\"id\":\"7531\",\"type\":\"Selection\"},{\"attributes\":{\"end\":1.3132585541817483,\"reset_end\":1.3132585541817483,\"reset_start\":-0.7391261487509769,\"start\":-0.7391261487509769,\"tags\":[[[\"feature_1\",\"feature_1\",null]]]},\"id\":\"7490\",\"type\":\"Range1d\"},{\"attributes\":{\"coordinates\":null,\"data_source\":{\"id\":\"7573\"},\"glyph\":{\"id\":\"7576\"},\"group\":null,\"hover_glyph\":null,\"muted_glyph\":{\"id\":\"7578\"},\"nonselection_glyph\":{\"id\":\"7577\"},\"selection_glyph\":{\"id\":\"7596\"},\"view\":{\"id\":\"7580\"}},\"id\":\"7579\",\"type\":\"GlyphRenderer\"},{\"attributes\":{\"fill_alpha\":{\"value\":0.2},\"fill_color\":{\"value\":\"#fc4f30\"},\"hatch_alpha\":{\"value\":0.2},\"hatch_color\":{\"value\":\"#fc4f30\"},\"line_alpha\":{\"value\":0.2},\"line_color\":{\"value\":\"#fc4f30\"},\"size\":{\"value\":5.477225575051661},\"tags\":[\"apply_ranges\"],\"x\":{\"field\":\"feature_0\"},\"y\":{\"field\":\"feature_1\"}},\"id\":\"7556\",\"type\":\"Scatter\"},{\"attributes\":{\"coordinates\":null,\"data_source\":{\"id\":\"7551\"},\"glyph\":{\"id\":\"7554\"},\"group\":null,\"hover_glyph\":null,\"muted_glyph\":{\"id\":\"7556\"},\"nonselection_glyph\":{\"id\":\"7555\"},\"selection_glyph\":{\"id\":\"7572\"},\"view\":{\"id\":\"7558\"}},\"id\":\"7557\",\"type\":\"GlyphRenderer\"},{\"attributes\":{\"fill_alpha\":{\"value\":0.2},\"fill_color\":{\"value\":\"#30a2da\"},\"hatch_alpha\":{\"value\":0.2},\"hatch_color\":{\"value\":\"#30a2da\"},\"line_alpha\":{\"value\":0.2},\"line_color\":{\"value\":\"#30a2da\"},\"size\":{\"value\":5.477225575051661},\"tags\":[\"apply_ranges\"],\"x\":{\"field\":\"feature_0\"},\"y\":{\"field\":\"feature_1\"}},\"id\":\"7535\",\"type\":\"Scatter\"},{\"attributes\":{\"fill_color\":{\"value\":\"#e5ae38\"},\"hatch_color\":{\"value\":\"#e5ae38\"},\"line_color\":{\"value\":\"#e5ae38\"},\"size\":{\"value\":5.477225575051661},\"tags\":[\"apply_ranges\"],\"x\":{\"field\":\"feature_0\"},\"y\":{\"field\":\"feature_1\"}},\"id\":\"7576\",\"type\":\"Scatter\"},{\"attributes\":{},\"id\":\"7525\",\"type\":\"BasicTickFormatter\"},{\"attributes\":{\"coordinates\":null,\"data_source\":{\"id\":\"7530\"},\"glyph\":{\"id\":\"7533\"},\"group\":null,\"hover_glyph\":null,\"muted_glyph\":{\"id\":\"7535\"},\"nonselection_glyph\":{\"id\":\"7534\"},\"selection_glyph\":{\"id\":\"7550\"},\"view\":{\"id\":\"7537\"}},\"id\":\"7536\",\"type\":\"GlyphRenderer\"},{\"attributes\":{\"end\":2.2271793146736347,\"reset_end\":2.2271793146736347,\"reset_start\":-1.267548913159999,\"start\":-1.267548913159999,\"tags\":[[[\"feature_0\",\"feature_0\",null]]]},\"id\":\"7489\",\"type\":\"Range1d\"},{\"attributes\":{\"fill_alpha\":{\"value\":0.1},\"fill_color\":{\"value\":\"#e5ae38\"},\"hatch_alpha\":{\"value\":0.1},\"hatch_color\":{\"value\":\"#e5ae38\"},\"line_alpha\":{\"value\":0.1},\"line_color\":{\"value\":\"#e5ae38\"},\"size\":{\"value\":5.477225575051661},\"tags\":[\"apply_ranges\"],\"x\":{\"field\":\"feature_0\"},\"y\":{\"field\":\"feature_1\"}},\"id\":\"7577\",\"type\":\"Scatter\"},{\"attributes\":{\"fill_alpha\":{\"value\":0.1},\"fill_color\":{\"value\":\"#30a2da\"},\"hatch_alpha\":{\"value\":0.1},\"hatch_color\":{\"value\":\"#30a2da\"},\"line_alpha\":{\"value\":0.1},\"line_color\":{\"value\":\"#30a2da\"},\"size\":{\"value\":5.477225575051661},\"tags\":[\"apply_ranges\"],\"x\":{\"field\":\"feature_0\"},\"y\":{\"field\":\"feature_1\"}},\"id\":\"7534\",\"type\":\"Scatter\"},{\"attributes\":{},\"id\":\"7511\",\"type\":\"SaveTool\"},{\"attributes\":{},\"id\":\"7512\",\"type\":\"PanTool\"},{\"attributes\":{},\"id\":\"7508\",\"type\":\"BasicTicker\"},{\"attributes\":{\"children\":[{\"id\":\"7494\"}],\"height\":300,\"margin\":[0,0,0,0],\"name\":\"Row07199\",\"sizing_mode\":\"fixed\",\"tags\":[\"embedded\"],\"width\":700},\"id\":\"7488\",\"type\":\"Row\"},{\"attributes\":{},\"id\":\"7515\",\"type\":\"ResetTool\"},{\"attributes\":{\"below\":[{\"id\":\"7503\"}],\"center\":[{\"id\":\"7506\"},{\"id\":\"7510\"}],\"height\":300,\"left\":[{\"id\":\"7507\"}],\"margin\":[5,5,5,5],\"min_border_bottom\":10,\"min_border_left\":10,\"min_border_right\":10,\"min_border_top\":10,\"output_backend\":\"webgl\",\"renderers\":[{\"id\":\"7536\"},{\"id\":\"7557\"},{\"id\":\"7579\"}],\"right\":[{\"id\":\"7548\"}],\"sizing_mode\":\"fixed\",\"title\":{\"id\":\"7495\"},\"toolbar\":{\"id\":\"7517\"},\"width\":700,\"x_range\":{\"id\":\"7489\"},\"x_scale\":{\"id\":\"7499\"},\"y_range\":{\"id\":\"7490\"},\"y_scale\":{\"id\":\"7501\"}},\"id\":\"7494\",\"subtype\":\"Figure\",\"type\":\"Plot\"},{\"attributes\":{\"source\":{\"id\":\"7573\"}},\"id\":\"7580\",\"type\":\"CDSView\"},{\"attributes\":{},\"id\":\"7513\",\"type\":\"WheelZoomTool\"},{\"attributes\":{\"click_policy\":\"mute\",\"coordinates\":null,\"group\":null,\"items\":[{\"id\":\"7549\"},{\"id\":\"7571\"},{\"id\":\"7595\"}],\"location\":[0,0],\"title\":\"class\"},\"id\":\"7548\",\"type\":\"Legend\"},{\"attributes\":{\"overlay\":{\"id\":\"7516\"}},\"id\":\"7514\",\"type\":\"BoxZoomTool\"},{\"attributes\":{\"source\":{\"id\":\"7530\"}},\"id\":\"7537\",\"type\":\"CDSView\"},{\"attributes\":{},\"id\":\"7528\",\"type\":\"BasicTickFormatter\"},{\"attributes\":{},\"id\":\"7504\",\"type\":\"BasicTicker\"},{\"attributes\":{\"axis\":{\"id\":\"7503\"},\"coordinates\":null,\"grid_line_color\":null,\"group\":null,\"ticker\":null},\"id\":\"7506\",\"type\":\"Grid\"},{\"attributes\":{},\"id\":\"7499\",\"type\":\"LinearScale\"},{\"attributes\":{\"data\":{\"class\":[1,1,1,1,1,1,1,1,1,1,1,1,1,1,1,1,1,1,1,1,1,1,1,1,1,1,1,1,1,1,1,1,1,1,1,1,1,1,1,1,1,1,1,1,1,1,1,1,1,1,1,1,1,1,1,1,1,1,1,1,1,1,1,1,1,1,1,1,1,1,1,1,1,1,1,1,1,1,1,1,1,1,1,1,1,1,1,1,1,1,1,1,1,1,1,1,1,1,1,1,1,1,1,1,1,1,1,1,1,1,1],\"feature_0\":{\"__ndarray__\":\"lihJ4DoHAECZseQ/cs7/P7I1R0wCEvs/nf6/cV3y/z81YwWd7tX7P5pyayaEPvU/qlxgJycV+z84pQJPOwX+PxewJuP/aPg/J0XvYxWG9j+Ri2yCJCr4P+zBSEV6Yf0/dpq7X2Li/j8rumpXf0P/P0v7naQNRfo/GZkI7OyS9j8Z/rt/2wX8P4J/yibc2f8/7htL71u0/z9Lww/glZv/P/oJzCXqTP8/M62WH4jH+T+uGkMYNKb4PxUlJLzccvs/QJbKY9+j/j9oMJRVYozzP9qqHaIepfc/7nIIe7eH/z8Ypzx3jC77P4jWhl4NZfk/hSBi1ogy/j9c2Cy6pxUAQJ/fK4uqPf8/BLS7hKdi/D+fdgzw7fb8PxK5dBAt+v0/egy4V3CI+j/wzGO1otD+PzYlEm77ZPg/neJ9z4mT8z8sidEkrp4AQGdD7IAFH/Y/fSE17peH/T9Pcrq+4Vj+PxxTLUY6pfc/NqtQY81X9D+F4Sk8Bbj5P8qdHTEprvQ/9EO24qyH/z/j1sPIMEj6P9DT9UV8Ivk/iVfRiW7m+j9xEXVea3n+Pxjo99z+Rvw/H/9ZP3YeAEB8+npZq7z5P+taUygUwP4/JFpNtI65/D/Eo1M58x//Pz7Ek1wypvo/bWDixUxR9z9Ipl5Ep0X3P87peRK0wf8/XkICpYrQ9D/MgAHhiSz/PyWP7/a9tgBAYMSz1Vvz/j8dghV8KMj7P0jpTMRRR/g/FAxtdW3+8z/SjYl/XzMAQHSMbIaqlP8/FHxiz57x9j+BrDXdm8P9P5GWNlU5NvY/P59IQR9CAED6dXxgzD38PwP+11a63vo/Jeu1XHzY/j/DNKQZ86D+P0YRtgXtbwBA1Ms2Hxjo+j+DpcZ7TAj3PwNNL0Bn+fU/xAo9xQEBAEDTpmHTTHj7P3Ib53+LX/8/YBTarT9g+z+e9IfEdBX8P27EeMI94Pw/0NNrwiNuAEA/GKLWMjr4P8aGAOe3Wvs/Z3ZtS5e1/z/uZGfIK93zPx5lBpSyI/8/fCdEW1Zc8z/s757gB/XyP+8u0PPmAgBAPL+CYzZk+T97yalF+Xb+P7Fovz5pSf8/bk5s0Cgq9D+OjKsaJ1D3P6VVdeWyVvQ/9VEswxxg/z+v8Vmzmw71P26KgWix7P0/3FsJ/P61/D8YjNUNdkz0PxgKmIAecvQ/\",\"dtype\":\"float64\",\"order\":\"little\",\"shape\":[111]},\"feature_1\":{\"__ndarray__\":\"GB6rWi7kyD/pO3iYWaLZP5TEyLYF7cW/nGmt8HlL1j9zy+gsZFjBvyaoVBg/Wdy/UrzHyVyvyr8OoIntFX6+P26d1MfPldG/WoiR5QkQ2b9xFZY6EibVv79LCK6z1Ly/BHAMOfdFwD/4x1rOXr7eP0/KfWDCn9i/bbw9R2ur1L9IuAVjq1i4v7hYhV1Q7Ns/AgAOex6P0j9967U7ddXKP54d1g+Y9Mw/geMafW2l079RtyMSDr/Zv8ERgE3BNtK/OqniKRWVzT/M6XB5hRbcv5wSrSW0Uta/ib4qMO611j84UP9RN+bKv2/0AyviydK/2pRFLelCwD/mWHW8ZTTgP/gHwKXHYr6/ri6LUSCtt7/CJcIPT+62v9fTpysXC7C/6y2TjOAg0r/cWltTsQy2P20NZ5aGdNW/bYLvjZCF3r/N5RCZVIXeP9vWkq7n0Nm/CNzH1dfip78Ql9iknTvCP/iuREDMYdi/PTK45lSt3r/mL4D+a7nWvyNXON8lT9m/9oTQAv8uyz/MkO8kJWHTvwNYsMmwFc2/mHWlj2BR0b+gBKzoL5O7vxqugdJdS72/W9ymm/RKxD/8TJZnjqfLv3bxn/NspcM/IGjH7uaZw79stTr7owzRPxAlyeSU38G/KhNu1jvx2785yXTpDpvav7bc+Ug4Z88/+C7uwTF32r+3fKXzTrS/PyxBNB1K790/wJkAYTIwwT/FaSWbc7fRv6H0KXw1pNi/QKgvsunG2L8gjV/Sii7QP0RzipabvtE/+Bk72C7t278CSZ2VwazBP5s3pLdWFuG/bW6KR+vC0z+EOWoFzBiiv32/w6h0bMq/GXBkZlxLwT9uRmmXoZKhP7yR6czJmto/YsMFT3b9zL/GAY3m78DYv5sxx7AYWt2/7q9/r67J1j/R6/p3gnjFv6HRA1iiUdk/TnGnarAEyb+/4/ih6RepP9qfQ/yR3a8/BiTQ/5fB0z/U18jL/fbTv9BknVhCfMm/ye/E5pCA2T/BrMROGXDgv2htZKyu6KQ/Yg9W4AbF379dqqg4R3Xhv8GUBHqeTNQ/7Jc45JpIy7+ASxqhXVhuvy2ggGhHkdo/bnAdBHxB4L/11gIwqHDav04RMg7OKdy/aB3EiLAbvT/1nleOCYzYv0DpLLFRrmI/oS2Vn/Efxb+CTfu/4LPXvxxmfje1R92/\",\"dtype\":\"float64\",\"order\":\"little\",\"shape\":[111]}},\"selected\":{\"id\":\"7552\"},\"selection_policy\":{\"id\":\"7568\"}},\"id\":\"7551\",\"type\":\"ColumnDataSource\"},{\"attributes\":{\"coordinates\":null,\"group\":null,\"text\":\"SpectralClustering\",\"text_color\":\"black\",\"text_font_size\":\"12pt\"},\"id\":\"7495\",\"type\":\"Title\"},{\"attributes\":{},\"id\":\"7574\",\"type\":\"Selection\"},{\"attributes\":{\"label\":{\"value\":\"0\"},\"renderers\":[{\"id\":\"7536\"}]},\"id\":\"7549\",\"type\":\"LegendItem\"}],\"root_ids\":[\"7488\"]},\"title\":\"Bokeh Application\",\"version\":\"2.4.3\"}};\n",
       "    var render_items = [{\"docid\":\"880b38f1-d170-4abb-ab76-fe29be73833c\",\"root_ids\":[\"7488\"],\"roots\":{\"7488\":\"74867015-be4f-4e76-b420-8801a2c9e93c\"}}];\n",
       "    root.Bokeh.embed.embed_items_notebook(docs_json, render_items);\n",
       "    for (const render_item of render_items) {\n",
       "      for (const root_id of render_item.root_ids) {\n",
       "\tconst id_el = document.getElementById(root_id)\n",
       "\tif (id_el.children.length && (id_el.children[0].className === 'bk-root')) {\n",
       "\t  const root_el = id_el.children[0]\n",
       "\t  root_el.id = root_el.id + '-rendered'\n",
       "\t}\n",
       "      }\n",
       "    }\n",
       "  }\n",
       "  if (root.Bokeh !== undefined && root.Bokeh.Panel !== undefined) {\n",
       "    embed_document(root);\n",
       "  } else {\n",
       "    var attempts = 0;\n",
       "    var timer = setInterval(function(root) {\n",
       "      if (root.Bokeh !== undefined && root.Bokeh.Panel !== undefined) {\n",
       "        clearInterval(timer);\n",
       "        embed_document(root);\n",
       "      } else if (document.readyState == \"complete\") {\n",
       "        attempts++;\n",
       "        if (attempts > 200) {\n",
       "          clearInterval(timer);\n",
       "          console.log(\"Bokeh: ERROR: Unable to run BokehJS code because BokehJS library is missing\");\n",
       "        }\n",
       "      }\n",
       "    }, 25, root)\n",
       "  }\n",
       "})(window);</script>"
      ],
      "text/plain": [
       ":NdOverlay   [class]\n",
       "   :Scatter   [feature_0]   (feature_1)"
      ]
     },
     "metadata": {
      "application/vnd.holoviews_exec.v0+json": {
       "id": "7488"
      }
     },
     "output_type": "display_data"
    },
    {
     "data": {
      "text/html": [
       "<div>\n",
       "<style scoped>\n",
       "    .dataframe tbody tr th:only-of-type {\n",
       "        vertical-align: middle;\n",
       "    }\n",
       "\n",
       "    .dataframe tbody tr th {\n",
       "        vertical-align: top;\n",
       "    }\n",
       "\n",
       "    .dataframe thead th {\n",
       "        text-align: right;\n",
       "    }\n",
       "</style>\n",
       "<table border=\"1\" class=\"dataframe\">\n",
       "  <thead>\n",
       "    <tr style=\"text-align: right;\">\n",
       "      <th></th>\n",
       "      <th>model</th>\n",
       "      <th>score</th>\n",
       "    </tr>\n",
       "  </thead>\n",
       "  <tbody>\n",
       "    <tr>\n",
       "      <th>2</th>\n",
       "      <td>AgglomerativeClustering</td>\n",
       "      <td>565.449240</td>\n",
       "    </tr>\n",
       "    <tr>\n",
       "      <th>3</th>\n",
       "      <td>SpectralClustering</td>\n",
       "      <td>573.450055</td>\n",
       "    </tr>\n",
       "    <tr>\n",
       "      <th>1</th>\n",
       "      <td>Birch</td>\n",
       "      <td>654.290457</td>\n",
       "    </tr>\n",
       "    <tr>\n",
       "      <th>0</th>\n",
       "      <td>KMeans</td>\n",
       "      <td>677.441052</td>\n",
       "    </tr>\n",
       "  </tbody>\n",
       "</table>\n",
       "</div>"
      ],
      "text/plain": [
       "                     model       score\n",
       "2  AgglomerativeClustering  565.449240\n",
       "3       SpectralClustering  573.450055\n",
       "1                    Birch  654.290457\n",
       "0                   KMeans  677.441052"
      ]
     },
     "execution_count": 130,
     "metadata": {},
     "output_type": "execute_result"
    }
   ],
   "source": [
    "### Added trick\n",
    "\n",
    "from sklearn import metrics\n",
    "from sklearn.cluster import SpectralClustering\n",
    "n_clusters = 3\n",
    "\n",
    "ml = {\n",
    "    \"KMeans\":KMeans(n_clusters=n_clusters, random_state=0),\n",
    "    \"Birch\":Birch(n_clusters=n_clusters),\n",
    "    \"AgglomerativeClustering\":AgglomerativeClustering(n_clusters=n_clusters),\n",
    "    \"SpectralClustering\":SpectralClustering(n_clusters=n_clusters),\n",
    "    # \"SpectralClustering\":SpectralClustering(n_clusters, affinity='precomputed', n_init=100, assign_labels='discretize')\n",
    "    # \"cluster_optics_dbscan\":cluster_optics_dbscan(n_clusters=n_clusters),\n",
    "}\n",
    "\n",
    "res = []\n",
    "for x in ml:\n",
    "    model = ml[x]\n",
    "    model.fit(X)\n",
    "    y_pred = model.fit_predict(X)\n",
    "\n",
    "    labels = model.labels_\n",
    "    score = metrics.calinski_harabasz_score(X, labels) \n",
    "    res.append({\n",
    "        \"model\":x,\n",
    "        \"score\": score\n",
    "    })\n",
    "    predictions_df[\"class\"] = y_pred\n",
    "    display(predictions_df.hvplot.scatter(\n",
    "        x=\"feature_0\",\n",
    "        y=\"feature_1\",\n",
    "        title=x,\n",
    "        by=\"class\"\n",
    "    ))\n",
    "    \n",
    "df_res = pd.DataFrame(res)\n",
    "df_res.sort_values(\"score\")"
   ]
  },
  {
   "cell_type": "markdown",
   "metadata": {},
   "source": [
    "# =========================================="
   ]
  },
  {
   "cell_type": "markdown",
   "metadata": {},
   "source": [
    "### 2.07 Students Do: Segmenting Customer Data (0:20) "
   ]
  },
  {
   "cell_type": "markdown",
   "metadata": {},
   "source": [
    "# Segmenting Customer Data\n",
    "In this activity, you will use BIRCH, agglomerative clustering, and the K-means model to segment a dataset on thousands of consumer credit card holders. Then, you’ll compare the results of the three different clustering methods.\n",
    "## Background\n",
    "One of the world's biggest banks launched a machine learning competition in [Kaggle](https://www.kaggle.com/), an online community of data scientists and machine learning practitioners. The bank wants to improve their marketing campaigns by identifying the optimal number of customer segments for their credit card clients, and are offering $5,000 in prize money to the winner. The cash prize has piqued your interest, so you have decided to put your hat in the ring and your unsupervised learning skills into practice!\n",
    "\n",
    "The bank provided a dataset that consists of customer data that includes 10 different features. The data columns were anonymized using generic names to protect customers' privacy, and data values were already normalized.\n",
    "## Instructions\n",
    "1. Load the raw data into a Pandas DataFrame.\n",
    "2. Use the elbow method to determine the optimal number of clusters.\n",
    "3. Segment the data with K-means using the optimal number of clusters.\n",
    "4. Cluster the data by using agglomerative clustering and BIRCH.\n",
    "    * Using the optimal number of clusters found in Step 2, estimate clusters by using both `AgglomerativeClustering` and `Birch`. Save each of these models and their results for comparison.\n",
    "5. Compare the cluster results from using K-means, agglomerative clustering, and BIRCH.  Make sure to do the following:\n",
    "    * Create a DataFrame that is a copy of the original `customers_df` data.\n",
    "    * Add all of the predicted labels (`kmeans_predictions`, `agglo_predictions`, and `birch_predictions`) as columns to this DataFrame.\n",
    "    * For each algorithm, plot the clusters by using the \"feature_1\" and \"feature_2\" columns.\n",
    "### Bonus\n",
    "Loop through each clustering algorithm using an alternative metric to determine the optimal number of clusters. To do so, follow these steps: \n",
    "1. Create three lists (or a dictionary or DataFrame) to contain the metrics to measure optimal clusters.\n",
    "2. Using a `for` loop, cycle through a list of cluster counts, fitting each of the three clustering algorithms.\n",
    "3. When fitting the clustering algorithms in the loop, estimate the [variance ratio criterion (Calinski-Harabasz index)`](https://scikit-learn.org/stable/modules/clustering.html#calinski-harabasz-index) and save that metric to your metrics lists in (1).\n",
    "    > **Hint:** Code samples for these and other metrics can be found in scikit-learn documentation on [clustering performance evaluation](https://scikit-learn.org/stable/modules/clustering.html#clustering-performance-evaluation).\n",
    "4. Output each of the three lists. If larger metric values indicate a better number of clusters, what cluster count is best? Does it vary by the algorithm selected?\n",
    "\n",
    "---"
   ]
  },
  {
   "cell_type": "code",
   "execution_count": 131,
   "metadata": {},
   "outputs": [],
   "source": [
    "# Import the modules\n",
    "import pandas as pd\n",
    "import hvplot.pandas\n",
    "from pathlib import Path"
   ]
  },
  {
   "cell_type": "markdown",
   "metadata": {},
   "source": [
    "## Part 1: Create a Pandas DataFrame"
   ]
  },
  {
   "cell_type": "code",
   "execution_count": 132,
   "metadata": {},
   "outputs": [
    {
     "data": {
      "text/html": [
       "<div>\n",
       "<style scoped>\n",
       "    .dataframe tbody tr th:only-of-type {\n",
       "        vertical-align: middle;\n",
       "    }\n",
       "\n",
       "    .dataframe tbody tr th {\n",
       "        vertical-align: top;\n",
       "    }\n",
       "\n",
       "    .dataframe thead th {\n",
       "        text-align: right;\n",
       "    }\n",
       "</style>\n",
       "<table border=\"1\" class=\"dataframe\">\n",
       "  <thead>\n",
       "    <tr style=\"text-align: right;\">\n",
       "      <th></th>\n",
       "      <th>feature_1</th>\n",
       "      <th>feature_2</th>\n",
       "      <th>feature_3</th>\n",
       "      <th>feature_4</th>\n",
       "      <th>feature_5</th>\n",
       "      <th>feature_6</th>\n",
       "      <th>feature_7</th>\n",
       "      <th>feature_8</th>\n",
       "      <th>feature_9</th>\n",
       "      <th>feature_10</th>\n",
       "    </tr>\n",
       "  </thead>\n",
       "  <tbody>\n",
       "    <tr>\n",
       "      <th>0</th>\n",
       "      <td>1.148534</td>\n",
       "      <td>4.606077</td>\n",
       "      <td>2.699069</td>\n",
       "      <td>-2.661824</td>\n",
       "      <td>1.526433</td>\n",
       "      <td>1.236671</td>\n",
       "      <td>0.211421</td>\n",
       "      <td>1.482896</td>\n",
       "      <td>-4.445627</td>\n",
       "      <td>-1.936831</td>\n",
       "    </tr>\n",
       "    <tr>\n",
       "      <th>1</th>\n",
       "      <td>-1.149410</td>\n",
       "      <td>-1.650549</td>\n",
       "      <td>2.530167</td>\n",
       "      <td>-3.227088</td>\n",
       "      <td>0.572138</td>\n",
       "      <td>4.162600</td>\n",
       "      <td>-0.291679</td>\n",
       "      <td>-1.237575</td>\n",
       "      <td>3.604765</td>\n",
       "      <td>-1.635689</td>\n",
       "    </tr>\n",
       "    <tr>\n",
       "      <th>2</th>\n",
       "      <td>0.332427</td>\n",
       "      <td>-0.887985</td>\n",
       "      <td>-0.309216</td>\n",
       "      <td>0.399891</td>\n",
       "      <td>0.828492</td>\n",
       "      <td>3.641945</td>\n",
       "      <td>-0.916946</td>\n",
       "      <td>-1.978024</td>\n",
       "      <td>1.056772</td>\n",
       "      <td>-1.882747</td>\n",
       "    </tr>\n",
       "    <tr>\n",
       "      <th>3</th>\n",
       "      <td>2.245599</td>\n",
       "      <td>3.826309</td>\n",
       "      <td>0.264039</td>\n",
       "      <td>0.095471</td>\n",
       "      <td>1.984380</td>\n",
       "      <td>0.373991</td>\n",
       "      <td>-0.280279</td>\n",
       "      <td>1.602786</td>\n",
       "      <td>-5.993331</td>\n",
       "      <td>-2.258925</td>\n",
       "    </tr>\n",
       "    <tr>\n",
       "      <th>4</th>\n",
       "      <td>0.705503</td>\n",
       "      <td>-1.312329</td>\n",
       "      <td>0.895406</td>\n",
       "      <td>-0.405408</td>\n",
       "      <td>1.116187</td>\n",
       "      <td>3.699562</td>\n",
       "      <td>-1.427985</td>\n",
       "      <td>-1.494409</td>\n",
       "      <td>1.156908</td>\n",
       "      <td>-1.434964</td>\n",
       "    </tr>\n",
       "  </tbody>\n",
       "</table>\n",
       "</div>"
      ],
      "text/plain": [
       "   feature_1  feature_2  feature_3  feature_4  feature_5  feature_6  \\\n",
       "0   1.148534   4.606077   2.699069  -2.661824   1.526433   1.236671   \n",
       "1  -1.149410  -1.650549   2.530167  -3.227088   0.572138   4.162600   \n",
       "2   0.332427  -0.887985  -0.309216   0.399891   0.828492   3.641945   \n",
       "3   2.245599   3.826309   0.264039   0.095471   1.984380   0.373991   \n",
       "4   0.705503  -1.312329   0.895406  -0.405408   1.116187   3.699562   \n",
       "\n",
       "   feature_7  feature_8  feature_9  feature_10  \n",
       "0   0.211421   1.482896  -4.445627   -1.936831  \n",
       "1  -0.291679  -1.237575   3.604765   -1.635689  \n",
       "2  -0.916946  -1.978024   1.056772   -1.882747  \n",
       "3  -0.280279   1.602786  -5.993331   -2.258925  \n",
       "4  -1.427985  -1.494409   1.156908   -1.434964  "
      ]
     },
     "execution_count": 132,
     "metadata": {},
     "output_type": "execute_result"
    }
   ],
   "source": [
    "# Set the file path\n",
    "file_path = Path(\"07-Stu_Segmenting_Customers/Resources/customers.csv\")\n",
    "\n",
    "# Read the csv file into a pandas DataFrame\n",
    "customers_df = pd.read_csv(file_path)\n",
    "\n",
    "# Review the DataFrame\n",
    "customers_df.head()"
   ]
  },
  {
   "cell_type": "code",
   "execution_count": 133,
   "metadata": {},
   "outputs": [
    {
     "name": "stdout",
     "output_type": "stream",
     "text": [
      "<class 'pandas.core.frame.DataFrame'>\n",
      "RangeIndex: 1000 entries, 0 to 999\n",
      "Data columns (total 10 columns):\n",
      " #   Column      Non-Null Count  Dtype  \n",
      "---  ------      --------------  -----  \n",
      " 0   feature_1   1000 non-null   float64\n",
      " 1   feature_2   1000 non-null   float64\n",
      " 2   feature_3   1000 non-null   float64\n",
      " 3   feature_4   1000 non-null   float64\n",
      " 4   feature_5   1000 non-null   float64\n",
      " 5   feature_6   1000 non-null   float64\n",
      " 6   feature_7   1000 non-null   float64\n",
      " 7   feature_8   1000 non-null   float64\n",
      " 8   feature_9   1000 non-null   float64\n",
      " 9   feature_10  1000 non-null   float64\n",
      "dtypes: float64(10)\n",
      "memory usage: 78.2 KB\n"
     ]
    }
   ],
   "source": [
    "# Use the \"info()\" Pandas function to validate data types and null values\n",
    "customers_df.info()"
   ]
  },
  {
   "cell_type": "code",
   "execution_count": 134,
   "metadata": {},
   "outputs": [
    {
     "data": {
      "text/html": [
       "<div>\n",
       "<style scoped>\n",
       "    .dataframe tbody tr th:only-of-type {\n",
       "        vertical-align: middle;\n",
       "    }\n",
       "\n",
       "    .dataframe tbody tr th {\n",
       "        vertical-align: top;\n",
       "    }\n",
       "\n",
       "    .dataframe thead th {\n",
       "        text-align: right;\n",
       "    }\n",
       "</style>\n",
       "<table border=\"1\" class=\"dataframe\">\n",
       "  <thead>\n",
       "    <tr style=\"text-align: right;\">\n",
       "      <th></th>\n",
       "      <th>feature_1</th>\n",
       "      <th>feature_2</th>\n",
       "      <th>feature_3</th>\n",
       "      <th>feature_4</th>\n",
       "      <th>feature_5</th>\n",
       "      <th>feature_6</th>\n",
       "      <th>feature_7</th>\n",
       "      <th>feature_8</th>\n",
       "      <th>feature_9</th>\n",
       "      <th>feature_10</th>\n",
       "    </tr>\n",
       "  </thead>\n",
       "  <tbody>\n",
       "    <tr>\n",
       "      <th>count</th>\n",
       "      <td>1000.000000</td>\n",
       "      <td>1000.000000</td>\n",
       "      <td>1000.000000</td>\n",
       "      <td>1000.000000</td>\n",
       "      <td>1000.000000</td>\n",
       "      <td>1000.000000</td>\n",
       "      <td>1000.000000</td>\n",
       "      <td>1000.000000</td>\n",
       "      <td>1000.000000</td>\n",
       "      <td>1000.000000</td>\n",
       "    </tr>\n",
       "    <tr>\n",
       "      <th>mean</th>\n",
       "      <td>-0.022428</td>\n",
       "      <td>0.805748</td>\n",
       "      <td>1.942896</td>\n",
       "      <td>-2.364030</td>\n",
       "      <td>0.854980</td>\n",
       "      <td>1.232422</td>\n",
       "      <td>0.146269</td>\n",
       "      <td>0.833486</td>\n",
       "      <td>-0.534320</td>\n",
       "      <td>-1.219393</td>\n",
       "    </tr>\n",
       "    <tr>\n",
       "      <th>std</th>\n",
       "      <td>2.382021</td>\n",
       "      <td>2.335796</td>\n",
       "      <td>1.411307</td>\n",
       "      <td>1.716566</td>\n",
       "      <td>1.742986</td>\n",
       "      <td>3.250231</td>\n",
       "      <td>1.635576</td>\n",
       "      <td>2.039563</td>\n",
       "      <td>4.211831</td>\n",
       "      <td>1.979172</td>\n",
       "    </tr>\n",
       "    <tr>\n",
       "      <th>min</th>\n",
       "      <td>-6.259471</td>\n",
       "      <td>-4.649286</td>\n",
       "      <td>-2.894995</td>\n",
       "      <td>-8.735778</td>\n",
       "      <td>-4.641509</td>\n",
       "      <td>-9.111470</td>\n",
       "      <td>-4.260013</td>\n",
       "      <td>-4.911903</td>\n",
       "      <td>-9.522425</td>\n",
       "      <td>-6.083462</td>\n",
       "    </tr>\n",
       "    <tr>\n",
       "      <th>25%</th>\n",
       "      <td>-2.091657</td>\n",
       "      <td>-1.214774</td>\n",
       "      <td>1.026128</td>\n",
       "      <td>-3.438149</td>\n",
       "      <td>-0.235310</td>\n",
       "      <td>-0.333722</td>\n",
       "      <td>-0.967569</td>\n",
       "      <td>-0.894817</td>\n",
       "      <td>-4.129561</td>\n",
       "      <td>-2.505366</td>\n",
       "    </tr>\n",
       "    <tr>\n",
       "      <th>50%</th>\n",
       "      <td>0.161670</td>\n",
       "      <td>1.096439</td>\n",
       "      <td>1.905107</td>\n",
       "      <td>-2.437602</td>\n",
       "      <td>1.084556</td>\n",
       "      <td>1.367371</td>\n",
       "      <td>-0.222299</td>\n",
       "      <td>1.519069</td>\n",
       "      <td>-0.536849</td>\n",
       "      <td>-1.706372</td>\n",
       "    </tr>\n",
       "    <tr>\n",
       "      <th>75%</th>\n",
       "      <td>2.030005</td>\n",
       "      <td>2.513648</td>\n",
       "      <td>2.851613</td>\n",
       "      <td>-1.229730</td>\n",
       "      <td>2.287268</td>\n",
       "      <td>3.637304</td>\n",
       "      <td>1.061269</td>\n",
       "      <td>2.298862</td>\n",
       "      <td>2.626514</td>\n",
       "      <td>-0.553571</td>\n",
       "    </tr>\n",
       "    <tr>\n",
       "      <th>max</th>\n",
       "      <td>6.275723</td>\n",
       "      <td>7.955158</td>\n",
       "      <td>5.897102</td>\n",
       "      <td>4.296552</td>\n",
       "      <td>4.741350</td>\n",
       "      <td>8.705423</td>\n",
       "      <td>7.123969</td>\n",
       "      <td>5.789222</td>\n",
       "      <td>10.047819</td>\n",
       "      <td>5.413623</td>\n",
       "    </tr>\n",
       "  </tbody>\n",
       "</table>\n",
       "</div>"
      ],
      "text/plain": [
       "         feature_1    feature_2    feature_3    feature_4    feature_5  \\\n",
       "count  1000.000000  1000.000000  1000.000000  1000.000000  1000.000000   \n",
       "mean     -0.022428     0.805748     1.942896    -2.364030     0.854980   \n",
       "std       2.382021     2.335796     1.411307     1.716566     1.742986   \n",
       "min      -6.259471    -4.649286    -2.894995    -8.735778    -4.641509   \n",
       "25%      -2.091657    -1.214774     1.026128    -3.438149    -0.235310   \n",
       "50%       0.161670     1.096439     1.905107    -2.437602     1.084556   \n",
       "75%       2.030005     2.513648     2.851613    -1.229730     2.287268   \n",
       "max       6.275723     7.955158     5.897102     4.296552     4.741350   \n",
       "\n",
       "         feature_6    feature_7    feature_8    feature_9   feature_10  \n",
       "count  1000.000000  1000.000000  1000.000000  1000.000000  1000.000000  \n",
       "mean      1.232422     0.146269     0.833486    -0.534320    -1.219393  \n",
       "std       3.250231     1.635576     2.039563     4.211831     1.979172  \n",
       "min      -9.111470    -4.260013    -4.911903    -9.522425    -6.083462  \n",
       "25%      -0.333722    -0.967569    -0.894817    -4.129561    -2.505366  \n",
       "50%       1.367371    -0.222299     1.519069    -0.536849    -1.706372  \n",
       "75%       3.637304     1.061269     2.298862     2.626514    -0.553571  \n",
       "max       8.705423     7.123969     5.789222    10.047819     5.413623  "
      ]
     },
     "execution_count": 134,
     "metadata": {},
     "output_type": "execute_result"
    }
   ],
   "source": [
    "# Use the Pandas \"describe()\" function to compute summary statistics\n",
    "customers_df.describe()"
   ]
  },
  {
   "cell_type": "markdown",
   "metadata": {},
   "source": [
    "## Part 2. Use the Elbow Method to determine the optimal number of clusters for KMeans."
   ]
  },
  {
   "cell_type": "code",
   "execution_count": 135,
   "metadata": {},
   "outputs": [],
   "source": [
    "# Import the KMeans, Birch, and AgglomerativeClustering modules from SKLearn\n",
    "from sklearn.cluster import KMeans, AgglomerativeClustering, Birch"
   ]
  },
  {
   "cell_type": "code",
   "execution_count": 136,
   "metadata": {},
   "outputs": [],
   "source": [
    "# Create a list to store inertia values and the values of k\n",
    "inertia = []\n",
    "\n",
    "# Create a list to set the range of k values to test\n",
    "k = list(range(1, 11))"
   ]
  },
  {
   "cell_type": "code",
   "execution_count": 137,
   "metadata": {},
   "outputs": [],
   "source": [
    "# Create a for loop where each value of k is evaluated using the K-means algorithm\n",
    "# Fit the model using the \"customers_df\" DataFrame\n",
    "# Append the value of the computed inertia from the `inertia_` attribute of the KMeans model instance\n",
    "for i in k:\n",
    "    k_model = KMeans(n_clusters=i, random_state=0)\n",
    "    k_model.fit(customers_df)\n",
    "    inertia.append(k_model.inertia_)"
   ]
  },
  {
   "cell_type": "code",
   "execution_count": 138,
   "metadata": {},
   "outputs": [
    {
     "data": {
      "text/html": [
       "<div>\n",
       "<style scoped>\n",
       "    .dataframe tbody tr th:only-of-type {\n",
       "        vertical-align: middle;\n",
       "    }\n",
       "\n",
       "    .dataframe tbody tr th {\n",
       "        vertical-align: top;\n",
       "    }\n",
       "\n",
       "    .dataframe thead th {\n",
       "        text-align: right;\n",
       "    }\n",
       "</style>\n",
       "<table border=\"1\" class=\"dataframe\">\n",
       "  <thead>\n",
       "    <tr style=\"text-align: right;\">\n",
       "      <th></th>\n",
       "      <th>k</th>\n",
       "      <th>inertia</th>\n",
       "    </tr>\n",
       "  </thead>\n",
       "  <tbody>\n",
       "    <tr>\n",
       "      <th>0</th>\n",
       "      <td>1</td>\n",
       "      <td>58103.759171</td>\n",
       "    </tr>\n",
       "    <tr>\n",
       "      <th>1</th>\n",
       "      <td>2</td>\n",
       "      <td>32183.537923</td>\n",
       "    </tr>\n",
       "    <tr>\n",
       "      <th>2</th>\n",
       "      <td>3</td>\n",
       "      <td>17080.936423</td>\n",
       "    </tr>\n",
       "    <tr>\n",
       "      <th>3</th>\n",
       "      <td>4</td>\n",
       "      <td>14890.068176</td>\n",
       "    </tr>\n",
       "    <tr>\n",
       "      <th>4</th>\n",
       "      <td>5</td>\n",
       "      <td>12816.235532</td>\n",
       "    </tr>\n",
       "  </tbody>\n",
       "</table>\n",
       "</div>"
      ],
      "text/plain": [
       "   k       inertia\n",
       "0  1  58103.759171\n",
       "1  2  32183.537923\n",
       "2  3  17080.936423\n",
       "3  4  14890.068176\n",
       "4  5  12816.235532"
      ]
     },
     "execution_count": 138,
     "metadata": {},
     "output_type": "execute_result"
    }
   ],
   "source": [
    "# Define a DataFrame to hold the values for k and the corresponding inertia\n",
    "elbow_data = {\"k\": k, \"inertia\": inertia}\n",
    "df_elbow = pd.DataFrame(elbow_data)\n",
    "\n",
    "# Review the DataFrame\n",
    "df_elbow.head()"
   ]
  },
  {
   "cell_type": "code",
   "execution_count": 139,
   "metadata": {},
   "outputs": [
    {
     "data": {},
     "metadata": {},
     "output_type": "display_data"
    },
    {
     "data": {
      "application/vnd.holoviews_exec.v0+json": "",
      "text/html": [
       "<div id='7686'>\n",
       "  <div class=\"bk-root\" id=\"3f70fec9-2a3e-4f8c-9f50-dc14662286d8\" data-root-id=\"7686\"></div>\n",
       "</div>\n",
       "<script type=\"application/javascript\">(function(root) {\n",
       "  function embed_document(root) {\n",
       "    var docs_json = {\"bc70a93f-42dd-4448-9aff-b4e6d3c732a7\":{\"defs\":[{\"extends\":null,\"module\":null,\"name\":\"ReactiveHTML1\",\"overrides\":[],\"properties\":[]},{\"extends\":null,\"module\":null,\"name\":\"FlexBox1\",\"overrides\":[],\"properties\":[{\"default\":\"flex-start\",\"kind\":null,\"name\":\"align_content\"},{\"default\":\"flex-start\",\"kind\":null,\"name\":\"align_items\"},{\"default\":\"row\",\"kind\":null,\"name\":\"flex_direction\"},{\"default\":\"wrap\",\"kind\":null,\"name\":\"flex_wrap\"},{\"default\":\"flex-start\",\"kind\":null,\"name\":\"justify_content\"}]},{\"extends\":null,\"module\":null,\"name\":\"GridStack1\",\"overrides\":[],\"properties\":[{\"default\":\"warn\",\"kind\":null,\"name\":\"mode\"},{\"default\":null,\"kind\":null,\"name\":\"ncols\"},{\"default\":null,\"kind\":null,\"name\":\"nrows\"},{\"default\":true,\"kind\":null,\"name\":\"allow_resize\"},{\"default\":true,\"kind\":null,\"name\":\"allow_drag\"},{\"default\":[],\"kind\":null,\"name\":\"state\"}]},{\"extends\":null,\"module\":null,\"name\":\"click1\",\"overrides\":[],\"properties\":[{\"default\":\"\",\"kind\":null,\"name\":\"terminal_output\"},{\"default\":\"\",\"kind\":null,\"name\":\"debug_name\"},{\"default\":0,\"kind\":null,\"name\":\"clears\"}]},{\"extends\":null,\"module\":null,\"name\":\"NotificationAreaBase1\",\"overrides\":[],\"properties\":[{\"default\":\"bottom-right\",\"kind\":null,\"name\":\"position\"},{\"default\":0,\"kind\":null,\"name\":\"_clear\"}]},{\"extends\":null,\"module\":null,\"name\":\"NotificationArea1\",\"overrides\":[],\"properties\":[{\"default\":[],\"kind\":null,\"name\":\"notifications\"},{\"default\":\"bottom-right\",\"kind\":null,\"name\":\"position\"},{\"default\":0,\"kind\":null,\"name\":\"_clear\"},{\"default\":[{\"background\":\"#ffc107\",\"icon\":{\"className\":\"fas fa-exclamation-triangle\",\"color\":\"white\",\"tagName\":\"i\"},\"type\":\"warning\"},{\"background\":\"#007bff\",\"icon\":{\"className\":\"fas fa-info-circle\",\"color\":\"white\",\"tagName\":\"i\"},\"type\":\"info\"}],\"kind\":null,\"name\":\"types\"}]},{\"extends\":null,\"module\":null,\"name\":\"Notification\",\"overrides\":[],\"properties\":[{\"default\":null,\"kind\":null,\"name\":\"background\"},{\"default\":3000,\"kind\":null,\"name\":\"duration\"},{\"default\":null,\"kind\":null,\"name\":\"icon\"},{\"default\":\"\",\"kind\":null,\"name\":\"message\"},{\"default\":null,\"kind\":null,\"name\":\"notification_type\"},{\"default\":false,\"kind\":null,\"name\":\"_destroyed\"}]},{\"extends\":null,\"module\":null,\"name\":\"TemplateActions1\",\"overrides\":[],\"properties\":[{\"default\":0,\"kind\":null,\"name\":\"open_modal\"},{\"default\":0,\"kind\":null,\"name\":\"close_modal\"}]},{\"extends\":null,\"module\":null,\"name\":\"MaterialTemplateActions1\",\"overrides\":[],\"properties\":[{\"default\":0,\"kind\":null,\"name\":\"open_modal\"},{\"default\":0,\"kind\":null,\"name\":\"close_modal\"}]}],\"roots\":{\"references\":[{\"attributes\":{},\"id\":\"7708\",\"type\":\"PanTool\"},{\"attributes\":{\"source\":{\"id\":\"7720\"}},\"id\":\"7727\",\"type\":\"CDSView\"},{\"attributes\":{},\"id\":\"7711\",\"type\":\"ResetTool\"},{\"attributes\":{},\"id\":\"7731\",\"type\":\"BasicTickFormatter\"},{\"attributes\":{},\"id\":\"7709\",\"type\":\"WheelZoomTool\"},{\"attributes\":{\"line_alpha\":0.1,\"line_color\":\"#30a2da\",\"line_width\":2,\"tags\":[\"apply_ranges\"],\"x\":{\"field\":\"k\"},\"y\":{\"field\":\"inertia\"}},\"id\":\"7724\",\"type\":\"Line\"},{\"attributes\":{},\"id\":\"7721\",\"type\":\"Selection\"},{\"attributes\":{\"overlay\":{\"id\":\"7712\"}},\"id\":\"7710\",\"type\":\"BoxZoomTool\"},{\"attributes\":{\"ticks\":[1,2,3,4,5,6,7,8,9,10]},\"id\":\"7729\",\"type\":\"FixedTicker\"},{\"attributes\":{},\"id\":\"7704\",\"type\":\"BasicTicker\"},{\"attributes\":{\"line_color\":\"#30a2da\",\"line_width\":2,\"tags\":[\"apply_ranges\"],\"x\":{\"field\":\"k\"},\"y\":{\"field\":\"inertia\"}},\"id\":\"7728\",\"type\":\"Line\"},{\"attributes\":{\"axis\":{\"id\":\"7699\"},\"coordinates\":null,\"grid_line_color\":null,\"group\":null,\"ticker\":null},\"id\":\"7702\",\"type\":\"Grid\"},{\"attributes\":{},\"id\":\"7695\",\"type\":\"LinearScale\"},{\"attributes\":{\"axis_label\":\"k\",\"coordinates\":null,\"formatter\":{\"id\":\"7731\"},\"group\":null,\"major_label_policy\":{\"id\":\"7732\"},\"ticker\":{\"id\":\"7729\"}},\"id\":\"7699\",\"type\":\"LinearAxis\"},{\"attributes\":{\"data\":{\"inertia\":{\"__ndarray__\":\"o/wgS/he7ECO4FNt4m3fQIbBW+47rtBAsIn+uQgVzUDDmuslHgjJQHKO0vNuBcdAWOQa7YIpxUDpl+FOOJzDQCSGpvx/bcJAkxJ9zs9+wUA=\",\"dtype\":\"float64\",\"order\":\"little\",\"shape\":[10]},\"k\":[1,2,3,4,5,6,7,8,9,10]},\"selected\":{\"id\":\"7721\"},\"selection_policy\":{\"id\":\"7748\"}},\"id\":\"7720\",\"type\":\"ColumnDataSource\"},{\"attributes\":{\"coordinates\":null,\"group\":null,\"text\":\"Elbow Curve\",\"text_color\":\"black\",\"text_font_size\":\"12pt\"},\"id\":\"7691\",\"type\":\"Title\"},{\"attributes\":{\"children\":[{\"id\":\"7690\"}],\"height\":300,\"margin\":[0,0,0,0],\"name\":\"Row07336\",\"sizing_mode\":\"fixed\",\"tags\":[\"embedded\"],\"width\":700},\"id\":\"7686\",\"type\":\"Row\"},{\"attributes\":{},\"id\":\"7697\",\"type\":\"LinearScale\"},{\"attributes\":{},\"id\":\"7748\",\"type\":\"UnionRenderers\"},{\"attributes\":{\"axis_label\":\"inertia\",\"coordinates\":null,\"formatter\":{\"id\":\"7736\"},\"group\":null,\"major_label_policy\":{\"id\":\"7737\"},\"ticker\":{\"id\":\"7704\"}},\"id\":\"7703\",\"type\":\"LinearAxis\"},{\"attributes\":{},\"id\":\"7737\",\"type\":\"AllLabels\"},{\"attributes\":{\"end\":10.0,\"reset_end\":10.0,\"reset_start\":1.0,\"start\":1.0,\"tags\":[[[\"k\",\"k\",null]]]},\"id\":\"7687\",\"type\":\"Range1d\"},{\"attributes\":{\"axis\":{\"id\":\"7703\"},\"coordinates\":null,\"dimension\":1,\"grid_line_color\":null,\"group\":null,\"ticker\":null},\"id\":\"7706\",\"type\":\"Grid\"},{\"attributes\":{\"end\":63018.372739199986,\"reset_end\":63018.372739199986,\"reset_start\":4043.009920833715,\"start\":4043.009920833715,\"tags\":[[[\"inertia\",\"inertia\",null]]]},\"id\":\"7688\",\"type\":\"Range1d\"},{\"attributes\":{\"line_color\":\"#30a2da\",\"line_width\":2,\"tags\":[\"apply_ranges\"],\"x\":{\"field\":\"k\"},\"y\":{\"field\":\"inertia\"}},\"id\":\"7723\",\"type\":\"Line\"},{\"attributes\":{},\"id\":\"7736\",\"type\":\"BasicTickFormatter\"},{\"attributes\":{\"callback\":null,\"renderers\":[{\"id\":\"7726\"}],\"tags\":[\"hv_created\"],\"tooltips\":[[\"k\",\"@{k}\"],[\"inertia\",\"@{inertia}\"]]},\"id\":\"7689\",\"type\":\"HoverTool\"},{\"attributes\":{\"below\":[{\"id\":\"7699\"}],\"center\":[{\"id\":\"7702\"},{\"id\":\"7706\"}],\"height\":300,\"left\":[{\"id\":\"7703\"}],\"margin\":[5,5,5,5],\"min_border_bottom\":10,\"min_border_left\":10,\"min_border_right\":10,\"min_border_top\":10,\"output_backend\":\"webgl\",\"renderers\":[{\"id\":\"7726\"}],\"sizing_mode\":\"fixed\",\"title\":{\"id\":\"7691\"},\"toolbar\":{\"id\":\"7713\"},\"width\":700,\"x_range\":{\"id\":\"7687\"},\"x_scale\":{\"id\":\"7695\"},\"y_range\":{\"id\":\"7688\"},\"y_scale\":{\"id\":\"7697\"}},\"id\":\"7690\",\"subtype\":\"Figure\",\"type\":\"Plot\"},{\"attributes\":{\"active_drag\":{\"id\":\"7708\"},\"active_scroll\":{\"id\":\"7709\"},\"tools\":[{\"id\":\"7689\"},{\"id\":\"7707\"},{\"id\":\"7708\"},{\"id\":\"7709\"},{\"id\":\"7710\"},{\"id\":\"7711\"}]},\"id\":\"7713\",\"type\":\"Toolbar\"},{\"attributes\":{\"coordinates\":null,\"data_source\":{\"id\":\"7720\"},\"glyph\":{\"id\":\"7723\"},\"group\":null,\"hover_glyph\":null,\"muted_glyph\":{\"id\":\"7725\"},\"nonselection_glyph\":{\"id\":\"7724\"},\"selection_glyph\":{\"id\":\"7728\"},\"view\":{\"id\":\"7727\"}},\"id\":\"7726\",\"type\":\"GlyphRenderer\"},{\"attributes\":{},\"id\":\"7732\",\"type\":\"AllLabels\"},{\"attributes\":{\"bottom_units\":\"screen\",\"coordinates\":null,\"fill_alpha\":0.5,\"fill_color\":\"lightgrey\",\"group\":null,\"left_units\":\"screen\",\"level\":\"overlay\",\"line_alpha\":1.0,\"line_color\":\"black\",\"line_dash\":[4,4],\"line_width\":2,\"right_units\":\"screen\",\"syncable\":false,\"top_units\":\"screen\"},\"id\":\"7712\",\"type\":\"BoxAnnotation\"},{\"attributes\":{\"line_alpha\":0.2,\"line_color\":\"#30a2da\",\"line_width\":2,\"tags\":[\"apply_ranges\"],\"x\":{\"field\":\"k\"},\"y\":{\"field\":\"inertia\"}},\"id\":\"7725\",\"type\":\"Line\"},{\"attributes\":{},\"id\":\"7707\",\"type\":\"SaveTool\"}],\"root_ids\":[\"7686\"]},\"title\":\"Bokeh Application\",\"version\":\"2.4.3\"}};\n",
       "    var render_items = [{\"docid\":\"bc70a93f-42dd-4448-9aff-b4e6d3c732a7\",\"root_ids\":[\"7686\"],\"roots\":{\"7686\":\"3f70fec9-2a3e-4f8c-9f50-dc14662286d8\"}}];\n",
       "    root.Bokeh.embed.embed_items_notebook(docs_json, render_items);\n",
       "    for (const render_item of render_items) {\n",
       "      for (const root_id of render_item.root_ids) {\n",
       "\tconst id_el = document.getElementById(root_id)\n",
       "\tif (id_el.children.length && (id_el.children[0].className === 'bk-root')) {\n",
       "\t  const root_el = id_el.children[0]\n",
       "\t  root_el.id = root_el.id + '-rendered'\n",
       "\t}\n",
       "      }\n",
       "    }\n",
       "  }\n",
       "  if (root.Bokeh !== undefined && root.Bokeh.Panel !== undefined) {\n",
       "    embed_document(root);\n",
       "  } else {\n",
       "    var attempts = 0;\n",
       "    var timer = setInterval(function(root) {\n",
       "      if (root.Bokeh !== undefined && root.Bokeh.Panel !== undefined) {\n",
       "        clearInterval(timer);\n",
       "        embed_document(root);\n",
       "      } else if (document.readyState == \"complete\") {\n",
       "        attempts++;\n",
       "        if (attempts > 200) {\n",
       "          clearInterval(timer);\n",
       "          console.log(\"Bokeh: ERROR: Unable to run BokehJS code because BokehJS library is missing\");\n",
       "        }\n",
       "      }\n",
       "    }, 25, root)\n",
       "  }\n",
       "})(window);</script>"
      ],
      "text/plain": [
       ":Curve   [k]   (inertia)"
      ]
     },
     "execution_count": 139,
     "metadata": {
      "application/vnd.holoviews_exec.v0+json": {
       "id": "7686"
      }
     },
     "output_type": "execute_result"
    }
   ],
   "source": [
    "# Plot the DataFrame to identify the optimal value for k\n",
    "df_elbow.hvplot.line(\n",
    "    x=\"k\", \n",
    "    y=\"inertia\", \n",
    "    title=\"Elbow Curve\", \n",
    "    xticks=k\n",
    ")"
   ]
  },
  {
   "cell_type": "markdown",
   "metadata": {},
   "source": [
    "## Part 3: Segment the data with K-means using the optimal number of clusters"
   ]
  },
  {
   "cell_type": "code",
   "execution_count": 140,
   "metadata": {},
   "outputs": [],
   "source": [
    "# Define the model with optimal number of clusters\n",
    "model = KMeans(n_clusters=3, random_state=0)\n",
    "\n",
    "# Fit the model\n",
    "model.fit(customers_df)\n",
    "\n",
    "# Make predictions\n",
    "kmeans_predictions = model.predict(customers_df)"
   ]
  },
  {
   "cell_type": "markdown",
   "metadata": {},
   "source": [
    "## Part 4. Cluster the data using AgglomerativeClustering and Birch\n",
    "\n",
    "Using your optimal number of clusters found above, additionally estimate clusters by using both `AgglomerativeClustering` and `Birch`. Save each of these models and their results for comparison."
   ]
  },
  {
   "cell_type": "code",
   "execution_count": 141,
   "metadata": {},
   "outputs": [],
   "source": [
    "agglo_model = AgglomerativeClustering(n_clusters=3)\n",
    "agglo_predictions = agglo_model.fit_predict(customers_df)"
   ]
  },
  {
   "cell_type": "code",
   "execution_count": 142,
   "metadata": {},
   "outputs": [],
   "source": [
    "birch_model = Birch(n_clusters=3)\n",
    "birch_model.fit(customers_df)\n",
    "birch_predictions = birch_model.predict(customers_df)"
   ]
  },
  {
   "cell_type": "code",
   "execution_count": 143,
   "metadata": {},
   "outputs": [
    {
     "data": {
      "text/plain": [
       "array([0, 1, 0, 0, 0, 0, 1, 0, 1, 1], dtype=int64)"
      ]
     },
     "execution_count": 143,
     "metadata": {},
     "output_type": "execute_result"
    }
   ],
   "source": [
    "# Previewing the predicted customer classifcations for Birch\n",
    "birch_predictions[-10:]"
   ]
  },
  {
   "cell_type": "markdown",
   "metadata": {},
   "source": [
    "## Part 5. Compare the cluster results from using Kmeans, AgglomerativeClustering, Birch"
   ]
  },
  {
   "cell_type": "code",
   "execution_count": 144,
   "metadata": {},
   "outputs": [
    {
     "data": {
      "text/html": [
       "<div>\n",
       "<style scoped>\n",
       "    .dataframe tbody tr th:only-of-type {\n",
       "        vertical-align: middle;\n",
       "    }\n",
       "\n",
       "    .dataframe tbody tr th {\n",
       "        vertical-align: top;\n",
       "    }\n",
       "\n",
       "    .dataframe thead th {\n",
       "        text-align: right;\n",
       "    }\n",
       "</style>\n",
       "<table border=\"1\" class=\"dataframe\">\n",
       "  <thead>\n",
       "    <tr style=\"text-align: right;\">\n",
       "      <th></th>\n",
       "      <th>kmeans-segments</th>\n",
       "      <th>agglomerative-segments</th>\n",
       "      <th>birch-segments</th>\n",
       "    </tr>\n",
       "  </thead>\n",
       "  <tbody>\n",
       "    <tr>\n",
       "      <th>0</th>\n",
       "      <td>1</td>\n",
       "      <td>1</td>\n",
       "      <td>0</td>\n",
       "    </tr>\n",
       "    <tr>\n",
       "      <th>1</th>\n",
       "      <td>0</td>\n",
       "      <td>0</td>\n",
       "      <td>1</td>\n",
       "    </tr>\n",
       "    <tr>\n",
       "      <th>2</th>\n",
       "      <td>0</td>\n",
       "      <td>0</td>\n",
       "      <td>1</td>\n",
       "    </tr>\n",
       "  </tbody>\n",
       "</table>\n",
       "</div>"
      ],
      "text/plain": [
       "   kmeans-segments  agglomerative-segments  birch-segments\n",
       "0                1                       1               0\n",
       "1                0                       0               1\n",
       "2                0                       0               1"
      ]
     },
     "execution_count": 144,
     "metadata": {},
     "output_type": "execute_result"
    }
   ],
   "source": [
    "# Create a copy of the customers_df DataFrame\n",
    "customers_predictions_df = customers_df.copy()\n",
    "# Add class columns with the labels to the new DataFrame\n",
    "customers_predictions_df[\"kmeans-segments\"] = kmeans_predictions\n",
    "customers_predictions_df[\"agglomerative-segments\"] = agglo_predictions\n",
    "customers_predictions_df[\"birch-segments\"] = birch_predictions\n",
    "customers_predictions_df[['kmeans-segments','agglomerative-segments', 'birch-segments']].head(3)"
   ]
  },
  {
   "cell_type": "code",
   "execution_count": 145,
   "metadata": {},
   "outputs": [
    {
     "data": {},
     "metadata": {},
     "output_type": "display_data"
    },
    {
     "data": {
      "application/vnd.holoviews_exec.v0+json": "",
      "text/html": [
       "<div id='7797'>\n",
       "  <div class=\"bk-root\" id=\"4b41091f-3dbe-48ae-bbb6-6d6ede28f682\" data-root-id=\"7797\"></div>\n",
       "</div>\n",
       "<script type=\"application/javascript\">(function(root) {\n",
       "  function embed_document(root) {\n",
       "    var docs_json = {\"730842e6-079c-4c8c-91ab-c10ca9d43191\":{\"defs\":[{\"extends\":null,\"module\":null,\"name\":\"ReactiveHTML1\",\"overrides\":[],\"properties\":[]},{\"extends\":null,\"module\":null,\"name\":\"FlexBox1\",\"overrides\":[],\"properties\":[{\"default\":\"flex-start\",\"kind\":null,\"name\":\"align_content\"},{\"default\":\"flex-start\",\"kind\":null,\"name\":\"align_items\"},{\"default\":\"row\",\"kind\":null,\"name\":\"flex_direction\"},{\"default\":\"wrap\",\"kind\":null,\"name\":\"flex_wrap\"},{\"default\":\"flex-start\",\"kind\":null,\"name\":\"justify_content\"}]},{\"extends\":null,\"module\":null,\"name\":\"GridStack1\",\"overrides\":[],\"properties\":[{\"default\":\"warn\",\"kind\":null,\"name\":\"mode\"},{\"default\":null,\"kind\":null,\"name\":\"ncols\"},{\"default\":null,\"kind\":null,\"name\":\"nrows\"},{\"default\":true,\"kind\":null,\"name\":\"allow_resize\"},{\"default\":true,\"kind\":null,\"name\":\"allow_drag\"},{\"default\":[],\"kind\":null,\"name\":\"state\"}]},{\"extends\":null,\"module\":null,\"name\":\"click1\",\"overrides\":[],\"properties\":[{\"default\":\"\",\"kind\":null,\"name\":\"terminal_output\"},{\"default\":\"\",\"kind\":null,\"name\":\"debug_name\"},{\"default\":0,\"kind\":null,\"name\":\"clears\"}]},{\"extends\":null,\"module\":null,\"name\":\"NotificationAreaBase1\",\"overrides\":[],\"properties\":[{\"default\":\"bottom-right\",\"kind\":null,\"name\":\"position\"},{\"default\":0,\"kind\":null,\"name\":\"_clear\"}]},{\"extends\":null,\"module\":null,\"name\":\"NotificationArea1\",\"overrides\":[],\"properties\":[{\"default\":[],\"kind\":null,\"name\":\"notifications\"},{\"default\":\"bottom-right\",\"kind\":null,\"name\":\"position\"},{\"default\":0,\"kind\":null,\"name\":\"_clear\"},{\"default\":[{\"background\":\"#ffc107\",\"icon\":{\"className\":\"fas fa-exclamation-triangle\",\"color\":\"white\",\"tagName\":\"i\"},\"type\":\"warning\"},{\"background\":\"#007bff\",\"icon\":{\"className\":\"fas fa-info-circle\",\"color\":\"white\",\"tagName\":\"i\"},\"type\":\"info\"}],\"kind\":null,\"name\":\"types\"}]},{\"extends\":null,\"module\":null,\"name\":\"Notification\",\"overrides\":[],\"properties\":[{\"default\":null,\"kind\":null,\"name\":\"background\"},{\"default\":3000,\"kind\":null,\"name\":\"duration\"},{\"default\":null,\"kind\":null,\"name\":\"icon\"},{\"default\":\"\",\"kind\":null,\"name\":\"message\"},{\"default\":null,\"kind\":null,\"name\":\"notification_type\"},{\"default\":false,\"kind\":null,\"name\":\"_destroyed\"}]},{\"extends\":null,\"module\":null,\"name\":\"TemplateActions1\",\"overrides\":[],\"properties\":[{\"default\":0,\"kind\":null,\"name\":\"open_modal\"},{\"default\":0,\"kind\":null,\"name\":\"close_modal\"}]},{\"extends\":null,\"module\":null,\"name\":\"MaterialTemplateActions1\",\"overrides\":[],\"properties\":[{\"default\":0,\"kind\":null,\"name\":\"open_modal\"},{\"default\":0,\"kind\":null,\"name\":\"close_modal\"}]}],\"roots\":{\"references\":[{\"attributes\":{},\"id\":\"7820\",\"type\":\"SaveTool\"},{\"attributes\":{},\"id\":\"7821\",\"type\":\"PanTool\"},{\"attributes\":{},\"id\":\"7817\",\"type\":\"BasicTicker\"},{\"attributes\":{\"end\":6.812945338442532,\"reset_end\":6.812945338442532,\"reset_start\":-6.796693307805908,\"start\":-6.796693307805908,\"tags\":[[[\"feature_1\",\"feature_1\",null]]]},\"id\":\"7798\",\"type\":\"Range1d\"},{\"attributes\":{\"fill_alpha\":{\"value\":0.1},\"fill_color\":{\"value\":\"#30a2da\"},\"hatch_alpha\":{\"value\":0.1},\"hatch_color\":{\"value\":\"#30a2da\"},\"line_alpha\":{\"value\":0.1},\"line_color\":{\"value\":\"#30a2da\"},\"size\":{\"value\":5.477225575051661},\"tags\":[\"apply_ranges\"],\"x\":{\"field\":\"feature_1\"},\"y\":{\"field\":\"feature_2\"}},\"id\":\"7843\",\"type\":\"Scatter\"},{\"attributes\":{},\"id\":\"7824\",\"type\":\"ResetTool\"},{\"attributes\":{},\"id\":\"7822\",\"type\":\"WheelZoomTool\"},{\"attributes\":{},\"id\":\"7838\",\"type\":\"AllLabels\"},{\"attributes\":{\"children\":[{\"id\":\"7803\"}],\"height\":300,\"margin\":[0,0,0,0],\"name\":\"Row07498\",\"sizing_mode\":\"fixed\",\"tags\":[\"embedded\"],\"width\":700},\"id\":\"7797\",\"type\":\"Row\"},{\"attributes\":{\"source\":{\"id\":\"7860\"}},\"id\":\"7867\",\"type\":\"CDSView\"},{\"attributes\":{\"bottom_units\":\"screen\",\"coordinates\":null,\"fill_alpha\":0.5,\"fill_color\":\"lightgrey\",\"group\":null,\"left_units\":\"screen\",\"level\":\"overlay\",\"line_alpha\":1.0,\"line_color\":\"black\",\"line_dash\":[4,4],\"line_width\":2,\"right_units\":\"screen\",\"syncable\":false,\"top_units\":\"screen\"},\"id\":\"7825\",\"type\":\"BoxAnnotation\"},{\"attributes\":{\"overlay\":{\"id\":\"7825\"}},\"id\":\"7823\",\"type\":\"BoxZoomTool\"},{\"attributes\":{},\"id\":\"7861\",\"type\":\"Selection\"},{\"attributes\":{},\"id\":\"7877\",\"type\":\"UnionRenderers\"},{\"attributes\":{\"source\":{\"id\":\"7839\"}},\"id\":\"7846\",\"type\":\"CDSView\"},{\"attributes\":{\"angle\":{\"value\":0.0},\"fill_alpha\":{\"value\":1.0},\"fill_color\":{\"value\":\"#30a2da\"},\"hatch_alpha\":{\"value\":1.0},\"hatch_color\":{\"value\":\"#30a2da\"},\"hatch_scale\":{\"value\":12.0},\"hatch_weight\":{\"value\":1.0},\"line_alpha\":{\"value\":1.0},\"line_cap\":{\"value\":\"butt\"},\"line_color\":{\"value\":\"#30a2da\"},\"line_dash\":{\"value\":[]},\"line_dash_offset\":{\"value\":0},\"line_join\":{\"value\":\"bevel\"},\"line_width\":{\"value\":1},\"marker\":{\"value\":\"circle\"},\"size\":{\"value\":5.477225575051661},\"tags\":[\"apply_ranges\"],\"x\":{\"field\":\"feature_1\"},\"y\":{\"field\":\"feature_2\"}},\"id\":\"7859\",\"type\":\"Scatter\"},{\"attributes\":{\"label\":{\"value\":\"0\"},\"renderers\":[{\"id\":\"7845\"}]},\"id\":\"7858\",\"type\":\"LegendItem\"},{\"attributes\":{\"label\":{\"value\":\"1\"},\"renderers\":[{\"id\":\"7866\"}]},\"id\":\"7880\",\"type\":\"LegendItem\"},{\"attributes\":{\"axis\":{\"id\":\"7812\"},\"coordinates\":null,\"grid_line_color\":null,\"group\":null,\"ticker\":null},\"id\":\"7815\",\"type\":\"Grid\"},{\"attributes\":{},\"id\":\"7813\",\"type\":\"BasicTicker\"},{\"attributes\":{},\"id\":\"7883\",\"type\":\"Selection\"},{\"attributes\":{},\"id\":\"7808\",\"type\":\"LinearScale\"},{\"attributes\":{\"angle\":{\"value\":0.0},\"fill_alpha\":{\"value\":1.0},\"fill_color\":{\"value\":\"#fc4f30\"},\"hatch_alpha\":{\"value\":1.0},\"hatch_color\":{\"value\":\"#fc4f30\"},\"hatch_scale\":{\"value\":12.0},\"hatch_weight\":{\"value\":1.0},\"line_alpha\":{\"value\":1.0},\"line_cap\":{\"value\":\"butt\"},\"line_color\":{\"value\":\"#fc4f30\"},\"line_dash\":{\"value\":[]},\"line_dash_offset\":{\"value\":0},\"line_join\":{\"value\":\"bevel\"},\"line_width\":{\"value\":1},\"marker\":{\"value\":\"circle\"},\"size\":{\"value\":5.477225575051661},\"tags\":[\"apply_ranges\"],\"x\":{\"field\":\"feature_1\"},\"y\":{\"field\":\"feature_2\"}},\"id\":\"7881\",\"type\":\"Scatter\"},{\"attributes\":{\"coordinates\":null,\"group\":null,\"text_color\":\"black\",\"text_font_size\":\"12pt\"},\"id\":\"7804\",\"type\":\"Title\"},{\"attributes\":{\"data\":{\"feature_1\":{\"__ndarray__\":\"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\",\"dtype\":\"float64\",\"order\":\"little\",\"shape\":[197]},\"feature_2\":{\"__ndarray__\":\"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\",\"dtype\":\"float64\",\"order\":\"little\",\"shape\":[197]},\"kmeans_hyphen_minus_segments\":[2,2,2,2,2,2,2,2,2,2,2,2,2,2,2,2,2,2,2,2,2,2,2,2,2,2,2,2,2,2,2,2,2,2,2,2,2,2,2,2,2,2,2,2,2,2,2,2,2,2,2,2,2,2,2,2,2,2,2,2,2,2,2,2,2,2,2,2,2,2,2,2,2,2,2,2,2,2,2,2,2,2,2,2,2,2,2,2,2,2,2,2,2,2,2,2,2,2,2,2,2,2,2,2,2,2,2,2,2,2,2,2,2,2,2,2,2,2,2,2,2,2,2,2,2,2,2,2,2,2,2,2,2,2,2,2,2,2,2,2,2,2,2,2,2,2,2,2,2,2,2,2,2,2,2,2,2,2,2,2,2,2,2,2,2,2,2,2,2,2,2,2,2,2,2,2,2,2,2,2,2,2,2,2,2,2,2,2,2,2,2,2,2,2,2,2,2]},\"selected\":{\"id\":\"7883\"},\"selection_policy\":{\"id\":\"7901\"}},\"id\":\"7882\",\"type\":\"ColumnDataSource\"},{\"attributes\":{\"fill_alpha\":{\"value\":0.1},\"fill_color\":{\"value\":\"#e5ae38\"},\"hatch_alpha\":{\"value\":0.1},\"hatch_color\":{\"value\":\"#e5ae38\"},\"line_alpha\":{\"value\":0.1},\"line_color\":{\"value\":\"#e5ae38\"},\"size\":{\"value\":5.477225575051661},\"tags\":[\"apply_ranges\"],\"x\":{\"field\":\"feature_1\"},\"y\":{\"field\":\"feature_2\"}},\"id\":\"7886\",\"type\":\"Scatter\"},{\"attributes\":{\"below\":[{\"id\":\"7812\"}],\"center\":[{\"id\":\"7815\"},{\"id\":\"7819\"}],\"height\":300,\"left\":[{\"id\":\"7816\"}],\"margin\":[5,5,5,5],\"min_border_bottom\":10,\"min_border_left\":10,\"min_border_right\":10,\"min_border_top\":10,\"output_backend\":\"webgl\",\"renderers\":[{\"id\":\"7845\"},{\"id\":\"7866\"},{\"id\":\"7888\"}],\"right\":[{\"id\":\"7857\"}],\"sizing_mode\":\"fixed\",\"title\":{\"id\":\"7804\"},\"toolbar\":{\"id\":\"7826\"},\"width\":700,\"x_range\":{\"id\":\"7798\"},\"x_scale\":{\"id\":\"7808\"},\"y_range\":{\"id\":\"7799\"},\"y_scale\":{\"id\":\"7810\"}},\"id\":\"7803\",\"subtype\":\"Figure\",\"type\":\"Plot\"},{\"attributes\":{},\"id\":\"7840\",\"type\":\"Selection\"},{\"attributes\":{},\"id\":\"7810\",\"type\":\"LinearScale\"},{\"attributes\":{\"fill_alpha\":{\"value\":0.2},\"fill_color\":{\"value\":\"#fc4f30\"},\"hatch_alpha\":{\"value\":0.2},\"hatch_color\":{\"value\":\"#fc4f30\"},\"line_alpha\":{\"value\":0.2},\"line_color\":{\"value\":\"#fc4f30\"},\"size\":{\"value\":5.477225575051661},\"tags\":[\"apply_ranges\"],\"x\":{\"field\":\"feature_1\"},\"y\":{\"field\":\"feature_2\"}},\"id\":\"7865\",\"type\":\"Scatter\"},{\"attributes\":{\"axis_label\":\"feature_2\",\"coordinates\":null,\"formatter\":{\"id\":\"7837\"},\"group\":null,\"major_label_policy\":{\"id\":\"7838\"},\"ticker\":{\"id\":\"7817\"}},\"id\":\"7816\",\"type\":\"LinearAxis\"},{\"attributes\":{\"data\":{\"feature_1\":{\"__ndarray__\":\"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\",\"dtype\":\"float64\",\"order\":\"little\",\"shape\":[509]},\"feature_2\":{\"__ndarray__\":\"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\",\"dtype\":\"float64\",\"order\":\"little\",\"shape\":[509]},\"kmeans_hyphen_minus_segments\":[1,1,1,1,1,1,1,1,1,1,1,1,1,1,1,1,1,1,1,1,1,1,1,1,1,1,1,1,1,1,1,1,1,1,1,1,1,1,1,1,1,1,1,1,1,1,1,1,1,1,1,1,1,1,1,1,1,1,1,1,1,1,1,1,1,1,1,1,1,1,1,1,1,1,1,1,1,1,1,1,1,1,1,1,1,1,1,1,1,1,1,1,1,1,1,1,1,1,1,1,1,1,1,1,1,1,1,1,1,1,1,1,1,1,1,1,1,1,1,1,1,1,1,1,1,1,1,1,1,1,1,1,1,1,1,1,1,1,1,1,1,1,1,1,1,1,1,1,1,1,1,1,1,1,1,1,1,1,1,1,1,1,1,1,1,1,1,1,1,1,1,1,1,1,1,1,1,1,1,1,1,1,1,1,1,1,1,1,1,1,1,1,1,1,1,1,1,1,1,1,1,1,1,1,1,1,1,1,1,1,1,1,1,1,1,1,1,1,1,1,1,1,1,1,1,1,1,1,1,1,1,1,1,1,1,1,1,1,1,1,1,1,1,1,1,1,1,1,1,1,1,1,1,1,1,1,1,1,1,1,1,1,1,1,1,1,1,1,1,1,1,1,1,1,1,1,1,1,1,1,1,1,1,1,1,1,1,1,1,1,1,1,1,1,1,1,1,1,1,1,1,1,1,1,1,1,1,1,1,1,1,1,1,1,1,1,1,1,1,1,1,1,1,1,1,1,1,1,1,1,1,1,1,1,1,1,1,1,1,1,1,1,1,1,1,1,1,1,1,1,1,1,1,1,1,1,1,1,1,1,1,1,1,1,1,1,1,1,1,1,1,1,1,1,1,1,1,1,1,1,1,1,1,1,1,1,1,1,1,1,1,1,1,1,1,1,1,1,1,1,1,1,1,1,1,1,1,1,1,1,1,1,1,1,1,1,1,1,1,1,1,1,1,1,1,1,1,1,1,1,1,1,1,1,1,1,1,1,1,1,1,1,1,1,1,1,1,1,1,1,1,1,1,1,1,1,1,1,1,1,1,1,1,1,1,1,1,1,1,1,1,1,1,1,1,1,1,1,1,1,1,1,1,1,1,1,1,1,1,1,1,1,1,1,1,1,1,1,1,1,1,1,1,1,1,1,1,1,1]},\"selected\":{\"id\":\"7861\"},\"selection_policy\":{\"id\":\"7877\"}},\"id\":\"7860\",\"type\":\"ColumnDataSource\"},{\"attributes\":{\"label\":{\"value\":\"2\"},\"renderers\":[{\"id\":\"7888\"}]},\"id\":\"7904\",\"type\":\"LegendItem\"},{\"attributes\":{\"axis_label\":\"feature_1\",\"coordinates\":null,\"formatter\":{\"id\":\"7834\"},\"group\":null,\"major_label_policy\":{\"id\":\"7835\"},\"ticker\":{\"id\":\"7813\"}},\"id\":\"7812\",\"type\":\"LinearAxis\"},{\"attributes\":{\"angle\":{\"value\":0.0},\"fill_alpha\":{\"value\":1.0},\"fill_color\":{\"value\":\"#e5ae38\"},\"hatch_alpha\":{\"value\":1.0},\"hatch_color\":{\"value\":\"#e5ae38\"},\"hatch_scale\":{\"value\":12.0},\"hatch_weight\":{\"value\":1.0},\"line_alpha\":{\"value\":1.0},\"line_cap\":{\"value\":\"butt\"},\"line_color\":{\"value\":\"#e5ae38\"},\"line_dash\":{\"value\":[]},\"line_dash_offset\":{\"value\":0},\"line_join\":{\"value\":\"bevel\"},\"line_width\":{\"value\":1},\"marker\":{\"value\":\"circle\"},\"size\":{\"value\":5.477225575051661},\"tags\":[\"apply_ranges\"],\"x\":{\"field\":\"feature_1\"},\"y\":{\"field\":\"feature_2\"}},\"id\":\"7905\",\"type\":\"Scatter\"},{\"attributes\":{\"callback\":null,\"renderers\":[{\"id\":\"7845\"},{\"id\":\"7866\"},{\"id\":\"7888\"}],\"tags\":[\"hv_created\"],\"tooltips\":[[\"kmeans-segments\",\"@{kmeans_hyphen_minus_segments}\"],[\"feature_1\",\"@{feature_1}\"],[\"feature_2\",\"@{feature_2}\"]]},\"id\":\"7800\",\"type\":\"HoverTool\"},{\"attributes\":{},\"id\":\"7854\",\"type\":\"UnionRenderers\"},{\"attributes\":{},\"id\":\"7834\",\"type\":\"BasicTickFormatter\"},{\"attributes\":{\"click_policy\":\"mute\",\"coordinates\":null,\"group\":null,\"items\":[{\"id\":\"7858\"},{\"id\":\"7880\"},{\"id\":\"7904\"}],\"location\":[0,0],\"title\":\"kmeans-segments\"},\"id\":\"7857\",\"type\":\"Legend\"},{\"attributes\":{\"axis\":{\"id\":\"7816\"},\"coordinates\":null,\"dimension\":1,\"grid_line_color\":null,\"group\":null,\"ticker\":null},\"id\":\"7819\",\"type\":\"Grid\"},{\"attributes\":{\"data\":{\"feature_1\":{\"__ndarray__\":\"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\",\"dtype\":\"float64\",\"order\":\"little\",\"shape\":[294]},\"feature_2\":{\"__ndarray__\":\"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\",\"dtype\":\"float64\",\"order\":\"little\",\"shape\":[294]},\"kmeans_hyphen_minus_segments\":[0,0,0,0,0,0,0,0,0,0,0,0,0,0,0,0,0,0,0,0,0,0,0,0,0,0,0,0,0,0,0,0,0,0,0,0,0,0,0,0,0,0,0,0,0,0,0,0,0,0,0,0,0,0,0,0,0,0,0,0,0,0,0,0,0,0,0,0,0,0,0,0,0,0,0,0,0,0,0,0,0,0,0,0,0,0,0,0,0,0,0,0,0,0,0,0,0,0,0,0,0,0,0,0,0,0,0,0,0,0,0,0,0,0,0,0,0,0,0,0,0,0,0,0,0,0,0,0,0,0,0,0,0,0,0,0,0,0,0,0,0,0,0,0,0,0,0,0,0,0,0,0,0,0,0,0,0,0,0,0,0,0,0,0,0,0,0,0,0,0,0,0,0,0,0,0,0,0,0,0,0,0,0,0,0,0,0,0,0,0,0,0,0,0,0,0,0,0,0,0,0,0,0,0,0,0,0,0,0,0,0,0,0,0,0,0,0,0,0,0,0,0,0,0,0,0,0,0,0,0,0,0,0,0,0,0,0,0,0,0,0,0,0,0,0,0,0,0,0,0,0,0,0,0,0,0,0,0,0,0,0,0,0,0,0,0,0,0,0,0,0,0,0,0,0,0,0,0,0,0,0,0,0,0,0,0,0,0,0,0,0,0,0,0]},\"selected\":{\"id\":\"7840\"},\"selection_policy\":{\"id\":\"7854\"}},\"id\":\"7839\",\"type\":\"ColumnDataSource\"},{\"attributes\":{\"fill_color\":{\"value\":\"#e5ae38\"},\"hatch_color\":{\"value\":\"#e5ae38\"},\"line_color\":{\"value\":\"#e5ae38\"},\"size\":{\"value\":5.477225575051661},\"tags\":[\"apply_ranges\"],\"x\":{\"field\":\"feature_1\"},\"y\":{\"field\":\"feature_2\"}},\"id\":\"7885\",\"type\":\"Scatter\"},{\"attributes\":{\"source\":{\"id\":\"7882\"}},\"id\":\"7889\",\"type\":\"CDSView\"},{\"attributes\":{\"end\":9.215602229847773,\"reset_end\":9.215602229847773,\"reset_start\":-5.909730475924883,\"start\":-5.909730475924883,\"tags\":[[[\"feature_2\",\"feature_2\",null]]]},\"id\":\"7799\",\"type\":\"Range1d\"},{\"attributes\":{\"coordinates\":null,\"data_source\":{\"id\":\"7860\"},\"glyph\":{\"id\":\"7863\"},\"group\":null,\"hover_glyph\":null,\"muted_glyph\":{\"id\":\"7865\"},\"nonselection_glyph\":{\"id\":\"7864\"},\"selection_glyph\":{\"id\":\"7881\"},\"view\":{\"id\":\"7867\"}},\"id\":\"7866\",\"type\":\"GlyphRenderer\"},{\"attributes\":{\"fill_alpha\":{\"value\":0.2},\"fill_color\":{\"value\":\"#e5ae38\"},\"hatch_alpha\":{\"value\":0.2},\"hatch_color\":{\"value\":\"#e5ae38\"},\"line_alpha\":{\"value\":0.2},\"line_color\":{\"value\":\"#e5ae38\"},\"size\":{\"value\":5.477225575051661},\"tags\":[\"apply_ranges\"],\"x\":{\"field\":\"feature_1\"},\"y\":{\"field\":\"feature_2\"}},\"id\":\"7887\",\"type\":\"Scatter\"},{\"attributes\":{\"coordinates\":null,\"data_source\":{\"id\":\"7882\"},\"glyph\":{\"id\":\"7885\"},\"group\":null,\"hover_glyph\":null,\"muted_glyph\":{\"id\":\"7887\"},\"nonselection_glyph\":{\"id\":\"7886\"},\"selection_glyph\":{\"id\":\"7905\"},\"view\":{\"id\":\"7889\"}},\"id\":\"7888\",\"type\":\"GlyphRenderer\"},{\"attributes\":{\"fill_alpha\":{\"value\":0.2},\"fill_color\":{\"value\":\"#30a2da\"},\"hatch_alpha\":{\"value\":0.2},\"hatch_color\":{\"value\":\"#30a2da\"},\"line_alpha\":{\"value\":0.2},\"line_color\":{\"value\":\"#30a2da\"},\"size\":{\"value\":5.477225575051661},\"tags\":[\"apply_ranges\"],\"x\":{\"field\":\"feature_1\"},\"y\":{\"field\":\"feature_2\"}},\"id\":\"7844\",\"type\":\"Scatter\"},{\"attributes\":{\"fill_color\":{\"value\":\"#fc4f30\"},\"hatch_color\":{\"value\":\"#fc4f30\"},\"line_color\":{\"value\":\"#fc4f30\"},\"size\":{\"value\":5.477225575051661},\"tags\":[\"apply_ranges\"],\"x\":{\"field\":\"feature_1\"},\"y\":{\"field\":\"feature_2\"}},\"id\":\"7863\",\"type\":\"Scatter\"},{\"attributes\":{},\"id\":\"7837\",\"type\":\"BasicTickFormatter\"},{\"attributes\":{},\"id\":\"7835\",\"type\":\"AllLabels\"},{\"attributes\":{\"fill_color\":{\"value\":\"#30a2da\"},\"hatch_color\":{\"value\":\"#30a2da\"},\"line_color\":{\"value\":\"#30a2da\"},\"size\":{\"value\":5.477225575051661},\"tags\":[\"apply_ranges\"],\"x\":{\"field\":\"feature_1\"},\"y\":{\"field\":\"feature_2\"}},\"id\":\"7842\",\"type\":\"Scatter\"},{\"attributes\":{},\"id\":\"7901\",\"type\":\"UnionRenderers\"},{\"attributes\":{\"fill_alpha\":{\"value\":0.1},\"fill_color\":{\"value\":\"#fc4f30\"},\"hatch_alpha\":{\"value\":0.1},\"hatch_color\":{\"value\":\"#fc4f30\"},\"line_alpha\":{\"value\":0.1},\"line_color\":{\"value\":\"#fc4f30\"},\"size\":{\"value\":5.477225575051661},\"tags\":[\"apply_ranges\"],\"x\":{\"field\":\"feature_1\"},\"y\":{\"field\":\"feature_2\"}},\"id\":\"7864\",\"type\":\"Scatter\"},{\"attributes\":{\"active_drag\":{\"id\":\"7821\"},\"active_scroll\":{\"id\":\"7822\"},\"tools\":[{\"id\":\"7800\"},{\"id\":\"7820\"},{\"id\":\"7821\"},{\"id\":\"7822\"},{\"id\":\"7823\"},{\"id\":\"7824\"}]},\"id\":\"7826\",\"type\":\"Toolbar\"},{\"attributes\":{\"coordinates\":null,\"data_source\":{\"id\":\"7839\"},\"glyph\":{\"id\":\"7842\"},\"group\":null,\"hover_glyph\":null,\"muted_glyph\":{\"id\":\"7844\"},\"nonselection_glyph\":{\"id\":\"7843\"},\"selection_glyph\":{\"id\":\"7859\"},\"view\":{\"id\":\"7846\"}},\"id\":\"7845\",\"type\":\"GlyphRenderer\"}],\"root_ids\":[\"7797\"]},\"title\":\"Bokeh Application\",\"version\":\"2.4.3\"}};\n",
       "    var render_items = [{\"docid\":\"730842e6-079c-4c8c-91ab-c10ca9d43191\",\"root_ids\":[\"7797\"],\"roots\":{\"7797\":\"4b41091f-3dbe-48ae-bbb6-6d6ede28f682\"}}];\n",
       "    root.Bokeh.embed.embed_items_notebook(docs_json, render_items);\n",
       "    for (const render_item of render_items) {\n",
       "      for (const root_id of render_item.root_ids) {\n",
       "\tconst id_el = document.getElementById(root_id)\n",
       "\tif (id_el.children.length && (id_el.children[0].className === 'bk-root')) {\n",
       "\t  const root_el = id_el.children[0]\n",
       "\t  root_el.id = root_el.id + '-rendered'\n",
       "\t}\n",
       "      }\n",
       "    }\n",
       "  }\n",
       "  if (root.Bokeh !== undefined && root.Bokeh.Panel !== undefined) {\n",
       "    embed_document(root);\n",
       "  } else {\n",
       "    var attempts = 0;\n",
       "    var timer = setInterval(function(root) {\n",
       "      if (root.Bokeh !== undefined && root.Bokeh.Panel !== undefined) {\n",
       "        clearInterval(timer);\n",
       "        embed_document(root);\n",
       "      } else if (document.readyState == \"complete\") {\n",
       "        attempts++;\n",
       "        if (attempts > 200) {\n",
       "          clearInterval(timer);\n",
       "          console.log(\"Bokeh: ERROR: Unable to run BokehJS code because BokehJS library is missing\");\n",
       "        }\n",
       "      }\n",
       "    }, 25, root)\n",
       "  }\n",
       "})(window);</script>"
      ],
      "text/plain": [
       ":NdOverlay   [kmeans-segments]\n",
       "   :Scatter   [feature_1]   (feature_2)"
      ]
     },
     "execution_count": 145,
     "metadata": {
      "application/vnd.holoviews_exec.v0+json": {
       "id": "7797"
      }
     },
     "output_type": "execute_result"
    }
   ],
   "source": [
    "# Plot the kmeans clusters using the \"feature_1\" and \"feature_2\" columns\n",
    "customers_predictions_df.hvplot.scatter(\n",
    "    x=\"feature_1\",\n",
    "    y=\"feature_2\",\n",
    "    by=\"kmeans-segments\"\n",
    ")"
   ]
  },
  {
   "cell_type": "code",
   "execution_count": 146,
   "metadata": {
    "scrolled": true
   },
   "outputs": [
    {
     "data": {},
     "metadata": {},
     "output_type": "display_data"
    },
    {
     "data": {
      "application/vnd.holoviews_exec.v0+json": "",
      "text/html": [
       "<div id='7995'>\n",
       "  <div class=\"bk-root\" id=\"8a6d059c-462d-4619-9ba7-888bc8c00731\" data-root-id=\"7995\"></div>\n",
       "</div>\n",
       "<script type=\"application/javascript\">(function(root) {\n",
       "  function embed_document(root) {\n",
       "    var docs_json = {\"e99e5a07-d683-4da0-9783-80ba60cdb769\":{\"defs\":[{\"extends\":null,\"module\":null,\"name\":\"ReactiveHTML1\",\"overrides\":[],\"properties\":[]},{\"extends\":null,\"module\":null,\"name\":\"FlexBox1\",\"overrides\":[],\"properties\":[{\"default\":\"flex-start\",\"kind\":null,\"name\":\"align_content\"},{\"default\":\"flex-start\",\"kind\":null,\"name\":\"align_items\"},{\"default\":\"row\",\"kind\":null,\"name\":\"flex_direction\"},{\"default\":\"wrap\",\"kind\":null,\"name\":\"flex_wrap\"},{\"default\":\"flex-start\",\"kind\":null,\"name\":\"justify_content\"}]},{\"extends\":null,\"module\":null,\"name\":\"GridStack1\",\"overrides\":[],\"properties\":[{\"default\":\"warn\",\"kind\":null,\"name\":\"mode\"},{\"default\":null,\"kind\":null,\"name\":\"ncols\"},{\"default\":null,\"kind\":null,\"name\":\"nrows\"},{\"default\":true,\"kind\":null,\"name\":\"allow_resize\"},{\"default\":true,\"kind\":null,\"name\":\"allow_drag\"},{\"default\":[],\"kind\":null,\"name\":\"state\"}]},{\"extends\":null,\"module\":null,\"name\":\"click1\",\"overrides\":[],\"properties\":[{\"default\":\"\",\"kind\":null,\"name\":\"terminal_output\"},{\"default\":\"\",\"kind\":null,\"name\":\"debug_name\"},{\"default\":0,\"kind\":null,\"name\":\"clears\"}]},{\"extends\":null,\"module\":null,\"name\":\"NotificationAreaBase1\",\"overrides\":[],\"properties\":[{\"default\":\"bottom-right\",\"kind\":null,\"name\":\"position\"},{\"default\":0,\"kind\":null,\"name\":\"_clear\"}]},{\"extends\":null,\"module\":null,\"name\":\"NotificationArea1\",\"overrides\":[],\"properties\":[{\"default\":[],\"kind\":null,\"name\":\"notifications\"},{\"default\":\"bottom-right\",\"kind\":null,\"name\":\"position\"},{\"default\":0,\"kind\":null,\"name\":\"_clear\"},{\"default\":[{\"background\":\"#ffc107\",\"icon\":{\"className\":\"fas fa-exclamation-triangle\",\"color\":\"white\",\"tagName\":\"i\"},\"type\":\"warning\"},{\"background\":\"#007bff\",\"icon\":{\"className\":\"fas fa-info-circle\",\"color\":\"white\",\"tagName\":\"i\"},\"type\":\"info\"}],\"kind\":null,\"name\":\"types\"}]},{\"extends\":null,\"module\":null,\"name\":\"Notification\",\"overrides\":[],\"properties\":[{\"default\":null,\"kind\":null,\"name\":\"background\"},{\"default\":3000,\"kind\":null,\"name\":\"duration\"},{\"default\":null,\"kind\":null,\"name\":\"icon\"},{\"default\":\"\",\"kind\":null,\"name\":\"message\"},{\"default\":null,\"kind\":null,\"name\":\"notification_type\"},{\"default\":false,\"kind\":null,\"name\":\"_destroyed\"}]},{\"extends\":null,\"module\":null,\"name\":\"TemplateActions1\",\"overrides\":[],\"properties\":[{\"default\":0,\"kind\":null,\"name\":\"open_modal\"},{\"default\":0,\"kind\":null,\"name\":\"close_modal\"}]},{\"extends\":null,\"module\":null,\"name\":\"MaterialTemplateActions1\",\"overrides\":[],\"properties\":[{\"default\":0,\"kind\":null,\"name\":\"open_modal\"},{\"default\":0,\"kind\":null,\"name\":\"close_modal\"}]}],\"roots\":{\"references\":[{\"attributes\":{\"source\":{\"id\":\"8080\"}},\"id\":\"8087\",\"type\":\"CDSView\"},{\"attributes\":{\"end\":6.812945338442532,\"reset_end\":6.812945338442532,\"reset_start\":-6.796693307805908,\"start\":-6.796693307805908,\"tags\":[[[\"feature_1\",\"feature_1\",null]]]},\"id\":\"7996\",\"type\":\"Range1d\"},{\"attributes\":{\"angle\":{\"value\":0.0},\"fill_alpha\":{\"value\":1.0},\"fill_color\":{\"value\":\"#e5ae38\"},\"hatch_alpha\":{\"value\":1.0},\"hatch_color\":{\"value\":\"#e5ae38\"},\"hatch_scale\":{\"value\":12.0},\"hatch_weight\":{\"value\":1.0},\"line_alpha\":{\"value\":1.0},\"line_cap\":{\"value\":\"butt\"},\"line_color\":{\"value\":\"#e5ae38\"},\"line_dash\":{\"value\":[]},\"line_dash_offset\":{\"value\":0},\"line_join\":{\"value\":\"bevel\"},\"line_width\":{\"value\":1},\"marker\":{\"value\":\"circle\"},\"size\":{\"value\":5.477225575051661},\"tags\":[\"apply_ranges\"],\"x\":{\"field\":\"feature_1\"},\"y\":{\"field\":\"feature_2\"}},\"id\":\"8103\",\"type\":\"Scatter\"},{\"attributes\":{},\"id\":\"8036\",\"type\":\"AllLabels\"},{\"attributes\":{},\"id\":\"8033\",\"type\":\"AllLabels\"},{\"attributes\":{\"below\":[{\"id\":\"8010\"}],\"center\":[{\"id\":\"8013\"},{\"id\":\"8017\"}],\"height\":300,\"left\":[{\"id\":\"8014\"}],\"margin\":[5,5,5,5],\"min_border_bottom\":10,\"min_border_left\":10,\"min_border_right\":10,\"min_border_top\":10,\"output_backend\":\"webgl\",\"renderers\":[{\"id\":\"8043\"},{\"id\":\"8064\"},{\"id\":\"8086\"}],\"right\":[{\"id\":\"8055\"}],\"sizing_mode\":\"fixed\",\"title\":{\"id\":\"8002\"},\"toolbar\":{\"id\":\"8024\"},\"width\":700,\"x_range\":{\"id\":\"7996\"},\"x_scale\":{\"id\":\"8006\"},\"y_range\":{\"id\":\"7997\"},\"y_scale\":{\"id\":\"8008\"}},\"id\":\"8001\",\"subtype\":\"Figure\",\"type\":\"Plot\"},{\"attributes\":{\"data\":{\"agglomerative_hyphen_minus_segments\":[2,2,2,2,2,2,2,2,2,2,2,2,2,2,2,2,2,2,2,2,2,2,2,2,2,2,2,2,2,2,2,2,2,2,2,2,2,2,2,2,2,2,2,2,2,2,2,2,2,2,2,2,2,2,2,2,2,2,2,2,2,2,2,2,2,2,2,2,2,2,2,2,2,2,2,2,2,2,2,2,2,2,2,2,2,2,2,2,2,2,2,2,2,2,2,2,2,2,2,2,2,2,2,2,2,2,2,2,2,2,2,2,2,2,2,2,2,2,2,2,2,2,2,2,2,2,2,2,2,2,2,2,2,2,2,2,2,2,2,2,2,2,2,2,2,2,2,2,2,2,2,2,2,2,2,2,2,2,2,2,2,2,2,2,2,2,2,2,2,2,2,2,2,2,2,2,2,2,2,2,2,2,2,2,2,2,2,2,2,2,2,2,2,2,2,2,2,2,2,2,2,2],\"feature_1\":{\"__ndarray__\":\"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\",\"dtype\":\"float64\",\"order\":\"little\",\"shape\":[202]},\"feature_2\":{\"__ndarray__\":\"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\",\"dtype\":\"float64\",\"order\":\"little\",\"shape\":[202]}},\"selected\":{\"id\":\"8081\"},\"selection_policy\":{\"id\":\"8099\"}},\"id\":\"8080\",\"type\":\"ColumnDataSource\"},{\"attributes\":{\"active_drag\":{\"id\":\"8019\"},\"active_scroll\":{\"id\":\"8020\"},\"tools\":[{\"id\":\"7998\"},{\"id\":\"8018\"},{\"id\":\"8019\"},{\"id\":\"8020\"},{\"id\":\"8021\"},{\"id\":\"8022\"}]},\"id\":\"8024\",\"type\":\"Toolbar\"},{\"attributes\":{\"fill_alpha\":{\"value\":0.2},\"fill_color\":{\"value\":\"#30a2da\"},\"hatch_alpha\":{\"value\":0.2},\"hatch_color\":{\"value\":\"#30a2da\"},\"line_alpha\":{\"value\":0.2},\"line_color\":{\"value\":\"#30a2da\"},\"size\":{\"value\":5.477225575051661},\"tags\":[\"apply_ranges\"],\"x\":{\"field\":\"feature_1\"},\"y\":{\"field\":\"feature_2\"}},\"id\":\"8042\",\"type\":\"Scatter\"},{\"attributes\":{\"callback\":null,\"renderers\":[{\"id\":\"8043\"},{\"id\":\"8064\"},{\"id\":\"8086\"}],\"tags\":[\"hv_created\"],\"tooltips\":[[\"agglomerative-segments\",\"@{agglomerative_hyphen_minus_segments}\"],[\"feature_1\",\"@{feature_1}\"],[\"feature_2\",\"@{feature_2}\"]]},\"id\":\"7998\",\"type\":\"HoverTool\"},{\"attributes\":{},\"id\":\"8099\",\"type\":\"UnionRenderers\"},{\"attributes\":{\"bottom_units\":\"screen\",\"coordinates\":null,\"fill_alpha\":0.5,\"fill_color\":\"lightgrey\",\"group\":null,\"left_units\":\"screen\",\"level\":\"overlay\",\"line_alpha\":1.0,\"line_color\":\"black\",\"line_dash\":[4,4],\"line_width\":2,\"right_units\":\"screen\",\"syncable\":false,\"top_units\":\"screen\"},\"id\":\"8023\",\"type\":\"BoxAnnotation\"},{\"attributes\":{},\"id\":\"8018\",\"type\":\"SaveTool\"},{\"attributes\":{},\"id\":\"8019\",\"type\":\"PanTool\"},{\"attributes\":{},\"id\":\"8035\",\"type\":\"BasicTickFormatter\"},{\"attributes\":{},\"id\":\"8022\",\"type\":\"ResetTool\"},{\"attributes\":{},\"id\":\"8015\",\"type\":\"BasicTicker\"},{\"attributes\":{\"end\":9.215602229847773,\"reset_end\":9.215602229847773,\"reset_start\":-5.909730475924883,\"start\":-5.909730475924883,\"tags\":[[[\"feature_2\",\"feature_2\",null]]]},\"id\":\"7997\",\"type\":\"Range1d\"},{\"attributes\":{},\"id\":\"8020\",\"type\":\"WheelZoomTool\"},{\"attributes\":{\"fill_alpha\":{\"value\":0.1},\"fill_color\":{\"value\":\"#30a2da\"},\"hatch_alpha\":{\"value\":0.1},\"hatch_color\":{\"value\":\"#30a2da\"},\"line_alpha\":{\"value\":0.1},\"line_color\":{\"value\":\"#30a2da\"},\"size\":{\"value\":5.477225575051661},\"tags\":[\"apply_ranges\"],\"x\":{\"field\":\"feature_1\"},\"y\":{\"field\":\"feature_2\"}},\"id\":\"8041\",\"type\":\"Scatter\"},{\"attributes\":{\"fill_alpha\":{\"value\":0.1},\"fill_color\":{\"value\":\"#fc4f30\"},\"hatch_alpha\":{\"value\":0.1},\"hatch_color\":{\"value\":\"#fc4f30\"},\"line_alpha\":{\"value\":0.1},\"line_color\":{\"value\":\"#fc4f30\"},\"size\":{\"value\":5.477225575051661},\"tags\":[\"apply_ranges\"],\"x\":{\"field\":\"feature_1\"},\"y\":{\"field\":\"feature_2\"}},\"id\":\"8062\",\"type\":\"Scatter\"},{\"attributes\":{\"angle\":{\"value\":0.0},\"fill_alpha\":{\"value\":1.0},\"fill_color\":{\"value\":\"#30a2da\"},\"hatch_alpha\":{\"value\":1.0},\"hatch_color\":{\"value\":\"#30a2da\"},\"hatch_scale\":{\"value\":12.0},\"hatch_weight\":{\"value\":1.0},\"line_alpha\":{\"value\":1.0},\"line_cap\":{\"value\":\"butt\"},\"line_color\":{\"value\":\"#30a2da\"},\"line_dash\":{\"value\":[]},\"line_dash_offset\":{\"value\":0},\"line_join\":{\"value\":\"bevel\"},\"line_width\":{\"value\":1},\"marker\":{\"value\":\"circle\"},\"size\":{\"value\":5.477225575051661},\"tags\":[\"apply_ranges\"],\"x\":{\"field\":\"feature_1\"},\"y\":{\"field\":\"feature_2\"}},\"id\":\"8057\",\"type\":\"Scatter\"},{\"attributes\":{\"overlay\":{\"id\":\"8023\"}},\"id\":\"8021\",\"type\":\"BoxZoomTool\"},{\"attributes\":{\"data\":{\"agglomerative_hyphen_minus_segments\":[1,1,1,1,1,1,1,1,1,1,1,1,1,1,1,1,1,1,1,1,1,1,1,1,1,1,1,1,1,1,1,1,1,1,1,1,1,1,1,1,1,1,1,1,1,1,1,1,1,1,1,1,1,1,1,1,1,1,1,1,1,1,1,1,1,1,1,1,1,1,1,1,1,1,1,1,1,1,1,1,1,1,1,1,1,1,1,1,1,1,1,1,1,1,1,1,1,1,1,1,1,1,1,1,1,1,1,1,1,1,1,1,1,1,1,1,1,1,1,1,1,1,1,1,1,1,1,1,1,1,1,1,1,1,1,1,1,1,1,1,1,1,1,1,1,1,1,1,1,1,1,1,1,1,1,1,1,1,1,1,1,1,1,1,1,1,1,1,1,1,1,1,1,1,1,1,1,1,1,1,1,1,1,1,1,1,1,1,1,1,1,1,1,1,1,1,1,1,1,1,1,1,1,1,1,1,1,1,1,1,1,1,1,1,1,1,1,1,1,1,1,1,1,1,1,1,1,1,1,1,1,1,1,1,1,1,1,1,1,1,1,1,1,1,1,1,1,1,1,1,1,1,1,1,1,1,1,1,1,1,1,1,1,1,1,1,1,1,1,1,1,1,1,1,1,1,1,1,1,1,1,1,1,1,1,1,1,1,1,1,1,1,1,1,1,1,1,1,1,1,1,1,1,1,1,1,1,1,1,1,1,1,1,1,1,1,1,1,1,1,1,1,1,1,1,1,1,1,1,1,1,1,1,1,1,1,1,1,1,1,1,1,1,1,1,1,1,1,1,1,1,1,1,1,1,1,1,1,1,1,1,1,1,1,1,1,1,1,1,1,1,1,1,1,1,1,1,1,1,1,1,1,1,1,1,1,1,1,1,1,1,1,1,1,1,1,1,1,1,1,1,1,1,1,1,1,1,1,1,1,1,1,1,1,1,1,1,1,1,1,1,1,1,1,1,1,1,1,1,1,1,1,1,1,1,1,1,1,1,1,1,1,1,1,1,1,1,1,1,1,1,1,1,1,1,1,1,1,1,1,1,1,1,1,1,1,1,1,1,1,1,1,1,1,1,1,1,1,1,1,1,1,1,1,1,1,1,1,1,1,1,1,1,1,1,1,1,1,1,1],\"feature_1\":{\"__ndarray__\":\"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\",\"dtype\":\"float64\",\"order\":\"little\",\"shape\":[500]},\"feature_2\":{\"__ndarray__\":\"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\",\"dtype\":\"float64\",\"order\":\"little\",\"shape\":[500]}},\"selected\":{\"id\":\"8059\"},\"selection_policy\":{\"id\":\"8075\"}},\"id\":\"8058\",\"type\":\"ColumnDataSource\"},{\"attributes\":{\"label\":{\"value\":\"2\"},\"renderers\":[{\"id\":\"8086\"}]},\"id\":\"8102\",\"type\":\"LegendItem\"},{\"attributes\":{},\"id\":\"8011\",\"type\":\"BasicTicker\"},{\"attributes\":{\"click_policy\":\"mute\",\"coordinates\":null,\"group\":null,\"items\":[{\"id\":\"8056\"},{\"id\":\"8078\"},{\"id\":\"8102\"}],\"location\":[0,0],\"title\":\"agglomerative-segments\"},\"id\":\"8055\",\"type\":\"Legend\"},{\"attributes\":{\"axis\":{\"id\":\"8010\"},\"coordinates\":null,\"grid_line_color\":null,\"group\":null,\"ticker\":null},\"id\":\"8013\",\"type\":\"Grid\"},{\"attributes\":{\"data\":{\"agglomerative_hyphen_minus_segments\":[0,0,0,0,0,0,0,0,0,0,0,0,0,0,0,0,0,0,0,0,0,0,0,0,0,0,0,0,0,0,0,0,0,0,0,0,0,0,0,0,0,0,0,0,0,0,0,0,0,0,0,0,0,0,0,0,0,0,0,0,0,0,0,0,0,0,0,0,0,0,0,0,0,0,0,0,0,0,0,0,0,0,0,0,0,0,0,0,0,0,0,0,0,0,0,0,0,0,0,0,0,0,0,0,0,0,0,0,0,0,0,0,0,0,0,0,0,0,0,0,0,0,0,0,0,0,0,0,0,0,0,0,0,0,0,0,0,0,0,0,0,0,0,0,0,0,0,0,0,0,0,0,0,0,0,0,0,0,0,0,0,0,0,0,0,0,0,0,0,0,0,0,0,0,0,0,0,0,0,0,0,0,0,0,0,0,0,0,0,0,0,0,0,0,0,0,0,0,0,0,0,0,0,0,0,0,0,0,0,0,0,0,0,0,0,0,0,0,0,0,0,0,0,0,0,0,0,0,0,0,0,0,0,0,0,0,0,0,0,0,0,0,0,0,0,0,0,0,0,0,0,0,0,0,0,0,0,0,0,0,0,0,0,0,0,0,0,0,0,0,0,0,0,0,0,0,0,0,0,0,0,0,0,0,0,0,0,0,0,0,0,0,0,0,0,0,0,0],\"feature_1\":{\"__ndarray__\":\"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\",\"dtype\":\"float64\",\"order\":\"little\",\"shape\":[298]},\"feature_2\":{\"__ndarray__\":\"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\",\"dtype\":\"float64\",\"order\":\"little\",\"shape\":[298]}},\"selected\":{\"id\":\"8038\"},\"selection_policy\":{\"id\":\"8052\"}},\"id\":\"8037\",\"type\":\"ColumnDataSource\"},{\"attributes\":{\"fill_color\":{\"value\":\"#30a2da\"},\"hatch_color\":{\"value\":\"#30a2da\"},\"line_color\":{\"value\":\"#30a2da\"},\"size\":{\"value\":5.477225575051661},\"tags\":[\"apply_ranges\"],\"x\":{\"field\":\"feature_1\"},\"y\":{\"field\":\"feature_2\"}},\"id\":\"8040\",\"type\":\"Scatter\"},{\"attributes\":{},\"id\":\"8006\",\"type\":\"LinearScale\"},{\"attributes\":{},\"id\":\"8052\",\"type\":\"UnionRenderers\"},{\"attributes\":{},\"id\":\"8038\",\"type\":\"Selection\"},{\"attributes\":{},\"id\":\"8075\",\"type\":\"UnionRenderers\"},{\"attributes\":{\"coordinates\":null,\"group\":null,\"text_color\":\"black\",\"text_font_size\":\"12pt\"},\"id\":\"8002\",\"type\":\"Title\"},{\"attributes\":{\"fill_alpha\":{\"value\":0.2},\"fill_color\":{\"value\":\"#e5ae38\"},\"hatch_alpha\":{\"value\":0.2},\"hatch_color\":{\"value\":\"#e5ae38\"},\"line_alpha\":{\"value\":0.2},\"line_color\":{\"value\":\"#e5ae38\"},\"size\":{\"value\":5.477225575051661},\"tags\":[\"apply_ranges\"],\"x\":{\"field\":\"feature_1\"},\"y\":{\"field\":\"feature_2\"}},\"id\":\"8085\",\"type\":\"Scatter\"},{\"attributes\":{\"label\":{\"value\":\"1\"},\"renderers\":[{\"id\":\"8064\"}]},\"id\":\"8078\",\"type\":\"LegendItem\"},{\"attributes\":{\"coordinates\":null,\"data_source\":{\"id\":\"8080\"},\"glyph\":{\"id\":\"8083\"},\"group\":null,\"hover_glyph\":null,\"muted_glyph\":{\"id\":\"8085\"},\"nonselection_glyph\":{\"id\":\"8084\"},\"selection_glyph\":{\"id\":\"8103\"},\"view\":{\"id\":\"8087\"}},\"id\":\"8086\",\"type\":\"GlyphRenderer\"},{\"attributes\":{\"angle\":{\"value\":0.0},\"fill_alpha\":{\"value\":1.0},\"fill_color\":{\"value\":\"#fc4f30\"},\"hatch_alpha\":{\"value\":1.0},\"hatch_color\":{\"value\":\"#fc4f30\"},\"hatch_scale\":{\"value\":12.0},\"hatch_weight\":{\"value\":1.0},\"line_alpha\":{\"value\":1.0},\"line_cap\":{\"value\":\"butt\"},\"line_color\":{\"value\":\"#fc4f30\"},\"line_dash\":{\"value\":[]},\"line_dash_offset\":{\"value\":0},\"line_join\":{\"value\":\"bevel\"},\"line_width\":{\"value\":1},\"marker\":{\"value\":\"circle\"},\"size\":{\"value\":5.477225575051661},\"tags\":[\"apply_ranges\"],\"x\":{\"field\":\"feature_1\"},\"y\":{\"field\":\"feature_2\"}},\"id\":\"8079\",\"type\":\"Scatter\"},{\"attributes\":{\"fill_color\":{\"value\":\"#e5ae38\"},\"hatch_color\":{\"value\":\"#e5ae38\"},\"line_color\":{\"value\":\"#e5ae38\"},\"size\":{\"value\":5.477225575051661},\"tags\":[\"apply_ranges\"],\"x\":{\"field\":\"feature_1\"},\"y\":{\"field\":\"feature_2\"}},\"id\":\"8083\",\"type\":\"Scatter\"},{\"attributes\":{\"coordinates\":null,\"data_source\":{\"id\":\"8037\"},\"glyph\":{\"id\":\"8040\"},\"group\":null,\"hover_glyph\":null,\"muted_glyph\":{\"id\":\"8042\"},\"nonselection_glyph\":{\"id\":\"8041\"},\"selection_glyph\":{\"id\":\"8057\"},\"view\":{\"id\":\"8044\"}},\"id\":\"8043\",\"type\":\"GlyphRenderer\"},{\"attributes\":{},\"id\":\"8008\",\"type\":\"LinearScale\"},{\"attributes\":{\"axis_label\":\"feature_2\",\"coordinates\":null,\"formatter\":{\"id\":\"8035\"},\"group\":null,\"major_label_policy\":{\"id\":\"8036\"},\"ticker\":{\"id\":\"8015\"}},\"id\":\"8014\",\"type\":\"LinearAxis\"},{\"attributes\":{\"source\":{\"id\":\"8058\"}},\"id\":\"8065\",\"type\":\"CDSView\"},{\"attributes\":{\"axis_label\":\"feature_1\",\"coordinates\":null,\"formatter\":{\"id\":\"8032\"},\"group\":null,\"major_label_policy\":{\"id\":\"8033\"},\"ticker\":{\"id\":\"8011\"}},\"id\":\"8010\",\"type\":\"LinearAxis\"},{\"attributes\":{},\"id\":\"8081\",\"type\":\"Selection\"},{\"attributes\":{\"fill_color\":{\"value\":\"#fc4f30\"},\"hatch_color\":{\"value\":\"#fc4f30\"},\"line_color\":{\"value\":\"#fc4f30\"},\"size\":{\"value\":5.477225575051661},\"tags\":[\"apply_ranges\"],\"x\":{\"field\":\"feature_1\"},\"y\":{\"field\":\"feature_2\"}},\"id\":\"8061\",\"type\":\"Scatter\"},{\"attributes\":{\"coordinates\":null,\"data_source\":{\"id\":\"8058\"},\"glyph\":{\"id\":\"8061\"},\"group\":null,\"hover_glyph\":null,\"muted_glyph\":{\"id\":\"8063\"},\"nonselection_glyph\":{\"id\":\"8062\"},\"selection_glyph\":{\"id\":\"8079\"},\"view\":{\"id\":\"8065\"}},\"id\":\"8064\",\"type\":\"GlyphRenderer\"},{\"attributes\":{\"source\":{\"id\":\"8037\"}},\"id\":\"8044\",\"type\":\"CDSView\"},{\"attributes\":{\"fill_alpha\":{\"value\":0.2},\"fill_color\":{\"value\":\"#fc4f30\"},\"hatch_alpha\":{\"value\":0.2},\"hatch_color\":{\"value\":\"#fc4f30\"},\"line_alpha\":{\"value\":0.2},\"line_color\":{\"value\":\"#fc4f30\"},\"size\":{\"value\":5.477225575051661},\"tags\":[\"apply_ranges\"],\"x\":{\"field\":\"feature_1\"},\"y\":{\"field\":\"feature_2\"}},\"id\":\"8063\",\"type\":\"Scatter\"},{\"attributes\":{},\"id\":\"8032\",\"type\":\"BasicTickFormatter\"},{\"attributes\":{\"axis\":{\"id\":\"8014\"},\"coordinates\":null,\"dimension\":1,\"grid_line_color\":null,\"group\":null,\"ticker\":null},\"id\":\"8017\",\"type\":\"Grid\"},{\"attributes\":{\"fill_alpha\":{\"value\":0.1},\"fill_color\":{\"value\":\"#e5ae38\"},\"hatch_alpha\":{\"value\":0.1},\"hatch_color\":{\"value\":\"#e5ae38\"},\"line_alpha\":{\"value\":0.1},\"line_color\":{\"value\":\"#e5ae38\"},\"size\":{\"value\":5.477225575051661},\"tags\":[\"apply_ranges\"],\"x\":{\"field\":\"feature_1\"},\"y\":{\"field\":\"feature_2\"}},\"id\":\"8084\",\"type\":\"Scatter\"},{\"attributes\":{},\"id\":\"8059\",\"type\":\"Selection\"},{\"attributes\":{\"label\":{\"value\":\"0\"},\"renderers\":[{\"id\":\"8043\"}]},\"id\":\"8056\",\"type\":\"LegendItem\"},{\"attributes\":{\"children\":[{\"id\":\"8001\"}],\"height\":300,\"margin\":[0,0,0,0],\"name\":\"Row07693\",\"sizing_mode\":\"fixed\",\"tags\":[\"embedded\"],\"width\":700},\"id\":\"7995\",\"type\":\"Row\"}],\"root_ids\":[\"7995\"]},\"title\":\"Bokeh Application\",\"version\":\"2.4.3\"}};\n",
       "    var render_items = [{\"docid\":\"e99e5a07-d683-4da0-9783-80ba60cdb769\",\"root_ids\":[\"7995\"],\"roots\":{\"7995\":\"8a6d059c-462d-4619-9ba7-888bc8c00731\"}}];\n",
       "    root.Bokeh.embed.embed_items_notebook(docs_json, render_items);\n",
       "    for (const render_item of render_items) {\n",
       "      for (const root_id of render_item.root_ids) {\n",
       "\tconst id_el = document.getElementById(root_id)\n",
       "\tif (id_el.children.length && (id_el.children[0].className === 'bk-root')) {\n",
       "\t  const root_el = id_el.children[0]\n",
       "\t  root_el.id = root_el.id + '-rendered'\n",
       "\t}\n",
       "      }\n",
       "    }\n",
       "  }\n",
       "  if (root.Bokeh !== undefined && root.Bokeh.Panel !== undefined) {\n",
       "    embed_document(root);\n",
       "  } else {\n",
       "    var attempts = 0;\n",
       "    var timer = setInterval(function(root) {\n",
       "      if (root.Bokeh !== undefined && root.Bokeh.Panel !== undefined) {\n",
       "        clearInterval(timer);\n",
       "        embed_document(root);\n",
       "      } else if (document.readyState == \"complete\") {\n",
       "        attempts++;\n",
       "        if (attempts > 200) {\n",
       "          clearInterval(timer);\n",
       "          console.log(\"Bokeh: ERROR: Unable to run BokehJS code because BokehJS library is missing\");\n",
       "        }\n",
       "      }\n",
       "    }, 25, root)\n",
       "  }\n",
       "})(window);</script>"
      ],
      "text/plain": [
       ":NdOverlay   [agglomerative-segments]\n",
       "   :Scatter   [feature_1]   (feature_2)"
      ]
     },
     "execution_count": 146,
     "metadata": {
      "application/vnd.holoviews_exec.v0+json": {
       "id": "7995"
      }
     },
     "output_type": "execute_result"
    }
   ],
   "source": [
    "# Plot the agglomerative clusters using the \"feature_1\" and \"feature_2\" columns\n",
    "customers_predictions_df.hvplot.scatter(\n",
    "    x=\"feature_1\",\n",
    "    y=\"feature_2\",\n",
    "    by=\"agglomerative-segments\"\n",
    ")"
   ]
  },
  {
   "cell_type": "code",
   "execution_count": 147,
   "metadata": {},
   "outputs": [
    {
     "data": {},
     "metadata": {},
     "output_type": "display_data"
    },
    {
     "data": {
      "application/vnd.holoviews_exec.v0+json": "",
      "text/html": [
       "<div id='8193'>\n",
       "  <div class=\"bk-root\" id=\"cc1bc5d4-115a-4b7a-a2c7-fa67312b7074\" data-root-id=\"8193\"></div>\n",
       "</div>\n",
       "<script type=\"application/javascript\">(function(root) {\n",
       "  function embed_document(root) {\n",
       "    var docs_json = {\"606a0934-a9fc-4d86-80e7-7e217de3256b\":{\"defs\":[{\"extends\":null,\"module\":null,\"name\":\"ReactiveHTML1\",\"overrides\":[],\"properties\":[]},{\"extends\":null,\"module\":null,\"name\":\"FlexBox1\",\"overrides\":[],\"properties\":[{\"default\":\"flex-start\",\"kind\":null,\"name\":\"align_content\"},{\"default\":\"flex-start\",\"kind\":null,\"name\":\"align_items\"},{\"default\":\"row\",\"kind\":null,\"name\":\"flex_direction\"},{\"default\":\"wrap\",\"kind\":null,\"name\":\"flex_wrap\"},{\"default\":\"flex-start\",\"kind\":null,\"name\":\"justify_content\"}]},{\"extends\":null,\"module\":null,\"name\":\"GridStack1\",\"overrides\":[],\"properties\":[{\"default\":\"warn\",\"kind\":null,\"name\":\"mode\"},{\"default\":null,\"kind\":null,\"name\":\"ncols\"},{\"default\":null,\"kind\":null,\"name\":\"nrows\"},{\"default\":true,\"kind\":null,\"name\":\"allow_resize\"},{\"default\":true,\"kind\":null,\"name\":\"allow_drag\"},{\"default\":[],\"kind\":null,\"name\":\"state\"}]},{\"extends\":null,\"module\":null,\"name\":\"click1\",\"overrides\":[],\"properties\":[{\"default\":\"\",\"kind\":null,\"name\":\"terminal_output\"},{\"default\":\"\",\"kind\":null,\"name\":\"debug_name\"},{\"default\":0,\"kind\":null,\"name\":\"clears\"}]},{\"extends\":null,\"module\":null,\"name\":\"NotificationAreaBase1\",\"overrides\":[],\"properties\":[{\"default\":\"bottom-right\",\"kind\":null,\"name\":\"position\"},{\"default\":0,\"kind\":null,\"name\":\"_clear\"}]},{\"extends\":null,\"module\":null,\"name\":\"NotificationArea1\",\"overrides\":[],\"properties\":[{\"default\":[],\"kind\":null,\"name\":\"notifications\"},{\"default\":\"bottom-right\",\"kind\":null,\"name\":\"position\"},{\"default\":0,\"kind\":null,\"name\":\"_clear\"},{\"default\":[{\"background\":\"#ffc107\",\"icon\":{\"className\":\"fas fa-exclamation-triangle\",\"color\":\"white\",\"tagName\":\"i\"},\"type\":\"warning\"},{\"background\":\"#007bff\",\"icon\":{\"className\":\"fas fa-info-circle\",\"color\":\"white\",\"tagName\":\"i\"},\"type\":\"info\"}],\"kind\":null,\"name\":\"types\"}]},{\"extends\":null,\"module\":null,\"name\":\"Notification\",\"overrides\":[],\"properties\":[{\"default\":null,\"kind\":null,\"name\":\"background\"},{\"default\":3000,\"kind\":null,\"name\":\"duration\"},{\"default\":null,\"kind\":null,\"name\":\"icon\"},{\"default\":\"\",\"kind\":null,\"name\":\"message\"},{\"default\":null,\"kind\":null,\"name\":\"notification_type\"},{\"default\":false,\"kind\":null,\"name\":\"_destroyed\"}]},{\"extends\":null,\"module\":null,\"name\":\"TemplateActions1\",\"overrides\":[],\"properties\":[{\"default\":0,\"kind\":null,\"name\":\"open_modal\"},{\"default\":0,\"kind\":null,\"name\":\"close_modal\"}]},{\"extends\":null,\"module\":null,\"name\":\"MaterialTemplateActions1\",\"overrides\":[],\"properties\":[{\"default\":0,\"kind\":null,\"name\":\"open_modal\"},{\"default\":0,\"kind\":null,\"name\":\"close_modal\"}]}],\"roots\":{\"references\":[{\"attributes\":{\"fill_alpha\":{\"value\":0.2},\"fill_color\":{\"value\":\"#fc4f30\"},\"hatch_alpha\":{\"value\":0.2},\"hatch_color\":{\"value\":\"#fc4f30\"},\"line_alpha\":{\"value\":0.2},\"line_color\":{\"value\":\"#fc4f30\"},\"size\":{\"value\":5.477225575051661},\"tags\":[\"apply_ranges\"],\"x\":{\"field\":\"feature_1\"},\"y\":{\"field\":\"feature_2\"}},\"id\":\"8261\",\"type\":\"Scatter\"},{\"attributes\":{},\"id\":\"8257\",\"type\":\"Selection\"},{\"attributes\":{},\"id\":\"8220\",\"type\":\"ResetTool\"},{\"attributes\":{\"axis\":{\"id\":\"8208\"},\"coordinates\":null,\"grid_line_color\":null,\"group\":null,\"ticker\":null},\"id\":\"8211\",\"type\":\"Grid\"},{\"attributes\":{\"source\":{\"id\":\"8278\"}},\"id\":\"8285\",\"type\":\"CDSView\"},{\"attributes\":{\"overlay\":{\"id\":\"8221\"}},\"id\":\"8219\",\"type\":\"BoxZoomTool\"},{\"attributes\":{\"fill_color\":{\"value\":\"#30a2da\"},\"hatch_color\":{\"value\":\"#30a2da\"},\"line_color\":{\"value\":\"#30a2da\"},\"size\":{\"value\":5.477225575051661},\"tags\":[\"apply_ranges\"],\"x\":{\"field\":\"feature_1\"},\"y\":{\"field\":\"feature_2\"}},\"id\":\"8238\",\"type\":\"Scatter\"},{\"attributes\":{},\"id\":\"8209\",\"type\":\"BasicTicker\"},{\"attributes\":{\"coordinates\":null,\"data_source\":{\"id\":\"8256\"},\"glyph\":{\"id\":\"8259\"},\"group\":null,\"hover_glyph\":null,\"muted_glyph\":{\"id\":\"8261\"},\"nonselection_glyph\":{\"id\":\"8260\"},\"selection_glyph\":{\"id\":\"8277\"},\"view\":{\"id\":\"8263\"}},\"id\":\"8262\",\"type\":\"GlyphRenderer\"},{\"attributes\":{\"fill_alpha\":{\"value\":0.2},\"fill_color\":{\"value\":\"#e5ae38\"},\"hatch_alpha\":{\"value\":0.2},\"hatch_color\":{\"value\":\"#e5ae38\"},\"line_alpha\":{\"value\":0.2},\"line_color\":{\"value\":\"#e5ae38\"},\"size\":{\"value\":5.477225575051661},\"tags\":[\"apply_ranges\"],\"x\":{\"field\":\"feature_1\"},\"y\":{\"field\":\"feature_2\"}},\"id\":\"8283\",\"type\":\"Scatter\"},{\"attributes\":{\"label\":{\"value\":\"2\"},\"renderers\":[{\"id\":\"8284\"}]},\"id\":\"8300\",\"type\":\"LegendItem\"},{\"attributes\":{},\"id\":\"8231\",\"type\":\"AllLabels\"},{\"attributes\":{},\"id\":\"8204\",\"type\":\"LinearScale\"},{\"attributes\":{\"fill_alpha\":{\"value\":0.1},\"fill_color\":{\"value\":\"#fc4f30\"},\"hatch_alpha\":{\"value\":0.1},\"hatch_color\":{\"value\":\"#fc4f30\"},\"line_alpha\":{\"value\":0.1},\"line_color\":{\"value\":\"#fc4f30\"},\"size\":{\"value\":5.477225575051661},\"tags\":[\"apply_ranges\"],\"x\":{\"field\":\"feature_1\"},\"y\":{\"field\":\"feature_2\"}},\"id\":\"8260\",\"type\":\"Scatter\"},{\"attributes\":{\"label\":{\"value\":\"0\"},\"renderers\":[{\"id\":\"8241\"}]},\"id\":\"8254\",\"type\":\"LegendItem\"},{\"attributes\":{\"source\":{\"id\":\"8235\"}},\"id\":\"8242\",\"type\":\"CDSView\"},{\"attributes\":{\"coordinates\":null,\"group\":null,\"text_color\":\"black\",\"text_font_size\":\"12pt\"},\"id\":\"8200\",\"type\":\"Title\"},{\"attributes\":{},\"id\":\"8206\",\"type\":\"LinearScale\"},{\"attributes\":{\"active_drag\":{\"id\":\"8217\"},\"active_scroll\":{\"id\":\"8218\"},\"tools\":[{\"id\":\"8196\"},{\"id\":\"8216\"},{\"id\":\"8217\"},{\"id\":\"8218\"},{\"id\":\"8219\"},{\"id\":\"8220\"}]},\"id\":\"8222\",\"type\":\"Toolbar\"},{\"attributes\":{\"data\":{\"birch_hyphen_minus_segments\":[1,1,1,1,1,1,1,1,1,1,1,1,1,1,1,1,1,1,1,1,1,1,1,1,1,1,1,1,1,1,1,1,1,1,1,1,1,1,1,1,1,1,1,1,1,1,1,1,1,1,1,1,1,1,1,1,1,1,1,1,1,1,1,1,1,1,1,1,1,1,1,1,1,1,1,1,1,1,1,1,1,1,1,1,1,1,1,1,1,1,1,1,1,1,1,1,1,1,1,1,1,1,1,1,1,1,1,1,1,1,1,1,1,1,1,1,1,1,1,1,1,1,1,1,1,1,1,1,1,1,1,1,1,1,1,1,1,1,1,1,1,1,1,1,1,1,1,1,1,1,1,1,1,1,1,1,1,1,1,1,1,1,1,1,1,1,1,1,1,1,1,1,1,1,1,1,1,1,1,1,1,1,1,1,1,1,1,1,1,1,1,1,1,1,1,1,1,1,1,1,1,1,1,1,1,1,1,1,1,1,1,1,1,1,1,1,1,1,1,1,1,1,1,1,1,1,1,1,1,1,1,1,1,1,1,1,1,1,1,1,1,1,1,1,1,1,1,1,1,1,1,1,1,1,1,1,1,1,1,1,1,1,1,1,1,1,1,1,1,1,1,1,1,1,1,1,1,1,1,1,1,1,1,1,1,1,1,1,1,1,1,1,1,1,1,1,1,1,1],\"feature_1\":{\"__ndarray__\":\"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\",\"dtype\":\"float64\",\"order\":\"little\",\"shape\":[299]},\"feature_2\":{\"__ndarray__\":\"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\",\"dtype\":\"float64\",\"order\":\"little\",\"shape\":[299]}},\"selected\":{\"id\":\"8257\"},\"selection_policy\":{\"id\":\"8273\"}},\"id\":\"8256\",\"type\":\"ColumnDataSource\"},{\"attributes\":{},\"id\":\"8236\",\"type\":\"Selection\"},{\"attributes\":{},\"id\":\"8297\",\"type\":\"UnionRenderers\"},{\"attributes\":{\"click_policy\":\"mute\",\"coordinates\":null,\"group\":null,\"items\":[{\"id\":\"8254\"},{\"id\":\"8276\"},{\"id\":\"8300\"}],\"location\":[0,0],\"title\":\"birch-segments\"},\"id\":\"8253\",\"type\":\"Legend\"},{\"attributes\":{\"bottom_units\":\"screen\",\"coordinates\":null,\"fill_alpha\":0.5,\"fill_color\":\"lightgrey\",\"group\":null,\"left_units\":\"screen\",\"level\":\"overlay\",\"line_alpha\":1.0,\"line_color\":\"black\",\"line_dash\":[4,4],\"line_width\":2,\"right_units\":\"screen\",\"syncable\":false,\"top_units\":\"screen\"},\"id\":\"8221\",\"type\":\"BoxAnnotation\"},{\"attributes\":{\"below\":[{\"id\":\"8208\"}],\"center\":[{\"id\":\"8211\"},{\"id\":\"8215\"}],\"height\":300,\"left\":[{\"id\":\"8212\"}],\"margin\":[5,5,5,5],\"min_border_bottom\":10,\"min_border_left\":10,\"min_border_right\":10,\"min_border_top\":10,\"output_backend\":\"webgl\",\"renderers\":[{\"id\":\"8241\"},{\"id\":\"8262\"},{\"id\":\"8284\"}],\"right\":[{\"id\":\"8253\"}],\"sizing_mode\":\"fixed\",\"title\":{\"id\":\"8200\"},\"toolbar\":{\"id\":\"8222\"},\"width\":700,\"x_range\":{\"id\":\"8194\"},\"x_scale\":{\"id\":\"8204\"},\"y_range\":{\"id\":\"8195\"},\"y_scale\":{\"id\":\"8206\"}},\"id\":\"8199\",\"subtype\":\"Figure\",\"type\":\"Plot\"},{\"attributes\":{\"axis_label\":\"feature_2\",\"coordinates\":null,\"formatter\":{\"id\":\"8233\"},\"group\":null,\"major_label_policy\":{\"id\":\"8234\"},\"ticker\":{\"id\":\"8213\"}},\"id\":\"8212\",\"type\":\"LinearAxis\"},{\"attributes\":{\"axis_label\":\"feature_1\",\"coordinates\":null,\"formatter\":{\"id\":\"8230\"},\"group\":null,\"major_label_policy\":{\"id\":\"8231\"},\"ticker\":{\"id\":\"8209\"}},\"id\":\"8208\",\"type\":\"LinearAxis\"},{\"attributes\":{\"fill_alpha\":{\"value\":0.2},\"fill_color\":{\"value\":\"#30a2da\"},\"hatch_alpha\":{\"value\":0.2},\"hatch_color\":{\"value\":\"#30a2da\"},\"line_alpha\":{\"value\":0.2},\"line_color\":{\"value\":\"#30a2da\"},\"size\":{\"value\":5.477225575051661},\"tags\":[\"apply_ranges\"],\"x\":{\"field\":\"feature_1\"},\"y\":{\"field\":\"feature_2\"}},\"id\":\"8240\",\"type\":\"Scatter\"},{\"attributes\":{\"angle\":{\"value\":0.0},\"fill_alpha\":{\"value\":1.0},\"fill_color\":{\"value\":\"#e5ae38\"},\"hatch_alpha\":{\"value\":1.0},\"hatch_color\":{\"value\":\"#e5ae38\"},\"hatch_scale\":{\"value\":12.0},\"hatch_weight\":{\"value\":1.0},\"line_alpha\":{\"value\":1.0},\"line_cap\":{\"value\":\"butt\"},\"line_color\":{\"value\":\"#e5ae38\"},\"line_dash\":{\"value\":[]},\"line_dash_offset\":{\"value\":0},\"line_join\":{\"value\":\"bevel\"},\"line_width\":{\"value\":1},\"marker\":{\"value\":\"circle\"},\"size\":{\"value\":5.477225575051661},\"tags\":[\"apply_ranges\"],\"x\":{\"field\":\"feature_1\"},\"y\":{\"field\":\"feature_2\"}},\"id\":\"8301\",\"type\":\"Scatter\"},{\"attributes\":{},\"id\":\"8273\",\"type\":\"UnionRenderers\"},{\"attributes\":{\"source\":{\"id\":\"8256\"}},\"id\":\"8263\",\"type\":\"CDSView\"},{\"attributes\":{},\"id\":\"8230\",\"type\":\"BasicTickFormatter\"},{\"attributes\":{\"axis\":{\"id\":\"8212\"},\"coordinates\":null,\"dimension\":1,\"grid_line_color\":null,\"group\":null,\"ticker\":null},\"id\":\"8215\",\"type\":\"Grid\"},{\"attributes\":{},\"id\":\"8234\",\"type\":\"AllLabels\"},{\"attributes\":{\"label\":{\"value\":\"1\"},\"renderers\":[{\"id\":\"8262\"}]},\"id\":\"8276\",\"type\":\"LegendItem\"},{\"attributes\":{\"angle\":{\"value\":0.0},\"fill_alpha\":{\"value\":1.0},\"fill_color\":{\"value\":\"#30a2da\"},\"hatch_alpha\":{\"value\":1.0},\"hatch_color\":{\"value\":\"#30a2da\"},\"hatch_scale\":{\"value\":12.0},\"hatch_weight\":{\"value\":1.0},\"line_alpha\":{\"value\":1.0},\"line_cap\":{\"value\":\"butt\"},\"line_color\":{\"value\":\"#30a2da\"},\"line_dash\":{\"value\":[]},\"line_dash_offset\":{\"value\":0},\"line_join\":{\"value\":\"bevel\"},\"line_width\":{\"value\":1},\"marker\":{\"value\":\"circle\"},\"size\":{\"value\":5.477225575051661},\"tags\":[\"apply_ranges\"],\"x\":{\"field\":\"feature_1\"},\"y\":{\"field\":\"feature_2\"}},\"id\":\"8255\",\"type\":\"Scatter\"},{\"attributes\":{\"angle\":{\"value\":0.0},\"fill_alpha\":{\"value\":1.0},\"fill_color\":{\"value\":\"#fc4f30\"},\"hatch_alpha\":{\"value\":1.0},\"hatch_color\":{\"value\":\"#fc4f30\"},\"hatch_scale\":{\"value\":12.0},\"hatch_weight\":{\"value\":1.0},\"line_alpha\":{\"value\":1.0},\"line_cap\":{\"value\":\"butt\"},\"line_color\":{\"value\":\"#fc4f30\"},\"line_dash\":{\"value\":[]},\"line_dash_offset\":{\"value\":0},\"line_join\":{\"value\":\"bevel\"},\"line_width\":{\"value\":1},\"marker\":{\"value\":\"circle\"},\"size\":{\"value\":5.477225575051661},\"tags\":[\"apply_ranges\"],\"x\":{\"field\":\"feature_1\"},\"y\":{\"field\":\"feature_2\"}},\"id\":\"8277\",\"type\":\"Scatter\"},{\"attributes\":{\"coordinates\":null,\"data_source\":{\"id\":\"8278\"},\"glyph\":{\"id\":\"8281\"},\"group\":null,\"hover_glyph\":null,\"muted_glyph\":{\"id\":\"8283\"},\"nonselection_glyph\":{\"id\":\"8282\"},\"selection_glyph\":{\"id\":\"8301\"},\"view\":{\"id\":\"8285\"}},\"id\":\"8284\",\"type\":\"GlyphRenderer\"},{\"attributes\":{\"children\":[{\"id\":\"8199\"}],\"height\":300,\"margin\":[0,0,0,0],\"name\":\"Row07888\",\"sizing_mode\":\"fixed\",\"tags\":[\"embedded\"],\"width\":700},\"id\":\"8193\",\"type\":\"Row\"},{\"attributes\":{\"fill_alpha\":{\"value\":0.1},\"fill_color\":{\"value\":\"#30a2da\"},\"hatch_alpha\":{\"value\":0.1},\"hatch_color\":{\"value\":\"#30a2da\"},\"line_alpha\":{\"value\":0.1},\"line_color\":{\"value\":\"#30a2da\"},\"size\":{\"value\":5.477225575051661},\"tags\":[\"apply_ranges\"],\"x\":{\"field\":\"feature_1\"},\"y\":{\"field\":\"feature_2\"}},\"id\":\"8239\",\"type\":\"Scatter\"},{\"attributes\":{\"end\":6.812945338442532,\"reset_end\":6.812945338442532,\"reset_start\":-6.796693307805908,\"start\":-6.796693307805908,\"tags\":[[[\"feature_1\",\"feature_1\",null]]]},\"id\":\"8194\",\"type\":\"Range1d\"},{\"attributes\":{\"coordinates\":null,\"data_source\":{\"id\":\"8235\"},\"glyph\":{\"id\":\"8238\"},\"group\":null,\"hover_glyph\":null,\"muted_glyph\":{\"id\":\"8240\"},\"nonselection_glyph\":{\"id\":\"8239\"},\"selection_glyph\":{\"id\":\"8255\"},\"view\":{\"id\":\"8242\"}},\"id\":\"8241\",\"type\":\"GlyphRenderer\"},{\"attributes\":{\"fill_color\":{\"value\":\"#fc4f30\"},\"hatch_color\":{\"value\":\"#fc4f30\"},\"line_color\":{\"value\":\"#fc4f30\"},\"size\":{\"value\":5.477225575051661},\"tags\":[\"apply_ranges\"],\"x\":{\"field\":\"feature_1\"},\"y\":{\"field\":\"feature_2\"}},\"id\":\"8259\",\"type\":\"Scatter\"},{\"attributes\":{},\"id\":\"8250\",\"type\":\"UnionRenderers\"},{\"attributes\":{},\"id\":\"8216\",\"type\":\"SaveTool\"},{\"attributes\":{\"end\":9.215602229847773,\"reset_end\":9.215602229847773,\"reset_start\":-5.909730475924883,\"start\":-5.909730475924883,\"tags\":[[[\"feature_2\",\"feature_2\",null]]]},\"id\":\"8195\",\"type\":\"Range1d\"},{\"attributes\":{\"data\":{\"birch_hyphen_minus_segments\":[0,0,0,0,0,0,0,0,0,0,0,0,0,0,0,0,0,0,0,0,0,0,0,0,0,0,0,0,0,0,0,0,0,0,0,0,0,0,0,0,0,0,0,0,0,0,0,0,0,0,0,0,0,0,0,0,0,0,0,0,0,0,0,0,0,0,0,0,0,0,0,0,0,0,0,0,0,0,0,0,0,0,0,0,0,0,0,0,0,0,0,0,0,0,0,0,0,0,0,0,0,0,0,0,0,0,0,0,0,0,0,0,0,0,0,0,0,0,0,0,0,0,0,0,0,0,0,0,0,0,0,0,0,0,0,0,0,0,0,0,0,0,0,0,0,0,0,0,0,0,0,0,0,0,0,0,0,0,0,0,0,0,0,0,0,0,0,0,0,0,0,0,0,0,0,0,0,0,0,0,0,0,0,0,0,0,0,0,0,0,0,0,0,0,0,0,0,0,0,0,0,0,0,0,0,0,0,0,0,0,0,0,0,0,0,0,0,0,0,0,0,0,0,0,0,0,0,0,0,0,0,0,0,0,0,0,0,0,0,0,0,0,0,0,0,0,0,0,0,0,0,0,0,0,0,0,0,0,0,0,0,0,0,0,0,0,0,0,0,0,0,0,0,0,0,0,0,0,0,0,0,0,0,0,0,0,0,0,0,0,0,0,0,0,0,0,0,0,0,0,0,0,0,0,0,0,0,0,0,0,0,0,0,0,0,0,0,0,0,0,0,0,0,0,0,0,0,0,0,0,0,0,0,0,0,0,0,0,0,0,0,0,0,0,0,0,0,0,0,0,0,0,0,0,0,0,0,0,0,0,0,0,0,0,0,0,0,0,0,0,0,0,0,0,0,0,0,0,0,0,0,0,0,0,0,0,0,0,0,0,0,0,0,0,0,0,0,0,0,0,0,0,0,0,0,0,0,0,0,0,0,0,0,0,0,0,0,0,0,0,0,0,0,0,0,0,0,0,0,0,0,0,0,0,0,0,0,0,0,0,0,0,0,0,0,0,0,0,0,0,0,0,0,0,0,0,0,0,0,0,0,0,0,0,0,0,0,0,0,0,0,0,0,0,0,0,0,0,0,0,0,0,0,0,0,0,0,0,0,0,0,0,0,0,0,0,0,0,0,0,0],\"feature_1\":{\"__ndarray__\":\"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\",\"dtype\":\"float64\",\"order\":\"little\",\"shape\":[501]},\"feature_2\":{\"__ndarray__\":\"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\",\"dtype\":\"float64\",\"order\":\"little\",\"shape\":[501]}},\"selected\":{\"id\":\"8236\"},\"selection_policy\":{\"id\":\"8250\"}},\"id\":\"8235\",\"type\":\"ColumnDataSource\"},{\"attributes\":{\"data\":{\"birch_hyphen_minus_segments\":[2,2,2,2,2,2,2,2,2,2,2,2,2,2,2,2,2,2,2,2,2,2,2,2,2,2,2,2,2,2,2,2,2,2,2,2,2,2,2,2,2,2,2,2,2,2,2,2,2,2,2,2,2,2,2,2,2,2,2,2,2,2,2,2,2,2,2,2,2,2,2,2,2,2,2,2,2,2,2,2,2,2,2,2,2,2,2,2,2,2,2,2,2,2,2,2,2,2,2,2,2,2,2,2,2,2,2,2,2,2,2,2,2,2,2,2,2,2,2,2,2,2,2,2,2,2,2,2,2,2,2,2,2,2,2,2,2,2,2,2,2,2,2,2,2,2,2,2,2,2,2,2,2,2,2,2,2,2,2,2,2,2,2,2,2,2,2,2,2,2,2,2,2,2,2,2,2,2,2,2,2,2,2,2,2,2,2,2,2,2,2,2,2,2,2,2,2,2,2,2],\"feature_1\":{\"__ndarray__\":\"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\",\"dtype\":\"float64\",\"order\":\"little\",\"shape\":[200]},\"feature_2\":{\"__ndarray__\":\"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\",\"dtype\":\"float64\",\"order\":\"little\",\"shape\":[200]}},\"selected\":{\"id\":\"8279\"},\"selection_policy\":{\"id\":\"8297\"}},\"id\":\"8278\",\"type\":\"ColumnDataSource\"},{\"attributes\":{\"fill_alpha\":{\"value\":0.1},\"fill_color\":{\"value\":\"#e5ae38\"},\"hatch_alpha\":{\"value\":0.1},\"hatch_color\":{\"value\":\"#e5ae38\"},\"line_alpha\":{\"value\":0.1},\"line_color\":{\"value\":\"#e5ae38\"},\"size\":{\"value\":5.477225575051661},\"tags\":[\"apply_ranges\"],\"x\":{\"field\":\"feature_1\"},\"y\":{\"field\":\"feature_2\"}},\"id\":\"8282\",\"type\":\"Scatter\"},{\"attributes\":{},\"id\":\"8217\",\"type\":\"PanTool\"},{\"attributes\":{},\"id\":\"8218\",\"type\":\"WheelZoomTool\"},{\"attributes\":{\"callback\":null,\"renderers\":[{\"id\":\"8241\"},{\"id\":\"8262\"},{\"id\":\"8284\"}],\"tags\":[\"hv_created\"],\"tooltips\":[[\"birch-segments\",\"@{birch_hyphen_minus_segments}\"],[\"feature_1\",\"@{feature_1}\"],[\"feature_2\",\"@{feature_2}\"]]},\"id\":\"8196\",\"type\":\"HoverTool\"},{\"attributes\":{},\"id\":\"8213\",\"type\":\"BasicTicker\"},{\"attributes\":{},\"id\":\"8233\",\"type\":\"BasicTickFormatter\"},{\"attributes\":{},\"id\":\"8279\",\"type\":\"Selection\"},{\"attributes\":{\"fill_color\":{\"value\":\"#e5ae38\"},\"hatch_color\":{\"value\":\"#e5ae38\"},\"line_color\":{\"value\":\"#e5ae38\"},\"size\":{\"value\":5.477225575051661},\"tags\":[\"apply_ranges\"],\"x\":{\"field\":\"feature_1\"},\"y\":{\"field\":\"feature_2\"}},\"id\":\"8281\",\"type\":\"Scatter\"}],\"root_ids\":[\"8193\"]},\"title\":\"Bokeh Application\",\"version\":\"2.4.3\"}};\n",
       "    var render_items = [{\"docid\":\"606a0934-a9fc-4d86-80e7-7e217de3256b\",\"root_ids\":[\"8193\"],\"roots\":{\"8193\":\"cc1bc5d4-115a-4b7a-a2c7-fa67312b7074\"}}];\n",
       "    root.Bokeh.embed.embed_items_notebook(docs_json, render_items);\n",
       "    for (const render_item of render_items) {\n",
       "      for (const root_id of render_item.root_ids) {\n",
       "\tconst id_el = document.getElementById(root_id)\n",
       "\tif (id_el.children.length && (id_el.children[0].className === 'bk-root')) {\n",
       "\t  const root_el = id_el.children[0]\n",
       "\t  root_el.id = root_el.id + '-rendered'\n",
       "\t}\n",
       "      }\n",
       "    }\n",
       "  }\n",
       "  if (root.Bokeh !== undefined && root.Bokeh.Panel !== undefined) {\n",
       "    embed_document(root);\n",
       "  } else {\n",
       "    var attempts = 0;\n",
       "    var timer = setInterval(function(root) {\n",
       "      if (root.Bokeh !== undefined && root.Bokeh.Panel !== undefined) {\n",
       "        clearInterval(timer);\n",
       "        embed_document(root);\n",
       "      } else if (document.readyState == \"complete\") {\n",
       "        attempts++;\n",
       "        if (attempts > 200) {\n",
       "          clearInterval(timer);\n",
       "          console.log(\"Bokeh: ERROR: Unable to run BokehJS code because BokehJS library is missing\");\n",
       "        }\n",
       "      }\n",
       "    }, 25, root)\n",
       "  }\n",
       "})(window);</script>"
      ],
      "text/plain": [
       ":NdOverlay   [birch-segments]\n",
       "   :Scatter   [feature_1]   (feature_2)"
      ]
     },
     "execution_count": 147,
     "metadata": {
      "application/vnd.holoviews_exec.v0+json": {
       "id": "8193"
      }
     },
     "output_type": "execute_result"
    }
   ],
   "source": [
    "# Plot the birch clusters using the \"feature_1\" and \"feature_2\" columns\n",
    "customers_predictions_df.hvplot.scatter(\n",
    "    x=\"feature_1\",\n",
    "    y=\"feature_2\",\n",
    "    by=\"birch-segments\"\n",
    ")"
   ]
  },
  {
   "cell_type": "code",
   "execution_count": 148,
   "metadata": {},
   "outputs": [
    {
     "data": {
      "text/html": [
       "<div>\n",
       "<style scoped>\n",
       "    .dataframe tbody tr th:only-of-type {\n",
       "        vertical-align: middle;\n",
       "    }\n",
       "\n",
       "    .dataframe tbody tr th {\n",
       "        vertical-align: top;\n",
       "    }\n",
       "\n",
       "    .dataframe thead th {\n",
       "        text-align: right;\n",
       "    }\n",
       "</style>\n",
       "<table border=\"1\" class=\"dataframe\">\n",
       "  <thead>\n",
       "    <tr style=\"text-align: right;\">\n",
       "      <th></th>\n",
       "      <th>kmeans-segments</th>\n",
       "      <th>agglomerative-segments</th>\n",
       "      <th>birch-segments</th>\n",
       "    </tr>\n",
       "  </thead>\n",
       "  <tbody>\n",
       "    <tr>\n",
       "      <th>kmeans-segments</th>\n",
       "      <td>1.000000</td>\n",
       "      <td>0.982562</td>\n",
       "      <td>0.302117</td>\n",
       "    </tr>\n",
       "    <tr>\n",
       "      <th>agglomerative-segments</th>\n",
       "      <td>0.982562</td>\n",
       "      <td>1.000000</td>\n",
       "      <td>0.308960</td>\n",
       "    </tr>\n",
       "    <tr>\n",
       "      <th>birch-segments</th>\n",
       "      <td>0.302117</td>\n",
       "      <td>0.308960</td>\n",
       "      <td>1.000000</td>\n",
       "    </tr>\n",
       "  </tbody>\n",
       "</table>\n",
       "</div>"
      ],
      "text/plain": [
       "                        kmeans-segments  agglomerative-segments  \\\n",
       "kmeans-segments                1.000000                0.982562   \n",
       "agglomerative-segments         0.982562                1.000000   \n",
       "birch-segments                 0.302117                0.308960   \n",
       "\n",
       "                        birch-segments  \n",
       "kmeans-segments               0.302117  \n",
       "agglomerative-segments        0.308960  \n",
       "birch-segments                1.000000  "
      ]
     },
     "execution_count": 148,
     "metadata": {},
     "output_type": "execute_result"
    }
   ],
   "source": [
    "customers_predictions_df[['kmeans-segments','agglomerative-segments', 'birch-segments']].corr()"
   ]
  },
  {
   "cell_type": "markdown",
   "metadata": {},
   "source": [
    "### Bonus"
   ]
  },
  {
   "cell_type": "code",
   "execution_count": 149,
   "metadata": {},
   "outputs": [
    {
     "data": {
      "text/plain": [
       "array([0, 1, 1, 0, 1, 1, 0, 0, 0, 1], dtype=int64)"
      ]
     },
     "execution_count": 149,
     "metadata": {},
     "output_type": "execute_result"
    }
   ],
   "source": [
    "# Preview the predictions for one of the algorithms\n",
    "birch_predictions[0:10]"
   ]
  },
  {
   "cell_type": "code",
   "execution_count": 150,
   "metadata": {},
   "outputs": [
    {
     "data": {
      "text/plain": [
       "array([0, 1, 1, 0, 1, 1, 0, 0, 0, 1], dtype=int64)"
      ]
     },
     "execution_count": 150,
     "metadata": {},
     "output_type": "execute_result"
    }
   ],
   "source": [
    "# Equivalently, preview the labels_ attribute for one of the algorithms\n",
    "birch_model.labels_[0:10]"
   ]
  },
  {
   "cell_type": "code",
   "execution_count": 158,
   "metadata": {},
   "outputs": [],
   "source": [
    "# Create a list to store values and the values of k\n",
    "score_kmeans = []\n",
    "score_agglomerative = []\n",
    "score_birch = []\n",
    "\n",
    "# Create a list to set the range of k values to test\n",
    "k = list(range(2, 11))"
   ]
  },
  {
   "cell_type": "code",
   "execution_count": 159,
   "metadata": {},
   "outputs": [],
   "source": [
    "from sklearn import metrics\n",
    "\n",
    "for i in k:\n",
    "    k_model = KMeans(n_clusters=i, random_state=0)\n",
    "    k_model.fit(customers_df)\n",
    "    labels = k_model.labels_\n",
    "    score = metrics.calinski_harabasz_score(customers_df, labels)    \n",
    "    score_kmeans.append(score)\n",
    "    \n",
    "    agglo_model = AgglomerativeClustering(n_clusters=i)\n",
    "    agglo_predictions = agglo_model.fit_predict(customers_df)\n",
    "    labels = agglo_model.labels_\n",
    "    score = metrics.calinski_harabasz_score(customers_df, labels)    \n",
    "    score_agglomerative.append(score)    \n",
    "    \n",
    "    birch_model = Birch(n_clusters=i)\n",
    "    birch_model.fit(customers_df)\n",
    "    labels = birch_model.labels_\n",
    "    score = metrics.calinski_harabasz_score(customers_df, labels)    \n",
    "    score_birch.append(score)"
   ]
  },
  {
   "cell_type": "code",
   "execution_count": 153,
   "metadata": {},
   "outputs": [
    {
     "data": {
      "text/plain": [
       "[803.7767901000835,\n",
       " 1197.2339591364607,\n",
       " 963.5244943567246,\n",
       " 878.984431645905,\n",
       " 781.1913330352697,\n",
       " 722.008246754843,\n",
       " 678.3825232189985,\n",
       " 638.9870291772176,\n",
       " 603.5166505532345]"
      ]
     },
     "metadata": {},
     "output_type": "display_data"
    }
   ],
   "source": [
    "display(score_kmeans)"
   ]
  },
  {
   "cell_type": "code",
   "execution_count": 154,
   "metadata": {},
   "outputs": [
    {
     "data": {
      "text/plain": [
       "[793.1761769443768,\n",
       " 1173.3765904855773,\n",
       " 920.430407435551,\n",
       " 783.1374540348882,\n",
       " 698.3124513125239,\n",
       " 642.0342150282685,\n",
       " 609.5331449471877,\n",
       " 573.5727292902812,\n",
       " 542.4260224059782]"
      ]
     },
     "execution_count": 154,
     "metadata": {},
     "output_type": "execute_result"
    }
   ],
   "source": [
    "score_agglomerative"
   ]
  },
  {
   "cell_type": "code",
   "execution_count": 155,
   "metadata": {},
   "outputs": [
    {
     "data": {
      "text/plain": [
       "[792.7549736617844,\n",
       " 1172.1940395784054,\n",
       " 905.8303632361597,\n",
       " 807.3524405928957,\n",
       " 710.299103155839,\n",
       " 650.134014299598,\n",
       " 601.7209094043105,\n",
       " 569.5499222834262,\n",
       " 533.4727554559031]"
      ]
     },
     "execution_count": 155,
     "metadata": {},
     "output_type": "execute_result"
    }
   ],
   "source": [
    "score_birch"
   ]
  },
  {
   "cell_type": "code",
   "execution_count": 160,
   "metadata": {},
   "outputs": [
    {
     "data": {
      "text/plain": [
       "[2, 3, 4, 5, 6, 7, 8, 9, 10]"
      ]
     },
     "execution_count": 160,
     "metadata": {},
     "output_type": "execute_result"
    }
   ],
   "source": [
    "k"
   ]
  },
  {
   "cell_type": "markdown",
   "metadata": {},
   "source": [
    "**Bonus Question:**If larger metric values indicate a better number of clusters, what cluster count is best? Does it vary by the algorithm selected?\n",
    "\n",
    ">**Sample Answer**: Based on each of the three lists, the highest value for each of the three algorithms appears to be at the three-cluster count. Based on this metric, two clusters would actually be sufficient to classify these customers, regardless of which of these three algorithms were used."
   ]
  },
  {
   "cell_type": "code",
   "execution_count": 88,
   "metadata": {},
   "outputs": [
    {
     "data": {},
     "metadata": {},
     "output_type": "display_data"
    },
    {
     "data": {
      "application/vnd.holoviews_exec.v0+json": "",
      "text/html": [
       "<div id='3613'>\n",
       "  <div class=\"bk-root\" id=\"509b8753-2945-4eeb-9750-67969a6b1f78\" data-root-id=\"3613\"></div>\n",
       "</div>\n",
       "<script type=\"application/javascript\">(function(root) {\n",
       "  function embed_document(root) {\n",
       "    var docs_json = {\"9962f870-6528-4abd-bf00-9f78823cc125\":{\"defs\":[{\"extends\":null,\"module\":null,\"name\":\"ReactiveHTML1\",\"overrides\":[],\"properties\":[]},{\"extends\":null,\"module\":null,\"name\":\"FlexBox1\",\"overrides\":[],\"properties\":[{\"default\":\"flex-start\",\"kind\":null,\"name\":\"align_content\"},{\"default\":\"flex-start\",\"kind\":null,\"name\":\"align_items\"},{\"default\":\"row\",\"kind\":null,\"name\":\"flex_direction\"},{\"default\":\"wrap\",\"kind\":null,\"name\":\"flex_wrap\"},{\"default\":\"flex-start\",\"kind\":null,\"name\":\"justify_content\"}]},{\"extends\":null,\"module\":null,\"name\":\"GridStack1\",\"overrides\":[],\"properties\":[{\"default\":\"warn\",\"kind\":null,\"name\":\"mode\"},{\"default\":null,\"kind\":null,\"name\":\"ncols\"},{\"default\":null,\"kind\":null,\"name\":\"nrows\"},{\"default\":true,\"kind\":null,\"name\":\"allow_resize\"},{\"default\":true,\"kind\":null,\"name\":\"allow_drag\"},{\"default\":[],\"kind\":null,\"name\":\"state\"}]},{\"extends\":null,\"module\":null,\"name\":\"click1\",\"overrides\":[],\"properties\":[{\"default\":\"\",\"kind\":null,\"name\":\"terminal_output\"},{\"default\":\"\",\"kind\":null,\"name\":\"debug_name\"},{\"default\":0,\"kind\":null,\"name\":\"clears\"}]},{\"extends\":null,\"module\":null,\"name\":\"NotificationAreaBase1\",\"overrides\":[],\"properties\":[{\"default\":\"bottom-right\",\"kind\":null,\"name\":\"position\"},{\"default\":0,\"kind\":null,\"name\":\"_clear\"}]},{\"extends\":null,\"module\":null,\"name\":\"NotificationArea1\",\"overrides\":[],\"properties\":[{\"default\":[],\"kind\":null,\"name\":\"notifications\"},{\"default\":\"bottom-right\",\"kind\":null,\"name\":\"position\"},{\"default\":0,\"kind\":null,\"name\":\"_clear\"},{\"default\":[{\"background\":\"#ffc107\",\"icon\":{\"className\":\"fas fa-exclamation-triangle\",\"color\":\"white\",\"tagName\":\"i\"},\"type\":\"warning\"},{\"background\":\"#007bff\",\"icon\":{\"className\":\"fas fa-info-circle\",\"color\":\"white\",\"tagName\":\"i\"},\"type\":\"info\"}],\"kind\":null,\"name\":\"types\"}]},{\"extends\":null,\"module\":null,\"name\":\"Notification\",\"overrides\":[],\"properties\":[{\"default\":null,\"kind\":null,\"name\":\"background\"},{\"default\":3000,\"kind\":null,\"name\":\"duration\"},{\"default\":null,\"kind\":null,\"name\":\"icon\"},{\"default\":\"\",\"kind\":null,\"name\":\"message\"},{\"default\":null,\"kind\":null,\"name\":\"notification_type\"},{\"default\":false,\"kind\":null,\"name\":\"_destroyed\"}]},{\"extends\":null,\"module\":null,\"name\":\"TemplateActions1\",\"overrides\":[],\"properties\":[{\"default\":0,\"kind\":null,\"name\":\"open_modal\"},{\"default\":0,\"kind\":null,\"name\":\"close_modal\"}]},{\"extends\":null,\"module\":null,\"name\":\"MaterialTemplateActions1\",\"overrides\":[],\"properties\":[{\"default\":0,\"kind\":null,\"name\":\"open_modal\"},{\"default\":0,\"kind\":null,\"name\":\"close_modal\"}]}],\"roots\":{\"references\":[{\"attributes\":{\"angle\":{\"value\":0.0},\"fill_alpha\":{\"value\":1.0},\"fill_color\":{\"value\":\"#30a2da\"},\"hatch_alpha\":{\"value\":1.0},\"hatch_color\":{\"value\":\"#30a2da\"},\"hatch_scale\":{\"value\":12.0},\"hatch_weight\":{\"value\":1.0},\"line_alpha\":{\"value\":1.0},\"line_cap\":{\"value\":\"butt\"},\"line_color\":{\"value\":\"#30a2da\"},\"line_dash\":{\"value\":[]},\"line_dash_offset\":{\"value\":0},\"line_join\":{\"value\":\"bevel\"},\"line_width\":{\"value\":1},\"marker\":{\"value\":\"circle\"},\"size\":{\"value\":5.477225575051661},\"tags\":[\"apply_ranges\"],\"x\":{\"field\":\"feature_1\"},\"y\":{\"field\":\"feature_2\"}},\"id\":\"3675\",\"type\":\"Scatter\"},{\"attributes\":{\"fill_alpha\":{\"value\":0.1},\"fill_color\":{\"value\":\"#30a2da\"},\"hatch_alpha\":{\"value\":0.1},\"hatch_color\":{\"value\":\"#30a2da\"},\"line_alpha\":{\"value\":0.1},\"line_color\":{\"value\":\"#30a2da\"},\"size\":{\"value\":5.477225575051661},\"tags\":[\"apply_ranges\"],\"x\":{\"field\":\"feature_1\"},\"y\":{\"field\":\"feature_2\"}},\"id\":\"3659\",\"type\":\"Scatter\"},{\"attributes\":{\"angle\":{\"value\":0.0},\"fill_alpha\":{\"value\":1.0},\"fill_color\":{\"value\":\"#e5ae38\"},\"hatch_alpha\":{\"value\":1.0},\"hatch_color\":{\"value\":\"#e5ae38\"},\"hatch_scale\":{\"value\":12.0},\"hatch_weight\":{\"value\":1.0},\"line_alpha\":{\"value\":1.0},\"line_cap\":{\"value\":\"butt\"},\"line_color\":{\"value\":\"#e5ae38\"},\"line_dash\":{\"value\":[]},\"line_dash_offset\":{\"value\":0},\"line_join\":{\"value\":\"bevel\"},\"line_width\":{\"value\":1},\"marker\":{\"value\":\"circle\"},\"size\":{\"value\":5.477225575051661},\"tags\":[\"apply_ranges\"],\"x\":{\"field\":\"feature_1\"},\"y\":{\"field\":\"feature_2\"}},\"id\":\"3721\",\"type\":\"Scatter\"},{\"attributes\":{},\"id\":\"3636\",\"type\":\"SaveTool\"},{\"attributes\":{\"source\":{\"id\":\"3698\"}},\"id\":\"3705\",\"type\":\"CDSView\"},{\"attributes\":{},\"id\":\"3637\",\"type\":\"PanTool\"},{\"attributes\":{},\"id\":\"3640\",\"type\":\"ResetTool\"},{\"attributes\":{},\"id\":\"3654\",\"type\":\"AllLabels\"},{\"attributes\":{\"bottom_units\":\"screen\",\"coordinates\":null,\"fill_alpha\":0.5,\"fill_color\":\"lightgrey\",\"group\":null,\"left_units\":\"screen\",\"level\":\"overlay\",\"line_alpha\":1.0,\"line_color\":\"black\",\"line_dash\":[4,4],\"line_width\":2,\"right_units\":\"screen\",\"syncable\":false,\"top_units\":\"screen\"},\"id\":\"3641\",\"type\":\"BoxAnnotation\"},{\"attributes\":{\"click_policy\":\"mute\",\"coordinates\":null,\"group\":null,\"items\":[{\"id\":\"3674\"},{\"id\":\"3696\"},{\"id\":\"3720\"}],\"location\":[0,0],\"title\":\"class\"},\"id\":\"3673\",\"type\":\"Legend\"},{\"attributes\":{},\"id\":\"3638\",\"type\":\"WheelZoomTool\"},{\"attributes\":{},\"id\":\"3633\",\"type\":\"BasicTicker\"},{\"attributes\":{\"label\":{\"value\":\"1\"},\"renderers\":[{\"id\":\"3682\"}]},\"id\":\"3696\",\"type\":\"LegendItem\"},{\"attributes\":{},\"id\":\"3650\",\"type\":\"BasicTickFormatter\"},{\"attributes\":{},\"id\":\"3717\",\"type\":\"UnionRenderers\"},{\"attributes\":{\"overlay\":{\"id\":\"3641\"}},\"id\":\"3639\",\"type\":\"BoxZoomTool\"},{\"attributes\":{},\"id\":\"3670\",\"type\":\"UnionRenderers\"},{\"attributes\":{\"source\":{\"id\":\"3676\"}},\"id\":\"3683\",\"type\":\"CDSView\"},{\"attributes\":{\"fill_alpha\":{\"value\":0.1},\"fill_color\":{\"value\":\"#e5ae38\"},\"hatch_alpha\":{\"value\":0.1},\"hatch_color\":{\"value\":\"#e5ae38\"},\"line_alpha\":{\"value\":0.1},\"line_color\":{\"value\":\"#e5ae38\"},\"size\":{\"value\":5.477225575051661},\"tags\":[\"apply_ranges\"],\"x\":{\"field\":\"feature_1\"},\"y\":{\"field\":\"feature_2\"}},\"id\":\"3702\",\"type\":\"Scatter\"},{\"attributes\":{},\"id\":\"3629\",\"type\":\"BasicTicker\"},{\"attributes\":{\"axis\":{\"id\":\"3628\"},\"coordinates\":null,\"grid_line_color\":null,\"group\":null,\"ticker\":null},\"id\":\"3631\",\"type\":\"Grid\"},{\"attributes\":{},\"id\":\"3624\",\"type\":\"LinearScale\"},{\"attributes\":{\"source\":{\"id\":\"3655\"}},\"id\":\"3662\",\"type\":\"CDSView\"},{\"attributes\":{\"below\":[{\"id\":\"3628\"}],\"center\":[{\"id\":\"3631\"},{\"id\":\"3635\"}],\"height\":300,\"left\":[{\"id\":\"3632\"}],\"margin\":[5,5,5,5],\"min_border_bottom\":10,\"min_border_left\":10,\"min_border_right\":10,\"min_border_top\":10,\"output_backend\":\"webgl\",\"renderers\":[{\"id\":\"3661\"},{\"id\":\"3682\"},{\"id\":\"3704\"}],\"right\":[{\"id\":\"3673\"}],\"sizing_mode\":\"fixed\",\"title\":{\"id\":\"3620\"},\"toolbar\":{\"id\":\"3642\"},\"width\":700,\"x_range\":{\"id\":\"3614\"},\"x_scale\":{\"id\":\"3624\"},\"y_range\":{\"id\":\"3615\"},\"y_scale\":{\"id\":\"3626\"}},\"id\":\"3619\",\"subtype\":\"Figure\",\"type\":\"Plot\"},{\"attributes\":{\"coordinates\":null,\"group\":null,\"text\":\"KMeans\",\"text_color\":\"black\",\"text_font_size\":\"12pt\"},\"id\":\"3620\",\"type\":\"Title\"},{\"attributes\":{\"fill_alpha\":{\"value\":0.2},\"fill_color\":{\"value\":\"#30a2da\"},\"hatch_alpha\":{\"value\":0.2},\"hatch_color\":{\"value\":\"#30a2da\"},\"line_alpha\":{\"value\":0.2},\"line_color\":{\"value\":\"#30a2da\"},\"size\":{\"value\":5.477225575051661},\"tags\":[\"apply_ranges\"],\"x\":{\"field\":\"feature_1\"},\"y\":{\"field\":\"feature_2\"}},\"id\":\"3660\",\"type\":\"Scatter\"},{\"attributes\":{\"label\":{\"value\":\"2\"},\"renderers\":[{\"id\":\"3704\"}]},\"id\":\"3720\",\"type\":\"LegendItem\"},{\"attributes\":{},\"id\":\"3626\",\"type\":\"LinearScale\"},{\"attributes\":{\"fill_color\":{\"value\":\"#30a2da\"},\"hatch_color\":{\"value\":\"#30a2da\"},\"line_color\":{\"value\":\"#30a2da\"},\"size\":{\"value\":5.477225575051661},\"tags\":[\"apply_ranges\"],\"x\":{\"field\":\"feature_1\"},\"y\":{\"field\":\"feature_2\"}},\"id\":\"3658\",\"type\":\"Scatter\"},{\"attributes\":{\"fill_color\":{\"value\":\"#e5ae38\"},\"hatch_color\":{\"value\":\"#e5ae38\"},\"line_color\":{\"value\":\"#e5ae38\"},\"size\":{\"value\":5.477225575051661},\"tags\":[\"apply_ranges\"],\"x\":{\"field\":\"feature_1\"},\"y\":{\"field\":\"feature_2\"}},\"id\":\"3701\",\"type\":\"Scatter\"},{\"attributes\":{\"axis_label\":\"feature_2\",\"coordinates\":null,\"formatter\":{\"id\":\"3653\"},\"group\":null,\"major_label_policy\":{\"id\":\"3654\"},\"ticker\":{\"id\":\"3633\"}},\"id\":\"3632\",\"type\":\"LinearAxis\"},{\"attributes\":{\"fill_color\":{\"value\":\"#fc4f30\"},\"hatch_color\":{\"value\":\"#fc4f30\"},\"line_color\":{\"value\":\"#fc4f30\"},\"size\":{\"value\":5.477225575051661},\"tags\":[\"apply_ranges\"],\"x\":{\"field\":\"feature_1\"},\"y\":{\"field\":\"feature_2\"}},\"id\":\"3679\",\"type\":\"Scatter\"},{\"attributes\":{},\"id\":\"3677\",\"type\":\"Selection\"},{\"attributes\":{\"axis_label\":\"feature_1\",\"coordinates\":null,\"formatter\":{\"id\":\"3650\"},\"group\":null,\"major_label_policy\":{\"id\":\"3651\"},\"ticker\":{\"id\":\"3629\"}},\"id\":\"3628\",\"type\":\"LinearAxis\"},{\"attributes\":{\"data\":{\"class\":[0,0,0,0,0,0,0,0,0,0,0,0,0,0,0,0,0,0,0,0,0,0,0,0,0,0,0,0,0,0,0,0,0,0,0,0,0,0,0,0,0,0,0,0,0,0,0,0,0,0,0,0,0,0,0,0,0,0,0,0,0,0,0,0,0,0,0,0,0,0,0,0,0,0,0,0,0,0,0,0,0,0,0,0,0,0,0,0,0,0,0,0,0,0,0,0,0,0,0,0,0,0,0,0,0,0,0,0,0,0,0,0,0,0,0,0,0,0,0,0,0,0,0,0,0,0,0,0,0,0,0,0,0,0,0,0,0,0,0,0,0,0,0,0,0,0,0,0,0,0,0,0,0,0,0,0,0,0,0,0,0,0,0,0,0,0,0,0,0,0,0,0,0,0,0,0,0,0,0,0,0,0,0,0,0,0,0,0,0,0,0,0,0,0,0,0,0,0,0,0,0,0,0,0,0,0,0,0,0,0,0,0,0,0,0,0,0,0,0,0,0,0,0,0,0,0,0,0,0,0,0,0,0,0,0,0,0,0,0,0,0,0,0,0,0,0,0,0,0,0,0,0,0,0,0,0,0,0,0,0,0,0,0,0,0,0,0,0,0,0,0,0,0,0,0,0,0,0,0,0,0,0,0,0,0,0,0,0,0,0,0,0,0,0],\"feature_1\":{\"__ndarray__\":\"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\",\"dtype\":\"float64\",\"order\":\"little\",\"shape\":[294]},\"feature_2\":{\"__ndarray__\":\"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\",\"dtype\":\"float64\",\"order\":\"little\",\"shape\":[294]}},\"selected\":{\"id\":\"3656\"},\"selection_policy\":{\"id\":\"3670\"}},\"id\":\"3655\",\"type\":\"ColumnDataSource\"},{\"attributes\":{\"data\":{\"class\":[2,2,2,2,2,2,2,2,2,2,2,2,2,2,2,2,2,2,2,2,2,2,2,2,2,2,2,2,2,2,2,2,2,2,2,2,2,2,2,2,2,2,2,2,2,2,2,2,2,2,2,2,2,2,2,2,2,2,2,2,2,2,2,2,2,2,2,2,2,2,2,2,2,2,2,2,2,2,2,2,2,2,2,2,2,2,2,2,2,2,2,2,2,2,2,2,2,2,2,2,2,2,2,2,2,2,2,2,2,2,2,2,2,2,2,2,2,2,2,2,2,2,2,2,2,2,2,2,2,2,2,2,2,2,2,2,2,2,2,2,2,2,2,2,2,2,2,2,2,2,2,2,2,2,2,2,2,2,2,2,2,2,2,2,2,2,2,2,2,2,2,2,2,2,2,2,2,2,2,2,2,2,2,2,2,2,2,2,2,2,2,2,2,2,2,2,2],\"feature_1\":{\"__ndarray__\":\"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\",\"dtype\":\"float64\",\"order\":\"little\",\"shape\":[197]},\"feature_2\":{\"__ndarray__\":\"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\",\"dtype\":\"float64\",\"order\":\"little\",\"shape\":[197]}},\"selected\":{\"id\":\"3699\"},\"selection_policy\":{\"id\":\"3717\"}},\"id\":\"3698\",\"type\":\"ColumnDataSource\"},{\"attributes\":{\"label\":{\"value\":\"0\"},\"renderers\":[{\"id\":\"3661\"}]},\"id\":\"3674\",\"type\":\"LegendItem\"},{\"attributes\":{},\"id\":\"3656\",\"type\":\"Selection\"},{\"attributes\":{\"end\":6.812945338442532,\"reset_end\":6.812945338442532,\"reset_start\":-6.796693307805908,\"start\":-6.796693307805908,\"tags\":[[[\"feature_1\",\"feature_1\",null]]]},\"id\":\"3614\",\"type\":\"Range1d\"},{\"attributes\":{\"axis\":{\"id\":\"3632\"},\"coordinates\":null,\"dimension\":1,\"grid_line_color\":null,\"group\":null,\"ticker\":null},\"id\":\"3635\",\"type\":\"Grid\"},{\"attributes\":{\"fill_alpha\":{\"value\":0.2},\"fill_color\":{\"value\":\"#fc4f30\"},\"hatch_alpha\":{\"value\":0.2},\"hatch_color\":{\"value\":\"#fc4f30\"},\"line_alpha\":{\"value\":0.2},\"line_color\":{\"value\":\"#fc4f30\"},\"size\":{\"value\":5.477225575051661},\"tags\":[\"apply_ranges\"],\"x\":{\"field\":\"feature_1\"},\"y\":{\"field\":\"feature_2\"}},\"id\":\"3681\",\"type\":\"Scatter\"},{\"attributes\":{\"angle\":{\"value\":0.0},\"fill_alpha\":{\"value\":1.0},\"fill_color\":{\"value\":\"#fc4f30\"},\"hatch_alpha\":{\"value\":1.0},\"hatch_color\":{\"value\":\"#fc4f30\"},\"hatch_scale\":{\"value\":12.0},\"hatch_weight\":{\"value\":1.0},\"line_alpha\":{\"value\":1.0},\"line_cap\":{\"value\":\"butt\"},\"line_color\":{\"value\":\"#fc4f30\"},\"line_dash\":{\"value\":[]},\"line_dash_offset\":{\"value\":0},\"line_join\":{\"value\":\"bevel\"},\"line_width\":{\"value\":1},\"marker\":{\"value\":\"circle\"},\"size\":{\"value\":5.477225575051661},\"tags\":[\"apply_ranges\"],\"x\":{\"field\":\"feature_1\"},\"y\":{\"field\":\"feature_2\"}},\"id\":\"3697\",\"type\":\"Scatter\"},{\"attributes\":{\"fill_alpha\":{\"value\":0.1},\"fill_color\":{\"value\":\"#fc4f30\"},\"hatch_alpha\":{\"value\":0.1},\"hatch_color\":{\"value\":\"#fc4f30\"},\"line_alpha\":{\"value\":0.1},\"line_color\":{\"value\":\"#fc4f30\"},\"size\":{\"value\":5.477225575051661},\"tags\":[\"apply_ranges\"],\"x\":{\"field\":\"feature_1\"},\"y\":{\"field\":\"feature_2\"}},\"id\":\"3680\",\"type\":\"Scatter\"},{\"attributes\":{\"fill_alpha\":{\"value\":0.2},\"fill_color\":{\"value\":\"#e5ae38\"},\"hatch_alpha\":{\"value\":0.2},\"hatch_color\":{\"value\":\"#e5ae38\"},\"line_alpha\":{\"value\":0.2},\"line_color\":{\"value\":\"#e5ae38\"},\"size\":{\"value\":5.477225575051661},\"tags\":[\"apply_ranges\"],\"x\":{\"field\":\"feature_1\"},\"y\":{\"field\":\"feature_2\"}},\"id\":\"3703\",\"type\":\"Scatter\"},{\"attributes\":{},\"id\":\"3699\",\"type\":\"Selection\"},{\"attributes\":{\"coordinates\":null,\"data_source\":{\"id\":\"3676\"},\"glyph\":{\"id\":\"3679\"},\"group\":null,\"hover_glyph\":null,\"muted_glyph\":{\"id\":\"3681\"},\"nonselection_glyph\":{\"id\":\"3680\"},\"selection_glyph\":{\"id\":\"3697\"},\"view\":{\"id\":\"3683\"}},\"id\":\"3682\",\"type\":\"GlyphRenderer\"},{\"attributes\":{},\"id\":\"3653\",\"type\":\"BasicTickFormatter\"},{\"attributes\":{\"coordinates\":null,\"data_source\":{\"id\":\"3655\"},\"glyph\":{\"id\":\"3658\"},\"group\":null,\"hover_glyph\":null,\"muted_glyph\":{\"id\":\"3660\"},\"nonselection_glyph\":{\"id\":\"3659\"},\"selection_glyph\":{\"id\":\"3675\"},\"view\":{\"id\":\"3662\"}},\"id\":\"3661\",\"type\":\"GlyphRenderer\"},{\"attributes\":{\"end\":9.215602229847773,\"reset_end\":9.215602229847773,\"reset_start\":-5.909730475924883,\"start\":-5.909730475924883,\"tags\":[[[\"feature_2\",\"feature_2\",null]]]},\"id\":\"3615\",\"type\":\"Range1d\"},{\"attributes\":{\"data\":{\"class\":[1,1,1,1,1,1,1,1,1,1,1,1,1,1,1,1,1,1,1,1,1,1,1,1,1,1,1,1,1,1,1,1,1,1,1,1,1,1,1,1,1,1,1,1,1,1,1,1,1,1,1,1,1,1,1,1,1,1,1,1,1,1,1,1,1,1,1,1,1,1,1,1,1,1,1,1,1,1,1,1,1,1,1,1,1,1,1,1,1,1,1,1,1,1,1,1,1,1,1,1,1,1,1,1,1,1,1,1,1,1,1,1,1,1,1,1,1,1,1,1,1,1,1,1,1,1,1,1,1,1,1,1,1,1,1,1,1,1,1,1,1,1,1,1,1,1,1,1,1,1,1,1,1,1,1,1,1,1,1,1,1,1,1,1,1,1,1,1,1,1,1,1,1,1,1,1,1,1,1,1,1,1,1,1,1,1,1,1,1,1,1,1,1,1,1,1,1,1,1,1,1,1,1,1,1,1,1,1,1,1,1,1,1,1,1,1,1,1,1,1,1,1,1,1,1,1,1,1,1,1,1,1,1,1,1,1,1,1,1,1,1,1,1,1,1,1,1,1,1,1,1,1,1,1,1,1,1,1,1,1,1,1,1,1,1,1,1,1,1,1,1,1,1,1,1,1,1,1,1,1,1,1,1,1,1,1,1,1,1,1,1,1,1,1,1,1,1,1,1,1,1,1,1,1,1,1,1,1,1,1,1,1,1,1,1,1,1,1,1,1,1,1,1,1,1,1,1,1,1,1,1,1,1,1,1,1,1,1,1,1,1,1,1,1,1,1,1,1,1,1,1,1,1,1,1,1,1,1,1,1,1,1,1,1,1,1,1,1,1,1,1,1,1,1,1,1,1,1,1,1,1,1,1,1,1,1,1,1,1,1,1,1,1,1,1,1,1,1,1,1,1,1,1,1,1,1,1,1,1,1,1,1,1,1,1,1,1,1,1,1,1,1,1,1,1,1,1,1,1,1,1,1,1,1,1,1,1,1,1,1,1,1,1,1,1,1,1,1,1,1,1,1,1,1,1,1,1,1,1,1,1,1,1,1,1,1,1,1,1,1,1,1,1,1,1,1,1,1,1,1,1,1,1,1,1,1,1,1,1,1,1,1,1,1,1,1,1,1,1,1,1,1,1,1,1,1,1,1,1],\"feature_1\":{\"__ndarray__\":\"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\",\"dtype\":\"float64\",\"order\":\"little\",\"shape\":[509]},\"feature_2\":{\"__ndarray__\":\"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\",\"dtype\":\"float64\",\"order\":\"little\",\"shape\":[509]}},\"selected\":{\"id\":\"3677\"},\"selection_policy\":{\"id\":\"3693\"}},\"id\":\"3676\",\"type\":\"ColumnDataSource\"},{\"attributes\":{},\"id\":\"3651\",\"type\":\"AllLabels\"},{\"attributes\":{},\"id\":\"3693\",\"type\":\"UnionRenderers\"},{\"attributes\":{\"callback\":null,\"renderers\":[{\"id\":\"3661\"},{\"id\":\"3682\"},{\"id\":\"3704\"}],\"tags\":[\"hv_created\"],\"tooltips\":[[\"class\",\"@{class}\"],[\"feature_1\",\"@{feature_1}\"],[\"feature_2\",\"@{feature_2}\"]]},\"id\":\"3616\",\"type\":\"HoverTool\"},{\"attributes\":{\"children\":[{\"id\":\"3619\"}],\"height\":300,\"margin\":[0,0,0,0],\"name\":\"Row03444\",\"sizing_mode\":\"fixed\",\"tags\":[\"embedded\"],\"width\":700},\"id\":\"3613\",\"type\":\"Row\"},{\"attributes\":{\"active_drag\":{\"id\":\"3637\"},\"active_scroll\":{\"id\":\"3638\"},\"tools\":[{\"id\":\"3616\"},{\"id\":\"3636\"},{\"id\":\"3637\"},{\"id\":\"3638\"},{\"id\":\"3639\"},{\"id\":\"3640\"}]},\"id\":\"3642\",\"type\":\"Toolbar\"},{\"attributes\":{\"coordinates\":null,\"data_source\":{\"id\":\"3698\"},\"glyph\":{\"id\":\"3701\"},\"group\":null,\"hover_glyph\":null,\"muted_glyph\":{\"id\":\"3703\"},\"nonselection_glyph\":{\"id\":\"3702\"},\"selection_glyph\":{\"id\":\"3721\"},\"view\":{\"id\":\"3705\"}},\"id\":\"3704\",\"type\":\"GlyphRenderer\"}],\"root_ids\":[\"3613\"]},\"title\":\"Bokeh Application\",\"version\":\"2.4.3\"}};\n",
       "    var render_items = [{\"docid\":\"9962f870-6528-4abd-bf00-9f78823cc125\",\"root_ids\":[\"3613\"],\"roots\":{\"3613\":\"509b8753-2945-4eeb-9750-67969a6b1f78\"}}];\n",
       "    root.Bokeh.embed.embed_items_notebook(docs_json, render_items);\n",
       "    for (const render_item of render_items) {\n",
       "      for (const root_id of render_item.root_ids) {\n",
       "\tconst id_el = document.getElementById(root_id)\n",
       "\tif (id_el.children.length && (id_el.children[0].className === 'bk-root')) {\n",
       "\t  const root_el = id_el.children[0]\n",
       "\t  root_el.id = root_el.id + '-rendered'\n",
       "\t}\n",
       "      }\n",
       "    }\n",
       "  }\n",
       "  if (root.Bokeh !== undefined && root.Bokeh.Panel !== undefined) {\n",
       "    embed_document(root);\n",
       "  } else {\n",
       "    var attempts = 0;\n",
       "    var timer = setInterval(function(root) {\n",
       "      if (root.Bokeh !== undefined && root.Bokeh.Panel !== undefined) {\n",
       "        clearInterval(timer);\n",
       "        embed_document(root);\n",
       "      } else if (document.readyState == \"complete\") {\n",
       "        attempts++;\n",
       "        if (attempts > 200) {\n",
       "          clearInterval(timer);\n",
       "          console.log(\"Bokeh: ERROR: Unable to run BokehJS code because BokehJS library is missing\");\n",
       "        }\n",
       "      }\n",
       "    }, 25, root)\n",
       "  }\n",
       "})(window);</script>"
      ],
      "text/plain": [
       ":NdOverlay   [class]\n",
       "   :Scatter   [feature_1]   (feature_2)"
      ]
     },
     "metadata": {
      "application/vnd.holoviews_exec.v0+json": {
       "id": "3613"
      }
     },
     "output_type": "display_data"
    },
    {
     "data": {},
     "metadata": {},
     "output_type": "display_data"
    },
    {
     "data": {
      "application/vnd.holoviews_exec.v0+json": "",
      "text/html": [
       "<div id='3811'>\n",
       "  <div class=\"bk-root\" id=\"eab3f009-c49a-4ea7-8db5-1ae229040e09\" data-root-id=\"3811\"></div>\n",
       "</div>\n",
       "<script type=\"application/javascript\">(function(root) {\n",
       "  function embed_document(root) {\n",
       "    var docs_json = {\"713f303a-faed-43b9-a88a-69157868e1e7\":{\"defs\":[{\"extends\":null,\"module\":null,\"name\":\"ReactiveHTML1\",\"overrides\":[],\"properties\":[]},{\"extends\":null,\"module\":null,\"name\":\"FlexBox1\",\"overrides\":[],\"properties\":[{\"default\":\"flex-start\",\"kind\":null,\"name\":\"align_content\"},{\"default\":\"flex-start\",\"kind\":null,\"name\":\"align_items\"},{\"default\":\"row\",\"kind\":null,\"name\":\"flex_direction\"},{\"default\":\"wrap\",\"kind\":null,\"name\":\"flex_wrap\"},{\"default\":\"flex-start\",\"kind\":null,\"name\":\"justify_content\"}]},{\"extends\":null,\"module\":null,\"name\":\"GridStack1\",\"overrides\":[],\"properties\":[{\"default\":\"warn\",\"kind\":null,\"name\":\"mode\"},{\"default\":null,\"kind\":null,\"name\":\"ncols\"},{\"default\":null,\"kind\":null,\"name\":\"nrows\"},{\"default\":true,\"kind\":null,\"name\":\"allow_resize\"},{\"default\":true,\"kind\":null,\"name\":\"allow_drag\"},{\"default\":[],\"kind\":null,\"name\":\"state\"}]},{\"extends\":null,\"module\":null,\"name\":\"click1\",\"overrides\":[],\"properties\":[{\"default\":\"\",\"kind\":null,\"name\":\"terminal_output\"},{\"default\":\"\",\"kind\":null,\"name\":\"debug_name\"},{\"default\":0,\"kind\":null,\"name\":\"clears\"}]},{\"extends\":null,\"module\":null,\"name\":\"NotificationAreaBase1\",\"overrides\":[],\"properties\":[{\"default\":\"bottom-right\",\"kind\":null,\"name\":\"position\"},{\"default\":0,\"kind\":null,\"name\":\"_clear\"}]},{\"extends\":null,\"module\":null,\"name\":\"NotificationArea1\",\"overrides\":[],\"properties\":[{\"default\":[],\"kind\":null,\"name\":\"notifications\"},{\"default\":\"bottom-right\",\"kind\":null,\"name\":\"position\"},{\"default\":0,\"kind\":null,\"name\":\"_clear\"},{\"default\":[{\"background\":\"#ffc107\",\"icon\":{\"className\":\"fas fa-exclamation-triangle\",\"color\":\"white\",\"tagName\":\"i\"},\"type\":\"warning\"},{\"background\":\"#007bff\",\"icon\":{\"className\":\"fas fa-info-circle\",\"color\":\"white\",\"tagName\":\"i\"},\"type\":\"info\"}],\"kind\":null,\"name\":\"types\"}]},{\"extends\":null,\"module\":null,\"name\":\"Notification\",\"overrides\":[],\"properties\":[{\"default\":null,\"kind\":null,\"name\":\"background\"},{\"default\":3000,\"kind\":null,\"name\":\"duration\"},{\"default\":null,\"kind\":null,\"name\":\"icon\"},{\"default\":\"\",\"kind\":null,\"name\":\"message\"},{\"default\":null,\"kind\":null,\"name\":\"notification_type\"},{\"default\":false,\"kind\":null,\"name\":\"_destroyed\"}]},{\"extends\":null,\"module\":null,\"name\":\"TemplateActions1\",\"overrides\":[],\"properties\":[{\"default\":0,\"kind\":null,\"name\":\"open_modal\"},{\"default\":0,\"kind\":null,\"name\":\"close_modal\"}]},{\"extends\":null,\"module\":null,\"name\":\"MaterialTemplateActions1\",\"overrides\":[],\"properties\":[{\"default\":0,\"kind\":null,\"name\":\"open_modal\"},{\"default\":0,\"kind\":null,\"name\":\"close_modal\"}]}],\"roots\":{\"references\":[{\"attributes\":{\"data\":{\"class\":[0,0,0,0,0,0,0,0,0,0,0,0,0,0,0,0,0,0,0,0,0,0,0,0,0,0,0,0,0,0,0,0,0,0,0,0,0,0,0,0,0,0,0,0,0,0,0,0,0,0,0,0,0,0,0,0,0,0,0,0,0,0,0,0,0,0,0,0,0,0,0,0,0,0,0,0,0,0,0,0,0,0,0,0,0,0,0,0,0,0,0,0,0,0,0,0,0,0,0,0,0,0,0,0,0,0,0,0,0,0,0,0,0,0,0,0,0,0,0,0,0,0,0,0,0,0,0,0,0,0,0,0,0,0,0,0,0,0,0,0,0,0,0,0,0,0,0,0,0,0,0,0,0,0,0,0,0,0,0,0,0,0,0,0,0,0,0,0,0,0,0,0,0,0,0,0,0,0,0,0,0,0,0,0,0,0,0,0,0,0,0,0,0,0,0,0,0,0,0,0,0,0,0,0,0,0,0,0,0,0,0,0,0,0,0,0,0,0,0,0,0,0,0,0,0,0,0,0,0,0,0,0,0,0,0,0,0,0,0,0,0,0,0,0,0,0,0,0,0,0,0,0,0,0,0,0,0,0,0,0,0,0,0,0,0,0,0,0,0,0,0,0,0,0,0,0,0,0,0,0,0,0,0,0,0,0,0,0,0,0,0,0,0,0,0,0,0,0,0,0,0,0,0,0,0,0,0,0,0,0,0,0,0,0,0,0,0,0,0,0,0,0,0,0,0,0,0,0,0,0,0,0,0,0,0,0,0,0,0,0,0,0,0,0,0,0,0,0,0,0,0,0,0,0,0,0,0,0,0,0,0,0,0,0,0,0,0,0,0,0,0,0,0,0,0,0,0,0,0,0,0,0,0,0,0,0,0,0,0,0,0,0,0,0,0,0,0,0,0,0,0,0,0,0,0,0,0,0,0,0,0,0,0,0,0,0,0,0,0,0,0,0,0,0,0,0,0,0,0,0,0,0,0,0,0,0,0,0,0,0,0,0,0,0,0,0,0,0,0,0,0,0,0,0,0,0,0,0,0,0,0,0,0,0,0,0,0,0,0,0,0,0,0,0,0,0,0,0,0,0,0,0,0,0,0,0,0,0,0,0,0,0,0,0,0,0,0,0,0],\"feature_1\":{\"__ndarray__\":\"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\",\"dtype\":\"float64\",\"order\":\"little\",\"shape\":[499]},\"feature_2\":{\"__ndarray__\":\"IB9njp9sEkAIRarNR5wOQM3otqD3zQJAd64lPoRQAEAoUP6rWqX6PwrKOUMFUuE/nwrMU+avBkAIEEAtbW0CQIiyvf5oYwBATJE0XF8BC0DubSXC7LgQQK/Kihm8D/Y/aZRhGSDICEDULlFNKaPjv3KXxYm/e+g/4MCpDQCBAEDCj06gQYH7P26Bv33ikfU/GNUpZT1q/z9wVFob3xMOQMdi/eUDnQ5AAhXe2B2f/T+mBgHmeCgAQGw/6gWILvY/e0RtOfDpDUDevxdhwPgAQPHdkPLOwPc/98mx94Kd37+6dbXqzr3xP98WLUjcDQBAQI4YObjtC0Dw3a+GonvjvzJqwRaPLOA/c9fFuMPG/T/vCLUssZrVP912EYfGCAhAmrBept9/BEA/YkAEsUAPQDP/QNGj7/Y/I2QRCeBI2z/y3DzXZXT1Pway/pA9e80/0TgX3NVtCEAKJm65du0OQJAoTOUOzwFAJ+wnvie4A0BXHK2E/FQAQIE2Yf3EEAdAoTJ3+IfG7j/0Wtde1qT5P9fk6pcsqQBAv6eLsRLEmj8bBduzhv7xP7PT3SEIggJAG1MB/seODEC1JgBbCQgCQOLEJttGq/O/OgHf1PbOCEB9VPdUP1kBQFq3iB/EkPU/qSCzRjfkC0AG+pXNw88JQAw4+1kn7gtAKoDTsJLrAUDpPm+8GL4ZQNjeSOUr/Q1AlxWBlts31L+QbF8YAMcLQJetnWxTqhRAE3vQabia2T8c227gJK0GQLQUZMv4zOy/Hpa+mKDnA0CYg1gR37bevyD8GfEvAABAXTZPpKnG9z8j1BN9I5EAQGg2EJkMfeQ/C+6yv3LwBkCkLx65C88FQHJaUjL8OhlA9CO+Q05f5z+qRA75IAn9P1BPMVsXlOw/rRfXLQwhwD/I8V6RI072P0RdzVWmFAVALEC0ewJ21T/G3QAzdz39P7a9jg6JTAtAkzvqXt+ABEDROZ/bB70AQOQ4OS1MA+C/7jZvq6zNAkAyVAth9zf9P541MMAA6uY/jMNEbuMmAkAZGzf/eAIEQDQaow9eWPA/MvtjeBBEDkChGTFs/iL+P6qbmR6wf+0/5k0jlLez9D+JZWhpzTUBQLWBniauF+8/Xs/mI48bAEAbxK9qtPzRP7PQdlt9e/Q/Bv6MiKf15j8Av7Jaqv/wPxXFlZC/wBhAiKbczgqZ/b+AigWH2K8JQK6ZtSVfqAhAaidzHDgK+D/YQcbGPlfhP9/L9Gb72wxA852JOMr6oL8zcJMswv//P12wcmusR+8/XlxBiJJvwD9ZC7Tby239PyOkvlHNlwtA6kklgNfS6T+4G5dUmjDFP7NnXsT7j/E/Tqn8GKdWEUBKFKvH0DLyPwmJeHPdNQFAFJ4thgJY5j8JSd+OUmMBQMDd0dWDowJAQLQXkxndyL8UUgiKbtsJwL7jOdYdm+w/EiVkSRNSC0A1a/HLJLoAQPOnvcFRL/E/RUEeuDXa/T9L6DlbnBf/PwoR9u+ysQNAHYPD0MWY8T8SprcT2okNQH/rtozNp/k/SN42vuO+9T/H0BpTMowMQOt+SVrLpf4/dF3HT6llBEDrrI9xw6gKQFKnN1qmVgRARpJT7FLz9L9gm6AoEHoKQMV4/cHA2v6/s3WpGATZ+D9qKCZScLwAwCjvT/ZGrApA3ntpmLQjEED/no+tLCoEQCX8f2sTh/0/arKu7NP6BkCfwDnmC7DTP/QkeUdgVfy/UPsq66N7AEDKS9Jr4lgTQJaUdwcaIQJAbOWh9YIjEEBbJV5NZZIGQJ0rBDNh2g1AIkeCTlKrAEDs4VenJ5r9P9YCW5Cn7+M/CAK62k039z94SY9gkgERQOgZscDrjMs/RKdaoYbUFUBi5h7iTGn+vxaK5PZg2wpAFI7yvwj8BUBWVHlItbj0P0SBsijSmwRAcm7oP2By9j8WF/ggwirwP+Azk+cMiNi/0oEg+p5h8j/QwsEbm0gBQDzHLdzAAgpA4821zEbLB0CqTOiT6Fn5P5Q5Wq1q3PE/kaAN2hWz8j8JFppP0iz4P0/ATXVcANE/qsGf58lj9j9MwFSM3DAUQB1aSxHnrgFAgj51ov7NDkD5pJFVcvANQOBOZf8IOt2/rO+A6OYi6z/BH13nsQ//P1vCbeUU0h9AQey3wCMHDUBpdGScC/T7P06Foqs/WuI/HF+K9xaeoD93TQNPlEupv0D3T1CzyvM/2G8Cv5S46D+8LQBrslMDQDQ99SFRXQ1A/glWcWCi6T+agoPSWXAMQDBfQWErfNM/FlM3+qBh9T/x99cclQH3P0KEgGJFAhRARGrRfQXC6D+M5X+4xX3TP8y8Ut+66BBAgOOVhvXL2L9UiixUP8IJQP9H23n4HP4/OgggAeZJ8T/g5KyUQrb0v6LocGs1XOw/pntEe7mLD0AROx4lKaAOQBklT8+1HgBA8IOPqUmA5b9bh70WiksDQFV9AhKdUwZA/HbeYHmoCECWcZPmIJfqP0s7uw6pO/M/DnZWoWXCFUBkTCNBIgMIQE4nlwO47OQ/WUcMoln1uT9nDzIpPHcJQJb/F7A0PQ1AjswAMHUFAEAC7Hgd5AUKQCDYli7RawpAKK1iwcyfFUC5wHNt9JsKQDOldUT5oA1AHTRelc/zDkCMdfXx5HcPQNuxXEHmXvk/GXJ1yQqwEEDysAEheC0HQO+qfa3PeA1ANqMJVUsvAkDIN4HBh4cBwOTZP2Eb/vE/wTOnNdp8E0Dh6aUMkff6P5bgRAPF6PM/rCh2BFVX9T8ExjngCT/8P+dwekwhFRRAHmrGSRY5BUA8qsUZDsn6vzY89xyqZwPA1b2J0BYKAkBWvEpNPWTvP3SpUJSvyOY/UjdvJ2G/GUBOnrfqfJn2P8hyjsUscNO/SVI/7xi0+z9GLMO0/OMCQCCxna7rV/I/JVA1mcLi9D/fwgnmgprwP84prNyVF8U/+hVwAvrZ4D88o3LwN6HnvxpUBX2MjRNAyfqUrnJOCUAhyhnG38r9P0M5/h69ge4/Bvu7eQcoAkCkOpOZTAXnP7pmJ9bDqQNAuSdhiSI9AkAgpvXbPs/yP08sJhL0xf0/wP3UoFhC37/tRjNRqr72PzYop6gNYwBA5rfMKAnw6T+IRubcfAv0PxlR3lBoxP2/5rBarXtTCEBcorloFkQHQI+Ngn9ONBBAkUBkXzexAECTXn5GENIDQBaqnGwt5wpA6XpGxv5R/z/YvvYI9c8TQFj1AAILhvE/j6aV/JMjAEA0G1a3DWsCQMRUGTY4QvM/795iVp5GDEBv/oOtZRvfvy0j4tt0G/8/3mDoJDol97/Chd3FMzoDQImlBbm1dfc/dK6WtNRR+z+KvG7yROEHQEmTRsSKfRpAYPJz4HtcFkA6NqRlNx3wv8BGmUCgFtA/M4E3A0mZ3j98zx2LZ8QKwGBXTXJ7SQtASa0UhEO0AUAOlfnQ2XnqP4DJuZjd9Q1AgA4Ty4yAD0A4jGtx6MAMQLvA7hswQvs/+CT1lotq9T9Nvy4+AGjIv5/DAo1iTvk/ohEseTWOF0Ar+a2rYF8NQF2zNpBoJhZAGAu4IrsVC0CAOVTuiTzYv/jNh1hRGdm/ANFWgIOp2z82MqsYkNoKQN9fBWM+Cdw/FtfFHQLMEkAFqTPlfKoYQDEdutcuyvw/z8zrL6ZFyL+KSu/P4FT+P/J3Pt0viuQ/jYzbOoEkAUAy6gGh5+cDQFuemmJIL/k/RlnTAXbO9D8Ad8AVieYBQPTfrq5JNQdAMNATJFAuA0AA8SDO5pjsP5DuTK193Og/v2jsAOvI+T8wQvjJxDPnP3mlo1pGEvM/3FE3psSf9T+SzTSLYaP4P3Dmhp+jKLI/c/GDCxoeAkAQLqZ2PfvmP8Jw5nIBFRNAmFFdmHM7AMA8VMGlZ1aZP9LCzWGLs/0/4lZPrtvyF0DUZCIINzkQQI4Vn5kCSADAMuOH0wajC0CUkpwPv8kTQM/xTHIvkw1AgotkhwI38D+iRS29uvXjP82BNf5pUgtAlkqEScplDECUKaLLRXTlv2CTke8/tgJAxCzbPR+07D+b0BVmnfO3P1562S9+wAhA422p/oik+T+cPP+TiS35PzLEdjgW85E/lyETlwwK+D8XizNjNCfSv5hE2t9ogghAEUuyGM01+z+M3asXYTz6P4fMbbBuZg9A+BZqaa/X8z80ECbP1MsTQExBgX4kgOw/u/AYZf7LBUDHCLUWqa/Sv7WsYF8f1fo/0ozHwQz88T90cT+HiBkRQOSoUxxFofE/xmqivdj1EkCZZ1krkyIHQJ1ifml2lwVATEMcSZs4EEBUCtIlFwj1P1P4bJceC/4/dnU4U2Cu9T98dVorExHjPyA8ERwVqPS/s2urhhHP/z9m8QOmlzAQQLf3hp8xngFA/GrqNldy4D/Gn1YKu2cMQDSYIPlxCeq/MICpQuHFCEANSUI85l0BQNHd1o8f1wNA1PATjvPh5L8Ahm/3CTcHQGMgR1t8kvU/rKiwMU6sAECIV8mCWavQv8agtppwlvC/7rcyE12s8r9q6K0HIZoGQA0Ll2v5lLw/87a1fGFuCkCojse3MGgIQKTXgxfM8eW/e39KJJAL+T/6Jo97yh70v6DvhuuttRBAvI5oO9mG+D+oOBjkOzTkv44z7flT/RFAfjDJp/jDAUDJJdP7rD3zPxE6vvdEcw5AaDUT5zyK8z+dRvd7my4BQOasqjz3o/s/E2WcE2MzAkC6SpJNlvcWQB1bbvO8Q7S//Z2W/wn5/T+PRKeI6grwPyb5LGYO//w/Om9xa8lPBECdaofflmm3v6xPbJNVnAJAQTLau8XqDUDXzpSgw0/fv9x/FXmm5wRAJpEf02JhEEBjTuqbEVwEQL1zePvlHxlAT8ro5iT02b95SLnPgXYEQMBGsjCHFgBAge1ne4HuBUAcynA3wOHUP5QRMCyNm/M/wTzvbro7AkAxUIBsNlbzP3VQ/WZFgBFArPiuYNZRA0CTSwhH/xsIQAvldGl2BPY/5hAF0AKV6T82/REuJfYRQIk9yk8A/QNAczWkKu3A3j+ThHSqalDYP9IO7vKArl2/9gG5RcsAB0Ae2hDavx0SQA6xkRzCvsO/2CdfqamAB0CoRlswWpMAQEjnRFQpOhJATEEiZk5PAUBgsUMQd0DTv271AkmDhfo/pDqRkx8ZAECcZjEFWVTzv+iDBmI6Sua/Q0y/hKivAECTBwbZeOoRQJcKwIEud6c/TroQIYCwCUDi59tcXtIJQIl5BJ5BlhBAvP+MADYXBEAgwyPHD4sQQA0Vg8g6+fw/6wT+Ioe/BEBmytK1g7sQQDJyjUp7GQNA0IHdirLBA0A=\",\"dtype\":\"float64\",\"order\":\"little\",\"shape\":[499]}},\"selected\":{\"id\":\"3854\"},\"selection_policy\":{\"id\":\"3868\"}},\"id\":\"3853\",\"type\":\"ColumnDataSource\"},{\"attributes\":{\"angle\":{\"value\":0.0},\"fill_alpha\":{\"value\":1.0},\"fill_color\":{\"value\":\"#e5ae38\"},\"hatch_alpha\":{\"value\":1.0},\"hatch_color\":{\"value\":\"#e5ae38\"},\"hatch_scale\":{\"value\":12.0},\"hatch_weight\":{\"value\":1.0},\"line_alpha\":{\"value\":1.0},\"line_cap\":{\"value\":\"butt\"},\"line_color\":{\"value\":\"#e5ae38\"},\"line_dash\":{\"value\":[]},\"line_dash_offset\":{\"value\":0},\"line_join\":{\"value\":\"bevel\"},\"line_width\":{\"value\":1},\"marker\":{\"value\":\"circle\"},\"size\":{\"value\":5.477225575051661},\"tags\":[\"apply_ranges\"],\"x\":{\"field\":\"feature_1\"},\"y\":{\"field\":\"feature_2\"}},\"id\":\"3919\",\"type\":\"Scatter\"},{\"attributes\":{\"angle\":{\"value\":0.0},\"fill_alpha\":{\"value\":1.0},\"fill_color\":{\"value\":\"#fc4f30\"},\"hatch_alpha\":{\"value\":1.0},\"hatch_color\":{\"value\":\"#fc4f30\"},\"hatch_scale\":{\"value\":12.0},\"hatch_weight\":{\"value\":1.0},\"line_alpha\":{\"value\":1.0},\"line_cap\":{\"value\":\"butt\"},\"line_color\":{\"value\":\"#fc4f30\"},\"line_dash\":{\"value\":[]},\"line_dash_offset\":{\"value\":0},\"line_join\":{\"value\":\"bevel\"},\"line_width\":{\"value\":1},\"marker\":{\"value\":\"circle\"},\"size\":{\"value\":5.477225575051661},\"tags\":[\"apply_ranges\"],\"x\":{\"field\":\"feature_1\"},\"y\":{\"field\":\"feature_2\"}},\"id\":\"3895\",\"type\":\"Scatter\"},{\"attributes\":{\"data\":{\"class\":[1,1,1,1,1,1,1,1,1,1,1,1,1,1,1,1,1,1,1,1,1,1,1,1,1,1,1,1,1,1,1,1,1,1,1,1,1,1,1,1,1,1,1,1,1,1,1,1,1,1,1,1,1,1,1,1,1,1,1,1,1,1,1,1,1,1,1,1,1,1,1,1,1,1,1,1,1,1,1,1,1,1,1,1,1,1,1,1,1,1,1,1,1,1,1,1,1,1,1,1,1,1,1,1,1,1,1,1,1,1,1,1,1,1,1,1,1,1,1,1,1,1,1,1,1,1,1,1,1,1,1,1,1,1,1,1,1,1,1,1,1,1,1,1,1,1,1,1,1,1,1,1,1,1,1,1,1,1,1,1,1,1,1,1,1,1,1,1,1,1,1,1,1,1,1,1,1,1,1,1,1,1,1,1,1,1,1,1,1,1,1,1,1,1,1,1,1,1,1,1,1,1,1,1,1,1,1,1,1,1,1,1,1,1,1,1,1,1,1,1,1,1,1,1,1,1,1,1,1,1,1,1,1,1,1,1,1,1,1,1,1,1,1,1,1,1,1,1,1,1,1,1,1,1,1,1,1,1,1,1,1,1,1,1,1,1,1,1,1,1,1,1,1,1,1,1,1,1,1,1,1,1,1,1,1,1,1,1,1,1,1,1,1,1,1,1,1,1,1],\"feature_1\":{\"__ndarray__\":\"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\",\"dtype\":\"float64\",\"order\":\"little\",\"shape\":[299]},\"feature_2\":{\"__ndarray__\":\"AkWHEKZo+r+QP8gNYGrsv+ygiupM//S/fdM6fBG0/79Kr5rUDJPwv9Y50zwj+vW/3QchHhGFAsDxnXVOgUX1v7At1Tqgo/+/27N4emi0A8Cl/oTUqEoDwLM39ZtrhALAcel4VBCk9b+5AYGmp1wAwIjCJpH6xwXAh0h+c96YEsD8LpzJyin/vy4gGAmmus+/bqvT7k0VAsBmgVeLMOzgv0BtM6Nupt2/XnVacxgy6b9lYeIxo4/9vz/0hzDWdwPAZjISKDLXBMDjkLI8k3AAwJ1wMI7yAPC/4ABPnDDX779c/7srglPiv2TzFNr8PgXASn7rl6iBAcBPyHwM673fP14AumZ2xxHAihKJasOHBMDDAKujnur6v5H9qMQKcPu/z520zQo00z/AcHZdWzXzv2ZW3d4gKva/6HWAcxmr4L80rt7x/pAGwL7YzlMPgfi/sjU+ynIrBcCHNDqsXIHFvzdfJfTIkPa/4pufiJrlCcA7THLfd3T7vyTvTOEj9ADADq6r+suhCMBKq2Gw5jEQwOpT3exF1QrAQQuZulWv/r/q8dU61B0DwDbDcPLbW/O/ITSjiwPvB8DA5IEmK1ThvwMR/AO1a/y/YOgAKrw+8r8Y0WrhzJX2vyvR5dQZdPW/BBvgUMEi67+qBNqGbY8KwD/N+AM/gAHASB+vemIR2T+CBcciB84JwEBSQTcCFwrAulRzq0KF8r8GRzwEDvgKwHKvzxC8zwbA1KBRtC2Qj7/TTu360cIBwMB+WGbOPQDAMoLM3Q0D8b+PeoHObCj1v8lJh1pw8Pi/T7mC4WGFsr8zPEiMg6jcvwn+OWD3Av+/NMvyR9aB5b+1PiDpynAAwFwCstSaRwjAhFwelBGNDMDmXABNa8fvvyT7eiFOnA7ACs8RhqlgBsCAKa4gLi3/v9q8r+P1zwjALxX4wamgAMBtvxbgX4b9v9uzG2UOaQbA1KLSfkkD2L8i14VuN2n/v0R4B2ypxgLAZ0CMtgqjBcCwWKHDs78JwNrIT3Km2AfA5w4n/kuR9L9fOJdkJqrtv43PyvP4p/m/CtNPChg1BMC8wkA94Kn3vyDhS68+qQnABMrBSMoFBMCDXSZJqUjVv9H5JMzkOvm/timHFc2A+r/6a0JqMKAAwO0cvPhdQQDAJ4DdSNVzC8C//QTWPZP+v/xHXzcpagLA3hICl5tssT/yDEDrld/4vyLb5+WXQgXAm02jUce487+kSete48cMwJcTWU+7etS/Miixn3bZAMBg1aEJB5T/v+c4hUQaOPC/NgtpFrCP+b9qY6s0dFu4v2Thwx6MBfa/8AmIqGeABsBwmKOtNKzpv/osOu+gVQHA98TmuOd//L8cKKkUKt4FwAgrZU0zKQLAL4APOq6GA8DrMRVtR0D2v1X3fz4IhQLAdkgqpBGCB8Bu6TVWsqXwv5GG1TnyYvi/U+2dCsHD078Xe5ntp0sHwNxaAcEhoOq/d7uOrzftB8CWWUYK60r8v2CJwmncYwPAzo4j0yksB8DMz+Wpr20EwM/n2HsJxso/1WJTG7Cf+786YD7m7pDjv8XSQ63KzQXAQ47a2UTWAcAy+VRVIwT9v3tRTBuryA3A0ExskF8J778suhyuKHbZvyeVYej3VPI/MZsc3xpEAcDscLwKJHcIwM7SCPjhvO2/1blWNBL19b9bXE3AGBYAwByeBOCF0O6/yCqRPbRVD8DvZtjfmm8EwLrvbAzuIgTAOJPjx6Lo9b+aMWq5YXX4vxy4Rqs1jAjAp0uyh9dZBcDzefPeKY/1vxTx+D/zUua/3r2bYG5+/r8gCD1lgBn5vyDnfeB6CPO/AVFaQHhC8788KJp+OXj+v+jRRYfBUve/Vlj+GoHS5L92lMJ8dSH3v0ptzGDYIeu/yQpw+7xlAsA9aTrxvVcBwCtC7uWZC9u/ZWiK925IA8Bej4wv7NkAwJds00UJ+QDADNkUXD608L/OfMEUTx26v2WqyI/bi/q/E24efZK/+78nEhSDtxDPv6j3TsOTUPK/NCONDqKyCcBAh4lXa/TYvwEIp7yqOf6/wpfd80e7EMD6GJS6IjUBwPQCBFiJewrA77ckaXpTAMAn69Kyckr7vwn7yZMc7QPANxVeH4KJAMB1XwBpHAsKwNgZVykAkALAUh5UyJcZCMDsLWOZf+z0v6QXLNaIR/m/s8BdXT8zBsAzkqhflbXyv+elwsjBBAPAvV3u5FDf+r8TpDZxcjUMwPyryuoAoP+/OMwTlEtW9r/uuSes24YHwAicbGUCqvm/hz6J3w7TAcAuIu5BHFbzv2oY2LjqZAXAPFKaZbqt87/4AnIiagDpv/r7eV5Zm/m/etHf5xOf/L9YYLzFplirvzB1A/DCq9i/2PDqzGLD978AOsD6/zb5v7Si4n1XdgHA1+9BcaG8AMC8A1942w35v1vKJpBLw/+/CfapK+taAsAfS+W1Awr+v6PEEKy9uAPAt2ZZyub18b86Tf4dBU8PwCDnseISjOy//hbA8zgfwL/p1XuOEjQBwJT6v9tlqtq/1kg58jCv979r2zYpe/wCwEuTKS/QiPy/YNMDx/u/CsCUieaGpAv8v9WREwz7YP+//YbuJNr4+r9X4mlxnrMAwDhWZiIJx+O/vRstC+0g/r9VPzdAuTcKwHfftz9PdwTA2jmKLwhPA8DP/nuFpWwGwA9HYw8siNK/31Ob1hEGA8DIKLYD2on1v/abksLmjA3AUlrtevYvCcA2eTOr97gAwEDUfr33xgHAX5g6g5zzyj9fZjrQhGAHwCQMab06KPS/40rM4rPqBsDFFVxPFA8CwByD6tBQJAfAOcB79mRF9b+jcAJ//hr4vzXMqN8zSQPA1pC6FUbUAsDJab9xrJoCwLK5IuEabAXAQ1vM20bhBsBOsz74xJcJwJKtRydLRf+/AZrmRAuTAMC7t35cKazxv8//+bNF5fO/oXZ0d9YIDMAp0x5m8PUOwAnavzPgkQXAxOIWlC8rDcDCUza8qQ4AwO34Tux2ewfAfwDQXUQy/r+/JZQtSjgQwAFrzUw6rgDA/hVkVwTVzr8vapikFILFv1xj4RRZMgHApDt3nwfWAMBQByEZtCkQwHMLIkQQ7di/HNYrSKHB8r9wfStXRzMFwJIhTSs15vi/y60RbEBs8b+8dnJLASAFwOabzb3+7APA0qhU4R0pBsAmSOeY4xsQwA==\",\"dtype\":\"float64\",\"order\":\"little\",\"shape\":[299]}},\"selected\":{\"id\":\"3875\"},\"selection_policy\":{\"id\":\"3891\"}},\"id\":\"3874\",\"type\":\"ColumnDataSource\"},{\"attributes\":{\"end\":9.215602229847773,\"reset_end\":9.215602229847773,\"reset_start\":-5.909730475924883,\"start\":-5.909730475924883,\"tags\":[[[\"feature_2\",\"feature_2\",null]]]},\"id\":\"3813\",\"type\":\"Range1d\"},{\"attributes\":{\"end\":6.812945338442532,\"reset_end\":6.812945338442532,\"reset_start\":-6.796693307805908,\"start\":-6.796693307805908,\"tags\":[[[\"feature_1\",\"feature_1\",null]]]},\"id\":\"3812\",\"type\":\"Range1d\"},{\"attributes\":{\"source\":{\"id\":\"3853\"}},\"id\":\"3860\",\"type\":\"CDSView\"},{\"attributes\":{\"fill_color\":{\"value\":\"#e5ae38\"},\"hatch_color\":{\"value\":\"#e5ae38\"},\"line_color\":{\"value\":\"#e5ae38\"},\"size\":{\"value\":5.477225575051661},\"tags\":[\"apply_ranges\"],\"x\":{\"field\":\"feature_1\"},\"y\":{\"field\":\"feature_2\"}},\"id\":\"3899\",\"type\":\"Scatter\"},{\"attributes\":{\"label\":{\"value\":\"1\"},\"renderers\":[{\"id\":\"3880\"}]},\"id\":\"3894\",\"type\":\"LegendItem\"},{\"attributes\":{\"fill_alpha\":{\"value\":0.2},\"fill_color\":{\"value\":\"#30a2da\"},\"hatch_alpha\":{\"value\":0.2},\"hatch_color\":{\"value\":\"#30a2da\"},\"line_alpha\":{\"value\":0.2},\"line_color\":{\"value\":\"#30a2da\"},\"size\":{\"value\":5.477225575051661},\"tags\":[\"apply_ranges\"],\"x\":{\"field\":\"feature_1\"},\"y\":{\"field\":\"feature_2\"}},\"id\":\"3858\",\"type\":\"Scatter\"},{\"attributes\":{},\"id\":\"3868\",\"type\":\"UnionRenderers\"},{\"attributes\":{\"active_drag\":{\"id\":\"3835\"},\"active_scroll\":{\"id\":\"3836\"},\"tools\":[{\"id\":\"3814\"},{\"id\":\"3834\"},{\"id\":\"3835\"},{\"id\":\"3836\"},{\"id\":\"3837\"},{\"id\":\"3838\"}]},\"id\":\"3840\",\"type\":\"Toolbar\"},{\"attributes\":{\"fill_alpha\":{\"value\":0.1},\"fill_color\":{\"value\":\"#e5ae38\"},\"hatch_alpha\":{\"value\":0.1},\"hatch_color\":{\"value\":\"#e5ae38\"},\"line_alpha\":{\"value\":0.1},\"line_color\":{\"value\":\"#e5ae38\"},\"size\":{\"value\":5.477225575051661},\"tags\":[\"apply_ranges\"],\"x\":{\"field\":\"feature_1\"},\"y\":{\"field\":\"feature_2\"}},\"id\":\"3900\",\"type\":\"Scatter\"},{\"attributes\":{\"bottom_units\":\"screen\",\"coordinates\":null,\"fill_alpha\":0.5,\"fill_color\":\"lightgrey\",\"group\":null,\"left_units\":\"screen\",\"level\":\"overlay\",\"line_alpha\":1.0,\"line_color\":\"black\",\"line_dash\":[4,4],\"line_width\":2,\"right_units\":\"screen\",\"syncable\":false,\"top_units\":\"screen\"},\"id\":\"3839\",\"type\":\"BoxAnnotation\"},{\"attributes\":{},\"id\":\"3834\",\"type\":\"SaveTool\"},{\"attributes\":{},\"id\":\"3854\",\"type\":\"Selection\"},{\"attributes\":{\"below\":[{\"id\":\"3826\"}],\"center\":[{\"id\":\"3829\"},{\"id\":\"3833\"}],\"height\":300,\"left\":[{\"id\":\"3830\"}],\"margin\":[5,5,5,5],\"min_border_bottom\":10,\"min_border_left\":10,\"min_border_right\":10,\"min_border_top\":10,\"output_backend\":\"webgl\",\"renderers\":[{\"id\":\"3859\"},{\"id\":\"3880\"},{\"id\":\"3902\"}],\"right\":[{\"id\":\"3871\"}],\"sizing_mode\":\"fixed\",\"title\":{\"id\":\"3818\"},\"toolbar\":{\"id\":\"3840\"},\"width\":700,\"x_range\":{\"id\":\"3812\"},\"x_scale\":{\"id\":\"3822\"},\"y_range\":{\"id\":\"3813\"},\"y_scale\":{\"id\":\"3824\"}},\"id\":\"3817\",\"subtype\":\"Figure\",\"type\":\"Plot\"},{\"attributes\":{},\"id\":\"3835\",\"type\":\"PanTool\"},{\"attributes\":{},\"id\":\"3897\",\"type\":\"Selection\"},{\"attributes\":{\"source\":{\"id\":\"3896\"}},\"id\":\"3903\",\"type\":\"CDSView\"},{\"attributes\":{},\"id\":\"3838\",\"type\":\"ResetTool\"},{\"attributes\":{},\"id\":\"3849\",\"type\":\"AllLabels\"},{\"attributes\":{},\"id\":\"3836\",\"type\":\"WheelZoomTool\"},{\"attributes\":{},\"id\":\"3831\",\"type\":\"BasicTicker\"},{\"attributes\":{\"fill_alpha\":{\"value\":0.1},\"fill_color\":{\"value\":\"#30a2da\"},\"hatch_alpha\":{\"value\":0.1},\"hatch_color\":{\"value\":\"#30a2da\"},\"line_alpha\":{\"value\":0.1},\"line_color\":{\"value\":\"#30a2da\"},\"size\":{\"value\":5.477225575051661},\"tags\":[\"apply_ranges\"],\"x\":{\"field\":\"feature_1\"},\"y\":{\"field\":\"feature_2\"}},\"id\":\"3857\",\"type\":\"Scatter\"},{\"attributes\":{\"source\":{\"id\":\"3874\"}},\"id\":\"3881\",\"type\":\"CDSView\"},{\"attributes\":{\"overlay\":{\"id\":\"3839\"}},\"id\":\"3837\",\"type\":\"BoxZoomTool\"},{\"attributes\":{},\"id\":\"3891\",\"type\":\"UnionRenderers\"},{\"attributes\":{\"fill_alpha\":{\"value\":0.2},\"fill_color\":{\"value\":\"#fc4f30\"},\"hatch_alpha\":{\"value\":0.2},\"hatch_color\":{\"value\":\"#fc4f30\"},\"line_alpha\":{\"value\":0.2},\"line_color\":{\"value\":\"#fc4f30\"},\"size\":{\"value\":5.477225575051661},\"tags\":[\"apply_ranges\"],\"x\":{\"field\":\"feature_1\"},\"y\":{\"field\":\"feature_2\"}},\"id\":\"3879\",\"type\":\"Scatter\"},{\"attributes\":{\"callback\":null,\"renderers\":[{\"id\":\"3859\"},{\"id\":\"3880\"},{\"id\":\"3902\"}],\"tags\":[\"hv_created\"],\"tooltips\":[[\"class\",\"@{class}\"],[\"feature_1\",\"@{feature_1}\"],[\"feature_2\",\"@{feature_2}\"]]},\"id\":\"3814\",\"type\":\"HoverTool\"},{\"attributes\":{},\"id\":\"3851\",\"type\":\"BasicTickFormatter\"},{\"attributes\":{},\"id\":\"3827\",\"type\":\"BasicTicker\"},{\"attributes\":{\"click_policy\":\"mute\",\"coordinates\":null,\"group\":null,\"items\":[{\"id\":\"3872\"},{\"id\":\"3894\"},{\"id\":\"3918\"}],\"location\":[0,0],\"title\":\"class\"},\"id\":\"3871\",\"type\":\"Legend\"},{\"attributes\":{\"axis\":{\"id\":\"3826\"},\"coordinates\":null,\"grid_line_color\":null,\"group\":null,\"ticker\":null},\"id\":\"3829\",\"type\":\"Grid\"},{\"attributes\":{},\"id\":\"3822\",\"type\":\"LinearScale\"},{\"attributes\":{\"coordinates\":null,\"group\":null,\"text\":\"Birch\",\"text_color\":\"black\",\"text_font_size\":\"12pt\"},\"id\":\"3818\",\"type\":\"Title\"},{\"attributes\":{\"label\":{\"value\":\"0\"},\"renderers\":[{\"id\":\"3859\"}]},\"id\":\"3872\",\"type\":\"LegendItem\"},{\"attributes\":{\"children\":[{\"id\":\"3817\"}],\"height\":300,\"margin\":[0,0,0,0],\"name\":\"Row03637\",\"sizing_mode\":\"fixed\",\"tags\":[\"embedded\"],\"width\":700},\"id\":\"3811\",\"type\":\"Row\"},{\"attributes\":{},\"id\":\"3824\",\"type\":\"LinearScale\"},{\"attributes\":{\"coordinates\":null,\"data_source\":{\"id\":\"3853\"},\"glyph\":{\"id\":\"3856\"},\"group\":null,\"hover_glyph\":null,\"muted_glyph\":{\"id\":\"3858\"},\"nonselection_glyph\":{\"id\":\"3857\"},\"selection_glyph\":{\"id\":\"3873\"},\"view\":{\"id\":\"3860\"}},\"id\":\"3859\",\"type\":\"GlyphRenderer\"},{\"attributes\":{\"angle\":{\"value\":0.0},\"fill_alpha\":{\"value\":1.0},\"fill_color\":{\"value\":\"#30a2da\"},\"hatch_alpha\":{\"value\":1.0},\"hatch_color\":{\"value\":\"#30a2da\"},\"hatch_scale\":{\"value\":12.0},\"hatch_weight\":{\"value\":1.0},\"line_alpha\":{\"value\":1.0},\"line_cap\":{\"value\":\"butt\"},\"line_color\":{\"value\":\"#30a2da\"},\"line_dash\":{\"value\":[]},\"line_dash_offset\":{\"value\":0},\"line_join\":{\"value\":\"bevel\"},\"line_width\":{\"value\":1},\"marker\":{\"value\":\"circle\"},\"size\":{\"value\":5.477225575051661},\"tags\":[\"apply_ranges\"],\"x\":{\"field\":\"feature_1\"},\"y\":{\"field\":\"feature_2\"}},\"id\":\"3873\",\"type\":\"Scatter\"},{\"attributes\":{\"axis_label\":\"feature_2\",\"coordinates\":null,\"formatter\":{\"id\":\"3851\"},\"group\":null,\"major_label_policy\":{\"id\":\"3852\"},\"ticker\":{\"id\":\"3831\"}},\"id\":\"3830\",\"type\":\"LinearAxis\"},{\"attributes\":{\"data\":{\"class\":[2,2,2,2,2,2,2,2,2,2,2,2,2,2,2,2,2,2,2,2,2,2,2,2,2,2,2,2,2,2,2,2,2,2,2,2,2,2,2,2,2,2,2,2,2,2,2,2,2,2,2,2,2,2,2,2,2,2,2,2,2,2,2,2,2,2,2,2,2,2,2,2,2,2,2,2,2,2,2,2,2,2,2,2,2,2,2,2,2,2,2,2,2,2,2,2,2,2,2,2,2,2,2,2,2,2,2,2,2,2,2,2,2,2,2,2,2,2,2,2,2,2,2,2,2,2,2,2,2,2,2,2,2,2,2,2,2,2,2,2,2,2,2,2,2,2,2,2,2,2,2,2,2,2,2,2,2,2,2,2,2,2,2,2,2,2,2,2,2,2,2,2,2,2,2,2,2,2,2,2,2,2,2,2,2,2,2,2,2,2,2,2,2,2,2,2,2,2,2,2,2,2],\"feature_1\":{\"__ndarray__\":\"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\",\"dtype\":\"float64\",\"order\":\"little\",\"shape\":[202]},\"feature_2\":{\"__ndarray__\":\"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\",\"dtype\":\"float64\",\"order\":\"little\",\"shape\":[202]}},\"selected\":{\"id\":\"3897\"},\"selection_policy\":{\"id\":\"3915\"}},\"id\":\"3896\",\"type\":\"ColumnDataSource\"},{\"attributes\":{\"fill_alpha\":{\"value\":0.2},\"fill_color\":{\"value\":\"#e5ae38\"},\"hatch_alpha\":{\"value\":0.2},\"hatch_color\":{\"value\":\"#e5ae38\"},\"line_alpha\":{\"value\":0.2},\"line_color\":{\"value\":\"#e5ae38\"},\"size\":{\"value\":5.477225575051661},\"tags\":[\"apply_ranges\"],\"x\":{\"field\":\"feature_1\"},\"y\":{\"field\":\"feature_2\"}},\"id\":\"3901\",\"type\":\"Scatter\"},{\"attributes\":{\"axis_label\":\"feature_1\",\"coordinates\":null,\"formatter\":{\"id\":\"3848\"},\"group\":null,\"major_label_policy\":{\"id\":\"3849\"},\"ticker\":{\"id\":\"3827\"}},\"id\":\"3826\",\"type\":\"LinearAxis\"},{\"attributes\":{\"fill_color\":{\"value\":\"#fc4f30\"},\"hatch_color\":{\"value\":\"#fc4f30\"},\"line_color\":{\"value\":\"#fc4f30\"},\"size\":{\"value\":5.477225575051661},\"tags\":[\"apply_ranges\"],\"x\":{\"field\":\"feature_1\"},\"y\":{\"field\":\"feature_2\"}},\"id\":\"3877\",\"type\":\"Scatter\"},{\"attributes\":{\"label\":{\"value\":\"2\"},\"renderers\":[{\"id\":\"3902\"}]},\"id\":\"3918\",\"type\":\"LegendItem\"},{\"attributes\":{},\"id\":\"3915\",\"type\":\"UnionRenderers\"},{\"attributes\":{},\"id\":\"3852\",\"type\":\"AllLabels\"},{\"attributes\":{\"coordinates\":null,\"data_source\":{\"id\":\"3874\"},\"glyph\":{\"id\":\"3877\"},\"group\":null,\"hover_glyph\":null,\"muted_glyph\":{\"id\":\"3879\"},\"nonselection_glyph\":{\"id\":\"3878\"},\"selection_glyph\":{\"id\":\"3895\"},\"view\":{\"id\":\"3881\"}},\"id\":\"3880\",\"type\":\"GlyphRenderer\"},{\"attributes\":{\"coordinates\":null,\"data_source\":{\"id\":\"3896\"},\"glyph\":{\"id\":\"3899\"},\"group\":null,\"hover_glyph\":null,\"muted_glyph\":{\"id\":\"3901\"},\"nonselection_glyph\":{\"id\":\"3900\"},\"selection_glyph\":{\"id\":\"3919\"},\"view\":{\"id\":\"3903\"}},\"id\":\"3902\",\"type\":\"GlyphRenderer\"},{\"attributes\":{},\"id\":\"3875\",\"type\":\"Selection\"},{\"attributes\":{\"fill_alpha\":{\"value\":0.1},\"fill_color\":{\"value\":\"#fc4f30\"},\"hatch_alpha\":{\"value\":0.1},\"hatch_color\":{\"value\":\"#fc4f30\"},\"line_alpha\":{\"value\":0.1},\"line_color\":{\"value\":\"#fc4f30\"},\"size\":{\"value\":5.477225575051661},\"tags\":[\"apply_ranges\"],\"x\":{\"field\":\"feature_1\"},\"y\":{\"field\":\"feature_2\"}},\"id\":\"3878\",\"type\":\"Scatter\"},{\"attributes\":{},\"id\":\"3848\",\"type\":\"BasicTickFormatter\"},{\"attributes\":{\"axis\":{\"id\":\"3830\"},\"coordinates\":null,\"dimension\":1,\"grid_line_color\":null,\"group\":null,\"ticker\":null},\"id\":\"3833\",\"type\":\"Grid\"},{\"attributes\":{\"fill_color\":{\"value\":\"#30a2da\"},\"hatch_color\":{\"value\":\"#30a2da\"},\"line_color\":{\"value\":\"#30a2da\"},\"size\":{\"value\":5.477225575051661},\"tags\":[\"apply_ranges\"],\"x\":{\"field\":\"feature_1\"},\"y\":{\"field\":\"feature_2\"}},\"id\":\"3856\",\"type\":\"Scatter\"}],\"root_ids\":[\"3811\"]},\"title\":\"Bokeh Application\",\"version\":\"2.4.3\"}};\n",
       "    var render_items = [{\"docid\":\"713f303a-faed-43b9-a88a-69157868e1e7\",\"root_ids\":[\"3811\"],\"roots\":{\"3811\":\"eab3f009-c49a-4ea7-8db5-1ae229040e09\"}}];\n",
       "    root.Bokeh.embed.embed_items_notebook(docs_json, render_items);\n",
       "    for (const render_item of render_items) {\n",
       "      for (const root_id of render_item.root_ids) {\n",
       "\tconst id_el = document.getElementById(root_id)\n",
       "\tif (id_el.children.length && (id_el.children[0].className === 'bk-root')) {\n",
       "\t  const root_el = id_el.children[0]\n",
       "\t  root_el.id = root_el.id + '-rendered'\n",
       "\t}\n",
       "      }\n",
       "    }\n",
       "  }\n",
       "  if (root.Bokeh !== undefined && root.Bokeh.Panel !== undefined) {\n",
       "    embed_document(root);\n",
       "  } else {\n",
       "    var attempts = 0;\n",
       "    var timer = setInterval(function(root) {\n",
       "      if (root.Bokeh !== undefined && root.Bokeh.Panel !== undefined) {\n",
       "        clearInterval(timer);\n",
       "        embed_document(root);\n",
       "      } else if (document.readyState == \"complete\") {\n",
       "        attempts++;\n",
       "        if (attempts > 200) {\n",
       "          clearInterval(timer);\n",
       "          console.log(\"Bokeh: ERROR: Unable to run BokehJS code because BokehJS library is missing\");\n",
       "        }\n",
       "      }\n",
       "    }, 25, root)\n",
       "  }\n",
       "})(window);</script>"
      ],
      "text/plain": [
       ":NdOverlay   [class]\n",
       "   :Scatter   [feature_1]   (feature_2)"
      ]
     },
     "metadata": {
      "application/vnd.holoviews_exec.v0+json": {
       "id": "3811"
      }
     },
     "output_type": "display_data"
    },
    {
     "data": {},
     "metadata": {},
     "output_type": "display_data"
    },
    {
     "data": {
      "application/vnd.holoviews_exec.v0+json": "",
      "text/html": [
       "<div id='4009'>\n",
       "  <div class=\"bk-root\" id=\"ddf9f1e9-bfe0-4a0a-bb79-bb38e310b96a\" data-root-id=\"4009\"></div>\n",
       "</div>\n",
       "<script type=\"application/javascript\">(function(root) {\n",
       "  function embed_document(root) {\n",
       "    var docs_json = {\"a5cded3a-e527-4077-9a9f-539cd5cb48e0\":{\"defs\":[{\"extends\":null,\"module\":null,\"name\":\"ReactiveHTML1\",\"overrides\":[],\"properties\":[]},{\"extends\":null,\"module\":null,\"name\":\"FlexBox1\",\"overrides\":[],\"properties\":[{\"default\":\"flex-start\",\"kind\":null,\"name\":\"align_content\"},{\"default\":\"flex-start\",\"kind\":null,\"name\":\"align_items\"},{\"default\":\"row\",\"kind\":null,\"name\":\"flex_direction\"},{\"default\":\"wrap\",\"kind\":null,\"name\":\"flex_wrap\"},{\"default\":\"flex-start\",\"kind\":null,\"name\":\"justify_content\"}]},{\"extends\":null,\"module\":null,\"name\":\"GridStack1\",\"overrides\":[],\"properties\":[{\"default\":\"warn\",\"kind\":null,\"name\":\"mode\"},{\"default\":null,\"kind\":null,\"name\":\"ncols\"},{\"default\":null,\"kind\":null,\"name\":\"nrows\"},{\"default\":true,\"kind\":null,\"name\":\"allow_resize\"},{\"default\":true,\"kind\":null,\"name\":\"allow_drag\"},{\"default\":[],\"kind\":null,\"name\":\"state\"}]},{\"extends\":null,\"module\":null,\"name\":\"click1\",\"overrides\":[],\"properties\":[{\"default\":\"\",\"kind\":null,\"name\":\"terminal_output\"},{\"default\":\"\",\"kind\":null,\"name\":\"debug_name\"},{\"default\":0,\"kind\":null,\"name\":\"clears\"}]},{\"extends\":null,\"module\":null,\"name\":\"NotificationAreaBase1\",\"overrides\":[],\"properties\":[{\"default\":\"bottom-right\",\"kind\":null,\"name\":\"position\"},{\"default\":0,\"kind\":null,\"name\":\"_clear\"}]},{\"extends\":null,\"module\":null,\"name\":\"NotificationArea1\",\"overrides\":[],\"properties\":[{\"default\":[],\"kind\":null,\"name\":\"notifications\"},{\"default\":\"bottom-right\",\"kind\":null,\"name\":\"position\"},{\"default\":0,\"kind\":null,\"name\":\"_clear\"},{\"default\":[{\"background\":\"#ffc107\",\"icon\":{\"className\":\"fas fa-exclamation-triangle\",\"color\":\"white\",\"tagName\":\"i\"},\"type\":\"warning\"},{\"background\":\"#007bff\",\"icon\":{\"className\":\"fas fa-info-circle\",\"color\":\"white\",\"tagName\":\"i\"},\"type\":\"info\"}],\"kind\":null,\"name\":\"types\"}]},{\"extends\":null,\"module\":null,\"name\":\"Notification\",\"overrides\":[],\"properties\":[{\"default\":null,\"kind\":null,\"name\":\"background\"},{\"default\":3000,\"kind\":null,\"name\":\"duration\"},{\"default\":null,\"kind\":null,\"name\":\"icon\"},{\"default\":\"\",\"kind\":null,\"name\":\"message\"},{\"default\":null,\"kind\":null,\"name\":\"notification_type\"},{\"default\":false,\"kind\":null,\"name\":\"_destroyed\"}]},{\"extends\":null,\"module\":null,\"name\":\"TemplateActions1\",\"overrides\":[],\"properties\":[{\"default\":0,\"kind\":null,\"name\":\"open_modal\"},{\"default\":0,\"kind\":null,\"name\":\"close_modal\"}]},{\"extends\":null,\"module\":null,\"name\":\"MaterialTemplateActions1\",\"overrides\":[],\"properties\":[{\"default\":0,\"kind\":null,\"name\":\"open_modal\"},{\"default\":0,\"kind\":null,\"name\":\"close_modal\"}]}],\"roots\":{\"references\":[{\"attributes\":{\"axis\":{\"id\":\"4024\"},\"coordinates\":null,\"grid_line_color\":null,\"group\":null,\"ticker\":null},\"id\":\"4027\",\"type\":\"Grid\"},{\"attributes\":{\"axis\":{\"id\":\"4028\"},\"coordinates\":null,\"dimension\":1,\"grid_line_color\":null,\"group\":null,\"ticker\":null},\"id\":\"4031\",\"type\":\"Grid\"},{\"attributes\":{},\"id\":\"4049\",\"type\":\"BasicTickFormatter\"},{\"attributes\":{\"label\":{\"value\":\"2\"},\"renderers\":[{\"id\":\"4100\"}]},\"id\":\"4116\",\"type\":\"LegendItem\"},{\"attributes\":{\"active_drag\":{\"id\":\"4033\"},\"active_scroll\":{\"id\":\"4034\"},\"tools\":[{\"id\":\"4012\"},{\"id\":\"4032\"},{\"id\":\"4033\"},{\"id\":\"4034\"},{\"id\":\"4035\"},{\"id\":\"4036\"}]},\"id\":\"4038\",\"type\":\"Toolbar\"},{\"attributes\":{\"axis_label\":\"feature_2\",\"coordinates\":null,\"formatter\":{\"id\":\"4049\"},\"group\":null,\"major_label_policy\":{\"id\":\"4050\"},\"ticker\":{\"id\":\"4029\"}},\"id\":\"4028\",\"type\":\"LinearAxis\"},{\"attributes\":{},\"id\":\"4020\",\"type\":\"LinearScale\"},{\"attributes\":{\"fill_alpha\":{\"value\":0.1},\"fill_color\":{\"value\":\"#fc4f30\"},\"hatch_alpha\":{\"value\":0.1},\"hatch_color\":{\"value\":\"#fc4f30\"},\"line_alpha\":{\"value\":0.1},\"line_color\":{\"value\":\"#fc4f30\"},\"size\":{\"value\":5.477225575051661},\"tags\":[\"apply_ranges\"],\"x\":{\"field\":\"feature_1\"},\"y\":{\"field\":\"feature_2\"}},\"id\":\"4076\",\"type\":\"Scatter\"},{\"attributes\":{\"fill_alpha\":{\"value\":0.1},\"fill_color\":{\"value\":\"#30a2da\"},\"hatch_alpha\":{\"value\":0.1},\"hatch_color\":{\"value\":\"#30a2da\"},\"line_alpha\":{\"value\":0.1},\"line_color\":{\"value\":\"#30a2da\"},\"size\":{\"value\":5.477225575051661},\"tags\":[\"apply_ranges\"],\"x\":{\"field\":\"feature_1\"},\"y\":{\"field\":\"feature_2\"}},\"id\":\"4055\",\"type\":\"Scatter\"},{\"attributes\":{\"coordinates\":null,\"group\":null,\"text\":\"AgglomerativeClustering\",\"text_color\":\"black\",\"text_font_size\":\"12pt\"},\"id\":\"4016\",\"type\":\"Title\"},{\"attributes\":{},\"id\":\"4029\",\"type\":\"BasicTicker\"},{\"attributes\":{},\"id\":\"4052\",\"type\":\"Selection\"},{\"attributes\":{},\"id\":\"4113\",\"type\":\"UnionRenderers\"},{\"attributes\":{\"children\":[{\"id\":\"4015\"}],\"height\":300,\"margin\":[0,0,0,0],\"name\":\"Row03830\",\"sizing_mode\":\"fixed\",\"tags\":[\"embedded\"],\"width\":700},\"id\":\"4009\",\"type\":\"Row\"},{\"attributes\":{\"click_policy\":\"mute\",\"coordinates\":null,\"group\":null,\"items\":[{\"id\":\"4070\"},{\"id\":\"4092\"},{\"id\":\"4116\"}],\"location\":[0,0],\"title\":\"class\"},\"id\":\"4069\",\"type\":\"Legend\"},{\"attributes\":{},\"id\":\"4089\",\"type\":\"UnionRenderers\"},{\"attributes\":{},\"id\":\"4025\",\"type\":\"BasicTicker\"},{\"attributes\":{\"below\":[{\"id\":\"4024\"}],\"center\":[{\"id\":\"4027\"},{\"id\":\"4031\"}],\"height\":300,\"left\":[{\"id\":\"4028\"}],\"margin\":[5,5,5,5],\"min_border_bottom\":10,\"min_border_left\":10,\"min_border_right\":10,\"min_border_top\":10,\"output_backend\":\"webgl\",\"renderers\":[{\"id\":\"4057\"},{\"id\":\"4078\"},{\"id\":\"4100\"}],\"right\":[{\"id\":\"4069\"}],\"sizing_mode\":\"fixed\",\"title\":{\"id\":\"4016\"},\"toolbar\":{\"id\":\"4038\"},\"width\":700,\"x_range\":{\"id\":\"4010\"},\"x_scale\":{\"id\":\"4020\"},\"y_range\":{\"id\":\"4011\"},\"y_scale\":{\"id\":\"4022\"}},\"id\":\"4015\",\"subtype\":\"Figure\",\"type\":\"Plot\"},{\"attributes\":{\"angle\":{\"value\":0.0},\"fill_alpha\":{\"value\":1.0},\"fill_color\":{\"value\":\"#e5ae38\"},\"hatch_alpha\":{\"value\":1.0},\"hatch_color\":{\"value\":\"#e5ae38\"},\"hatch_scale\":{\"value\":12.0},\"hatch_weight\":{\"value\":1.0},\"line_alpha\":{\"value\":1.0},\"line_cap\":{\"value\":\"butt\"},\"line_color\":{\"value\":\"#e5ae38\"},\"line_dash\":{\"value\":[]},\"line_dash_offset\":{\"value\":0},\"line_join\":{\"value\":\"bevel\"},\"line_width\":{\"value\":1},\"marker\":{\"value\":\"circle\"},\"size\":{\"value\":5.477225575051661},\"tags\":[\"apply_ranges\"],\"x\":{\"field\":\"feature_1\"},\"y\":{\"field\":\"feature_2\"}},\"id\":\"4117\",\"type\":\"Scatter\"},{\"attributes\":{\"fill_alpha\":{\"value\":0.2},\"fill_color\":{\"value\":\"#30a2da\"},\"hatch_alpha\":{\"value\":0.2},\"hatch_color\":{\"value\":\"#30a2da\"},\"line_alpha\":{\"value\":0.2},\"line_color\":{\"value\":\"#30a2da\"},\"size\":{\"value\":5.477225575051661},\"tags\":[\"apply_ranges\"],\"x\":{\"field\":\"feature_1\"},\"y\":{\"field\":\"feature_2\"}},\"id\":\"4056\",\"type\":\"Scatter\"},{\"attributes\":{\"label\":{\"value\":\"1\"},\"renderers\":[{\"id\":\"4078\"}]},\"id\":\"4092\",\"type\":\"LegendItem\"},{\"attributes\":{\"angle\":{\"value\":0.0},\"fill_alpha\":{\"value\":1.0},\"fill_color\":{\"value\":\"#fc4f30\"},\"hatch_alpha\":{\"value\":1.0},\"hatch_color\":{\"value\":\"#fc4f30\"},\"hatch_scale\":{\"value\":12.0},\"hatch_weight\":{\"value\":1.0},\"line_alpha\":{\"value\":1.0},\"line_cap\":{\"value\":\"butt\"},\"line_color\":{\"value\":\"#fc4f30\"},\"line_dash\":{\"value\":[]},\"line_dash_offset\":{\"value\":0},\"line_join\":{\"value\":\"bevel\"},\"line_width\":{\"value\":1},\"marker\":{\"value\":\"circle\"},\"size\":{\"value\":5.477225575051661},\"tags\":[\"apply_ranges\"],\"x\":{\"field\":\"feature_1\"},\"y\":{\"field\":\"feature_2\"}},\"id\":\"4093\",\"type\":\"Scatter\"},{\"attributes\":{\"end\":9.215602229847773,\"reset_end\":9.215602229847773,\"reset_start\":-5.909730475924883,\"start\":-5.909730475924883,\"tags\":[[[\"feature_2\",\"feature_2\",null]]]},\"id\":\"4011\",\"type\":\"Range1d\"},{\"attributes\":{\"fill_color\":{\"value\":\"#fc4f30\"},\"hatch_color\":{\"value\":\"#fc4f30\"},\"line_color\":{\"value\":\"#fc4f30\"},\"size\":{\"value\":5.477225575051661},\"tags\":[\"apply_ranges\"],\"x\":{\"field\":\"feature_1\"},\"y\":{\"field\":\"feature_2\"}},\"id\":\"4075\",\"type\":\"Scatter\"},{\"attributes\":{\"fill_alpha\":{\"value\":0.1},\"fill_color\":{\"value\":\"#e5ae38\"},\"hatch_alpha\":{\"value\":0.1},\"hatch_color\":{\"value\":\"#e5ae38\"},\"line_alpha\":{\"value\":0.1},\"line_color\":{\"value\":\"#e5ae38\"},\"size\":{\"value\":5.477225575051661},\"tags\":[\"apply_ranges\"],\"x\":{\"field\":\"feature_1\"},\"y\":{\"field\":\"feature_2\"}},\"id\":\"4098\",\"type\":\"Scatter\"},{\"attributes\":{\"label\":{\"value\":\"0\"},\"renderers\":[{\"id\":\"4057\"}]},\"id\":\"4070\",\"type\":\"LegendItem\"},{\"attributes\":{},\"id\":\"4050\",\"type\":\"AllLabels\"},{\"attributes\":{},\"id\":\"4066\",\"type\":\"UnionRenderers\"},{\"attributes\":{},\"id\":\"4022\",\"type\":\"LinearScale\"},{\"attributes\":{\"data\":{\"class\":[1,1,1,1,1,1,1,1,1,1,1,1,1,1,1,1,1,1,1,1,1,1,1,1,1,1,1,1,1,1,1,1,1,1,1,1,1,1,1,1,1,1,1,1,1,1,1,1,1,1,1,1,1,1,1,1,1,1,1,1,1,1,1,1,1,1,1,1,1,1,1,1,1,1,1,1,1,1,1,1,1,1,1,1,1,1,1,1,1,1,1,1,1,1,1,1,1,1,1,1,1,1,1,1,1,1,1,1,1,1,1,1,1,1,1,1,1,1,1,1,1,1,1,1,1,1,1,1,1,1,1,1,1,1,1,1,1,1,1,1,1,1,1,1,1,1,1,1,1,1,1,1,1,1,1,1,1,1,1,1,1,1,1,1,1,1,1,1,1,1,1,1,1,1,1,1,1,1,1,1,1,1,1,1,1,1,1,1,1,1,1,1,1,1,1,1,1,1,1,1,1,1,1,1,1,1,1,1,1,1,1,1,1,1,1,1,1,1,1,1,1,1,1,1,1,1,1,1,1,1,1,1,1,1,1,1,1,1,1,1,1,1,1,1,1,1,1,1,1,1,1,1,1,1,1,1,1,1,1,1,1,1,1,1,1,1,1,1,1,1,1,1,1,1,1,1,1,1,1,1,1,1,1,1,1,1,1,1,1,1,1,1,1,1,1,1,1,1,1,1,1,1,1,1,1,1,1,1,1,1,1,1,1,1,1,1,1,1,1,1,1,1,1,1,1,1,1,1,1,1,1,1,1,1,1,1,1,1,1,1,1,1,1,1,1,1,1,1,1,1,1,1,1,1,1,1,1,1,1,1,1,1,1,1,1,1,1,1,1,1,1,1,1,1,1,1,1,1,1,1,1,1,1,1,1,1,1,1,1,1,1,1,1,1,1,1,1,1,1,1,1,1,1,1,1,1,1,1,1,1,1,1,1,1,1,1,1,1,1,1,1,1,1,1,1,1,1,1,1,1,1,1,1,1,1,1,1,1,1,1,1,1,1,1,1,1,1,1,1,1,1,1,1,1,1,1,1,1,1,1,1,1,1,1,1,1,1,1,1,1,1,1,1,1,1,1,1,1,1,1,1,1,1,1,1,1,1,1,1,1,1,1,1,1,1,1,1,1,1,1],\"feature_1\":{\"__ndarray__\":\"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\",\"dtype\":\"float64\",\"order\":\"little\",\"shape\":[500]},\"feature_2\":{\"__ndarray__\":\"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\",\"dtype\":\"float64\",\"order\":\"little\",\"shape\":[500]}},\"selected\":{\"id\":\"4073\"},\"selection_policy\":{\"id\":\"4089\"}},\"id\":\"4072\",\"type\":\"ColumnDataSource\"},{\"attributes\":{\"axis_label\":\"feature_1\",\"coordinates\":null,\"formatter\":{\"id\":\"4046\"},\"group\":null,\"major_label_policy\":{\"id\":\"4047\"},\"ticker\":{\"id\":\"4025\"}},\"id\":\"4024\",\"type\":\"LinearAxis\"},{\"attributes\":{\"angle\":{\"value\":0.0},\"fill_alpha\":{\"value\":1.0},\"fill_color\":{\"value\":\"#30a2da\"},\"hatch_alpha\":{\"value\":1.0},\"hatch_color\":{\"value\":\"#30a2da\"},\"hatch_scale\":{\"value\":12.0},\"hatch_weight\":{\"value\":1.0},\"line_alpha\":{\"value\":1.0},\"line_cap\":{\"value\":\"butt\"},\"line_color\":{\"value\":\"#30a2da\"},\"line_dash\":{\"value\":[]},\"line_dash_offset\":{\"value\":0},\"line_join\":{\"value\":\"bevel\"},\"line_width\":{\"value\":1},\"marker\":{\"value\":\"circle\"},\"size\":{\"value\":5.477225575051661},\"tags\":[\"apply_ranges\"],\"x\":{\"field\":\"feature_1\"},\"y\":{\"field\":\"feature_2\"}},\"id\":\"4071\",\"type\":\"Scatter\"},{\"attributes\":{\"callback\":null,\"renderers\":[{\"id\":\"4057\"},{\"id\":\"4078\"},{\"id\":\"4100\"}],\"tags\":[\"hv_created\"],\"tooltips\":[[\"class\",\"@{class}\"],[\"feature_1\",\"@{feature_1}\"],[\"feature_2\",\"@{feature_2}\"]]},\"id\":\"4012\",\"type\":\"HoverTool\"},{\"attributes\":{},\"id\":\"4047\",\"type\":\"AllLabels\"},{\"attributes\":{\"coordinates\":null,\"data_source\":{\"id\":\"4094\"},\"glyph\":{\"id\":\"4097\"},\"group\":null,\"hover_glyph\":null,\"muted_glyph\":{\"id\":\"4099\"},\"nonselection_glyph\":{\"id\":\"4098\"},\"selection_glyph\":{\"id\":\"4117\"},\"view\":{\"id\":\"4101\"}},\"id\":\"4100\",\"type\":\"GlyphRenderer\"},{\"attributes\":{\"data\":{\"class\":[2,2,2,2,2,2,2,2,2,2,2,2,2,2,2,2,2,2,2,2,2,2,2,2,2,2,2,2,2,2,2,2,2,2,2,2,2,2,2,2,2,2,2,2,2,2,2,2,2,2,2,2,2,2,2,2,2,2,2,2,2,2,2,2,2,2,2,2,2,2,2,2,2,2,2,2,2,2,2,2,2,2,2,2,2,2,2,2,2,2,2,2,2,2,2,2,2,2,2,2,2,2,2,2,2,2,2,2,2,2,2,2,2,2,2,2,2,2,2,2,2,2,2,2,2,2,2,2,2,2,2,2,2,2,2,2,2,2,2,2,2,2,2,2,2,2,2,2,2,2,2,2,2,2,2,2,2,2,2,2,2,2,2,2,2,2,2,2,2,2,2,2,2,2,2,2,2,2,2,2,2,2,2,2,2,2,2,2,2,2,2,2,2,2,2,2,2,2,2,2,2,2],\"feature_1\":{\"__ndarray__\":\"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\",\"dtype\":\"float64\",\"order\":\"little\",\"shape\":[202]},\"feature_2\":{\"__ndarray__\":\"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\",\"dtype\":\"float64\",\"order\":\"little\",\"shape\":[202]}},\"selected\":{\"id\":\"4095\"},\"selection_policy\":{\"id\":\"4113\"}},\"id\":\"4094\",\"type\":\"ColumnDataSource\"},{\"attributes\":{},\"id\":\"4032\",\"type\":\"SaveTool\"},{\"attributes\":{\"coordinates\":null,\"data_source\":{\"id\":\"4072\"},\"glyph\":{\"id\":\"4075\"},\"group\":null,\"hover_glyph\":null,\"muted_glyph\":{\"id\":\"4077\"},\"nonselection_glyph\":{\"id\":\"4076\"},\"selection_glyph\":{\"id\":\"4093\"},\"view\":{\"id\":\"4079\"}},\"id\":\"4078\",\"type\":\"GlyphRenderer\"},{\"attributes\":{\"fill_alpha\":{\"value\":0.2},\"fill_color\":{\"value\":\"#e5ae38\"},\"hatch_alpha\":{\"value\":0.2},\"hatch_color\":{\"value\":\"#e5ae38\"},\"line_alpha\":{\"value\":0.2},\"line_color\":{\"value\":\"#e5ae38\"},\"size\":{\"value\":5.477225575051661},\"tags\":[\"apply_ranges\"],\"x\":{\"field\":\"feature_1\"},\"y\":{\"field\":\"feature_2\"}},\"id\":\"4099\",\"type\":\"Scatter\"},{\"attributes\":{},\"id\":\"4033\",\"type\":\"PanTool\"},{\"attributes\":{},\"id\":\"4073\",\"type\":\"Selection\"},{\"attributes\":{\"coordinates\":null,\"data_source\":{\"id\":\"4051\"},\"glyph\":{\"id\":\"4054\"},\"group\":null,\"hover_glyph\":null,\"muted_glyph\":{\"id\":\"4056\"},\"nonselection_glyph\":{\"id\":\"4055\"},\"selection_glyph\":{\"id\":\"4071\"},\"view\":{\"id\":\"4058\"}},\"id\":\"4057\",\"type\":\"GlyphRenderer\"},{\"attributes\":{},\"id\":\"4036\",\"type\":\"ResetTool\"},{\"attributes\":{\"source\":{\"id\":\"4072\"}},\"id\":\"4079\",\"type\":\"CDSView\"},{\"attributes\":{},\"id\":\"4034\",\"type\":\"WheelZoomTool\"},{\"attributes\":{\"source\":{\"id\":\"4094\"}},\"id\":\"4101\",\"type\":\"CDSView\"},{\"attributes\":{},\"id\":\"4046\",\"type\":\"BasicTickFormatter\"},{\"attributes\":{\"end\":6.812945338442532,\"reset_end\":6.812945338442532,\"reset_start\":-6.796693307805908,\"start\":-6.796693307805908,\"tags\":[[[\"feature_1\",\"feature_1\",null]]]},\"id\":\"4010\",\"type\":\"Range1d\"},{\"attributes\":{\"overlay\":{\"id\":\"4037\"}},\"id\":\"4035\",\"type\":\"BoxZoomTool\"},{\"attributes\":{\"data\":{\"class\":[0,0,0,0,0,0,0,0,0,0,0,0,0,0,0,0,0,0,0,0,0,0,0,0,0,0,0,0,0,0,0,0,0,0,0,0,0,0,0,0,0,0,0,0,0,0,0,0,0,0,0,0,0,0,0,0,0,0,0,0,0,0,0,0,0,0,0,0,0,0,0,0,0,0,0,0,0,0,0,0,0,0,0,0,0,0,0,0,0,0,0,0,0,0,0,0,0,0,0,0,0,0,0,0,0,0,0,0,0,0,0,0,0,0,0,0,0,0,0,0,0,0,0,0,0,0,0,0,0,0,0,0,0,0,0,0,0,0,0,0,0,0,0,0,0,0,0,0,0,0,0,0,0,0,0,0,0,0,0,0,0,0,0,0,0,0,0,0,0,0,0,0,0,0,0,0,0,0,0,0,0,0,0,0,0,0,0,0,0,0,0,0,0,0,0,0,0,0,0,0,0,0,0,0,0,0,0,0,0,0,0,0,0,0,0,0,0,0,0,0,0,0,0,0,0,0,0,0,0,0,0,0,0,0,0,0,0,0,0,0,0,0,0,0,0,0,0,0,0,0,0,0,0,0,0,0,0,0,0,0,0,0,0,0,0,0,0,0,0,0,0,0,0,0,0,0,0,0,0,0,0,0,0,0,0,0,0,0,0,0,0,0,0,0,0,0,0,0],\"feature_1\":{\"__ndarray__\":\"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\",\"dtype\":\"float64\",\"order\":\"little\",\"shape\":[298]},\"feature_2\":{\"__ndarray__\":\"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\",\"dtype\":\"float64\",\"order\":\"little\",\"shape\":[298]}},\"selected\":{\"id\":\"4052\"},\"selection_policy\":{\"id\":\"4066\"}},\"id\":\"4051\",\"type\":\"ColumnDataSource\"},{\"attributes\":{\"fill_alpha\":{\"value\":0.2},\"fill_color\":{\"value\":\"#fc4f30\"},\"hatch_alpha\":{\"value\":0.2},\"hatch_color\":{\"value\":\"#fc4f30\"},\"line_alpha\":{\"value\":0.2},\"line_color\":{\"value\":\"#fc4f30\"},\"size\":{\"value\":5.477225575051661},\"tags\":[\"apply_ranges\"],\"x\":{\"field\":\"feature_1\"},\"y\":{\"field\":\"feature_2\"}},\"id\":\"4077\",\"type\":\"Scatter\"},{\"attributes\":{},\"id\":\"4095\",\"type\":\"Selection\"},{\"attributes\":{\"bottom_units\":\"screen\",\"coordinates\":null,\"fill_alpha\":0.5,\"fill_color\":\"lightgrey\",\"group\":null,\"left_units\":\"screen\",\"level\":\"overlay\",\"line_alpha\":1.0,\"line_color\":\"black\",\"line_dash\":[4,4],\"line_width\":2,\"right_units\":\"screen\",\"syncable\":false,\"top_units\":\"screen\"},\"id\":\"4037\",\"type\":\"BoxAnnotation\"},{\"attributes\":{\"fill_color\":{\"value\":\"#e5ae38\"},\"hatch_color\":{\"value\":\"#e5ae38\"},\"line_color\":{\"value\":\"#e5ae38\"},\"size\":{\"value\":5.477225575051661},\"tags\":[\"apply_ranges\"],\"x\":{\"field\":\"feature_1\"},\"y\":{\"field\":\"feature_2\"}},\"id\":\"4097\",\"type\":\"Scatter\"},{\"attributes\":{\"source\":{\"id\":\"4051\"}},\"id\":\"4058\",\"type\":\"CDSView\"},{\"attributes\":{\"fill_color\":{\"value\":\"#30a2da\"},\"hatch_color\":{\"value\":\"#30a2da\"},\"line_color\":{\"value\":\"#30a2da\"},\"size\":{\"value\":5.477225575051661},\"tags\":[\"apply_ranges\"],\"x\":{\"field\":\"feature_1\"},\"y\":{\"field\":\"feature_2\"}},\"id\":\"4054\",\"type\":\"Scatter\"}],\"root_ids\":[\"4009\"]},\"title\":\"Bokeh Application\",\"version\":\"2.4.3\"}};\n",
       "    var render_items = [{\"docid\":\"a5cded3a-e527-4077-9a9f-539cd5cb48e0\",\"root_ids\":[\"4009\"],\"roots\":{\"4009\":\"ddf9f1e9-bfe0-4a0a-bb79-bb38e310b96a\"}}];\n",
       "    root.Bokeh.embed.embed_items_notebook(docs_json, render_items);\n",
       "    for (const render_item of render_items) {\n",
       "      for (const root_id of render_item.root_ids) {\n",
       "\tconst id_el = document.getElementById(root_id)\n",
       "\tif (id_el.children.length && (id_el.children[0].className === 'bk-root')) {\n",
       "\t  const root_el = id_el.children[0]\n",
       "\t  root_el.id = root_el.id + '-rendered'\n",
       "\t}\n",
       "      }\n",
       "    }\n",
       "  }\n",
       "  if (root.Bokeh !== undefined && root.Bokeh.Panel !== undefined) {\n",
       "    embed_document(root);\n",
       "  } else {\n",
       "    var attempts = 0;\n",
       "    var timer = setInterval(function(root) {\n",
       "      if (root.Bokeh !== undefined && root.Bokeh.Panel !== undefined) {\n",
       "        clearInterval(timer);\n",
       "        embed_document(root);\n",
       "      } else if (document.readyState == \"complete\") {\n",
       "        attempts++;\n",
       "        if (attempts > 200) {\n",
       "          clearInterval(timer);\n",
       "          console.log(\"Bokeh: ERROR: Unable to run BokehJS code because BokehJS library is missing\");\n",
       "        }\n",
       "      }\n",
       "    }, 25, root)\n",
       "  }\n",
       "})(window);</script>"
      ],
      "text/plain": [
       ":NdOverlay   [class]\n",
       "   :Scatter   [feature_1]   (feature_2)"
      ]
     },
     "metadata": {
      "application/vnd.holoviews_exec.v0+json": {
       "id": "4009"
      }
     },
     "output_type": "display_data"
    },
    {
     "data": {},
     "metadata": {},
     "output_type": "display_data"
    },
    {
     "data": {
      "application/vnd.holoviews_exec.v0+json": "",
      "text/html": [
       "<div id='4207'>\n",
       "  <div class=\"bk-root\" id=\"e6a70c67-85fd-47c2-afc7-44681aae4a42\" data-root-id=\"4207\"></div>\n",
       "</div>\n",
       "<script type=\"application/javascript\">(function(root) {\n",
       "  function embed_document(root) {\n",
       "    var docs_json = {\"f142fa75-0c65-456a-8ed1-91095a65887b\":{\"defs\":[{\"extends\":null,\"module\":null,\"name\":\"ReactiveHTML1\",\"overrides\":[],\"properties\":[]},{\"extends\":null,\"module\":null,\"name\":\"FlexBox1\",\"overrides\":[],\"properties\":[{\"default\":\"flex-start\",\"kind\":null,\"name\":\"align_content\"},{\"default\":\"flex-start\",\"kind\":null,\"name\":\"align_items\"},{\"default\":\"row\",\"kind\":null,\"name\":\"flex_direction\"},{\"default\":\"wrap\",\"kind\":null,\"name\":\"flex_wrap\"},{\"default\":\"flex-start\",\"kind\":null,\"name\":\"justify_content\"}]},{\"extends\":null,\"module\":null,\"name\":\"GridStack1\",\"overrides\":[],\"properties\":[{\"default\":\"warn\",\"kind\":null,\"name\":\"mode\"},{\"default\":null,\"kind\":null,\"name\":\"ncols\"},{\"default\":null,\"kind\":null,\"name\":\"nrows\"},{\"default\":true,\"kind\":null,\"name\":\"allow_resize\"},{\"default\":true,\"kind\":null,\"name\":\"allow_drag\"},{\"default\":[],\"kind\":null,\"name\":\"state\"}]},{\"extends\":null,\"module\":null,\"name\":\"click1\",\"overrides\":[],\"properties\":[{\"default\":\"\",\"kind\":null,\"name\":\"terminal_output\"},{\"default\":\"\",\"kind\":null,\"name\":\"debug_name\"},{\"default\":0,\"kind\":null,\"name\":\"clears\"}]},{\"extends\":null,\"module\":null,\"name\":\"NotificationAreaBase1\",\"overrides\":[],\"properties\":[{\"default\":\"bottom-right\",\"kind\":null,\"name\":\"position\"},{\"default\":0,\"kind\":null,\"name\":\"_clear\"}]},{\"extends\":null,\"module\":null,\"name\":\"NotificationArea1\",\"overrides\":[],\"properties\":[{\"default\":[],\"kind\":null,\"name\":\"notifications\"},{\"default\":\"bottom-right\",\"kind\":null,\"name\":\"position\"},{\"default\":0,\"kind\":null,\"name\":\"_clear\"},{\"default\":[{\"background\":\"#ffc107\",\"icon\":{\"className\":\"fas fa-exclamation-triangle\",\"color\":\"white\",\"tagName\":\"i\"},\"type\":\"warning\"},{\"background\":\"#007bff\",\"icon\":{\"className\":\"fas fa-info-circle\",\"color\":\"white\",\"tagName\":\"i\"},\"type\":\"info\"}],\"kind\":null,\"name\":\"types\"}]},{\"extends\":null,\"module\":null,\"name\":\"Notification\",\"overrides\":[],\"properties\":[{\"default\":null,\"kind\":null,\"name\":\"background\"},{\"default\":3000,\"kind\":null,\"name\":\"duration\"},{\"default\":null,\"kind\":null,\"name\":\"icon\"},{\"default\":\"\",\"kind\":null,\"name\":\"message\"},{\"default\":null,\"kind\":null,\"name\":\"notification_type\"},{\"default\":false,\"kind\":null,\"name\":\"_destroyed\"}]},{\"extends\":null,\"module\":null,\"name\":\"TemplateActions1\",\"overrides\":[],\"properties\":[{\"default\":0,\"kind\":null,\"name\":\"open_modal\"},{\"default\":0,\"kind\":null,\"name\":\"close_modal\"}]},{\"extends\":null,\"module\":null,\"name\":\"MaterialTemplateActions1\",\"overrides\":[],\"properties\":[{\"default\":0,\"kind\":null,\"name\":\"open_modal\"},{\"default\":0,\"kind\":null,\"name\":\"close_modal\"}]}],\"roots\":{\"references\":[{\"attributes\":{\"fill_alpha\":{\"value\":0.2},\"fill_color\":{\"value\":\"#e5ae38\"},\"hatch_alpha\":{\"value\":0.2},\"hatch_color\":{\"value\":\"#e5ae38\"},\"line_alpha\":{\"value\":0.2},\"line_color\":{\"value\":\"#e5ae38\"},\"size\":{\"value\":5.477225575051661},\"tags\":[\"apply_ranges\"],\"x\":{\"field\":\"feature_1\"},\"y\":{\"field\":\"feature_2\"}},\"id\":\"4297\",\"type\":\"Scatter\"},{\"attributes\":{},\"id\":\"4234\",\"type\":\"ResetTool\"},{\"attributes\":{},\"id\":\"4227\",\"type\":\"BasicTicker\"},{\"attributes\":{},\"id\":\"4232\",\"type\":\"WheelZoomTool\"},{\"attributes\":{},\"id\":\"4244\",\"type\":\"BasicTickFormatter\"},{\"attributes\":{\"source\":{\"id\":\"4292\"}},\"id\":\"4299\",\"type\":\"CDSView\"},{\"attributes\":{},\"id\":\"4231\",\"type\":\"PanTool\"},{\"attributes\":{\"overlay\":{\"id\":\"4235\"}},\"id\":\"4233\",\"type\":\"BoxZoomTool\"},{\"attributes\":{},\"id\":\"4250\",\"type\":\"Selection\"},{\"attributes\":{},\"id\":\"4311\",\"type\":\"UnionRenderers\"},{\"attributes\":{\"fill_alpha\":{\"value\":0.2},\"fill_color\":{\"value\":\"#30a2da\"},\"hatch_alpha\":{\"value\":0.2},\"hatch_color\":{\"value\":\"#30a2da\"},\"line_alpha\":{\"value\":0.2},\"line_color\":{\"value\":\"#30a2da\"},\"size\":{\"value\":5.477225575051661},\"tags\":[\"apply_ranges\"],\"x\":{\"field\":\"feature_1\"},\"y\":{\"field\":\"feature_2\"}},\"id\":\"4254\",\"type\":\"Scatter\"},{\"attributes\":{\"axis\":{\"id\":\"4222\"},\"coordinates\":null,\"grid_line_color\":null,\"group\":null,\"ticker\":null},\"id\":\"4225\",\"type\":\"Grid\"},{\"attributes\":{},\"id\":\"4271\",\"type\":\"Selection\"},{\"attributes\":{\"fill_color\":{\"value\":\"#e5ae38\"},\"hatch_color\":{\"value\":\"#e5ae38\"},\"line_color\":{\"value\":\"#e5ae38\"},\"size\":{\"value\":5.477225575051661},\"tags\":[\"apply_ranges\"],\"x\":{\"field\":\"feature_1\"},\"y\":{\"field\":\"feature_2\"}},\"id\":\"4295\",\"type\":\"Scatter\"},{\"attributes\":{},\"id\":\"4264\",\"type\":\"UnionRenderers\"},{\"attributes\":{\"fill_alpha\":{\"value\":0.1},\"fill_color\":{\"value\":\"#fc4f30\"},\"hatch_alpha\":{\"value\":0.1},\"hatch_color\":{\"value\":\"#fc4f30\"},\"line_alpha\":{\"value\":0.1},\"line_color\":{\"value\":\"#fc4f30\"},\"size\":{\"value\":5.477225575051661},\"tags\":[\"apply_ranges\"],\"x\":{\"field\":\"feature_1\"},\"y\":{\"field\":\"feature_2\"}},\"id\":\"4274\",\"type\":\"Scatter\"},{\"attributes\":{\"label\":{\"value\":\"0\"},\"renderers\":[{\"id\":\"4255\"}]},\"id\":\"4268\",\"type\":\"LegendItem\"},{\"attributes\":{\"label\":{\"value\":\"2\"},\"renderers\":[{\"id\":\"4298\"}]},\"id\":\"4314\",\"type\":\"LegendItem\"},{\"attributes\":{},\"id\":\"4223\",\"type\":\"BasicTicker\"},{\"attributes\":{\"coordinates\":null,\"group\":null,\"text\":\"SpectralClustering\",\"text_color\":\"black\",\"text_font_size\":\"12pt\"},\"id\":\"4214\",\"type\":\"Title\"},{\"attributes\":{\"source\":{\"id\":\"4270\"}},\"id\":\"4277\",\"type\":\"CDSView\"},{\"attributes\":{},\"id\":\"4218\",\"type\":\"LinearScale\"},{\"attributes\":{\"coordinates\":null,\"data_source\":{\"id\":\"4270\"},\"glyph\":{\"id\":\"4273\"},\"group\":null,\"hover_glyph\":null,\"muted_glyph\":{\"id\":\"4275\"},\"nonselection_glyph\":{\"id\":\"4274\"},\"selection_glyph\":{\"id\":\"4291\"},\"view\":{\"id\":\"4277\"}},\"id\":\"4276\",\"type\":\"GlyphRenderer\"},{\"attributes\":{\"fill_alpha\":{\"value\":0.1},\"fill_color\":{\"value\":\"#e5ae38\"},\"hatch_alpha\":{\"value\":0.1},\"hatch_color\":{\"value\":\"#e5ae38\"},\"line_alpha\":{\"value\":0.1},\"line_color\":{\"value\":\"#e5ae38\"},\"size\":{\"value\":5.477225575051661},\"tags\":[\"apply_ranges\"],\"x\":{\"field\":\"feature_1\"},\"y\":{\"field\":\"feature_2\"}},\"id\":\"4296\",\"type\":\"Scatter\"},{\"attributes\":{\"fill_alpha\":{\"value\":0.2},\"fill_color\":{\"value\":\"#fc4f30\"},\"hatch_alpha\":{\"value\":0.2},\"hatch_color\":{\"value\":\"#fc4f30\"},\"line_alpha\":{\"value\":0.2},\"line_color\":{\"value\":\"#fc4f30\"},\"size\":{\"value\":5.477225575051661},\"tags\":[\"apply_ranges\"],\"x\":{\"field\":\"feature_1\"},\"y\":{\"field\":\"feature_2\"}},\"id\":\"4275\",\"type\":\"Scatter\"},{\"attributes\":{},\"id\":\"4247\",\"type\":\"BasicTickFormatter\"},{\"attributes\":{\"active_drag\":{\"id\":\"4231\"},\"active_scroll\":{\"id\":\"4232\"},\"tools\":[{\"id\":\"4210\"},{\"id\":\"4230\"},{\"id\":\"4231\"},{\"id\":\"4232\"},{\"id\":\"4233\"},{\"id\":\"4234\"}]},\"id\":\"4236\",\"type\":\"Toolbar\"},{\"attributes\":{\"axis_label\":\"feature_2\",\"coordinates\":null,\"formatter\":{\"id\":\"4247\"},\"group\":null,\"major_label_policy\":{\"id\":\"4248\"},\"ticker\":{\"id\":\"4227\"}},\"id\":\"4226\",\"type\":\"LinearAxis\"},{\"attributes\":{},\"id\":\"4230\",\"type\":\"SaveTool\"},{\"attributes\":{},\"id\":\"4220\",\"type\":\"LinearScale\"},{\"attributes\":{\"angle\":{\"value\":0.0},\"fill_alpha\":{\"value\":1.0},\"fill_color\":{\"value\":\"#e5ae38\"},\"hatch_alpha\":{\"value\":1.0},\"hatch_color\":{\"value\":\"#e5ae38\"},\"hatch_scale\":{\"value\":12.0},\"hatch_weight\":{\"value\":1.0},\"line_alpha\":{\"value\":1.0},\"line_cap\":{\"value\":\"butt\"},\"line_color\":{\"value\":\"#e5ae38\"},\"line_dash\":{\"value\":[]},\"line_dash_offset\":{\"value\":0},\"line_join\":{\"value\":\"bevel\"},\"line_width\":{\"value\":1},\"marker\":{\"value\":\"circle\"},\"size\":{\"value\":5.477225575051661},\"tags\":[\"apply_ranges\"],\"x\":{\"field\":\"feature_1\"},\"y\":{\"field\":\"feature_2\"}},\"id\":\"4315\",\"type\":\"Scatter\"},{\"attributes\":{\"bottom_units\":\"screen\",\"coordinates\":null,\"fill_alpha\":0.5,\"fill_color\":\"lightgrey\",\"group\":null,\"left_units\":\"screen\",\"level\":\"overlay\",\"line_alpha\":1.0,\"line_color\":\"black\",\"line_dash\":[4,4],\"line_width\":2,\"right_units\":\"screen\",\"syncable\":false,\"top_units\":\"screen\"},\"id\":\"4235\",\"type\":\"BoxAnnotation\"},{\"attributes\":{\"coordinates\":null,\"data_source\":{\"id\":\"4249\"},\"glyph\":{\"id\":\"4252\"},\"group\":null,\"hover_glyph\":null,\"muted_glyph\":{\"id\":\"4254\"},\"nonselection_glyph\":{\"id\":\"4253\"},\"selection_glyph\":{\"id\":\"4269\"},\"view\":{\"id\":\"4256\"}},\"id\":\"4255\",\"type\":\"GlyphRenderer\"},{\"attributes\":{\"fill_color\":{\"value\":\"#fc4f30\"},\"hatch_color\":{\"value\":\"#fc4f30\"},\"line_color\":{\"value\":\"#fc4f30\"},\"size\":{\"value\":5.477225575051661},\"tags\":[\"apply_ranges\"],\"x\":{\"field\":\"feature_1\"},\"y\":{\"field\":\"feature_2\"}},\"id\":\"4273\",\"type\":\"Scatter\"},{\"attributes\":{\"axis_label\":\"feature_1\",\"coordinates\":null,\"formatter\":{\"id\":\"4244\"},\"group\":null,\"major_label_policy\":{\"id\":\"4245\"},\"ticker\":{\"id\":\"4223\"}},\"id\":\"4222\",\"type\":\"LinearAxis\"},{\"attributes\":{\"data\":{\"class\":[0,0,0,0,0,0,0,0,0,0,0,0,0,0,0,0,0,0,0,0,0,0,0,0,0,0,0,0,0,0,0,0,0,0,0,0,0,0,0,0,0,0,0,0,0,0,0,0,0,0,0,0,0,0,0,0,0,0,0,0,0,0,0,0,0,0,0,0,0,0,0,0,0,0,0,0,0,0,0,0,0,0,0,0,0,0,0,0,0,0,0,0,0,0,0,0,0,0,0,0,0,0,0,0,0,0,0,0,0,0,0,0,0,0,0,0,0,0,0,0,0,0,0,0,0,0,0,0,0,0,0,0,0,0,0,0,0,0,0,0,0,0,0,0,0,0,0,0,0,0,0,0,0,0,0,0,0,0,0,0,0,0,0,0,0,0,0,0,0,0,0,0,0,0,0,0,0,0,0,0,0,0,0,0,0,0,0,0,0,0,0,0,0,0,0,0,0,0,0,0,0,0,0,0,0,0,0,0,0,0,0,0,0,0,0,0,0,0,0,0,0,0,0,0,0,0,0,0,0,0,0,0,0,0,0,0,0,0,0,0,0,0,0,0,0,0,0,0,0,0,0,0,0,0,0,0,0,0,0,0,0,0,0,0,0,0,0,0,0,0,0,0,0,0,0,0,0,0,0,0,0,0,0,0,0,0,0,0,0,0,0,0,0,0,0,0,0,0,0],\"feature_1\":{\"__ndarray__\":\"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\",\"dtype\":\"float64\",\"order\":\"little\",\"shape\":[299]},\"feature_2\":{\"__ndarray__\":\"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\",\"dtype\":\"float64\",\"order\":\"little\",\"shape\":[299]}},\"selected\":{\"id\":\"4250\"},\"selection_policy\":{\"id\":\"4264\"}},\"id\":\"4249\",\"type\":\"ColumnDataSource\"},{\"attributes\":{\"fill_alpha\":{\"value\":0.1},\"fill_color\":{\"value\":\"#30a2da\"},\"hatch_alpha\":{\"value\":0.1},\"hatch_color\":{\"value\":\"#30a2da\"},\"line_alpha\":{\"value\":0.1},\"line_color\":{\"value\":\"#30a2da\"},\"size\":{\"value\":5.477225575051661},\"tags\":[\"apply_ranges\"],\"x\":{\"field\":\"feature_1\"},\"y\":{\"field\":\"feature_2\"}},\"id\":\"4253\",\"type\":\"Scatter\"},{\"attributes\":{\"axis\":{\"id\":\"4226\"},\"coordinates\":null,\"dimension\":1,\"grid_line_color\":null,\"group\":null,\"ticker\":null},\"id\":\"4229\",\"type\":\"Grid\"},{\"attributes\":{\"data\":{\"class\":[2,2,2,2,2,2,2,2,2,2,2,2,2,2,2,2,2,2,2,2,2,2,2,2,2,2,2,2,2,2,2,2,2,2,2,2,2,2,2,2,2,2,2,2,2,2,2,2,2,2,2,2,2,2,2,2,2,2,2,2,2,2,2,2,2,2,2,2,2,2,2,2,2,2,2,2,2,2,2,2,2,2,2,2,2,2,2,2,2,2,2,2,2,2,2,2,2,2,2,2,2,2,2,2,2,2,2,2,2,2,2,2,2,2,2,2,2,2,2,2,2,2,2,2,2,2,2,2,2,2,2,2,2,2,2,2,2,2,2,2,2,2,2,2,2,2,2,2,2,2,2,2,2,2,2,2,2,2,2,2,2,2,2,2,2,2,2,2,2,2,2,2,2,2,2,2,2,2,2,2,2,2,2,2,2,2,2,2,2,2,2,2,2,2,2,2,2,2,2],\"feature_1\":{\"__ndarray__\":\"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\",\"dtype\":\"float64\",\"order\":\"little\",\"shape\":[199]},\"feature_2\":{\"__ndarray__\":\"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\",\"dtype\":\"float64\",\"order\":\"little\",\"shape\":[199]}},\"selected\":{\"id\":\"4293\"},\"selection_policy\":{\"id\":\"4311\"}},\"id\":\"4292\",\"type\":\"ColumnDataSource\"},{\"attributes\":{},\"id\":\"4293\",\"type\":\"Selection\"},{\"attributes\":{},\"id\":\"4287\",\"type\":\"UnionRenderers\"},{\"attributes\":{\"data\":{\"class\":[1,1,1,1,1,1,1,1,1,1,1,1,1,1,1,1,1,1,1,1,1,1,1,1,1,1,1,1,1,1,1,1,1,1,1,1,1,1,1,1,1,1,1,1,1,1,1,1,1,1,1,1,1,1,1,1,1,1,1,1,1,1,1,1,1,1,1,1,1,1,1,1,1,1,1,1,1,1,1,1,1,1,1,1,1,1,1,1,1,1,1,1,1,1,1,1,1,1,1,1,1,1,1,1,1,1,1,1,1,1,1,1,1,1,1,1,1,1,1,1,1,1,1,1,1,1,1,1,1,1,1,1,1,1,1,1,1,1,1,1,1,1,1,1,1,1,1,1,1,1,1,1,1,1,1,1,1,1,1,1,1,1,1,1,1,1,1,1,1,1,1,1,1,1,1,1,1,1,1,1,1,1,1,1,1,1,1,1,1,1,1,1,1,1,1,1,1,1,1,1,1,1,1,1,1,1,1,1,1,1,1,1,1,1,1,1,1,1,1,1,1,1,1,1,1,1,1,1,1,1,1,1,1,1,1,1,1,1,1,1,1,1,1,1,1,1,1,1,1,1,1,1,1,1,1,1,1,1,1,1,1,1,1,1,1,1,1,1,1,1,1,1,1,1,1,1,1,1,1,1,1,1,1,1,1,1,1,1,1,1,1,1,1,1,1,1,1,1,1,1,1,1,1,1,1,1,1,1,1,1,1,1,1,1,1,1,1,1,1,1,1,1,1,1,1,1,1,1,1,1,1,1,1,1,1,1,1,1,1,1,1,1,1,1,1,1,1,1,1,1,1,1,1,1,1,1,1,1,1,1,1,1,1,1,1,1,1,1,1,1,1,1,1,1,1,1,1,1,1,1,1,1,1,1,1,1,1,1,1,1,1,1,1,1,1,1,1,1,1,1,1,1,1,1,1,1,1,1,1,1,1,1,1,1,1,1,1,1,1,1,1,1,1,1,1,1,1,1,1,1,1,1,1,1,1,1,1,1,1,1,1,1,1,1,1,1,1,1,1,1,1,1,1,1,1,1,1,1,1,1,1,1,1,1,1,1,1,1,1,1,1,1,1,1,1,1,1,1,1,1,1,1,1,1,1,1,1,1,1,1,1,1,1,1,1,1,1,1,1,1,1,1],\"feature_1\":{\"__ndarray__\":\"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\",\"dtype\":\"float64\",\"order\":\"little\",\"shape\":[502]},\"feature_2\":{\"__ndarray__\":\"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\",\"dtype\":\"float64\",\"order\":\"little\",\"shape\":[502]}},\"selected\":{\"id\":\"4271\"},\"selection_policy\":{\"id\":\"4287\"}},\"id\":\"4270\",\"type\":\"ColumnDataSource\"},{\"attributes\":{\"end\":9.215602229847773,\"reset_end\":9.215602229847773,\"reset_start\":-5.909730475924883,\"start\":-5.909730475924883,\"tags\":[[[\"feature_2\",\"feature_2\",null]]]},\"id\":\"4209\",\"type\":\"Range1d\"},{\"attributes\":{},\"id\":\"4248\",\"type\":\"AllLabels\"},{\"attributes\":{\"label\":{\"value\":\"1\"},\"renderers\":[{\"id\":\"4276\"}]},\"id\":\"4290\",\"type\":\"LegendItem\"},{\"attributes\":{},\"id\":\"4245\",\"type\":\"AllLabels\"},{\"attributes\":{\"below\":[{\"id\":\"4222\"}],\"center\":[{\"id\":\"4225\"},{\"id\":\"4229\"}],\"height\":300,\"left\":[{\"id\":\"4226\"}],\"margin\":[5,5,5,5],\"min_border_bottom\":10,\"min_border_left\":10,\"min_border_right\":10,\"min_border_top\":10,\"output_backend\":\"webgl\",\"renderers\":[{\"id\":\"4255\"},{\"id\":\"4276\"},{\"id\":\"4298\"}],\"right\":[{\"id\":\"4267\"}],\"sizing_mode\":\"fixed\",\"title\":{\"id\":\"4214\"},\"toolbar\":{\"id\":\"4236\"},\"width\":700,\"x_range\":{\"id\":\"4208\"},\"x_scale\":{\"id\":\"4218\"},\"y_range\":{\"id\":\"4209\"},\"y_scale\":{\"id\":\"4220\"}},\"id\":\"4213\",\"subtype\":\"Figure\",\"type\":\"Plot\"},{\"attributes\":{\"coordinates\":null,\"data_source\":{\"id\":\"4292\"},\"glyph\":{\"id\":\"4295\"},\"group\":null,\"hover_glyph\":null,\"muted_glyph\":{\"id\":\"4297\"},\"nonselection_glyph\":{\"id\":\"4296\"},\"selection_glyph\":{\"id\":\"4315\"},\"view\":{\"id\":\"4299\"}},\"id\":\"4298\",\"type\":\"GlyphRenderer\"},{\"attributes\":{\"source\":{\"id\":\"4249\"}},\"id\":\"4256\",\"type\":\"CDSView\"},{\"attributes\":{\"angle\":{\"value\":0.0},\"fill_alpha\":{\"value\":1.0},\"fill_color\":{\"value\":\"#30a2da\"},\"hatch_alpha\":{\"value\":1.0},\"hatch_color\":{\"value\":\"#30a2da\"},\"hatch_scale\":{\"value\":12.0},\"hatch_weight\":{\"value\":1.0},\"line_alpha\":{\"value\":1.0},\"line_cap\":{\"value\":\"butt\"},\"line_color\":{\"value\":\"#30a2da\"},\"line_dash\":{\"value\":[]},\"line_dash_offset\":{\"value\":0},\"line_join\":{\"value\":\"bevel\"},\"line_width\":{\"value\":1},\"marker\":{\"value\":\"circle\"},\"size\":{\"value\":5.477225575051661},\"tags\":[\"apply_ranges\"],\"x\":{\"field\":\"feature_1\"},\"y\":{\"field\":\"feature_2\"}},\"id\":\"4269\",\"type\":\"Scatter\"},{\"attributes\":{\"children\":[{\"id\":\"4213\"}],\"height\":300,\"margin\":[0,0,0,0],\"name\":\"Row04023\",\"sizing_mode\":\"fixed\",\"tags\":[\"embedded\"],\"width\":700},\"id\":\"4207\",\"type\":\"Row\"},{\"attributes\":{\"fill_color\":{\"value\":\"#30a2da\"},\"hatch_color\":{\"value\":\"#30a2da\"},\"line_color\":{\"value\":\"#30a2da\"},\"size\":{\"value\":5.477225575051661},\"tags\":[\"apply_ranges\"],\"x\":{\"field\":\"feature_1\"},\"y\":{\"field\":\"feature_2\"}},\"id\":\"4252\",\"type\":\"Scatter\"},{\"attributes\":{\"angle\":{\"value\":0.0},\"fill_alpha\":{\"value\":1.0},\"fill_color\":{\"value\":\"#fc4f30\"},\"hatch_alpha\":{\"value\":1.0},\"hatch_color\":{\"value\":\"#fc4f30\"},\"hatch_scale\":{\"value\":12.0},\"hatch_weight\":{\"value\":1.0},\"line_alpha\":{\"value\":1.0},\"line_cap\":{\"value\":\"butt\"},\"line_color\":{\"value\":\"#fc4f30\"},\"line_dash\":{\"value\":[]},\"line_dash_offset\":{\"value\":0},\"line_join\":{\"value\":\"bevel\"},\"line_width\":{\"value\":1},\"marker\":{\"value\":\"circle\"},\"size\":{\"value\":5.477225575051661},\"tags\":[\"apply_ranges\"],\"x\":{\"field\":\"feature_1\"},\"y\":{\"field\":\"feature_2\"}},\"id\":\"4291\",\"type\":\"Scatter\"},{\"attributes\":{\"callback\":null,\"renderers\":[{\"id\":\"4255\"},{\"id\":\"4276\"},{\"id\":\"4298\"}],\"tags\":[\"hv_created\"],\"tooltips\":[[\"class\",\"@{class}\"],[\"feature_1\",\"@{feature_1}\"],[\"feature_2\",\"@{feature_2}\"]]},\"id\":\"4210\",\"type\":\"HoverTool\"},{\"attributes\":{\"click_policy\":\"mute\",\"coordinates\":null,\"group\":null,\"items\":[{\"id\":\"4268\"},{\"id\":\"4290\"},{\"id\":\"4314\"}],\"location\":[0,0],\"title\":\"class\"},\"id\":\"4267\",\"type\":\"Legend\"},{\"attributes\":{\"end\":6.812945338442532,\"reset_end\":6.812945338442532,\"reset_start\":-6.796693307805908,\"start\":-6.796693307805908,\"tags\":[[[\"feature_1\",\"feature_1\",null]]]},\"id\":\"4208\",\"type\":\"Range1d\"}],\"root_ids\":[\"4207\"]},\"title\":\"Bokeh Application\",\"version\":\"2.4.3\"}};\n",
       "    var render_items = [{\"docid\":\"f142fa75-0c65-456a-8ed1-91095a65887b\",\"root_ids\":[\"4207\"],\"roots\":{\"4207\":\"e6a70c67-85fd-47c2-afc7-44681aae4a42\"}}];\n",
       "    root.Bokeh.embed.embed_items_notebook(docs_json, render_items);\n",
       "    for (const render_item of render_items) {\n",
       "      for (const root_id of render_item.root_ids) {\n",
       "\tconst id_el = document.getElementById(root_id)\n",
       "\tif (id_el.children.length && (id_el.children[0].className === 'bk-root')) {\n",
       "\t  const root_el = id_el.children[0]\n",
       "\t  root_el.id = root_el.id + '-rendered'\n",
       "\t}\n",
       "      }\n",
       "    }\n",
       "  }\n",
       "  if (root.Bokeh !== undefined && root.Bokeh.Panel !== undefined) {\n",
       "    embed_document(root);\n",
       "  } else {\n",
       "    var attempts = 0;\n",
       "    var timer = setInterval(function(root) {\n",
       "      if (root.Bokeh !== undefined && root.Bokeh.Panel !== undefined) {\n",
       "        clearInterval(timer);\n",
       "        embed_document(root);\n",
       "      } else if (document.readyState == \"complete\") {\n",
       "        attempts++;\n",
       "        if (attempts > 200) {\n",
       "          clearInterval(timer);\n",
       "          console.log(\"Bokeh: ERROR: Unable to run BokehJS code because BokehJS library is missing\");\n",
       "        }\n",
       "      }\n",
       "    }, 25, root)\n",
       "  }\n",
       "})(window);</script>"
      ],
      "text/plain": [
       ":NdOverlay   [class]\n",
       "   :Scatter   [feature_1]   (feature_2)"
      ]
     },
     "metadata": {
      "application/vnd.holoviews_exec.v0+json": {
       "id": "4207"
      }
     },
     "output_type": "display_data"
    },
    {
     "data": {
      "text/html": [
       "<div>\n",
       "<style scoped>\n",
       "    .dataframe tbody tr th:only-of-type {\n",
       "        vertical-align: middle;\n",
       "    }\n",
       "\n",
       "    .dataframe tbody tr th {\n",
       "        vertical-align: top;\n",
       "    }\n",
       "\n",
       "    .dataframe thead th {\n",
       "        text-align: right;\n",
       "    }\n",
       "</style>\n",
       "<table border=\"1\" class=\"dataframe\">\n",
       "  <thead>\n",
       "    <tr style=\"text-align: right;\">\n",
       "      <th></th>\n",
       "      <th>model</th>\n",
       "      <th>score</th>\n",
       "    </tr>\n",
       "  </thead>\n",
       "  <tbody>\n",
       "    <tr>\n",
       "      <th>1</th>\n",
       "      <td>Birch</td>\n",
       "      <td>1186.538926</td>\n",
       "    </tr>\n",
       "    <tr>\n",
       "      <th>2</th>\n",
       "      <td>AgglomerativeClustering</td>\n",
       "      <td>1190.911709</td>\n",
       "    </tr>\n",
       "    <tr>\n",
       "      <th>3</th>\n",
       "      <td>SpectralClustering</td>\n",
       "      <td>1192.150635</td>\n",
       "    </tr>\n",
       "    <tr>\n",
       "      <th>0</th>\n",
       "      <td>KMeans</td>\n",
       "      <td>1197.233959</td>\n",
       "    </tr>\n",
       "  </tbody>\n",
       "</table>\n",
       "</div>"
      ],
      "text/plain": [
       "                     model        score\n",
       "1                    Birch  1186.538926\n",
       "2  AgglomerativeClustering  1190.911709\n",
       "3       SpectralClustering  1192.150635\n",
       "0                   KMeans  1197.233959"
      ]
     },
     "execution_count": 88,
     "metadata": {},
     "output_type": "execute_result"
    }
   ],
   "source": [
    "### Added trick\n",
    "\n",
    "from sklearn import metrics\n",
    "\n",
    "n_clusters = 3\n",
    "\n",
    "ml = {\n",
    "    \"KMeans\":KMeans(n_clusters=n_clusters, random_state=0),\n",
    "    \"Birch\":Birch(n_clusters=n_clusters),\n",
    "    \"AgglomerativeClustering\":AgglomerativeClustering(n_clusters=n_clusters),\n",
    "    \"SpectralClustering\":SpectralClustering(n_clusters=n_clusters),\n",
    "#     \"cluster_optics_dbscan\":cluster_optics_dbscan(n_clusters=n_clusters),\n",
    "}\n",
    "\n",
    "res = []\n",
    "p=[]\n",
    "for x in ml:\n",
    "    model = ml[x]\n",
    "    model.fit(customers_df)\n",
    "    y_pred = model.fit_predict(customers_df)\n",
    "\n",
    "    labels = model.labels_\n",
    "    score = metrics.calinski_harabasz_score(customers_df, labels) \n",
    "    res.append({\n",
    "        \"model\":x,\n",
    "        \"score\": score\n",
    "    })\n",
    "    customers_df[\"class\"] = y_pred\n",
    "    display(customers_df.hvplot.scatter(\n",
    "        x=\"feature_1\",\n",
    "        y=\"feature_2\",\n",
    "        title=x,\n",
    "        by=\"class\"\n",
    "    ))\n",
    "    \n",
    "df_res = pd.DataFrame(res)\n",
    "df_res.sort_values(\"score\")\n",
    "\n",
    "\n",
    "\n",
    "\n",
    "\n",
    "\n",
    "\n"
   ]
  },
  {
   "cell_type": "markdown",
   "metadata": {},
   "source": [
    "# =========================================="
   ]
  },
  {
   "cell_type": "markdown",
   "metadata": {},
   "source": [
    "### Rating Class Objectives\n",
    "\n",
    "* rate your understanding using 1-5 method in each objective"
   ]
  },
  {
   "cell_type": "code",
   "execution_count": null,
   "metadata": {},
   "outputs": [],
   "source": [
    "title = \"20.2-Unsupervised-Learning - Machine Learning in Practice\"\n",
    "objectives = [\n",
    "    \"Segment data\",\n",
    "    \"Prepare data for complex algorithms\",\n",
    "    \"Explain the importance of preprocessing data for unsupervised learning\",\n",
    "    \"Transform categorical variables into a numerical representation using Pandas\",\n",
    "    \"Scale data by using the StandardScaler module from scikit-learn\",\n",
    "]\n",
    "rating = []\n",
    "total = 0\n",
    "for i in range(len(objectives)):\n",
    "    rate = input(objectives[i]+\"? \")\n",
    "    total += int(rate)\n",
    "    rating.append(objectives[i] + \". (\" + rate + \"/5)\")\n",
    "print(\"=\"*96)\n",
    "print(f\"Self Evaluation for: {title}\")\n",
    "print(\"-\"*24)\n",
    "for i in rating:\n",
    "    print(i)\n",
    "print(\"-\"*64)\n",
    "print(\"Average: \" + str(total/len(objectives)))"
   ]
  }
 ],
 "metadata": {
  "kernelspec": {
   "display_name": "Python [conda env:PythonData]",
   "language": "python",
   "name": "conda-env-PythonData-py"
  },
  "language_info": {
   "codemirror_mode": {
    "name": "ipython",
    "version": 3
   },
   "file_extension": ".py",
   "mimetype": "text/x-python",
   "name": "python",
   "nbconvert_exporter": "python",
   "pygments_lexer": "ipython3",
   "version": "3.7.16"
  }
 },
 "nbformat": 4,
 "nbformat_minor": 4
}
