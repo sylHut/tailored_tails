{
 "cells": [
  {
   "cell_type": "code",
   "execution_count": 5,
   "id": "8b116af1-b6ac-444b-9686-494c5a0fc223",
   "metadata": {},
   "outputs": [],
   "source": [
    "import pickle"
   ]
  },
  {
   "cell_type": "code",
   "execution_count": 6,
   "id": "68ee7fec-9dfd-4807-87a4-7c3378ee537a",
   "metadata": {},
   "outputs": [],
   "source": [
    "scaler = pickle.load( open( \"save.p\", \"rb\" ) )"
   ]
  },
  {
   "cell_type": "code",
   "execution_count": 10,
   "id": "d5dfb924-2372-4b26-b30e-c5e1be8408ed",
   "metadata": {},
   "outputs": [
    {
     "name": "stderr",
     "output_type": "stream",
     "text": [
      "C:\\Users\\k\\anaconda3\\envs\\PythonData\\lib\\site-packages\\sklearn\\base.py:451: UserWarning: X does not have valid feature names, but StandardScaler was fitted with feature names\n",
      "  \"X does not have valid feature names, but\"\n"
     ]
    },
    {
     "data": {
      "text/plain": [
       "array([[-1.71199807, -1.65519882,  0.47541665, -1.64608417, -1.36582188,\n",
       "        17.33904192, 64.00673393]])"
      ]
     },
     "execution_count": 10,
     "metadata": {},
     "output_type": "execute_result"
    }
   ],
   "source": [
    "scaler.transform([[1, 2, 34, 2, 4, 5, 7]])"
   ]
  },
  {
   "cell_type": "code",
   "execution_count": null,
   "id": "201eba2e-7de5-40c0-be6a-adf5ea07aca3",
   "metadata": {},
   "outputs": [],
   "source": []
  }
 ],
 "metadata": {
  "kernelspec": {
   "display_name": "Python [conda env:PythonData]",
   "language": "python",
   "name": "conda-env-PythonData-py"
  },
  "language_info": {
   "codemirror_mode": {
    "name": "ipython",
    "version": 3
   },
   "file_extension": ".py",
   "mimetype": "text/x-python",
   "name": "python",
   "nbconvert_exporter": "python",
   "pygments_lexer": "ipython3",
   "version": "3.7.16"
  }
 },
 "nbformat": 4,
 "nbformat_minor": 5
}
