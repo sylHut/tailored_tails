{
 "cells": [
  {
   "cell_type": "code",
   "execution_count": 11,
   "metadata": {},
   "outputs": [],
   "source": [
    "# Import the modules\n",
    "import pandas as pd\n",
    "import hvplot.pandas\n",
    "from pathlib import Path\n",
    "from sklearn.cluster import KMeans\n",
    "from sklearn.preprocessing import StandardScaler"
   ]
  },
  {
   "cell_type": "code",
   "execution_count": 34,
   "metadata": {},
   "outputs": [
    {
     "data": {
      "text/plain": [
       "'0.8.4'"
      ]
     },
     "execution_count": 34,
     "metadata": {},
     "output_type": "execute_result"
    }
   ],
   "source": [
    "hvplot.__version__"
   ]
  },
  {
   "cell_type": "code",
   "execution_count": 35,
   "metadata": {},
   "outputs": [
    {
     "name": "stdout",
     "output_type": "stream",
     "text": [
      "Python 3.7.16\n"
     ]
    }
   ],
   "source": [
    "!python -V"
   ]
  },
  {
   "cell_type": "code",
   "execution_count": 12,
   "metadata": {},
   "outputs": [
    {
     "data": {
      "text/html": [
       "<div>\n",
       "<style scoped>\n",
       "    .dataframe tbody tr th:only-of-type {\n",
       "        vertical-align: middle;\n",
       "    }\n",
       "\n",
       "    .dataframe tbody tr th {\n",
       "        vertical-align: top;\n",
       "    }\n",
       "\n",
       "    .dataframe thead th {\n",
       "        text-align: right;\n",
       "    }\n",
       "</style>\n",
       "<table border=\"1\" class=\"dataframe\">\n",
       "  <thead>\n",
       "    <tr style=\"text-align: right;\">\n",
       "      <th></th>\n",
       "      <th>close</th>\n",
       "      <th>volume</th>\n",
       "      <th>open</th>\n",
       "      <th>high</th>\n",
       "      <th>low</th>\n",
       "      <th>returns</th>\n",
       "      <th>hi_low_spread</th>\n",
       "    </tr>\n",
       "    <tr>\n",
       "      <th>date</th>\n",
       "      <th></th>\n",
       "      <th></th>\n",
       "      <th></th>\n",
       "      <th></th>\n",
       "      <th></th>\n",
       "      <th></th>\n",
       "      <th></th>\n",
       "    </tr>\n",
       "  </thead>\n",
       "  <tbody>\n",
       "    <tr>\n",
       "      <th>2009-04-30</th>\n",
       "      <td>3.61</td>\n",
       "      <td>18193730</td>\n",
       "      <td>3.55</td>\n",
       "      <td>3.73</td>\n",
       "      <td>3.53</td>\n",
       "      <td>0.028490</td>\n",
       "      <td>0.20</td>\n",
       "    </tr>\n",
       "    <tr>\n",
       "      <th>2009-05-01</th>\n",
       "      <td>3.82</td>\n",
       "      <td>16233940</td>\n",
       "      <td>3.55</td>\n",
       "      <td>3.90</td>\n",
       "      <td>3.55</td>\n",
       "      <td>0.058172</td>\n",
       "      <td>0.35</td>\n",
       "    </tr>\n",
       "    <tr>\n",
       "      <th>2009-05-04</th>\n",
       "      <td>4.26</td>\n",
       "      <td>21236940</td>\n",
       "      <td>3.90</td>\n",
       "      <td>4.30</td>\n",
       "      <td>3.83</td>\n",
       "      <td>0.115183</td>\n",
       "      <td>0.47</td>\n",
       "    </tr>\n",
       "    <tr>\n",
       "      <th>2009-05-05</th>\n",
       "      <td>4.32</td>\n",
       "      <td>16369170</td>\n",
       "      <td>4.36</td>\n",
       "      <td>4.39</td>\n",
       "      <td>4.11</td>\n",
       "      <td>0.014085</td>\n",
       "      <td>0.28</td>\n",
       "    </tr>\n",
       "    <tr>\n",
       "      <th>2009-05-06</th>\n",
       "      <td>4.31</td>\n",
       "      <td>15075630</td>\n",
       "      <td>4.45</td>\n",
       "      <td>4.45</td>\n",
       "      <td>4.12</td>\n",
       "      <td>-0.002315</td>\n",
       "      <td>0.33</td>\n",
       "    </tr>\n",
       "  </tbody>\n",
       "</table>\n",
       "</div>"
      ],
      "text/plain": [
       "            close    volume  open  high   low   returns  hi_low_spread\n",
       "date                                                                  \n",
       "2009-04-30   3.61  18193730  3.55  3.73  3.53  0.028490           0.20\n",
       "2009-05-01   3.82  16233940  3.55  3.90  3.55  0.058172           0.35\n",
       "2009-05-04   4.26  21236940  3.90  4.30  3.83  0.115183           0.47\n",
       "2009-05-05   4.32  16369170  4.36  4.39  4.11  0.014085           0.28\n",
       "2009-05-06   4.31  15075630  4.45  4.45  4.12 -0.002315           0.33"
      ]
     },
     "execution_count": 12,
     "metadata": {},
     "output_type": "execute_result"
    }
   ],
   "source": [
    "# Read in the CSV file as a Pandas DataFrame\n",
    "spread_df = pd.read_csv(\n",
    "    Path(\"../Resources/stock_data.csv\"),\n",
    "    index_col=\"date\", \n",
    "    parse_dates=True, \n",
    "    infer_datetime_format=True\n",
    ")\n",
    "\n",
    "# Review the DataFrame\n",
    "spread_df.head()"
   ]
  },
  {
   "cell_type": "code",
   "execution_count": 13,
   "metadata": {},
   "outputs": [],
   "source": [
    "# Create a a list to store inertia values\n",
    "inertia = []\n",
    "\n",
    "# Create a a list to store the values of k\n",
    "k = list(range(1, 11))"
   ]
  },
  {
   "cell_type": "code",
   "execution_count": 14,
   "metadata": {},
   "outputs": [],
   "source": [
    "# Create a for-loop where each value of k is evaluated using the K-means algorithm\n",
    "# Fit the model using the spread_df DataFrame\n",
    "# Append the value of the computed inertia from the `inertia_` attribute of the KMeans model instance\n",
    "for i in k:\n",
    "    k_model = KMeans(n_clusters=i, random_state=1)\n",
    "    k_model.fit(spread_df)\n",
    "    inertia.append(k_model.inertia_)"
   ]
  },
  {
   "cell_type": "code",
   "execution_count": 15,
   "metadata": {},
   "outputs": [
    {
     "data": {
      "text/html": [
       "<div>\n",
       "<style scoped>\n",
       "    .dataframe tbody tr th:only-of-type {\n",
       "        vertical-align: middle;\n",
       "    }\n",
       "\n",
       "    .dataframe tbody tr th {\n",
       "        vertical-align: top;\n",
       "    }\n",
       "\n",
       "    .dataframe thead th {\n",
       "        text-align: right;\n",
       "    }\n",
       "</style>\n",
       "<table border=\"1\" class=\"dataframe\">\n",
       "  <thead>\n",
       "    <tr style=\"text-align: right;\">\n",
       "      <th></th>\n",
       "      <th>k</th>\n",
       "      <th>inertia</th>\n",
       "    </tr>\n",
       "  </thead>\n",
       "  <tbody>\n",
       "    <tr>\n",
       "      <th>0</th>\n",
       "      <td>1</td>\n",
       "      <td>2.835703e+18</td>\n",
       "    </tr>\n",
       "    <tr>\n",
       "      <th>1</th>\n",
       "      <td>2</td>\n",
       "      <td>9.903144e+17</td>\n",
       "    </tr>\n",
       "    <tr>\n",
       "      <th>2</th>\n",
       "      <td>3</td>\n",
       "      <td>4.999629e+17</td>\n",
       "    </tr>\n",
       "    <tr>\n",
       "      <th>3</th>\n",
       "      <td>4</td>\n",
       "      <td>3.062100e+17</td>\n",
       "    </tr>\n",
       "    <tr>\n",
       "      <th>4</th>\n",
       "      <td>5</td>\n",
       "      <td>2.101772e+17</td>\n",
       "    </tr>\n",
       "  </tbody>\n",
       "</table>\n",
       "</div>"
      ],
      "text/plain": [
       "   k       inertia\n",
       "0  1  2.835703e+18\n",
       "1  2  9.903144e+17\n",
       "2  3  4.999629e+17\n",
       "3  4  3.062100e+17\n",
       "4  5  2.101772e+17"
      ]
     },
     "execution_count": 15,
     "metadata": {},
     "output_type": "execute_result"
    }
   ],
   "source": [
    "# Create a Dictionary that holds the list values for k and inertia\n",
    "elbow_data = {\"k\": k, \"inertia\": inertia}\n",
    "\n",
    "# Create a DataFrame using the elbow_data Dictionary\n",
    "df_elbow = pd.DataFrame(elbow_data)\n",
    "\n",
    "# Review the DataFrame\n",
    "df_elbow.head()"
   ]
  },
  {
   "cell_type": "code",
   "execution_count": 16,
   "metadata": {},
   "outputs": [
    {
     "data": {},
     "metadata": {},
     "output_type": "display_data"
    },
    {
     "data": {
      "application/vnd.holoviews_exec.v0+json": "",
      "text/html": [
       "<div id='1535'>\n",
       "  <div class=\"bk-root\" id=\"57cca058-e51a-4faa-84d5-58704d77a9ff\" data-root-id=\"1535\"></div>\n",
       "</div>\n",
       "<script type=\"application/javascript\">(function(root) {\n",
       "  function embed_document(root) {\n",
       "    var docs_json = {\"9cf1a48a-4a86-41be-8959-9692d47f5f4a\":{\"defs\":[{\"extends\":null,\"module\":null,\"name\":\"ReactiveHTML1\",\"overrides\":[],\"properties\":[]},{\"extends\":null,\"module\":null,\"name\":\"FlexBox1\",\"overrides\":[],\"properties\":[{\"default\":\"flex-start\",\"kind\":null,\"name\":\"align_content\"},{\"default\":\"flex-start\",\"kind\":null,\"name\":\"align_items\"},{\"default\":\"row\",\"kind\":null,\"name\":\"flex_direction\"},{\"default\":\"wrap\",\"kind\":null,\"name\":\"flex_wrap\"},{\"default\":\"flex-start\",\"kind\":null,\"name\":\"justify_content\"}]},{\"extends\":null,\"module\":null,\"name\":\"GridStack1\",\"overrides\":[],\"properties\":[{\"default\":\"warn\",\"kind\":null,\"name\":\"mode\"},{\"default\":null,\"kind\":null,\"name\":\"ncols\"},{\"default\":null,\"kind\":null,\"name\":\"nrows\"},{\"default\":true,\"kind\":null,\"name\":\"allow_resize\"},{\"default\":true,\"kind\":null,\"name\":\"allow_drag\"},{\"default\":[],\"kind\":null,\"name\":\"state\"}]},{\"extends\":null,\"module\":null,\"name\":\"click1\",\"overrides\":[],\"properties\":[{\"default\":\"\",\"kind\":null,\"name\":\"terminal_output\"},{\"default\":\"\",\"kind\":null,\"name\":\"debug_name\"},{\"default\":0,\"kind\":null,\"name\":\"clears\"}]},{\"extends\":null,\"module\":null,\"name\":\"NotificationAreaBase1\",\"overrides\":[],\"properties\":[{\"default\":\"bottom-right\",\"kind\":null,\"name\":\"position\"},{\"default\":0,\"kind\":null,\"name\":\"_clear\"}]},{\"extends\":null,\"module\":null,\"name\":\"NotificationArea1\",\"overrides\":[],\"properties\":[{\"default\":[],\"kind\":null,\"name\":\"notifications\"},{\"default\":\"bottom-right\",\"kind\":null,\"name\":\"position\"},{\"default\":0,\"kind\":null,\"name\":\"_clear\"},{\"default\":[{\"background\":\"#ffc107\",\"icon\":{\"className\":\"fas fa-exclamation-triangle\",\"color\":\"white\",\"tagName\":\"i\"},\"type\":\"warning\"},{\"background\":\"#007bff\",\"icon\":{\"className\":\"fas fa-info-circle\",\"color\":\"white\",\"tagName\":\"i\"},\"type\":\"info\"}],\"kind\":null,\"name\":\"types\"}]},{\"extends\":null,\"module\":null,\"name\":\"Notification\",\"overrides\":[],\"properties\":[{\"default\":null,\"kind\":null,\"name\":\"background\"},{\"default\":3000,\"kind\":null,\"name\":\"duration\"},{\"default\":null,\"kind\":null,\"name\":\"icon\"},{\"default\":\"\",\"kind\":null,\"name\":\"message\"},{\"default\":null,\"kind\":null,\"name\":\"notification_type\"},{\"default\":false,\"kind\":null,\"name\":\"_destroyed\"}]},{\"extends\":null,\"module\":null,\"name\":\"TemplateActions1\",\"overrides\":[],\"properties\":[{\"default\":0,\"kind\":null,\"name\":\"open_modal\"},{\"default\":0,\"kind\":null,\"name\":\"close_modal\"}]},{\"extends\":null,\"module\":null,\"name\":\"MaterialTemplateActions1\",\"overrides\":[],\"properties\":[{\"default\":0,\"kind\":null,\"name\":\"open_modal\"},{\"default\":0,\"kind\":null,\"name\":\"close_modal\"}]}],\"roots\":{\"references\":[{\"attributes\":{\"ticks\":[1,2,3,4,5,6,7,8,9,10]},\"id\":\"1578\",\"type\":\"FixedTicker\"},{\"attributes\":{\"coordinates\":null,\"data_source\":{\"id\":\"1569\"},\"glyph\":{\"id\":\"1572\"},\"group\":null,\"hover_glyph\":null,\"muted_glyph\":{\"id\":\"1574\"},\"nonselection_glyph\":{\"id\":\"1573\"},\"selection_glyph\":{\"id\":\"1577\"},\"view\":{\"id\":\"1576\"}},\"id\":\"1575\",\"type\":\"GlyphRenderer\"},{\"attributes\":{\"end\":10.0,\"reset_end\":10.0,\"reset_start\":1.0,\"start\":1.0,\"tags\":[[[\"k\",\"k\",null]]]},\"id\":\"1536\",\"type\":\"Range1d\"},{\"attributes\":{},\"id\":\"1585\",\"type\":\"BasicTickFormatter\"},{\"attributes\":{\"axis_label\":\"k\",\"coordinates\":null,\"formatter\":{\"id\":\"1580\"},\"group\":null,\"major_label_policy\":{\"id\":\"1581\"},\"ticker\":{\"id\":\"1578\"}},\"id\":\"1548\",\"type\":\"LinearAxis\"},{\"attributes\":{},\"id\":\"1546\",\"type\":\"LinearScale\"},{\"attributes\":{\"data\":{\"inertia\":{\"__ndarray__\":\"Zg4+Nzitw0P2XjVVm3yrQ1lqCnbmwJtDroBYmYH/kEMpcRiUmFWHQ49zPOu7GYFDEtY1a6RzeEMq/2Wtyr1yQ6qoIlc7kW1DOhNvFqUuZ0M=\",\"dtype\":\"float64\",\"order\":\"little\",\"shape\":[10]},\"k\":[1,2,3,4,5,6,7,8,9,10]},\"selected\":{\"id\":\"1570\"},\"selection_policy\":{\"id\":\"1597\"}},\"id\":\"1569\",\"type\":\"ColumnDataSource\"},{\"attributes\":{\"coordinates\":null,\"group\":null,\"text\":\"Elbow Curve\",\"text_color\":\"black\",\"text_font_size\":\"12pt\"},\"id\":\"1540\",\"type\":\"Title\"},{\"attributes\":{},\"id\":\"1544\",\"type\":\"LinearScale\"},{\"attributes\":{\"line_alpha\":0.2,\"line_color\":\"#30a2da\",\"line_width\":2,\"tags\":[\"apply_ranges\"],\"x\":{\"field\":\"k\"},\"y\":{\"field\":\"inertia\"}},\"id\":\"1574\",\"type\":\"Line\"},{\"attributes\":{\"axis_label\":\"inertia\",\"coordinates\":null,\"formatter\":{\"id\":\"1585\"},\"group\":null,\"major_label_policy\":{\"id\":\"1586\"},\"ticker\":{\"id\":\"1553\"}},\"id\":\"1552\",\"type\":\"LinearAxis\"},{\"attributes\":{\"children\":[{\"id\":\"1539\"}],\"height\":300,\"margin\":[0,0,0,0],\"name\":\"Row01406\",\"sizing_mode\":\"fixed\",\"tags\":[\"embedded\"],\"width\":700},\"id\":\"1535\",\"type\":\"Row\"},{\"attributes\":{\"axis\":{\"id\":\"1548\"},\"coordinates\":null,\"grid_line_color\":null,\"group\":null,\"ticker\":null},\"id\":\"1551\",\"type\":\"Grid\"},{\"attributes\":{},\"id\":\"1570\",\"type\":\"Selection\"},{\"attributes\":{\"overlay\":{\"id\":\"1561\"}},\"id\":\"1559\",\"type\":\"BoxZoomTool\"},{\"attributes\":{\"line_alpha\":0.1,\"line_color\":\"#30a2da\",\"line_width\":2,\"tags\":[\"apply_ranges\"],\"x\":{\"field\":\"k\"},\"y\":{\"field\":\"inertia\"}},\"id\":\"1573\",\"type\":\"Line\"},{\"attributes\":{},\"id\":\"1558\",\"type\":\"WheelZoomTool\"},{\"attributes\":{},\"id\":\"1560\",\"type\":\"ResetTool\"},{\"attributes\":{},\"id\":\"1557\",\"type\":\"PanTool\"},{\"attributes\":{},\"id\":\"1556\",\"type\":\"SaveTool\"},{\"attributes\":{},\"id\":\"1581\",\"type\":\"AllLabels\"},{\"attributes\":{\"bottom_units\":\"screen\",\"coordinates\":null,\"fill_alpha\":0.5,\"fill_color\":\"lightgrey\",\"group\":null,\"left_units\":\"screen\",\"level\":\"overlay\",\"line_alpha\":1.0,\"line_color\":\"black\",\"line_dash\":[4,4],\"line_width\":2,\"right_units\":\"screen\",\"syncable\":false,\"top_units\":\"screen\"},\"id\":\"1561\",\"type\":\"BoxAnnotation\"},{\"attributes\":{\"active_drag\":{\"id\":\"1557\"},\"active_scroll\":{\"id\":\"1558\"},\"tools\":[{\"id\":\"1538\"},{\"id\":\"1556\"},{\"id\":\"1557\"},{\"id\":\"1558\"},{\"id\":\"1559\"},{\"id\":\"1560\"}]},\"id\":\"1562\",\"type\":\"Toolbar\"},{\"attributes\":{},\"id\":\"1586\",\"type\":\"AllLabels\"},{\"attributes\":{},\"id\":\"1597\",\"type\":\"UnionRenderers\"},{\"attributes\":{\"line_color\":\"#30a2da\",\"line_width\":2,\"tags\":[\"apply_ranges\"],\"x\":{\"field\":\"k\"},\"y\":{\"field\":\"inertia\"}},\"id\":\"1572\",\"type\":\"Line\"},{\"attributes\":{\"below\":[{\"id\":\"1548\"}],\"center\":[{\"id\":\"1551\"},{\"id\":\"1555\"}],\"height\":300,\"left\":[{\"id\":\"1552\"}],\"margin\":[5,5,5,5],\"min_border_bottom\":10,\"min_border_left\":10,\"min_border_right\":10,\"min_border_top\":10,\"output_backend\":\"webgl\",\"renderers\":[{\"id\":\"1575\"}],\"sizing_mode\":\"fixed\",\"title\":{\"id\":\"1540\"},\"toolbar\":{\"id\":\"1562\"},\"width\":700,\"x_range\":{\"id\":\"1536\"},\"x_scale\":{\"id\":\"1544\"},\"y_range\":{\"id\":\"1537\"},\"y_scale\":{\"id\":\"1546\"}},\"id\":\"1539\",\"subtype\":\"Figure\",\"type\":\"Plot\"},{\"attributes\":{\"source\":{\"id\":\"1569\"}},\"id\":\"1576\",\"type\":\"CDSView\"},{\"attributes\":{},\"id\":\"1580\",\"type\":\"BasicTickFormatter\"},{\"attributes\":{\"callback\":null,\"renderers\":[{\"id\":\"1575\"}],\"tags\":[\"hv_created\"],\"tooltips\":[[\"k\",\"@{k}\"],[\"inertia\",\"@{inertia}\"]]},\"id\":\"1538\",\"type\":\"HoverTool\"},{\"attributes\":{\"end\":3.1140526198993725e+18,\"reset_end\":3.1140526198993725e+18,\"reset_start\":-2.2614839632361024e+17,\"start\":-2.2614839632361024e+17,\"tags\":[[[\"inertia\",\"inertia\",null]]]},\"id\":\"1537\",\"type\":\"Range1d\"},{\"attributes\":{\"line_color\":\"#30a2da\",\"line_width\":2,\"tags\":[\"apply_ranges\"],\"x\":{\"field\":\"k\"},\"y\":{\"field\":\"inertia\"}},\"id\":\"1577\",\"type\":\"Line\"},{\"attributes\":{\"axis\":{\"id\":\"1552\"},\"coordinates\":null,\"dimension\":1,\"grid_line_color\":null,\"group\":null,\"ticker\":null},\"id\":\"1555\",\"type\":\"Grid\"},{\"attributes\":{},\"id\":\"1553\",\"type\":\"BasicTicker\"}],\"root_ids\":[\"1535\"]},\"title\":\"Bokeh Application\",\"version\":\"2.4.3\"}};\n",
       "    var render_items = [{\"docid\":\"9cf1a48a-4a86-41be-8959-9692d47f5f4a\",\"root_ids\":[\"1535\"],\"roots\":{\"1535\":\"57cca058-e51a-4faa-84d5-58704d77a9ff\"}}];\n",
       "    root.Bokeh.embed.embed_items_notebook(docs_json, render_items);\n",
       "    for (const render_item of render_items) {\n",
       "      for (const root_id of render_item.root_ids) {\n",
       "\tconst id_el = document.getElementById(root_id)\n",
       "\tif (id_el.children.length && (id_el.children[0].className === 'bk-root')) {\n",
       "\t  const root_el = id_el.children[0]\n",
       "\t  root_el.id = root_el.id + '-rendered'\n",
       "\t}\n",
       "      }\n",
       "    }\n",
       "  }\n",
       "  if (root.Bokeh !== undefined && root.Bokeh.Panel !== undefined) {\n",
       "    embed_document(root);\n",
       "  } else {\n",
       "    var attempts = 0;\n",
       "    var timer = setInterval(function(root) {\n",
       "      if (root.Bokeh !== undefined && root.Bokeh.Panel !== undefined) {\n",
       "        clearInterval(timer);\n",
       "        embed_document(root);\n",
       "      } else if (document.readyState == \"complete\") {\n",
       "        attempts++;\n",
       "        if (attempts > 200) {\n",
       "          clearInterval(timer);\n",
       "          console.log(\"Bokeh: ERROR: Unable to run BokehJS code because BokehJS library is missing\");\n",
       "        }\n",
       "      }\n",
       "    }, 25, root)\n",
       "  }\n",
       "})(window);</script>"
      ],
      "text/plain": [
       ":Curve   [k]   (inertia)"
      ]
     },
     "execution_count": 16,
     "metadata": {
      "application/vnd.holoviews_exec.v0+json": {
       "id": "1535"
      }
     },
     "output_type": "execute_result"
    }
   ],
   "source": [
    "# Plot the DataFrame\n",
    "df_elbow.hvplot.line(\n",
    "    x=\"k\", \n",
    "    y=\"inertia\", \n",
    "    title=\"Elbow Curve\", \n",
    "    xticks=k\n",
    ")"
   ]
  },
  {
   "cell_type": "code",
   "execution_count": 17,
   "metadata": {},
   "outputs": [],
   "source": [
    "scaler = StandardScaler()"
   ]
  },
  {
   "cell_type": "code",
   "execution_count": 20,
   "metadata": {},
   "outputs": [],
   "source": [
    "spread_scaled = scaler.fit_transform(spread_df)"
   ]
  },
  {
   "cell_type": "code",
   "execution_count": 24,
   "metadata": {},
   "outputs": [
    {
     "data": {
      "text/html": [
       "<div>\n",
       "<style scoped>\n",
       "    .dataframe tbody tr th:only-of-type {\n",
       "        vertical-align: middle;\n",
       "    }\n",
       "\n",
       "    .dataframe tbody tr th {\n",
       "        vertical-align: top;\n",
       "    }\n",
       "\n",
       "    .dataframe thead th {\n",
       "        text-align: right;\n",
       "    }\n",
       "</style>\n",
       "<table border=\"1\" class=\"dataframe\">\n",
       "  <thead>\n",
       "    <tr style=\"text-align: right;\">\n",
       "      <th></th>\n",
       "      <th>close</th>\n",
       "      <th>volume</th>\n",
       "      <th>open</th>\n",
       "      <th>high</th>\n",
       "      <th>low</th>\n",
       "      <th>returns</th>\n",
       "      <th>hi_low_spread</th>\n",
       "    </tr>\n",
       "  </thead>\n",
       "  <tbody>\n",
       "    <tr>\n",
       "      <th>0</th>\n",
       "      <td>-0.679974</td>\n",
       "      <td>-0.511488</td>\n",
       "      <td>-0.690524</td>\n",
       "      <td>-0.670844</td>\n",
       "      <td>-0.682939</td>\n",
       "      <td>0.731966</td>\n",
       "      <td>-0.355360</td>\n",
       "    </tr>\n",
       "    <tr>\n",
       "      <th>1</th>\n",
       "      <td>-0.643852</td>\n",
       "      <td>-0.569864</td>\n",
       "      <td>-0.690524</td>\n",
       "      <td>-0.642324</td>\n",
       "      <td>-0.679406</td>\n",
       "      <td>1.536581</td>\n",
       "      <td>0.043405</td>\n",
       "    </tr>\n",
       "    <tr>\n",
       "      <th>2</th>\n",
       "      <td>-0.568169</td>\n",
       "      <td>-0.420841</td>\n",
       "      <td>-0.630345</td>\n",
       "      <td>-0.575219</td>\n",
       "      <td>-0.629931</td>\n",
       "      <td>3.082054</td>\n",
       "      <td>0.362417</td>\n",
       "    </tr>\n",
       "    <tr>\n",
       "      <th>3</th>\n",
       "      <td>-0.557849</td>\n",
       "      <td>-0.565836</td>\n",
       "      <td>-0.551252</td>\n",
       "      <td>-0.560121</td>\n",
       "      <td>-0.580457</td>\n",
       "      <td>0.341459</td>\n",
       "      <td>-0.142685</td>\n",
       "    </tr>\n",
       "    <tr>\n",
       "      <th>4</th>\n",
       "      <td>-0.559569</td>\n",
       "      <td>-0.604367</td>\n",
       "      <td>-0.535777</td>\n",
       "      <td>-0.550055</td>\n",
       "      <td>-0.578690</td>\n",
       "      <td>-0.103095</td>\n",
       "      <td>-0.009763</td>\n",
       "    </tr>\n",
       "    <tr>\n",
       "      <th>...</th>\n",
       "      <td>...</td>\n",
       "      <td>...</td>\n",
       "      <td>...</td>\n",
       "      <td>...</td>\n",
       "      <td>...</td>\n",
       "      <td>...</td>\n",
       "      <td>...</td>\n",
       "    </tr>\n",
       "    <tr>\n",
       "      <th>2511</th>\n",
       "      <td>3.510107</td>\n",
       "      <td>0.185227</td>\n",
       "      <td>3.544378</td>\n",
       "      <td>3.482952</td>\n",
       "      <td>3.603651</td>\n",
       "      <td>-0.242357</td>\n",
       "      <td>0.973857</td>\n",
       "    </tr>\n",
       "    <tr>\n",
       "      <th>2512</th>\n",
       "      <td>3.594391</td>\n",
       "      <td>0.480224</td>\n",
       "      <td>3.530622</td>\n",
       "      <td>3.543346</td>\n",
       "      <td>3.628388</td>\n",
       "      <td>0.434556</td>\n",
       "      <td>1.558712</td>\n",
       "    </tr>\n",
       "    <tr>\n",
       "      <th>2513</th>\n",
       "      <td>3.456785</td>\n",
       "      <td>0.635761</td>\n",
       "      <td>3.628629</td>\n",
       "      <td>3.545024</td>\n",
       "      <td>3.527673</td>\n",
       "      <td>-0.802344</td>\n",
       "      <td>3.100603</td>\n",
       "    </tr>\n",
       "    <tr>\n",
       "      <th>2514</th>\n",
       "      <td>3.494627</td>\n",
       "      <td>0.398296</td>\n",
       "      <td>3.454968</td>\n",
       "      <td>3.383972</td>\n",
       "      <td>3.472898</td>\n",
       "      <td>0.175265</td>\n",
       "      <td>1.372622</td>\n",
       "    </tr>\n",
       "    <tr>\n",
       "      <th>2515</th>\n",
       "      <td>3.461946</td>\n",
       "      <td>0.265111</td>\n",
       "      <td>3.496234</td>\n",
       "      <td>3.424235</td>\n",
       "      <td>3.552410</td>\n",
       "      <td>-0.225085</td>\n",
       "      <td>0.814351</td>\n",
       "    </tr>\n",
       "  </tbody>\n",
       "</table>\n",
       "<p>2516 rows × 7 columns</p>\n",
       "</div>"
      ],
      "text/plain": [
       "         close    volume      open      high       low   returns  \\\n",
       "0    -0.679974 -0.511488 -0.690524 -0.670844 -0.682939  0.731966   \n",
       "1    -0.643852 -0.569864 -0.690524 -0.642324 -0.679406  1.536581   \n",
       "2    -0.568169 -0.420841 -0.630345 -0.575219 -0.629931  3.082054   \n",
       "3    -0.557849 -0.565836 -0.551252 -0.560121 -0.580457  0.341459   \n",
       "4    -0.559569 -0.604367 -0.535777 -0.550055 -0.578690 -0.103095   \n",
       "...        ...       ...       ...       ...       ...       ...   \n",
       "2511  3.510107  0.185227  3.544378  3.482952  3.603651 -0.242357   \n",
       "2512  3.594391  0.480224  3.530622  3.543346  3.628388  0.434556   \n",
       "2513  3.456785  0.635761  3.628629  3.545024  3.527673 -0.802344   \n",
       "2514  3.494627  0.398296  3.454968  3.383972  3.472898  0.175265   \n",
       "2515  3.461946  0.265111  3.496234  3.424235  3.552410 -0.225085   \n",
       "\n",
       "      hi_low_spread  \n",
       "0         -0.355360  \n",
       "1          0.043405  \n",
       "2          0.362417  \n",
       "3         -0.142685  \n",
       "4         -0.009763  \n",
       "...             ...  \n",
       "2511       0.973857  \n",
       "2512       1.558712  \n",
       "2513       3.100603  \n",
       "2514       1.372622  \n",
       "2515       0.814351  \n",
       "\n",
       "[2516 rows x 7 columns]"
      ]
     },
     "execution_count": 24,
     "metadata": {},
     "output_type": "execute_result"
    }
   ],
   "source": [
    "pd.DataFrame(spread_scaled, columns=spread_df.columns)"
   ]
  },
  {
   "cell_type": "code",
   "execution_count": 25,
   "metadata": {},
   "outputs": [],
   "source": [
    "# Create a a list to store inertia values\n",
    "inertia = []\n",
    "\n",
    "# Create a a list to store the values of k\n",
    "k = list(range(1, 11))"
   ]
  },
  {
   "cell_type": "code",
   "execution_count": 26,
   "metadata": {},
   "outputs": [],
   "source": [
    "# Create a for-loop where each value of k is evaluated using the K-means algorithm\n",
    "# Fit the model using the spread_df DataFrame\n",
    "# Append the value of the computed inertia from the `inertia_` attribute of the KMeans model instance\n",
    "for i in k:\n",
    "    k_model = KMeans(n_clusters=i, random_state=1)\n",
    "    k_model.fit(spread_scaled)\n",
    "    inertia.append(k_model.inertia_)"
   ]
  },
  {
   "cell_type": "code",
   "execution_count": 27,
   "metadata": {},
   "outputs": [
    {
     "data": {
      "text/html": [
       "<div>\n",
       "<style scoped>\n",
       "    .dataframe tbody tr th:only-of-type {\n",
       "        vertical-align: middle;\n",
       "    }\n",
       "\n",
       "    .dataframe tbody tr th {\n",
       "        vertical-align: top;\n",
       "    }\n",
       "\n",
       "    .dataframe thead th {\n",
       "        text-align: right;\n",
       "    }\n",
       "</style>\n",
       "<table border=\"1\" class=\"dataframe\">\n",
       "  <thead>\n",
       "    <tr style=\"text-align: right;\">\n",
       "      <th></th>\n",
       "      <th>k</th>\n",
       "      <th>inertia</th>\n",
       "    </tr>\n",
       "  </thead>\n",
       "  <tbody>\n",
       "    <tr>\n",
       "      <th>0</th>\n",
       "      <td>1</td>\n",
       "      <td>17612.000000</td>\n",
       "    </tr>\n",
       "    <tr>\n",
       "      <th>1</th>\n",
       "      <td>2</td>\n",
       "      <td>8696.386368</td>\n",
       "    </tr>\n",
       "    <tr>\n",
       "      <th>2</th>\n",
       "      <td>3</td>\n",
       "      <td>6260.146033</td>\n",
       "    </tr>\n",
       "    <tr>\n",
       "      <th>3</th>\n",
       "      <td>4</td>\n",
       "      <td>5332.582793</td>\n",
       "    </tr>\n",
       "    <tr>\n",
       "      <th>4</th>\n",
       "      <td>5</td>\n",
       "      <td>4694.732543</td>\n",
       "    </tr>\n",
       "  </tbody>\n",
       "</table>\n",
       "</div>"
      ],
      "text/plain": [
       "   k       inertia\n",
       "0  1  17612.000000\n",
       "1  2   8696.386368\n",
       "2  3   6260.146033\n",
       "3  4   5332.582793\n",
       "4  5   4694.732543"
      ]
     },
     "execution_count": 27,
     "metadata": {},
     "output_type": "execute_result"
    }
   ],
   "source": [
    "# Create a Dictionary that holds the list values for k and inertia\n",
    "elbow_data = {\"k\": k, \"inertia\": inertia}\n",
    "\n",
    "# Create a DataFrame using the elbow_data Dictionary\n",
    "df_elbow = pd.DataFrame(elbow_data)\n",
    "\n",
    "# Review the DataFrame\n",
    "df_elbow.head()"
   ]
  },
  {
   "cell_type": "code",
   "execution_count": 28,
   "metadata": {},
   "outputs": [
    {
     "data": {},
     "metadata": {},
     "output_type": "display_data"
    },
    {
     "data": {
      "application/vnd.holoviews_exec.v0+json": "",
      "text/html": [
       "<div id='1646'>\n",
       "  <div class=\"bk-root\" id=\"d0f0e73f-bf1e-4964-851e-dd77cde554f9\" data-root-id=\"1646\"></div>\n",
       "</div>\n",
       "<script type=\"application/javascript\">(function(root) {\n",
       "  function embed_document(root) {\n",
       "    var docs_json = {\"65202741-27be-4a1d-a89f-aa1022ea58dd\":{\"defs\":[{\"extends\":null,\"module\":null,\"name\":\"ReactiveHTML1\",\"overrides\":[],\"properties\":[]},{\"extends\":null,\"module\":null,\"name\":\"FlexBox1\",\"overrides\":[],\"properties\":[{\"default\":\"flex-start\",\"kind\":null,\"name\":\"align_content\"},{\"default\":\"flex-start\",\"kind\":null,\"name\":\"align_items\"},{\"default\":\"row\",\"kind\":null,\"name\":\"flex_direction\"},{\"default\":\"wrap\",\"kind\":null,\"name\":\"flex_wrap\"},{\"default\":\"flex-start\",\"kind\":null,\"name\":\"justify_content\"}]},{\"extends\":null,\"module\":null,\"name\":\"GridStack1\",\"overrides\":[],\"properties\":[{\"default\":\"warn\",\"kind\":null,\"name\":\"mode\"},{\"default\":null,\"kind\":null,\"name\":\"ncols\"},{\"default\":null,\"kind\":null,\"name\":\"nrows\"},{\"default\":true,\"kind\":null,\"name\":\"allow_resize\"},{\"default\":true,\"kind\":null,\"name\":\"allow_drag\"},{\"default\":[],\"kind\":null,\"name\":\"state\"}]},{\"extends\":null,\"module\":null,\"name\":\"click1\",\"overrides\":[],\"properties\":[{\"default\":\"\",\"kind\":null,\"name\":\"terminal_output\"},{\"default\":\"\",\"kind\":null,\"name\":\"debug_name\"},{\"default\":0,\"kind\":null,\"name\":\"clears\"}]},{\"extends\":null,\"module\":null,\"name\":\"NotificationAreaBase1\",\"overrides\":[],\"properties\":[{\"default\":\"bottom-right\",\"kind\":null,\"name\":\"position\"},{\"default\":0,\"kind\":null,\"name\":\"_clear\"}]},{\"extends\":null,\"module\":null,\"name\":\"NotificationArea1\",\"overrides\":[],\"properties\":[{\"default\":[],\"kind\":null,\"name\":\"notifications\"},{\"default\":\"bottom-right\",\"kind\":null,\"name\":\"position\"},{\"default\":0,\"kind\":null,\"name\":\"_clear\"},{\"default\":[{\"background\":\"#ffc107\",\"icon\":{\"className\":\"fas fa-exclamation-triangle\",\"color\":\"white\",\"tagName\":\"i\"},\"type\":\"warning\"},{\"background\":\"#007bff\",\"icon\":{\"className\":\"fas fa-info-circle\",\"color\":\"white\",\"tagName\":\"i\"},\"type\":\"info\"}],\"kind\":null,\"name\":\"types\"}]},{\"extends\":null,\"module\":null,\"name\":\"Notification\",\"overrides\":[],\"properties\":[{\"default\":null,\"kind\":null,\"name\":\"background\"},{\"default\":3000,\"kind\":null,\"name\":\"duration\"},{\"default\":null,\"kind\":null,\"name\":\"icon\"},{\"default\":\"\",\"kind\":null,\"name\":\"message\"},{\"default\":null,\"kind\":null,\"name\":\"notification_type\"},{\"default\":false,\"kind\":null,\"name\":\"_destroyed\"}]},{\"extends\":null,\"module\":null,\"name\":\"TemplateActions1\",\"overrides\":[],\"properties\":[{\"default\":0,\"kind\":null,\"name\":\"open_modal\"},{\"default\":0,\"kind\":null,\"name\":\"close_modal\"}]},{\"extends\":null,\"module\":null,\"name\":\"MaterialTemplateActions1\",\"overrides\":[],\"properties\":[{\"default\":0,\"kind\":null,\"name\":\"open_modal\"},{\"default\":0,\"kind\":null,\"name\":\"close_modal\"}]}],\"roots\":{\"references\":[{\"attributes\":{\"below\":[{\"id\":\"1659\"}],\"center\":[{\"id\":\"1662\"},{\"id\":\"1666\"}],\"height\":300,\"left\":[{\"id\":\"1663\"}],\"margin\":[5,5,5,5],\"min_border_bottom\":10,\"min_border_left\":10,\"min_border_right\":10,\"min_border_top\":10,\"output_backend\":\"webgl\",\"renderers\":[{\"id\":\"1686\"}],\"sizing_mode\":\"fixed\",\"title\":{\"id\":\"1651\"},\"toolbar\":{\"id\":\"1673\"},\"width\":700,\"x_range\":{\"id\":\"1647\"},\"x_scale\":{\"id\":\"1655\"},\"y_range\":{\"id\":\"1648\"},\"y_scale\":{\"id\":\"1657\"}},\"id\":\"1650\",\"subtype\":\"Figure\",\"type\":\"Plot\"},{\"attributes\":{\"axis\":{\"id\":\"1659\"},\"coordinates\":null,\"grid_line_color\":null,\"group\":null,\"ticker\":null},\"id\":\"1662\",\"type\":\"Grid\"},{\"attributes\":{},\"id\":\"1681\",\"type\":\"Selection\"},{\"attributes\":{\"coordinates\":null,\"group\":null,\"text\":\"Elbow Curve\",\"text_color\":\"black\",\"text_font_size\":\"12pt\"},\"id\":\"1651\",\"type\":\"Title\"},{\"attributes\":{\"line_color\":\"#30a2da\",\"line_width\":2,\"tags\":[\"apply_ranges\"],\"x\":{\"field\":\"k\"},\"y\":{\"field\":\"inertia\"}},\"id\":\"1688\",\"type\":\"Line\"},{\"attributes\":{\"end\":10.0,\"reset_end\":10.0,\"reset_start\":1.0,\"start\":1.0,\"tags\":[[[\"k\",\"k\",null]]]},\"id\":\"1647\",\"type\":\"Range1d\"},{\"attributes\":{\"source\":{\"id\":\"1680\"}},\"id\":\"1687\",\"type\":\"CDSView\"},{\"attributes\":{\"line_color\":\"#30a2da\",\"line_width\":2,\"tags\":[\"apply_ranges\"],\"x\":{\"field\":\"k\"},\"y\":{\"field\":\"inertia\"}},\"id\":\"1683\",\"type\":\"Line\"},{\"attributes\":{},\"id\":\"1664\",\"type\":\"BasicTicker\"},{\"attributes\":{},\"id\":\"1671\",\"type\":\"ResetTool\"},{\"attributes\":{},\"id\":\"1691\",\"type\":\"BasicTickFormatter\"},{\"attributes\":{\"data\":{\"inertia\":{\"__ndarray__\":\"AAAAAAAz0UCOfIJ0MfzAQNOraWIldLhAuiLoMZXUtECOj/OHu1ayQL59YY5sTLBAs5w687b+rECO12nMkBCqQMLXQThWAKhA+Bzrbh24pkA=\",\"dtype\":\"float64\",\"order\":\"little\",\"shape\":[10]},\"k\":[1,2,3,4,5,6,7,8,9,10]},\"selected\":{\"id\":\"1681\"},\"selection_policy\":{\"id\":\"1708\"}},\"id\":\"1680\",\"type\":\"ColumnDataSource\"},{\"attributes\":{},\"id\":\"1657\",\"type\":\"LinearScale\"},{\"attributes\":{},\"id\":\"1708\",\"type\":\"UnionRenderers\"},{\"attributes\":{\"axis_label\":\"inertia\",\"coordinates\":null,\"formatter\":{\"id\":\"1696\"},\"group\":null,\"major_label_policy\":{\"id\":\"1697\"},\"ticker\":{\"id\":\"1664\"}},\"id\":\"1663\",\"type\":\"LinearAxis\"},{\"attributes\":{},\"id\":\"1667\",\"type\":\"SaveTool\"},{\"attributes\":{},\"id\":\"1655\",\"type\":\"LinearScale\"},{\"attributes\":{\"active_drag\":{\"id\":\"1668\"},\"active_scroll\":{\"id\":\"1669\"},\"tools\":[{\"id\":\"1649\"},{\"id\":\"1667\"},{\"id\":\"1668\"},{\"id\":\"1669\"},{\"id\":\"1670\"},{\"id\":\"1671\"}]},\"id\":\"1673\",\"type\":\"Toolbar\"},{\"attributes\":{},\"id\":\"1696\",\"type\":\"BasicTickFormatter\"},{\"attributes\":{},\"id\":\"1668\",\"type\":\"PanTool\"},{\"attributes\":{\"callback\":null,\"renderers\":[{\"id\":\"1686\"}],\"tags\":[\"hv_created\"],\"tooltips\":[[\"k\",\"@{k}\"],[\"inertia\",\"@{inertia}\"]]},\"id\":\"1649\",\"type\":\"HoverTool\"},{\"attributes\":{},\"id\":\"1697\",\"type\":\"AllLabels\"},{\"attributes\":{},\"id\":\"1692\",\"type\":\"AllLabels\"},{\"attributes\":{\"axis\":{\"id\":\"1663\"},\"coordinates\":null,\"dimension\":1,\"grid_line_color\":null,\"group\":null,\"ticker\":null},\"id\":\"1666\",\"type\":\"Grid\"},{\"attributes\":{\"end\":19082.394251313468,\"reset_end\":19082.394251313468,\"reset_start\":1437.6632355518482,\"start\":1437.6632355518482,\"tags\":[[[\"inertia\",\"inertia\",null]]]},\"id\":\"1648\",\"type\":\"Range1d\"},{\"attributes\":{\"coordinates\":null,\"data_source\":{\"id\":\"1680\"},\"glyph\":{\"id\":\"1683\"},\"group\":null,\"hover_glyph\":null,\"muted_glyph\":{\"id\":\"1685\"},\"nonselection_glyph\":{\"id\":\"1684\"},\"selection_glyph\":{\"id\":\"1688\"},\"view\":{\"id\":\"1687\"}},\"id\":\"1686\",\"type\":\"GlyphRenderer\"},{\"attributes\":{\"bottom_units\":\"screen\",\"coordinates\":null,\"fill_alpha\":0.5,\"fill_color\":\"lightgrey\",\"group\":null,\"left_units\":\"screen\",\"level\":\"overlay\",\"line_alpha\":1.0,\"line_color\":\"black\",\"line_dash\":[4,4],\"line_width\":2,\"right_units\":\"screen\",\"syncable\":false,\"top_units\":\"screen\"},\"id\":\"1672\",\"type\":\"BoxAnnotation\"},{\"attributes\":{},\"id\":\"1669\",\"type\":\"WheelZoomTool\"},{\"attributes\":{\"line_alpha\":0.1,\"line_color\":\"#30a2da\",\"line_width\":2,\"tags\":[\"apply_ranges\"],\"x\":{\"field\":\"k\"},\"y\":{\"field\":\"inertia\"}},\"id\":\"1684\",\"type\":\"Line\"},{\"attributes\":{\"line_alpha\":0.2,\"line_color\":\"#30a2da\",\"line_width\":2,\"tags\":[\"apply_ranges\"],\"x\":{\"field\":\"k\"},\"y\":{\"field\":\"inertia\"}},\"id\":\"1685\",\"type\":\"Line\"},{\"attributes\":{\"overlay\":{\"id\":\"1672\"}},\"id\":\"1670\",\"type\":\"BoxZoomTool\"},{\"attributes\":{\"ticks\":[1,2,3,4,5,6,7,8,9,10]},\"id\":\"1689\",\"type\":\"FixedTicker\"},{\"attributes\":{\"children\":[{\"id\":\"1650\"}],\"height\":300,\"margin\":[0,0,0,0],\"name\":\"Row01510\",\"sizing_mode\":\"fixed\",\"tags\":[\"embedded\"],\"width\":700},\"id\":\"1646\",\"type\":\"Row\"},{\"attributes\":{\"axis_label\":\"k\",\"coordinates\":null,\"formatter\":{\"id\":\"1691\"},\"group\":null,\"major_label_policy\":{\"id\":\"1692\"},\"ticker\":{\"id\":\"1689\"}},\"id\":\"1659\",\"type\":\"LinearAxis\"}],\"root_ids\":[\"1646\"]},\"title\":\"Bokeh Application\",\"version\":\"2.4.3\"}};\n",
       "    var render_items = [{\"docid\":\"65202741-27be-4a1d-a89f-aa1022ea58dd\",\"root_ids\":[\"1646\"],\"roots\":{\"1646\":\"d0f0e73f-bf1e-4964-851e-dd77cde554f9\"}}];\n",
       "    root.Bokeh.embed.embed_items_notebook(docs_json, render_items);\n",
       "    for (const render_item of render_items) {\n",
       "      for (const root_id of render_item.root_ids) {\n",
       "\tconst id_el = document.getElementById(root_id)\n",
       "\tif (id_el.children.length && (id_el.children[0].className === 'bk-root')) {\n",
       "\t  const root_el = id_el.children[0]\n",
       "\t  root_el.id = root_el.id + '-rendered'\n",
       "\t}\n",
       "      }\n",
       "    }\n",
       "  }\n",
       "  if (root.Bokeh !== undefined && root.Bokeh.Panel !== undefined) {\n",
       "    embed_document(root);\n",
       "  } else {\n",
       "    var attempts = 0;\n",
       "    var timer = setInterval(function(root) {\n",
       "      if (root.Bokeh !== undefined && root.Bokeh.Panel !== undefined) {\n",
       "        clearInterval(timer);\n",
       "        embed_document(root);\n",
       "      } else if (document.readyState == \"complete\") {\n",
       "        attempts++;\n",
       "        if (attempts > 200) {\n",
       "          clearInterval(timer);\n",
       "          console.log(\"Bokeh: ERROR: Unable to run BokehJS code because BokehJS library is missing\");\n",
       "        }\n",
       "      }\n",
       "    }, 25, root)\n",
       "  }\n",
       "})(window);</script>"
      ],
      "text/plain": [
       ":Curve   [k]   (inertia)"
      ]
     },
     "execution_count": 28,
     "metadata": {
      "application/vnd.holoviews_exec.v0+json": {
       "id": "1646"
      }
     },
     "output_type": "execute_result"
    }
   ],
   "source": [
    "# Plot the DataFrame\n",
    "df_elbow.hvplot.line(\n",
    "    x=\"k\", \n",
    "    y=\"inertia\", \n",
    "    title=\"Elbow Curve\", \n",
    "    xticks=k\n",
    ")"
   ]
  },
  {
   "cell_type": "markdown",
   "metadata": {},
   "source": [
    "## Perform the following tasks for each of the two most likely values of `k`:\n",
    "\n",
    "* Define a K-means model using `k` to define the clusters, fit the model, make predictions, and add the prediction values to a copy of the scaled DataFrame and call it `spread_predictions_df`.\n",
    "\n",
    "* Plot the clusters. The x-axis should reflect the \"hi_low_spread\", and the y-axis should reflect the \"close\" price."
   ]
  },
  {
   "cell_type": "code",
   "execution_count": 29,
   "metadata": {},
   "outputs": [],
   "source": [
    "# Define the model with the lower value of k clusters\n",
    "# Use a random_state of 1 to generate the model\n",
    "model = KMeans(n_clusters=3, random_state=1)\n",
    "\n",
    "# Fit the model\n",
    "model.fit(spread_df)\n",
    "\n",
    "# Make predictions\n",
    "k_lower = model.predict(spread_df)\n",
    "\n",
    "# Create a copy of the DataFrame and name it as spread_df_predictions\n",
    "spread_df_predictions = spread_df.copy()\n",
    "\n",
    "# Add a class column with the labels to the spread_df_predictions DataFrame\n",
    "spread_df_predictions['clusters_lower'] = k_lower"
   ]
  },
  {
   "cell_type": "code",
   "execution_count": 30,
   "metadata": {},
   "outputs": [
    {
     "data": {},
     "metadata": {},
     "output_type": "display_data"
    },
    {
     "data": {
      "application/vnd.holoviews_exec.v0+json": "",
      "text/html": [
       "<div id='1757'>\n",
       "  <div class=\"bk-root\" id=\"e64e30b0-0636-4cbc-94fa-e4f67a6f6f4c\" data-root-id=\"1757\"></div>\n",
       "</div>\n",
       "<script type=\"application/javascript\">(function(root) {\n",
       "  function embed_document(root) {\n",
       "    var docs_json = {\"1274d2e5-c1cb-4832-aba9-324d519297b3\":{\"defs\":[{\"extends\":null,\"module\":null,\"name\":\"ReactiveHTML1\",\"overrides\":[],\"properties\":[]},{\"extends\":null,\"module\":null,\"name\":\"FlexBox1\",\"overrides\":[],\"properties\":[{\"default\":\"flex-start\",\"kind\":null,\"name\":\"align_content\"},{\"default\":\"flex-start\",\"kind\":null,\"name\":\"align_items\"},{\"default\":\"row\",\"kind\":null,\"name\":\"flex_direction\"},{\"default\":\"wrap\",\"kind\":null,\"name\":\"flex_wrap\"},{\"default\":\"flex-start\",\"kind\":null,\"name\":\"justify_content\"}]},{\"extends\":null,\"module\":null,\"name\":\"GridStack1\",\"overrides\":[],\"properties\":[{\"default\":\"warn\",\"kind\":null,\"name\":\"mode\"},{\"default\":null,\"kind\":null,\"name\":\"ncols\"},{\"default\":null,\"kind\":null,\"name\":\"nrows\"},{\"default\":true,\"kind\":null,\"name\":\"allow_resize\"},{\"default\":true,\"kind\":null,\"name\":\"allow_drag\"},{\"default\":[],\"kind\":null,\"name\":\"state\"}]},{\"extends\":null,\"module\":null,\"name\":\"click1\",\"overrides\":[],\"properties\":[{\"default\":\"\",\"kind\":null,\"name\":\"terminal_output\"},{\"default\":\"\",\"kind\":null,\"name\":\"debug_name\"},{\"default\":0,\"kind\":null,\"name\":\"clears\"}]},{\"extends\":null,\"module\":null,\"name\":\"NotificationAreaBase1\",\"overrides\":[],\"properties\":[{\"default\":\"bottom-right\",\"kind\":null,\"name\":\"position\"},{\"default\":0,\"kind\":null,\"name\":\"_clear\"}]},{\"extends\":null,\"module\":null,\"name\":\"NotificationArea1\",\"overrides\":[],\"properties\":[{\"default\":[],\"kind\":null,\"name\":\"notifications\"},{\"default\":\"bottom-right\",\"kind\":null,\"name\":\"position\"},{\"default\":0,\"kind\":null,\"name\":\"_clear\"},{\"default\":[{\"background\":\"#ffc107\",\"icon\":{\"className\":\"fas fa-exclamation-triangle\",\"color\":\"white\",\"tagName\":\"i\"},\"type\":\"warning\"},{\"background\":\"#007bff\",\"icon\":{\"className\":\"fas fa-info-circle\",\"color\":\"white\",\"tagName\":\"i\"},\"type\":\"info\"}],\"kind\":null,\"name\":\"types\"}]},{\"extends\":null,\"module\":null,\"name\":\"Notification\",\"overrides\":[],\"properties\":[{\"default\":null,\"kind\":null,\"name\":\"background\"},{\"default\":3000,\"kind\":null,\"name\":\"duration\"},{\"default\":null,\"kind\":null,\"name\":\"icon\"},{\"default\":\"\",\"kind\":null,\"name\":\"message\"},{\"default\":null,\"kind\":null,\"name\":\"notification_type\"},{\"default\":false,\"kind\":null,\"name\":\"_destroyed\"}]},{\"extends\":null,\"module\":null,\"name\":\"TemplateActions1\",\"overrides\":[],\"properties\":[{\"default\":0,\"kind\":null,\"name\":\"open_modal\"},{\"default\":0,\"kind\":null,\"name\":\"close_modal\"}]},{\"extends\":null,\"module\":null,\"name\":\"MaterialTemplateActions1\",\"overrides\":[],\"properties\":[{\"default\":0,\"kind\":null,\"name\":\"open_modal\"},{\"default\":0,\"kind\":null,\"name\":\"close_modal\"}]}],\"roots\":{\"references\":[{\"attributes\":{\"source\":{\"id\":\"1802\"}},\"id\":\"1809\",\"type\":\"CDSView\"},{\"attributes\":{\"fill_color\":{\"value\":\"#30a2da\"},\"hatch_color\":{\"value\":\"#30a2da\"},\"line_color\":{\"value\":\"#30a2da\"},\"size\":{\"value\":5.477225575051661},\"tags\":[\"apply_ranges\"],\"x\":{\"field\":\"hi_low_spread\"},\"y\":{\"field\":\"close\"}},\"id\":\"1805\",\"type\":\"Scatter\"},{\"attributes\":{},\"id\":\"1770\",\"type\":\"LinearScale\"},{\"attributes\":{\"angle\":{\"value\":0.0},\"fill_alpha\":{\"value\":1.0},\"fill_color\":{\"value\":\"#fc4f30\"},\"hatch_alpha\":{\"value\":1.0},\"hatch_color\":{\"value\":\"#fc4f30\"},\"hatch_scale\":{\"value\":12.0},\"hatch_weight\":{\"value\":1.0},\"line_alpha\":{\"value\":1.0},\"line_cap\":{\"value\":\"butt\"},\"line_color\":{\"value\":\"#fc4f30\"},\"line_dash\":{\"value\":[]},\"line_dash_offset\":{\"value\":0},\"line_join\":{\"value\":\"bevel\"},\"line_width\":{\"value\":1},\"marker\":{\"value\":\"circle\"},\"size\":{\"value\":5.477225575051661},\"tags\":[\"apply_ranges\"],\"x\":{\"field\":\"hi_low_spread\"},\"y\":{\"field\":\"close\"}},\"id\":\"1842\",\"type\":\"Scatter\"},{\"attributes\":{\"data\":{\"close\":{\"__ndarray__\":\"7FG4HoXrGUBxPQrXo3ABQM3MzMzMzBFAH4XrUbgeEEA9CtejcD0MQB+F61G4HhJApHA9CtejDkBI4XoUrkcPQOxRuB6F6w9AzczMzMzMGkCamZmZmZkXQOxRuB6F6yBArkfhehSuJEAfhetRuB4oQI/C9ShcjyhAw/UoXI9CK0AUrkfhepQqQOxRuB6F6yxAzczMzMzMK0CPwvUoXA8qQBSuR+F6FCpAexSuR+H6KkAK16NwPYoqQKRwPQrXoyRASOF6FK7HJEAAAAAAAIApQGZmZmZmZiZAj8L1KFwPKEDD9Shcj8IoQI/C9ShcjyhArkfhehQuKEBI4XoUrkcpQPYoXI/C9StAw/UoXI/CLEDXo3A9ClcsQI/C9ShcDytAhetRuB6FLUA9CtejcD0sQFK4HoXr0SpAKVyPwvWoKECuR+F6FK4nQEjhehSuxyVAmpmZmZkZJ0A9CtejcD0oQHsUrkfheitApHA9CtcjJ0B7FK5H4XooQEjhehSuRydAFK5H4XoUJkAAAAAAAEAwQFyPwvUoHDFAmpmZmZlZMkBxPQrXo/AyQOxRuB6FazNAFK5H4XpUMkAK16NwPUo2QHsUrkfh+jdAw/UoXI9COUDNzMzMzAw5QDMzMzMzMzlApHA9CtfjOECPwvUoXA88QMP1KFyPgjxA16NwPQrXO0DhehSuR2E7QKRwPQrX4z1AmpmZmZkZPkB7FK5H4RpAQHsUrkfhej5AXI/C9ShcQEDXo3A9CjdAQK5H4XoU7j9A9ihcj8I1P0CuR+F6FC4/QIXrUbgeBT9ArkfhehROQEApXI/C9UhAQKRwPQrX4z5AhetRuB4FPUCuR+F6FG48QPYoXI/CdTpAPQrXo3A9O0AAAAAAAAA5QM3MzMzMTDlA16NwPQpXOkApXI/C9ag3QEjhehSuBzlACtejcD3KNkCF61G4HkUzQOF6FK5HoTFA9ihcj8I1MkC4HoXrUTg0QHsUrkfhOjRAZmZmZmbmM0CuR+F6FK40QNejcD0K1zVAj8L1KFzPNEApXI/C9ag0QPYoXI/CNTNAzczMzMwMNUDXo3A9Clc1QPYoXI/CtTdAH4XrUbgeNUDNzMzMzEw1QPYoXI/CdTNAFK5H4XrUMkApXI/C9SgyQHE9Ctej8DFArkfhehTuMEBmZmZmZuYxQD0K16NwfTFAUrgehevRMUDNzMzMzAwxQAAAAAAAADNAUrgeheuRNEAAAAAAAMA0QHE9CtejMDRAPQrXo3C9M0CuR+F6FO41QK5H4XoULjRAAAAAAABAM0DXo3A9Chc3QClcj8L1aDhAw/UoXI+COECPwvUoXE83QAAAAAAAADpAMzMzMzOzOUCkcD0K1+M7QB+F61G4XjpAhetRuB4FPUA=\",\"dtype\":\"float64\",\"order\":\"little\",\"shape\":[130]},\"clusters_lower\":[2,2,2,2,2,2,2,2,2,2,2,2,2,2,2,2,2,2,2,2,2,2,2,2,2,2,2,2,2,2,2,2,2,2,2,2,2,2,2,2,2,2,2,2,2,2,2,2,2,2,2,2,2,2,2,2,2,2,2,2,2,2,2,2,2,2,2,2,2,2,2,2,2,2,2,2,2,2,2,2,2,2,2,2,2,2,2,2,2,2,2,2,2,2,2,2,2,2,2,2,2,2,2,2,2,2,2,2,2,2,2,2,2,2,2,2,2,2,2,2,2,2,2,2,2,2,2,2,2,2],\"hi_low_spread\":{\"__ndarray__\":\"YLgehetR2D/QzMzMzMzcP4/C9Shcj9I/bT0K16NwzT8+MzMzMzPDP/AoXI/C9dg/v/UoXI/CxT/wehSuR+HKP+xRuB6F6+k/fBSuR+F68D//KFyPwvXYPwAAAAAAAPA/gOtRuB6F6z9I4XoUrkf1P8AehetRuOY/GIXrUbge9T9Yj8L1KFzzPzgzMzMzM/M/H4XrUbge7T9Q4XoUrkfpP7EehetRuO4/YLgehetR2D8wXI/C9SjkP1iPwvUoXPc/kML1KFyP6j84CtejcD3yPzheukkMAvI/AAAAAAAA8D8A5WGh1jTnP1C4HoXrUfw/SOF6FK5H8T8AAAAAAADoPyBcj8L1KOw/Ea5H4XoU7j+gcD0K16PoP/goXI/C9fA/AAAAAAAA9D9xPQrXo3D1P3E9CtejcO0/8HoUrkfh6j/gehSuR+HqP6BwPQrXo+g/AClcj8L16D9gPQrXo3DdP2BmZmZmZuY/AAAAAAAA9D9QuB6F61H0PxGuR+F6FO4/kML1KFyP4j9Yj8L1KFzzP2CPwvUoXPM/8FG4HoXr+T8hhetRuB75P+CjcD0K1+s/sEfhehSu8z/fehSuR+HyP0DhehSuR/U/+THmriVkBUAhhetRuB4BQGBmZmZmZvY/H4XrUbge7T/Yo3A9ClcEQNDMzMzMzAhAMArXo3A99j+A61G4HoX3P7BH4XoUrgBAgOtRuB6F8z+4HoXrUbgGQBSuR+F6FBFAcGZmZmZmBEABrkfhehT6P1iPwvUoXAFAEIXrUbge9T8BKVyPwvX4PzBcj8L1KPg/0KNwPQrX+z+gwvUoXI/2P2hmZmZmZgZAYI/C9ShcAUBxPQrXo3AFQEDhehSuR/k/YI/C9Shc+z/oUbgehesDQGBmZmZmZvo/cccpOpLL9D8AAAAAAAAMQGAgQfFjzPg/0MzMzMzMAkBxPQrXo3ADQLBH4XoUrvs/gOtRuB6F8z8AAAAAAAACQHE9CtejcPk/0MzMzMzM9D9Yj8L1KFwBQOD5fmq8dPI/EEYldQKa9T8AAAAAAAD0PzAzMzMzMwNAgOtRuB6F+z8wMzMzMzP7PxCuR+F6FPY/0MzMzMzMAkCgmZmZmZn1P29xGw3grQFAMArXo3A99j+A61G4HoX7P1C4HoXrUfg/QOF6FK5H+T8QrkfhehT+P8DMzMzMzPQ/wMzMzMzM8j/Qo3A9Ctf7P0AK16NwPfo/33oUrkfh+j9QuB6F61H4P/BRuB6F6/U/4Ir9Zffk7T/go3A9CtfzP8BH4XoUru8/cT0K16Nw9T8gXI/C9Sj8P4AUrkfhegJAwMzMzMzM6D8gXI/C9SjsP+hRuB6F6wNAIYXrUbge+T8wMzMzMzMDQMAehetRuPY/IBZqTfOOAEA=\",\"dtype\":\"float64\",\"order\":\"little\",\"shape\":[130]}},\"selected\":{\"id\":\"1844\"},\"selection_policy\":{\"id\":\"1861\"}},\"id\":\"1843\",\"type\":\"ColumnDataSource\"},{\"attributes\":{\"axis_label\":\"close\",\"coordinates\":null,\"formatter\":{\"id\":\"1793\"},\"group\":null,\"major_label_policy\":{\"id\":\"1799\"},\"ticker\":{\"id\":\"1777\"}},\"id\":\"1776\",\"type\":\"LinearAxis\"},{\"attributes\":{\"fill_color\":{\"value\":\"#e5ae38\"},\"hatch_color\":{\"value\":\"#e5ae38\"},\"line_color\":{\"value\":\"#e5ae38\"},\"size\":{\"value\":5.477225575051661},\"tags\":[\"apply_ranges\"],\"x\":{\"field\":\"hi_low_spread\"},\"y\":{\"field\":\"close\"}},\"id\":\"1846\",\"type\":\"Scatter\"},{\"attributes\":{},\"id\":\"1799\",\"type\":\"AllLabels\"},{\"attributes\":{\"fill_color\":{\"value\":\"#fc4f30\"},\"hatch_color\":{\"value\":\"#fc4f30\"},\"line_color\":{\"value\":\"#fc4f30\"},\"size\":{\"value\":5.477225575051661},\"tags\":[\"apply_ranges\"],\"x\":{\"field\":\"hi_low_spread\"},\"y\":{\"field\":\"close\"}},\"id\":\"1825\",\"type\":\"Scatter\"},{\"attributes\":{},\"id\":\"1780\",\"type\":\"SaveTool\"},{\"attributes\":{},\"id\":\"1781\",\"type\":\"PanTool\"},{\"attributes\":{},\"id\":\"1777\",\"type\":\"BasicTicker\"},{\"attributes\":{},\"id\":\"1823\",\"type\":\"Selection\"},{\"attributes\":{},\"id\":\"1784\",\"type\":\"ResetTool\"},{\"attributes\":{\"coordinates\":null,\"data_source\":{\"id\":\"1843\"},\"glyph\":{\"id\":\"1846\"},\"group\":null,\"hover_glyph\":null,\"muted_glyph\":{\"id\":\"1848\"},\"nonselection_glyph\":{\"id\":\"1847\"},\"selection_glyph\":{\"id\":\"1865\"},\"view\":{\"id\":\"1850\"}},\"id\":\"1849\",\"type\":\"GlyphRenderer\"},{\"attributes\":{\"callback\":null,\"renderers\":[{\"id\":\"1808\"},{\"id\":\"1828\"},{\"id\":\"1849\"}],\"tags\":[\"hv_created\"],\"tooltips\":[[\"clusters_lower\",\"@{clusters_lower}\"],[\"hi_low_spread\",\"@{hi_low_spread}\"],[\"close\",\"@{close}\"]]},\"id\":\"1760\",\"type\":\"HoverTool\"},{\"attributes\":{\"axis\":{\"id\":\"1772\"},\"coordinates\":null,\"grid_line_color\":null,\"group\":null,\"ticker\":null},\"id\":\"1775\",\"type\":\"Grid\"},{\"attributes\":{},\"id\":\"1861\",\"type\":\"UnionRenderers\"},{\"attributes\":{},\"id\":\"1782\",\"type\":\"WheelZoomTool\"},{\"attributes\":{},\"id\":\"1816\",\"type\":\"UnionRenderers\"},{\"attributes\":{\"fill_alpha\":{\"value\":0.2},\"fill_color\":{\"value\":\"#30a2da\"},\"hatch_alpha\":{\"value\":0.2},\"hatch_color\":{\"value\":\"#30a2da\"},\"line_alpha\":{\"value\":0.2},\"line_color\":{\"value\":\"#30a2da\"},\"size\":{\"value\":5.477225575051661},\"tags\":[\"apply_ranges\"],\"x\":{\"field\":\"hi_low_spread\"},\"y\":{\"field\":\"close\"}},\"id\":\"1807\",\"type\":\"Scatter\"},{\"attributes\":{\"source\":{\"id\":\"1822\"}},\"id\":\"1829\",\"type\":\"CDSView\"},{\"attributes\":{\"source\":{\"id\":\"1843\"}},\"id\":\"1850\",\"type\":\"CDSView\"},{\"attributes\":{\"below\":[{\"id\":\"1772\"}],\"center\":[{\"id\":\"1775\"},{\"id\":\"1779\"}],\"height\":300,\"left\":[{\"id\":\"1776\"}],\"margin\":[5,5,5,5],\"min_border_bottom\":10,\"min_border_left\":10,\"min_border_right\":10,\"min_border_top\":10,\"output_backend\":\"webgl\",\"renderers\":[{\"id\":\"1808\"},{\"id\":\"1828\"},{\"id\":\"1849\"}],\"right\":[{\"id\":\"1819\"}],\"sizing_mode\":\"fixed\",\"title\":{\"id\":\"1764\"},\"toolbar\":{\"id\":\"1786\"},\"width\":700,\"x_range\":{\"id\":\"1758\"},\"x_scale\":{\"id\":\"1768\"},\"y_range\":{\"id\":\"1759\"},\"y_scale\":{\"id\":\"1770\"}},\"id\":\"1763\",\"subtype\":\"Figure\",\"type\":\"Plot\"},{\"attributes\":{\"format\":\"%.0f\"},\"id\":\"1793\",\"type\":\"PrintfTickFormatter\"},{\"attributes\":{},\"id\":\"1838\",\"type\":\"UnionRenderers\"},{\"attributes\":{},\"id\":\"1795\",\"type\":\"BasicTickFormatter\"},{\"attributes\":{\"axis\":{\"id\":\"1776\"},\"coordinates\":null,\"dimension\":1,\"grid_line_color\":null,\"group\":null,\"ticker\":null},\"id\":\"1779\",\"type\":\"Grid\"},{\"attributes\":{\"overlay\":{\"id\":\"1785\"}},\"id\":\"1783\",\"type\":\"BoxZoomTool\"},{\"attributes\":{\"label\":{\"value\":\"0\"},\"renderers\":[{\"id\":\"1808\"}]},\"id\":\"1820\",\"type\":\"LegendItem\"},{\"attributes\":{},\"id\":\"1803\",\"type\":\"Selection\"},{\"attributes\":{\"end\":35.83,\"reset_end\":35.83,\"reset_start\":-1.4899999999999998,\"start\":-1.4899999999999998,\"tags\":[[[\"close\",\"close\",null]]]},\"id\":\"1759\",\"type\":\"Range1d\"},{\"attributes\":{\"coordinates\":null,\"data_source\":{\"id\":\"1802\"},\"glyph\":{\"id\":\"1805\"},\"group\":null,\"hover_glyph\":null,\"muted_glyph\":{\"id\":\"1807\"},\"nonselection_glyph\":{\"id\":\"1806\"},\"selection_glyph\":{\"id\":\"1821\"},\"view\":{\"id\":\"1809\"}},\"id\":\"1808\",\"type\":\"GlyphRenderer\"},{\"attributes\":{\"data\":{\"close\":{\"__ndarray__\":\"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\",\"dtype\":\"float64\",\"order\":\"little\",\"shape\":[1848]},\"clusters_lower\":[1,1,1,1,1,1,1,1,1,1,1,1,1,1,1,1,1,1,1,1,1,1,1,1,1,1,1,1,1,1,1,1,1,1,1,1,1,1,1,1,1,1,1,1,1,1,1,1,1,1,1,1,1,1,1,1,1,1,1,1,1,1,1,1,1,1,1,1,1,1,1,1,1,1,1,1,1,1,1,1,1,1,1,1,1,1,1,1,1,1,1,1,1,1,1,1,1,1,1,1,1,1,1,1,1,1,1,1,1,1,1,1,1,1,1,1,1,1,1,1,1,1,1,1,1,1,1,1,1,1,1,1,1,1,1,1,1,1,1,1,1,1,1,1,1,1,1,1,1,1,1,1,1,1,1,1,1,1,1,1,1,1,1,1,1,1,1,1,1,1,1,1,1,1,1,1,1,1,1,1,1,1,1,1,1,1,1,1,1,1,1,1,1,1,1,1,1,1,1,1,1,1,1,1,1,1,1,1,1,1,1,1,1,1,1,1,1,1,1,1,1,1,1,1,1,1,1,1,1,1,1,1,1,1,1,1,1,1,1,1,1,1,1,1,1,1,1,1,1,1,1,1,1,1,1,1,1,1,1,1,1,1,1,1,1,1,1,1,1,1,1,1,1,1,1,1,1,1,1,1,1,1,1,1,1,1,1,1,1,1,1,1,1,1,1,1,1,1,1,1,1,1,1,1,1,1,1,1,1,1,1,1,1,1,1,1,1,1,1,1,1,1,1,1,1,1,1,1,1,1,1,1,1,1,1,1,1,1,1,1,1,1,1,1,1,1,1,1,1,1,1,1,1,1,1,1,1,1,1,1,1,1,1,1,1,1,1,1,1,1,1,1,1,1,1,1,1,1,1,1,1,1,1,1,1,1,1,1,1,1,1,1,1,1,1,1,1,1,1,1,1,1,1,1,1,1,1,1,1,1,1,1,1,1,1,1,1,1,1,1,1,1,1,1,1,1,1,1,1,1,1,1,1,1,1,1,1,1,1,1,1,1,1,1,1,1,1,1,1,1,1,1,1,1,1,1,1,1,1,1,1,1,1,1,1,1,1,1,1,1,1,1,1,1,1,1,1,1,1,1,1,1,1,1,1,1,1,1,1,1,1,1,1,1,1,1,1,1,1,1,1,1,1,1,1,1,1,1,1,1,1,1,1,1,1,1,1,1,1,1,1,1,1,1,1,1,1,1,1,1,1,1,1,1,1,1,1,1,1,1,1,1,1,1,1,1,1,1,1,1,1,1,1,1,1,1,1,1,1,1,1,1,1,1,1,1,1,1,1,1,1,1,1,1,1,1,1,1,1,1,1,1,1,1,1,1,1,1,1,1,1,1,1,1,1,1,1,1,1,1,1,1,1,1,1,1,1,1,1,1,1,1,1,1,1,1,1,1,1,1,1,1,1,1,1,1,1,1,1,1,1,1,1,1,1,1,1,1,1,1,1,1,1,1,1,1,1,1,1,1,1,1,1,1,1,1,1,1,1,1,1,1,1,1,1,1,1,1,1,1,1,1,1,1,1,1,1,1,1,1,1,1,1,1,1,1,1,1,1,1,1,1,1,1,1,1,1,1,1,1,1,1,1,1,1,1,1,1,1,1,1,1,1,1,1,1,1,1,1,1,1,1,1,1,1,1,1,1,1,1,1,1,1,1,1,1,1,1,1,1,1,1,1,1,1,1,1,1,1,1,1,1,1,1,1,1,1,1,1,1,1,1,1,1,1,1,1,1,1,1,1,1,1,1,1,1,1,1,1,1,1,1,1,1,1,1,1,1,1,1,1,1,1,1,1,1,1,1,1,1,1,1,1,1,1,1,1,1,1,1,1,1,1,1,1,1,1,1,1,1,1,1,1,1,1,1,1,1,1,1,1,1,1,1,1,1,1,1,1,1,1,1,1,1,1,1,1,1,1,1,1,1,1,1,1,1,1,1,1,1,1,1,1,1,1,1,1,1,1,1,1,1,1,1,1,1,1,1,1,1,1,1,1,1,1,1,1,1,1,1,1,1,1,1,1,1,1,1,1,1,1,1,1,1,1,1,1,1,1,1,1,1,1,1,1,1,1,1,1,1,1,1,1,1,1,1,1,1,1,1,1,1,1,1,1,1,1,1,1,1,1,1,1,1,1,1,1,1,1,1,1,1,1,1,1,1,1,1,1,1,1,1,1,1,1,1,1,1,1,1,1,1,1,1,1,1,1,1,1,1,1,1,1,1,1,1,1,1,1,1,1,1,1,1,1,1,1,1,1,1,1,1,1,1,1,1,1,1,1,1,1,1,1,1,1,1,1,1,1,1,1,1,1,1,1,1,1,1,1,1,1,1,1,1,1,1,1,1,1,1,1,1,1,1,1,1,1,1,1,1,1,1,1,1,1,1,1,1,1,1,1,1,1,1,1,1,1,1,1,1,1,1,1,1,1,1,1,1,1,1,1,1,1,1,1,1,1,1,1,1,1,1,1,1,1,1,1,1,1,1,1,1,1,1,1,1,1,1,1,1,1,1,1,1,1,1,1,1,1,1,1,1,1,1,1,1,1,1,1,1,1,1,1,1,1,1,1,1,1,1,1,1,1,1,1,1,1,1,1,1,1,1,1,1,1,1,1,1,1,1,1,1,1,1,1,1,1,1,1,1,1,1,1,1,1,1,1,1,1,1,1,1,1,1,1,1,1,1,1,1,1,1,1,1,1,1,1,1,1,1,1,1,1,1,1,1,1,1,1,1,1,1,1,1,1,1,1,1,1,1,1,1,1,1,1,1,1,1,1,1,1,1,1,1,1,1,1,1,1,1,1,1,1,1,1,1,1,1,1,1,1,1,1,1,1,1,1,1,1,1,1,1,1,1,1,1,1,1,1,1,1,1,1,1,1,1,1,1,1,1,1,1,1,1,1,1,1,1,1,1,1,1,1,1,1,1,1,1,1,1,1,1,1,1,1,1,1,1,1,1,1,1,1,1,1,1,1,1,1,1,1,1,1,1,1,1,1,1,1,1,1,1,1,1,1,1,1,1,1,1,1,1,1,1,1,1,1,1,1,1,1,1,1,1,1,1,1,1,1,1,1,1,1,1,1,1,1,1,1,1,1,1,1,1,1,1,1,1,1,1,1,1,1,1,1,1,1,1,1,1,1,1,1,1,1,1,1,1,1,1,1,1,1,1,1,1,1,1,1,1,1,1,1,1,1,1,1,1,1,1,1,1,1,1,1,1,1,1,1,1,1,1,1,1,1,1,1,1,1,1,1,1,1,1,1,1,1,1,1,1,1,1,1,1,1,1,1,1,1,1,1,1,1,1,1,1,1,1,1,1,1,1,1,1,1,1,1,1,1,1,1,1,1,1,1,1,1,1,1,1,1,1,1,1,1,1,1,1,1,1,1,1,1,1,1,1,1,1,1,1,1,1,1,1,1,1,1,1,1,1,1,1,1,1,1,1,1,1,1,1,1,1,1,1,1,1,1,1,1,1,1,1,1,1,1,1,1,1,1,1,1,1,1,1,1,1,1,1,1,1,1,1,1,1,1,1,1,1,1,1,1,1,1,1,1,1,1,1,1,1,1,1,1,1,1,1,1,1,1,1,1,1,1,1,1,1,1,1,1,1,1,1,1,1,1,1,1,1,1,1,1,1,1,1,1,1,1,1,1,1,1,1,1,1,1,1,1,1,1,1,1,1,1,1,1,1,1,1,1,1,1,1,1,1,1,1,1,1,1,1,1,1,1,1,1,1,1,1,1,1,1,1,1,1,1,1,1,1,1,1,1,1,1,1,1,1,1,1,1,1,1,1,1,1,1,1,1,1,1,1,1,1,1,1,1,1,1,1,1,1,1,1,1,1,1,1,1,1,1,1,1,1,1,1,1,1,1,1,1,1,1,1,1,1,1,1,1,1,1,1,1,1,1,1,1,1,1,1,1,1,1,1,1,1,1,1,1,1,1,1,1,1,1,1,1,1,1,1,1,1,1,1,1,1,1,1,1,1,1,1,1,1,1,1,1,1,1,1,1,1,1,1,1,1,1,1,1,1,1,1,1,1,1,1,1,1,1,1,1,1,1,1,1,1,1,1,1,1,1,1,1,1,1,1,1,1,1,1,1,1,1,1,1,1,1,1,1,1,1,1,1,1,1,1,1,1,1,1,1,1,1,1,1,1,1,1,1,1],\"hi_low_spread\":{\"__ndarray__\":\"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\",\"dtype\":\"float64\",\"order\":\"little\",\"shape\":[1848]}},\"selected\":{\"id\":\"1823\"},\"selection_policy\":{\"id\":\"1838\"}},\"id\":\"1822\",\"type\":\"ColumnDataSource\"},{\"attributes\":{\"label\":{\"value\":\"2\"},\"renderers\":[{\"id\":\"1849\"}]},\"id\":\"1864\",\"type\":\"LegendItem\"},{\"attributes\":{\"end\":4.4521428571428565,\"reset_end\":4.4521428571428565,\"reset_start\":-0.16214285714285714,\"start\":-0.16214285714285714,\"tags\":[[[\"hi_low_spread\",\"hi_low_spread\",null]]]},\"id\":\"1758\",\"type\":\"Range1d\"},{\"attributes\":{},\"id\":\"1773\",\"type\":\"BasicTicker\"},{\"attributes\":{},\"id\":\"1844\",\"type\":\"Selection\"},{\"attributes\":{\"click_policy\":\"mute\",\"coordinates\":null,\"group\":null,\"items\":[{\"id\":\"1820\"},{\"id\":\"1841\"},{\"id\":\"1864\"}],\"location\":[0,0],\"title\":\"clusters_lower\"},\"id\":\"1819\",\"type\":\"Legend\"},{\"attributes\":{\"angle\":{\"value\":0.0},\"fill_alpha\":{\"value\":1.0},\"fill_color\":{\"value\":\"#30a2da\"},\"hatch_alpha\":{\"value\":1.0},\"hatch_color\":{\"value\":\"#30a2da\"},\"hatch_scale\":{\"value\":12.0},\"hatch_weight\":{\"value\":1.0},\"line_alpha\":{\"value\":1.0},\"line_cap\":{\"value\":\"butt\"},\"line_color\":{\"value\":\"#30a2da\"},\"line_dash\":{\"value\":[]},\"line_dash_offset\":{\"value\":0},\"line_join\":{\"value\":\"bevel\"},\"line_width\":{\"value\":1},\"marker\":{\"value\":\"circle\"},\"size\":{\"value\":5.477225575051661},\"tags\":[\"apply_ranges\"],\"x\":{\"field\":\"hi_low_spread\"},\"y\":{\"field\":\"close\"}},\"id\":\"1821\",\"type\":\"Scatter\"},{\"attributes\":{\"axis_label\":\"hi_low_spread\",\"coordinates\":null,\"formatter\":{\"id\":\"1795\"},\"group\":null,\"major_label_policy\":{\"id\":\"1796\"},\"ticker\":{\"id\":\"1773\"}},\"id\":\"1772\",\"type\":\"LinearAxis\"},{\"attributes\":{\"fill_alpha\":{\"value\":0.1},\"fill_color\":{\"value\":\"#30a2da\"},\"hatch_alpha\":{\"value\":0.1},\"hatch_color\":{\"value\":\"#30a2da\"},\"line_alpha\":{\"value\":0.1},\"line_color\":{\"value\":\"#30a2da\"},\"size\":{\"value\":5.477225575051661},\"tags\":[\"apply_ranges\"],\"x\":{\"field\":\"hi_low_spread\"},\"y\":{\"field\":\"close\"}},\"id\":\"1806\",\"type\":\"Scatter\"},{\"attributes\":{\"angle\":{\"value\":0.0},\"fill_alpha\":{\"value\":1.0},\"fill_color\":{\"value\":\"#e5ae38\"},\"hatch_alpha\":{\"value\":1.0},\"hatch_color\":{\"value\":\"#e5ae38\"},\"hatch_scale\":{\"value\":12.0},\"hatch_weight\":{\"value\":1.0},\"line_alpha\":{\"value\":1.0},\"line_cap\":{\"value\":\"butt\"},\"line_color\":{\"value\":\"#e5ae38\"},\"line_dash\":{\"value\":[]},\"line_dash_offset\":{\"value\":0},\"line_join\":{\"value\":\"bevel\"},\"line_width\":{\"value\":1},\"marker\":{\"value\":\"circle\"},\"size\":{\"value\":5.477225575051661},\"tags\":[\"apply_ranges\"],\"x\":{\"field\":\"hi_low_spread\"},\"y\":{\"field\":\"close\"}},\"id\":\"1865\",\"type\":\"Scatter\"},{\"attributes\":{},\"id\":\"1768\",\"type\":\"LinearScale\"},{\"attributes\":{\"fill_alpha\":{\"value\":0.1},\"fill_color\":{\"value\":\"#fc4f30\"},\"hatch_alpha\":{\"value\":0.1},\"hatch_color\":{\"value\":\"#fc4f30\"},\"line_alpha\":{\"value\":0.1},\"line_color\":{\"value\":\"#fc4f30\"},\"size\":{\"value\":5.477225575051661},\"tags\":[\"apply_ranges\"],\"x\":{\"field\":\"hi_low_spread\"},\"y\":{\"field\":\"close\"}},\"id\":\"1826\",\"type\":\"Scatter\"},{\"attributes\":{\"coordinates\":null,\"group\":null,\"text_color\":\"black\",\"text_font_size\":\"12pt\"},\"id\":\"1764\",\"type\":\"Title\"},{\"attributes\":{\"bottom_units\":\"screen\",\"coordinates\":null,\"fill_alpha\":0.5,\"fill_color\":\"lightgrey\",\"group\":null,\"left_units\":\"screen\",\"level\":\"overlay\",\"line_alpha\":1.0,\"line_color\":\"black\",\"line_dash\":[4,4],\"line_width\":2,\"right_units\":\"screen\",\"syncable\":false,\"top_units\":\"screen\"},\"id\":\"1785\",\"type\":\"BoxAnnotation\"},{\"attributes\":{\"fill_alpha\":{\"value\":0.1},\"fill_color\":{\"value\":\"#e5ae38\"},\"hatch_alpha\":{\"value\":0.1},\"hatch_color\":{\"value\":\"#e5ae38\"},\"line_alpha\":{\"value\":0.1},\"line_color\":{\"value\":\"#e5ae38\"},\"size\":{\"value\":5.477225575051661},\"tags\":[\"apply_ranges\"],\"x\":{\"field\":\"hi_low_spread\"},\"y\":{\"field\":\"close\"}},\"id\":\"1847\",\"type\":\"Scatter\"},{\"attributes\":{\"fill_alpha\":{\"value\":0.2},\"fill_color\":{\"value\":\"#e5ae38\"},\"hatch_alpha\":{\"value\":0.2},\"hatch_color\":{\"value\":\"#e5ae38\"},\"line_alpha\":{\"value\":0.2},\"line_color\":{\"value\":\"#e5ae38\"},\"size\":{\"value\":5.477225575051661},\"tags\":[\"apply_ranges\"],\"x\":{\"field\":\"hi_low_spread\"},\"y\":{\"field\":\"close\"}},\"id\":\"1848\",\"type\":\"Scatter\"},{\"attributes\":{\"children\":[{\"id\":\"1763\"}],\"height\":300,\"margin\":[0,0,0,0],\"name\":\"Row01683\",\"sizing_mode\":\"fixed\",\"tags\":[\"embedded\"],\"width\":700},\"id\":\"1757\",\"type\":\"Row\"},{\"attributes\":{\"coordinates\":null,\"data_source\":{\"id\":\"1822\"},\"glyph\":{\"id\":\"1825\"},\"group\":null,\"hover_glyph\":null,\"muted_glyph\":{\"id\":\"1827\"},\"nonselection_glyph\":{\"id\":\"1826\"},\"selection_glyph\":{\"id\":\"1842\"},\"view\":{\"id\":\"1829\"}},\"id\":\"1828\",\"type\":\"GlyphRenderer\"},{\"attributes\":{\"label\":{\"value\":\"1\"},\"renderers\":[{\"id\":\"1828\"}]},\"id\":\"1841\",\"type\":\"LegendItem\"},{\"attributes\":{\"active_drag\":{\"id\":\"1781\"},\"active_scroll\":{\"id\":\"1782\"},\"tools\":[{\"id\":\"1760\"},{\"id\":\"1780\"},{\"id\":\"1781\"},{\"id\":\"1782\"},{\"id\":\"1783\"},{\"id\":\"1784\"}]},\"id\":\"1786\",\"type\":\"Toolbar\"},{\"attributes\":{},\"id\":\"1796\",\"type\":\"AllLabels\"},{\"attributes\":{\"fill_alpha\":{\"value\":0.2},\"fill_color\":{\"value\":\"#fc4f30\"},\"hatch_alpha\":{\"value\":0.2},\"hatch_color\":{\"value\":\"#fc4f30\"},\"line_alpha\":{\"value\":0.2},\"line_color\":{\"value\":\"#fc4f30\"},\"size\":{\"value\":5.477225575051661},\"tags\":[\"apply_ranges\"],\"x\":{\"field\":\"hi_low_spread\"},\"y\":{\"field\":\"close\"}},\"id\":\"1827\",\"type\":\"Scatter\"},{\"attributes\":{\"data\":{\"close\":{\"__ndarray__\":\"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\",\"dtype\":\"float64\",\"order\":\"little\",\"shape\":[538]},\"clusters_lower\":[0,0,0,0,0,0,0,0,0,0,0,0,0,0,0,0,0,0,0,0,0,0,0,0,0,0,0,0,0,0,0,0,0,0,0,0,0,0,0,0,0,0,0,0,0,0,0,0,0,0,0,0,0,0,0,0,0,0,0,0,0,0,0,0,0,0,0,0,0,0,0,0,0,0,0,0,0,0,0,0,0,0,0,0,0,0,0,0,0,0,0,0,0,0,0,0,0,0,0,0,0,0,0,0,0,0,0,0,0,0,0,0,0,0,0,0,0,0,0,0,0,0,0,0,0,0,0,0,0,0,0,0,0,0,0,0,0,0,0,0,0,0,0,0,0,0,0,0,0,0,0,0,0,0,0,0,0,0,0,0,0,0,0,0,0,0,0,0,0,0,0,0,0,0,0,0,0,0,0,0,0,0,0,0,0,0,0,0,0,0,0,0,0,0,0,0,0,0,0,0,0,0,0,0,0,0,0,0,0,0,0,0,0,0,0,0,0,0,0,0,0,0,0,0,0,0,0,0,0,0,0,0,0,0,0,0,0,0,0,0,0,0,0,0,0,0,0,0,0,0,0,0,0,0,0,0,0,0,0,0,0,0,0,0,0,0,0,0,0,0,0,0,0,0,0,0,0,0,0,0,0,0,0,0,0,0,0,0,0,0,0,0,0,0,0,0,0,0,0,0,0,0,0,0,0,0,0,0,0,0,0,0,0,0,0,0,0,0,0,0,0,0,0,0,0,0,0,0,0,0,0,0,0,0,0,0,0,0,0,0,0,0,0,0,0,0,0,0,0,0,0,0,0,0,0,0,0,0,0,0,0,0,0,0,0,0,0,0,0,0,0,0,0,0,0,0,0,0,0,0,0,0,0,0,0,0,0,0,0,0,0,0,0,0,0,0,0,0,0,0,0,0,0,0,0,0,0,0,0,0,0,0,0,0,0,0,0,0,0,0,0,0,0,0,0,0,0,0,0,0,0,0,0,0,0,0,0,0,0,0,0,0,0,0,0,0,0,0,0,0,0,0,0,0,0,0,0,0,0,0,0,0,0,0,0,0,0,0,0,0,0,0,0,0,0,0,0,0,0,0,0,0,0,0,0,0,0,0,0,0,0,0,0,0,0,0,0,0,0,0,0,0,0,0,0,0,0,0,0,0,0,0,0,0,0,0,0,0,0,0,0,0,0,0,0,0,0,0,0,0,0,0,0,0,0,0,0,0],\"hi_low_spread\":{\"__ndarray__\":\"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\",\"dtype\":\"float64\",\"order\":\"little\",\"shape\":[538]}},\"selected\":{\"id\":\"1803\"},\"selection_policy\":{\"id\":\"1816\"}},\"id\":\"1802\",\"type\":\"ColumnDataSource\"}],\"root_ids\":[\"1757\"]},\"title\":\"Bokeh Application\",\"version\":\"2.4.3\"}};\n",
       "    var render_items = [{\"docid\":\"1274d2e5-c1cb-4832-aba9-324d519297b3\",\"root_ids\":[\"1757\"],\"roots\":{\"1757\":\"e64e30b0-0636-4cbc-94fa-e4f67a6f6f4c\"}}];\n",
       "    root.Bokeh.embed.embed_items_notebook(docs_json, render_items);\n",
       "    for (const render_item of render_items) {\n",
       "      for (const root_id of render_item.root_ids) {\n",
       "\tconst id_el = document.getElementById(root_id)\n",
       "\tif (id_el.children.length && (id_el.children[0].className === 'bk-root')) {\n",
       "\t  const root_el = id_el.children[0]\n",
       "\t  root_el.id = root_el.id + '-rendered'\n",
       "\t}\n",
       "      }\n",
       "    }\n",
       "  }\n",
       "  if (root.Bokeh !== undefined && root.Bokeh.Panel !== undefined) {\n",
       "    embed_document(root);\n",
       "  } else {\n",
       "    var attempts = 0;\n",
       "    var timer = setInterval(function(root) {\n",
       "      if (root.Bokeh !== undefined && root.Bokeh.Panel !== undefined) {\n",
       "        clearInterval(timer);\n",
       "        embed_document(root);\n",
       "      } else if (document.readyState == \"complete\") {\n",
       "        attempts++;\n",
       "        if (attempts > 200) {\n",
       "          clearInterval(timer);\n",
       "          console.log(\"Bokeh: ERROR: Unable to run BokehJS code because BokehJS library is missing\");\n",
       "        }\n",
       "      }\n",
       "    }, 25, root)\n",
       "  }\n",
       "})(window);</script>"
      ],
      "text/plain": [
       ":NdOverlay   [clusters_lower]\n",
       "   :Scatter   [hi_low_spread]   (close)"
      ]
     },
     "execution_count": 30,
     "metadata": {
      "application/vnd.holoviews_exec.v0+json": {
       "id": "1757"
      }
     },
     "output_type": "execute_result"
    }
   ],
   "source": [
    "# Plot the clusters\n",
    "spread_df_predictions.hvplot.scatter(\n",
    "    x=\"hi_low_spread\",\n",
    "    y=\"close\",\n",
    "    by=\"clusters_lower\"\n",
    ").opts(yformatter=\"%.0f\")"
   ]
  },
  {
   "cell_type": "code",
   "execution_count": 31,
   "metadata": {},
   "outputs": [],
   "source": [
    "# Define the model with the higher value of k clusters\n",
    "# Use a random_state of 1 to generate the model\n",
    "model = KMeans(n_clusters=4, random_state=1)\n",
    "\n",
    "# Fit the model\n",
    "model.fit(spread_df)\n",
    "\n",
    "# Make predictions\n",
    "k_higher = model.predict(spread_df)\n",
    "\n",
    "# Add a class column with the labels to the spread_df_predictions DataFrame\n",
    "spread_df_predictions['clusters_higher'] = k_higher"
   ]
  },
  {
   "cell_type": "code",
   "execution_count": 32,
   "metadata": {},
   "outputs": [
    {
     "data": {},
     "metadata": {},
     "output_type": "display_data"
    },
    {
     "data": {
      "application/vnd.holoviews_exec.v0+json": "",
      "text/html": [
       "<div id='1949'>\n",
       "  <div class=\"bk-root\" id=\"ec9205ed-dee9-44c4-856d-2947a08fa5ec\" data-root-id=\"1949\"></div>\n",
       "</div>\n",
       "<script type=\"application/javascript\">(function(root) {\n",
       "  function embed_document(root) {\n",
       "    var docs_json = {\"42f6595c-c6d2-45b9-816d-6fc231ff3137\":{\"defs\":[{\"extends\":null,\"module\":null,\"name\":\"ReactiveHTML1\",\"overrides\":[],\"properties\":[]},{\"extends\":null,\"module\":null,\"name\":\"FlexBox1\",\"overrides\":[],\"properties\":[{\"default\":\"flex-start\",\"kind\":null,\"name\":\"align_content\"},{\"default\":\"flex-start\",\"kind\":null,\"name\":\"align_items\"},{\"default\":\"row\",\"kind\":null,\"name\":\"flex_direction\"},{\"default\":\"wrap\",\"kind\":null,\"name\":\"flex_wrap\"},{\"default\":\"flex-start\",\"kind\":null,\"name\":\"justify_content\"}]},{\"extends\":null,\"module\":null,\"name\":\"GridStack1\",\"overrides\":[],\"properties\":[{\"default\":\"warn\",\"kind\":null,\"name\":\"mode\"},{\"default\":null,\"kind\":null,\"name\":\"ncols\"},{\"default\":null,\"kind\":null,\"name\":\"nrows\"},{\"default\":true,\"kind\":null,\"name\":\"allow_resize\"},{\"default\":true,\"kind\":null,\"name\":\"allow_drag\"},{\"default\":[],\"kind\":null,\"name\":\"state\"}]},{\"extends\":null,\"module\":null,\"name\":\"click1\",\"overrides\":[],\"properties\":[{\"default\":\"\",\"kind\":null,\"name\":\"terminal_output\"},{\"default\":\"\",\"kind\":null,\"name\":\"debug_name\"},{\"default\":0,\"kind\":null,\"name\":\"clears\"}]},{\"extends\":null,\"module\":null,\"name\":\"NotificationAreaBase1\",\"overrides\":[],\"properties\":[{\"default\":\"bottom-right\",\"kind\":null,\"name\":\"position\"},{\"default\":0,\"kind\":null,\"name\":\"_clear\"}]},{\"extends\":null,\"module\":null,\"name\":\"NotificationArea1\",\"overrides\":[],\"properties\":[{\"default\":[],\"kind\":null,\"name\":\"notifications\"},{\"default\":\"bottom-right\",\"kind\":null,\"name\":\"position\"},{\"default\":0,\"kind\":null,\"name\":\"_clear\"},{\"default\":[{\"background\":\"#ffc107\",\"icon\":{\"className\":\"fas fa-exclamation-triangle\",\"color\":\"white\",\"tagName\":\"i\"},\"type\":\"warning\"},{\"background\":\"#007bff\",\"icon\":{\"className\":\"fas fa-info-circle\",\"color\":\"white\",\"tagName\":\"i\"},\"type\":\"info\"}],\"kind\":null,\"name\":\"types\"}]},{\"extends\":null,\"module\":null,\"name\":\"Notification\",\"overrides\":[],\"properties\":[{\"default\":null,\"kind\":null,\"name\":\"background\"},{\"default\":3000,\"kind\":null,\"name\":\"duration\"},{\"default\":null,\"kind\":null,\"name\":\"icon\"},{\"default\":\"\",\"kind\":null,\"name\":\"message\"},{\"default\":null,\"kind\":null,\"name\":\"notification_type\"},{\"default\":false,\"kind\":null,\"name\":\"_destroyed\"}]},{\"extends\":null,\"module\":null,\"name\":\"TemplateActions1\",\"overrides\":[],\"properties\":[{\"default\":0,\"kind\":null,\"name\":\"open_modal\"},{\"default\":0,\"kind\":null,\"name\":\"close_modal\"}]},{\"extends\":null,\"module\":null,\"name\":\"MaterialTemplateActions1\",\"overrides\":[],\"properties\":[{\"default\":0,\"kind\":null,\"name\":\"open_modal\"},{\"default\":0,\"kind\":null,\"name\":\"close_modal\"}]}],\"roots\":{\"references\":[{\"attributes\":{\"fill_alpha\":{\"value\":0.2},\"fill_color\":{\"value\":\"#e5ae38\"},\"hatch_alpha\":{\"value\":0.2},\"hatch_color\":{\"value\":\"#e5ae38\"},\"line_alpha\":{\"value\":0.2},\"line_color\":{\"value\":\"#e5ae38\"},\"size\":{\"value\":5.477225575051661},\"tags\":[\"apply_ranges\"],\"x\":{\"field\":\"hi_low_spread\"},\"y\":{\"field\":\"close\"}},\"id\":\"2041\",\"type\":\"Scatter\"},{\"attributes\":{\"axis\":{\"id\":\"1969\"},\"coordinates\":null,\"dimension\":1,\"grid_line_color\":null,\"group\":null,\"ticker\":null},\"id\":\"1972\",\"type\":\"Grid\"},{\"attributes\":{\"format\":\"%.0f\"},\"id\":\"1986\",\"type\":\"PrintfTickFormatter\"},{\"attributes\":{\"fill_alpha\":{\"value\":0.1},\"fill_color\":{\"value\":\"#fc4f30\"},\"hatch_alpha\":{\"value\":0.1},\"hatch_color\":{\"value\":\"#fc4f30\"},\"line_alpha\":{\"value\":0.1},\"line_color\":{\"value\":\"#fc4f30\"},\"size\":{\"value\":5.477225575051661},\"tags\":[\"apply_ranges\"],\"x\":{\"field\":\"hi_low_spread\"},\"y\":{\"field\":\"close\"}},\"id\":\"2019\",\"type\":\"Scatter\"},{\"attributes\":{\"coordinates\":null,\"data_source\":{\"id\":\"2015\"},\"glyph\":{\"id\":\"2018\"},\"group\":null,\"hover_glyph\":null,\"muted_glyph\":{\"id\":\"2020\"},\"nonselection_glyph\":{\"id\":\"2019\"},\"selection_glyph\":{\"id\":\"2035\"},\"view\":{\"id\":\"2022\"}},\"id\":\"2021\",\"type\":\"GlyphRenderer\"},{\"attributes\":{},\"id\":\"1996\",\"type\":\"Selection\"},{\"attributes\":{},\"id\":\"1966\",\"type\":\"BasicTicker\"},{\"attributes\":{\"fill_alpha\":{\"value\":0.2},\"fill_color\":{\"value\":\"#30a2da\"},\"hatch_alpha\":{\"value\":0.2},\"hatch_color\":{\"value\":\"#30a2da\"},\"line_alpha\":{\"value\":0.2},\"line_color\":{\"value\":\"#30a2da\"},\"size\":{\"value\":5.477225575051661},\"tags\":[\"apply_ranges\"],\"x\":{\"field\":\"hi_low_spread\"},\"y\":{\"field\":\"close\"}},\"id\":\"2000\",\"type\":\"Scatter\"},{\"attributes\":{\"coordinates\":null,\"data_source\":{\"id\":\"2036\"},\"glyph\":{\"id\":\"2039\"},\"group\":null,\"hover_glyph\":null,\"muted_glyph\":{\"id\":\"2041\"},\"nonselection_glyph\":{\"id\":\"2040\"},\"selection_glyph\":{\"id\":\"2058\"},\"view\":{\"id\":\"2043\"}},\"id\":\"2042\",\"type\":\"GlyphRenderer\"},{\"attributes\":{\"fill_color\":{\"value\":\"#30a2da\"},\"hatch_color\":{\"value\":\"#30a2da\"},\"line_color\":{\"value\":\"#30a2da\"},\"size\":{\"value\":5.477225575051661},\"tags\":[\"apply_ranges\"],\"x\":{\"field\":\"hi_low_spread\"},\"y\":{\"field\":\"close\"}},\"id\":\"1998\",\"type\":\"Scatter\"},{\"attributes\":{\"fill_alpha\":{\"value\":0.1},\"fill_color\":{\"value\":\"#e5ae38\"},\"hatch_alpha\":{\"value\":0.1},\"hatch_color\":{\"value\":\"#e5ae38\"},\"line_alpha\":{\"value\":0.1},\"line_color\":{\"value\":\"#e5ae38\"},\"size\":{\"value\":5.477225575051661},\"tags\":[\"apply_ranges\"],\"x\":{\"field\":\"hi_low_spread\"},\"y\":{\"field\":\"close\"}},\"id\":\"2040\",\"type\":\"Scatter\"},{\"attributes\":{\"end\":4.4521428571428565,\"reset_end\":4.4521428571428565,\"reset_start\":-0.16214285714285714,\"start\":-0.16214285714285714,\"tags\":[[[\"hi_low_spread\",\"hi_low_spread\",null]]]},\"id\":\"1950\",\"type\":\"Range1d\"},{\"attributes\":{},\"id\":\"1973\",\"type\":\"SaveTool\"},{\"attributes\":{\"coordinates\":null,\"data_source\":{\"id\":\"1995\"},\"glyph\":{\"id\":\"1998\"},\"group\":null,\"hover_glyph\":null,\"muted_glyph\":{\"id\":\"2000\"},\"nonselection_glyph\":{\"id\":\"1999\"},\"selection_glyph\":{\"id\":\"2014\"},\"view\":{\"id\":\"2002\"}},\"id\":\"2001\",\"type\":\"GlyphRenderer\"},{\"attributes\":{\"data\":{\"close\":{\"__ndarray__\":\"7FG4HoXrGUAfhetRuB4QQB+F61G4HhJApHA9CtejDkDsUbgehesPQJqZmZmZmRdAH4XrUbgeKEDD9Shcj0IrQBSuR+F6lCpA7FG4HoXrLECPwvUoXA8qQHsUrkfh+ipACtejcD2KKkCkcD0K16MkQEjhehSuxyRAAAAAAACAKUBmZmZmZmYmQMP1KFyPwihAj8L1KFyPKED2KFyPwvUrQMP1KFyPwixA16NwPQpXLECF61G4HoUtQFK4HoXr0SpAKVyPwvWoKEBI4XoUrsclQJqZmZmZGSdAexSuR+F6K0BI4XoUrkcnQBSuR+F6FCZAmpmZmZlZMkBxPQrXo/AyQOxRuB6FazNAexSuR+H6N0DD9Shcj0I5QM3MzMzMDDlAMzMzMzMzOUCPwvUoXA88QMP1KFyPgjxA16NwPQrXO0CkcD0K1+M9QJqZmZmZGT5AexSuR+EaQEB7FK5H4Xo+QFyPwvUoXEBA16NwPQo3QECuR+F6FO4/QKRwPQrX4z5AhetRuB4FPUCuR+F6FG48QAAAAAAAADlAzczMzMxMOUCF61G4HkUzQLgehetRODRArkfhehSuNEDXo3A9Clc1QPYoXI/CtTdAcT0K16MwNECuR+F6FC40QNejcD0KFzdAKVyPwvVoOEAAAAAAAAA6QDMzMzMzszlAhetRuB4FPUA=\",\"dtype\":\"float64\",\"order\":\"little\",\"shape\":[64]},\"clusters_higher\":[1,1,1,1,1,1,1,1,1,1,1,1,1,1,1,1,1,1,1,1,1,1,1,1,1,1,1,1,1,1,1,1,1,1,1,1,1,1,1,1,1,1,1,1,1,1,1,1,1,1,1,1,1,1,1,1,1,1,1,1,1,1,1,1],\"hi_low_spread\":{\"__ndarray__\":\"YLgehetR2D9tPQrXo3DNP/AoXI/C9dg/v/UoXI/CxT/sUbgehevpP/8oXI/C9dg/SOF6FK5H9T8YhetRuB71P1iPwvUoXPM/ODMzMzMz8z9Q4XoUrkfpP2C4HoXrUdg/MFyPwvUo5D9Yj8L1KFz3P5DC9Shcj+o/OArXo3A98j84XrpJDALyPwDlYaHWNOc/ULgehetR/D8gXI/C9SjsPxGuR+F6FO4/oHA9Ctej6D8AAAAAAAD0P3E9CtejcO0/8HoUrkfh6j+gcD0K16PoPwApXI/C9eg/YGZmZmZm5j8RrkfhehTuP5DC9Shcj+I/8FG4HoXr+T8hhetRuB75P+CjcD0K1+s/QOF6FK5H9T/5MeauJWQFQCGF61G4HgFAYGZmZmZm9j/Yo3A9ClcEQNDMzMzMzAhAMArXo3A99j+wR+F6FK4AQIDrUbgehfM/uB6F61G4BkAUrkfhehQRQHBmZmZmZgRAAa5H4XoU+j9Yj8L1KFwBQGhmZmZmZgZAYI/C9ShcAUBxPQrXo3AFQOhRuB6F6wNAYGZmZmZm+j9xPQrXo3ADQAAAAAAAAAJAWI/C9ShcAUAwMzMzMzP7PxCuR+F6FPY/8FG4HoXr9T/AR+F6FK7vPyBcj8L1KPw/gBSuR+F6AkDoUbgehesDQCGF61G4Hvk/IBZqTfOOAEA=\",\"dtype\":\"float64\",\"order\":\"little\",\"shape\":[64]}},\"selected\":{\"id\":\"2016\"},\"selection_policy\":{\"id\":\"2031\"}},\"id\":\"2015\",\"type\":\"ColumnDataSource\"},{\"attributes\":{},\"id\":\"1974\",\"type\":\"PanTool\"},{\"attributes\":{\"fill_alpha\":{\"value\":0.2},\"fill_color\":{\"value\":\"#fc4f30\"},\"hatch_alpha\":{\"value\":0.2},\"hatch_color\":{\"value\":\"#fc4f30\"},\"line_alpha\":{\"value\":0.2},\"line_color\":{\"value\":\"#fc4f30\"},\"size\":{\"value\":5.477225575051661},\"tags\":[\"apply_ranges\"],\"x\":{\"field\":\"hi_low_spread\"},\"y\":{\"field\":\"close\"}},\"id\":\"2020\",\"type\":\"Scatter\"},{\"attributes\":{\"source\":{\"id\":\"2015\"}},\"id\":\"2022\",\"type\":\"CDSView\"},{\"attributes\":{},\"id\":\"1977\",\"type\":\"ResetTool\"},{\"attributes\":{},\"id\":\"2037\",\"type\":\"Selection\"},{\"attributes\":{},\"id\":\"1975\",\"type\":\"WheelZoomTool\"},{\"attributes\":{\"label\":{\"value\":\"2\"},\"renderers\":[{\"id\":\"2042\"}]},\"id\":\"2057\",\"type\":\"LegendItem\"},{\"attributes\":{\"fill_alpha\":{\"value\":0.1},\"fill_color\":{\"value\":\"#6d904f\"},\"hatch_alpha\":{\"value\":0.1},\"hatch_color\":{\"value\":\"#6d904f\"},\"line_alpha\":{\"value\":0.1},\"line_color\":{\"value\":\"#6d904f\"},\"size\":{\"value\":5.477225575051661},\"tags\":[\"apply_ranges\"],\"x\":{\"field\":\"hi_low_spread\"},\"y\":{\"field\":\"close\"}},\"id\":\"2063\",\"type\":\"Scatter\"},{\"attributes\":{\"overlay\":{\"id\":\"1978\"}},\"id\":\"1976\",\"type\":\"BoxZoomTool\"},{\"attributes\":{},\"id\":\"1989\",\"type\":\"AllLabels\"},{\"attributes\":{\"data\":{\"close\":{\"__ndarray__\":\"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\",\"dtype\":\"float64\",\"order\":\"little\",\"shape\":[242]},\"clusters_higher\":[2,2,2,2,2,2,2,2,2,2,2,2,2,2,2,2,2,2,2,2,2,2,2,2,2,2,2,2,2,2,2,2,2,2,2,2,2,2,2,2,2,2,2,2,2,2,2,2,2,2,2,2,2,2,2,2,2,2,2,2,2,2,2,2,2,2,2,2,2,2,2,2,2,2,2,2,2,2,2,2,2,2,2,2,2,2,2,2,2,2,2,2,2,2,2,2,2,2,2,2,2,2,2,2,2,2,2,2,2,2,2,2,2,2,2,2,2,2,2,2,2,2,2,2,2,2,2,2,2,2,2,2,2,2,2,2,2,2,2,2,2,2,2,2,2,2,2,2,2,2,2,2,2,2,2,2,2,2,2,2,2,2,2,2,2,2,2,2,2,2,2,2,2,2,2,2,2,2,2,2,2,2,2,2,2,2,2,2,2,2,2,2,2,2,2,2,2,2,2,2,2,2,2,2,2,2,2,2,2,2,2,2,2,2,2,2,2,2,2,2,2,2,2,2,2,2,2,2,2,2,2,2,2,2,2,2,2,2,2,2,2,2],\"hi_low_spread\":{\"__ndarray__\":\"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\",\"dtype\":\"float64\",\"order\":\"little\",\"shape\":[242]}},\"selected\":{\"id\":\"2037\"},\"selection_policy\":{\"id\":\"2054\"}},\"id\":\"2036\",\"type\":\"ColumnDataSource\"},{\"attributes\":{\"axis\":{\"id\":\"1965\"},\"coordinates\":null,\"grid_line_color\":null,\"group\":null,\"ticker\":null},\"id\":\"1968\",\"type\":\"Grid\"},{\"attributes\":{},\"id\":\"1988\",\"type\":\"BasicTickFormatter\"},{\"attributes\":{},\"id\":\"1961\",\"type\":\"LinearScale\"},{\"attributes\":{\"coordinates\":null,\"data_source\":{\"id\":\"2059\"},\"glyph\":{\"id\":\"2062\"},\"group\":null,\"hover_glyph\":null,\"muted_glyph\":{\"id\":\"2064\"},\"nonselection_glyph\":{\"id\":\"2063\"},\"selection_glyph\":{\"id\":\"2083\"},\"view\":{\"id\":\"2066\"}},\"id\":\"2065\",\"type\":\"GlyphRenderer\"},{\"attributes\":{\"coordinates\":null,\"group\":null,\"text_color\":\"black\",\"text_font_size\":\"12pt\"},\"id\":\"1957\",\"type\":\"Title\"},{\"attributes\":{},\"id\":\"2016\",\"type\":\"Selection\"},{\"attributes\":{},\"id\":\"2079\",\"type\":\"UnionRenderers\"},{\"attributes\":{\"active_drag\":{\"id\":\"1974\"},\"active_scroll\":{\"id\":\"1975\"},\"tools\":[{\"id\":\"1952\"},{\"id\":\"1973\"},{\"id\":\"1974\"},{\"id\":\"1975\"},{\"id\":\"1976\"},{\"id\":\"1977\"}]},\"id\":\"1979\",\"type\":\"Toolbar\"},{\"attributes\":{},\"id\":\"1992\",\"type\":\"AllLabels\"},{\"attributes\":{\"label\":{\"value\":\"3\"},\"renderers\":[{\"id\":\"2065\"}]},\"id\":\"2082\",\"type\":\"LegendItem\"},{\"attributes\":{\"data\":{\"close\":{\"__ndarray__\":\"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\",\"dtype\":\"float64\",\"order\":\"little\",\"shape\":[657]},\"clusters_higher\":[0,0,0,0,0,0,0,0,0,0,0,0,0,0,0,0,0,0,0,0,0,0,0,0,0,0,0,0,0,0,0,0,0,0,0,0,0,0,0,0,0,0,0,0,0,0,0,0,0,0,0,0,0,0,0,0,0,0,0,0,0,0,0,0,0,0,0,0,0,0,0,0,0,0,0,0,0,0,0,0,0,0,0,0,0,0,0,0,0,0,0,0,0,0,0,0,0,0,0,0,0,0,0,0,0,0,0,0,0,0,0,0,0,0,0,0,0,0,0,0,0,0,0,0,0,0,0,0,0,0,0,0,0,0,0,0,0,0,0,0,0,0,0,0,0,0,0,0,0,0,0,0,0,0,0,0,0,0,0,0,0,0,0,0,0,0,0,0,0,0,0,0,0,0,0,0,0,0,0,0,0,0,0,0,0,0,0,0,0,0,0,0,0,0,0,0,0,0,0,0,0,0,0,0,0,0,0,0,0,0,0,0,0,0,0,0,0,0,0,0,0,0,0,0,0,0,0,0,0,0,0,0,0,0,0,0,0,0,0,0,0,0,0,0,0,0,0,0,0,0,0,0,0,0,0,0,0,0,0,0,0,0,0,0,0,0,0,0,0,0,0,0,0,0,0,0,0,0,0,0,0,0,0,0,0,0,0,0,0,0,0,0,0,0,0,0,0,0,0,0,0,0,0,0,0,0,0,0,0,0,0,0,0,0,0,0,0,0,0,0,0,0,0,0,0,0,0,0,0,0,0,0,0,0,0,0,0,0,0,0,0,0,0,0,0,0,0,0,0,0,0,0,0,0,0,0,0,0,0,0,0,0,0,0,0,0,0,0,0,0,0,0,0,0,0,0,0,0,0,0,0,0,0,0,0,0,0,0,0,0,0,0,0,0,0,0,0,0,0,0,0,0,0,0,0,0,0,0,0,0,0,0,0,0,0,0,0,0,0,0,0,0,0,0,0,0,0,0,0,0,0,0,0,0,0,0,0,0,0,0,0,0,0,0,0,0,0,0,0,0,0,0,0,0,0,0,0,0,0,0,0,0,0,0,0,0,0,0,0,0,0,0,0,0,0,0,0,0,0,0,0,0,0,0,0,0,0,0,0,0,0,0,0,0,0,0,0,0,0,0,0,0,0,0,0,0,0,0,0,0,0,0,0,0,0,0,0,0,0,0,0,0,0,0,0,0,0,0,0,0,0,0,0,0,0,0,0,0,0,0,0,0,0,0,0,0,0,0,0,0,0,0,0,0,0,0,0,0,0,0,0,0,0,0,0,0,0,0,0,0,0,0,0,0,0,0,0,0,0,0,0,0,0,0,0,0,0,0,0,0,0,0,0,0,0,0,0,0,0,0,0,0,0,0,0,0,0,0,0,0,0,0,0,0,0,0,0,0,0,0,0,0,0,0,0,0,0,0,0,0,0,0,0,0,0,0,0,0,0,0,0,0,0,0,0,0,0,0,0,0,0,0,0,0,0,0,0],\"hi_low_spread\":{\"__ndarray__\":\"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\",\"dtype\":\"float64\",\"order\":\"little\",\"shape\":[657]}},\"selected\":{\"id\":\"1996\"},\"selection_policy\":{\"id\":\"2009\"}},\"id\":\"1995\",\"type\":\"ColumnDataSource\"},{\"attributes\":{\"fill_color\":{\"value\":\"#e5ae38\"},\"hatch_color\":{\"value\":\"#e5ae38\"},\"line_color\":{\"value\":\"#e5ae38\"},\"size\":{\"value\":5.477225575051661},\"tags\":[\"apply_ranges\"],\"x\":{\"field\":\"hi_low_spread\"},\"y\":{\"field\":\"close\"}},\"id\":\"2039\",\"type\":\"Scatter\"},{\"attributes\":{\"data\":{\"close\":{\"__ndarray__\":\"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\",\"dtype\":\"float64\",\"order\":\"little\",\"shape\":[1553]},\"clusters_higher\":[3,3,3,3,3,3,3,3,3,3,3,3,3,3,3,3,3,3,3,3,3,3,3,3,3,3,3,3,3,3,3,3,3,3,3,3,3,3,3,3,3,3,3,3,3,3,3,3,3,3,3,3,3,3,3,3,3,3,3,3,3,3,3,3,3,3,3,3,3,3,3,3,3,3,3,3,3,3,3,3,3,3,3,3,3,3,3,3,3,3,3,3,3,3,3,3,3,3,3,3,3,3,3,3,3,3,3,3,3,3,3,3,3,3,3,3,3,3,3,3,3,3,3,3,3,3,3,3,3,3,3,3,3,3,3,3,3,3,3,3,3,3,3,3,3,3,3,3,3,3,3,3,3,3,3,3,3,3,3,3,3,3,3,3,3,3,3,3,3,3,3,3,3,3,3,3,3,3,3,3,3,3,3,3,3,3,3,3,3,3,3,3,3,3,3,3,3,3,3,3,3,3,3,3,3,3,3,3,3,3,3,3,3,3,3,3,3,3,3,3,3,3,3,3,3,3,3,3,3,3,3,3,3,3,3,3,3,3,3,3,3,3,3,3,3,3,3,3,3,3,3,3,3,3,3,3,3,3,3,3,3,3,3,3,3,3,3,3,3,3,3,3,3,3,3,3,3,3,3,3,3,3,3,3,3,3,3,3,3,3,3,3,3,3,3,3,3,3,3,3,3,3,3,3,3,3,3,3,3,3,3,3,3,3,3,3,3,3,3,3,3,3,3,3,3,3,3,3,3,3,3,3,3,3,3,3,3,3,3,3,3,3,3,3,3,3,3,3,3,3,3,3,3,3,3,3,3,3,3,3,3,3,3,3,3,3,3,3,3,3,3,3,3,3,3,3,3,3,3,3,3,3,3,3,3,3,3,3,3,3,3,3,3,3,3,3,3,3,3,3,3,3,3,3,3,3,3,3,3,3,3,3,3,3,3,3,3,3,3,3,3,3,3,3,3,3,3,3,3,3,3,3,3,3,3,3,3,3,3,3,3,3,3,3,3,3,3,3,3,3,3,3,3,3,3,3,3,3,3,3,3,3,3,3,3,3,3,3,3,3,3,3,3,3,3,3,3,3,3,3,3,3,3,3,3,3,3,3,3,3,3,3,3,3,3,3,3,3,3,3,3,3,3,3,3,3,3,3,3,3,3,3,3,3,3,3,3,3,3,3,3,3,3,3,3,3,3,3,3,3,3,3,3,3,3,3,3,3,3,3,3,3,3,3,3,3,3,3,3,3,3,3,3,3,3,3,3,3,3,3,3,3,3,3,3,3,3,3,3,3,3,3,3,3,3,3,3,3,3,3,3,3,3,3,3,3,3,3,3,3,3,3,3,3,3,3,3,3,3,3,3,3,3,3,3,3,3,3,3,3,3,3,3,3,3,3,3,3,3,3,3,3,3,3,3,3,3,3,3,3,3,3,3,3,3,3,3,3,3,3,3,3,3,3,3,3,3,3,3,3,3,3,3,3,3,3,3,3,3,3,3,3,3,3,3,3,3,3,3,3,3,3,3,3,3,3,3,3,3,3,3,3,3,3,3,3,3,3,3,3,3,3,3,3,3,3,3,3,3,3,3,3,3,3,3,3,3,3,3,3,3,3,3,3,3,3,3,3,3,3,3,3,3,3,3,3,3,3,3,3,3,3,3,3,3,3,3,3,3,3,3,3,3,3,3,3,3,3,3,3,3,3,3,3,3,3,3,3,3,3,3,3,3,3,3,3,3,3,3,3,3,3,3,3,3,3,3,3,3,3,3,3,3,3,3,3,3,3,3,3,3,3,3,3,3,3,3,3,3,3,3,3,3,3,3,3,3,3,3,3,3,3,3,3,3,3,3,3,3,3,3,3,3,3,3,3,3,3,3,3,3,3,3,3,3,3,3,3,3,3,3,3,3,3,3,3,3,3,3,3,3,3,3,3,3,3,3,3,3,3,3,3,3,3,3,3,3,3,3,3,3,3,3,3,3,3,3,3,3,3,3,3,3,3,3,3,3,3,3,3,3,3,3,3,3,3,3,3,3,3,3,3,3,3,3,3,3,3,3,3,3,3,3,3,3,3,3,3,3,3,3,3,3,3,3,3,3,3,3,3,3,3,3,3,3,3,3,3,3,3,3,3,3,3,3,3,3,3,3,3,3,3,3,3,3,3,3,3,3,3,3,3,3,3,3,3,3,3,3,3,3,3,3,3,3,3,3,3,3,3,3,3,3,3,3,3,3,3,3,3,3,3,3,3,3,3,3,3,3,3,3,3,3,3,3,3,3,3,3,3,3,3,3,3,3,3,3,3,3,3,3,3,3,3,3,3,3,3,3,3,3,3,3,3,3,3,3,3,3,3,3,3,3,3,3,3,3,3,3,3,3,3,3,3,3,3,3,3,3,3,3,3,3,3,3,3,3,3,3,3,3,3,3,3,3,3,3,3,3,3,3,3,3,3,3,3,3,3,3,3,3,3,3,3,3,3,3,3,3,3,3,3,3,3,3,3,3,3,3,3,3,3,3,3,3,3,3,3,3,3,3,3,3,3,3,3,3,3,3,3,3,3,3,3,3,3,3,3,3,3,3,3,3,3,3,3,3,3,3,3,3,3,3,3,3,3,3,3,3,3,3,3,3,3,3,3,3,3,3,3,3,3,3,3,3,3,3,3,3,3,3,3,3,3,3,3,3,3,3,3,3,3,3,3,3,3,3,3,3,3,3,3,3,3,3,3,3,3,3,3,3,3,3,3,3,3,3,3,3,3,3,3,3,3,3,3,3,3,3,3,3,3,3,3,3,3,3,3,3,3,3,3,3,3,3,3,3,3,3,3,3,3,3,3,3,3,3,3,3,3,3,3,3,3,3,3,3,3,3,3,3,3,3,3,3,3,3,3,3,3,3,3,3,3,3,3,3,3,3,3,3,3,3,3,3,3,3,3,3,3,3,3,3,3,3,3,3,3,3,3,3,3,3,3,3,3,3,3,3,3,3,3,3,3,3,3,3,3,3,3,3,3,3,3,3,3,3,3,3,3,3,3,3,3,3,3,3,3,3,3,3,3,3,3,3,3,3,3,3,3,3,3,3,3,3,3,3,3,3,3,3,3,3,3,3,3,3,3,3,3,3,3,3,3,3,3,3,3,3,3,3,3,3,3,3,3,3,3,3,3,3,3,3,3,3,3,3,3,3,3,3,3,3,3,3,3,3,3,3,3,3,3,3,3,3,3,3,3,3,3,3,3,3,3,3,3,3,3,3,3,3,3,3,3,3,3,3,3,3,3,3,3,3,3,3,3,3,3,3,3,3,3,3,3,3,3,3,3,3,3,3,3,3,3,3,3,3,3,3,3,3,3,3,3,3,3,3,3,3,3,3,3,3,3,3,3,3,3,3,3,3,3,3,3,3,3,3,3,3,3,3,3,3,3,3,3,3,3,3,3,3,3,3,3,3,3,3,3,3,3,3,3,3,3,3,3,3,3,3,3,3,3,3,3,3,3,3,3,3,3,3,3,3],\"hi_low_spread\":{\"__ndarray__\":\"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\",\"dtype\":\"float64\",\"order\":\"little\",\"shape\":[1553]}},\"selected\":{\"id\":\"2060\"},\"selection_policy\":{\"id\":\"2079\"}},\"id\":\"2059\",\"type\":\"ColumnDataSource\"},{\"attributes\":{\"bottom_units\":\"screen\",\"coordinates\":null,\"fill_alpha\":0.5,\"fill_color\":\"lightgrey\",\"group\":null,\"left_units\":\"screen\",\"level\":\"overlay\",\"line_alpha\":1.0,\"line_color\":\"black\",\"line_dash\":[4,4],\"line_width\":2,\"right_units\":\"screen\",\"syncable\":false,\"top_units\":\"screen\"},\"id\":\"1978\",\"type\":\"BoxAnnotation\"},{\"attributes\":{},\"id\":\"1963\",\"type\":\"LinearScale\"},{\"attributes\":{\"angle\":{\"value\":0.0},\"fill_alpha\":{\"value\":1.0},\"fill_color\":{\"value\":\"#30a2da\"},\"hatch_alpha\":{\"value\":1.0},\"hatch_color\":{\"value\":\"#30a2da\"},\"hatch_scale\":{\"value\":12.0},\"hatch_weight\":{\"value\":1.0},\"line_alpha\":{\"value\":1.0},\"line_cap\":{\"value\":\"butt\"},\"line_color\":{\"value\":\"#30a2da\"},\"line_dash\":{\"value\":[]},\"line_dash_offset\":{\"value\":0},\"line_join\":{\"value\":\"bevel\"},\"line_width\":{\"value\":1},\"marker\":{\"value\":\"circle\"},\"size\":{\"value\":5.477225575051661},\"tags\":[\"apply_ranges\"],\"x\":{\"field\":\"hi_low_spread\"},\"y\":{\"field\":\"close\"}},\"id\":\"2014\",\"type\":\"Scatter\"},{\"attributes\":{},\"id\":\"2031\",\"type\":\"UnionRenderers\"},{\"attributes\":{\"axis_label\":\"close\",\"coordinates\":null,\"formatter\":{\"id\":\"1986\"},\"group\":null,\"major_label_policy\":{\"id\":\"1992\"},\"ticker\":{\"id\":\"1970\"}},\"id\":\"1969\",\"type\":\"LinearAxis\"},{\"attributes\":{\"end\":35.83,\"reset_end\":35.83,\"reset_start\":-1.4899999999999998,\"start\":-1.4899999999999998,\"tags\":[[[\"close\",\"close\",null]]]},\"id\":\"1951\",\"type\":\"Range1d\"},{\"attributes\":{\"angle\":{\"value\":0.0},\"fill_alpha\":{\"value\":1.0},\"fill_color\":{\"value\":\"#6d904f\"},\"hatch_alpha\":{\"value\":1.0},\"hatch_color\":{\"value\":\"#6d904f\"},\"hatch_scale\":{\"value\":12.0},\"hatch_weight\":{\"value\":1.0},\"line_alpha\":{\"value\":1.0},\"line_cap\":{\"value\":\"butt\"},\"line_color\":{\"value\":\"#6d904f\"},\"line_dash\":{\"value\":[]},\"line_dash_offset\":{\"value\":0},\"line_join\":{\"value\":\"bevel\"},\"line_width\":{\"value\":1},\"marker\":{\"value\":\"circle\"},\"size\":{\"value\":5.477225575051661},\"tags\":[\"apply_ranges\"],\"x\":{\"field\":\"hi_low_spread\"},\"y\":{\"field\":\"close\"}},\"id\":\"2083\",\"type\":\"Scatter\"},{\"attributes\":{\"fill_alpha\":{\"value\":0.1},\"fill_color\":{\"value\":\"#30a2da\"},\"hatch_alpha\":{\"value\":0.1},\"hatch_color\":{\"value\":\"#30a2da\"},\"line_alpha\":{\"value\":0.1},\"line_color\":{\"value\":\"#30a2da\"},\"size\":{\"value\":5.477225575051661},\"tags\":[\"apply_ranges\"],\"x\":{\"field\":\"hi_low_spread\"},\"y\":{\"field\":\"close\"}},\"id\":\"1999\",\"type\":\"Scatter\"},{\"attributes\":{},\"id\":\"2054\",\"type\":\"UnionRenderers\"},{\"attributes\":{\"click_policy\":\"mute\",\"coordinates\":null,\"group\":null,\"items\":[{\"id\":\"2013\"},{\"id\":\"2034\"},{\"id\":\"2057\"},{\"id\":\"2082\"}],\"location\":[0,0],\"title\":\"clusters_higher\"},\"id\":\"2012\",\"type\":\"Legend\"},{\"attributes\":{\"axis_label\":\"hi_low_spread\",\"coordinates\":null,\"formatter\":{\"id\":\"1988\"},\"group\":null,\"major_label_policy\":{\"id\":\"1989\"},\"ticker\":{\"id\":\"1966\"}},\"id\":\"1965\",\"type\":\"LinearAxis\"},{\"attributes\":{\"source\":{\"id\":\"1995\"}},\"id\":\"2002\",\"type\":\"CDSView\"},{\"attributes\":{\"callback\":null,\"renderers\":[{\"id\":\"2001\"},{\"id\":\"2021\"},{\"id\":\"2042\"},{\"id\":\"2065\"}],\"tags\":[\"hv_created\"],\"tooltips\":[[\"clusters_higher\",\"@{clusters_higher}\"],[\"hi_low_spread\",\"@{hi_low_spread}\"],[\"close\",\"@{close}\"]]},\"id\":\"1952\",\"type\":\"HoverTool\"},{\"attributes\":{},\"id\":\"2009\",\"type\":\"UnionRenderers\"},{\"attributes\":{\"label\":{\"value\":\"0\"},\"renderers\":[{\"id\":\"2001\"}]},\"id\":\"2013\",\"type\":\"LegendItem\"},{\"attributes\":{\"below\":[{\"id\":\"1965\"}],\"center\":[{\"id\":\"1968\"},{\"id\":\"1972\"}],\"height\":300,\"left\":[{\"id\":\"1969\"}],\"margin\":[5,5,5,5],\"min_border_bottom\":10,\"min_border_left\":10,\"min_border_right\":10,\"min_border_top\":10,\"output_backend\":\"webgl\",\"renderers\":[{\"id\":\"2001\"},{\"id\":\"2021\"},{\"id\":\"2042\"},{\"id\":\"2065\"}],\"right\":[{\"id\":\"2012\"}],\"sizing_mode\":\"fixed\",\"title\":{\"id\":\"1957\"},\"toolbar\":{\"id\":\"1979\"},\"width\":700,\"x_range\":{\"id\":\"1950\"},\"x_scale\":{\"id\":\"1961\"},\"y_range\":{\"id\":\"1951\"},\"y_scale\":{\"id\":\"1963\"}},\"id\":\"1956\",\"subtype\":\"Figure\",\"type\":\"Plot\"},{\"attributes\":{\"fill_color\":{\"value\":\"#6d904f\"},\"hatch_color\":{\"value\":\"#6d904f\"},\"line_color\":{\"value\":\"#6d904f\"},\"size\":{\"value\":5.477225575051661},\"tags\":[\"apply_ranges\"],\"x\":{\"field\":\"hi_low_spread\"},\"y\":{\"field\":\"close\"}},\"id\":\"2062\",\"type\":\"Scatter\"},{\"attributes\":{\"fill_alpha\":{\"value\":0.2},\"fill_color\":{\"value\":\"#6d904f\"},\"hatch_alpha\":{\"value\":0.2},\"hatch_color\":{\"value\":\"#6d904f\"},\"line_alpha\":{\"value\":0.2},\"line_color\":{\"value\":\"#6d904f\"},\"size\":{\"value\":5.477225575051661},\"tags\":[\"apply_ranges\"],\"x\":{\"field\":\"hi_low_spread\"},\"y\":{\"field\":\"close\"}},\"id\":\"2064\",\"type\":\"Scatter\"},{\"attributes\":{\"children\":[{\"id\":\"1956\"}],\"height\":300,\"margin\":[0,0,0,0],\"name\":\"Row01909\",\"sizing_mode\":\"fixed\",\"tags\":[\"embedded\"],\"width\":700},\"id\":\"1949\",\"type\":\"Row\"},{\"attributes\":{\"source\":{\"id\":\"2059\"}},\"id\":\"2066\",\"type\":\"CDSView\"},{\"attributes\":{\"angle\":{\"value\":0.0},\"fill_alpha\":{\"value\":1.0},\"fill_color\":{\"value\":\"#fc4f30\"},\"hatch_alpha\":{\"value\":1.0},\"hatch_color\":{\"value\":\"#fc4f30\"},\"hatch_scale\":{\"value\":12.0},\"hatch_weight\":{\"value\":1.0},\"line_alpha\":{\"value\":1.0},\"line_cap\":{\"value\":\"butt\"},\"line_color\":{\"value\":\"#fc4f30\"},\"line_dash\":{\"value\":[]},\"line_dash_offset\":{\"value\":0},\"line_join\":{\"value\":\"bevel\"},\"line_width\":{\"value\":1},\"marker\":{\"value\":\"circle\"},\"size\":{\"value\":5.477225575051661},\"tags\":[\"apply_ranges\"],\"x\":{\"field\":\"hi_low_spread\"},\"y\":{\"field\":\"close\"}},\"id\":\"2035\",\"type\":\"Scatter\"},{\"attributes\":{\"angle\":{\"value\":0.0},\"fill_alpha\":{\"value\":1.0},\"fill_color\":{\"value\":\"#e5ae38\"},\"hatch_alpha\":{\"value\":1.0},\"hatch_color\":{\"value\":\"#e5ae38\"},\"hatch_scale\":{\"value\":12.0},\"hatch_weight\":{\"value\":1.0},\"line_alpha\":{\"value\":1.0},\"line_cap\":{\"value\":\"butt\"},\"line_color\":{\"value\":\"#e5ae38\"},\"line_dash\":{\"value\":[]},\"line_dash_offset\":{\"value\":0},\"line_join\":{\"value\":\"bevel\"},\"line_width\":{\"value\":1},\"marker\":{\"value\":\"circle\"},\"size\":{\"value\":5.477225575051661},\"tags\":[\"apply_ranges\"],\"x\":{\"field\":\"hi_low_spread\"},\"y\":{\"field\":\"close\"}},\"id\":\"2058\",\"type\":\"Scatter\"},{\"attributes\":{},\"id\":\"1970\",\"type\":\"BasicTicker\"},{\"attributes\":{\"fill_color\":{\"value\":\"#fc4f30\"},\"hatch_color\":{\"value\":\"#fc4f30\"},\"line_color\":{\"value\":\"#fc4f30\"},\"size\":{\"value\":5.477225575051661},\"tags\":[\"apply_ranges\"],\"x\":{\"field\":\"hi_low_spread\"},\"y\":{\"field\":\"close\"}},\"id\":\"2018\",\"type\":\"Scatter\"},{\"attributes\":{\"label\":{\"value\":\"1\"},\"renderers\":[{\"id\":\"2021\"}]},\"id\":\"2034\",\"type\":\"LegendItem\"},{\"attributes\":{},\"id\":\"2060\",\"type\":\"Selection\"},{\"attributes\":{\"source\":{\"id\":\"2036\"}},\"id\":\"2043\",\"type\":\"CDSView\"}],\"root_ids\":[\"1949\"]},\"title\":\"Bokeh Application\",\"version\":\"2.4.3\"}};\n",
       "    var render_items = [{\"docid\":\"42f6595c-c6d2-45b9-816d-6fc231ff3137\",\"root_ids\":[\"1949\"],\"roots\":{\"1949\":\"ec9205ed-dee9-44c4-856d-2947a08fa5ec\"}}];\n",
       "    root.Bokeh.embed.embed_items_notebook(docs_json, render_items);\n",
       "    for (const render_item of render_items) {\n",
       "      for (const root_id of render_item.root_ids) {\n",
       "\tconst id_el = document.getElementById(root_id)\n",
       "\tif (id_el.children.length && (id_el.children[0].className === 'bk-root')) {\n",
       "\t  const root_el = id_el.children[0]\n",
       "\t  root_el.id = root_el.id + '-rendered'\n",
       "\t}\n",
       "      }\n",
       "    }\n",
       "  }\n",
       "  if (root.Bokeh !== undefined && root.Bokeh.Panel !== undefined) {\n",
       "    embed_document(root);\n",
       "  } else {\n",
       "    var attempts = 0;\n",
       "    var timer = setInterval(function(root) {\n",
       "      if (root.Bokeh !== undefined && root.Bokeh.Panel !== undefined) {\n",
       "        clearInterval(timer);\n",
       "        embed_document(root);\n",
       "      } else if (document.readyState == \"complete\") {\n",
       "        attempts++;\n",
       "        if (attempts > 200) {\n",
       "          clearInterval(timer);\n",
       "          console.log(\"Bokeh: ERROR: Unable to run BokehJS code because BokehJS library is missing\");\n",
       "        }\n",
       "      }\n",
       "    }, 25, root)\n",
       "  }\n",
       "})(window);</script>"
      ],
      "text/plain": [
       ":NdOverlay   [clusters_higher]\n",
       "   :Scatter   [hi_low_spread]   (close)"
      ]
     },
     "execution_count": 32,
     "metadata": {
      "application/vnd.holoviews_exec.v0+json": {
       "id": "1949"
      }
     },
     "output_type": "execute_result"
    }
   ],
   "source": [
    "# Plot the clusters\n",
    "spread_df_predictions.hvplot.scatter(\n",
    "    x=\"hi_low_spread\",\n",
    "    y=\"close\",\n",
    "    by=\"clusters_higher\"\n",
    ").opts(yformatter=\"%.0f\")"
   ]
  },
  {
   "cell_type": "markdown",
   "metadata": {},
   "source": [
    "## Answer the following question\n",
    "\n",
    "* Considering the plot, what’s the best number of clusters to choose, or value of k? "
   ]
  },
  {
   "cell_type": "markdown",
   "metadata": {},
   "source": [
    "From the scatter plots, it's a little hard to tell given the variability and quantity of the data (zooming in helps), but it appears that the optimal value for k, the nubmer of clusters, is 3."
   ]
  },
  {
   "cell_type": "code",
   "execution_count": null,
   "metadata": {},
   "outputs": [],
   "source": []
  }
 ],
 "metadata": {
  "kernelspec": {
   "display_name": "Python [conda env:PythonData]",
   "language": "python",
   "name": "conda-env-PythonData-py"
  },
  "language_info": {
   "codemirror_mode": {
    "name": "ipython",
    "version": 3
   },
   "file_extension": ".py",
   "mimetype": "text/x-python",
   "name": "python",
   "nbconvert_exporter": "python",
   "pygments_lexer": "ipython3",
   "version": "3.7.16"
  }
 },
 "nbformat": 4,
 "nbformat_minor": 4
}
