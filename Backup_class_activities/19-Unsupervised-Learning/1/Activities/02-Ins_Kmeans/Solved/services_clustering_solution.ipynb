{
 "cells": [
  {
   "cell_type": "code",
   "execution_count": 10,
   "metadata": {},
   "outputs": [],
   "source": [
    "# Import dependencies\n",
    "import pandas as pd\n",
    "from pathlib import Path\n",
    "import hvplot.pandas"
   ]
  },
  {
   "cell_type": "code",
   "execution_count": 11,
   "metadata": {},
   "outputs": [
    {
     "data": {
      "text/html": [
       "<div>\n",
       "<style scoped>\n",
       "    .dataframe tbody tr th:only-of-type {\n",
       "        vertical-align: middle;\n",
       "    }\n",
       "\n",
       "    .dataframe tbody tr th {\n",
       "        vertical-align: top;\n",
       "    }\n",
       "\n",
       "    .dataframe thead th {\n",
       "        text-align: right;\n",
       "    }\n",
       "</style>\n",
       "<table border=\"1\" class=\"dataframe\">\n",
       "  <thead>\n",
       "    <tr style=\"text-align: right;\">\n",
       "      <th></th>\n",
       "      <th>mobile_app_rating</th>\n",
       "      <th>personal_banker_rating</th>\n",
       "    </tr>\n",
       "  </thead>\n",
       "  <tbody>\n",
       "    <tr>\n",
       "      <th>0</th>\n",
       "      <td>3.50</td>\n",
       "      <td>2.40</td>\n",
       "    </tr>\n",
       "    <tr>\n",
       "      <th>1</th>\n",
       "      <td>3.65</td>\n",
       "      <td>3.14</td>\n",
       "    </tr>\n",
       "    <tr>\n",
       "      <th>2</th>\n",
       "      <td>2.90</td>\n",
       "      <td>2.75</td>\n",
       "    </tr>\n",
       "    <tr>\n",
       "      <th>3</th>\n",
       "      <td>2.93</td>\n",
       "      <td>3.36</td>\n",
       "    </tr>\n",
       "    <tr>\n",
       "      <th>4</th>\n",
       "      <td>2.89</td>\n",
       "      <td>2.62</td>\n",
       "    </tr>\n",
       "  </tbody>\n",
       "</table>\n",
       "</div>"
      ],
      "text/plain": [
       "   mobile_app_rating  personal_banker_rating\n",
       "0               3.50                    2.40\n",
       "1               3.65                    3.14\n",
       "2               2.90                    2.75\n",
       "3               2.93                    3.36\n",
       "4               2.89                    2.62"
      ]
     },
     "execution_count": 11,
     "metadata": {},
     "output_type": "execute_result"
    }
   ],
   "source": [
    "# Read in the CSV file as a Pandas DataFrame\n",
    "service_ratings_df = pd.read_csv(\n",
    "    Path(\"../Resources/service_ratings.csv\")\n",
    ")\n",
    "\n",
    "# Review the DataFrame\n",
    "service_ratings_df.head()"
   ]
  },
  {
   "cell_type": "code",
   "execution_count": 12,
   "metadata": {},
   "outputs": [
    {
     "data": {},
     "metadata": {},
     "output_type": "display_data"
    },
    {
     "data": {
      "application/vnd.holoviews_exec.v0+json": "",
      "text/html": [
       "<div id='1277'>\n",
       "  <div class=\"bk-root\" id=\"20962327-a268-4309-9efc-e5c147443dbf\" data-root-id=\"1277\"></div>\n",
       "</div>\n",
       "<script type=\"application/javascript\">(function(root) {\n",
       "  function embed_document(root) {\n",
       "    var docs_json = {\"1e8652ab-68c8-4344-811e-3ed875ee5c7b\":{\"defs\":[{\"extends\":null,\"module\":null,\"name\":\"ReactiveHTML1\",\"overrides\":[],\"properties\":[]},{\"extends\":null,\"module\":null,\"name\":\"FlexBox1\",\"overrides\":[],\"properties\":[{\"default\":\"flex-start\",\"kind\":null,\"name\":\"align_content\"},{\"default\":\"flex-start\",\"kind\":null,\"name\":\"align_items\"},{\"default\":\"row\",\"kind\":null,\"name\":\"flex_direction\"},{\"default\":\"wrap\",\"kind\":null,\"name\":\"flex_wrap\"},{\"default\":\"flex-start\",\"kind\":null,\"name\":\"justify_content\"}]},{\"extends\":null,\"module\":null,\"name\":\"GridStack1\",\"overrides\":[],\"properties\":[{\"default\":\"warn\",\"kind\":null,\"name\":\"mode\"},{\"default\":null,\"kind\":null,\"name\":\"ncols\"},{\"default\":null,\"kind\":null,\"name\":\"nrows\"},{\"default\":true,\"kind\":null,\"name\":\"allow_resize\"},{\"default\":true,\"kind\":null,\"name\":\"allow_drag\"},{\"default\":[],\"kind\":null,\"name\":\"state\"}]},{\"extends\":null,\"module\":null,\"name\":\"click1\",\"overrides\":[],\"properties\":[{\"default\":\"\",\"kind\":null,\"name\":\"terminal_output\"},{\"default\":\"\",\"kind\":null,\"name\":\"debug_name\"},{\"default\":0,\"kind\":null,\"name\":\"clears\"}]},{\"extends\":null,\"module\":null,\"name\":\"NotificationAreaBase1\",\"overrides\":[],\"properties\":[{\"default\":\"bottom-right\",\"kind\":null,\"name\":\"position\"},{\"default\":0,\"kind\":null,\"name\":\"_clear\"}]},{\"extends\":null,\"module\":null,\"name\":\"NotificationArea1\",\"overrides\":[],\"properties\":[{\"default\":[],\"kind\":null,\"name\":\"notifications\"},{\"default\":\"bottom-right\",\"kind\":null,\"name\":\"position\"},{\"default\":0,\"kind\":null,\"name\":\"_clear\"},{\"default\":[{\"background\":\"#ffc107\",\"icon\":{\"className\":\"fas fa-exclamation-triangle\",\"color\":\"white\",\"tagName\":\"i\"},\"type\":\"warning\"},{\"background\":\"#007bff\",\"icon\":{\"className\":\"fas fa-info-circle\",\"color\":\"white\",\"tagName\":\"i\"},\"type\":\"info\"}],\"kind\":null,\"name\":\"types\"}]},{\"extends\":null,\"module\":null,\"name\":\"Notification\",\"overrides\":[],\"properties\":[{\"default\":null,\"kind\":null,\"name\":\"background\"},{\"default\":3000,\"kind\":null,\"name\":\"duration\"},{\"default\":null,\"kind\":null,\"name\":\"icon\"},{\"default\":\"\",\"kind\":null,\"name\":\"message\"},{\"default\":null,\"kind\":null,\"name\":\"notification_type\"},{\"default\":false,\"kind\":null,\"name\":\"_destroyed\"}]},{\"extends\":null,\"module\":null,\"name\":\"TemplateActions1\",\"overrides\":[],\"properties\":[{\"default\":0,\"kind\":null,\"name\":\"open_modal\"},{\"default\":0,\"kind\":null,\"name\":\"close_modal\"}]},{\"extends\":null,\"module\":null,\"name\":\"MaterialTemplateActions1\",\"overrides\":[],\"properties\":[{\"default\":0,\"kind\":null,\"name\":\"open_modal\"},{\"default\":0,\"kind\":null,\"name\":\"close_modal\"}]}],\"roots\":{\"references\":[{\"attributes\":{},\"id\":\"1322\",\"type\":\"AllLabels\"},{\"attributes\":{\"callback\":null,\"renderers\":[{\"id\":\"1317\"}],\"tags\":[\"hv_created\"],\"tooltips\":[[\"mobile_app_rating\",\"@{mobile_app_rating}\"],[\"personal_banker_rating\",\"@{personal_banker_rating}\"]]},\"id\":\"1280\",\"type\":\"HoverTool\"},{\"attributes\":{\"coordinates\":null,\"group\":null,\"text_color\":\"black\",\"text_font_size\":\"12pt\"},\"id\":\"1282\",\"type\":\"Title\"},{\"attributes\":{\"below\":[{\"id\":\"1290\"}],\"center\":[{\"id\":\"1293\"},{\"id\":\"1297\"}],\"height\":300,\"left\":[{\"id\":\"1294\"}],\"margin\":[5,5,5,5],\"min_border_bottom\":10,\"min_border_left\":10,\"min_border_right\":10,\"min_border_top\":10,\"output_backend\":\"webgl\",\"renderers\":[{\"id\":\"1317\"}],\"sizing_mode\":\"fixed\",\"title\":{\"id\":\"1282\"},\"toolbar\":{\"id\":\"1304\"},\"width\":700,\"x_range\":{\"id\":\"1278\"},\"x_scale\":{\"id\":\"1286\"},\"y_range\":{\"id\":\"1279\"},\"y_scale\":{\"id\":\"1288\"}},\"id\":\"1281\",\"subtype\":\"Figure\",\"type\":\"Plot\"},{\"attributes\":{\"fill_alpha\":{\"value\":0.1},\"fill_color\":{\"value\":\"#30a2da\"},\"hatch_alpha\":{\"value\":0.1},\"hatch_color\":{\"value\":\"#30a2da\"},\"line_alpha\":{\"value\":0.1},\"line_color\":{\"value\":\"#30a2da\"},\"size\":{\"value\":5.477225575051661},\"tags\":[\"apply_ranges\"],\"x\":{\"field\":\"mobile_app_rating\"},\"y\":{\"field\":\"personal_banker_rating\"}},\"id\":\"1315\",\"type\":\"Scatter\"},{\"attributes\":{\"end\":5.263,\"reset_end\":5.263,\"reset_start\":0.06699999999999995,\"start\":0.06699999999999995,\"tags\":[[[\"personal_banker_rating\",\"personal_banker_rating\",null]]]},\"id\":\"1279\",\"type\":\"Range1d\"},{\"attributes\":{},\"id\":\"1299\",\"type\":\"PanTool\"},{\"attributes\":{},\"id\":\"1325\",\"type\":\"AllLabels\"},{\"attributes\":{\"bottom_units\":\"screen\",\"coordinates\":null,\"fill_alpha\":0.5,\"fill_color\":\"lightgrey\",\"group\":null,\"left_units\":\"screen\",\"level\":\"overlay\",\"line_alpha\":1.0,\"line_color\":\"black\",\"line_dash\":[4,4],\"line_width\":2,\"right_units\":\"screen\",\"syncable\":false,\"top_units\":\"screen\"},\"id\":\"1303\",\"type\":\"BoxAnnotation\"},{\"attributes\":{},\"id\":\"1300\",\"type\":\"WheelZoomTool\"},{\"attributes\":{},\"id\":\"1291\",\"type\":\"BasicTicker\"},{\"attributes\":{\"fill_color\":{\"value\":\"#30a2da\"},\"hatch_color\":{\"value\":\"#30a2da\"},\"line_color\":{\"value\":\"#30a2da\"},\"size\":{\"value\":5.477225575051661},\"tags\":[\"apply_ranges\"],\"x\":{\"field\":\"mobile_app_rating\"},\"y\":{\"field\":\"personal_banker_rating\"}},\"id\":\"1314\",\"type\":\"Scatter\"},{\"attributes\":{},\"id\":\"1337\",\"type\":\"UnionRenderers\"},{\"attributes\":{},\"id\":\"1295\",\"type\":\"BasicTicker\"},{\"attributes\":{\"active_drag\":{\"id\":\"1299\"},\"active_scroll\":{\"id\":\"1300\"},\"tools\":[{\"id\":\"1280\"},{\"id\":\"1298\"},{\"id\":\"1299\"},{\"id\":\"1300\"},{\"id\":\"1301\"},{\"id\":\"1302\"}]},\"id\":\"1304\",\"type\":\"Toolbar\"},{\"attributes\":{},\"id\":\"1298\",\"type\":\"SaveTool\"},{\"attributes\":{},\"id\":\"1321\",\"type\":\"BasicTickFormatter\"},{\"attributes\":{},\"id\":\"1286\",\"type\":\"LinearScale\"},{\"attributes\":{\"axis\":{\"id\":\"1290\"},\"coordinates\":null,\"grid_line_color\":null,\"group\":null,\"ticker\":null},\"id\":\"1293\",\"type\":\"Grid\"},{\"attributes\":{},\"id\":\"1302\",\"type\":\"ResetTool\"},{\"attributes\":{},\"id\":\"1312\",\"type\":\"Selection\"},{\"attributes\":{\"end\":4.832428571428571,\"reset_end\":4.832428571428571,\"reset_start\":0.7175714285714285,\"start\":0.7175714285714285,\"tags\":[[[\"mobile_app_rating\",\"mobile_app_rating\",null]]]},\"id\":\"1278\",\"type\":\"Range1d\"},{\"attributes\":{\"source\":{\"id\":\"1311\"}},\"id\":\"1318\",\"type\":\"CDSView\"},{\"attributes\":{\"overlay\":{\"id\":\"1303\"}},\"id\":\"1301\",\"type\":\"BoxZoomTool\"},{\"attributes\":{},\"id\":\"1288\",\"type\":\"LinearScale\"},{\"attributes\":{\"coordinates\":null,\"data_source\":{\"id\":\"1311\"},\"glyph\":{\"id\":\"1314\"},\"group\":null,\"hover_glyph\":null,\"muted_glyph\":{\"id\":\"1316\"},\"nonselection_glyph\":{\"id\":\"1315\"},\"selection_glyph\":{\"id\":\"1319\"},\"view\":{\"id\":\"1318\"}},\"id\":\"1317\",\"type\":\"GlyphRenderer\"},{\"attributes\":{\"axis_label\":\"personal_banker_rating\",\"coordinates\":null,\"formatter\":{\"id\":\"1324\"},\"group\":null,\"major_label_policy\":{\"id\":\"1325\"},\"ticker\":{\"id\":\"1295\"}},\"id\":\"1294\",\"type\":\"LinearAxis\"},{\"attributes\":{\"data\":{\"mobile_app_rating\":{\"__ndarray__\":\"AAAAAAAADEAzMzMzMzMNQDMzMzMzMwdAcT0K16NwB0AfhetRuB4HQOF6FK5H4QRAexSuR+F6CkAUrkfhehQOQAAAAAAAAAhAKVyPwvUo7D9mZmZmZmYKQFyPwvUoXAdAAAAAAAAAEUCkcD0K16MKQK5H4XoUrg9AAAAAAAAADkAAAAAAAAAGQEjhehSuRwtAcT0K16NwB0CkcD0K16MCQFK4HoXrURFAXI/C9ShcDUAAAAAAAAAIQHE9CtejcA1A9ihcj8L1BkB7FK5H4XoOQAAAAAAAAARAzczMzMzMCkBcj8L1KFwBQLgehetRuBBAcT0K16NwDUC4HoXrUbgIQOF6FK5H4RBAMzMzMzMzC0AfhetRuB4LQFyPwvUoXANAAAAAAAAACEDNzMzMzMwEQAAAAAAAABJAcT0K16NwB0AfhetRuB4JQD0K16NwPRJAXI/C9ShcEEBSuB6F61EKQB+F61G4Hg9ASOF6FK5HB0AAAAAAAAAIQAAAAAAAABJAMzMzMzMzC0CF61G4HoULQHsUrkfheghA4XoUrkfhDkA9CtejcD0OQHE9CtejcA1AAAAAAAAACkD2KFyPwvUMQDMzMzMzMwdAmpmZmZmZCUAK16NwPQoHQBSuR+F6FApAhetRuB6FA0A9CtejcD0MQKRwPQrXowZAzczMzMzMCkBcj8L1KFwHQD0K16NwPQZAcT0K16NwC0Bcj8L1KFwNQB+F61G4HgNAKVyPwvUoCkAAAAAAAAAQQAAAAAAAAABAXI/C9ShcBUAfhetRuB4NQB+F61G4HgdAAAAAAAAADED2KFyPwvUMQHsUrkfheghASOF6FK5HC0DsUbgehesLQIXrUbgehQtAcT0K16NwEEAAAAAAAAACQJqZmZmZmQ1AAAAAAAAAEECkcD0K16MKQAAAAAAAAPA/rkfhehSuEkAzMzMzMzMPQAAAAAAAAAZAAAAAAAAAEkCkcD0K16MEQFK4HoXrUQpAAAAAAAAADEAAAAAAAAAOQI/C9ShcjxBAAAAAAAAAEEBmZmZmZmYMQPYoXI/C9QRArkfhehSuCUDsUbgehesNQKRwPQrXowhAMzMzMzMzC0DhehSuR+EGQJqZmZmZmQ1ASOF6FK5HD0D2KFyPwvUGQAAAAAAAAABA9ihcj8L1CkAAAAAAAAAOQI/C9ShcjwhA16NwPQrXCUBI4XoUrkcLQGZmZmZmZgxAmpmZmZmZCUCuR+F6FK4PQGZmZmZmZgJASOF6FK5H+T8zMzMzMzMHQFyPwvUoXA9AAAAAAAAADEDD9Shcj8IJQM3MzMzMzAhAUrgehetRCECPwvUoXI8EQOF6FK5H4QZApHA9CtejCkCPwvUoXI8OQKRwPQrXowZAj8L1KFyPBkCkcD0K16MGQFyPwvUoXA1AAAAAAAAADEDD9Shcj8ILQI/C9ShcjwhAH4XrUbgeC0AAAAAAAAAAQB+F61G4HgtAAAAAAAAADEDsUbgehesJQK5H4XoUrgtAKVyPwvUoCEBxPQrXo3AHQLgehetRuApAAAAAAAAADEC4HoXrUbgKQKRwPQrXowJAmpmZmZmZCUDhehSuR+EOQAAAAAAAAAhAAAAAAAAA/D8AAAAAAAAGQBSuR+F6FBFAPQrXo3A9EEAfhetRuB4NQLgehetRuAxAhetRuB6FCUDhehSuR+EKQM3MzMzMzBBAexSuR+F6DkBSuB6F61EIQMP1KFyPwhBArkfhehSuDUB7FK5H4XoIQFyPwvUoXA1AUrgehetRCEBmZmZmZmYGQAAAAAAAAAhASOF6FK5HBUAAAAAAAAAQQFK4HoXrURJAAAAAAAAACEAAAAAAAAAMQAAAAAAAAApACtejcD0KC0AAAAAAAAAAQArXo3A9Cg1ArkfhehSuC0CF61G4HoULQDMzMzMzMwNAAAAAAAAACkAAAAAAAAAMQLgehetRuAxA\",\"dtype\":\"float64\",\"order\":\"little\",\"shape\":[183]},\"personal_banker_rating\":{\"__ndarray__\":\"MzMzMzMzA0AfhetRuB4JQAAAAAAAAAZA4XoUrkfhCkD2KFyPwvUEQBSuR+F6FARA9ihcj8L1CECPwvUoXI8IQFyPwvUoXAlAAAAAAAAACECkcD0K16MGQFyPwvUoXAFAAAAAAAAACECamZmZmZkFQAAAAAAAAABA9ihcj8L1CEAzMzMzMzMFQLgehetRuAhAcT0K16NwC0DD9Shcj8IFQAAAAAAAAARAKVyPwvUoBkAfhetRuB4HQHE9CtejcAdAKVyPwvUoCEAK16NwPQoDQD0K16NwPRBAXI/C9ShcCUAAAAAAAAAIQAAAAAAAAOA/H4XrUbgeCUAAAAAAAAAGQAAAAAAAAAhAAAAAAAAAAEBxPQrXo3AJQNejcD0K1wdAXI/C9ShcBUCPwvUoXI8EQGZmZmZmZgRAuB6F61G4DEApXI/C9SgIQFyPwvUoXAlAAAAAAAAABEAAAAAAAAAIQKRwPQrXowZA7FG4HoXrB0AAAAAAAAAEQAAAAAAAAAhAAAAAAAAACEBcj8L1KFwJQFK4HoXrUQhAAAAAAAAABEAAAAAAAAAIQIXrUbgehQlAXI/C9ShcBUBmZmZmZmYGQLgehetRuAZAAAAAAAAAAECkcD0K16MKQMP1KFyPwgdAMzMzMzMzB0DNzMzMzMwGQAAAAAAAAAhApHA9CtejBkCPwvUoXI8IQAAAAAAAAAhAAAAAAAAA8D8AAAAAAAAAQLgehetRuARAPQrXo3A9CEAAAAAAAAAAQAAAAAAAAA5AAAAAAAAABkAAAAAAAAAIQGZmZmZmZg5AAAAAAAAACEAAAAAAAAAAQM3MzMzMzAZACtejcD0KBUCF61G4HoUJQAAAAAAAAAhAAAAAAAAAAEAAAAAAAAAKQAAAAAAAAAhApHA9CtejBkAAAAAAAAAEQAAAAAAAABJAMzMzMzMzB0AAAAAAAADgP9ejcD0K1xBAXI/C9ShcCUAAAAAAAAAEQM3MzMzMzAZApHA9CtejBkD2KFyPwvX4P83MzMzMzAZAAAAAAAAAAEBmZmZmZmYGQAAAAAAAAAhA9ihcj8L1BEAzMzMzMzMDQMP1KFyPwgNApHA9CtejCECuR+F6FK4DQAAAAAAAAARAAAAAAAAABEBcj8L1KFwNQHsUrkfhegxAhetRuB6FCUAAAAAAAAAIQHE9CtejcAVAAAAAAAAABEAzMzMzMzMHQAAAAAAAAAhAXI/C9ShcAUAAAAAAAAAIQAAAAAAAAAxA4XoUrkfhBkAAAAAAAAAEQArXo3A9CglApHA9CtejAkC4HoXrUbgGQOF6FK5H4QZA4XoUrkfhCEBmZmZmZmYAQMP1KFyPwgVAXI/C9ShcB0AAAAAAAAAIQHE9CtejcAVAFK5H4XoUBkAK16NwPQoDQAAAAAAAAAhAAAAAAAAACEBcj8L1KFwFQHE9CtejcAdA9ihcj8L1/D9cj8L1KFwFQDMzMzMzMwdAXI/C9ShcCUDNzMzMzMwIQAAAAAAAAAZAzczMzMzMCEBmZmZmZmYKQClcj8L1KAhAH4XrUbgeB0B7FK5H4XoGQAAAAAAAAAhApHA9CtejAkAAAAAAAAAIQI/C9ShcjwRAAAAAAAAAEEBcj8L1KFwJQAAAAAAAAABASOF6FK5HBUBcj8L1KFwFQAAAAAAAAAhASOF6FK5H/T+PwvUoXI8IQFyPwvUoXAlAuB6F61G4CEBcj8L1KFwFQDMzMzMzMwdAXI/C9ShcAUDNzMzMzMwEQAAAAAAAAAhACtejcD0KB0CF61G4HoUFQFK4HoXrUQZAXI/C9ShcC0AzMzMzMzMDQFyPwvUoXAlAZmZmZmZmBkBmZmZmZmYCQK5H4XoUrgVArkfhehSuBUBSuB6F61ETQKRwPQrXowRAmpmZmZmZA0AAAAAAAAAIQGZmZmZmZgZACtejcD0KB0AzMzMzMzMDQGZmZmZmZg5A\",\"dtype\":\"float64\",\"order\":\"little\",\"shape\":[183]}},\"selected\":{\"id\":\"1312\"},\"selection_policy\":{\"id\":\"1337\"}},\"id\":\"1311\",\"type\":\"ColumnDataSource\"},{\"attributes\":{},\"id\":\"1324\",\"type\":\"BasicTickFormatter\"},{\"attributes\":{\"axis_label\":\"mobile_app_rating\",\"coordinates\":null,\"formatter\":{\"id\":\"1321\"},\"group\":null,\"major_label_policy\":{\"id\":\"1322\"},\"ticker\":{\"id\":\"1291\"}},\"id\":\"1290\",\"type\":\"LinearAxis\"},{\"attributes\":{\"angle\":{\"value\":0.0},\"fill_alpha\":{\"value\":1.0},\"fill_color\":{\"value\":\"#30a2da\"},\"hatch_alpha\":{\"value\":1.0},\"hatch_color\":{\"value\":\"#30a2da\"},\"hatch_scale\":{\"value\":12.0},\"hatch_weight\":{\"value\":1.0},\"line_alpha\":{\"value\":1.0},\"line_cap\":{\"value\":\"butt\"},\"line_color\":{\"value\":\"#30a2da\"},\"line_dash\":{\"value\":[]},\"line_dash_offset\":{\"value\":0},\"line_join\":{\"value\":\"bevel\"},\"line_width\":{\"value\":1},\"marker\":{\"value\":\"circle\"},\"size\":{\"value\":5.477225575051661},\"tags\":[\"apply_ranges\"],\"x\":{\"field\":\"mobile_app_rating\"},\"y\":{\"field\":\"personal_banker_rating\"}},\"id\":\"1319\",\"type\":\"Scatter\"},{\"attributes\":{\"children\":[{\"id\":\"1281\"}],\"height\":300,\"margin\":[0,0,0,0],\"name\":\"Row01120\",\"sizing_mode\":\"fixed\",\"tags\":[\"embedded\"],\"width\":700},\"id\":\"1277\",\"type\":\"Row\"},{\"attributes\":{\"fill_alpha\":{\"value\":0.2},\"fill_color\":{\"value\":\"#30a2da\"},\"hatch_alpha\":{\"value\":0.2},\"hatch_color\":{\"value\":\"#30a2da\"},\"line_alpha\":{\"value\":0.2},\"line_color\":{\"value\":\"#30a2da\"},\"size\":{\"value\":5.477225575051661},\"tags\":[\"apply_ranges\"],\"x\":{\"field\":\"mobile_app_rating\"},\"y\":{\"field\":\"personal_banker_rating\"}},\"id\":\"1316\",\"type\":\"Scatter\"},{\"attributes\":{\"axis\":{\"id\":\"1294\"},\"coordinates\":null,\"dimension\":1,\"grid_line_color\":null,\"group\":null,\"ticker\":null},\"id\":\"1297\",\"type\":\"Grid\"}],\"root_ids\":[\"1277\"]},\"title\":\"Bokeh Application\",\"version\":\"2.4.3\"}};\n",
       "    var render_items = [{\"docid\":\"1e8652ab-68c8-4344-811e-3ed875ee5c7b\",\"root_ids\":[\"1277\"],\"roots\":{\"1277\":\"20962327-a268-4309-9efc-e5c147443dbf\"}}];\n",
       "    root.Bokeh.embed.embed_items_notebook(docs_json, render_items);\n",
       "    for (const render_item of render_items) {\n",
       "      for (const root_id of render_item.root_ids) {\n",
       "\tconst id_el = document.getElementById(root_id)\n",
       "\tif (id_el.children.length && (id_el.children[0].className === 'bk-root')) {\n",
       "\t  const root_el = id_el.children[0]\n",
       "\t  root_el.id = root_el.id + '-rendered'\n",
       "\t}\n",
       "      }\n",
       "    }\n",
       "  }\n",
       "  if (root.Bokeh !== undefined && root.Bokeh.Panel !== undefined) {\n",
       "    embed_document(root);\n",
       "  } else {\n",
       "    var attempts = 0;\n",
       "    var timer = setInterval(function(root) {\n",
       "      if (root.Bokeh !== undefined && root.Bokeh.Panel !== undefined) {\n",
       "        clearInterval(timer);\n",
       "        embed_document(root);\n",
       "      } else if (document.readyState == \"complete\") {\n",
       "        attempts++;\n",
       "        if (attempts > 200) {\n",
       "          clearInterval(timer);\n",
       "          console.log(\"Bokeh: ERROR: Unable to run BokehJS code because BokehJS library is missing\");\n",
       "        }\n",
       "      }\n",
       "    }, 25, root)\n",
       "  }\n",
       "})(window);</script>"
      ],
      "text/plain": [
       ":Scatter   [mobile_app_rating]   (personal_banker_rating)"
      ]
     },
     "execution_count": 12,
     "metadata": {
      "application/vnd.holoviews_exec.v0+json": {
       "id": "1277"
      }
     },
     "output_type": "execute_result"
    }
   ],
   "source": [
    "# Visualize a scatter plot of the data\n",
    "service_ratings_df.hvplot.scatter(x=\"mobile_app_rating\", y=\"personal_banker_rating\")"
   ]
  },
  {
   "cell_type": "markdown",
   "metadata": {},
   "source": [
    "## Run the k-means model with 2 clusters"
   ]
  },
  {
   "cell_type": "code",
   "execution_count": 13,
   "metadata": {},
   "outputs": [],
   "source": [
    "# Start by importing the K-means algorithm\n",
    "from sklearn.cluster import KMeans"
   ]
  },
  {
   "cell_type": "code",
   "execution_count": 14,
   "metadata": {},
   "outputs": [
    {
     "data": {
      "text/plain": [
       "KMeans(n_clusters=3, random_state=1)"
      ]
     },
     "execution_count": 14,
     "metadata": {},
     "output_type": "execute_result"
    }
   ],
   "source": [
    "# Create and initialize the K-means model instance for 2 clusters\n",
    "model = KMeans(n_clusters=3, random_state=1)\n",
    "\n",
    "# Print the model\n",
    "model"
   ]
  },
  {
   "cell_type": "code",
   "execution_count": 15,
   "metadata": {},
   "outputs": [
    {
     "data": {
      "text/plain": [
       "KMeans(n_clusters=3, random_state=1)"
      ]
     },
     "execution_count": 15,
     "metadata": {},
     "output_type": "execute_result"
    }
   ],
   "source": [
    "# Fit the data to the instance of the model\n",
    "model.fit(service_ratings_df)"
   ]
  },
  {
   "cell_type": "code",
   "execution_count": 16,
   "metadata": {},
   "outputs": [
    {
     "name": "stdout",
     "output_type": "stream",
     "text": [
      "[0 1 2 2 2 2 1 1 2 2 1 0 1 1 0 1 2 1 2 2 1 1 2 1 2 0 2 1 2 0 1 2 1 0 1 2 2\n",
      " 2 1 2 2 1 1 1 1 2 2 1 1 1 2 1 1 1 1 1 2 0 2 1 2 1 2 1 2 2 0 0 2 1 0 2 2 1\n",
      " 2 1 0 2 1 1 1 0 2 1 1 1 2 1 0 2 1 2 1 1 0 1 0 1 2 1 0 2 1 2 1 1 2 2 1 1 2\n",
      " 1 1 1 0 1 2 2 2 1 0 1 2 2 2 2 1 1 2 2 2 1 1 1 2 0 2 1 1 1 1 2 2 1 1 1 2 0\n",
      " 1 2 2 2 0 1 1 1 0 1 1 1 2 1 0 2 1 2 2 2 2 0 1 2 0 1 1 2 1 1 1 2 1 0 1]\n"
     ]
    }
   ],
   "source": [
    "# Make predictions about the data clusters using the trained model\n",
    "customer_ratings = model.predict(service_ratings_df)\n",
    "\n",
    "# Print the predictions\n",
    "print(customer_ratings)"
   ]
  },
  {
   "cell_type": "code",
   "execution_count": 17,
   "metadata": {},
   "outputs": [
    {
     "data": {
      "text/html": [
       "<div>\n",
       "<style scoped>\n",
       "    .dataframe tbody tr th:only-of-type {\n",
       "        vertical-align: middle;\n",
       "    }\n",
       "\n",
       "    .dataframe tbody tr th {\n",
       "        vertical-align: top;\n",
       "    }\n",
       "\n",
       "    .dataframe thead th {\n",
       "        text-align: right;\n",
       "    }\n",
       "</style>\n",
       "<table border=\"1\" class=\"dataframe\">\n",
       "  <thead>\n",
       "    <tr style=\"text-align: right;\">\n",
       "      <th></th>\n",
       "      <th>mobile_app_rating</th>\n",
       "      <th>personal_banker_rating</th>\n",
       "      <th>customer rating</th>\n",
       "    </tr>\n",
       "  </thead>\n",
       "  <tbody>\n",
       "    <tr>\n",
       "      <th>0</th>\n",
       "      <td>3.50</td>\n",
       "      <td>2.40</td>\n",
       "      <td>0</td>\n",
       "    </tr>\n",
       "    <tr>\n",
       "      <th>1</th>\n",
       "      <td>3.65</td>\n",
       "      <td>3.14</td>\n",
       "      <td>1</td>\n",
       "    </tr>\n",
       "    <tr>\n",
       "      <th>2</th>\n",
       "      <td>2.90</td>\n",
       "      <td>2.75</td>\n",
       "      <td>2</td>\n",
       "    </tr>\n",
       "    <tr>\n",
       "      <th>3</th>\n",
       "      <td>2.93</td>\n",
       "      <td>3.36</td>\n",
       "      <td>2</td>\n",
       "    </tr>\n",
       "    <tr>\n",
       "      <th>4</th>\n",
       "      <td>2.89</td>\n",
       "      <td>2.62</td>\n",
       "      <td>2</td>\n",
       "    </tr>\n",
       "  </tbody>\n",
       "</table>\n",
       "</div>"
      ],
      "text/plain": [
       "   mobile_app_rating  personal_banker_rating  customer rating\n",
       "0               3.50                    2.40                0\n",
       "1               3.65                    3.14                1\n",
       "2               2.90                    2.75                2\n",
       "3               2.93                    3.36                2\n",
       "4               2.89                    2.62                2"
      ]
     },
     "execution_count": 17,
     "metadata": {},
     "output_type": "execute_result"
    }
   ],
   "source": [
    "# Create a copy of the DataFrame\n",
    "service_rating_predictions_df = service_ratings_df.copy()\n",
    "\n",
    "# Add a column to the DataFrame that contains the customer_ratings information\n",
    "service_rating_predictions_df['customer rating'] = customer_ratings\n",
    "\n",
    "# Review the DataFrame\n",
    "service_rating_predictions_df.head()"
   ]
  },
  {
   "cell_type": "code",
   "execution_count": 18,
   "metadata": {},
   "outputs": [
    {
     "data": {},
     "metadata": {},
     "output_type": "display_data"
    },
    {
     "data": {
      "application/vnd.holoviews_exec.v0+json": "",
      "text/html": [
       "<div id='1391'>\n",
       "  <div class=\"bk-root\" id=\"16000822-87ca-48ca-b849-33e7d41f486a\" data-root-id=\"1391\"></div>\n",
       "</div>\n",
       "<script type=\"application/javascript\">(function(root) {\n",
       "  function embed_document(root) {\n",
       "    var docs_json = {\"cc4130a3-1b7a-4912-9ff6-71ef20ab72a2\":{\"defs\":[{\"extends\":null,\"module\":null,\"name\":\"ReactiveHTML1\",\"overrides\":[],\"properties\":[]},{\"extends\":null,\"module\":null,\"name\":\"FlexBox1\",\"overrides\":[],\"properties\":[{\"default\":\"flex-start\",\"kind\":null,\"name\":\"align_content\"},{\"default\":\"flex-start\",\"kind\":null,\"name\":\"align_items\"},{\"default\":\"row\",\"kind\":null,\"name\":\"flex_direction\"},{\"default\":\"wrap\",\"kind\":null,\"name\":\"flex_wrap\"},{\"default\":\"flex-start\",\"kind\":null,\"name\":\"justify_content\"}]},{\"extends\":null,\"module\":null,\"name\":\"GridStack1\",\"overrides\":[],\"properties\":[{\"default\":\"warn\",\"kind\":null,\"name\":\"mode\"},{\"default\":null,\"kind\":null,\"name\":\"ncols\"},{\"default\":null,\"kind\":null,\"name\":\"nrows\"},{\"default\":true,\"kind\":null,\"name\":\"allow_resize\"},{\"default\":true,\"kind\":null,\"name\":\"allow_drag\"},{\"default\":[],\"kind\":null,\"name\":\"state\"}]},{\"extends\":null,\"module\":null,\"name\":\"click1\",\"overrides\":[],\"properties\":[{\"default\":\"\",\"kind\":null,\"name\":\"terminal_output\"},{\"default\":\"\",\"kind\":null,\"name\":\"debug_name\"},{\"default\":0,\"kind\":null,\"name\":\"clears\"}]},{\"extends\":null,\"module\":null,\"name\":\"NotificationAreaBase1\",\"overrides\":[],\"properties\":[{\"default\":\"bottom-right\",\"kind\":null,\"name\":\"position\"},{\"default\":0,\"kind\":null,\"name\":\"_clear\"}]},{\"extends\":null,\"module\":null,\"name\":\"NotificationArea1\",\"overrides\":[],\"properties\":[{\"default\":[],\"kind\":null,\"name\":\"notifications\"},{\"default\":\"bottom-right\",\"kind\":null,\"name\":\"position\"},{\"default\":0,\"kind\":null,\"name\":\"_clear\"},{\"default\":[{\"background\":\"#ffc107\",\"icon\":{\"className\":\"fas fa-exclamation-triangle\",\"color\":\"white\",\"tagName\":\"i\"},\"type\":\"warning\"},{\"background\":\"#007bff\",\"icon\":{\"className\":\"fas fa-info-circle\",\"color\":\"white\",\"tagName\":\"i\"},\"type\":\"info\"}],\"kind\":null,\"name\":\"types\"}]},{\"extends\":null,\"module\":null,\"name\":\"Notification\",\"overrides\":[],\"properties\":[{\"default\":null,\"kind\":null,\"name\":\"background\"},{\"default\":3000,\"kind\":null,\"name\":\"duration\"},{\"default\":null,\"kind\":null,\"name\":\"icon\"},{\"default\":\"\",\"kind\":null,\"name\":\"message\"},{\"default\":null,\"kind\":null,\"name\":\"notification_type\"},{\"default\":false,\"kind\":null,\"name\":\"_destroyed\"}]},{\"extends\":null,\"module\":null,\"name\":\"TemplateActions1\",\"overrides\":[],\"properties\":[{\"default\":0,\"kind\":null,\"name\":\"open_modal\"},{\"default\":0,\"kind\":null,\"name\":\"close_modal\"}]},{\"extends\":null,\"module\":null,\"name\":\"MaterialTemplateActions1\",\"overrides\":[],\"properties\":[{\"default\":0,\"kind\":null,\"name\":\"open_modal\"},{\"default\":0,\"kind\":null,\"name\":\"close_modal\"}]}],\"roots\":{\"references\":[{\"attributes\":{},\"id\":\"1429\",\"type\":\"AllLabels\"},{\"attributes\":{\"angle\":{\"value\":0.0},\"fill_alpha\":{\"value\":1.0},\"fill_color\":{\"value\":\"#e5ae38\"},\"hatch_alpha\":{\"value\":1.0},\"hatch_color\":{\"value\":\"#e5ae38\"},\"hatch_scale\":{\"value\":12.0},\"hatch_weight\":{\"value\":1.0},\"line_alpha\":{\"value\":1.0},\"line_cap\":{\"value\":\"butt\"},\"line_color\":{\"value\":\"#e5ae38\"},\"line_dash\":{\"value\":[]},\"line_dash_offset\":{\"value\":0},\"line_join\":{\"value\":\"bevel\"},\"line_width\":{\"value\":1},\"marker\":{\"value\":\"circle\"},\"size\":{\"value\":5.477225575051661},\"tags\":[\"apply_ranges\"],\"x\":{\"field\":\"mobile_app_rating\"},\"y\":{\"field\":\"personal_banker_rating\"}},\"id\":\"1499\",\"type\":\"Scatter\"},{\"attributes\":{\"coordinates\":null,\"data_source\":{\"id\":\"1454\"},\"glyph\":{\"id\":\"1457\"},\"group\":null,\"hover_glyph\":null,\"muted_glyph\":{\"id\":\"1459\"},\"nonselection_glyph\":{\"id\":\"1458\"},\"selection_glyph\":{\"id\":\"1475\"},\"view\":{\"id\":\"1461\"}},\"id\":\"1460\",\"type\":\"GlyphRenderer\"},{\"attributes\":{},\"id\":\"1448\",\"type\":\"UnionRenderers\"},{\"attributes\":{\"fill_color\":{\"value\":\"#fc4f30\"},\"hatch_color\":{\"value\":\"#fc4f30\"},\"line_color\":{\"value\":\"#fc4f30\"},\"size\":{\"value\":5.477225575051661},\"tags\":[\"apply_ranges\"],\"x\":{\"field\":\"mobile_app_rating\"},\"y\":{\"field\":\"personal_banker_rating\"}},\"id\":\"1457\",\"type\":\"Scatter\"},{\"attributes\":{},\"id\":\"1428\",\"type\":\"BasicTickFormatter\"},{\"attributes\":{\"angle\":{\"value\":0.0},\"fill_alpha\":{\"value\":1.0},\"fill_color\":{\"value\":\"#fc4f30\"},\"hatch_alpha\":{\"value\":1.0},\"hatch_color\":{\"value\":\"#fc4f30\"},\"hatch_scale\":{\"value\":12.0},\"hatch_weight\":{\"value\":1.0},\"line_alpha\":{\"value\":1.0},\"line_cap\":{\"value\":\"butt\"},\"line_color\":{\"value\":\"#fc4f30\"},\"line_dash\":{\"value\":[]},\"line_dash_offset\":{\"value\":0},\"line_join\":{\"value\":\"bevel\"},\"line_width\":{\"value\":1},\"marker\":{\"value\":\"circle\"},\"size\":{\"value\":5.477225575051661},\"tags\":[\"apply_ranges\"],\"x\":{\"field\":\"mobile_app_rating\"},\"y\":{\"field\":\"personal_banker_rating\"}},\"id\":\"1475\",\"type\":\"Scatter\"},{\"attributes\":{\"active_drag\":{\"id\":\"1415\"},\"active_scroll\":{\"id\":\"1416\"},\"tools\":[{\"id\":\"1394\"},{\"id\":\"1414\"},{\"id\":\"1415\"},{\"id\":\"1416\"},{\"id\":\"1417\"},{\"id\":\"1418\"}]},\"id\":\"1420\",\"type\":\"Toolbar\"},{\"attributes\":{\"fill_color\":{\"value\":\"#30a2da\"},\"hatch_color\":{\"value\":\"#30a2da\"},\"line_color\":{\"value\":\"#30a2da\"},\"size\":{\"value\":5.477225575051661},\"tags\":[\"apply_ranges\"],\"x\":{\"field\":\"mobile_app_rating\"},\"y\":{\"field\":\"personal_banker_rating\"}},\"id\":\"1436\",\"type\":\"Scatter\"},{\"attributes\":{\"fill_color\":{\"value\":\"#e5ae38\"},\"hatch_color\":{\"value\":\"#e5ae38\"},\"line_color\":{\"value\":\"#e5ae38\"},\"size\":{\"value\":5.477225575051661},\"tags\":[\"apply_ranges\"],\"x\":{\"field\":\"mobile_app_rating\"},\"y\":{\"field\":\"personal_banker_rating\"}},\"id\":\"1479\",\"type\":\"Scatter\"},{\"attributes\":{\"coordinates\":null,\"group\":null,\"text_color\":\"black\",\"text_font_size\":\"12pt\"},\"id\":\"1398\",\"type\":\"Title\"},{\"attributes\":{\"click_policy\":\"mute\",\"coordinates\":null,\"group\":null,\"items\":[{\"id\":\"1452\"},{\"id\":\"1474\"},{\"id\":\"1498\"}],\"location\":[0,0],\"title\":\"customer rating\"},\"id\":\"1451\",\"type\":\"Legend\"},{\"attributes\":{},\"id\":\"1432\",\"type\":\"AllLabels\"},{\"attributes\":{\"bottom_units\":\"screen\",\"coordinates\":null,\"fill_alpha\":0.5,\"fill_color\":\"lightgrey\",\"group\":null,\"left_units\":\"screen\",\"level\":\"overlay\",\"line_alpha\":1.0,\"line_color\":\"black\",\"line_dash\":[4,4],\"line_width\":2,\"right_units\":\"screen\",\"syncable\":false,\"top_units\":\"screen\"},\"id\":\"1419\",\"type\":\"BoxAnnotation\"},{\"attributes\":{\"source\":{\"id\":\"1433\"}},\"id\":\"1440\",\"type\":\"CDSView\"},{\"attributes\":{\"source\":{\"id\":\"1454\"}},\"id\":\"1461\",\"type\":\"CDSView\"},{\"attributes\":{},\"id\":\"1414\",\"type\":\"SaveTool\"},{\"attributes\":{},\"id\":\"1431\",\"type\":\"BasicTickFormatter\"},{\"attributes\":{\"fill_alpha\":{\"value\":0.1},\"fill_color\":{\"value\":\"#e5ae38\"},\"hatch_alpha\":{\"value\":0.1},\"hatch_color\":{\"value\":\"#e5ae38\"},\"line_alpha\":{\"value\":0.1},\"line_color\":{\"value\":\"#e5ae38\"},\"size\":{\"value\":5.477225575051661},\"tags\":[\"apply_ranges\"],\"x\":{\"field\":\"mobile_app_rating\"},\"y\":{\"field\":\"personal_banker_rating\"}},\"id\":\"1480\",\"type\":\"Scatter\"},{\"attributes\":{},\"id\":\"1415\",\"type\":\"PanTool\"},{\"attributes\":{},\"id\":\"1402\",\"type\":\"LinearScale\"},{\"attributes\":{\"axis\":{\"id\":\"1406\"},\"coordinates\":null,\"grid_line_color\":null,\"group\":null,\"ticker\":null},\"id\":\"1409\",\"type\":\"Grid\"},{\"attributes\":{\"fill_alpha\":{\"value\":0.1},\"fill_color\":{\"value\":\"#fc4f30\"},\"hatch_alpha\":{\"value\":0.1},\"hatch_color\":{\"value\":\"#fc4f30\"},\"line_alpha\":{\"value\":0.1},\"line_color\":{\"value\":\"#fc4f30\"},\"size\":{\"value\":5.477225575051661},\"tags\":[\"apply_ranges\"],\"x\":{\"field\":\"mobile_app_rating\"},\"y\":{\"field\":\"personal_banker_rating\"}},\"id\":\"1458\",\"type\":\"Scatter\"},{\"attributes\":{},\"id\":\"1418\",\"type\":\"ResetTool\"},{\"attributes\":{\"below\":[{\"id\":\"1406\"}],\"center\":[{\"id\":\"1409\"},{\"id\":\"1413\"}],\"height\":300,\"left\":[{\"id\":\"1410\"}],\"margin\":[5,5,5,5],\"min_border_bottom\":10,\"min_border_left\":10,\"min_border_right\":10,\"min_border_top\":10,\"output_backend\":\"webgl\",\"renderers\":[{\"id\":\"1439\"},{\"id\":\"1460\"},{\"id\":\"1482\"}],\"right\":[{\"id\":\"1451\"}],\"sizing_mode\":\"fixed\",\"title\":{\"id\":\"1398\"},\"toolbar\":{\"id\":\"1420\"},\"width\":700,\"x_range\":{\"id\":\"1392\"},\"x_scale\":{\"id\":\"1402\"},\"y_range\":{\"id\":\"1393\"},\"y_scale\":{\"id\":\"1404\"}},\"id\":\"1397\",\"subtype\":\"Figure\",\"type\":\"Plot\"},{\"attributes\":{},\"id\":\"1416\",\"type\":\"WheelZoomTool\"},{\"attributes\":{},\"id\":\"1477\",\"type\":\"Selection\"},{\"attributes\":{\"angle\":{\"value\":0.0},\"fill_alpha\":{\"value\":1.0},\"fill_color\":{\"value\":\"#30a2da\"},\"hatch_alpha\":{\"value\":1.0},\"hatch_color\":{\"value\":\"#30a2da\"},\"hatch_scale\":{\"value\":12.0},\"hatch_weight\":{\"value\":1.0},\"line_alpha\":{\"value\":1.0},\"line_cap\":{\"value\":\"butt\"},\"line_color\":{\"value\":\"#30a2da\"},\"line_dash\":{\"value\":[]},\"line_dash_offset\":{\"value\":0},\"line_join\":{\"value\":\"bevel\"},\"line_width\":{\"value\":1},\"marker\":{\"value\":\"circle\"},\"size\":{\"value\":5.477225575051661},\"tags\":[\"apply_ranges\"],\"x\":{\"field\":\"mobile_app_rating\"},\"y\":{\"field\":\"personal_banker_rating\"}},\"id\":\"1453\",\"type\":\"Scatter\"},{\"attributes\":{\"data\":{\"customer_rating\":[1,1,1,1,1,1,1,1,1,1,1,1,1,1,1,1,1,1,1,1,1,1,1,1,1,1,1,1,1,1,1,1,1,1,1,1,1,1,1,1,1,1,1,1,1,1,1,1,1,1,1,1,1,1,1,1,1,1,1,1,1,1,1,1,1,1,1,1,1,1,1,1,1,1,1,1,1,1,1,1,1,1,1,1,1,1,1],\"mobile_app_rating\":{\"__ndarray__\":\"MzMzMzMzDUB7FK5H4XoKQBSuR+F6FA5AZmZmZmZmCkAAAAAAAAARQKRwPQrXowpAAAAAAAAADkBI4XoUrkcLQFK4HoXrURFAXI/C9ShcDUBxPQrXo3ANQM3MzMzMzApAcT0K16NwDUDhehSuR+EQQB+F61G4HgtAAAAAAAAAEkA9CtejcD0SQFyPwvUoXBBAUrgehetRCkAfhetRuB4PQAAAAAAAABJAMzMzMzMzC0CF61G4HoULQOF6FK5H4Q5APQrXo3A9DkBxPQrXo3ANQAAAAAAAAApA9ihcj8L1DEAUrkfhehQKQD0K16NwPQxAzczMzMzMCkApXI/C9SgKQB+F61G4Hg1AAAAAAAAADEBI4XoUrkcLQOxRuB6F6wtAhetRuB6FC0CamZmZmZkNQAAAAAAAABBApHA9CtejCkCuR+F6FK4SQAAAAAAAABJAUrgehetRCkAAAAAAAAAMQI/C9ShcjxBAZmZmZmZmDECuR+F6FK4JQDMzMzMzMwtAmpmZmZmZDUBI4XoUrkcPQPYoXI/C9QpAAAAAAAAADkDXo3A9CtcJQEjhehSuRwtAZmZmZmZmDECuR+F6FK4PQFyPwvUoXA9Aw/UoXI/CCUCkcD0K16MKQI/C9Shcjw5AXI/C9ShcDUAAAAAAAAAMQMP1KFyPwgtAH4XrUbgeC0AAAAAAAAAMQOxRuB6F6wlArkfhehSuC0C4HoXrUbgKQAAAAAAAAAxAuB6F61G4CkDhehSuR+EOQD0K16NwPRBAH4XrUbgeDUC4HoXrUbgMQOF6FK5H4QpAzczMzMzMEEB7FK5H4XoOQMP1KFyPwhBAXI/C9ShcDUBSuB6F61ESQAAAAAAAAApACtejcD0KC0AK16NwPQoNQK5H4XoUrgtAhetRuB6FC0AAAAAAAAAKQLgehetRuAxA\",\"dtype\":\"float64\",\"order\":\"little\",\"shape\":[87]},\"personal_banker_rating\":{\"__ndarray__\":\"H4XrUbgeCUD2KFyPwvUIQI/C9ShcjwhApHA9CtejBkAAAAAAAAAIQJqZmZmZmQVA9ihcj8L1CEC4HoXrUbgIQAAAAAAAAARAKVyPwvUoBkBxPQrXo3AHQFyPwvUoXAlAH4XrUbgeCUAAAAAAAAAIQHE9CtejcAlAZmZmZmZmBEBcj8L1KFwJQAAAAAAAAARAAAAAAAAACECkcD0K16MGQAAAAAAAAAhAAAAAAAAACEBcj8L1KFwJQAAAAAAAAARAAAAAAAAACECF61G4HoUJQFyPwvUoXAVAZmZmZmZmBkDD9Shcj8IHQM3MzMzMzAZApHA9CtejBkA9CtejcD0IQAAAAAAAAAhAAAAAAAAACEAK16NwPQoFQIXrUbgehQlAAAAAAAAACEAAAAAAAAAIQKRwPQrXowZAAAAAAAAABEAzMzMzMzMHQFyPwvUoXAlAzczMzMzMBkCkcD0K16MGQM3MzMzMzAZAZmZmZmZmBkD2KFyPwvUEQKRwPQrXowhAAAAAAAAABEAAAAAAAAAEQIXrUbgehQlAAAAAAAAACEAAAAAAAAAEQDMzMzMzMwdAAAAAAAAACEAAAAAAAAAIQArXo3A9CglAuB6F61G4BkBcj8L1KFwHQAAAAAAAAAhAAAAAAAAACEAAAAAAAAAIQFyPwvUoXAVAMzMzMzMzB0Bcj8L1KFwJQM3MzMzMzAhAAAAAAAAABkApXI/C9SgIQB+F61G4HgdAexSuR+F6BkAAAAAAAAAIQEjhehSuRwVAXI/C9ShcBUAAAAAAAAAIQI/C9ShcjwhAXI/C9ShcCUC4HoXrUbgIQDMzMzMzMwdAAAAAAAAACEBcj8L1KFwJQK5H4XoUrgVArkfhehSuBUCkcD0K16MEQJqZmZmZmQNAAAAAAAAACEAK16NwPQoHQGZmZmZmZg5A\",\"dtype\":\"float64\",\"order\":\"little\",\"shape\":[87]}},\"selected\":{\"id\":\"1455\"},\"selection_policy\":{\"id\":\"1471\"}},\"id\":\"1454\",\"type\":\"ColumnDataSource\"},{\"attributes\":{\"overlay\":{\"id\":\"1419\"}},\"id\":\"1417\",\"type\":\"BoxZoomTool\"},{\"attributes\":{\"source\":{\"id\":\"1476\"}},\"id\":\"1483\",\"type\":\"CDSView\"},{\"attributes\":{\"coordinates\":null,\"data_source\":{\"id\":\"1433\"},\"glyph\":{\"id\":\"1436\"},\"group\":null,\"hover_glyph\":null,\"muted_glyph\":{\"id\":\"1438\"},\"nonselection_glyph\":{\"id\":\"1437\"},\"selection_glyph\":{\"id\":\"1453\"},\"view\":{\"id\":\"1440\"}},\"id\":\"1439\",\"type\":\"GlyphRenderer\"},{\"attributes\":{\"children\":[{\"id\":\"1397\"}],\"height\":300,\"margin\":[0,0,0,0],\"name\":\"Row01272\",\"sizing_mode\":\"fixed\",\"tags\":[\"embedded\"],\"width\":700},\"id\":\"1391\",\"type\":\"Row\"},{\"attributes\":{\"end\":5.263,\"reset_end\":5.263,\"reset_start\":0.06699999999999995,\"start\":0.06699999999999995,\"tags\":[[[\"personal_banker_rating\",\"personal_banker_rating\",null]]]},\"id\":\"1393\",\"type\":\"Range1d\"},{\"attributes\":{\"label\":{\"value\":\"1\"},\"renderers\":[{\"id\":\"1460\"}]},\"id\":\"1474\",\"type\":\"LegendItem\"},{\"attributes\":{},\"id\":\"1407\",\"type\":\"BasicTicker\"},{\"attributes\":{\"fill_alpha\":{\"value\":0.2},\"fill_color\":{\"value\":\"#fc4f30\"},\"hatch_alpha\":{\"value\":0.2},\"hatch_color\":{\"value\":\"#fc4f30\"},\"line_alpha\":{\"value\":0.2},\"line_color\":{\"value\":\"#fc4f30\"},\"size\":{\"value\":5.477225575051661},\"tags\":[\"apply_ranges\"],\"x\":{\"field\":\"mobile_app_rating\"},\"y\":{\"field\":\"personal_banker_rating\"}},\"id\":\"1459\",\"type\":\"Scatter\"},{\"attributes\":{\"callback\":null,\"renderers\":[{\"id\":\"1439\"},{\"id\":\"1460\"},{\"id\":\"1482\"}],\"tags\":[\"hv_created\"],\"tooltips\":[[\"customer rating\",\"@{customer_rating}\"],[\"mobile_app_rating\",\"@{mobile_app_rating}\"],[\"personal_banker_rating\",\"@{personal_banker_rating}\"]]},\"id\":\"1394\",\"type\":\"HoverTool\"},{\"attributes\":{},\"id\":\"1411\",\"type\":\"BasicTicker\"},{\"attributes\":{\"fill_alpha\":{\"value\":0.2},\"fill_color\":{\"value\":\"#30a2da\"},\"hatch_alpha\":{\"value\":0.2},\"hatch_color\":{\"value\":\"#30a2da\"},\"line_alpha\":{\"value\":0.2},\"line_color\":{\"value\":\"#30a2da\"},\"size\":{\"value\":5.477225575051661},\"tags\":[\"apply_ranges\"],\"x\":{\"field\":\"mobile_app_rating\"},\"y\":{\"field\":\"personal_banker_rating\"}},\"id\":\"1438\",\"type\":\"Scatter\"},{\"attributes\":{},\"id\":\"1434\",\"type\":\"Selection\"},{\"attributes\":{},\"id\":\"1404\",\"type\":\"LinearScale\"},{\"attributes\":{},\"id\":\"1471\",\"type\":\"UnionRenderers\"},{\"attributes\":{\"axis_label\":\"personal_banker_rating\",\"coordinates\":null,\"formatter\":{\"id\":\"1431\"},\"group\":null,\"major_label_policy\":{\"id\":\"1432\"},\"ticker\":{\"id\":\"1411\"}},\"id\":\"1410\",\"type\":\"LinearAxis\"},{\"attributes\":{\"label\":{\"value\":\"0\"},\"renderers\":[{\"id\":\"1439\"}]},\"id\":\"1452\",\"type\":\"LegendItem\"},{\"attributes\":{},\"id\":\"1455\",\"type\":\"Selection\"},{\"attributes\":{},\"id\":\"1495\",\"type\":\"UnionRenderers\"},{\"attributes\":{\"axis_label\":\"mobile_app_rating\",\"coordinates\":null,\"formatter\":{\"id\":\"1428\"},\"group\":null,\"major_label_policy\":{\"id\":\"1429\"},\"ticker\":{\"id\":\"1407\"}},\"id\":\"1406\",\"type\":\"LinearAxis\"},{\"attributes\":{\"fill_alpha\":{\"value\":0.1},\"fill_color\":{\"value\":\"#30a2da\"},\"hatch_alpha\":{\"value\":0.1},\"hatch_color\":{\"value\":\"#30a2da\"},\"line_alpha\":{\"value\":0.1},\"line_color\":{\"value\":\"#30a2da\"},\"size\":{\"value\":5.477225575051661},\"tags\":[\"apply_ranges\"],\"x\":{\"field\":\"mobile_app_rating\"},\"y\":{\"field\":\"personal_banker_rating\"}},\"id\":\"1437\",\"type\":\"Scatter\"},{\"attributes\":{\"data\":{\"customer_rating\":[2,2,2,2,2,2,2,2,2,2,2,2,2,2,2,2,2,2,2,2,2,2,2,2,2,2,2,2,2,2,2,2,2,2,2,2,2,2,2,2,2,2,2,2,2,2,2,2,2,2,2,2,2,2,2,2,2,2,2,2,2,2,2,2,2,2,2,2,2,2],\"mobile_app_rating\":{\"__ndarray__\":\"MzMzMzMzB0BxPQrXo3AHQB+F61G4HgdA4XoUrkfhBEAAAAAAAAAIQClcj8L1KOw/AAAAAAAABkBxPQrXo3AHQKRwPQrXowJAAAAAAAAACED2KFyPwvUGQAAAAAAAAARAXI/C9ShcAUC4HoXrUbgIQFyPwvUoXANAAAAAAAAACEDNzMzMzMwEQHE9CtejcAdAH4XrUbgeCUBI4XoUrkcHQAAAAAAAAAhAexSuR+F6CEAzMzMzMzMHQArXo3A9CgdAhetRuB6FA0CkcD0K16MGQFyPwvUoXAdAPQrXo3A9BkAfhetRuB4DQAAAAAAAAABAXI/C9ShcBUAfhetRuB4HQHsUrkfheghAAAAAAAAAAkAAAAAAAADwPwAAAAAAAAZApHA9CtejBED2KFyPwvUEQKRwPQrXowhA4XoUrkfhBkD2KFyPwvUGQAAAAAAAAABAj8L1KFyPCEBmZmZmZmYCQEjhehSuR/k/MzMzMzMzB0DNzMzMzMwIQFK4HoXrUQhAj8L1KFyPBEDhehSuR+EGQKRwPQrXowZAj8L1KFyPBkCkcD0K16MGQI/C9ShcjwhAAAAAAAAAAEApXI/C9SgIQHE9CtejcAdApHA9CtejAkAAAAAAAAAIQAAAAAAAAPw/AAAAAAAABkBSuB6F61EIQHsUrkfheghAUrgehetRCEBmZmZmZmYGQAAAAAAAAAhASOF6FK5HBUAAAAAAAAAIQAAAAAAAAABAMzMzMzMzA0A=\",\"dtype\":\"float64\",\"order\":\"little\",\"shape\":[70]},\"personal_banker_rating\":{\"__ndarray__\":\"AAAAAAAABkDhehSuR+EKQPYoXI/C9QRAFK5H4XoUBEBcj8L1KFwJQAAAAAAAAAhAMzMzMzMzBUBxPQrXo3ALQMP1KFyPwgVAH4XrUbgeB0ApXI/C9SgIQD0K16NwPRBAAAAAAAAACEAAAAAAAAAGQNejcD0K1wdAXI/C9ShcBUCPwvUoXI8EQLgehetRuAxAKVyPwvUoCEDsUbgehesHQAAAAAAAAARAUrgehetRCEC4HoXrUbgGQKRwPQrXowpAMzMzMzMzB0AAAAAAAAAIQI/C9ShcjwhAAAAAAAAACEC4HoXrUbgEQAAAAAAAAA5AAAAAAAAABkBmZmZmZmYOQM3MzMzMzAZAAAAAAAAACkAAAAAAAAASQNejcD0K1xBAAAAAAAAABEAAAAAAAAAIQMP1KFyPwgNArkfhehSuA0Bcj8L1KFwNQHsUrkfhegxAcT0K16NwBUAAAAAAAAAMQOF6FK5H4QZAAAAAAAAABEDhehSuR+EGQOF6FK5H4QhAZmZmZmZmAEDD9Shcj8IFQHE9CtejcAVAFK5H4XoUBkAK16NwPQoDQHE9CtejcAdAXI/C9ShcBUDNzMzMzMwIQGZmZmZmZgpAAAAAAAAACECPwvUoXI8EQAAAAAAAABBAXI/C9ShcCUBcj8L1KFwFQM3MzMzMzARACtejcD0KB0CF61G4HoUFQFK4HoXrUQZAXI/C9ShcC0BmZmZmZmYGQFK4HoXrURNAZmZmZmZmBkA=\",\"dtype\":\"float64\",\"order\":\"little\",\"shape\":[70]}},\"selected\":{\"id\":\"1477\"},\"selection_policy\":{\"id\":\"1495\"}},\"id\":\"1476\",\"type\":\"ColumnDataSource\"},{\"attributes\":{\"label\":{\"value\":\"2\"},\"renderers\":[{\"id\":\"1482\"}]},\"id\":\"1498\",\"type\":\"LegendItem\"},{\"attributes\":{\"coordinates\":null,\"data_source\":{\"id\":\"1476\"},\"glyph\":{\"id\":\"1479\"},\"group\":null,\"hover_glyph\":null,\"muted_glyph\":{\"id\":\"1481\"},\"nonselection_glyph\":{\"id\":\"1480\"},\"selection_glyph\":{\"id\":\"1499\"},\"view\":{\"id\":\"1483\"}},\"id\":\"1482\",\"type\":\"GlyphRenderer\"},{\"attributes\":{\"axis\":{\"id\":\"1410\"},\"coordinates\":null,\"dimension\":1,\"grid_line_color\":null,\"group\":null,\"ticker\":null},\"id\":\"1413\",\"type\":\"Grid\"},{\"attributes\":{\"data\":{\"customer_rating\":[0,0,0,0,0,0,0,0,0,0,0,0,0,0,0,0,0,0,0,0,0,0,0,0,0,0],\"mobile_app_rating\":{\"__ndarray__\":\"AAAAAAAADEBcj8L1KFwHQK5H4XoUrg9AexSuR+F6DkC4HoXrUbgQQDMzMzMzMwtAmpmZmZmZCUBxPQrXo3ALQFyPwvUoXA1AAAAAAAAAEED2KFyPwvUMQHE9CtejcBBAMzMzMzMzD0AAAAAAAAAOQAAAAAAAABBA7FG4HoXrDUCamZmZmZkJQAAAAAAAAAxAH4XrUbgeC0CamZmZmZkJQBSuR+F6FBFAhetRuB6FCUCuR+F6FK4NQAAAAAAAABBAAAAAAAAADEAAAAAAAAAMQA==\",\"dtype\":\"float64\",\"order\":\"little\",\"shape\":[26]},\"personal_banker_rating\":{\"__ndarray__\":\"MzMzMzMzA0Bcj8L1KFwBQAAAAAAAAABACtejcD0KA0AAAAAAAADgPwAAAAAAAABAAAAAAAAAAEAAAAAAAADwPwAAAAAAAABAAAAAAAAAAEAAAAAAAAAAQAAAAAAAAABAAAAAAAAA4D/2KFyPwvX4PwAAAAAAAABAMzMzMzMzA0Bcj8L1KFwBQKRwPQrXowJA9ihcj8L1/D+kcD0K16MCQAAAAAAAAABASOF6FK5H/T9cj8L1KFwBQDMzMzMzMwNAZmZmZmZmAkAzMzMzMzMDQA==\",\"dtype\":\"float64\",\"order\":\"little\",\"shape\":[26]}},\"selected\":{\"id\":\"1434\"},\"selection_policy\":{\"id\":\"1448\"}},\"id\":\"1433\",\"type\":\"ColumnDataSource\"},{\"attributes\":{\"end\":4.832428571428571,\"reset_end\":4.832428571428571,\"reset_start\":0.7175714285714285,\"start\":0.7175714285714285,\"tags\":[[[\"mobile_app_rating\",\"mobile_app_rating\",null]]]},\"id\":\"1392\",\"type\":\"Range1d\"},{\"attributes\":{\"fill_alpha\":{\"value\":0.2},\"fill_color\":{\"value\":\"#e5ae38\"},\"hatch_alpha\":{\"value\":0.2},\"hatch_color\":{\"value\":\"#e5ae38\"},\"line_alpha\":{\"value\":0.2},\"line_color\":{\"value\":\"#e5ae38\"},\"size\":{\"value\":5.477225575051661},\"tags\":[\"apply_ranges\"],\"x\":{\"field\":\"mobile_app_rating\"},\"y\":{\"field\":\"personal_banker_rating\"}},\"id\":\"1481\",\"type\":\"Scatter\"}],\"root_ids\":[\"1391\"]},\"title\":\"Bokeh Application\",\"version\":\"2.4.3\"}};\n",
       "    var render_items = [{\"docid\":\"cc4130a3-1b7a-4912-9ff6-71ef20ab72a2\",\"root_ids\":[\"1391\"],\"roots\":{\"1391\":\"16000822-87ca-48ca-b849-33e7d41f486a\"}}];\n",
       "    root.Bokeh.embed.embed_items_notebook(docs_json, render_items);\n",
       "    for (const render_item of render_items) {\n",
       "      for (const root_id of render_item.root_ids) {\n",
       "\tconst id_el = document.getElementById(root_id)\n",
       "\tif (id_el.children.length && (id_el.children[0].className === 'bk-root')) {\n",
       "\t  const root_el = id_el.children[0]\n",
       "\t  root_el.id = root_el.id + '-rendered'\n",
       "\t}\n",
       "      }\n",
       "    }\n",
       "  }\n",
       "  if (root.Bokeh !== undefined && root.Bokeh.Panel !== undefined) {\n",
       "    embed_document(root);\n",
       "  } else {\n",
       "    var attempts = 0;\n",
       "    var timer = setInterval(function(root) {\n",
       "      if (root.Bokeh !== undefined && root.Bokeh.Panel !== undefined) {\n",
       "        clearInterval(timer);\n",
       "        embed_document(root);\n",
       "      } else if (document.readyState == \"complete\") {\n",
       "        attempts++;\n",
       "        if (attempts > 200) {\n",
       "          clearInterval(timer);\n",
       "          console.log(\"Bokeh: ERROR: Unable to run BokehJS code because BokehJS library is missing\");\n",
       "        }\n",
       "      }\n",
       "    }, 25, root)\n",
       "  }\n",
       "})(window);</script>"
      ],
      "text/plain": [
       ":NdOverlay   [customer rating]\n",
       "   :Scatter   [mobile_app_rating]   (personal_banker_rating)"
      ]
     },
     "execution_count": 18,
     "metadata": {
      "application/vnd.holoviews_exec.v0+json": {
       "id": "1391"
      }
     },
     "output_type": "execute_result"
    }
   ],
   "source": [
    "# Plot the data points based on the customer rating\n",
    "service_rating_predictions_df.hvplot.scatter(\n",
    "    x=\"mobile_app_rating\", \n",
    "    y=\"personal_banker_rating\", \n",
    "    by=\"customer rating\"\n",
    ")"
   ]
  },
  {
   "cell_type": "code",
   "execution_count": null,
   "metadata": {},
   "outputs": [],
   "source": []
  }
 ],
 "metadata": {
  "kernelspec": {
   "display_name": "Python [conda env:PythonData]",
   "language": "python",
   "name": "conda-env-PythonData-py"
  },
  "language_info": {
   "codemirror_mode": {
    "name": "ipython",
    "version": 3
   },
   "file_extension": ".py",
   "mimetype": "text/x-python",
   "name": "python",
   "nbconvert_exporter": "python",
   "pygments_lexer": "ipython3",
   "version": "3.7.16"
  }
 },
 "nbformat": 4,
 "nbformat_minor": 4
}
