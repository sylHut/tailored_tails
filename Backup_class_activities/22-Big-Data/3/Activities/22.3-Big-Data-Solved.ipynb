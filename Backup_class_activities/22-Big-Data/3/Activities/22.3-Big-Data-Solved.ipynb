{
 "cells": [
  {
   "cell_type": "markdown",
   "metadata": {},
   "source": [
    "@channel **Hello Everyone,**"
   ]
  },
  {
   "cell_type": "markdown",
   "metadata": {},
   "source": [
    "**2024-02-12 `22.3-Big-Data-Optimizing Spark: Storage, Partitioning, and Caching`**"
   ]
  },
  {
   "cell_type": "markdown",
   "metadata": {},
   "source": [
    "**Objectives**\n",
    "\n",
    "* Compare the file storage types (other than tabular) that work the best for Spark.\n",
    "* Understand how partitioning affects Spark performance.\n",
    "* Explain the cause of shuffling and limit it when possible.\n",
    "* Identify when caching is the best option.\n",
    "* Explain how to broadcast a lookup table, and force it when it doesn't happen automatically.\n",
    "* Set the shuffle partitions to an appropriate value and demonstrate how to cache data.\n"
   ]
  },
  {
   "cell_type": "markdown",
   "metadata": {},
   "source": [
    "**Presentation**\n",
    "* [22.3-Optimizing Spark: Storage, Partitioning, and Caching](https://git.bootcampcontent.com/University-of-California---Berkeley/UCB-VIRT-DATA-PT-08-2023-U-LOLC/-/blob/main/Slides/Data-22.3-Storage_Partitioning_and_Caching.pdf)"
   ]
  },
  {
   "cell_type": "markdown",
   "metadata": {},
   "source": [
    "**Best wishes.**"
   ]
  },
  {
   "cell_type": "markdown",
   "metadata": {},
   "source": [
    "**Install**\n",
    "* [Download WinRAR](https://www.win-rar.com/start.html?&L=0)\n",
    "* [Download JDK Development Kit](https://www.oracle.com/java/technologies/downloads/)\n",
    "* [Download Apache Spark](https://spark.apache.org/downloads.html)\n",
    "   - Extract Spark to a folder, example `C:/spark-3.5.0-bin-hadoop3`\n",
    "   - Restart your `terminal`/`git bash`\n",
    "   - Add to your env `HADOOP_HOME=C:\\spark-3.5.0-bin-hadoop3`\n",
    "   - Add to your env `SPARK_HOME=C:\\spark-3.5.0-bin-hadoop3`\n",
    "   - Add to yor path `%HADOOP_HOME%\\bin`\n",
    "   - Copy [winutils](https://github.com/steveloughran/winutils/tree/master/hadoop-3.0.0/bin) to `C:\\spark-3.5.0-bin-hadoop3\\bin`\n",
    "   \n",
    "\n",
    "```\n",
    "pip install pyspark findspark\n",
    "pip install MRJob\n",
    "pip install plotly\n",
    "```"
   ]
  },
  {
   "cell_type": "markdown",
   "metadata": {},
   "source": [
    "# =========================================="
   ]
  },
  {
   "cell_type": "markdown",
   "metadata": {},
   "source": [
    "### 3.01 Instructor Do: Introducing Parquet (20 min)"
   ]
  },
  {
   "cell_type": "markdown",
   "metadata": {},
   "source": [
    "* An RDD is a table in a database and can hold any type of data. Spark stores data in RDD on different partitions in memory as an object across the jobs, which increases computation time, compared to storing the data on a hard disk.\n",
    "\n",
    "* When Spark loads data from a CSV file, it will distribute the data through different nodes. Each node will then assign rows of the CSV file to a partition. When we query the data using a Spark API, every value has to be read from each partition.\n",
    "\n",
    "* Computation times for datasets less than a few gigabytes are not greatly affected since the maximum size of a partition is 128MB. But, when you are storing terabyte or larger datasets, it is better to store the data in a parquet format to increase query optimization.\n",
    "\n",
    "---\n",
    "Parquet is a split-table in columnar format that works well in distributed storage like HDFS, AWS S3, and Azure data lake storage (ADLS).\n",
    "\n",
    "* **Columnar** refers to how the data is stored. Columnar stores each column value of a row separately, with a reference to all of its columns.\n",
    "\n",
    "* This allows you to query and filter a single column and return only the selected columns in your query with great efficiency. It also reduces the amount of reading Spark performs.\n",
    "\n",
    "* Parquet is widely used in data analytics with Spark, because it greatly reduces query runtime.\n",
    "\n",
    "* Parquet will also help when **inferring the schema**. To infer the schema in parquet requires a one-time pass, while CSV and JSON require a pass of *all* of the data.\n",
    "\n",
    "    *  **Remember:** Best practice is to state your schema prior to load, which is highly recommended."
   ]
  },
  {
   "cell_type": "code",
   "execution_count": 14,
   "metadata": {
    "colab": {
     "base_uri": "https://localhost:8080/"
    },
    "id": "s2U0y6_MtZ9I",
    "outputId": "8dce3897-0149-490c-fe59-8be822fcaa8a"
   },
   "outputs": [],
   "source": [
    "# Import findspark and initialize. \n",
    "import findspark\n",
    "findspark.init()"
   ]
  },
  {
   "cell_type": "code",
   "execution_count": 16,
   "metadata": {
    "id": "KLz5M7sFpO0W"
   },
   "outputs": [],
   "source": [
    "# Import packages\n",
    "from pyspark.sql import SparkSession\n",
    "# Import the time module so we can time our queries.\n",
    "import time\n",
    "\n",
    "# Create a SparkSession\n",
    "spark = SparkSession.builder.appName(\"SparkSQL\").config(\"spark.driver.memory\", \"2g\").getOrCreate()"
   ]
  },
  {
   "cell_type": "code",
   "execution_count": 17,
   "metadata": {
    "colab": {
     "base_uri": "https://localhost:8080/"
    },
    "id": "CahJMb3cpWdW",
    "outputId": "4d0c57d7-87c3-4463-d0f5-3abfbd2a9e16"
   },
   "outputs": [
    {
     "name": "stdout",
     "output_type": "stream",
     "text": [
      "+----------------+----+-------+-----+-----+----------+-------------------+----------------+------------+--------------------+----------------+--------------------+-------------+--------------------+----------+--------------------+--------------------+--------------------+\n",
      "|ISN_DOB_BIS_VIOL|BORO|    BIN|BLOCK|  LOT|ISSUE_DATE|VIOLATION_TYPE_CODE|VIOLATION_NUMBER|HOUSE_NUMBER|              STREET|DISPOSITION_DATE|DISPOSITION_COMMENTS|DEVICE_NUMBER|         DESCRIPTION|ECB_NUMBER|              NUMBER|  VIOLATION_CATEGORY|      VIOLATION_TYPE|\n",
      "+----------------+----+-------+-----+-----+----------+-------------------+----------------+------------+--------------------+----------------+--------------------+-------------+--------------------+----------+--------------------+--------------------+--------------------+\n",
      "|         2286033|   1|1009713|00577|00019|  20180507|                  E|     9027/627971|          34|        WEST 14TH ST|        20220509|PPN203 AOC SUB 05...|      1P13420|                NULL|      NULL|V*050718E9027/627971|V*-DOB VIOLATION ...|E-ELEVATOR       ...|\n",
      "|         2533639|   1|1082666|00333|00001|  20210629|                  E|     9027/705433|          77|     COLUMBIA STREET|        20220509|PPN203 AOC SUB 05...|      1P27474|                NULL|      NULL|V*062921E9027/705433|V*-DOB VIOLATION ...|E-ELEVATOR       ...|\n",
      "|         2347979|   1|1083846|01130|00001|  20190423|                  E|     9028/648125|         200|   CENTRAL PARK WEST|        20220509|PPN203 AOC SUBMIT...|      1P40861|                NULL|      NULL|V*042319E9028/648125|V*-DOB VIOLATION ...|E-ELEVATOR       ...|\n",
      "|         2566336|   1|1057155|01889|07502|  20211123|                  E|     9028/710097|         845|        WEST END AVE|        20220509|PPN203 AOC SUB 05...|      1P14972|                NULL|      NULL|V*112321E9028/710097|V*-DOB VIOLATION ...|E-ELEVATOR       ...|\n",
      "|         2487351|   1|1041456|01387|00021|  20200925|                  E|     9028/689200|          31|             E 72 ST|        20220509|PPN203 AOC SUB 05...|      1P10910|                NULL|      NULL|V*092520E9028/689200|V*-DOB VIOLATION ...|E-ELEVATOR       ...|\n",
      "|         2579117|   3|3212907|07717|00054|  20220427|            AEUHAZ1|           00322|        3420|        QUENTIN ROAD|        20220509|000810 PAID INVOI...|         NULL|FAILURE TO CERTIF...| 39055131L|V*042722AEUHAZ100322|V*-DOB VIOLATION ...|AEUHAZ1-FAIL TO C...|\n",
      "|         2224356|   4|4445407|16155|00021|  20171206|                  E|     9027/617490|         320|    BEACH 100 STREET|        20220509|PPN203 AOC SUBMIT...|       4P4846|                NULL|      NULL|V*120617E9027/617490|V*-DOB VIOLATION ...|E-ELEVATOR       ...|\n",
      "|         1501541|   1|1010847|00611|00053|  20100706|             LANDMK|         11-0004|          10|      CHARLES STREET|        20220509|                NULL|         NULL|                NULL|      NULL|V*070610LANDMK11-...|V*-DOB VIOLATION ...|LANDMK-LANDMARK  ...|\n",
      "|         2435215|   1|1012256|00662|00011|  20200115|                  E|     9028/667509|     PIER 59|         NORTH RIVER|        20220509|PPN203 AOC SUB 05...|      1W10006|                NULL|      NULL|V*011520E9028/667509|V*-DOB VIOLATION ...|E-ELEVATOR       ...|\n",
      "|         2504960|   3|3379016|01220|00019|  20210123|                  E|     9028/696197|         715|         ST MARKS AV|        20220509|PPN203 AOC SUB 05...|       3P3165|                NULL|      NULL|V*012321E9028/696197|V*-DOB VIOLATION ...|E-ELEVATOR       ...|\n",
      "|         2579114|   3|3212907|07717|00054|  20220427|            AEUHAZ1|           00319|        3420|        QUENTIN ROAD|        20220509|000810 PAID INVOI...|         NULL|FAILURE TO CERTIF...| 39055126R|V*042722AEUHAZ100319|V*-DOB VIOLATION ...|AEUHAZ1-FAIL TO C...|\n",
      "|         2347971|   1|1083846|01130|00001|  20190424|                  E|     9028/650040|         200|   CENTRAL PARK WEST|        20220509|PPN203 AOC SUBMIT...|      1P29222|                NULL|      NULL|V*042419E9028/650040|V*-DOB VIOLATION ...|E-ELEVATOR       ...|\n",
      "|         2347976|   1|1083846|01130|00001|  20190423|                  E|     9028/650049|         200|   CENTRAL PARK WEST|        20220509|PPN203 AOC SUBMIT...|      1P40856|                NULL|      NULL|V*042319E9028/650049|V*-DOB VIOLATION ...|E-ELEVATOR       ...|\n",
      "|         2310631|   3|3079907|03439|00020|  20180809|            AEUHAZ1|           00316|         76A|       COOPER STREET|        20220509|            90252351|         NULL|FAILURE TO CERTIF...| 35331209P|V*080918AEUHAZ100316|V*-DOB VIOLATION ...|AEUHAZ1-FAIL TO C...|\n",
      "|         2582207|   4|4227230|10640|00029|  20220430|                  C|          ER02MA|       91-17|          215 STREET|            NULL|                NULL|         NULL|STRUCTURE RENDERE...|      NULL|      V043022CER02MA|V-DOB VIOLATION -...|C-CONSTRUCTION   ...|\n",
      "|         2539906|   1|1038758|01337|07502|  20210723|                  E|     9028/704512|           1|UNITED NATIONS PLAZA|        20220509|PPN203 AOC SUBMIT...|      1P37657|                NULL|      NULL|V*072321E9028/704512|V*-DOB VIOLATION ...|E-ELEVATOR       ...|\n",
      "|         2428141|   3|3425712|06766|07503|  20191102|              BENCH|           01025|        2068|        OCEAN AVENUE|        20220509|  CHALLENGE APPROVED|         NULL|FAILURE TO FILE B...|      NULL|  V*110219BENCH01025|V*-DOB VIOLATION ...|BENCH-FAILURE TO ...|\n",
      "|         2543985|   3|3116537|05080|00036|  20210824|                  E|     9028/706976|          21|         ST PAULS CT|        20220509|PPN203 AOC SUB 05...|       3P2286|                NULL|      NULL|V*082421E9028/706976|V*-DOB VIOLATION ...|E-ELEVATOR       ...|\n",
      "|         1705186|   1|1010847|00611|00053|  20120926|             LANDMK|         13-0202|          10|      CHARLES STREET|        20220509|                NULL|         NULL|                NULL|      NULL|V*092612LANDMK13-...|V*-DOB VIOLATION ...|LANDMK-LANDMARK  ...|\n",
      "|         2533638|   1|1082666|00333|00001|  20210629|                  E|     9027/705432|          77|     COLUMBIA STREET|        20220509|PPN203 AOC SUB 05...|      1P27473|                NULL|      NULL|V*062921E9027/705432|V*-DOB VIOLATION ...|E-ELEVATOR       ...|\n",
      "+----------------+----+-------+-----+-----+----------+-------------------+----------------+------------+--------------------+----------------+--------------------+-------------+--------------------+----------+--------------------+--------------------+--------------------+\n",
      "only showing top 20 rows\n",
      "\n"
     ]
    }
   ],
   "source": [
    "# Read in data from S3 Bucket\n",
    "from pyspark import SparkFiles\n",
    "url = \"https://2u-data-curriculum-team.s3.amazonaws.com/dataviz-classroom/v1.2/22-big-data/3/NYC_Building_Violations.csv\"\n",
    "spark.sparkContext.addFile(url)\n",
    "df = spark.read.csv(SparkFiles.get(\"NYC_Building_Violations.csv\"), sep=\",\", header=True)\n",
    "df.show()"
   ]
  },
  {
   "cell_type": "code",
   "execution_count": 18,
   "metadata": {
    "colab": {
     "base_uri": "https://localhost:8080/"
    },
    "id": "S62v26TZLHso",
    "outputId": "5480a615-9014-42fe-ebd9-406add28c876"
   },
   "outputs": [
    {
     "name": "stdout",
     "output_type": "stream",
     "text": [
      "+-------+------------------+------------------+-----------------+------------------+------------------+-------------------+-------------------+----------------+------------------+------------------+--------------------+--------------------+--------------------+--------------------+--------------------+------------------+--------------------+--------------------+\n",
      "|summary|  ISN_DOB_BIS_VIOL|              BORO|              BIN|             BLOCK|               LOT|         ISSUE_DATE|VIOLATION_TYPE_CODE|VIOLATION_NUMBER|      HOUSE_NUMBER|            STREET|    DISPOSITION_DATE|DISPOSITION_COMMENTS|       DEVICE_NUMBER|         DESCRIPTION|          ECB_NUMBER|            NUMBER|  VIOLATION_CATEGORY|      VIOLATION_TYPE|\n",
      "+-------+------------------+------------------+-----------------+------------------+------------------+-------------------+-------------------+----------------+------------------+------------------+--------------------+--------------------+--------------------+--------------------+--------------------+------------------+--------------------+--------------------+\n",
      "|  count|           2249357|           2249355|          2246031|           2236515|           2237197|            2249356|            2249357|         2249352|           2248990|           2231958|             1689545|             1648487|             1657117|              709389|              201989|           2249316|             2249316|             2249302|\n",
      "|   mean|1306787.2474680543|2.3464668843595082|2456521.062597088|2859.5119176387343|466.57405826225846|2.007073744908509E7|               NULL|             NaN|2783.2523214543485|          53.40625|2.0102321098843772E7| 3.162820579273005E7|            Infinity|            Infinity|       2.104617042E8|              NULL|                NULL|                NULL|\n",
      "| stddev| 743549.2550104014|1.2299498217016895|1297759.739298042|2880.0568270638655|  1742.32161729546|  103289.9051134166|               NULL|             NaN|31076.992725830136|20.639547655395816|   76857.25150439984|1.2270720877515717E8|                 NaN|                 NaN|1.9213306030514506E8|              NULL|                NULL|                NULL|\n",
      "|    min|                 1|                 0|          0000000|             .   6|                 0|           0   0612|                 7A|     #326375C301|            #G25FP|     '\\t15 AVENUE'|            12231998|\"DISMISSED, BC SW...| OBTAIN ALL PERMI...|                   #|                0000|V%*010110UB3135/10|C-CONSTRUCTION   ...|A-SEU            ...|\n",
      "|    25%|          669660.0|               1.0|        1055263.0|             950.0|              10.0|        2.0000207E7|               NULL|          1464.0|             137.0|              58.0|         2.0051104E7|            266001.0|             60231.0|                 1.0|                 0.0|              NULL|                NULL|                NULL|\n",
      "|    50%|         1309696.0|               2.0|        2805849.0|            1856.0|              30.0|        2.0080305E7|               NULL|          7534.0|             377.0|              63.0|         2.0120315E7|           1.33388E7|             87138.0|                 1.0|        3.48751536E8|              NULL|                NULL|                NULL|\n",
      "|    75%|         1947685.0|               3.0|        3331526.0|            3767.0|              55.0|        2.0150303E7|               NULL|         18928.0|            1094.0|              63.0|         2.0160718E7|         6.2037385E7|            815388.0|                 2.0|        3.49874984E8|              NULL|                NULL|                NULL|\n",
      "|    max|            999999|                 `|          9999993|             \\0459|             Q0007|           Y9990120|                  Z|            ¬TVW|               ¦04|       MAIN STREET|            20220619|                   ¦|              X10070|{74}REPLACE MISSI...|                   \\|VWH121602PL106HB01|VWH-VIOLATION WOR...|Z-ZONING         ...|\n",
      "+-------+------------------+------------------+-----------------+------------------+------------------+-------------------+-------------------+----------------+------------------+------------------+--------------------+--------------------+--------------------+--------------------+--------------------+------------------+--------------------+--------------------+\n",
      "\n"
     ]
    }
   ],
   "source": [
    "# Get a summary of the data. \n",
    "df.summary().show()"
   ]
  },
  {
   "cell_type": "code",
   "execution_count": 22,
   "metadata": {
    "colab": {
     "base_uri": "https://localhost:8080/"
    },
    "id": "T7fsnqRDqG2C",
    "outputId": "95a31a73-2ffb-430d-fb22-ec062d106ec6"
   },
   "outputs": [
    {
     "name": "stdout",
     "output_type": "stream",
     "text": [
      "+--------------------+---------+\n",
      "|      VIOLATION_TYPE|sum(BORO)|\n",
      "+--------------------+---------+\n",
      "|LL10/80-LOCAL LAW...|   3609.0|\n",
      "|LL11/98-LOCAL LAW...|   9285.0|\n",
      "|HVIOS-NYCHA ELEV ...|    969.0|\n",
      "|P-PLUMBING       ...|  29480.0|\n",
      "|ACH1-(NYCHA) - EL...|   4949.0|\n",
      "|LANDMRK-LANDMARK ...|   5599.0|\n",
      "|LL5-LOCAL LAW 5/7...|   1363.0|\n",
      "|B-BOILER         ...|  17042.0|\n",
      "|FISP-FACADE SAFET...|   6889.0|\n",
      "|EGNCY-EMERGENCY  ...|  12607.0|\n",
      "|ES-ELECTRIC SIGNS...|  18378.0|\n",
      "|                NULL|    148.0|\n",
      "|L1198-LOCAL LAW 1...|  10656.0|\n",
      "|HBLVIO-HIGH PRESS...|  14628.0|\n",
      "|BENCH-FAILURE TO ...| 110285.0|\n",
      "|RWNRF-RETAINING W...|   4007.0|\n",
      "|FISPNRF-NO REPORT...|  21017.0|\n",
      "|LL2604-PHOTOLUMIN...|    679.0|\n",
      "|LL2604S-SPRINKLER...|   1513.0|\n",
      "|ACJ1-(PRIVATE RES...|   2125.0|\n",
      "+--------------------+---------+\n",
      "only showing top 20 rows\n",
      "\n",
      "--- 6.765611886978149 seconds ---\n"
     ]
    }
   ],
   "source": [
    " # Let's create a view with our DataFrame and run SQL that will sum up the boroughs by the type of violation.\n",
    "# We can output the time this step runs in seconds.\n",
    "# Because we are timing the executions, remember to run twice to eliminate the \"load time\" from the discussion.\n",
    "\n",
    "df.createOrReplaceTempView('violations')\n",
    "start_time = time.time()\n",
    "\n",
    "spark.sql(\"\"\"select VIOLATION_TYPE, sum(BORO) from violations group by 1\"\"\").show()\n",
    "\n",
    "print(\"--- %s seconds ---\" % (time.time() - start_time))"
   ]
  },
  {
   "cell_type": "code",
   "execution_count": 23,
   "metadata": {
    "id": "g04Evw2jqHoK"
   },
   "outputs": [],
   "source": [
    "# Write out the data in parquet format\n",
    "# Note: That this is pretty much the same as writing out to a csv to your local directory.\n",
    "# We are telling Spark to overwrite all of the data if it already exists\n",
    "df.write.parquet('parquet_violations', mode='overwrite')"
   ]
  },
  {
   "cell_type": "markdown",
   "metadata": {
    "id": "lYiTD19bHuV4"
   },
   "source": [
    "\n",
    "\n",
    "*   click the folder icon on the left of the notebook to expose the folders and files stored in your colab enviornment.  Notice that a new folder is present with the same name as your parquet file (parquet_title_basic)\n",
    "*   inside of it you will find 'part-*.parquet' files and a '_SUCCESS' file. \n",
    "*  The '_SUCCESS' file is created when Spark creates a Parquet folder\n",
    "*  the part-* files are binary files that store your compressed data in columnar format\n",
    "\n",
    "\n",
    "\n"
   ]
  },
  {
   "cell_type": "code",
   "execution_count": 24,
   "metadata": {
    "id": "2SaDjaQXqnPI"
   },
   "outputs": [],
   "source": [
    "# Read in our new parquet formatted data\n",
    "p_df=spark.read.parquet('parquet_violations')"
   ]
  },
  {
   "cell_type": "code",
   "execution_count": 25,
   "metadata": {
    "id": "sT7d4hu-q32d"
   },
   "outputs": [],
   "source": [
    "# A parquet formatted DataFrame has all the same methods as a row-based DataFrame\n",
    "# We can convert the DataFrame to a view.\n",
    "p_df.createOrReplaceTempView('p_violations')"
   ]
  },
  {
   "cell_type": "code",
   "execution_count": 26,
   "metadata": {
    "colab": {
     "base_uri": "https://localhost:8080/"
    },
    "id": "nwpUfAoeq71b",
    "outputId": "d6850e76-4e87-4478-bb41-922a51edc6ce"
   },
   "outputs": [
    {
     "name": "stdout",
     "output_type": "stream",
     "text": [
      "+--------------------+---------+\n",
      "|      VIOLATION_TYPE|sum(BORO)|\n",
      "+--------------------+---------+\n",
      "|LL10/80-LOCAL LAW...|   3609.0|\n",
      "|LL11/98-LOCAL LAW...|   9285.0|\n",
      "|HVIOS-NYCHA ELEV ...|    969.0|\n",
      "|P-PLUMBING       ...|  29480.0|\n",
      "|ACH1-(NYCHA) - EL...|   4949.0|\n",
      "|LANDMRK-LANDMARK ...|   5599.0|\n",
      "|LL5-LOCAL LAW 5/7...|   1363.0|\n",
      "|FISP-FACADE SAFET...|   6889.0|\n",
      "|B-BOILER         ...|  17042.0|\n",
      "|EGNCY-EMERGENCY  ...|  12607.0|\n",
      "|ES-ELECTRIC SIGNS...|  18378.0|\n",
      "|                NULL|    148.0|\n",
      "|L1198-LOCAL LAW 1...|  10656.0|\n",
      "|HBLVIO-HIGH PRESS...|  14628.0|\n",
      "|BENCH-FAILURE TO ...| 110285.0|\n",
      "|RWNRF-RETAINING W...|   4007.0|\n",
      "|FISPNRF-NO REPORT...|  21017.0|\n",
      "|LL2604-PHOTOLUMIN...|    679.0|\n",
      "|LL2604S-SPRINKLER...|   1513.0|\n",
      "|ACJ1-(PRIVATE RES...|   2125.0|\n",
      "+--------------------+---------+\n",
      "only showing top 20 rows\n",
      "\n",
      "--- 3.2563915252685547 seconds ---\n"
     ]
    }
   ],
   "source": [
    "# Run the same sql as above.  (Note: If you have small datasets it IS possible that times may be very close.)\n",
    "# Because we are timing the executions, remember to run twice to eliminate the \"load time\" from the discussion.\n",
    "\n",
    "start_time = time.time()\n",
    "spark.sql(\"\"\"select VIOLATION_TYPE, sum(BORO) from p_violations group by 1\"\"\").show()\n",
    "print(\"--- %s seconds ---\" % (time.time() - start_time))"
   ]
  },
  {
   "cell_type": "code",
   "execution_count": 27,
   "metadata": {
    "id": "yZY1lKBHrjLg"
   },
   "outputs": [],
   "source": [
    "# Writing out a csv file from Spark will also create a folder with \"part\" files.\n",
    "# These files are not binary or compressed and in reality are just normal csv files broken into partitions.\n",
    "# You can see the folder 'out_violations.csv' in your local directory.\n",
    "df.write.csv('out_violations.csv', mode='overwrite')"
   ]
  },
  {
   "cell_type": "markdown",
   "metadata": {},
   "source": [
    "### Read a parquet file into a Pandas DataFrame"
   ]
  },
  {
   "cell_type": "code",
   "execution_count": 28,
   "metadata": {
    "id": "zit0gXHn4Hf2"
   },
   "outputs": [],
   "source": [
    "import pandas as pd"
   ]
  },
  {
   "cell_type": "code",
   "execution_count": 31,
   "metadata": {},
   "outputs": [
    {
     "data": {
      "text/html": [
       "<div>\n",
       "<style scoped>\n",
       "    .dataframe tbody tr th:only-of-type {\n",
       "        vertical-align: middle;\n",
       "    }\n",
       "\n",
       "    .dataframe tbody tr th {\n",
       "        vertical-align: top;\n",
       "    }\n",
       "\n",
       "    .dataframe thead th {\n",
       "        text-align: right;\n",
       "    }\n",
       "</style>\n",
       "<table border=\"1\" class=\"dataframe\">\n",
       "  <thead>\n",
       "    <tr style=\"text-align: right;\">\n",
       "      <th></th>\n",
       "      <th>ISN_DOB_BIS_VIOL</th>\n",
       "      <th>BORO</th>\n",
       "      <th>BIN</th>\n",
       "      <th>BLOCK</th>\n",
       "      <th>LOT</th>\n",
       "      <th>ISSUE_DATE</th>\n",
       "      <th>VIOLATION_TYPE_CODE</th>\n",
       "      <th>VIOLATION_NUMBER</th>\n",
       "      <th>HOUSE_NUMBER</th>\n",
       "      <th>STREET</th>\n",
       "      <th>DISPOSITION_DATE</th>\n",
       "      <th>DISPOSITION_COMMENTS</th>\n",
       "      <th>DEVICE_NUMBER</th>\n",
       "      <th>DESCRIPTION</th>\n",
       "      <th>ECB_NUMBER</th>\n",
       "      <th>NUMBER</th>\n",
       "      <th>VIOLATION_CATEGORY</th>\n",
       "      <th>VIOLATION_TYPE</th>\n",
       "    </tr>\n",
       "  </thead>\n",
       "  <tbody>\n",
       "    <tr>\n",
       "      <th>0</th>\n",
       "      <td>2286033</td>\n",
       "      <td>1</td>\n",
       "      <td>1009713</td>\n",
       "      <td>00577</td>\n",
       "      <td>00019</td>\n",
       "      <td>20180507</td>\n",
       "      <td>E</td>\n",
       "      <td>9027/627971</td>\n",
       "      <td>34</td>\n",
       "      <td>WEST 14TH ST</td>\n",
       "      <td>20220509</td>\n",
       "      <td>PPN203 AOC SUB 050322 BY BP ELEV CO           ...</td>\n",
       "      <td>1P13420</td>\n",
       "      <td>None</td>\n",
       "      <td>None</td>\n",
       "      <td>V*050718E9027/627971</td>\n",
       "      <td>V*-DOB VIOLATION - Resolved</td>\n",
       "      <td>E-ELEVATOR                                    ...</td>\n",
       "    </tr>\n",
       "    <tr>\n",
       "      <th>1</th>\n",
       "      <td>2533639</td>\n",
       "      <td>1</td>\n",
       "      <td>1082666</td>\n",
       "      <td>00333</td>\n",
       "      <td>00001</td>\n",
       "      <td>20210629</td>\n",
       "      <td>E</td>\n",
       "      <td>9027/705433</td>\n",
       "      <td>77</td>\n",
       "      <td>COLUMBIA STREET</td>\n",
       "      <td>20220509</td>\n",
       "      <td>PPN203 AOC SUB 050222 BY MIDTOWN ELEV CO INC  ...</td>\n",
       "      <td>1P27474</td>\n",
       "      <td>None</td>\n",
       "      <td>None</td>\n",
       "      <td>V*062921E9027/705433</td>\n",
       "      <td>V*-DOB VIOLATION - Resolved</td>\n",
       "      <td>E-ELEVATOR                                    ...</td>\n",
       "    </tr>\n",
       "    <tr>\n",
       "      <th>2</th>\n",
       "      <td>2347979</td>\n",
       "      <td>1</td>\n",
       "      <td>1083846</td>\n",
       "      <td>01130</td>\n",
       "      <td>00001</td>\n",
       "      <td>20190423</td>\n",
       "      <td>E</td>\n",
       "      <td>9028/648125</td>\n",
       "      <td>200</td>\n",
       "      <td>CENTRAL PARK WEST</td>\n",
       "      <td>20220509</td>\n",
       "      <td>PPN203 AOC SUBMITTED ON 050522 BY CENTENNIAL E...</td>\n",
       "      <td>1P40861</td>\n",
       "      <td>None</td>\n",
       "      <td>None</td>\n",
       "      <td>V*042319E9028/648125</td>\n",
       "      <td>V*-DOB VIOLATION - Resolved</td>\n",
       "      <td>E-ELEVATOR                                    ...</td>\n",
       "    </tr>\n",
       "    <tr>\n",
       "      <th>3</th>\n",
       "      <td>2566336</td>\n",
       "      <td>1</td>\n",
       "      <td>1057155</td>\n",
       "      <td>01889</td>\n",
       "      <td>07502</td>\n",
       "      <td>20211123</td>\n",
       "      <td>E</td>\n",
       "      <td>9028/710097</td>\n",
       "      <td>845</td>\n",
       "      <td>WEST END AVE</td>\n",
       "      <td>20220509</td>\n",
       "      <td>PPN203 AOC SUB 050322 BY BP ELEV CO           ...</td>\n",
       "      <td>1P14972</td>\n",
       "      <td>None</td>\n",
       "      <td>None</td>\n",
       "      <td>V*112321E9028/710097</td>\n",
       "      <td>V*-DOB VIOLATION - Resolved</td>\n",
       "      <td>E-ELEVATOR                                    ...</td>\n",
       "    </tr>\n",
       "    <tr>\n",
       "      <th>4</th>\n",
       "      <td>2487351</td>\n",
       "      <td>1</td>\n",
       "      <td>1041456</td>\n",
       "      <td>01387</td>\n",
       "      <td>00021</td>\n",
       "      <td>20200925</td>\n",
       "      <td>E</td>\n",
       "      <td>9028/689200</td>\n",
       "      <td>31</td>\n",
       "      <td>E 72 ST</td>\n",
       "      <td>20220509</td>\n",
       "      <td>PPN203 AOC SUB 050322 BY BP ELEV CO           ...</td>\n",
       "      <td>1P10910</td>\n",
       "      <td>None</td>\n",
       "      <td>None</td>\n",
       "      <td>V*092520E9028/689200</td>\n",
       "      <td>V*-DOB VIOLATION - Resolved</td>\n",
       "      <td>E-ELEVATOR                                    ...</td>\n",
       "    </tr>\n",
       "  </tbody>\n",
       "</table>\n",
       "</div>"
      ],
      "text/plain": [
       "  ISN_DOB_BIS_VIOL BORO      BIN  BLOCK    LOT ISSUE_DATE VIOLATION_TYPE_CODE  \\\n",
       "0          2286033    1  1009713  00577  00019   20180507                   E   \n",
       "1          2533639    1  1082666  00333  00001   20210629                   E   \n",
       "2          2347979    1  1083846  01130  00001   20190423                   E   \n",
       "3          2566336    1  1057155  01889  07502   20211123                   E   \n",
       "4          2487351    1  1041456  01387  00021   20200925                   E   \n",
       "\n",
       "  VIOLATION_NUMBER HOUSE_NUMBER             STREET DISPOSITION_DATE  \\\n",
       "0      9027/627971           34       WEST 14TH ST         20220509   \n",
       "1      9027/705433           77    COLUMBIA STREET         20220509   \n",
       "2      9028/648125          200  CENTRAL PARK WEST         20220509   \n",
       "3      9028/710097          845       WEST END AVE         20220509   \n",
       "4      9028/689200           31            E 72 ST         20220509   \n",
       "\n",
       "                                DISPOSITION_COMMENTS DEVICE_NUMBER  \\\n",
       "0  PPN203 AOC SUB 050322 BY BP ELEV CO           ...       1P13420   \n",
       "1  PPN203 AOC SUB 050222 BY MIDTOWN ELEV CO INC  ...       1P27474   \n",
       "2  PPN203 AOC SUBMITTED ON 050522 BY CENTENNIAL E...       1P40861   \n",
       "3  PPN203 AOC SUB 050322 BY BP ELEV CO           ...       1P14972   \n",
       "4  PPN203 AOC SUB 050322 BY BP ELEV CO           ...       1P10910   \n",
       "\n",
       "  DESCRIPTION ECB_NUMBER                NUMBER           VIOLATION_CATEGORY  \\\n",
       "0        None       None  V*050718E9027/627971  V*-DOB VIOLATION - Resolved   \n",
       "1        None       None  V*062921E9027/705433  V*-DOB VIOLATION - Resolved   \n",
       "2        None       None  V*042319E9028/648125  V*-DOB VIOLATION - Resolved   \n",
       "3        None       None  V*112321E9028/710097  V*-DOB VIOLATION - Resolved   \n",
       "4        None       None  V*092520E9028/689200  V*-DOB VIOLATION - Resolved   \n",
       "\n",
       "                                      VIOLATION_TYPE  \n",
       "0  E-ELEVATOR                                    ...  \n",
       "1  E-ELEVATOR                                    ...  \n",
       "2  E-ELEVATOR                                    ...  \n",
       "3  E-ELEVATOR                                    ...  \n",
       "4  E-ELEVATOR                                    ...  "
      ]
     },
     "execution_count": 31,
     "metadata": {},
     "output_type": "execute_result"
    }
   ],
   "source": [
    "# Open the parquet_violations folder and get the name of a file and edit the path to the parquet file.  \n",
    "# Check for the correct file name, since the file number will change.\n",
    "parquet_file = \"parquet_violations/part-00000-e6999205-aaba-460b-8a0c-01959c0c7047-c000.snappy.parquet\"\n",
    "\n",
    "# Convert the parquet file to a Pandas DataFrame. \n",
    "part_00000_df = pd.read_parquet(parquet_file, engine='auto')\n",
    "part_00000_df.head()"
   ]
  },
  {
   "cell_type": "markdown",
   "metadata": {},
   "source": [
    "# =========================================="
   ]
  },
  {
   "cell_type": "markdown",
   "metadata": {},
   "source": [
    "### 3.02 Students Do: Practicing Parquet (15 min)"
   ]
  },
  {
   "cell_type": "markdown",
   "metadata": {},
   "source": [
    "# Practicing Parquet\n",
    "In this activity you'll practice storing data in Parquet format and executing queries on Parquet data using Spark.\n",
    "\n",
    "**Instructions:** \n",
    "1. Import the `Austin 311 Public Dataset` to a Spark DataFrame.\n",
    "2. Create a temporary view and write a SparkSQL query that gets a count of each unique name in `description`.\n",
    "    * Record the execution time of the SparkSQL query using the `time.time()` method. \n",
    "    * **Note:** You may want to run this query twice to eliminate initial load time.\n",
    "3. Write your Spark DataFrame containing Austin 311 s to parquet format.\n",
    "4. Read your parquet data into a new Spark DataFrame.\n",
    "5. Using your new parquet DataFrame, create a new temporary view and write a SparkSQL query that gets a count of each unique name in `description`.\n",
    "    * Be sure to record the execution time using the new parquet DataFrame temporary view.\n",
    "6. Compare the runtime of the parquet SparkSQL query versus the traditional Spark DataFrame query. \n",
    "## Data Source:\n",
    "[Austin 311 Public Dataset](https://data.austintexas.gov/Utilities-and-City-Services/Austin-311-Public-Data/xwdj-i9he)\n",
    "\n",
    "---"
   ]
  },
  {
   "cell_type": "code",
   "execution_count": 32,
   "metadata": {
    "colab": {
     "base_uri": "https://localhost:8080/"
    },
    "id": "s2U0y6_MtZ9I",
    "outputId": "92ebc739-9f55-4898-842f-5acd7c389a66"
   },
   "outputs": [],
   "source": [
    "# Import findspark and initialize. \n",
    "import findspark\n",
    "findspark.init()"
   ]
  },
  {
   "cell_type": "code",
   "execution_count": 33,
   "metadata": {
    "id": "KLz5M7sFpO0W"
   },
   "outputs": [],
   "source": [
    "# Import packages\n",
    "from pyspark.sql import SparkSession\n",
    "import time\n",
    "\n",
    "# Create a SparkSession\n",
    "spark = SparkSession.builder.appName(\"SparkSQL\").config(\"spark.driver.memory\", \"2g\").getOrCreate()"
   ]
  },
  {
   "cell_type": "code",
   "execution_count": 34,
   "metadata": {
    "colab": {
     "base_uri": "https://localhost:8080/"
    },
    "id": "CahJMb3cpWdW",
    "outputId": "23902de9-2e20-4437-893d-1553b2dcdc04"
   },
   "outputs": [
    {
     "name": "stdout",
     "output_type": "stream",
     "text": [
      "+----------------------+--------------------+------------------+------+--------------+--------------+--------------------+-------------+--------------------+------+--------+----------+----------------+\n",
      "|service_request_number|         description|   method_received|status|  created_date|   closed_date|            location|street_number|         street_name|  city|zip_code|    county|council_dsitrict|\n",
      "+----------------------+--------------------+------------------+------+--------------+--------------+--------------------+-------------+--------------------+------+--------+----------+----------------+\n",
      "|           19-00090956|Animal - Proper Care|             Phone|Closed| 3/14/19 15:02|11/23/20 13:41|4609 RIBBECKE AVE...|         4609|            RIBBECKE|AUSTIN|   78721|    TRAVIS|               1|\n",
      "|           20-00135805|      Tree Issue ROW|     Mobile Device|Closed|  4/7/20 19:06| 11/23/20 0:02|3521 WEST AVE, AU...|         3521|                WEST|AUSTIN|   78705|    TRAVIS|               9|\n",
      "|           20-00052942|      Pothole Repair|               Web|Closed|  2/12/20 1:55| 2/12/20 12:57|7900 E BEN WHITE ...|         7900|   BEN WHITE BLVD WB|AUSTIN|   78741|    TRAVIS|               3|\n",
      "|           19-00467964|ARR Dead Animal C...|             Phone|Closed|12/10/19 14:17| 12/11/19 9:57|7100 METROPOLIS D...|         7100|          METROPOLIS|AUSTIN|   78744|    TRAVIS|               2|\n",
      "|           19-00468033|Austin Code - Req...|             Phone|Closed|12/10/19 14:51|12/10/19 15:00|2401 GROVE BLVD, ...|         2401|               GROVE|AUSTIN|   78741|    TRAVIS|               3|\n",
      "|           20-00053025|      Tree Issue ROW|CSR - Follow On SR|Closed|  2/12/20 7:28| 2/12/20 13:52|MUELLER BLVD & AL...|         NULL|MUELLER BLVD & AL...|AUSTIN|   78723|    TRAVIS|               9|\n",
      "|           19-00468074|Austin Code - Sig...|             Phone|Closed|12/10/19 15:11|12/10/19 15:23|115 E DEAN KEETON...|          115|         DEAN KEETON|AUSTIN|   78712|    TRAVIS|               9|\n",
      "|           19-00280355|Austin Code - Req...| Spot311 Interface|Closed|  7/24/19 7:12|  7/24/19 7:21|1700 WILLOW CREEK...|         1700|        WILLOW CREEK|AUSTIN|   78741|    TRAVIS|               3|\n",
      "|           19-00351755|Austin Code - Req...|             Phone|Closed| 9/13/19 12:22| 9/13/19 12:31|8401 SEMINARY RID...|         8401|      SEMINARY RIDGE|AUSTIN|   78745|    TRAVIS|               5|\n",
      "|           19-00354934|Austin Code - Req...|             Phone|Closed|  9/16/19 9:51| 9/16/19 10:01|4720 S CONGRESS A...|         4720|            CONGRESS|AUSTIN|   78745|    TRAVIS|               3|\n",
      "|           19-00404388|         Animal Bite|             Phone|Closed|10/20/19 22:25| 11/21/19 9:23|12201 METRIC BLVD...|        12201|              METRIC|AUSTIN|   78758|    TRAVIS|               7|\n",
      "|           16-00033203|Animal Control - ...|             Phone|Closed| 2/14/16 12:01|10/24/19 12:08|4713 CLAWSON RD, ...|         4713|             CLAWSON|AUSTIN|   78745|    TRAVIS|               5|\n",
      "|           16-00067102|Animal Control - ...|             Phone|Closed| 3/24/16 15:15| 10/24/19 9:47|7515 BETHUNE AVE,...|         7515|             BETHUNE|AUSTIN|   78752|    TRAVIS|               4|\n",
      "|           16-00112695|Animal Control - ...|             Phone|Closed| 5/11/16 14:34|10/24/19 12:11|4713 CLAWSON RD, ...|         4713|             CLAWSON|AUSTIN|   78745|    TRAVIS|               5|\n",
      "|           19-00411696|Austin Code - Req...|             Phone|Closed|10/25/19 14:54|10/25/19 15:04|1401 WARRIOR LN, ...|         1401|             WARRIOR|AUSTIN|   78617|    TRAVIS|               2|\n",
      "|           19-00412473|Sign - Traffic Si...|             Phone|Closed| 10/26/19 8:47|11/21/19 11:26|BARSTOW AVE & RUX...|         NULL|BARSTOW AVE & RUX...|AUSTIN|   78749|    TRAVIS|               8|\n",
      "|           20-00037593|ARR Dead Animal C...|             Phone|Closed| 1/30/20 13:16| 1/31/20 11:39|11801 NENE DR, AU...|        11801|                NENE|AUSTIN|   78750|WILLIAMSON|               6|\n",
      "|           19-00445899|           Loose Dog|             Phone|Closed|11/21/19 14:07|11/21/19 15:47|7014 ELROY RD, AU...|         7014|               ELROY|AUSTIN|   78617|    TRAVIS|               2|\n",
      "|           19-00456919|Animal Control - ...|             Phone|Closed| 12/2/19 12:39| 12/6/19 18:44|6013 OAKCLAIRE DR...|         6013|           OAKCLAIRE|AUSTIN|   78735|    TRAVIS|               8|\n",
      "|           20-00053039|     Sidewalk Repair| Spot311 Interface|Closed|  2/12/20 7:37|  8/11/20 1:03|2616 W WILLIAM CA...|         2616|      WILLIAM CANNON|AUSTIN|   78745|    TRAVIS|               5|\n",
      "+----------------------+--------------------+------------------+------+--------------+--------------+--------------------+-------------+--------------------+------+--------+----------+----------------+\n",
      "only showing top 20 rows\n",
      "\n"
     ]
    }
   ],
   "source": [
    "# Read in data from S3 Bucket\n",
    "from pyspark import SparkFiles\n",
    "url = \"https://2u-data-curriculum-team.s3.amazonaws.com/dataviz-classroom/v1.2/22-big-data/3/Austin_311_Public_Data.csv\"\n",
    "spark.sparkContext.addFile(url)\n",
    "df = spark.read.csv(SparkFiles.get(\"Austin_311_Public_Data.csv\"), sep=\",\", header=True)\n",
    "df.show()\n"
   ]
  },
  {
   "cell_type": "code",
   "execution_count": 35,
   "metadata": {
    "colab": {
     "base_uri": "https://localhost:8080/"
    },
    "id": "T7fsnqRDqG2C",
    "outputId": "66ddcfaa-390b-420b-e76a-1af7d80e26eb"
   },
   "outputs": [
    {
     "name": "stdout",
     "output_type": "stream",
     "text": [
      "+---------------------------------------------------+--------+\n",
      "|description                                        |count(1)|\n",
      "+---------------------------------------------------+--------+\n",
      "|Tree Issue ROW/Maintenance (PW)                    |4688    |\n",
      "|Austin Code - Short Term Rental (STR) Appointment  |848     |\n",
      "|Park Maintenance - Grounds Plumbing Issues         |2690    |\n",
      "|Austin Code - Short Term Rental Complaint SR       |9865    |\n",
      "|Lane/Road Closure Notification                     |9836    |\n",
      "|ATD - Booting Complaint                            |245     |\n",
      "|Obstruction in ROW                                 |9453    |\n",
      "|Park Maintenance - Grounds Electrical Issues       |1646    |\n",
      "|Parking Machine Issue                              |10756   |\n",
      "|School Zone Flasher - Timing/Maintenance           |2956    |\n",
      "|ATD - Shared Micromobility                         |717     |\n",
      "|Residential Parking Permit Enforcement             |153     |\n",
      "|AW - Water Conservation Violation                  |58      |\n",
      "|Street Light Issue- Multiple poles/multiple streets|2052    |\n",
      "|Channels/Creeks/Drainage Easement                  |5410    |\n",
      "|Concerns in the ROW                                |6856    |\n",
      "|Pavement Failure                                   |6174    |\n",
      "|Aquatics Hotline Inquiry                           |3394    |\n",
      "|Sign - Traffic Sign Maintenance                    |11763   |\n",
      "|Public Health - Environmental Services - City      |5281    |\n",
      "+---------------------------------------------------+--------+\n",
      "only showing top 20 rows\n",
      "\n",
      "--- 3.3225834369659424 seconds ---\n"
     ]
    }
   ],
   "source": [
    "# Lets create a view with our DataFrame that counts the occurrences of the service request description of the 311 issues. \n",
    "# Record the runtime using time.time() method.\n",
    "\n",
    "df.createOrReplaceTempView('311description')\n",
    "\n",
    "start_time = time.time()\n",
    "\n",
    "spark.sql(\"\"\"select description, count(*) from 311description group by 1\"\"\").show(truncate=False)\n",
    "\n",
    "print(\"--- %s seconds ---\" % (time.time() - start_time))"
   ]
  },
  {
   "cell_type": "code",
   "execution_count": 36,
   "metadata": {
    "id": "g04Evw2jqHoK"
   },
   "outputs": [],
   "source": [
    "# Write out the data in parquet format\n",
    "df.write.parquet('parquet_descriptions',mode='overwrite')"
   ]
  },
  {
   "cell_type": "markdown",
   "metadata": {
    "id": "lYiTD19bHuV4"
   },
   "source": [
    "\n",
    "\n",
    "*   click the folder icon on the left and notice that a new folder is present with the same name as your parquet file\n",
    "*   inside of it you will find 'part_x.parquet' files\n",
    "*  these are binary files that store your compressed data in columnar format\n",
    "\n",
    "\n",
    "\n"
   ]
  },
  {
   "cell_type": "code",
   "execution_count": 37,
   "metadata": {
    "id": "2SaDjaQXqnPI"
   },
   "outputs": [],
   "source": [
    "# Read in our new parquet formatted data\n",
    "p_df=spark.read.parquet('parquet_descriptions')"
   ]
  },
  {
   "cell_type": "code",
   "execution_count": 38,
   "metadata": {
    "id": "sT7d4hu-q32d"
   },
   "outputs": [],
   "source": [
    "# A parquet formatted DataFrame has all the same methods as a row-based DataFrame\n",
    "# we can convert the DataFrame to a view.\n",
    "p_df.createOrReplaceTempView('p_descriptions')"
   ]
  },
  {
   "cell_type": "code",
   "execution_count": 39,
   "metadata": {
    "colab": {
     "base_uri": "https://localhost:8080/"
    },
    "id": "nwpUfAoeq71b",
    "outputId": "e756fe30-9679-4624-f7ba-323e1e99b877"
   },
   "outputs": [
    {
     "name": "stdout",
     "output_type": "stream",
     "text": [
      "+---------------------------------------------------+--------+\n",
      "|description                                        |count(1)|\n",
      "+---------------------------------------------------+--------+\n",
      "|Tree Issue ROW/Maintenance (PW)                    |4688    |\n",
      "|Austin Code - Short Term Rental (STR) Appointment  |848     |\n",
      "|Park Maintenance - Grounds Plumbing Issues         |2690    |\n",
      "|Austin Code - Short Term Rental Complaint SR       |9865    |\n",
      "|Lane/Road Closure Notification                     |9836    |\n",
      "|Obstruction in ROW                                 |9453    |\n",
      "|Park Maintenance - Grounds Electrical Issues       |1646    |\n",
      "|Parking Machine Issue                              |10756   |\n",
      "|School Zone Flasher - Timing/Maintenance           |2956    |\n",
      "|ATD - Shared Micromobility                         |717     |\n",
      "|Bat Complaint                                      |1074    |\n",
      "|Street Light Issue- Multiple poles/multiple streets|2052    |\n",
      "|Austin Code - Construction Ordinance SR            |125     |\n",
      "|Channels/Creeks/Drainage Easement                  |5410    |\n",
      "|Barricade Request                                  |228     |\n",
      "|Concerns in the ROW                                |6856    |\n",
      "|Pavement Failure                                   |6174    |\n",
      "|Aquatics Hotline Inquiry                           |3394    |\n",
      "|Sign - Traffic Sign Maintenance                    |11763   |\n",
      "|Public Health - Environmental Services - City      |5281    |\n",
      "+---------------------------------------------------+--------+\n",
      "only showing top 20 rows\n",
      "\n",
      "--- 1.9190688133239746 seconds ---\n"
     ]
    }
   ],
   "source": [
    "# Run the same sql as above.  (Note: Due to small datasets it IS possible that times may be very close, however this is not the case in larger sets.)\n",
    "start_time = time.time()\n",
    "spark.sql(\"\"\"select description, count(*) from p_descriptions group by 1 \"\"\").show(truncate=False)\n",
    "print(\"--- %s seconds ---\" % (time.time() - start_time))"
   ]
  },
  {
   "cell_type": "markdown",
   "metadata": {},
   "source": [
    "# =========================================="
   ]
  },
  {
   "cell_type": "markdown",
   "metadata": {},
   "source": [
    "### 3.03 Instructor Do: All the data must play its \"part\" (20 min)"
   ]
  },
  {
   "cell_type": "markdown",
   "metadata": {},
   "source": [
    "**Partition is the main unit of parallelism in Apache Spark.** In other words, without partitioning, Spark is very limited in its ability to perform tasks concurrently.\n",
    "\n",
    "The size of the partitions plays a significant role in the performance of our Spark queries.\n",
    "\n",
    "   *  Many small partitions will perform poorly, while well-distributed partitions will yield the best results.\n",
    "\n",
    " By default, the size of the partition will max out at 128MB.\n",
    "\n",
    "   * We can change this setting by altering the Spark config setting: `spark.files.maxPartitionBytes`.\n",
    "\n",
    "While Spark can partition our data automatically, ideally we want to partition our data on a well-distributed key, based on our intended usage.\n",
    "\n",
    "It is important to try to keep partitions close to the same size to avoid skew (more data in one partition)."
   ]
  },
  {
   "cell_type": "code",
   "execution_count": 40,
   "metadata": {
    "colab": {
     "base_uri": "https://localhost:8080/"
    },
    "id": "w1m9uEbLTfhq",
    "outputId": "828ccd20-c6b4-430d-c856-89de02381b3e"
   },
   "outputs": [],
   "source": [
    "# Import findspark and initialize. \n",
    "import findspark\n",
    "findspark.init()"
   ]
  },
  {
   "cell_type": "code",
   "execution_count": 41,
   "metadata": {
    "id": "wdpzXrYLTgcq"
   },
   "outputs": [],
   "source": [
    "# Import packages\n",
    "from pyspark.sql import SparkSession\n",
    "import time\n",
    "\n",
    "# Create a SparkSession\n",
    "spark = SparkSession.builder\\\n",
    "    .appName(\"SparkSQL\")\\\n",
    "    .config(\"spark.sql.debug.maxToStringFields\", 2000)\\\n",
    "    .config(\"spark.driver.memory\", \"2g\")\\\n",
    "    .getOrCreate()"
   ]
  },
  {
   "cell_type": "code",
   "execution_count": 74,
   "metadata": {
    "colab": {
     "base_uri": "https://localhost:8080/"
    },
    "id": "SyGdKF4mTguN",
    "outputId": "3ce868d5-a38b-4b39-a569-1bc58966ab2a"
   },
   "outputs": [
    {
     "name": "stdout",
     "output_type": "stream",
     "text": [
      "+---+----+-----+----------+---------+-------+----------+-------+----------+-------------+---------+-------+-----------------+--------------+-------+--------+--------+------+----+--------+------+-------+---------+----------------+--------+------------+------------+--------+-------------+-----------------+\n",
      "| id|Year|Month|DayofMonth|DayOfWeek|DepTime|CRSDepTime|ArrTime|CRSArrTime|UniqueCarrier|FlightNum|TailNum|ActualElapsedTime|CRSElapsedTime|AirTime|ArrDelay|DepDelay|Origin|Dest|Distance|TaxiIn|TaxiOut|Cancelled|CancellationCode|Diverted|CarrierDelay|WeatherDelay|NASDelay|SecurityDelay|LateAircraftDelay|\n",
      "+---+----+-----+----------+---------+-------+----------+-------+----------+-------------+---------+-------+-----------------+--------------+-------+--------+--------+------+----+--------+------+-------+---------+----------------+--------+------------+------------+--------+-------------+-----------------+\n",
      "|  0|2008|    1|         3|        4|   2003|      1955|   2211|      2225|           WN|      335| N712SW|              128|           150|    116|     -14|       8|   IAD| TPA|     810|     4|      8|        0|               N|       0|        NULL|        NULL|    NULL|         NULL|             NULL|\n",
      "|  1|2008|    1|         3|        4|    754|       735|   1002|      1000|           WN|     3231| N772SW|              128|           145|    113|       2|      19|   IAD| TPA|     810|     5|     10|        0|               N|       0|        NULL|        NULL|    NULL|         NULL|             NULL|\n",
      "|  2|2008|    1|         3|        4|    628|       620|    804|       750|           WN|      448| N428WN|               96|            90|     76|      14|       8|   IND| BWI|     515|     3|     17|        0|               N|       0|        NULL|        NULL|    NULL|         NULL|             NULL|\n",
      "|  4|2008|    1|         3|        4|   1829|      1755|   1959|      1925|           WN|     3920| N464WN|               90|            90|     77|      34|      34|   IND| BWI|     515|     3|     10|        0|               N|       0|           2|           0|       0|            0|               32|\n",
      "|  5|2008|    1|         3|        4|   1940|      1915|   2121|      2110|           WN|      378| N726SW|              101|           115|     87|      11|      25|   IND| JAX|     688|     4|     10|        0|               N|       0|        NULL|        NULL|    NULL|         NULL|             NULL|\n",
      "|  6|2008|    1|         3|        4|   1937|      1830|   2037|      1940|           WN|      509| N763SW|              240|           250|    230|      57|      67|   IND| LAS|    1591|     3|      7|        0|               N|       0|          10|           0|       0|            0|               47|\n",
      "| 10|2008|    1|         3|        4|    706|       700|    916|       915|           WN|      100| N690SW|              130|           135|    106|       1|       6|   IND| MCO|     828|     5|     19|        0|               N|       0|        NULL|        NULL|    NULL|         NULL|             NULL|\n",
      "| 11|2008|    1|         3|        4|   1644|      1510|   1845|      1725|           WN|     1333| N334SW|              121|           135|    107|      80|      94|   IND| MCO|     828|     6|      8|        0|               N|       0|           8|           0|       0|            0|               72|\n",
      "| 15|2008|    1|         3|        4|   1029|      1020|   1021|      1010|           WN|     2272| N263WN|               52|            50|     37|      11|       9|   IND| MDW|     162|     6|      9|        0|               N|       0|        NULL|        NULL|    NULL|         NULL|             NULL|\n",
      "| 16|2008|    1|         3|        4|   1452|      1425|   1640|      1625|           WN|      675| N286WN|              228|           240|    213|      15|      27|   IND| PHX|    1489|     7|      8|        0|               N|       0|           3|           0|       0|            0|               12|\n",
      "| 17|2008|    1|         3|        4|    754|       745|    940|       955|           WN|     1144| N778SW|              226|           250|    205|     -15|       9|   IND| PHX|    1489|     5|     16|        0|               N|       0|        NULL|        NULL|    NULL|         NULL|             NULL|\n",
      "| 18|2008|    1|         3|        4|   1323|      1255|   1526|      1510|           WN|        4| N674AA|              123|           135|    110|      16|      28|   IND| TPA|     838|     4|      9|        0|               N|       0|           0|           0|       0|            0|               16|\n",
      "| 19|2008|    1|         3|        4|   1416|      1325|   1512|      1435|           WN|       54| N643SW|               56|            70|     49|      37|      51|   ISP| BWI|     220|     2|      5|        0|               N|       0|          12|           0|       0|            0|               25|\n",
      "| 21|2008|    1|         3|        4|   1657|      1625|   1754|      1735|           WN|      623| N724SW|               57|            70|     47|      19|      32|   ISP| BWI|     220|     5|      5|        0|               N|       0|           7|           0|       0|            0|               12|\n",
      "| 22|2008|    1|         3|        4|   1900|      1840|   1956|      1950|           WN|      717| N786SW|               56|            70|     49|       6|      20|   ISP| BWI|     220|     2|      5|        0|               N|       0|        NULL|        NULL|    NULL|         NULL|             NULL|\n",
      "| 23|2008|    1|         3|        4|   1039|      1030|   1133|      1140|           WN|     1244| N714CB|               54|            70|     47|      -7|       9|   ISP| BWI|     220|     2|      5|        0|               N|       0|        NULL|        NULL|    NULL|         NULL|             NULL|\n",
      "| 25|2008|    1|         3|        4|   1520|      1455|   1619|      1605|           WN|     2553| N394SW|               59|            70|     50|      14|      25|   ISP| BWI|     220|     2|      7|        0|               N|       0|        NULL|        NULL|    NULL|         NULL|             NULL|\n",
      "| 26|2008|    1|         3|        4|   1422|      1255|   1657|      1610|           WN|      188| N215WN|              155|           195|    143|      47|      87|   ISP| FLL|    1093|     6|      6|        0|               N|       0|          40|           0|       0|            0|                7|\n",
      "| 27|2008|    1|         3|        4|   1954|      1925|   2239|      2235|           WN|     1754| N243WN|              165|           190|    155|       4|      29|   ISP| FLL|    1093|     3|      7|        0|               N|       0|        NULL|        NULL|    NULL|         NULL|             NULL|\n",
      "| 30|2008|    1|         3|        4|   2107|      1945|   2334|      2230|           WN|      362| N798SW|              147|           165|    134|      64|      82|   ISP| MCO|     972|     6|      7|        0|               N|       0|           5|           0|       0|            0|               59|\n",
      "+---+----+-----+----------+---------+-------+----------+-------+----------+-------------+---------+-------+-----------------+--------------+-------+--------+--------+------+----+--------+------+-------+---------+----------------+--------+------------+------------+--------+-------------+-----------------+\n",
      "only showing top 20 rows\n",
      "\n"
     ]
    }
   ],
   "source": [
    "# Read in data from S3 Bucket\n",
    "from pyspark import SparkFiles\n",
    "url = \"https://2u-data-curriculum-team.s3.amazonaws.com/dataviz-classroom/v1.2/22-big-data/3/DelayedFlights.csv\"\n",
    "spark.sparkContext.addFile(url)\n",
    "df = spark.read.csv(SparkFiles.get(\"DelayedFlights.csv\"), sep=\",\", header=True)\n",
    "df.show()"
   ]
  },
  {
   "cell_type": "code",
   "execution_count": 75,
   "metadata": {
    "id": "HpggJrEFzX1K"
   },
   "outputs": [],
   "source": [
    "# Create a temporary view\n",
    "df.createOrReplaceTempView('delays')"
   ]
  },
  {
   "cell_type": "code",
   "execution_count": 76,
   "metadata": {
    "colab": {
     "base_uri": "https://localhost:8080/"
    },
    "id": "daHsHUbSTzaj",
    "outputId": "e8dff404-644c-402e-b702-b1ebd8bbfa5b"
   },
   "outputs": [
    {
     "name": "stdout",
     "output_type": "stream",
     "text": [
      "+-------------+-------------------+--------+\n",
      "|UniqueCarrier|sum(CRSElapsedTime)|count(1)|\n",
      "+-------------+-------------------+--------+\n",
      "|           OO|          6883377.0|   73680|\n",
      "|           YV|          3216400.0|   34890|\n",
      "|           OH|          3318613.0|   29152|\n",
      "|           XE|          7386620.0|   62539|\n",
      "|           WN|        2.4182455E7|  214624|\n",
      "|           UA|        1.3998834E7|   82022|\n",
      "|           EV|          4284049.0|   42782|\n",
      "|           DL|          8245701.0|   48888|\n",
      "|           F9|          2338358.0|   16006|\n",
      "|           US|          8759953.0|   53873|\n",
      "|           AA|        1.7721836E7|  103120|\n",
      "|           NW|          6761017.0|   48410|\n",
      "|           AQ|            99698.0|     750|\n",
      "|           MQ|          7710479.0|   82505|\n",
      "|           HA|           345580.0|    2597|\n",
      "|           AS|          2527656.0|   16553|\n",
      "|           FL|          4807695.0|   37201|\n",
      "|           9E|          3255692.0|   31833|\n",
      "|           B6|          4169064.0|   22868|\n",
      "|           CO|          8693653.0|   44282|\n",
      "+-------------+-------------------+--------+\n",
      "\n",
      "--- 6.193674802780151 seconds ---\n"
     ]
    }
   ],
   "source": [
    "# Run a sql query that groups the data on UniqueCarrier\n",
    "# note the time functions will track the time it takes to load and run the data\n",
    "# we are only interested in the time it take to run so run this cell twice.\n",
    "start_time = time.time()\n",
    "\n",
    "spark.sql(\"\"\"select UniqueCarrier,sum(CRSElapsedTime), count(*) from delays group by 1\"\"\").show()\n",
    "\n",
    "print(\"--- %s seconds ---\" % (time.time() - start_time))"
   ]
  },
  {
   "cell_type": "code",
   "execution_count": 77,
   "metadata": {
    "id": "EVQQPzgiUgTg"
   },
   "outputs": [],
   "source": [
    "# Write out the data in parquet format\n",
    "df.write.parquet('parquet_delayed', mode='overwrite')"
   ]
  },
  {
   "cell_type": "code",
   "execution_count": 78,
   "metadata": {
    "id": "1fjWZBkMUuIQ"
   },
   "outputs": [],
   "source": [
    "# Read in our new parquet formatted data\n",
    "p_df=spark.read.parquet('parquet_delayed')"
   ]
  },
  {
   "cell_type": "code",
   "execution_count": 79,
   "metadata": {
    "id": "O9Vj-1tAVMxZ"
   },
   "outputs": [],
   "source": [
    "# A parquet formatted DataFrame has all the same methods as a row-based dataframe\n",
    "# We can convert the dataframe to a view.\n",
    "p_df.createOrReplaceTempView('p_delays')"
   ]
  },
  {
   "cell_type": "code",
   "execution_count": 80,
   "metadata": {
    "colab": {
     "base_uri": "https://localhost:8080/"
    },
    "id": "W1upPNu4VFnm",
    "outputId": "225dd903-e8be-4818-90ba-30c443f2c4ec"
   },
   "outputs": [
    {
     "name": "stdout",
     "output_type": "stream",
     "text": [
      "+-------------+--------+\n",
      "|UniqueCarrier|count(1)|\n",
      "+-------------+--------+\n",
      "|           UA|   82022|\n",
      "|           NW|   48410|\n",
      "|           OO|   73680|\n",
      "|           YV|   34890|\n",
      "|           US|   53873|\n",
      "|           OH|   29152|\n",
      "|           XE|   62539|\n",
      "|           EV|   42782|\n",
      "|           DL|   48888|\n",
      "|           WN|  214624|\n",
      "|           F9|   16006|\n",
      "|           B6|   22868|\n",
      "|           AS|   16553|\n",
      "|           CO|   44282|\n",
      "|           FL|   37201|\n",
      "|           AA|  103120|\n",
      "|           MQ|   82505|\n",
      "|           HA|    2597|\n",
      "|           9E|   31833|\n",
      "|           AQ|     750|\n",
      "+-------------+--------+\n",
      "\n",
      "--- 5.75992226600647 seconds ---\n"
     ]
    }
   ],
   "source": [
    "start_time = time.time()\n",
    "\n",
    "spark.sql(\"\"\"select UniqueCarrier, count(*) from p_delays group by 1\"\"\").show()\n",
    "\n",
    "print(\"--- %s seconds ---\" % (time.time() - start_time))"
   ]
  },
  {
   "cell_type": "code",
   "execution_count": 93,
   "metadata": {
    "colab": {
     "base_uri": "https://localhost:8080/"
    },
    "id": "1_gD0-7QW7Sm",
    "outputId": "6b92c266-54de-4fe1-f420-813d1ffb0199"
   },
   "outputs": [
    {
     "name": "stdout",
     "output_type": "stream",
     "text": [
      "+--------+\n",
      "|count(1)|\n",
      "+--------+\n",
      "|   82022|\n",
      "+--------+\n",
      "\n",
      "--- 0.549628496170044 seconds ---\n"
     ]
    }
   ],
   "source": [
    "# Here is another sample\n",
    "start_time = time.time()\n",
    "\n",
    "# spark.sql(\"\"\"select UniqueCarrier,sum(CRSElapsedTime), count(*) from p_delays group by 1\"\"\").show()\n",
    "spark.sql(\"\"\"select count(*) from p_delays WHERE UniqueCarrier='UA'\"\"\").show()\n",
    "\n",
    "print(\"--- %s seconds ---\" % (time.time() - start_time))"
   ]
  },
  {
   "cell_type": "code",
   "execution_count": 82,
   "metadata": {
    "id": "RxtycEtOVQrZ"
   },
   "outputs": [],
   "source": [
    "# Partition our data by UniqueCarrier\n",
    "df.write.partitionBy(\"UniqueCarrier\").mode(\"overwrite\").parquet(\"delayed_partitioned\")"
   ]
  },
  {
   "cell_type": "code",
   "execution_count": 83,
   "metadata": {
    "id": "TMpsNLamXM9N"
   },
   "outputs": [],
   "source": [
    "# Read in our new parquet formatted data\n",
    "p_df_p=spark.read.parquet('delayed_partitioned')"
   ]
  },
  {
   "cell_type": "code",
   "execution_count": 84,
   "metadata": {
    "id": "KX3wglAtWEbI"
   },
   "outputs": [],
   "source": [
    "# Convert the DataFrame to a view.\n",
    "p_df_p.createOrReplaceTempView('p_delays_p')"
   ]
  },
  {
   "cell_type": "code",
   "execution_count": 91,
   "metadata": {
    "colab": {
     "base_uri": "https://localhost:8080/"
    },
    "id": "LOR5HfhRVzmG",
    "outputId": "12a27bce-605a-4356-b4da-5c6ec1cb39b6"
   },
   "outputs": [
    {
     "name": "stdout",
     "output_type": "stream",
     "text": [
      "+--------+\n",
      "|count(1)|\n",
      "+--------+\n",
      "|   82022|\n",
      "+--------+\n",
      "\n",
      "--- 0.7977452278137207 seconds ---\n"
     ]
    }
   ],
   "source": [
    "# Query the partitioned data on the Partition key.\n",
    "start_time = time.time()\n",
    "\n",
    "# spark.sql(\"\"\"select UniqueCarrier, count(*) from p_delays_p group by 1\"\"\").show()\n",
    "spark.sql(\"\"\"select count(*) from p_delays_p WHERE UniqueCarrier='UA'\"\"\").show()\n",
    "\n",
    "print(\"--- %s seconds ---\" % (time.time() - start_time))"
   ]
  },
  {
   "cell_type": "code",
   "execution_count": 92,
   "metadata": {
    "colab": {
     "base_uri": "https://localhost:8080/"
    },
    "id": "SCGlK9xOXd6_",
    "outputId": "df80abef-4da0-45b0-d45c-bd15e88e12fc"
   },
   "outputs": [
    {
     "name": "stdout",
     "output_type": "stream",
     "text": [
      "+-------------------+\n",
      "|sum(CRSElapsedTime)|\n",
      "+-------------------+\n",
      "|        1.3998834E7|\n",
      "+-------------------+\n",
      "\n",
      "--- 0.6959357261657715 seconds ---\n"
     ]
    }
   ],
   "source": [
    "# Grouping by partition key and aggregating data.\n",
    "start_time = time.time()\n",
    "\n",
    "# spark.sql(\"\"\"select UniqueCarrier,sum(CRSElapsedTime) from p_delays_p group by 1\"\"\").show()\n",
    "spark.sql(\"\"\"select sum(CRSElapsedTime) from p_delays_p WHERE UniqueCarrier='UA'\"\"\").show()\n",
    "\n",
    "print(\"--- %s seconds ---\" % (time.time() - start_time))"
   ]
  },
  {
   "cell_type": "code",
   "execution_count": 94,
   "metadata": {
    "colab": {
     "base_uri": "https://localhost:8080/"
    },
    "id": "bvYRnpLGWJ_-",
    "outputId": "c0b36093-0f2a-4e51-d5ad-664d5064d097"
   },
   "outputs": [
    {
     "name": "stdout",
     "output_type": "stream",
     "text": [
      "+-------------+-------------+\n",
      "|UniqueCarrier|total_delayed|\n",
      "+-------------+-------------+\n",
      "|           US|    2077273.0|\n",
      "+-------------+-------------+\n",
      "\n",
      "--- 0.5311038494110107 seconds ---\n"
     ]
    }
   ],
   "source": [
    "# Another query filtering on the key.\n",
    "start_time = time.time()\n",
    "spark.sql(\"\"\"Select UniqueCarrier, sum(DepDelay) as total_delayed from p_delays_p where UniqueCarrier='US' group by 1\"\"\").show()\n",
    "print(\"--- %s seconds ---\" % (time.time() - start_time))"
   ]
  },
  {
   "cell_type": "code",
   "execution_count": 95,
   "metadata": {
    "colab": {
     "base_uri": "https://localhost:8080/"
    },
    "id": "KoDXPqfaWmsd",
    "outputId": "12dc98c1-18e3-4164-d7c3-a393d5a3499c"
   },
   "outputs": [
    {
     "name": "stdout",
     "output_type": "stream",
     "text": [
      "+-------------+-------------+\n",
      "|UniqueCarrier|total_delayed|\n",
      "+-------------+-------------+\n",
      "|           US|    2077273.0|\n",
      "+-------------+-------------+\n",
      "\n",
      "--- 0.5035645961761475 seconds ---\n"
     ]
    }
   ],
   "source": [
    "# Same query as above against the parquet (non-partitioned) data.\n",
    "start_time = time.time()\n",
    "spark.sql(\"\"\"Select UniqueCarrier, sum(DepDelay) as total_delayed from p_delays where UniqueCarrier='US' group by 1\"\"\").show()\n",
    "print(\"--- %s seconds ---\" % (time.time() - start_time))"
   ]
  },
  {
   "cell_type": "code",
   "execution_count": 96,
   "metadata": {
    "colab": {
     "base_uri": "https://localhost:8080/"
    },
    "id": "w1LbeemvWsRa",
    "outputId": "2037bd17-368f-4f13-850a-5fea354b57cb"
   },
   "outputs": [
    {
     "name": "stdout",
     "output_type": "stream",
     "text": [
      "+-------------+-------+\n",
      "|UniqueCarrier|TailNum|\n",
      "+-------------+-------+\n",
      "|           WN| N712SW|\n",
      "+-------------+-------+\n",
      "\n",
      "--- 0.536790132522583 seconds ---\n"
     ]
    }
   ],
   "source": [
    "# Here is a query that doesn't use the partition key at all (against the parquet data)\n",
    "start_time = time.time()\n",
    "spark.sql(\"\"\"Select distinct UniqueCarrier, TailNum from p_delays where TailNum='N712SW' \"\"\").show()\n",
    "print(\"--- %s seconds ---\" % (time.time() - start_time))"
   ]
  },
  {
   "cell_type": "code",
   "execution_count": 97,
   "metadata": {
    "colab": {
     "base_uri": "https://localhost:8080/"
    },
    "id": "e3wGOJK3Xrnu",
    "outputId": "cd9e090c-a449-43fb-ead2-7a4785f1c4d8"
   },
   "outputs": [
    {
     "name": "stdout",
     "output_type": "stream",
     "text": [
      "+-------------+-------+\n",
      "|UniqueCarrier|TailNum|\n",
      "+-------------+-------+\n",
      "|           WN| N712SW|\n",
      "+-------------+-------+\n",
      "\n",
      "--- 0.825035810470581 seconds ---\n"
     ]
    }
   ],
   "source": [
    "# Here is a query that doesn't use the partition key at all (against the partitioned parquet data)\n",
    "start_time = time.time()\n",
    "spark.sql(\"\"\"Select distinct UniqueCarrier, TailNum from p_delays_p where TailNum='N712SW' \"\"\").show()\n",
    "print(\"--- %s seconds ---\" % (time.time() - start_time))"
   ]
  },
  {
   "cell_type": "markdown",
   "metadata": {},
   "source": [
    "# =========================================="
   ]
  },
  {
   "cell_type": "markdown",
   "metadata": {},
   "source": [
    "### 3.04 Students Do: Writing to Parquet (15 min)"
   ]
  },
  {
   "cell_type": "markdown",
   "metadata": {},
   "source": [
    "In this activity, you'll determine the differences in query execution time between a temporary view of an original Spark DataFrame, a parquet DataFrame, and a partitioned-parquet Spark DataFrame.\n",
    "\n",
    "**Instructions:**\n",
    "1. Using the starter code provided, start a Spark session, and then import the `DelayedFlights.csv` file to a Spark DataFrame.\n",
    "2. Create a temp view of your Spark DataFrame, and create a SparkSQL query that determines the total distance and flight count for each unique “Origin” and “Dest” combination.\n",
    "    * Record the execution time of the SparkSQL query using the `time.time()` method.\n",
    "    * **Note:** You may want to run this query twice to eliminate initial load time.\n",
    "3. Save your DataFrame in parquet format, and reload the dataset into a new Spark DataFrame.\n",
    "4. Create a new temp view from the parquet Spark DataFrame, and rerun the SparkSQL query that determines the total distance and flight count for each unique “Origin” and “Dest” combination.\n",
    "    * Record the execution time of the SparkSQL query using the `time.time()` method.\n",
    "5. Now, save your original Spark DataFrame again, but this time, save it in parquet format, using Origin as the column to partition by.\n",
    "6. Reload your partitioned parquet dataset into a new Spark DataFrame.\n",
    "7. Create another new temp view from the partitioned parquet Spark DataFrame, and rerun the SparkSQL query that determines the total distance and flight count for each unique Origin and Dest combination.\n",
    "    * Record the execution time of the SparkSQL query using the `time.time()` method.\n",
    "8. Compare the performance of all three SparkSQL queries based upon the underlying data format.\n",
    "     * Did the partitioned parquet format perform better or worse than the non-partitioned format? Why or why not?\n",
    "9. Try creating a SparkSQL query that filters the partitioned data where `TailNum='N712SW'`. Show the results for the Origin and TailNum fields.\n",
    "    * Record the execution time of the SparkSQL query using the `time.time()` method.\n",
    "    * **Note:** This query tries to filter on your partitioned Origin column.\n",
    "10. Create a new SparkSQL query that filters the partitioned data where `TailNum='N712SW'`. Show the results for the Dest and TailNum fields.\n",
    "    * Record the execution time of the SparkSQL query using the `time.time()` method.\n",
    "    * **Note:** This query does not filter on your partitioned Origin column.\n",
    "11. Compare the performance of your filter queries from a partitioned versus non-partitioned dataset.\n",
    "## Data Source:\n",
    "\n",
    "[Airlines Delay](https://www.kaggle.com/datasets/giovamata/airlinedelaycauses)\n",
    "\n",
    "---"
   ]
  },
  {
   "cell_type": "code",
   "execution_count": 59,
   "metadata": {
    "colab": {
     "base_uri": "https://localhost:8080/"
    },
    "id": "w1m9uEbLTfhq",
    "outputId": "9f64db53-e961-4c38-9705-8921d895d682"
   },
   "outputs": [],
   "source": [
    "# Import findspark and initialize. \n",
    "import findspark\n",
    "findspark.init()"
   ]
  },
  {
   "cell_type": "code",
   "execution_count": 60,
   "metadata": {
    "id": "wdpzXrYLTgcq"
   },
   "outputs": [],
   "source": [
    "# Import packages\n",
    "from pyspark.sql import SparkSession\n",
    "import time\n",
    "\n",
    "# Create a SparkSession\n",
    "spark = SparkSession.builder\\\n",
    "    .appName(\"SparkSQL\")\\\n",
    "    .config(\"spark.sql.debug.maxToStringFields\", 2000)\\\n",
    "    .config(\"spark.driver.memory\", \"2g\")\\\n",
    "    .getOrCreate()"
   ]
  },
  {
   "cell_type": "code",
   "execution_count": 61,
   "metadata": {
    "colab": {
     "base_uri": "https://localhost:8080/"
    },
    "id": "SyGdKF4mTguN",
    "outputId": "f7cb05ec-19b3-4215-8283-5b770230f08e"
   },
   "outputs": [
    {
     "name": "stdout",
     "output_type": "stream",
     "text": [
      "+---+----+-----+----------+---------+-------+----------+-------+----------+-------------+---------+-------+-----------------+--------------+-------+--------+--------+------+----+--------+------+-------+---------+----------------+--------+------------+------------+--------+-------------+-----------------+\n",
      "| id|Year|Month|DayofMonth|DayOfWeek|DepTime|CRSDepTime|ArrTime|CRSArrTime|UniqueCarrier|FlightNum|TailNum|ActualElapsedTime|CRSElapsedTime|AirTime|ArrDelay|DepDelay|Origin|Dest|Distance|TaxiIn|TaxiOut|Cancelled|CancellationCode|Diverted|CarrierDelay|WeatherDelay|NASDelay|SecurityDelay|LateAircraftDelay|\n",
      "+---+----+-----+----------+---------+-------+----------+-------+----------+-------------+---------+-------+-----------------+--------------+-------+--------+--------+------+----+--------+------+-------+---------+----------------+--------+------------+------------+--------+-------------+-----------------+\n",
      "|  0|2008|    1|         3|        4|   2003|      1955|   2211|      2225|           WN|      335| N712SW|              128|           150|    116|     -14|       8|   IAD| TPA|     810|     4|      8|        0|               N|       0|        NULL|        NULL|    NULL|         NULL|             NULL|\n",
      "|  1|2008|    1|         3|        4|    754|       735|   1002|      1000|           WN|     3231| N772SW|              128|           145|    113|       2|      19|   IAD| TPA|     810|     5|     10|        0|               N|       0|        NULL|        NULL|    NULL|         NULL|             NULL|\n",
      "|  2|2008|    1|         3|        4|    628|       620|    804|       750|           WN|      448| N428WN|               96|            90|     76|      14|       8|   IND| BWI|     515|     3|     17|        0|               N|       0|        NULL|        NULL|    NULL|         NULL|             NULL|\n",
      "|  4|2008|    1|         3|        4|   1829|      1755|   1959|      1925|           WN|     3920| N464WN|               90|            90|     77|      34|      34|   IND| BWI|     515|     3|     10|        0|               N|       0|           2|           0|       0|            0|               32|\n",
      "|  5|2008|    1|         3|        4|   1940|      1915|   2121|      2110|           WN|      378| N726SW|              101|           115|     87|      11|      25|   IND| JAX|     688|     4|     10|        0|               N|       0|        NULL|        NULL|    NULL|         NULL|             NULL|\n",
      "|  6|2008|    1|         3|        4|   1937|      1830|   2037|      1940|           WN|      509| N763SW|              240|           250|    230|      57|      67|   IND| LAS|    1591|     3|      7|        0|               N|       0|          10|           0|       0|            0|               47|\n",
      "| 10|2008|    1|         3|        4|    706|       700|    916|       915|           WN|      100| N690SW|              130|           135|    106|       1|       6|   IND| MCO|     828|     5|     19|        0|               N|       0|        NULL|        NULL|    NULL|         NULL|             NULL|\n",
      "| 11|2008|    1|         3|        4|   1644|      1510|   1845|      1725|           WN|     1333| N334SW|              121|           135|    107|      80|      94|   IND| MCO|     828|     6|      8|        0|               N|       0|           8|           0|       0|            0|               72|\n",
      "| 15|2008|    1|         3|        4|   1029|      1020|   1021|      1010|           WN|     2272| N263WN|               52|            50|     37|      11|       9|   IND| MDW|     162|     6|      9|        0|               N|       0|        NULL|        NULL|    NULL|         NULL|             NULL|\n",
      "| 16|2008|    1|         3|        4|   1452|      1425|   1640|      1625|           WN|      675| N286WN|              228|           240|    213|      15|      27|   IND| PHX|    1489|     7|      8|        0|               N|       0|           3|           0|       0|            0|               12|\n",
      "| 17|2008|    1|         3|        4|    754|       745|    940|       955|           WN|     1144| N778SW|              226|           250|    205|     -15|       9|   IND| PHX|    1489|     5|     16|        0|               N|       0|        NULL|        NULL|    NULL|         NULL|             NULL|\n",
      "| 18|2008|    1|         3|        4|   1323|      1255|   1526|      1510|           WN|        4| N674AA|              123|           135|    110|      16|      28|   IND| TPA|     838|     4|      9|        0|               N|       0|           0|           0|       0|            0|               16|\n",
      "| 19|2008|    1|         3|        4|   1416|      1325|   1512|      1435|           WN|       54| N643SW|               56|            70|     49|      37|      51|   ISP| BWI|     220|     2|      5|        0|               N|       0|          12|           0|       0|            0|               25|\n",
      "| 21|2008|    1|         3|        4|   1657|      1625|   1754|      1735|           WN|      623| N724SW|               57|            70|     47|      19|      32|   ISP| BWI|     220|     5|      5|        0|               N|       0|           7|           0|       0|            0|               12|\n",
      "| 22|2008|    1|         3|        4|   1900|      1840|   1956|      1950|           WN|      717| N786SW|               56|            70|     49|       6|      20|   ISP| BWI|     220|     2|      5|        0|               N|       0|        NULL|        NULL|    NULL|         NULL|             NULL|\n",
      "| 23|2008|    1|         3|        4|   1039|      1030|   1133|      1140|           WN|     1244| N714CB|               54|            70|     47|      -7|       9|   ISP| BWI|     220|     2|      5|        0|               N|       0|        NULL|        NULL|    NULL|         NULL|             NULL|\n",
      "| 25|2008|    1|         3|        4|   1520|      1455|   1619|      1605|           WN|     2553| N394SW|               59|            70|     50|      14|      25|   ISP| BWI|     220|     2|      7|        0|               N|       0|        NULL|        NULL|    NULL|         NULL|             NULL|\n",
      "| 26|2008|    1|         3|        4|   1422|      1255|   1657|      1610|           WN|      188| N215WN|              155|           195|    143|      47|      87|   ISP| FLL|    1093|     6|      6|        0|               N|       0|          40|           0|       0|            0|                7|\n",
      "| 27|2008|    1|         3|        4|   1954|      1925|   2239|      2235|           WN|     1754| N243WN|              165|           190|    155|       4|      29|   ISP| FLL|    1093|     3|      7|        0|               N|       0|        NULL|        NULL|    NULL|         NULL|             NULL|\n",
      "| 30|2008|    1|         3|        4|   2107|      1945|   2334|      2230|           WN|      362| N798SW|              147|           165|    134|      64|      82|   ISP| MCO|     972|     6|      7|        0|               N|       0|           5|           0|       0|            0|               59|\n",
      "+---+----+-----+----------+---------+-------+----------+-------+----------+-------------+---------+-------+-----------------+--------------+-------+--------+--------+------+----+--------+------+-------+---------+----------------+--------+------------+------------+--------+-------------+-----------------+\n",
      "only showing top 20 rows\n",
      "\n"
     ]
    }
   ],
   "source": [
    "# Read in data from S3 Bucket\n",
    "from pyspark import SparkFiles\n",
    "url = \"https://2u-data-curriculum-team.s3.amazonaws.com/dataviz-classroom/v1.2/22-big-data/3/DelayedFlights.csv\"\n",
    "spark.sparkContext.addFile(url)\n",
    "df = spark.read.csv(SparkFiles.get(\"DelayedFlights.csv\"), sep=\",\", header=True)\n",
    "df.show()"
   ]
  },
  {
   "cell_type": "code",
   "execution_count": 62,
   "metadata": {
    "colab": {
     "base_uri": "https://localhost:8080/"
    },
    "id": "daHsHUbSTzaj",
    "outputId": "6a846ad7-d0e3-4eb2-b9a1-0fbc9bb9bcd2"
   },
   "outputs": [
    {
     "name": "stdout",
     "output_type": "stream",
     "text": [
      "+------+----+-------------+--------+\n",
      "|Origin|Dest|sum(Distance)|count(1)|\n",
      "+------+----+-------------+--------+\n",
      "|   LAS| LIT|      72520.0|      56|\n",
      "|   PHL| MCO|     986706.0|    1146|\n",
      "|   SMF| BUR|     178284.0|     498|\n",
      "|   SNA| PHX|     218010.0|     645|\n",
      "|   MCI| IAH|     156249.0|     243|\n",
      "|   BFL| SAN|       4515.0|      21|\n",
      "|   ROC| CLE|      39935.0|     163|\n",
      "|   SPI| ORD|      34104.0|     196|\n",
      "|   ATL| GSP|      54621.0|     357|\n",
      "|   SFO| PMD|      26860.0|      85|\n",
      "|   LAX| OXR|       6958.0|     142|\n",
      "|   SJC| ONT|     145521.0|     437|\n",
      "|   AUS| ELP|     112992.0|     214|\n",
      "|   ICT| IAH|      97560.0|     180|\n",
      "|   CLE| MCI|     129084.0|     186|\n",
      "|   CPR| DEN|      31510.0|     137|\n",
      "|   CVG| BDL|     109065.0|     165|\n",
      "|   TPA| CVG|      90441.0|     117|\n",
      "|   JFK| ORD|     494320.0|     668|\n",
      "|   SFO| TUS|      51068.0|      68|\n",
      "+------+----+-------------+--------+\n",
      "only showing top 20 rows\n",
      "\n",
      "--- 4.374485015869141 seconds ---\n"
     ]
    }
   ],
   "source": [
    "# Create temp view named \"delays\"\n",
    "df.createOrReplaceTempView('delays')\n",
    "\n",
    "# Start the runtime\n",
    "start_time = time.time()\n",
    "\n",
    "# Using spark.sql write a query that gives you the total distance \n",
    "# and the count of every unique Origin, Dest combination.\n",
    "spark.sql(\"\"\"select Origin, Dest ,sum(Distance), count(*) from delays group by 1,2\"\"\").show()\n",
    "\n",
    "# Print out the runtime.\n",
    "print(\"--- %s seconds ---\" % (time.time() - start_time))"
   ]
  },
  {
   "cell_type": "code",
   "execution_count": 63,
   "metadata": {
    "id": "EVQQPzgiUgTg"
   },
   "outputs": [],
   "source": [
    "# Write out the data in parquet format\n",
    "df.write.parquet('parquet_delay_basic', mode='overwrite')"
   ]
  },
  {
   "cell_type": "code",
   "execution_count": 64,
   "metadata": {
    "id": "1fjWZBkMUuIQ"
   },
   "outputs": [],
   "source": [
    "# Read in our new parquet formatted data\n",
    "p_df=spark.read.parquet('parquet_delay_basic')"
   ]
  },
  {
   "cell_type": "code",
   "execution_count": 65,
   "metadata": {
    "id": "O9Vj-1tAVMxZ"
   },
   "outputs": [],
   "source": [
    "# Convert the DataFrame to a view.\n",
    "p_df.createOrReplaceTempView('p_delays')"
   ]
  },
  {
   "cell_type": "code",
   "execution_count": 66,
   "metadata": {
    "colab": {
     "base_uri": "https://localhost:8080/"
    },
    "id": "W1upPNu4VFnm",
    "outputId": "057ad222-d456-417a-b289-3fde6ec04229"
   },
   "outputs": [
    {
     "name": "stdout",
     "output_type": "stream",
     "text": [
      "+------+----+-------------+--------+\n",
      "|Origin|Dest|sum(Distance)|count(1)|\n",
      "+------+----+-------------+--------+\n",
      "|   ROC| CLE|      39935.0|     163|\n",
      "|   MCI| IAH|     156249.0|     243|\n",
      "|   SNA| PHX|     218010.0|     645|\n",
      "|   SPI| ORD|      34104.0|     196|\n",
      "|   LAX| OXR|       6958.0|     142|\n",
      "|   SFO| PMD|      26860.0|      85|\n",
      "|   ATL| GSP|      54621.0|     357|\n",
      "|   ORD| PDX|     909497.0|     523|\n",
      "|   PBI| DCA|      99412.0|     116|\n",
      "|   PHL| MCO|     986706.0|    1146|\n",
      "|   CLE| MCI|     129084.0|     186|\n",
      "|   ICT| IAH|      97560.0|     180|\n",
      "|   CPR| DEN|      31510.0|     137|\n",
      "|   CVG| BDL|     109065.0|     165|\n",
      "|   JFK| ORD|     494320.0|     668|\n",
      "|   TPA| CVG|      90441.0|     117|\n",
      "|   SFO| TUS|      51068.0|      68|\n",
      "|   ORD| FWA|      89961.0|     573|\n",
      "|   MYR| CLT|      18720.0|     120|\n",
      "|   BOS| CVG|     145888.0|     194|\n",
      "+------+----+-------------+--------+\n",
      "only showing top 20 rows\n",
      "\n",
      "--- 3.522430419921875 seconds ---\n"
     ]
    }
   ],
   "source": [
    "# Start the runtime\n",
    "start_time = time.time()\n",
    "\n",
    "# Run the same query here\n",
    "spark.sql(\"\"\"select Origin, Dest ,sum(Distance), count(*) from p_delays group by 1,2\"\"\").show()\n",
    "\n",
    "# Print out the runtime\n",
    "print(\"--- %s seconds ---\" % (time.time() - start_time))"
   ]
  },
  {
   "cell_type": "code",
   "execution_count": 67,
   "metadata": {
    "id": "RxtycEtOVQrZ"
   },
   "outputs": [],
   "source": [
    "# Write out your parquet data, partitioning on the Origin column\n",
    "df.write.partitionBy(\"Origin\").mode(\"overwrite\").parquet(\"delayed_partitioned\")"
   ]
  },
  {
   "cell_type": "code",
   "execution_count": 68,
   "metadata": {
    "id": "TMpsNLamXM9N"
   },
   "outputs": [],
   "source": [
    "# Read in our new parquet formatted data\n",
    "p_df_p=spark.read.parquet('delayed_partitioned')"
   ]
  },
  {
   "cell_type": "code",
   "execution_count": 69,
   "metadata": {
    "id": "KX3wglAtWEbI"
   },
   "outputs": [],
   "source": [
    "# Convert the dataframe to a view.\n",
    "p_df_p.createOrReplaceTempView('p_delays_p')"
   ]
  },
  {
   "cell_type": "code",
   "execution_count": 70,
   "metadata": {
    "colab": {
     "base_uri": "https://localhost:8080/"
    },
    "id": "LOR5HfhRVzmG",
    "outputId": "d39a81cb-c213-4dc2-d3a3-0a9b32390d9b"
   },
   "outputs": [
    {
     "name": "stdout",
     "output_type": "stream",
     "text": [
      "+------+----+-------------+--------+\n",
      "|Origin|Dest|sum(Distance)|count(1)|\n",
      "+------+----+-------------+--------+\n",
      "|   ATL| GSP|      54621.0|     357|\n",
      "|   ORD| PDX|     909497.0|     523|\n",
      "|   ATL| HDN|      30820.0|      23|\n",
      "|   DFW| PNS|     228916.0|     379|\n",
      "|   DFW| SDF|     142202.0|     194|\n",
      "|   ORD| FWA|      89961.0|     573|\n",
      "|   DTW| MKE|      62118.0|     261|\n",
      "|   DFW| HOU|     102258.0|     414|\n",
      "|   ORD| BUF|     332992.0|     704|\n",
      "|   ORD| CAE|     225108.0|     338|\n",
      "|   DEN| ANC|     235788.0|      98|\n",
      "|   DEN| RAP|      69230.0|     230|\n",
      "|   DEN| ABQ|     225105.0|     645|\n",
      "|   DTW| ANC|     104510.0|      35|\n",
      "|   IAH| LIT|      72930.0|     195|\n",
      "|   DFW| VPS|     222230.0|     355|\n",
      "|   ATL| ALB|     238560.0|     280|\n",
      "|   DEN| CLE|     150125.0|     125|\n",
      "|   DEN| SDF|      90024.0|      88|\n",
      "|   IAH| GSP|     110616.0|     132|\n",
      "+------+----+-------------+--------+\n",
      "only showing top 20 rows\n",
      "\n",
      "--- 8.91665506362915 seconds ---\n"
     ]
    }
   ],
   "source": [
    "# Start the runtime\n",
    "start_time = time.time()\n",
    "\n",
    "# Run your query against your partitioned data one more time.\n",
    "spark.sql(\"\"\"select Origin, Dest ,sum(Distance), count(*) from p_delays_p group by 1,2\"\"\").show()\n",
    "\n",
    "# Print out the runtime\n",
    "print(\"--- %s seconds ---\" % (time.time() - start_time))"
   ]
  },
  {
   "cell_type": "code",
   "execution_count": 71,
   "metadata": {
    "colab": {
     "base_uri": "https://localhost:8080/"
    },
    "id": "w1LbeemvWsRa",
    "outputId": "a9efe10f-32e4-49f0-a8d4-3c91acdc97d4"
   },
   "outputs": [
    {
     "name": "stdout",
     "output_type": "stream",
     "text": [
      "+------+-------+\n",
      "|Origin|TailNum|\n",
      "+------+-------+\n",
      "|   BWI| N712SW|\n",
      "|   PVD| N712SW|\n",
      "|   LAS| N712SW|\n",
      "|   MDW| N712SW|\n",
      "|   PIT| N712SW|\n",
      "|   SNA| N712SW|\n",
      "|   SMF| N712SW|\n",
      "|   AUS| N712SW|\n",
      "|   PHX| N712SW|\n",
      "|   DAL| N712SW|\n",
      "|   MSY| N712SW|\n",
      "|   ABQ| N712SW|\n",
      "|   BUR| N712SW|\n",
      "|   MCO| N712SW|\n",
      "|   TPA| N712SW|\n",
      "|   BNA| N712SW|\n",
      "|   JAN| N712SW|\n",
      "|   SFO| N712SW|\n",
      "|   SAN| N712SW|\n",
      "|   SLC| N712SW|\n",
      "+------+-------+\n",
      "only showing top 20 rows\n",
      "\n",
      "--- 0.638530969619751 seconds ---\n"
     ]
    }
   ],
   "source": [
    "# Start  the runtime\n",
    "start_time = time.time()\n",
    "\n",
    "# Filter the data on something that selects your partition choice.\n",
    "spark.sql(\"\"\"Select distinct Origin, TailNum from p_delays where TailNum='N712SW' \"\"\").show()\n",
    "\n",
    "# Print out the runtime.\n",
    "print(\"--- %s seconds ---\" % (time.time() - start_time))"
   ]
  },
  {
   "cell_type": "code",
   "execution_count": 72,
   "metadata": {
    "colab": {
     "base_uri": "https://localhost:8080/"
    },
    "id": "e3wGOJK3Xrnu",
    "outputId": "9a46cbfc-6c17-452d-c585-4115c9e41063"
   },
   "outputs": [
    {
     "name": "stdout",
     "output_type": "stream",
     "text": [
      "+----+-------+\n",
      "|Dest|TailNum|\n",
      "+----+-------+\n",
      "| RNO| N712SW|\n",
      "| MDW| N712SW|\n",
      "| STL| N712SW|\n",
      "| MCO| N712SW|\n",
      "| TPA| N712SW|\n",
      "| BNA| N712SW|\n",
      "| SNA| N712SW|\n",
      "| OMA| N712SW|\n",
      "| SFO| N712SW|\n",
      "| GEG| N712SW|\n",
      "| ONT| N712SW|\n",
      "| TUL| N712SW|\n",
      "| SAN| N712SW|\n",
      "| OAK| N712SW|\n",
      "| SEA| N712SW|\n",
      "| LAS| N712SW|\n",
      "| LIT| N712SW|\n",
      "| LAX| N712SW|\n",
      "| PDX| N712SW|\n",
      "| MSY| N712SW|\n",
      "+----+-------+\n",
      "only showing top 20 rows\n",
      "\n",
      "--- 3.794306755065918 seconds ---\n"
     ]
    }
   ],
   "source": [
    "# Start  the runtime\n",
    "start_time = time.time()\n",
    "\n",
    "# Filter the data on something that has nothing to do with your partition choice.\n",
    "spark.sql(\"\"\"Select distinct Dest, TailNum from p_delays_p where TailNum='N712SW' \"\"\").show()\n",
    "\n",
    "# Print out the runtime.\n",
    "print(\"--- %s seconds ---\" % (time.time() - start_time))"
   ]
  },
  {
   "cell_type": "markdown",
   "metadata": {},
   "source": [
    "# =========================================="
   ]
  },
  {
   "cell_type": "markdown",
   "metadata": {},
   "source": [
    "### BREAK (0:10)"
   ]
  },
  {
   "cell_type": "markdown",
   "metadata": {},
   "source": [
    "# =========================================="
   ]
  },
  {
   "cell_type": "markdown",
   "metadata": {},
   "source": [
    "### 3.05 Instructor Do: Shuffling Performance Costs (15 min)"
   ]
  },
  {
   "cell_type": "markdown",
   "metadata": {},
   "source": [
    "In this activity, we want to take a few minutes to caution on the performance costs of shuffling in Spark. Although shuffling cannot be avoided, we can make be more aware of the conditions that cause shuffling in order to make them more mindful when designing your queries.\n",
    "\n",
    "Shuffling is when the data required for processing, transforming, joining, or aggregating resides on different partitions.\n",
    "\n",
    "When shuffling, Spark pulls the data from memory to disk, then copies the data from one partition to another.\n",
    "\n",
    "* Oftentimes these partitions exist on different nodes causing both disk traffic and network traffic.\n",
    "\n",
    "Shuffling is impossible to avoid completely, but there are ways to keep shuffling at a minimum.\n",
    "\n",
    "First, aggregations by partition (i.e., `group by <partitioned column>`) will not shuffle data.\n",
    "\n",
    "Next, if a table is small enough, we can \"broadcast\" it to every node. Broadcasting a smaller table will also eliminate shuffling when joining with the broadcasted table.\n",
    "\n",
    "    * Broadcasting copies the smaller table to every node allowing the join to happen on the node and not forcing the data to shuffle to a new node.\n",
    "\n",
    "    * Broadcasting will happen on any table less than 10MB by default.\n",
    "\n",
    "      * This can be changed by setting the `spark.sql.autoBroadcastJoinThreshold` variable to a different size.\n",
    "\n",
    "      * Changing this setting to -1 will stop all automatic broadcasting.\n",
    "\n",
    "We can also eliminate shuffling if we filter input data earlier in the program rather than later.\n",
    "\n",
    "Lastly, when Spark shuffles, it creates new partitions based on specific settings. Therefore, if we reduce the number of shuffle partitions, we reduce the disk and network burden.\n",
    "\n",
    "* Spark has a setting `spark.sql.shuffle.partitions` that by default is set to 200 partitions, which is too large for smaller workloads and should be reduced using the following code:\n",
    "\n",
    "      - `spark.conf.set(\"spark.sql.shuffle.partitions\", num)`\n"
   ]
  },
  {
   "cell_type": "markdown",
   "metadata": {},
   "source": [
    "---\n",
    "### 3.05.2 Instructor Do: Caching (25 min)"
   ]
  },
  {
   "cell_type": "code",
   "execution_count": 1,
   "metadata": {
    "colab": {
     "base_uri": "https://localhost:8080/"
    },
    "id": "eGA5-htN6oEN",
    "outputId": "5143d959-3ef3-4a78-9e78-6d7c03492597"
   },
   "outputs": [],
   "source": [
    "# Import findspark and initialize. \n",
    "import findspark\n",
    "findspark.init()"
   ]
  },
  {
   "cell_type": "code",
   "execution_count": 2,
   "metadata": {
    "id": "pIUo9MYO6vlj"
   },
   "outputs": [],
   "source": [
    "# Import packages\n",
    "from pyspark.sql import SparkSession\n",
    "import time\n",
    "\n",
    "# Create a SparkSession\n",
    "spark = SparkSession.builder\\\n",
    "    .appName(\"SparkSQL\")\\\n",
    "    .config(\"spark.sql.debug.maxToStringFields\", 2000)\\\n",
    "    .config(\"spark.driver.memory\", \"2g\")\\\n",
    "    .getOrCreate()"
   ]
  },
  {
   "cell_type": "code",
   "execution_count": 3,
   "metadata": {
    "id": "Ej6Sabcd-1At"
   },
   "outputs": [
    {
     "name": "stdout",
     "output_type": "stream",
     "text": [
      "+---+----+-----+----------+---------+-------+----------+-------+----------+-------------+---------+-------+-----------------+--------------+-------+--------+--------+------+----+--------+------+-------+---------+----------------+--------+------------+------------+--------+-------------+-----------------+\n",
      "| id|Year|Month|DayofMonth|DayOfWeek|DepTime|CRSDepTime|ArrTime|CRSArrTime|UniqueCarrier|FlightNum|TailNum|ActualElapsedTime|CRSElapsedTime|AirTime|ArrDelay|DepDelay|Origin|Dest|Distance|TaxiIn|TaxiOut|Cancelled|CancellationCode|Diverted|CarrierDelay|WeatherDelay|NASDelay|SecurityDelay|LateAircraftDelay|\n",
      "+---+----+-----+----------+---------+-------+----------+-------+----------+-------------+---------+-------+-----------------+--------------+-------+--------+--------+------+----+--------+------+-------+---------+----------------+--------+------------+------------+--------+-------------+-----------------+\n",
      "|  0|2008|    1|         3|        4|   2003|      1955|   2211|      2225|           WN|      335| N712SW|              128|           150|    116|     -14|       8|   IAD| TPA|     810|     4|      8|        0|               N|       0|        NULL|        NULL|    NULL|         NULL|             NULL|\n",
      "|  1|2008|    1|         3|        4|    754|       735|   1002|      1000|           WN|     3231| N772SW|              128|           145|    113|       2|      19|   IAD| TPA|     810|     5|     10|        0|               N|       0|        NULL|        NULL|    NULL|         NULL|             NULL|\n",
      "|  2|2008|    1|         3|        4|    628|       620|    804|       750|           WN|      448| N428WN|               96|            90|     76|      14|       8|   IND| BWI|     515|     3|     17|        0|               N|       0|        NULL|        NULL|    NULL|         NULL|             NULL|\n",
      "|  4|2008|    1|         3|        4|   1829|      1755|   1959|      1925|           WN|     3920| N464WN|               90|            90|     77|      34|      34|   IND| BWI|     515|     3|     10|        0|               N|       0|           2|           0|       0|            0|               32|\n",
      "|  5|2008|    1|         3|        4|   1940|      1915|   2121|      2110|           WN|      378| N726SW|              101|           115|     87|      11|      25|   IND| JAX|     688|     4|     10|        0|               N|       0|        NULL|        NULL|    NULL|         NULL|             NULL|\n",
      "|  6|2008|    1|         3|        4|   1937|      1830|   2037|      1940|           WN|      509| N763SW|              240|           250|    230|      57|      67|   IND| LAS|    1591|     3|      7|        0|               N|       0|          10|           0|       0|            0|               47|\n",
      "| 10|2008|    1|         3|        4|    706|       700|    916|       915|           WN|      100| N690SW|              130|           135|    106|       1|       6|   IND| MCO|     828|     5|     19|        0|               N|       0|        NULL|        NULL|    NULL|         NULL|             NULL|\n",
      "| 11|2008|    1|         3|        4|   1644|      1510|   1845|      1725|           WN|     1333| N334SW|              121|           135|    107|      80|      94|   IND| MCO|     828|     6|      8|        0|               N|       0|           8|           0|       0|            0|               72|\n",
      "| 15|2008|    1|         3|        4|   1029|      1020|   1021|      1010|           WN|     2272| N263WN|               52|            50|     37|      11|       9|   IND| MDW|     162|     6|      9|        0|               N|       0|        NULL|        NULL|    NULL|         NULL|             NULL|\n",
      "| 16|2008|    1|         3|        4|   1452|      1425|   1640|      1625|           WN|      675| N286WN|              228|           240|    213|      15|      27|   IND| PHX|    1489|     7|      8|        0|               N|       0|           3|           0|       0|            0|               12|\n",
      "| 17|2008|    1|         3|        4|    754|       745|    940|       955|           WN|     1144| N778SW|              226|           250|    205|     -15|       9|   IND| PHX|    1489|     5|     16|        0|               N|       0|        NULL|        NULL|    NULL|         NULL|             NULL|\n",
      "| 18|2008|    1|         3|        4|   1323|      1255|   1526|      1510|           WN|        4| N674AA|              123|           135|    110|      16|      28|   IND| TPA|     838|     4|      9|        0|               N|       0|           0|           0|       0|            0|               16|\n",
      "| 19|2008|    1|         3|        4|   1416|      1325|   1512|      1435|           WN|       54| N643SW|               56|            70|     49|      37|      51|   ISP| BWI|     220|     2|      5|        0|               N|       0|          12|           0|       0|            0|               25|\n",
      "| 21|2008|    1|         3|        4|   1657|      1625|   1754|      1735|           WN|      623| N724SW|               57|            70|     47|      19|      32|   ISP| BWI|     220|     5|      5|        0|               N|       0|           7|           0|       0|            0|               12|\n",
      "| 22|2008|    1|         3|        4|   1900|      1840|   1956|      1950|           WN|      717| N786SW|               56|            70|     49|       6|      20|   ISP| BWI|     220|     2|      5|        0|               N|       0|        NULL|        NULL|    NULL|         NULL|             NULL|\n",
      "| 23|2008|    1|         3|        4|   1039|      1030|   1133|      1140|           WN|     1244| N714CB|               54|            70|     47|      -7|       9|   ISP| BWI|     220|     2|      5|        0|               N|       0|        NULL|        NULL|    NULL|         NULL|             NULL|\n",
      "| 25|2008|    1|         3|        4|   1520|      1455|   1619|      1605|           WN|     2553| N394SW|               59|            70|     50|      14|      25|   ISP| BWI|     220|     2|      7|        0|               N|       0|        NULL|        NULL|    NULL|         NULL|             NULL|\n",
      "| 26|2008|    1|         3|        4|   1422|      1255|   1657|      1610|           WN|      188| N215WN|              155|           195|    143|      47|      87|   ISP| FLL|    1093|     6|      6|        0|               N|       0|          40|           0|       0|            0|                7|\n",
      "| 27|2008|    1|         3|        4|   1954|      1925|   2239|      2235|           WN|     1754| N243WN|              165|           190|    155|       4|      29|   ISP| FLL|    1093|     3|      7|        0|               N|       0|        NULL|        NULL|    NULL|         NULL|             NULL|\n",
      "| 30|2008|    1|         3|        4|   2107|      1945|   2334|      2230|           WN|      362| N798SW|              147|           165|    134|      64|      82|   ISP| MCO|     972|     6|      7|        0|               N|       0|           5|           0|       0|            0|               59|\n",
      "+---+----+-----+----------+---------+-------+----------+-------+----------+-------------+---------+-------+-----------------+--------------+-------+--------+--------+------+----+--------+------+-------+---------+----------------+--------+------------+------------+--------+-------------+-----------------+\n",
      "only showing top 20 rows\n",
      "\n"
     ]
    }
   ],
   "source": [
    "# Read in data from S3 Bucket\n",
    "from pyspark import SparkFiles\n",
    "flights_url = \"https://2u-data-curriculum-team.s3.amazonaws.com/dataviz-classroom/v1.2/22-big-data/3/DelayedFlights.csv\"\n",
    "spark.sparkContext.addFile(flights_url)\n",
    "flights_df = spark.read.csv(SparkFiles.get(\"DelayedFlights.csv\"), sep=\",\", header=True)\n",
    "\n",
    "# Show the delayed flight data.\n",
    "flights_df.show()"
   ]
  },
  {
   "cell_type": "code",
   "execution_count": null,
   "metadata": {},
   "outputs": [
    {
     "name": "stdout",
     "output_type": "stream",
     "text": [
      "+--------------+--------------------+-----------+\n",
      "|          City|             country|airportCode|\n",
      "+--------------+--------------------+-----------+\n",
      "|       Aalborg|             Denmark|        AAL|\n",
      "|      Aalesund|              Norway|        AES|\n",
      "|        Aarhus|             Denmark|        AAR|\n",
      "|Abbotsford, BC|              Canada|        YXX|\n",
      "|Abbotsford, BC|              Canada|        YXX|\n",
      "|      Aberdeen|            Scotland|        ABZ|\n",
      "|  Aberdeen, SD|                 USA|        ABR|\n",
      "|       Abidjan|         Ivory Coast|        ABJ|\n",
      "|   Abilene, TX|                 USA|        ABI|\n",
      "|     Abu Dhabi|United Arab Emirates|        AUH|\n",
      "|         Abuja|             Nigeria|        ABV|\n",
      "|      Acapulco|              Mexico|        ACA|\n",
      "|         Accra|               Ghana|        ACC|\n",
      "|         Adana|              Turkey|        ADA|\n",
      "|   Addis Ababa|            Ethiopia|        ADD|\n",
      "|Adelaide, S.A.|           Australia|        ADL|\n",
      "|          Aden|               Yemen|        ADE|\n",
      "|      Adiyaman|              Turkey|        ADF|\n",
      "|        Agadir|             Morocco|        AGA|\n",
      "|         Agana|                Guam|        GUM|\n",
      "+--------------+--------------------+-----------+\n",
      "only showing top 20 rows\n",
      "\n"
     ]
    }
   ],
   "source": [
    "# Read in the airport codes from an S3 Bucket\n",
    "airportCodes_url = \"https://2u-data-curriculum-team.s3.amazonaws.com/dataviz-classroom/v1.2/22-big-data/3/airportCodes.csv\"\n",
    "spark.sparkContext.addFile(airportCodes_url)\n",
    "\n",
    "# The airport codes will be a lookup DataFrame\n",
    "airportCodes_lookup = spark.read.csv(SparkFiles.get(\"airportCodes.csv\"), sep=',', header=True)\n",
    "\n",
    "#  Show the lookup table data.\n",
    "airportCodes_lookup.show()"
   ]
  },
  {
   "cell_type": "code",
   "execution_count": 5,
   "metadata": {
    "id": "PagTU9GvCICb"
   },
   "outputs": [],
   "source": [
    "# Recall that the default shuffle partitions is 200.  \n",
    "# We want to bring that down to a reasonable size for both our data and our Spark cluster\n",
    "# A good rule of thumb is two times the number of cores. \n",
    "spark.conf.set(\"spark.sql.shuffle.partitions\", 8)"
   ]
  },
  {
   "cell_type": "code",
   "execution_count": 6,
   "metadata": {
    "id": "5DFhjm5Z_O5Z"
   },
   "outputs": [],
   "source": [
    "# Create temporary views for each of our dataframes\n",
    "flights_df.createOrReplaceTempView('delayed')\n",
    "\n",
    "airportCodes_lookup.createOrReplaceTempView('lookup')"
   ]
  },
  {
   "cell_type": "code",
   "execution_count": 7,
   "metadata": {
    "colab": {
     "base_uri": "https://localhost:8080/"
    },
    "id": "mN-WisyZ_YrY",
    "outputId": "b7fef404-9712-49df-c1a4-ac229188502a"
   },
   "outputs": [
    {
     "name": "stdout",
     "output_type": "stream",
     "text": [
      "+----+-----+----------+---------+-------+----------+-------+----------+-------------+---------+-------+-----------------+--------------+-------+--------+--------+------+---------------+----+---------------+--------+------+-------+---------+----------------+--------+------------+------------+--------+-------------+-----------------+\n",
      "|Year|Month|DayofMonth|DayOfWeek|DepTime|CRSDepTime|ArrTime|CRSArrTime|UniqueCarrier|FlightNum|TailNum|ActualElapsedTime|CRSElapsedTime|AirTime|ArrDelay|DepDelay|Origin|    Origin_City|Dest|      Dest_City|Distance|TaxiIn|TaxiOut|Cancelled|CancellationCode|Diverted|CarrierDelay|WeatherDelay|NASDelay|SecurityDelay|LateAircraftDelay|\n",
      "+----+-----+----------+---------+-------+----------+-------+----------+-------------+---------+-------+-----------------+--------------+-------+--------+--------+------+---------------+----+---------------+--------+------+-------+---------+----------------+--------+------------+------------+--------+-------------+-----------------+\n",
      "|2008|    1|         4|        5|   2003|      1845|   2207|      2040|           WN|      746| N667SW|               64|            55|     44|      87|      78|   ABQ|Albuquerque, NM| AMA|   Amarillo, TX|     277|     5|     15|        0|               N|       0|           0|           0|       9|            0|               78|\n",
      "|2008|    1|         4|        5|   1332|      1325|   1437|      1440|           WN|      182| N313SW|               65|            75|     54|      -3|       7|   ALB|     Albany, NY| BWI|  Baltimore, MD|     288|     3|      8|        0|               N|       0|        NULL|        NULL|    NULL|         NULL|             NULL|\n",
      "|2008|    1|         4|        5|   1020|      1005|   1128|      1120|           WN|      733| N650SW|               68|            75|     58|       8|      15|   ALB|     Albany, NY| BWI|  Baltimore, MD|     288|     3|      7|        0|               N|       0|        NULL|        NULL|    NULL|         NULL|             NULL|\n",
      "|2008|    1|         4|        5|   1831|      1820|   1941|      1935|           WN|     1861| N783SW|               70|            75|     57|       6|      11|   ALB|     Albany, NY| BWI|  Baltimore, MD|     288|     3|     10|        0|               N|       0|        NULL|        NULL|    NULL|         NULL|             NULL|\n",
      "|2008|    1|         4|        5|   1758|      1750|   2051|      2040|           WN|     2036| N660SW|              113|           110|    100|      11|       8|   BHM| Birmingham, AL| BWI|  Baltimore, MD|     682|     3|     10|        0|               N|       0|        NULL|        NULL|    NULL|         NULL|             NULL|\n",
      "|2008|    1|         4|        5|    836|       830|    943|       940|           WN|      922| N650SW|               67|            70|     55|       3|       6|   BWI|  Baltimore, MD| ALB|     Albany, NY|     288|     2|     10|        0|               N|       0|        NULL|        NULL|    NULL|         NULL|             NULL|\n",
      "|2008|    1|         4|        5|   1652|      1645|   1755|      1755|           WN|     1774| N783SW|               63|            70|     51|       0|       7|   BWI|  Baltimore, MD| ALB|     Albany, NY|     288|     5|      7|        0|               N|       0|        NULL|        NULL|    NULL|         NULL|             NULL|\n",
      "|2008|    1|         4|        5|   1035|      1025|   1143|      1135|           WN|     3569| N276WN|               68|            70|     53|       8|      10|   BWI|  Baltimore, MD| ALB|     Albany, NY|     288|     5|     10|        0|               N|       0|        NULL|        NULL|    NULL|         NULL|             NULL|\n",
      "|2008|    1|         4|        5|   1828|      1805|   1917|      1915|           WN|      623| N757LV|              109|           130|     97|       2|      23|   BWI|  Baltimore, MD| BHM| Birmingham, AL|     682|     3|      9|        0|               N|       0|        NULL|        NULL|    NULL|         NULL|             NULL|\n",
      "|2008|    1|         4|        5|   1317|      1310|   1401|      1420|           WN|     1857| N280WN|              104|           130|     95|     -19|       7|   BWI|  Baltimore, MD| BHM| Birmingham, AL|     682|     2|      7|        0|               N|       0|        NULL|        NULL|    NULL|         NULL|             NULL|\n",
      "|2008|    1|         5|        6|   2001|      1845|   2150|      2040|           WN|      746| N412WN|               49|            55|     39|      70|      76|   ABQ|Albuquerque, NM| AMA|   Amarillo, TX|     277|     4|      6|        0|               N|       0|           3|           0|       0|            0|               67|\n",
      "|2008|    1|         5|        6|   1124|      1005|   1227|      1120|           WN|      733| N794SW|               63|            75|     50|      67|      79|   ALB|     Albany, NY| BWI|  Baltimore, MD|     288|     3|     10|        0|               N|       0|          67|           0|       0|            0|                0|\n",
      "|2008|    1|         5|        6|   1544|      1515|   1654|      1630|           WN|     3046| N723SW|               70|            75|     56|      24|      29|   ALB|     Albany, NY| BWI|  Baltimore, MD|     288|     4|     10|        0|               N|       0|          11|           0|       0|            0|               13|\n",
      "|2008|    1|         5|        6|   1426|      1415|   1832|      1815|           WN|     1001| N366SW|              186|           180|    164|      17|      11|   AUS|     Austin, TX| BWI|  Baltimore, MD|    1342|     4|     18|        0|               N|       0|           0|           0|       6|            0|               11|\n",
      "|2008|    1|         5|        6|   1806|      1750|   2047|      2040|           WN|     2036| N614SW|              101|           110|     88|       7|      16|   BHM| Birmingham, AL| BWI|  Baltimore, MD|     682|     3|     10|        0|               N|       0|        NULL|        NULL|    NULL|         NULL|             NULL|\n",
      "|2008|    1|         5|        6|   1508|      1425|   1719|      1655|           WN|      644| N737JW|              251|           270|    237|      24|      43|   BWI|  Baltimore, MD| ABQ|Albuquerque, NM|    1670|     5|      9|        0|               N|       0|           8|           0|       0|            0|               16|\n",
      "|2008|    1|         5|        6|   1808|      1755|   1909|      1905|           WN|      236| N708SA|               61|            70|     49|       4|      13|   BWI|  Baltimore, MD| ALB|     Albany, NY|     288|     3|      9|        0|               N|       0|        NULL|        NULL|    NULL|         NULL|             NULL|\n",
      "|2008|    1|         5|        6|   1359|      1340|   1506|      1450|           WN|      323| N723SW|               67|            70|     53|      16|      19|   BWI|  Baltimore, MD| ALB|     Albany, NY|     288|     3|     11|        0|               N|       0|           6|           0|       0|            0|               10|\n",
      "|2008|    1|         5|        6|   1433|      1420|   1700|      1710|           WN|      160| N264LV|              207|           230|    196|     -10|      13|   BWI|  Baltimore, MD| AUS|     Austin, TX|    1342|     4|      7|        0|               N|       0|        NULL|        NULL|    NULL|         NULL|             NULL|\n",
      "|2008|    1|         5|        6|   1814|      1805|   1910|      1915|           WN|      623| N624SW|              116|           130|    105|      -5|       9|   BWI|  Baltimore, MD| BHM| Birmingham, AL|     682|     4|      7|        0|               N|       0|        NULL|        NULL|    NULL|         NULL|             NULL|\n",
      "+----+-----+----------+---------+-------+----------+-------+----------+-------------+---------+-------+-----------------+--------------+-------+--------+--------+------+---------------+----+---------------+--------+------+-------+---------+----------------+--------+------------+------------+--------+-------------+-----------------+\n",
      "only showing top 20 rows\n",
      "\n",
      "--- 1.9210314750671387 seconds ---\n"
     ]
    }
   ],
   "source": [
    "# This first query joins our airport code lookup data to our delayed fligts table\n",
    "# By default Spark does a broadcast join when the Join table is < 10MB.  This is configurable\n",
    "# but since our table is VERY small, it will auto-broadcast. \n",
    "\n",
    "start_time = time.time()\n",
    "\n",
    "spark.sql(\"\"\"\n",
    "select a.Year,\n",
    "a.Month,\n",
    "a.DayofMonth,\n",
    "a.DayOfWeek,\n",
    "a.DepTime,\n",
    "a.CRSDepTime,\n",
    "a.ArrTime,\n",
    "a.CRSArrTime,\n",
    "a.UniqueCarrier,\n",
    "a.FlightNum,\n",
    "a.TailNum,\n",
    "a.ActualElapsedTime,\n",
    "a.CRSElapsedTime,\n",
    "a.AirTime,\n",
    "a.ArrDelay,\n",
    "a.DepDelay,\n",
    "a.Origin,\n",
    "b.City as Origin_City,\n",
    "a.Dest,\n",
    "c.City as Dest_City,\n",
    "a.Distance,\n",
    "a.TaxiIn,\n",
    "a.TaxiOut,\n",
    "a.Cancelled,\n",
    "a.CancellationCode,\n",
    "a.Diverted,\n",
    "a.CarrierDelay,\n",
    "a.WeatherDelay,\n",
    "a.NASDelay,\n",
    "a.SecurityDelay,\n",
    "a.LateAircraftDelay from delayed a \n",
    "  inner join lookup b\n",
    "    on a.Origin=b.airportCode\n",
    "  inner join lookup c\n",
    "    on a.Dest=c.airportCode\n",
    "\"\"\").show()\n",
    "\n",
    "print(\"--- %s seconds ---\" % (time.time() - start_time))"
   ]
  },
  {
   "cell_type": "code",
   "execution_count": 8,
   "metadata": {
    "colab": {
     "base_uri": "https://localhost:8080/"
    },
    "id": "EgJRNc8h_bHI",
    "outputId": "216b0d7a-c4bb-44c5-cfa0-4854426d8d0d"
   },
   "outputs": [
    {
     "name": "stdout",
     "output_type": "stream",
     "text": [
      "+----+-----+----------+---------+-------+----------+-------+----------+-------------+---------+-------+-----------------+--------------+-------+--------+--------+------+---------------+----+---------------+--------+------+-------+---------+----------------+--------+------------+------------+--------+-------------+-----------------+\n",
      "|Year|Month|DayofMonth|DayOfWeek|DepTime|CRSDepTime|ArrTime|CRSArrTime|UniqueCarrier|FlightNum|TailNum|ActualElapsedTime|CRSElapsedTime|AirTime|ArrDelay|DepDelay|Origin|    Origin_City|Dest|       Dep_City|Distance|TaxiIn|TaxiOut|Cancelled|CancellationCode|Diverted|CarrierDelay|WeatherDelay|NASDelay|SecurityDelay|LateAircraftDelay|\n",
      "+----+-----+----------+---------+-------+----------+-------+----------+-------------+---------+-------+-----------------+--------------+-------+--------+--------+------+---------------+----+---------------+--------+------+-------+---------+----------------+--------+------------+------------+--------+-------------+-----------------+\n",
      "|2008|    1|         4|        5|   2003|      1845|   2207|      2040|           WN|      746| N667SW|               64|            55|     44|      87|      78|   ABQ|Albuquerque, NM| AMA|   Amarillo, TX|     277|     5|     15|        0|               N|       0|           0|           0|       9|            0|               78|\n",
      "|2008|    1|         4|        5|   1332|      1325|   1437|      1440|           WN|      182| N313SW|               65|            75|     54|      -3|       7|   ALB|     Albany, NY| BWI|  Baltimore, MD|     288|     3|      8|        0|               N|       0|        NULL|        NULL|    NULL|         NULL|             NULL|\n",
      "|2008|    1|         4|        5|   1020|      1005|   1128|      1120|           WN|      733| N650SW|               68|            75|     58|       8|      15|   ALB|     Albany, NY| BWI|  Baltimore, MD|     288|     3|      7|        0|               N|       0|        NULL|        NULL|    NULL|         NULL|             NULL|\n",
      "|2008|    1|         4|        5|   1831|      1820|   1941|      1935|           WN|     1861| N783SW|               70|            75|     57|       6|      11|   ALB|     Albany, NY| BWI|  Baltimore, MD|     288|     3|     10|        0|               N|       0|        NULL|        NULL|    NULL|         NULL|             NULL|\n",
      "|2008|    1|         4|        5|   1758|      1750|   2051|      2040|           WN|     2036| N660SW|              113|           110|    100|      11|       8|   BHM| Birmingham, AL| BWI|  Baltimore, MD|     682|     3|     10|        0|               N|       0|        NULL|        NULL|    NULL|         NULL|             NULL|\n",
      "|2008|    1|         4|        5|    836|       830|    943|       940|           WN|      922| N650SW|               67|            70|     55|       3|       6|   BWI|  Baltimore, MD| ALB|     Albany, NY|     288|     2|     10|        0|               N|       0|        NULL|        NULL|    NULL|         NULL|             NULL|\n",
      "|2008|    1|         4|        5|   1652|      1645|   1755|      1755|           WN|     1774| N783SW|               63|            70|     51|       0|       7|   BWI|  Baltimore, MD| ALB|     Albany, NY|     288|     5|      7|        0|               N|       0|        NULL|        NULL|    NULL|         NULL|             NULL|\n",
      "|2008|    1|         4|        5|   1035|      1025|   1143|      1135|           WN|     3569| N276WN|               68|            70|     53|       8|      10|   BWI|  Baltimore, MD| ALB|     Albany, NY|     288|     5|     10|        0|               N|       0|        NULL|        NULL|    NULL|         NULL|             NULL|\n",
      "|2008|    1|         4|        5|   1828|      1805|   1917|      1915|           WN|      623| N757LV|              109|           130|     97|       2|      23|   BWI|  Baltimore, MD| BHM| Birmingham, AL|     682|     3|      9|        0|               N|       0|        NULL|        NULL|    NULL|         NULL|             NULL|\n",
      "|2008|    1|         4|        5|   1317|      1310|   1401|      1420|           WN|     1857| N280WN|              104|           130|     95|     -19|       7|   BWI|  Baltimore, MD| BHM| Birmingham, AL|     682|     2|      7|        0|               N|       0|        NULL|        NULL|    NULL|         NULL|             NULL|\n",
      "|2008|    1|         5|        6|   2001|      1845|   2150|      2040|           WN|      746| N412WN|               49|            55|     39|      70|      76|   ABQ|Albuquerque, NM| AMA|   Amarillo, TX|     277|     4|      6|        0|               N|       0|           3|           0|       0|            0|               67|\n",
      "|2008|    1|         5|        6|   1124|      1005|   1227|      1120|           WN|      733| N794SW|               63|            75|     50|      67|      79|   ALB|     Albany, NY| BWI|  Baltimore, MD|     288|     3|     10|        0|               N|       0|          67|           0|       0|            0|                0|\n",
      "|2008|    1|         5|        6|   1544|      1515|   1654|      1630|           WN|     3046| N723SW|               70|            75|     56|      24|      29|   ALB|     Albany, NY| BWI|  Baltimore, MD|     288|     4|     10|        0|               N|       0|          11|           0|       0|            0|               13|\n",
      "|2008|    1|         5|        6|   1426|      1415|   1832|      1815|           WN|     1001| N366SW|              186|           180|    164|      17|      11|   AUS|     Austin, TX| BWI|  Baltimore, MD|    1342|     4|     18|        0|               N|       0|           0|           0|       6|            0|               11|\n",
      "|2008|    1|         5|        6|   1806|      1750|   2047|      2040|           WN|     2036| N614SW|              101|           110|     88|       7|      16|   BHM| Birmingham, AL| BWI|  Baltimore, MD|     682|     3|     10|        0|               N|       0|        NULL|        NULL|    NULL|         NULL|             NULL|\n",
      "|2008|    1|         5|        6|   1508|      1425|   1719|      1655|           WN|      644| N737JW|              251|           270|    237|      24|      43|   BWI|  Baltimore, MD| ABQ|Albuquerque, NM|    1670|     5|      9|        0|               N|       0|           8|           0|       0|            0|               16|\n",
      "|2008|    1|         5|        6|   1808|      1755|   1909|      1905|           WN|      236| N708SA|               61|            70|     49|       4|      13|   BWI|  Baltimore, MD| ALB|     Albany, NY|     288|     3|      9|        0|               N|       0|        NULL|        NULL|    NULL|         NULL|             NULL|\n",
      "|2008|    1|         5|        6|   1359|      1340|   1506|      1450|           WN|      323| N723SW|               67|            70|     53|      16|      19|   BWI|  Baltimore, MD| ALB|     Albany, NY|     288|     3|     11|        0|               N|       0|           6|           0|       0|            0|               10|\n",
      "|2008|    1|         5|        6|   1433|      1420|   1700|      1710|           WN|      160| N264LV|              207|           230|    196|     -10|      13|   BWI|  Baltimore, MD| AUS|     Austin, TX|    1342|     4|      7|        0|               N|       0|        NULL|        NULL|    NULL|         NULL|             NULL|\n",
      "|2008|    1|         5|        6|   1814|      1805|   1910|      1915|           WN|      623| N624SW|              116|           130|    105|      -5|       9|   BWI|  Baltimore, MD| BHM| Birmingham, AL|     682|     4|      7|        0|               N|       0|        NULL|        NULL|    NULL|         NULL|             NULL|\n",
      "+----+-----+----------+---------+-------+----------+-------+----------+-------------+---------+-------+-----------------+--------------+-------+--------+--------+------+---------------+----+---------------+--------+------+-------+---------+----------------+--------+------------+------------+--------+-------------+-----------------+\n",
      "only showing top 20 rows\n",
      "\n",
      "--- 0.5205078125 seconds ---\n"
     ]
    }
   ],
   "source": [
    "# Here we have added the hint to Broadcast the lookup table.  \n",
    "start_time = time.time()\n",
    "\n",
    "spark.sql(\"\"\"\n",
    "select /*+ BROADCAST(lookup) */ \n",
    "a.Year,\n",
    "a.Month,\n",
    "a.DayofMonth,\n",
    "a.DayOfWeek,\n",
    "a.DepTime,\n",
    "a.CRSDepTime,\n",
    "a.ArrTime,\n",
    "a.CRSArrTime,\n",
    "a.UniqueCarrier,\n",
    "a.FlightNum,\n",
    "a.TailNum,\n",
    "a.ActualElapsedTime,\n",
    "a.CRSElapsedTime,\n",
    "a.AirTime,\n",
    "a.ArrDelay,\n",
    "a.DepDelay,\n",
    "a.Origin,\n",
    "b.City as Origin_City,\n",
    "a.Dest,\n",
    "c.City as Dep_City,\n",
    "a.Distance,\n",
    "a.TaxiIn,\n",
    "a.TaxiOut,\n",
    "a.Cancelled,\n",
    "a.CancellationCode,\n",
    "a.Diverted,\n",
    "a.CarrierDelay,\n",
    "a.WeatherDelay,\n",
    "a.NASDelay,\n",
    "a.SecurityDelay,\n",
    "a.LateAircraftDelay from  delayed a \n",
    "  inner join lookup b\n",
    "    on a.Origin=b.airportCode\n",
    "  inner join lookup c\n",
    "    on a.Dest=c.airportCode\n",
    "\"\"\").show()\n",
    "\n",
    "print(\"--- %s seconds ---\" % (time.time() - start_time))"
   ]
  },
  {
   "cell_type": "code",
   "execution_count": 10,
   "metadata": {
    "colab": {
     "base_uri": "https://localhost:8080/"
    },
    "id": "fhgb2iFihRbW",
    "outputId": "154603e5-6efa-404f-83c7-51c1a64983f9"
   },
   "outputs": [
    {
     "name": "stdout",
     "output_type": "stream",
     "text": [
      "+-----------------+------------------+\n",
      "|      Origin_City|          avgDelay|\n",
      "+-----------------+------------------+\n",
      "|     Amarillo, TX|              63.3|\n",
      "|    Allentown, PA| 50.94957983193277|\n",
      "|      Atlanta, GA| 37.90491635370434|\n",
      "|       Bangor, ME| 50.27329192546584|\n",
      "|  Albuquerque, NM| 32.54347826086956|\n",
      "|       Austin, TX|       37.19140625|\n",
      "|  Baton Rouge, LA|          65.50625|\n",
      "|    Baltimore, MD|  39.0767004341534|\n",
      "|       Albany, NY| 39.14365671641791|\n",
      "|       Boston, MA| 47.71041369472183|\n",
      "|   Birmingham, AL| 43.17042606516291|\n",
      "|    Asheville, NC|58.392405063291136|\n",
      "|  Bloomington, IL| 46.89930555555556|\n",
      "|      Augusta, GA| 55.65714285714286|\n",
      "|       Albany, GA| 50.25352112676056|\n",
      "|        Akron, OH|55.928196147110334|\n",
      "|Atlantic City, NJ| 64.64285714285714|\n",
      "|     Appleton, WI| 42.99324324324324|\n",
      "|   Alexandria, LA|50.947712418300654|\n",
      "|       Barrow, AK| 25.80851063829787|\n",
      "+-----------------+------------------+\n",
      "only showing top 20 rows\n",
      "\n",
      "--- 3.955842971801758 seconds ---\n"
     ]
    }
   ],
   "source": [
    "# In this query we are trying to give the cluster some work to do.  \n",
    "# We are creating a a common table expression (CTE) (with allColumns) that joins the two tables together \n",
    "# and then an aggregation by averaging the delays.\n",
    "\n",
    "start_time = time.time()\n",
    "\n",
    "spark.sql(\"\"\"\n",
    "with allColumns\n",
    "(select /*+ BROADCAST(lookup) */ \n",
    "a.Year,\n",
    "a.Month,\n",
    "a.DayofMonth,\n",
    "a.DayOfWeek,\n",
    "a.DepTime,\n",
    "a.CRSDepTime,\n",
    "a.ArrTime,\n",
    "a.CRSArrTime,\n",
    "a.UniqueCarrier,\n",
    "a.FlightNum,\n",
    "a.TailNum,\n",
    "a.ActualElapsedTime,\n",
    "a.CRSElapsedTime,\n",
    "a.AirTime,\n",
    "a.ArrDelay,\n",
    "a.DepDelay,\n",
    "a.Origin,\n",
    "b.City as Origin_City,\n",
    "a.Dest,\n",
    "c.City as Dep_City,\n",
    "a.Distance,\n",
    "a.TaxiIn,\n",
    "a.TaxiOut,\n",
    "a.Cancelled,\n",
    "a.CancellationCode,\n",
    "a.Diverted,\n",
    "a.CarrierDelay,\n",
    "a.WeatherDelay,\n",
    "a.NASDelay,\n",
    "a.SecurityDelay,\n",
    "a.LateAircraftDelay from  delayed a \n",
    "  inner join lookup b\n",
    "    on a.Origin=b.airportCode\n",
    "  inner join lookup c\n",
    "    on a.Dest=c.airportCode\n",
    ")\n",
    "select Origin_City, avg(ArrDelay) avgDelay from allColumns group by 1\n",
    "\"\"\").show()\n",
    "\n",
    "print(\"--- %s seconds ---\" % (time.time() - start_time))"
   ]
  },
  {
   "cell_type": "code",
   "execution_count": 11,
   "metadata": {
    "colab": {
     "base_uri": "https://localhost:8080/"
    },
    "id": "mPR_2uq0vdyt",
    "outputId": "8f57c3f2-e7d3-4ccc-a821-3d304d67d830"
   },
   "outputs": [
    {
     "data": {
      "text/plain": [
       "DataFrame[]"
      ]
     },
     "execution_count": 11,
     "metadata": {},
     "output_type": "execute_result"
    }
   ],
   "source": [
    "# Next, we are use SparkSQL to cache our table\n",
    "# Note: when we use SparkSQL to cache a table, the table is immediately cached (no lazy evaluation).\n",
    "# When using PySpark it will not be cached until an action is run.\n",
    "spark.sql(\"cache table delayed\")"
   ]
  },
  {
   "cell_type": "code",
   "execution_count": 12,
   "metadata": {
    "colab": {
     "base_uri": "https://localhost:8080/"
    },
    "id": "eodqtIHByC2J",
    "outputId": "72656ee7-6fab-444a-8160-c499c5d914f1"
   },
   "outputs": [
    {
     "data": {
      "text/plain": [
       "True"
      ]
     },
     "execution_count": 12,
     "metadata": {},
     "output_type": "execute_result"
    }
   ],
   "source": [
    "# This command checks that our table is cached\n",
    "# It will return True if it is cached.\n",
    "spark.catalog.isCached(\"delayed\")"
   ]
  },
  {
   "cell_type": "code",
   "execution_count": 13,
   "metadata": {
    "colab": {
     "base_uri": "https://localhost:8080/"
    },
    "id": "fkSFfoBYwgSI",
    "outputId": "20dd8427-5d77-40c7-9e61-75afd93353f3"
   },
   "outputs": [
    {
     "name": "stdout",
     "output_type": "stream",
     "text": [
      "+-----------------+------------------+\n",
      "|      Origin_City|          avgDelay|\n",
      "+-----------------+------------------+\n",
      "|     Amarillo, TX|              63.3|\n",
      "|    Allentown, PA| 50.94957983193277|\n",
      "|      Atlanta, GA| 37.90491635370434|\n",
      "|       Bangor, ME| 50.27329192546584|\n",
      "|  Albuquerque, NM| 32.54347826086956|\n",
      "|       Austin, TX|       37.19140625|\n",
      "|  Baton Rouge, LA|          65.50625|\n",
      "|    Baltimore, MD|  39.0767004341534|\n",
      "|       Albany, NY| 39.14365671641791|\n",
      "|       Boston, MA| 47.71041369472183|\n",
      "|   Birmingham, AL| 43.17042606516291|\n",
      "|    Asheville, NC|58.392405063291136|\n",
      "|  Bloomington, IL| 46.89930555555556|\n",
      "|      Augusta, GA| 55.65714285714286|\n",
      "|       Albany, GA| 50.25352112676056|\n",
      "|        Akron, OH|55.928196147110334|\n",
      "|Atlantic City, NJ| 64.64285714285714|\n",
      "|     Appleton, WI| 42.99324324324324|\n",
      "|   Alexandria, LA|50.947712418300654|\n",
      "|       Barrow, AK| 25.80851063829787|\n",
      "+-----------------+------------------+\n",
      "only showing top 20 rows\n",
      "\n",
      "--- 1.8904163837432861 seconds ---\n"
     ]
    }
   ],
   "source": [
    "# Using the cached data, run the same query with the common table expression (CTE).\n",
    "# The performance time should improve.\n",
    "\n",
    "start_time = time.time()\n",
    "\n",
    "spark.sql(\"\"\"\n",
    "with allColumns\n",
    "(select /*+ BROADCAST(lookup) */ \n",
    "a.Year,\n",
    "a.Month,\n",
    "a.DayofMonth,\n",
    "a.DayOfWeek,\n",
    "a.DepTime,\n",
    "a.CRSDepTime,\n",
    "a.ArrTime,\n",
    "a.CRSArrTime,\n",
    "a.UniqueCarrier,\n",
    "a.FlightNum,\n",
    "a.TailNum,\n",
    "a.ActualElapsedTime,\n",
    "a.CRSElapsedTime,\n",
    "a.AirTime,\n",
    "a.ArrDelay,\n",
    "a.DepDelay,\n",
    "a.Origin,\n",
    "b.City as Origin_City,\n",
    "a.Dest,\n",
    "c.City as Dep_City,\n",
    "a.Distance,\n",
    "a.TaxiIn,\n",
    "a.TaxiOut,\n",
    "a.Cancelled,\n",
    "a.CancellationCode,\n",
    "a.Diverted,\n",
    "a.CarrierDelay,\n",
    "a.WeatherDelay,\n",
    "a.NASDelay,\n",
    "a.SecurityDelay,\n",
    "a.LateAircraftDelay from  delayed a \n",
    "  inner join lookup b\n",
    "    on a.Origin=b.airportCode\n",
    "  inner join lookup c\n",
    "    on a.Dest=c.airportCode\n",
    ")\n",
    "select Origin_City, avg(ArrDelay) avgDelay from allColumns group by 1\"\"\").show()\n",
    "\n",
    "print(\"--- %s seconds ---\" % (time.time() - start_time))\n"
   ]
  },
  {
   "cell_type": "code",
   "execution_count": 15,
   "metadata": {
    "colab": {
     "base_uri": "https://localhost:8080/"
    },
    "id": "3P82CRVDxk7s",
    "outputId": "a272a865-ac04-40fd-cfad-1d212343a017"
   },
   "outputs": [
    {
     "data": {
      "text/plain": [
       "DataFrame[]"
      ]
     },
     "execution_count": 15,
     "metadata": {},
     "output_type": "execute_result"
    }
   ],
   "source": [
    "# Remember to uncache the table as soon as you are done.\n",
    "spark.sql(\"uncache table delayed\")"
   ]
  },
  {
   "cell_type": "code",
   "execution_count": 16,
   "metadata": {
    "colab": {
     "base_uri": "https://localhost:8080/"
    },
    "id": "aHEPdkk_x0Ep",
    "outputId": "fd2e0105-6dba-4125-94a3-968879ca4adc"
   },
   "outputs": [
    {
     "data": {
      "text/plain": [
       "False"
      ]
     },
     "execution_count": 16,
     "metadata": {},
     "output_type": "execute_result"
    }
   ],
   "source": [
    "#Verify that the table is no longer cached\n",
    "spark.catalog.isCached(\"delayed\")"
   ]
  },
  {
   "cell_type": "markdown",
   "metadata": {},
   "source": [
    "# =========================================="
   ]
  },
  {
   "cell_type": "markdown",
   "metadata": {},
   "source": [
    "### 3.06 Everyone Do: Caching Flight Delays (30 min)"
   ]
  },
  {
   "cell_type": "markdown",
   "metadata": {},
   "source": [
    "In this activity, you'll import three datasets, practice creating partitions, filter the data, and create temporary views of the three datasets. Then, you'll write queries to join three datasets and determine the execution times of the queries. Finally, you'll cache your data and compare query execution times with the cached data.\n",
    "\n",
    "**Instructions:**\n",
    "1. Using the starter code provided, import packages, create a Spark session, and set the shuffle partitions to 4 or 8.\n",
    "2. Import the datasets into your Spark session.\n",
    "    * **NOTE:** The `DelayedFlights.csv` file is comma-delimited, while the `cities500.txt` file is tab-delimited. Be sure to declare the appropriate separator when importing each dataset.\n",
    "3. Filter the airport codes Spark DataFrame to only contain those whose `country` equals `USA`.\n",
    "4. Filter the 500 city latitude and longitude DataFrame to only contain the `name`,`latitude`,`longitude`,`admin1_code` fields and rows whose `country_code` equals `US`.\n",
    "5. Create temporary views for all three Spark DataFrames. Name the temporary views as follows:\n",
    "    * The delayed flight temporary view as, `delayed`\n",
    "    * The latitude and longitude temporary view as, `lookup_geo`\n",
    "    * The airport codes temporary view as, `lookup_city`\n",
    "6. Modify the provided SparkSQL query that was used in the instructor demonstration to add `origin_latitude`, `origin_longitude`, `dest_latitude` and `dest_longitude` fields from the joined temporary views.\n",
    "    * **NOTE**:  The two lookup tables do not have matching columns, so you must be mindful of what names are  used when joining both views.\n",
    "7. Use the same SQL query as in step 5, but this time add a \"Broadcast\" hint for either the `lookup_geo` or `lookup_city` temporary views and run your query again.\n",
    "    * Was there any change in the runtime of the query? Why or why not?\n",
    "8. Use the same SQL query as in step 5, but this time use an aggregate function (i.e. `avg()`, `sum()`, etc.) on some of the fields from the `delayed` flights temporary view.\n",
    "    * Add enough aggregate functions to increase the runtime of your SparkSQL query.\n",
    "9. Use SparkSQL to cache the `delayed` temporary view, since it is the largest table.\n",
    "10. Verify that you successfully cached your table using the `spark.catalog.isCached()` method.\n",
    "11. Once again, rerun your aggregating SparkSQL query from step 9 and note the runtime.\n",
    "    * Did caching decrease the runtime of your SparkSQL query? Why or why not?\n",
    "12. Cache one of the lookup tables.\n",
    "13. Run the query from step 8 again. You should continue to see improvement.\n",
    "14. Uncache anything that you have previously cached.\n",
    "15. Verify that nothing is cached using the `spark.catalog.isCached()` method.\n",
    "\n",
    "## Data Source:\n",
    "[Airlines Delay](https://www.kaggle.com/datasets/giovamata/airlinedelaycauses)\n",
    "\n",
    "---"
   ]
  },
  {
   "cell_type": "code",
   "execution_count": 1,
   "metadata": {
    "colab": {
     "base_uri": "https://localhost:8080/"
    },
    "id": "eGA5-htN6oEN",
    "outputId": "eb773c8d-85fb-4003-ce19-96965ca68eed"
   },
   "outputs": [],
   "source": [
    "# Import findspark and initialize. \n",
    "import findspark\n",
    "findspark.init()"
   ]
  },
  {
   "cell_type": "code",
   "execution_count": 2,
   "metadata": {
    "id": "pIUo9MYO6vlj"
   },
   "outputs": [
    {
     "name": "stderr",
     "output_type": "stream",
     "text": [
      "Setting default log level to \"WARN\".\n",
      "To adjust logging level use sc.setLogLevel(newLevel). For SparkR, use setLogLevel(newLevel).\n"
     ]
    },
    {
     "name": "stdout",
     "output_type": "stream",
     "text": [
      "23/02/08 13:19:08 WARN NativeCodeLoader: Unable to load native-hadoop library for your platform... using builtin-java classes where applicable\n"
     ]
    }
   ],
   "source": [
    "# Import packages\n",
    "from pyspark.sql import SparkSession\n",
    "import time\n",
    "\n",
    "# Create a SparkSession\n",
    "spark = SparkSession.builder\\\n",
    "    .appName(\"SparkSQL\")\\\n",
    "    .config(\"spark.sql.debug.maxToStringFields\", 2000)\\\n",
    "    .config(\"spark.driver.memory\", \"2g\")\\\n",
    "    .getOrCreate()\n",
    "\n",
    "# Set the partitions to 4 or 8. \n",
    "spark.conf.set(\"spark.sql.shuffle.partitions\", 8)"
   ]
  },
  {
   "cell_type": "code",
   "execution_count": 3,
   "metadata": {
    "id": "Ej6Sabcd-1At"
   },
   "outputs": [
    {
     "name": "stderr",
     "output_type": "stream",
     "text": [
      "                                                                                \r"
     ]
    }
   ],
   "source": [
    "# Read in data from S3 Bucket\n",
    "from pyspark import SparkFiles\n",
    "url = \"https://2u-data-curriculum-team.s3.amazonaws.com/dataviz-classroom/v1.2/22-big-data/3/DelayedFlights.csv\"\n",
    "spark.sparkContext.addFile(url)\n",
    "flights_df = spark.read.csv(SparkFiles.get(\"DelayedFlights.csv\"), sep=\",\", header=True)\n",
    "\n",
    "# Create a lookup table for the 500 cities. \n",
    "url_cities=\"https://2u-data-curriculum-team.s3.amazonaws.com/dataviz-classroom/v1.2/22-big-data/3/cities500.txt\"\n",
    "spark.sparkContext.addFile(url_cities)\n",
    "df_lookup_geo = spark.read.csv(SparkFiles.get(\"cities500.txt\"), sep=\"\\t\", header=True)\n",
    "\n",
    "# Create a lookup table for the airport codes. \n",
    "url_airportCodes =\"https://2u-data-curriculum-team.s3.amazonaws.com/dataviz-classroom/v1.2/22-big-data/3/airportCodes.csv\"\n",
    "spark.sparkContext.addFile(url_airportCodes)\n",
    "df_lookup_codes = spark.read.csv(SparkFiles.get(\"airportCodes.csv\"), sep=\",\", header=True)\n"
   ]
  },
  {
   "cell_type": "code",
   "execution_count": 4,
   "metadata": {
    "colab": {
     "base_uri": "https://localhost:8080/"
    },
    "id": "q0mhM9KxQkXS",
    "outputId": "87c5a0d8-23b5-4d90-e59e-853e8e360b0d"
   },
   "outputs": [
    {
     "name": "stdout",
     "output_type": "stream",
     "text": [
      "+---+----+-----+----------+---------+-------+----------+-------+----------+-------------+---------+-------+-----------------+--------------+-------+--------+--------+------+----+--------+------+-------+---------+----------------+--------+------------+------------+--------+-------------+-----------------+\n",
      "| id|Year|Month|DayofMonth|DayOfWeek|DepTime|CRSDepTime|ArrTime|CRSArrTime|UniqueCarrier|FlightNum|TailNum|ActualElapsedTime|CRSElapsedTime|AirTime|ArrDelay|DepDelay|Origin|Dest|Distance|TaxiIn|TaxiOut|Cancelled|CancellationCode|Diverted|CarrierDelay|WeatherDelay|NASDelay|SecurityDelay|LateAircraftDelay|\n",
      "+---+----+-----+----------+---------+-------+----------+-------+----------+-------------+---------+-------+-----------------+--------------+-------+--------+--------+------+----+--------+------+-------+---------+----------------+--------+------------+------------+--------+-------------+-----------------+\n",
      "|  0|2008|    1|         3|        4|   2003|      1955|   2211|      2225|           WN|      335| N712SW|              128|           150|    116|     -14|       8|   IAD| TPA|     810|     4|      8|        0|               N|       0|        null|        null|    null|         null|             null|\n",
      "|  1|2008|    1|         3|        4|    754|       735|   1002|      1000|           WN|     3231| N772SW|              128|           145|    113|       2|      19|   IAD| TPA|     810|     5|     10|        0|               N|       0|        null|        null|    null|         null|             null|\n",
      "|  2|2008|    1|         3|        4|    628|       620|    804|       750|           WN|      448| N428WN|               96|            90|     76|      14|       8|   IND| BWI|     515|     3|     17|        0|               N|       0|        null|        null|    null|         null|             null|\n",
      "|  4|2008|    1|         3|        4|   1829|      1755|   1959|      1925|           WN|     3920| N464WN|               90|            90|     77|      34|      34|   IND| BWI|     515|     3|     10|        0|               N|       0|           2|           0|       0|            0|               32|\n",
      "|  5|2008|    1|         3|        4|   1940|      1915|   2121|      2110|           WN|      378| N726SW|              101|           115|     87|      11|      25|   IND| JAX|     688|     4|     10|        0|               N|       0|        null|        null|    null|         null|             null|\n",
      "|  6|2008|    1|         3|        4|   1937|      1830|   2037|      1940|           WN|      509| N763SW|              240|           250|    230|      57|      67|   IND| LAS|    1591|     3|      7|        0|               N|       0|          10|           0|       0|            0|               47|\n",
      "| 10|2008|    1|         3|        4|    706|       700|    916|       915|           WN|      100| N690SW|              130|           135|    106|       1|       6|   IND| MCO|     828|     5|     19|        0|               N|       0|        null|        null|    null|         null|             null|\n",
      "| 11|2008|    1|         3|        4|   1644|      1510|   1845|      1725|           WN|     1333| N334SW|              121|           135|    107|      80|      94|   IND| MCO|     828|     6|      8|        0|               N|       0|           8|           0|       0|            0|               72|\n",
      "| 15|2008|    1|         3|        4|   1029|      1020|   1021|      1010|           WN|     2272| N263WN|               52|            50|     37|      11|       9|   IND| MDW|     162|     6|      9|        0|               N|       0|        null|        null|    null|         null|             null|\n",
      "| 16|2008|    1|         3|        4|   1452|      1425|   1640|      1625|           WN|      675| N286WN|              228|           240|    213|      15|      27|   IND| PHX|    1489|     7|      8|        0|               N|       0|           3|           0|       0|            0|               12|\n",
      "| 17|2008|    1|         3|        4|    754|       745|    940|       955|           WN|     1144| N778SW|              226|           250|    205|     -15|       9|   IND| PHX|    1489|     5|     16|        0|               N|       0|        null|        null|    null|         null|             null|\n",
      "| 18|2008|    1|         3|        4|   1323|      1255|   1526|      1510|           WN|        4| N674AA|              123|           135|    110|      16|      28|   IND| TPA|     838|     4|      9|        0|               N|       0|           0|           0|       0|            0|               16|\n",
      "| 19|2008|    1|         3|        4|   1416|      1325|   1512|      1435|           WN|       54| N643SW|               56|            70|     49|      37|      51|   ISP| BWI|     220|     2|      5|        0|               N|       0|          12|           0|       0|            0|               25|\n",
      "| 21|2008|    1|         3|        4|   1657|      1625|   1754|      1735|           WN|      623| N724SW|               57|            70|     47|      19|      32|   ISP| BWI|     220|     5|      5|        0|               N|       0|           7|           0|       0|            0|               12|\n",
      "| 22|2008|    1|         3|        4|   1900|      1840|   1956|      1950|           WN|      717| N786SW|               56|            70|     49|       6|      20|   ISP| BWI|     220|     2|      5|        0|               N|       0|        null|        null|    null|         null|             null|\n",
      "| 23|2008|    1|         3|        4|   1039|      1030|   1133|      1140|           WN|     1244| N714CB|               54|            70|     47|      -7|       9|   ISP| BWI|     220|     2|      5|        0|               N|       0|        null|        null|    null|         null|             null|\n",
      "| 25|2008|    1|         3|        4|   1520|      1455|   1619|      1605|           WN|     2553| N394SW|               59|            70|     50|      14|      25|   ISP| BWI|     220|     2|      7|        0|               N|       0|        null|        null|    null|         null|             null|\n",
      "| 26|2008|    1|         3|        4|   1422|      1255|   1657|      1610|           WN|      188| N215WN|              155|           195|    143|      47|      87|   ISP| FLL|    1093|     6|      6|        0|               N|       0|          40|           0|       0|            0|                7|\n",
      "| 27|2008|    1|         3|        4|   1954|      1925|   2239|      2235|           WN|     1754| N243WN|              165|           190|    155|       4|      29|   ISP| FLL|    1093|     3|      7|        0|               N|       0|        null|        null|    null|         null|             null|\n",
      "| 30|2008|    1|         3|        4|   2107|      1945|   2334|      2230|           WN|      362| N798SW|              147|           165|    134|      64|      82|   ISP| MCO|     972|     6|      7|        0|               N|       0|           5|           0|       0|            0|               59|\n",
      "+---+----+-----+----------+---------+-------+----------+-------+----------+-------------+---------+-------+-----------------+--------------+-------+--------+--------+------+----+--------+------+-------+---------+----------------+--------+------------+------------+--------+-------------+-----------------+\n",
      "only showing top 20 rows\n",
      "\n"
     ]
    }
   ],
   "source": [
    "# Look over the delayed flight data.\n",
    "flights_df.show()"
   ]
  },
  {
   "cell_type": "code",
   "execution_count": 5,
   "metadata": {
    "colab": {
     "base_uri": "https://localhost:8080/"
    },
    "id": "qDfaP9NvQnh9",
    "outputId": "a6882e1e-866d-4b35-a013-c92d8a8c3dcf"
   },
   "outputs": [
    {
     "name": "stdout",
     "output_type": "stream",
     "text": [
      "+---------+-------------------+-------------------+--------------------+--------+---------+-------------+------------+------------+----+-----------+-----------+-----------+-----------+----------+---------+----+--------------+-----------------+\n",
      "|geonameid|               name|          asciiname|      alternatenames|latitude|longitude|feature_class|feature_code|country_code| cc2|admin1_code|admin2_code|admin3_code|admin4_code|population|elevation| dem|      timezone|modification_date|\n",
      "+---------+-------------------+-------------------+--------------------+--------+---------+-------------+------------+------------+----+-----------+-----------+-----------+-----------+----------+---------+----+--------------+-----------------+\n",
      "|  3038999|             Soldeu|             Soldeu|                null|42.57688|  1.66769|            P|         PPL|          AD|null|         02|       null|       null|       null|       602|     null|1832|Europe/Andorra|       2017-11-06|\n",
      "|  3039154|          El Tarter|          El Tarter|Ehl Tarter,Эл Тартер|42.57952|  1.65362|            P|         PPL|          AD|null|         02|       null|       null|       null|      1052|     null|1721|Europe/Andorra|       2012-11-03|\n",
      "|  3039163|Sant Julià de Lòria|Sant Julia de Loria|San Julia,San Jul...|42.46372|  1.49129|            P|        PPLA|          AD|null|         06|       null|       null|       null|      8022|     null| 921|Europe/Andorra|       2013-11-23|\n",
      "|  3039604|     Pas de la Casa|     Pas de la Casa|Pas de la Kasa,Па...|42.54277|  1.73361|            P|         PPL|          AD|null|         03|       null|       null|       null|      2363|     2050|2106|Europe/Andorra|       2008-06-09|\n",
      "|  3039678|             Ordino|             Ordino|Ordino,ao er di n...|42.55623|  1.53319|            P|        PPLA|          AD|null|         05|       null|       null|       null|      3066|     null|1296|Europe/Andorra|       2018-10-26|\n",
      "|  3040051|       les Escaldes|       les Escaldes|Ehskal'des-Ehndzh...|42.50729|  1.53414|            P|        PPLA|          AD|null|         08|       null|       null|       null|     15853|     null|1033|Europe/Andorra|       2008-10-15|\n",
      "|  3040132|         la Massana|         la Massana|La Macana,La Mass...|42.54499|  1.51483|            P|        PPLA|          AD|null|         04|       null|       null|       null|      7211|     null|1245|Europe/Andorra|       2008-10-15|\n",
      "|  3040141|           l'Aldosa|           l'Aldosa|                null|42.54391|  1.52289|            P|         PPL|          AD|null|         04|       null|       null|       null|       594|     null|1296|Europe/Andorra|       2007-04-29|\n",
      "|  3040686|             Encamp|             Encamp|Ehnkam,Encamp,en ...|42.53474|  1.58014|            P|        PPLA|          AD|null|         03|       null|       null|       null|     11223|     null|1257|Europe/Andorra|       2018-10-26|\n",
      "|  3041204|            Canillo|            Canillo|Canillo,Kanil'o,k...| 42.5676|  1.59756|            P|        PPLA|          AD|null|         02|       null|       null|       null|      3292|     null|1561|Europe/Andorra|       2018-10-26|\n",
      "|  3041519|            Arinsal|            Arinsal|Arinsal,Arinsal',...|42.57205|  1.48453|            P|         PPL|          AD|null|         04|       null|       null|       null|      1419|     null|1465|Europe/Andorra|       2010-01-29|\n",
      "|  3041563|   Andorra la Vella|   Andorra la Vella|ALV,Ando-la-Vyey,...|42.50779|  1.52109|            P|        PPLC|          AD|null|         07|       null|       null|       null|     20430|     null|1037|Europe/Andorra|       2020-03-03|\n",
      "|   290594| Umm Al Quwain City| Umm Al Quwain City|Oumm al Qaiwain,O...|25.56473| 55.55517|            P|        PPLA|          AE|null|         07|       null|       null|       null|     62747|     null|   2|    Asia/Dubai|       2019-10-24|\n",
      "|   291074|Ras Al Khaimah City|Ras Al Khaimah City|Julfa,Khaimah,RAK...|25.78953|  55.9432|            P|        PPLA|          AE|null|         05|       null|       null|       null|    351943|     null|   2|    Asia/Dubai|       2019-09-09|\n",
      "|   291279|           Muzayri‘|           Muzayri`|Mezaira'a,Mezaira...|23.14355|  53.7881|            P|         PPL|          AE|null|         01|       null|       null|       null|     10000|     null| 123|    Asia/Dubai|       2013-10-24|\n",
      "|   291339|             Murbaḩ|             Murbah|Marbah,Mirba,Mirb...|25.27623| 56.36256|            P|         PPL|          AE|null|         06|       null|       null|       null|      2000|     null|  15|    Asia/Dubai|       2020-06-10|\n",
      "|   291580|         Zayed City|         Zayed City|Bid' Zayed,Bid’ Z...|23.65416| 53.70522|            P|         PPL|          AE|null|         01|        103|       null|       null|     63482|     null| 124|    Asia/Dubai|       2019-10-24|\n",
      "|   291696|       Khawr Fakkān|       Khawr Fakkan|Fakkan,Fakkān,Kha...|25.33132| 56.34199|            P|         PPL|          AE|null|         06|       null|       null|       null|     40677|     null|  20|    Asia/Dubai|       2020-06-10|\n",
      "|   292223|              Dubai|              Dubai|DXB,Dabei,Dibai,D...|25.07725| 55.30927|            P|        PPLA|          AE|null|         03|       null|       null|       null|   2956587|     null|  24|    Asia/Dubai|       2019-08-28|\n",
      "|   292231|  Dibba Al-Fujairah|  Dibba Al-Fujairah|Al-Fujairah,BYB,D...|25.59246| 56.26176|            P|         PPL|          AE|null|         04|       null|       null|       null|     30000|     null|  16|    Asia/Dubai|       2014-08-12|\n",
      "+---------+-------------------+-------------------+--------------------+--------+---------+-------------+------------+------------+----+-----------+-----------+-----------+-----------+----------+---------+----+--------------+-----------------+\n",
      "only showing top 20 rows\n",
      "\n"
     ]
    }
   ],
   "source": [
    "# Look over the data of the 500 cities.\n",
    "df_lookup_geo.show()"
   ]
  },
  {
   "cell_type": "code",
   "execution_count": 6,
   "metadata": {
    "colab": {
     "base_uri": "https://localhost:8080/"
    },
    "id": "1LV1-sZ2QpZB",
    "outputId": "1070beea-2d44-4b84-d99a-e23fd633f6c1"
   },
   "outputs": [
    {
     "name": "stdout",
     "output_type": "stream",
     "text": [
      "+--------------+--------------------+-----------+\n",
      "|          City|             country|airportCode|\n",
      "+--------------+--------------------+-----------+\n",
      "|       Aalborg|             Denmark|        AAL|\n",
      "|      Aalesund|              Norway|        AES|\n",
      "|        Aarhus|             Denmark|        AAR|\n",
      "|Abbotsford, BC|              Canada|        YXX|\n",
      "|Abbotsford, BC|              Canada|        YXX|\n",
      "|      Aberdeen|            Scotland|        ABZ|\n",
      "|  Aberdeen, SD|                 USA|        ABR|\n",
      "|       Abidjan|         Ivory Coast|        ABJ|\n",
      "|   Abilene, TX|                 USA|        ABI|\n",
      "|     Abu Dhabi|United Arab Emirates|        AUH|\n",
      "|         Abuja|             Nigeria|        ABV|\n",
      "|      Acapulco|              Mexico|        ACA|\n",
      "|         Accra|               Ghana|        ACC|\n",
      "|         Adana|              Turkey|        ADA|\n",
      "|   Addis Ababa|            Ethiopia|        ADD|\n",
      "|Adelaide, S.A.|           Australia|        ADL|\n",
      "|          Aden|               Yemen|        ADE|\n",
      "|      Adiyaman|              Turkey|        ADF|\n",
      "|        Agadir|             Morocco|        AGA|\n",
      "|         Agana|                Guam|        GUM|\n",
      "+--------------+--------------------+-----------+\n",
      "only showing top 20 rows\n",
      "\n"
     ]
    }
   ],
   "source": [
    "# Look over the airport codes.\n",
    "df_lookup_codes.show()"
   ]
  },
  {
   "cell_type": "code",
   "execution_count": 7,
   "metadata": {
    "colab": {
     "base_uri": "https://localhost:8080/"
    },
    "id": "L_hKqNbW_EnA",
    "outputId": "2bccd7b6-c62e-432d-a2fc-bd0b21e828af"
   },
   "outputs": [
    {
     "name": "stdout",
     "output_type": "stream",
     "text": [
      "+------------+-------+-----------+\n",
      "|        City|country|airportCode|\n",
      "+------------+-------+-----------+\n",
      "|Aberdeen, SD|    USA|        ABR|\n",
      "| Abilene, TX|    USA|        ABI|\n",
      "|   Akron, OH|    USA|        CAK|\n",
      "| Alamosa, CO|    USA|        ALS|\n",
      "|  Albany, GA|    USA|        ABY|\n",
      "+------------+-------+-----------+\n",
      "only showing top 5 rows\n",
      "\n"
     ]
    }
   ],
   "source": [
    "# Filter the airport codes to only contain rows whose `country` equals `USA`\n",
    "df_lookup_city_name=df_lookup_codes.filter(\"country='USA'\")\n",
    "df_lookup_city_name.show(5)"
   ]
  },
  {
   "cell_type": "code",
   "execution_count": 8,
   "metadata": {
    "colab": {
     "base_uri": "https://localhost:8080/"
    },
    "id": "vujvlsjxSj7N",
    "outputId": "4e80faef-ec8a-45f3-d8d3-444297416a5b"
   },
   "outputs": [
    {
     "name": "stdout",
     "output_type": "stream",
     "text": [
      "+--------------+--------+---------+-----------+\n",
      "|          name|latitude|longitude|admin1_code|\n",
      "+--------------+--------+---------+-----------+\n",
      "|   Bay Minette|30.88296|-87.77305|         AL|\n",
      "|          Edna|28.97859|-96.64609|         TX|\n",
      "|Bayou La Batre|30.40352|-88.24852|         AL|\n",
      "|     Henderson|32.15322|-94.79938|         TX|\n",
      "|       Natalia|29.18968|-98.86253|         TX|\n",
      "+--------------+--------+---------+-----------+\n",
      "only showing top 5 rows\n",
      "\n"
     ]
    }
   ],
   "source": [
    "# Filter the latitude and longitude DataFrame to only contain the 'name','latitude','longitude','admin1_code' fields and rows whose `country_code` equals `US`\n",
    "df_lookup_geo=df_lookup_geo.select('name','latitude','longitude','admin1_code').filter(\"country_code='US'\")\n",
    "df_lookup_geo.show(5)"
   ]
  },
  {
   "cell_type": "code",
   "execution_count": 9,
   "metadata": {
    "id": "5DFhjm5Z_O5Z"
   },
   "outputs": [],
   "source": [
    "# Create temporary views for each of our DataFrames\n",
    "flights_df.createOrReplaceTempView('delayed')\n",
    "df_lookup_city_name.createOrReplaceTempView('lookup_city')\n",
    "df_lookup_geo.createOrReplaceTempView('lookup_geo')\n"
   ]
  },
  {
   "cell_type": "code",
   "execution_count": 10,
   "metadata": {
    "colab": {
     "base_uri": "https://localhost:8080/"
    },
    "id": "XZdAUFJ3bDKQ",
    "outputId": "0a60f1c5-0228-46b3-ecba-dac36f2914cf"
   },
   "outputs": [
    {
     "name": "stdout",
     "output_type": "stream",
     "text": [
      "+----+-----+----------+---------+-------+----------+-------+----------+-------------+---------+-------+-----------------+--------------+-------+--------+--------+------+---------------+----+---------------+--------+------+-------+---------+----------------+--------+------------+------------+--------+-------------+-----------------+\n",
      "|Year|Month|DayofMonth|DayOfWeek|DepTime|CRSDepTime|ArrTime|CRSArrTime|UniqueCarrier|FlightNum|TailNum|ActualElapsedTime|CRSElapsedTime|AirTime|ArrDelay|DepDelay|Origin|    Origin_City|Dest|      Dest_City|Distance|TaxiIn|TaxiOut|Cancelled|CancellationCode|Diverted|CarrierDelay|WeatherDelay|NASDelay|SecurityDelay|LateAircraftDelay|\n",
      "+----+-----+----------+---------+-------+----------+-------+----------+-------------+---------+-------+-----------------+--------------+-------+--------+--------+------+---------------+----+---------------+--------+------+-------+---------+----------------+--------+------------+------------+--------+-------------+-----------------+\n",
      "|2008|    1|         4|        5|   2003|      1845|   2207|      2040|           WN|      746| N667SW|               64|            55|     44|      87|      78|   ABQ|Albuquerque, NM| AMA|   Amarillo, TX|     277|     5|     15|        0|               N|       0|           0|           0|       9|            0|               78|\n",
      "|2008|    1|         4|        5|   1332|      1325|   1437|      1440|           WN|      182| N313SW|               65|            75|     54|      -3|       7|   ALB|     Albany, NY| BWI|  Baltimore, MD|     288|     3|      8|        0|               N|       0|        null|        null|    null|         null|             null|\n",
      "|2008|    1|         4|        5|   1020|      1005|   1128|      1120|           WN|      733| N650SW|               68|            75|     58|       8|      15|   ALB|     Albany, NY| BWI|  Baltimore, MD|     288|     3|      7|        0|               N|       0|        null|        null|    null|         null|             null|\n",
      "|2008|    1|         4|        5|   1831|      1820|   1941|      1935|           WN|     1861| N783SW|               70|            75|     57|       6|      11|   ALB|     Albany, NY| BWI|  Baltimore, MD|     288|     3|     10|        0|               N|       0|        null|        null|    null|         null|             null|\n",
      "|2008|    1|         4|        5|   1758|      1750|   2051|      2040|           WN|     2036| N660SW|              113|           110|    100|      11|       8|   BHM| Birmingham, AL| BWI|  Baltimore, MD|     682|     3|     10|        0|               N|       0|        null|        null|    null|         null|             null|\n",
      "|2008|    1|         4|        5|    836|       830|    943|       940|           WN|      922| N650SW|               67|            70|     55|       3|       6|   BWI|  Baltimore, MD| ALB|     Albany, NY|     288|     2|     10|        0|               N|       0|        null|        null|    null|         null|             null|\n",
      "|2008|    1|         4|        5|   1652|      1645|   1755|      1755|           WN|     1774| N783SW|               63|            70|     51|       0|       7|   BWI|  Baltimore, MD| ALB|     Albany, NY|     288|     5|      7|        0|               N|       0|        null|        null|    null|         null|             null|\n",
      "|2008|    1|         4|        5|   1035|      1025|   1143|      1135|           WN|     3569| N276WN|               68|            70|     53|       8|      10|   BWI|  Baltimore, MD| ALB|     Albany, NY|     288|     5|     10|        0|               N|       0|        null|        null|    null|         null|             null|\n",
      "|2008|    1|         4|        5|   1828|      1805|   1917|      1915|           WN|      623| N757LV|              109|           130|     97|       2|      23|   BWI|  Baltimore, MD| BHM| Birmingham, AL|     682|     3|      9|        0|               N|       0|        null|        null|    null|         null|             null|\n",
      "|2008|    1|         4|        5|   1317|      1310|   1401|      1420|           WN|     1857| N280WN|              104|           130|     95|     -19|       7|   BWI|  Baltimore, MD| BHM| Birmingham, AL|     682|     2|      7|        0|               N|       0|        null|        null|    null|         null|             null|\n",
      "|2008|    1|         5|        6|   2001|      1845|   2150|      2040|           WN|      746| N412WN|               49|            55|     39|      70|      76|   ABQ|Albuquerque, NM| AMA|   Amarillo, TX|     277|     4|      6|        0|               N|       0|           3|           0|       0|            0|               67|\n",
      "|2008|    1|         5|        6|   1124|      1005|   1227|      1120|           WN|      733| N794SW|               63|            75|     50|      67|      79|   ALB|     Albany, NY| BWI|  Baltimore, MD|     288|     3|     10|        0|               N|       0|          67|           0|       0|            0|                0|\n",
      "|2008|    1|         5|        6|   1544|      1515|   1654|      1630|           WN|     3046| N723SW|               70|            75|     56|      24|      29|   ALB|     Albany, NY| BWI|  Baltimore, MD|     288|     4|     10|        0|               N|       0|          11|           0|       0|            0|               13|\n",
      "|2008|    1|         5|        6|   1426|      1415|   1832|      1815|           WN|     1001| N366SW|              186|           180|    164|      17|      11|   AUS|     Austin, TX| BWI|  Baltimore, MD|    1342|     4|     18|        0|               N|       0|           0|           0|       6|            0|               11|\n",
      "|2008|    1|         5|        6|   1806|      1750|   2047|      2040|           WN|     2036| N614SW|              101|           110|     88|       7|      16|   BHM| Birmingham, AL| BWI|  Baltimore, MD|     682|     3|     10|        0|               N|       0|        null|        null|    null|         null|             null|\n",
      "|2008|    1|         5|        6|   1508|      1425|   1719|      1655|           WN|      644| N737JW|              251|           270|    237|      24|      43|   BWI|  Baltimore, MD| ABQ|Albuquerque, NM|    1670|     5|      9|        0|               N|       0|           8|           0|       0|            0|               16|\n",
      "|2008|    1|         5|        6|   1808|      1755|   1909|      1905|           WN|      236| N708SA|               61|            70|     49|       4|      13|   BWI|  Baltimore, MD| ALB|     Albany, NY|     288|     3|      9|        0|               N|       0|        null|        null|    null|         null|             null|\n",
      "|2008|    1|         5|        6|   1359|      1340|   1506|      1450|           WN|      323| N723SW|               67|            70|     53|      16|      19|   BWI|  Baltimore, MD| ALB|     Albany, NY|     288|     3|     11|        0|               N|       0|           6|           0|       0|            0|               10|\n",
      "|2008|    1|         5|        6|   1433|      1420|   1700|      1710|           WN|      160| N264LV|              207|           230|    196|     -10|      13|   BWI|  Baltimore, MD| AUS|     Austin, TX|    1342|     4|      7|        0|               N|       0|        null|        null|    null|         null|             null|\n",
      "|2008|    1|         5|        6|   1814|      1805|   1910|      1915|           WN|      623| N624SW|              116|           130|    105|      -5|       9|   BWI|  Baltimore, MD| BHM| Birmingham, AL|     682|     4|      7|        0|               N|       0|        null|        null|    null|         null|             null|\n",
      "+----+-----+----------+---------+-------+----------+-------+----------+-------------+---------+-------+-----------------+--------------+-------+--------+--------+------+---------------+----+---------------+--------+------+-------+---------+----------------+--------+------------+------------+--------+-------------+-----------------+\n",
      "only showing top 20 rows\n",
      "\n",
      "--- 0.8013510704040527 seconds ---\n"
     ]
    }
   ],
   "source": [
    "# First, join the airport codes lookup table to the delayed flight DataFrame \n",
    "# and add the city of origin and destination like we did in the instructor demonstration.  \n",
    "\n",
    "start_time = time.time()\n",
    "\n",
    "spark.sql(\"\"\"\n",
    "select a.Year,\n",
    "a.Month,\n",
    "a.DayofMonth,\n",
    "a.DayOfWeek,\n",
    "a.DepTime,\n",
    "a.CRSDepTime,\n",
    "a.ArrTime,\n",
    "a.CRSArrTime,\n",
    "a.UniqueCarrier,\n",
    "a.FlightNum,\n",
    "a.TailNum,\n",
    "a.ActualElapsedTime,\n",
    "a.CRSElapsedTime,\n",
    "a.AirTime,\n",
    "a.ArrDelay,\n",
    "a.DepDelay,\n",
    "a.Origin,\n",
    "b.City as Origin_City,\n",
    "a.Dest,\n",
    "c.City as Dest_City,\n",
    "a.Distance,\n",
    "a.TaxiIn,\n",
    "a.TaxiOut,\n",
    "a.Cancelled,\n",
    "a.CancellationCode,\n",
    "a.Diverted,\n",
    "a.CarrierDelay,\n",
    "a.WeatherDelay,\n",
    "a.NASDelay,\n",
    "a.SecurityDelay,\n",
    "a.LateAircraftDelay from delayed a \n",
    "  inner join lookup_city b\n",
    "    on a.Origin=b.airportCode\n",
    "  inner join lookup_city c\n",
    "    on a.Dest=c.airportCode\n",
    "\"\"\").show()\n",
    "\n",
    "print(\"--- %s seconds ---\" % (time.time() - start_time))"
   ]
  },
  {
   "cell_type": "code",
   "execution_count": 11,
   "metadata": {
    "colab": {
     "base_uri": "https://localhost:8080/"
    },
    "id": "0eq0zGP4ciPp",
    "outputId": "6ecc994a-8a7f-4a67-893d-617710687afa"
   },
   "outputs": [
    {
     "name": "stdout",
     "output_type": "stream",
     "text": [
      "+----+-----+----------+---------+-------+----------+-------+----------+-------------+---------+-------+-----------------+--------------+-------+--------+--------+------+---------------+---------------+----------------+----+---------------+--------+------+-------+---------+----------------+--------+------------+------------+--------+-------------+-----------------+\n",
      "|Year|Month|DayofMonth|DayOfWeek|DepTime|CRSDepTime|ArrTime|CRSArrTime|UniqueCarrier|FlightNum|TailNum|ActualElapsedTime|CRSElapsedTime|AirTime|ArrDelay|DepDelay|Origin|    Origin_City|Origin_latitude|Origin_longitude|Dest|      Dest_City|Distance|TaxiIn|TaxiOut|Cancelled|CancellationCode|Diverted|CarrierDelay|WeatherDelay|NASDelay|SecurityDelay|LateAircraftDelay|\n",
      "+----+-----+----------+---------+-------+----------+-------+----------+-------------+---------+-------+-----------------+--------------+-------+--------+--------+------+---------------+---------------+----------------+----+---------------+--------+------+-------+---------+----------------+--------+------------+------------+--------+-------------+-----------------+\n",
      "|2008|    1|         4|        5|   2003|      1845|   2207|      2040|           WN|      746| N667SW|               64|            55|     44|      87|      78|   ABQ|Albuquerque, NM|       35.08449|      -106.65114| AMA|   Amarillo, TX|     277|     5|     15|        0|               N|       0|           0|           0|       9|            0|               78|\n",
      "|2008|    1|         4|        5|   1332|      1325|   1437|      1440|           WN|      182| N313SW|               65|            75|     54|      -3|       7|   ALB|     Albany, NY|       42.65258|       -73.75623| BWI|  Baltimore, MD|     288|     3|      8|        0|               N|       0|        null|        null|    null|         null|             null|\n",
      "|2008|    1|         4|        5|   1020|      1005|   1128|      1120|           WN|      733| N650SW|               68|            75|     58|       8|      15|   ALB|     Albany, NY|       42.65258|       -73.75623| BWI|  Baltimore, MD|     288|     3|      7|        0|               N|       0|        null|        null|    null|         null|             null|\n",
      "|2008|    1|         4|        5|   1831|      1820|   1941|      1935|           WN|     1861| N783SW|               70|            75|     57|       6|      11|   ALB|     Albany, NY|       42.65258|       -73.75623| BWI|  Baltimore, MD|     288|     3|     10|        0|               N|       0|        null|        null|    null|         null|             null|\n",
      "|2008|    1|         4|        5|   1758|      1750|   2051|      2040|           WN|     2036| N660SW|              113|           110|    100|      11|       8|   BHM| Birmingham, AL|       33.52066|       -86.80249| BWI|  Baltimore, MD|     682|     3|     10|        0|               N|       0|        null|        null|    null|         null|             null|\n",
      "|2008|    1|         4|        5|    836|       830|    943|       940|           WN|      922| N650SW|               67|            70|     55|       3|       6|   BWI|  Baltimore, MD|       39.29038|       -76.61219| ALB|     Albany, NY|     288|     2|     10|        0|               N|       0|        null|        null|    null|         null|             null|\n",
      "|2008|    1|         4|        5|   1652|      1645|   1755|      1755|           WN|     1774| N783SW|               63|            70|     51|       0|       7|   BWI|  Baltimore, MD|       39.29038|       -76.61219| ALB|     Albany, NY|     288|     5|      7|        0|               N|       0|        null|        null|    null|         null|             null|\n",
      "|2008|    1|         4|        5|   1035|      1025|   1143|      1135|           WN|     3569| N276WN|               68|            70|     53|       8|      10|   BWI|  Baltimore, MD|       39.29038|       -76.61219| ALB|     Albany, NY|     288|     5|     10|        0|               N|       0|        null|        null|    null|         null|             null|\n",
      "|2008|    1|         4|        5|   1828|      1805|   1917|      1915|           WN|      623| N757LV|              109|           130|     97|       2|      23|   BWI|  Baltimore, MD|       39.29038|       -76.61219| BHM| Birmingham, AL|     682|     3|      9|        0|               N|       0|        null|        null|    null|         null|             null|\n",
      "|2008|    1|         4|        5|   1317|      1310|   1401|      1420|           WN|     1857| N280WN|              104|           130|     95|     -19|       7|   BWI|  Baltimore, MD|       39.29038|       -76.61219| BHM| Birmingham, AL|     682|     2|      7|        0|               N|       0|        null|        null|    null|         null|             null|\n",
      "|2008|    1|         5|        6|   2001|      1845|   2150|      2040|           WN|      746| N412WN|               49|            55|     39|      70|      76|   ABQ|Albuquerque, NM|       35.08449|      -106.65114| AMA|   Amarillo, TX|     277|     4|      6|        0|               N|       0|           3|           0|       0|            0|               67|\n",
      "|2008|    1|         5|        6|   1124|      1005|   1227|      1120|           WN|      733| N794SW|               63|            75|     50|      67|      79|   ALB|     Albany, NY|       42.65258|       -73.75623| BWI|  Baltimore, MD|     288|     3|     10|        0|               N|       0|          67|           0|       0|            0|                0|\n",
      "|2008|    1|         5|        6|   1544|      1515|   1654|      1630|           WN|     3046| N723SW|               70|            75|     56|      24|      29|   ALB|     Albany, NY|       42.65258|       -73.75623| BWI|  Baltimore, MD|     288|     4|     10|        0|               N|       0|          11|           0|       0|            0|               13|\n",
      "|2008|    1|         5|        6|   1426|      1415|   1832|      1815|           WN|     1001| N366SW|              186|           180|    164|      17|      11|   AUS|     Austin, TX|       30.26715|       -97.74306| BWI|  Baltimore, MD|    1342|     4|     18|        0|               N|       0|           0|           0|       6|            0|               11|\n",
      "|2008|    1|         5|        6|   1806|      1750|   2047|      2040|           WN|     2036| N614SW|              101|           110|     88|       7|      16|   BHM| Birmingham, AL|       33.52066|       -86.80249| BWI|  Baltimore, MD|     682|     3|     10|        0|               N|       0|        null|        null|    null|         null|             null|\n",
      "|2008|    1|         5|        6|   1508|      1425|   1719|      1655|           WN|      644| N737JW|              251|           270|    237|      24|      43|   BWI|  Baltimore, MD|       39.29038|       -76.61219| ABQ|Albuquerque, NM|    1670|     5|      9|        0|               N|       0|           8|           0|       0|            0|               16|\n",
      "|2008|    1|         5|        6|   1808|      1755|   1909|      1905|           WN|      236| N708SA|               61|            70|     49|       4|      13|   BWI|  Baltimore, MD|       39.29038|       -76.61219| ALB|     Albany, NY|     288|     3|      9|        0|               N|       0|        null|        null|    null|         null|             null|\n",
      "|2008|    1|         5|        6|   1359|      1340|   1506|      1450|           WN|      323| N723SW|               67|            70|     53|      16|      19|   BWI|  Baltimore, MD|       39.29038|       -76.61219| ALB|     Albany, NY|     288|     3|     11|        0|               N|       0|           6|           0|       0|            0|               10|\n",
      "|2008|    1|         5|        6|   1433|      1420|   1700|      1710|           WN|      160| N264LV|              207|           230|    196|     -10|      13|   BWI|  Baltimore, MD|       39.29038|       -76.61219| AUS|     Austin, TX|    1342|     4|      7|        0|               N|       0|        null|        null|    null|         null|             null|\n",
      "|2008|    1|         5|        6|   1814|      1805|   1910|      1915|           WN|      623| N624SW|              116|           130|    105|      -5|       9|   BWI|  Baltimore, MD|       39.29038|       -76.61219| BHM| Birmingham, AL|     682|     4|      7|        0|               N|       0|        null|        null|    null|         null|             null|\n",
      "+----+-----+----------+---------+-------+----------+-------+----------+-------------+---------+-------+-----------------+--------------+-------+--------+--------+------+---------------+---------------+----------------+----+---------------+--------+------+-------+---------+----------------+--------+------------+------------+--------+-------------+-----------------+\n",
      "only showing top 20 rows\n",
      "\n",
      "--- 0.8214070796966553 seconds ---\n"
     ]
    }
   ],
   "source": [
    "# Add the `origin_latitude` and `origin_longitude` fields by joining the `lookup_geo` view \n",
    "# to the `lookup_city` view and the delayed flight DataFrame.\n",
    "# Note:  The two lookup views do not have matching columns, so we must be mindful what names are used when joining both views together.\n",
    "\n",
    "start_time = time.time()\n",
    "\n",
    "spark.sql(\"\"\"\n",
    "select a.Year,\n",
    "a.Month,\n",
    "a.DayofMonth,\n",
    "a.DayOfWeek,\n",
    "a.DepTime,\n",
    "a.CRSDepTime,\n",
    "a.ArrTime,\n",
    "a.CRSArrTime,\n",
    "a.UniqueCarrier,\n",
    "a.FlightNum,\n",
    "a.TailNum,\n",
    "a.ActualElapsedTime,\n",
    "a.CRSElapsedTime,\n",
    "a.AirTime,\n",
    "a.ArrDelay,\n",
    "a.DepDelay,\n",
    "a.Origin,\n",
    "b.City as Origin_City,\n",
    "geo.latitude as Origin_latitude,\n",
    "geo.longitude as Origin_longitude,\n",
    "a.Dest,\n",
    "c.City as Dest_City,\n",
    "a.Distance,\n",
    "a.TaxiIn,\n",
    "a.TaxiOut,\n",
    "a.Cancelled,\n",
    "a.CancellationCode,\n",
    "a.Diverted,\n",
    "a.CarrierDelay,\n",
    "a.WeatherDelay,\n",
    "a.NASDelay,\n",
    "a.SecurityDelay,\n",
    "a.LateAircraftDelay from delayed a \n",
    "  inner join lookup_city b\n",
    "    on a.Origin=b.airportCode\n",
    "  inner join lookup_city c\n",
    "    on a.Dest=c.airportCode\n",
    "  inner join lookup_geo geo\n",
    "on split(b.City,',')[0]=geo.name and trim(split(b.City,',')[1])=geo.admin1_code\n",
    "\"\"\").show()\n",
    "\n",
    "print(\"--- %s seconds ---\" % (time.time() - start_time))"
   ]
  },
  {
   "cell_type": "code",
   "execution_count": 12,
   "metadata": {
    "colab": {
     "base_uri": "https://localhost:8080/"
    },
    "id": "kzMGI_BfXSc8",
    "outputId": "49834fe3-95fc-47a4-88ea-c172f8e96886"
   },
   "outputs": [
    {
     "name": "stdout",
     "output_type": "stream",
     "text": [
      "+----+-----+----------+---------+-------+----------+-------+----------+-------------+---------+-------+-----------------+--------------+-------+--------+--------+------+---------------+---------------+----------------+----+---------------+-------------+--------------+--------+------+-------+---------+----------------+--------+------------+------------+--------+-------------+-----------------+\n",
      "|Year|Month|DayofMonth|DayOfWeek|DepTime|CRSDepTime|ArrTime|CRSArrTime|UniqueCarrier|FlightNum|TailNum|ActualElapsedTime|CRSElapsedTime|AirTime|ArrDelay|DepDelay|Origin|    Origin_City|Origin_latitude|Origin_longitude|Dest|      Dest_City|Dest_latitude|Dest_longitude|Distance|TaxiIn|TaxiOut|Cancelled|CancellationCode|Diverted|CarrierDelay|WeatherDelay|NASDelay|SecurityDelay|LateAircraftDelay|\n",
      "+----+-----+----------+---------+-------+----------+-------+----------+-------------+---------+-------+-----------------+--------------+-------+--------+--------+------+---------------+---------------+----------------+----+---------------+-------------+--------------+--------+------+-------+---------+----------------+--------+------------+------------+--------+-------------+-----------------+\n",
      "|2008|    1|         4|        5|   2003|      1845|   2207|      2040|           WN|      746| N667SW|               64|            55|     44|      87|      78|   ABQ|Albuquerque, NM|       35.08449|      -106.65114| AMA|   Amarillo, TX|       35.222|     -101.8313|     277|     5|     15|        0|               N|       0|           0|           0|       9|            0|               78|\n",
      "|2008|    1|         4|        5|   1332|      1325|   1437|      1440|           WN|      182| N313SW|               65|            75|     54|      -3|       7|   ALB|     Albany, NY|       42.65258|       -73.75623| BWI|  Baltimore, MD|     39.29038|     -76.61219|     288|     3|      8|        0|               N|       0|        null|        null|    null|         null|             null|\n",
      "|2008|    1|         4|        5|   1020|      1005|   1128|      1120|           WN|      733| N650SW|               68|            75|     58|       8|      15|   ALB|     Albany, NY|       42.65258|       -73.75623| BWI|  Baltimore, MD|     39.29038|     -76.61219|     288|     3|      7|        0|               N|       0|        null|        null|    null|         null|             null|\n",
      "|2008|    1|         4|        5|   1831|      1820|   1941|      1935|           WN|     1861| N783SW|               70|            75|     57|       6|      11|   ALB|     Albany, NY|       42.65258|       -73.75623| BWI|  Baltimore, MD|     39.29038|     -76.61219|     288|     3|     10|        0|               N|       0|        null|        null|    null|         null|             null|\n",
      "|2008|    1|         4|        5|   1758|      1750|   2051|      2040|           WN|     2036| N660SW|              113|           110|    100|      11|       8|   BHM| Birmingham, AL|       33.52066|       -86.80249| BWI|  Baltimore, MD|     39.29038|     -76.61219|     682|     3|     10|        0|               N|       0|        null|        null|    null|         null|             null|\n",
      "|2008|    1|         4|        5|    836|       830|    943|       940|           WN|      922| N650SW|               67|            70|     55|       3|       6|   BWI|  Baltimore, MD|       39.29038|       -76.61219| ALB|     Albany, NY|     42.65258|     -73.75623|     288|     2|     10|        0|               N|       0|        null|        null|    null|         null|             null|\n",
      "|2008|    1|         4|        5|   1652|      1645|   1755|      1755|           WN|     1774| N783SW|               63|            70|     51|       0|       7|   BWI|  Baltimore, MD|       39.29038|       -76.61219| ALB|     Albany, NY|     42.65258|     -73.75623|     288|     5|      7|        0|               N|       0|        null|        null|    null|         null|             null|\n",
      "|2008|    1|         4|        5|   1035|      1025|   1143|      1135|           WN|     3569| N276WN|               68|            70|     53|       8|      10|   BWI|  Baltimore, MD|       39.29038|       -76.61219| ALB|     Albany, NY|     42.65258|     -73.75623|     288|     5|     10|        0|               N|       0|        null|        null|    null|         null|             null|\n",
      "|2008|    1|         4|        5|   1828|      1805|   1917|      1915|           WN|      623| N757LV|              109|           130|     97|       2|      23|   BWI|  Baltimore, MD|       39.29038|       -76.61219| BHM| Birmingham, AL|     33.52066|     -86.80249|     682|     3|      9|        0|               N|       0|        null|        null|    null|         null|             null|\n",
      "|2008|    1|         4|        5|   1317|      1310|   1401|      1420|           WN|     1857| N280WN|              104|           130|     95|     -19|       7|   BWI|  Baltimore, MD|       39.29038|       -76.61219| BHM| Birmingham, AL|     33.52066|     -86.80249|     682|     2|      7|        0|               N|       0|        null|        null|    null|         null|             null|\n",
      "|2008|    1|         5|        6|   2001|      1845|   2150|      2040|           WN|      746| N412WN|               49|            55|     39|      70|      76|   ABQ|Albuquerque, NM|       35.08449|      -106.65114| AMA|   Amarillo, TX|       35.222|     -101.8313|     277|     4|      6|        0|               N|       0|           3|           0|       0|            0|               67|\n",
      "|2008|    1|         5|        6|   1124|      1005|   1227|      1120|           WN|      733| N794SW|               63|            75|     50|      67|      79|   ALB|     Albany, NY|       42.65258|       -73.75623| BWI|  Baltimore, MD|     39.29038|     -76.61219|     288|     3|     10|        0|               N|       0|          67|           0|       0|            0|                0|\n",
      "|2008|    1|         5|        6|   1544|      1515|   1654|      1630|           WN|     3046| N723SW|               70|            75|     56|      24|      29|   ALB|     Albany, NY|       42.65258|       -73.75623| BWI|  Baltimore, MD|     39.29038|     -76.61219|     288|     4|     10|        0|               N|       0|          11|           0|       0|            0|               13|\n",
      "|2008|    1|         5|        6|   1426|      1415|   1832|      1815|           WN|     1001| N366SW|              186|           180|    164|      17|      11|   AUS|     Austin, TX|       30.26715|       -97.74306| BWI|  Baltimore, MD|     39.29038|     -76.61219|    1342|     4|     18|        0|               N|       0|           0|           0|       6|            0|               11|\n",
      "|2008|    1|         5|        6|   1806|      1750|   2047|      2040|           WN|     2036| N614SW|              101|           110|     88|       7|      16|   BHM| Birmingham, AL|       33.52066|       -86.80249| BWI|  Baltimore, MD|     39.29038|     -76.61219|     682|     3|     10|        0|               N|       0|        null|        null|    null|         null|             null|\n",
      "|2008|    1|         5|        6|   1508|      1425|   1719|      1655|           WN|      644| N737JW|              251|           270|    237|      24|      43|   BWI|  Baltimore, MD|       39.29038|       -76.61219| ABQ|Albuquerque, NM|     35.08449|    -106.65114|    1670|     5|      9|        0|               N|       0|           8|           0|       0|            0|               16|\n",
      "|2008|    1|         5|        6|   1808|      1755|   1909|      1905|           WN|      236| N708SA|               61|            70|     49|       4|      13|   BWI|  Baltimore, MD|       39.29038|       -76.61219| ALB|     Albany, NY|     42.65258|     -73.75623|     288|     3|      9|        0|               N|       0|        null|        null|    null|         null|             null|\n",
      "|2008|    1|         5|        6|   1359|      1340|   1506|      1450|           WN|      323| N723SW|               67|            70|     53|      16|      19|   BWI|  Baltimore, MD|       39.29038|       -76.61219| ALB|     Albany, NY|     42.65258|     -73.75623|     288|     3|     11|        0|               N|       0|           6|           0|       0|            0|               10|\n",
      "|2008|    1|         5|        6|   1433|      1420|   1700|      1710|           WN|      160| N264LV|              207|           230|    196|     -10|      13|   BWI|  Baltimore, MD|       39.29038|       -76.61219| AUS|     Austin, TX|     30.26715|     -97.74306|    1342|     4|      7|        0|               N|       0|        null|        null|    null|         null|             null|\n",
      "|2008|    1|         5|        6|   1814|      1805|   1910|      1915|           WN|      623| N624SW|              116|           130|    105|      -5|       9|   BWI|  Baltimore, MD|       39.29038|       -76.61219| BHM| Birmingham, AL|     33.52066|     -86.80249|     682|     4|      7|        0|               N|       0|        null|        null|    null|         null|             null|\n",
      "+----+-----+----------+---------+-------+----------+-------+----------+-------------+---------+-------+-----------------+--------------+-------+--------+--------+------+---------------+---------------+----------------+----+---------------+-------------+--------------+--------+------+-------+---------+----------------+--------+------------+------------+--------+-------------+-----------------+\n",
      "only showing top 20 rows\n",
      "\n",
      "--- 1.0074589252471924 seconds ---\n"
     ]
    }
   ],
   "source": [
    "# Finally, add the `dest_latitude` and `dest_longitude` fields by joining the `lookup_geo` view again as another alias, `geo_dest`.\n",
    "\n",
    "start_time = time.time()\n",
    "\n",
    "spark.sql(\"\"\"\n",
    "select a.Year,\n",
    "a.Month,\n",
    "a.DayofMonth,\n",
    "a.DayOfWeek,\n",
    "a.DepTime,\n",
    "a.CRSDepTime,\n",
    "a.ArrTime,\n",
    "a.CRSArrTime,\n",
    "a.UniqueCarrier,\n",
    "a.FlightNum,\n",
    "a.TailNum,\n",
    "a.ActualElapsedTime,\n",
    "a.CRSElapsedTime,\n",
    "a.AirTime,\n",
    "a.ArrDelay,\n",
    "a.DepDelay,\n",
    "a.Origin,\n",
    "b.City as Origin_City,\n",
    "geo.latitude as Origin_latitude,\n",
    "geo.longitude as Origin_longitude,\n",
    "a.Dest,\n",
    "c.City as Dest_City,\n",
    "geo_dest.latitude as Dest_latitude,\n",
    "geo_dest.longitude as Dest_longitude,\n",
    "a.Distance,\n",
    "a.TaxiIn,\n",
    "a.TaxiOut,\n",
    "a.Cancelled,\n",
    "a.CancellationCode,\n",
    "a.Diverted,\n",
    "a.CarrierDelay,\n",
    "a.WeatherDelay,\n",
    "a.NASDelay,\n",
    "a.SecurityDelay,\n",
    "a.LateAircraftDelay from delayed a \n",
    "  inner join lookup_city b\n",
    "    on a.Origin=b.airportCode\n",
    "  inner join lookup_city c\n",
    "    on a.Dest=c.airportCode\n",
    "  inner join lookup_geo geo\n",
    "on split(b.City,',')[0]=geo.name and trim(split(b.City,',')[1])=geo.admin1_code\n",
    "  inner join lookup_geo geo_dest\n",
    "    on c.City=concat(geo_dest.name,', ',geo_dest.admin1_code)\n",
    "\"\"\").show()\n",
    "\n",
    "print(\"--- %s seconds ---\" % (time.time() - start_time))"
   ]
  },
  {
   "cell_type": "code",
   "execution_count": 13,
   "metadata": {
    "colab": {
     "base_uri": "https://localhost:8080/"
    },
    "id": "EgJRNc8h_bHI",
    "outputId": "178d0e26-772e-4e58-834d-d8d7a4b60b26"
   },
   "outputs": [
    {
     "name": "stdout",
     "output_type": "stream",
     "text": [
      "23/02/08 13:19:41 WARN HintErrorLogger: Count not find relation 'lookup_geo' specified in hint 'BROADCAST(lookup_geo)'.\n",
      "+----+-----+----------+---------+-------+----------+-------+----------+-------------+---------+-------+-----------------+--------------+-------+--------+--------+------+---------------+---------------+----------------+----+---------------+-------------+--------------+--------+------+-------+---------+----------------+--------+------------+------------+--------+-------------+-----------------+\n",
      "|Year|Month|DayofMonth|DayOfWeek|DepTime|CRSDepTime|ArrTime|CRSArrTime|UniqueCarrier|FlightNum|TailNum|ActualElapsedTime|CRSElapsedTime|AirTime|ArrDelay|DepDelay|Origin|    Origin_City|Origin_latitude|Origin_longitude|Dest|      Dest_City|Dest_latitude|Dest_longitude|Distance|TaxiIn|TaxiOut|Cancelled|CancellationCode|Diverted|CarrierDelay|WeatherDelay|NASDelay|SecurityDelay|LateAircraftDelay|\n",
      "+----+-----+----------+---------+-------+----------+-------+----------+-------------+---------+-------+-----------------+--------------+-------+--------+--------+------+---------------+---------------+----------------+----+---------------+-------------+--------------+--------+------+-------+---------+----------------+--------+------------+------------+--------+-------------+-----------------+\n",
      "|2008|    1|         4|        5|   2003|      1845|   2207|      2040|           WN|      746| N667SW|               64|            55|     44|      87|      78|   ABQ|Albuquerque, NM|       35.08449|      -106.65114| AMA|   Amarillo, TX|       35.222|     -101.8313|     277|     5|     15|        0|               N|       0|           0|           0|       9|            0|               78|\n",
      "|2008|    1|         4|        5|   1332|      1325|   1437|      1440|           WN|      182| N313SW|               65|            75|     54|      -3|       7|   ALB|     Albany, NY|       42.65258|       -73.75623| BWI|  Baltimore, MD|     39.29038|     -76.61219|     288|     3|      8|        0|               N|       0|        null|        null|    null|         null|             null|\n",
      "|2008|    1|         4|        5|   1020|      1005|   1128|      1120|           WN|      733| N650SW|               68|            75|     58|       8|      15|   ALB|     Albany, NY|       42.65258|       -73.75623| BWI|  Baltimore, MD|     39.29038|     -76.61219|     288|     3|      7|        0|               N|       0|        null|        null|    null|         null|             null|\n",
      "|2008|    1|         4|        5|   1831|      1820|   1941|      1935|           WN|     1861| N783SW|               70|            75|     57|       6|      11|   ALB|     Albany, NY|       42.65258|       -73.75623| BWI|  Baltimore, MD|     39.29038|     -76.61219|     288|     3|     10|        0|               N|       0|        null|        null|    null|         null|             null|\n",
      "|2008|    1|         4|        5|   1758|      1750|   2051|      2040|           WN|     2036| N660SW|              113|           110|    100|      11|       8|   BHM| Birmingham, AL|       33.52066|       -86.80249| BWI|  Baltimore, MD|     39.29038|     -76.61219|     682|     3|     10|        0|               N|       0|        null|        null|    null|         null|             null|\n",
      "|2008|    1|         4|        5|    836|       830|    943|       940|           WN|      922| N650SW|               67|            70|     55|       3|       6|   BWI|  Baltimore, MD|       39.29038|       -76.61219| ALB|     Albany, NY|     42.65258|     -73.75623|     288|     2|     10|        0|               N|       0|        null|        null|    null|         null|             null|\n",
      "|2008|    1|         4|        5|   1652|      1645|   1755|      1755|           WN|     1774| N783SW|               63|            70|     51|       0|       7|   BWI|  Baltimore, MD|       39.29038|       -76.61219| ALB|     Albany, NY|     42.65258|     -73.75623|     288|     5|      7|        0|               N|       0|        null|        null|    null|         null|             null|\n",
      "|2008|    1|         4|        5|   1035|      1025|   1143|      1135|           WN|     3569| N276WN|               68|            70|     53|       8|      10|   BWI|  Baltimore, MD|       39.29038|       -76.61219| ALB|     Albany, NY|     42.65258|     -73.75623|     288|     5|     10|        0|               N|       0|        null|        null|    null|         null|             null|\n",
      "|2008|    1|         4|        5|   1828|      1805|   1917|      1915|           WN|      623| N757LV|              109|           130|     97|       2|      23|   BWI|  Baltimore, MD|       39.29038|       -76.61219| BHM| Birmingham, AL|     33.52066|     -86.80249|     682|     3|      9|        0|               N|       0|        null|        null|    null|         null|             null|\n",
      "|2008|    1|         4|        5|   1317|      1310|   1401|      1420|           WN|     1857| N280WN|              104|           130|     95|     -19|       7|   BWI|  Baltimore, MD|       39.29038|       -76.61219| BHM| Birmingham, AL|     33.52066|     -86.80249|     682|     2|      7|        0|               N|       0|        null|        null|    null|         null|             null|\n",
      "|2008|    1|         5|        6|   2001|      1845|   2150|      2040|           WN|      746| N412WN|               49|            55|     39|      70|      76|   ABQ|Albuquerque, NM|       35.08449|      -106.65114| AMA|   Amarillo, TX|       35.222|     -101.8313|     277|     4|      6|        0|               N|       0|           3|           0|       0|            0|               67|\n",
      "|2008|    1|         5|        6|   1124|      1005|   1227|      1120|           WN|      733| N794SW|               63|            75|     50|      67|      79|   ALB|     Albany, NY|       42.65258|       -73.75623| BWI|  Baltimore, MD|     39.29038|     -76.61219|     288|     3|     10|        0|               N|       0|          67|           0|       0|            0|                0|\n",
      "|2008|    1|         5|        6|   1544|      1515|   1654|      1630|           WN|     3046| N723SW|               70|            75|     56|      24|      29|   ALB|     Albany, NY|       42.65258|       -73.75623| BWI|  Baltimore, MD|     39.29038|     -76.61219|     288|     4|     10|        0|               N|       0|          11|           0|       0|            0|               13|\n",
      "|2008|    1|         5|        6|   1426|      1415|   1832|      1815|           WN|     1001| N366SW|              186|           180|    164|      17|      11|   AUS|     Austin, TX|       30.26715|       -97.74306| BWI|  Baltimore, MD|     39.29038|     -76.61219|    1342|     4|     18|        0|               N|       0|           0|           0|       6|            0|               11|\n",
      "|2008|    1|         5|        6|   1806|      1750|   2047|      2040|           WN|     2036| N614SW|              101|           110|     88|       7|      16|   BHM| Birmingham, AL|       33.52066|       -86.80249| BWI|  Baltimore, MD|     39.29038|     -76.61219|     682|     3|     10|        0|               N|       0|        null|        null|    null|         null|             null|\n",
      "|2008|    1|         5|        6|   1508|      1425|   1719|      1655|           WN|      644| N737JW|              251|           270|    237|      24|      43|   BWI|  Baltimore, MD|       39.29038|       -76.61219| ABQ|Albuquerque, NM|     35.08449|    -106.65114|    1670|     5|      9|        0|               N|       0|           8|           0|       0|            0|               16|\n",
      "|2008|    1|         5|        6|   1808|      1755|   1909|      1905|           WN|      236| N708SA|               61|            70|     49|       4|      13|   BWI|  Baltimore, MD|       39.29038|       -76.61219| ALB|     Albany, NY|     42.65258|     -73.75623|     288|     3|      9|        0|               N|       0|        null|        null|    null|         null|             null|\n",
      "|2008|    1|         5|        6|   1359|      1340|   1506|      1450|           WN|      323| N723SW|               67|            70|     53|      16|      19|   BWI|  Baltimore, MD|       39.29038|       -76.61219| ALB|     Albany, NY|     42.65258|     -73.75623|     288|     3|     11|        0|               N|       0|           6|           0|       0|            0|               10|\n",
      "|2008|    1|         5|        6|   1433|      1420|   1700|      1710|           WN|      160| N264LV|              207|           230|    196|     -10|      13|   BWI|  Baltimore, MD|       39.29038|       -76.61219| AUS|     Austin, TX|     30.26715|     -97.74306|    1342|     4|      7|        0|               N|       0|        null|        null|    null|         null|             null|\n",
      "|2008|    1|         5|        6|   1814|      1805|   1910|      1915|           WN|      623| N624SW|              116|           130|    105|      -5|       9|   BWI|  Baltimore, MD|       39.29038|       -76.61219| BHM| Birmingham, AL|     33.52066|     -86.80249|     682|     4|      7|        0|               N|       0|        null|        null|    null|         null|             null|\n",
      "+----+-----+----------+---------+-------+----------+-------+----------+-------------+---------+-------+-----------------+--------------+-------+--------+--------+------+---------------+---------------+----------------+----+---------------+-------------+--------------+--------+------+-------+---------+----------------+--------+------------+------------+--------+-------------+-----------------+\n",
      "only showing top 20 rows\n",
      "\n",
      "--- 0.7157318592071533 seconds ---\n"
     ]
    }
   ],
   "source": [
    "# Run the same query with a Broadcast hint for either table\n",
    " \n",
    "start_time = time.time()\n",
    "\n",
    "spark.sql(\"\"\"\n",
    "select /*+ BROADCAST(lookup_geo) */ \n",
    "a.Year,\n",
    "a.Month,\n",
    "a.DayofMonth,\n",
    "a.DayOfWeek,\n",
    "a.DepTime,\n",
    "a.CRSDepTime,\n",
    "a.ArrTime,\n",
    "a.CRSArrTime,\n",
    "a.UniqueCarrier,\n",
    "a.FlightNum,\n",
    "a.TailNum,\n",
    "a.ActualElapsedTime,\n",
    "a.CRSElapsedTime,\n",
    "a.AirTime,\n",
    "a.ArrDelay,\n",
    "a.DepDelay,\n",
    "a.Origin,\n",
    "b.City as Origin_City,\n",
    "geo.latitude as Origin_latitude,\n",
    "geo.longitude as Origin_longitude,\n",
    "a.Dest,\n",
    "c.City as Dest_City,\n",
    "geo_dest.latitude as Dest_latitude,\n",
    "geo_dest.longitude as Dest_longitude,\n",
    "a.Distance,\n",
    "a.TaxiIn,\n",
    "a.TaxiOut,\n",
    "a.Cancelled,\n",
    "a.CancellationCode,\n",
    "a.Diverted,\n",
    "a.CarrierDelay,\n",
    "a.WeatherDelay,\n",
    "a.NASDelay,\n",
    "a.SecurityDelay,\n",
    "a.LateAircraftDelay from  delayed a \n",
    "  inner join lookup_city b\n",
    "    on a.Origin=b.airportCode\n",
    "  inner join lookup_city c\n",
    "    on a.Dest=c.airportCode\n",
    "  inner join lookup_geo geo\n",
    "on split(b.City,',')[0]=geo.name\n",
    "     and trim(split(b.City,',')[1])=geo.admin1_code\n",
    "  inner join lookup_geo geo_dest\n",
    "    on c.City=concat(geo_dest.name,', ',geo_dest.admin1_code)\n",
    "\"\"\").show()\n",
    "print(\"--- %s seconds ---\" % (time.time() - start_time))"
   ]
  },
  {
   "cell_type": "code",
   "execution_count": 14,
   "metadata": {
    "colab": {
     "base_uri": "https://localhost:8080/"
    },
    "id": "fhgb2iFihRbW",
    "outputId": "6f9a0629-bdec-4f50-dbd4-cdb5a15aad68"
   },
   "outputs": [
    {
     "name": "stdout",
     "output_type": "stream",
     "text": [
      "23/02/08 13:19:42 WARN HintErrorLogger: Count not find relation 'lookup_geo' specified in hint 'BROADCAST(lookup_geo)'.\n"
     ]
    },
    {
     "name": "stderr",
     "output_type": "stream",
     "text": [
      "[Stage 27:=======>                                                  (1 + 7) / 8]\r"
     ]
    },
    {
     "name": "stdout",
     "output_type": "stream",
     "text": [
      "+-----------------+------------------+\n",
      "|      Origin_City|   avgCarrierDelay|\n",
      "+-----------------+------------------+\n",
      "|     Amarillo, TX|             29.75|\n",
      "|    Allentown, PA| 45.73529411764706|\n",
      "|    Asheville, NC| 37.00854700854701|\n",
      "|  Bloomington, IL| 26.61576354679803|\n",
      "|      Atlanta, GA| 26.44772910507928|\n",
      "|       Bangor, ME| 38.35087719298246|\n",
      "|      Augusta, GA|30.810526315789474|\n",
      "|  Albuquerque, NM|14.058823529411764|\n",
      "|       Austin, TX|24.712374581939798|\n",
      "|  Baton Rouge, LA| 50.08943089430894|\n",
      "|    Baltimore, MD| 13.77671451355662|\n",
      "|       Albany, GA| 37.48543689320388|\n",
      "|       Albany, NY|17.555900621118013|\n",
      "|       Boston, MA|14.291417165668662|\n",
      "|        Akron, OH| 20.93778801843318|\n",
      "|Atlantic City, NJ|             106.3|\n",
      "|   Birmingham, AL|17.817460317460316|\n",
      "|     Appleton, WI|36.542857142857144|\n",
      "|   Alexandria, LA| 37.52252252252252|\n",
      "|    Anchorage, AK| 24.08955223880597|\n",
      "+-----------------+------------------+\n",
      "only showing top 20 rows\n",
      "\n",
      "--- 2.2673869132995605 seconds ---\n"
     ]
    },
    {
     "name": "stderr",
     "output_type": "stream",
     "text": [
      "                                                                                \r"
     ]
    }
   ],
   "source": [
    "# Run a SQL query using a CTE here that does some aggregations on the new data.  \n",
    "# The purpose of this SQL is to add some processing time.\n",
    "# Note the runtime\n",
    "start_time = time.time()\n",
    "\n",
    "spark.sql(\"\"\"\n",
    "with allColumns\n",
    "(select /*+ BROADCAST(lookup_geo) */ \n",
    "a.Year,\n",
    "a.Month,\n",
    "a.DayofMonth,\n",
    "a.DayOfWeek,\n",
    "a.DepTime,\n",
    "a.CRSDepTime,\n",
    "a.ArrTime,\n",
    "a.CRSArrTime,\n",
    "a.UniqueCarrier,\n",
    "a.FlightNum,\n",
    "a.TailNum,\n",
    "a.ActualElapsedTime,\n",
    "a.CRSElapsedTime,\n",
    "a.AirTime,\n",
    "a.ArrDelay,\n",
    "a.DepDelay,\n",
    "a.Origin,\n",
    "b.City as Origin_City,\n",
    "geo.latitude as Origin_latitude,\n",
    "geo.longitude as Origin_longitude,\n",
    "a.Dest,\n",
    "c.City as Dest_City,\n",
    "geo_dest.latitude as Dest_latitude,\n",
    "geo_dest.longitude as Dest_longitude,\n",
    "a.Distance,\n",
    "a.TaxiIn,\n",
    "a.TaxiOut,\n",
    "a.Cancelled,\n",
    "a.CancellationCode,\n",
    "a.Diverted,\n",
    "a.CarrierDelay,\n",
    "a.WeatherDelay,\n",
    "a.NASDelay,\n",
    "a.SecurityDelay,\n",
    "a.LateAircraftDelay from  delayed a \n",
    "  inner join lookup_city b\n",
    "    on a.Origin=b.airportCode\n",
    "  inner join lookup_city c\n",
    "    on a.Dest=c.airportCode\n",
    "  inner join lookup_geo geo\n",
    "on split(b.City,',')[0]=geo.name\n",
    "     and trim(split(b.City,',')[1])=geo.admin1_code\n",
    "  inner join lookup_geo geo_dest\n",
    "    on c.City=concat(geo_dest.name,', ',geo_dest.admin1_code)\n",
    ")\n",
    "select Origin_City, avg(CarrierDelay) avgCarrierDelay from allColumns group by 1\n",
    "\"\"\").show()\n",
    "\n",
    "print(\"--- %s seconds ---\" % (time.time() - start_time))"
   ]
  },
  {
   "cell_type": "code",
   "execution_count": 15,
   "metadata": {
    "colab": {
     "base_uri": "https://localhost:8080/"
    },
    "id": "mPR_2uq0vdyt",
    "outputId": "2b14108d-7109-43d8-fec1-641a834e2cdd"
   },
   "outputs": [
    {
     "name": "stderr",
     "output_type": "stream",
     "text": [
      "                                                                                \r"
     ]
    },
    {
     "data": {
      "text/plain": [
       "DataFrame[]"
      ]
     },
     "execution_count": 15,
     "metadata": {},
     "output_type": "execute_result"
    }
   ],
   "source": [
    "# Cache your largest temporary view\n",
    "# Note: when we use SparkSQL to cache a table, the table is immediately cached (no lazy evaluation), when using Pyspark it will not be cached until an action is ran.\n",
    "spark.sql(\"cache table delayed\")"
   ]
  },
  {
   "cell_type": "code",
   "execution_count": 16,
   "metadata": {
    "colab": {
     "base_uri": "https://localhost:8080/"
    },
    "id": "eodqtIHByC2J",
    "outputId": "18a83da9-1a23-4b39-f809-5d74f9ad5392"
   },
   "outputs": [
    {
     "data": {
      "text/plain": [
       "True"
      ]
     },
     "execution_count": 16,
     "metadata": {},
     "output_type": "execute_result"
    }
   ],
   "source": [
    "# Check that your table is cached \n",
    "spark.catalog.isCached(\"delayed\")"
   ]
  },
  {
   "cell_type": "code",
   "execution_count": 17,
   "metadata": {
    "colab": {
     "base_uri": "https://localhost:8080/"
    },
    "id": "fkSFfoBYwgSI",
    "outputId": "30a68c38-2554-400e-a778-f3846149432b"
   },
   "outputs": [
    {
     "name": "stdout",
     "output_type": "stream",
     "text": [
      "23/02/08 13:19:49 WARN HintErrorLogger: Count not find relation 'lookup_geo' specified in hint 'BROADCAST(lookup_geo)'.\n",
      "+-----------------+------------------+\n",
      "|      Origin_City|          avgDelay|\n",
      "+-----------------+------------------+\n",
      "|     Amarillo, TX|              63.3|\n",
      "|    Allentown, PA| 50.94957983193277|\n",
      "|    Asheville, NC|58.392405063291136|\n",
      "|  Bloomington, IL| 46.89930555555556|\n",
      "|      Atlanta, GA| 37.90491635370434|\n",
      "|       Bangor, ME| 50.27329192546584|\n",
      "|      Augusta, GA| 55.65714285714286|\n",
      "|  Albuquerque, NM| 32.54347826086956|\n",
      "|       Austin, TX|       37.19140625|\n",
      "|  Baton Rouge, LA|          65.50625|\n",
      "|    Baltimore, MD|  39.0767004341534|\n",
      "|       Albany, GA| 50.25352112676056|\n",
      "|       Albany, NY| 39.14365671641791|\n",
      "|       Boston, MA| 47.71041369472183|\n",
      "|        Akron, OH|55.928196147110334|\n",
      "|Atlantic City, NJ| 64.64285714285714|\n",
      "|   Birmingham, AL| 43.17042606516291|\n",
      "|     Appleton, WI| 42.99324324324324|\n",
      "|   Alexandria, LA|50.947712418300654|\n",
      "|    Anchorage, AK| 37.14423076923077|\n",
      "+-----------------+------------------+\n",
      "only showing top 20 rows\n",
      "\n",
      "--- 1.0113098621368408 seconds ---\n"
     ]
    }
   ],
   "source": [
    "# Run the same query again with the data cached. This should greatly improve the run time.  \n",
    "# Keep in mind we are not working with particularly large data here so the improvements may not be dramatic.\n",
    "\n",
    "start_time = time.time()\n",
    "\n",
    "spark.sql(\"\"\"\n",
    "with allColumns\n",
    "(select /*+ BROADCAST(lookup_geo) */ \n",
    "a.Year,\n",
    "a.Month,\n",
    "a.DayofMonth,\n",
    "a.DayOfWeek,\n",
    "a.DepTime,\n",
    "a.CRSDepTime,\n",
    "a.ArrTime,\n",
    "a.CRSArrTime,\n",
    "a.UniqueCarrier,\n",
    "a.FlightNum,\n",
    "a.TailNum,\n",
    "a.ActualElapsedTime,\n",
    "a.CRSElapsedTime,\n",
    "a.AirTime,\n",
    "a.ArrDelay,\n",
    "a.DepDelay,\n",
    "a.Origin,\n",
    "b.City as Origin_City,\n",
    "geo.latitude as Origin_latitude,\n",
    "geo.longitude as Origin_longitude,\n",
    "a.Dest,\n",
    "c.City as Dest_City,\n",
    "geo_dest.latitude as Dest_latitude,\n",
    "geo_dest.longitude as Dest_longitude,\n",
    "a.Distance,\n",
    "a.TaxiIn,\n",
    "a.TaxiOut,\n",
    "a.Cancelled,\n",
    "a.CancellationCode,\n",
    "a.Diverted,\n",
    "a.CarrierDelay,\n",
    "a.WeatherDelay,\n",
    "a.NASDelay,\n",
    "a.SecurityDelay,\n",
    "a.LateAircraftDelay from  delayed a \n",
    "  inner join lookup_city b\n",
    "    on a.Origin=b.airportCode\n",
    "  inner join lookup_city c\n",
    "    on a.Dest=c.airportCode\n",
    "  inner join lookup_geo geo\n",
    "on split(b.City,',')[0]=geo.name\n",
    "     and trim(split(b.City,',')[1])=geo.admin1_code\n",
    "  inner join lookup_geo geo_dest\n",
    "    on c.City=concat(geo_dest.name,', ',geo_dest.admin1_code)\n",
    ")\n",
    "select Origin_City, avg(ArrDelay) avgDelay from allColumns group by 1\n",
    "\"\"\").show()\n",
    "\n",
    "print(\"--- %s seconds ---\" % (time.time() - start_time))\n"
   ]
  },
  {
   "cell_type": "code",
   "execution_count": 18,
   "metadata": {
    "colab": {
     "base_uri": "https://localhost:8080/"
    },
    "id": "QfvIwCCChuvc",
    "outputId": "4a54f944-896c-4a16-d1e4-c052524026d5"
   },
   "outputs": [
    {
     "data": {
      "text/plain": [
       "DataFrame[]"
      ]
     },
     "execution_count": 18,
     "metadata": {},
     "output_type": "execute_result"
    }
   ],
   "source": [
    "# Cache the lookup table.\n",
    "spark.sql(\"cache table lookup_geo\")"
   ]
  },
  {
   "cell_type": "code",
   "execution_count": 19,
   "metadata": {
    "colab": {
     "base_uri": "https://localhost:8080/"
    },
    "id": "31NhqcGgh7HG",
    "outputId": "5529e708-9651-41a7-bbf3-4a78e11c4834"
   },
   "outputs": [
    {
     "name": "stdout",
     "output_type": "stream",
     "text": [
      "23/02/08 13:19:51 WARN HintErrorLogger: Count not find relation 'lookup_geo' specified in hint 'BROADCAST(lookup_geo)'.\n",
      "+-----------------+------------------+\n",
      "|      Origin_City|          avgDelay|\n",
      "+-----------------+------------------+\n",
      "|     Amarillo, TX|              63.3|\n",
      "|    Allentown, PA| 50.94957983193277|\n",
      "|    Asheville, NC|58.392405063291136|\n",
      "|  Bloomington, IL| 46.89930555555556|\n",
      "|      Atlanta, GA| 37.90491635370434|\n",
      "|       Bangor, ME| 50.27329192546584|\n",
      "|      Augusta, GA| 55.65714285714286|\n",
      "|  Albuquerque, NM| 32.54347826086956|\n",
      "|       Austin, TX|       37.19140625|\n",
      "|  Baton Rouge, LA|          65.50625|\n",
      "|    Baltimore, MD|  39.0767004341534|\n",
      "|       Albany, GA| 50.25352112676056|\n",
      "|       Albany, NY| 39.14365671641791|\n",
      "|       Boston, MA| 47.71041369472183|\n",
      "|        Akron, OH|55.928196147110334|\n",
      "|Atlantic City, NJ| 64.64285714285714|\n",
      "|   Birmingham, AL| 43.17042606516291|\n",
      "|     Appleton, WI| 42.99324324324324|\n",
      "|   Alexandria, LA|50.947712418300654|\n",
      "|    Anchorage, AK| 37.14423076923077|\n",
      "+-----------------+------------------+\n",
      "only showing top 20 rows\n",
      "\n",
      "--- 0.7671160697937012 seconds ---\n"
     ]
    }
   ],
   "source": [
    "# Run the same query again with the data cached. This should greatly improve the run time.\n",
    "\n",
    "start_time = time.time()\n",
    "\n",
    "spark.sql(\"\"\"\n",
    "with allColumns\n",
    "(select /*+ BROADCAST(lookup_geo) */ \n",
    "a.Year,\n",
    "a.Month,\n",
    "a.DayofMonth,\n",
    "a.DayOfWeek,\n",
    "a.DepTime,\n",
    "a.CRSDepTime,\n",
    "a.ArrTime,\n",
    "a.CRSArrTime,\n",
    "a.UniqueCarrier,\n",
    "a.FlightNum,\n",
    "a.TailNum,\n",
    "a.ActualElapsedTime,\n",
    "a.CRSElapsedTime,\n",
    "a.AirTime,\n",
    "a.ArrDelay,\n",
    "a.DepDelay,\n",
    "a.Origin,\n",
    "b.City as Origin_City,\n",
    "geo.latitude as Origin_latitude,\n",
    "geo.longitude as Origin_longitude,\n",
    "a.Dest,\n",
    "c.City as Dest_City,\n",
    "geo_dest.latitude as Dest_latitude,\n",
    "geo_dest.longitude as Dest_longitude,\n",
    "a.Distance,\n",
    "a.TaxiIn,\n",
    "a.TaxiOut,\n",
    "a.Cancelled,\n",
    "a.CancellationCode,\n",
    "a.Diverted,\n",
    "a.CarrierDelay,\n",
    "a.WeatherDelay,\n",
    "a.NASDelay,\n",
    "a.SecurityDelay,\n",
    "a.LateAircraftDelay from  delayed a \n",
    "  inner join lookup_city b\n",
    "    on a.Origin=b.airportCode\n",
    "  inner join lookup_city c\n",
    "    on a.Dest=c.airportCode\n",
    "  inner join lookup_geo geo\n",
    "on split(b.City,',')[0]=geo.name\n",
    "     and trim(split(b.City,',')[1])=geo.admin1_code\n",
    "  inner join lookup_geo geo_dest\n",
    "    on c.City=concat(geo_dest.name,', ',geo_dest.admin1_code)\n",
    ")\n",
    "select Origin_City, avg(ArrDelay) avgDelay from allColumns group by 1\n",
    "\"\"\").show()\n",
    "\n",
    "print(\"--- %s seconds ---\" % (time.time() - start_time))"
   ]
  },
  {
   "cell_type": "code",
   "execution_count": 20,
   "metadata": {
    "colab": {
     "base_uri": "https://localhost:8080/"
    },
    "id": "3P82CRVDxk7s",
    "outputId": "146595b7-8c2f-4530-921f-ba16b9ce0a1d"
   },
   "outputs": [
    {
     "data": {
      "text/plain": [
       "DataFrame[]"
      ]
     },
     "execution_count": 20,
     "metadata": {},
     "output_type": "execute_result"
    }
   ],
   "source": [
    "# Remember to uncache the table as soon as you are done.\n",
    "spark.sql(\"uncache table delayed\")\n",
    "spark.sql(\"uncache table lookup_geo\")"
   ]
  },
  {
   "cell_type": "code",
   "execution_count": 21,
   "metadata": {
    "colab": {
     "base_uri": "https://localhost:8080/"
    },
    "id": "aHEPdkk_x0Ep",
    "outputId": "9cef5639-6122-4aba-f8e8-29de952eccad"
   },
   "outputs": [
    {
     "name": "stdout",
     "output_type": "stream",
     "text": [
      "all clear\n"
     ]
    }
   ],
   "source": [
    "# Verify that the table is no longer cached\n",
    "if spark.catalog.isCached(\"delayed\") or spark.catalog.isCached(\"lookup_geo\"):\n",
    "  print(\"a table is till cached\")\n",
    "else:\n",
    "  print(\"all clear\")"
   ]
  },
  {
   "cell_type": "markdown",
   "metadata": {},
   "source": [
    "# =========================================="
   ]
  },
  {
   "cell_type": "markdown",
   "metadata": {},
   "source": [
    "### Rating Class Objectives\n",
    "\n",
    "* rate your understanding using 1-5 method in each objective"
   ]
  },
  {
   "cell_type": "code",
   "execution_count": null,
   "metadata": {},
   "outputs": [],
   "source": [
    "title = \"22.3-Big-Data-Optimizing Spark: Storage, Partitioning, and Caching\"\n",
    "objectives = [\n",
    "    \"Compare the file storage types (other than tabular) that work the best for Spark\",\n",
    "    \"Understand how partitioning affects Spark performance\",\n",
    "    \"Explain the cause of shuffling and limit it when possible\",\n",
    "    \"Identify when caching is the best option\",\n",
    "    \"Explain how to broadcast a lookup table, and force it when it doesn't happen automatically\",\n",
    "    \"Set the shuffle partitions to an appropriate value and demonstrate how to cache data\",\n",
    "]\n",
    "rating = []\n",
    "total = 0\n",
    "for i in range(len(objectives)):\n",
    "    rate = input(objectives[i]+\"? \")\n",
    "    total += int(rate)\n",
    "    rating.append(objectives[i] + \". (\" + rate + \"/5)\")\n",
    "print(\"=\"*96)\n",
    "print(f\"Self Evaluation for: {title}\")\n",
    "print(\"-\"*24)\n",
    "for i in rating:\n",
    "    print(i)\n",
    "print(\"-\"*64)\n",
    "print(\"Average: \" + str(total/len(objectives)))"
   ]
  }
 ],
 "metadata": {
  "kernelspec": {
   "display_name": "Python [conda env:DataClass]",
   "language": "python",
   "name": "conda-env-DataClass-py"
  },
  "language_info": {
   "codemirror_mode": {
    "name": "ipython",
    "version": 3
   },
   "file_extension": ".py",
   "mimetype": "text/x-python",
   "name": "python",
   "nbconvert_exporter": "python",
   "pygments_lexer": "ipython3",
   "version": "3.9.18"
  }
 },
 "nbformat": 4,
 "nbformat_minor": 4
}
